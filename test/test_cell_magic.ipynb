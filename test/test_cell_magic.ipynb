{
 "cells": [
  {
   "cell_type": "markdown",
   "id": "6b8b2199",
   "metadata": {},
   "source": [
    "# Cell Magic"
   ]
  },
  {
   "cell_type": "markdown",
   "id": "6b6423f1",
   "metadata": {},
   "source": [
    "---\n",
    "**%%host**\n",
    "\n",
    "---"
   ]
  },
  {
   "cell_type": "code",
   "execution_count": 2,
   "id": "50277df0",
   "metadata": {},
   "outputs": [
    {
     "name": "stdout",
     "output_type": "stream",
     "text": [
      "linux\n"
     ]
    }
   ],
   "source": [
    "%%host\n",
    "import sys\n",
    "print(sys.platform)"
   ]
  },
  {
   "cell_type": "markdown",
   "id": "9e7b8dfa",
   "metadata": {},
   "source": [
    "---\n",
    "**%%connect**\n",
    "\n",
    "---"
   ]
  },
  {
   "cell_type": "code",
   "execution_count": 2,
   "id": "2dd7d21e",
   "metadata": {},
   "outputs": [
    {
     "name": "stdout",
     "output_type": "stream",
     "text": [
      "\u001b[46m\u001b[30m\n",
      "----- HOST\n",
      "\u001b[0m\n",
      "darwin\n",
      "\u001b[46m\u001b[30m\n",
      "----- bt32\n",
      "\u001b[0m\n",
      "e\u001b[0mesp32\n",
      "\u001b[0m"
     ]
    }
   ],
   "source": [
    "%%connect --host --all\n",
    "import sys\n",
    "print(sys.platform)"
   ]
  },
  {
   "cell_type": "code",
   "execution_count": 2,
   "id": "dc7887ff",
   "metadata": {},
   "outputs": [
    {
     "name": "stdout",
     "output_type": "stream",
     "text": [
      "\u001b[46m\u001b[30m\n",
      "----- bt32\n",
      "\u001b[0m\n",
      "e\u001b[0mesp32\n",
      "\u001b[0m"
     ]
    }
   ],
   "source": [
    "%%connect bt32\n",
    "import sys\n",
    "print(sys.platform)"
   ]
  },
  {
   "cell_type": "code",
   "execution_count": 2,
   "id": "4c60ea63",
   "metadata": {},
   "outputs": [
    {
     "name": "stdout",
     "output_type": "stream",
     "text": [
      "e\u001b[0mesp32\n",
      "\u001b[0m"
     ]
    }
   ],
   "source": [
    "%%connect\n",
    "import sys\n",
    "print(sys.platform)"
   ]
  },
  {
   "cell_type": "markdown",
   "id": "55eda3c5",
   "metadata": {},
   "source": [
    "---\n",
    "**%%bash**\n",
    "\n",
    "---"
   ]
  },
  {
   "cell_type": "code",
   "execution_count": 3,
   "id": "74c52824",
   "metadata": {},
   "outputs": [
    {
     "name": "stdout",
     "output_type": "stream",
     "text": [
      "loop 1\u001b[0m\n",
      "loop 2\u001b[0m\n",
      "loop 3\u001b[0m\n"
     ]
    }
   ],
   "source": [
    "# shows output progressively \n",
    "%%bash\n",
    "\n",
    "for i in {1..3}\n",
    "do\n",
    "    echo loop $i\n",
    "    sleep 1\n",
    "done"
   ]
  },
  {
   "cell_type": "code",
   "execution_count": 3,
   "id": "ff6f2b38",
   "metadata": {},
   "outputs": [
    {
     "name": "stdout",
     "output_type": "stream",
     "text": [
      "loop 1\n",
      "loop 2\n",
      "loop 3\n"
     ]
    }
   ],
   "source": [
    "# shows output on completion\n",
    "%%script bash\n",
    "\n",
    "for i in {1..3}\n",
    "do\n",
    "    echo loop $i\n",
    "    sleep 1\n",
    "done"
   ]
  },
  {
   "cell_type": "code",
   "execution_count": 31,
   "id": "676fb638",
   "metadata": {},
   "outputs": [
    {
     "name": "stdout",
     "output_type": "stream",
     "text": [
      "a=this is a!\n",
      "b=55\n"
     ]
    }
   ],
   "source": [
    "# but has extra features\n",
    "%%host\n",
    "a = 'this is a!'\n",
    "b = 55\n",
    "\n",
    "%%script bash -s \"{a}\" \"{b}\"\n",
    "\n",
    "echo a=$1\n",
    "echo b=$2"
   ]
  },
  {
   "cell_type": "code",
   "execution_count": null,
   "id": "32367945",
   "metadata": {},
   "outputs": [],
   "source": []
  }
 ],
 "metadata": {
  "kernelspec": {
   "display_name": "IoT",
   "language": "python",
   "name": "iot_kernel"
  },
  "language_info": {
   "codemirror_mode": {
    "name": "python",
    "version": 3
   },
   "file_extension": ".py",
   "mimetype": "text/x-python",
   "name": "python",
   "pygments_lexer": "python3",
   "version": "3"
  }
 },
 "nbformat": 4,
 "nbformat_minor": 5
}
