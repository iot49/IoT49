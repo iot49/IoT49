{
 "cells": [
  {
   "cell_type": "markdown",
   "metadata": {},
   "source": [
    "# uRPC"
   ]
  },
  {
   "cell_type": "code",
   "execution_count": 1,
   "metadata": {},
   "outputs": [
    {
     "name": "stdout",
     "output_type": "stream",
     "text": [
      "\u001b[0mtest-argon  mp://10.39.40.140:54321              \u001b[0m\n",
      "test-esp32  ws://10.39.40.135:8266               \u001b[0m\n",
      "test-esp32  serial:///dev/cu.usbserial-0160B5B8  \u001b[0m\n",
      "\u001b[0mConnected to test-argon @ mp://10.39.40.140:54321\u001b[0m\n"
     ]
    }
   ],
   "source": [
    "%discover\n",
    "%connect test-argon mp"
   ]
  },
  {
   "cell_type": "markdown",
   "metadata": {},
   "source": [
    "## Example Usage\n",
    "\n",
    "The primary objective of the Airlift library is accesing networking features on the server. This is implemented with RPC calls from the client to the server.\n",
    "\n",
    "Although presumably of limited usefulness, the uRPC library can also be used directly."
   ]
  },
  {
   "cell_type": "code",
   "execution_count": 1,
   "metadata": {},
   "outputs": [
    {
     "name": "stdout",
     "output_type": "stream",
     "text": [
      "V\u001b[0m1\u001b[0m\n",
      "\u001b[0m"
     ]
    }
   ],
   "source": [
    "from urpc import *\n",
    "print(version_())"
   ]
  },
  {
   "cell_type": "code",
   "execution_count": 1,
   "metadata": {},
   "outputs": [
    {
     "name": "stdout",
     "output_type": "stream",
     "text": [
      "(\u001b[0m1\u001b[0m,\u001b[0m \u001b[0m2\u001b[0m,\u001b[0m \u001b[0m4\u001b[0m,\u001b[0m \u001b[0m7\u001b[0m)\u001b[0m\n",
      "\u001b[0m1\u001b[0m0\u001b[0m.\u001b[0m0\u001b[0m\n",
      "\u001b[0m"
     ]
    }
   ],
   "source": [
    "# import_(...) imports modules on the server.\n",
    "# They can be used on the client as usual.\n",
    "\n",
    "builtins_ = import_('builtins')\n",
    "print(builtins_.sorted([4, 2, 7, 1]))\n",
    "\n",
    "math_ = import_('math')\n",
    "print(math_.log2(1024))"
   ]
  },
  {
   "cell_type": "code",
   "execution_count": null,
   "metadata": {},
   "outputs": [],
   "source": [
    "# use get_(...) to access attributes\n",
    "\n",
    "sys_ = import_('sys')\n",
    "import sys\n",
    "\n",
    "print(\"server:\", sys_.get_('platform'))\n",
    "print(\"client:\", sys.platform)"
   ]
  },
  {
   "cell_type": "code",
   "execution_count": 1,
   "metadata": {},
   "outputs": [
    {
     "name": "stdout",
     "output_type": "stream",
     "text": [
      "o\u001b[0mu\u001b[0mt\u001b[0mp\u001b[0mu\u001b[0mt\u001b[0m \u001b[0mf\u001b[0mr\u001b[0mo\u001b[0mm\u001b[0m \u001b[0mp\u001b[0mr\u001b[0mi\u001b[0mn\u001b[0mt\u001b[0m \u001b[0mf\u001b[0mo\u001b[0mr\u001b[0mw\u001b[0ma\u001b[0mr\u001b[0md\u001b[0me\u001b[0md\u001b[0m \u001b[0mt\u001b[0mo\u001b[0m \u001b[0mh\u001b[0mo\u001b[0ms\u001b[0mt\u001b[0m:\u001b[0m \u001b[0m \u001b[0me\u001b[0ms\u001b[0mp\u001b[0m3\u001b[0m2\u001b[0m\n",
      "\u001b[0mp\u001b[0mr\u001b[0mi\u001b[0mn\u001b[0mt\u001b[0m \u001b[0mo\u001b[0mn\u001b[0m \u001b[0mh\u001b[0mo\u001b[0ms\u001b[0mt\u001b[0m \u001b[0mw\u001b[0mo\u001b[0mr\u001b[0mk\u001b[0ms\u001b[0m,\u001b[0m \u001b[0mo\u001b[0mf\u001b[0m \u001b[0mc\u001b[0mo\u001b[0mu\u001b[0mr\u001b[0ms\u001b[0me\u001b[0m:\u001b[0m \u001b[0m \u001b[0m \u001b[0m \u001b[0m \u001b[0m \u001b[0m \u001b[0mn\u001b[0mR\u001b[0mF\u001b[0m5\u001b[0m2\u001b[0m8\u001b[0m4\u001b[0m0\u001b[0m\n",
      "\u001b[0m"
     ]
    }
   ],
   "source": [
    "# execute arbitrary code on the server\n",
    "\n",
    "exec_(\"import sys;  print('output from print forwarded to host: ', sys.platform)\")\n",
    "exec (\"import sys;  print('print on host works, of course:      ', sys.platform)\")"
   ]
  },
  {
   "cell_type": "code",
   "execution_count": 1,
   "metadata": {},
   "outputs": [
    {
     "name": "stdout",
     "output_type": "stream",
     "text": [
      "e\u001b[0mr\u001b[0mr\u001b[0mo\u001b[0mr\u001b[0m \u001b[0mm\u001b[0me\u001b[0ms\u001b[0ms\u001b[0ma\u001b[0mg\u001b[0me\u001b[0m:\u001b[0m \u001b[0md\u001b[0mi\u001b[0mv\u001b[0mi\u001b[0md\u001b[0me\u001b[0m \u001b[0mb\u001b[0my\u001b[0m \u001b[0mz\u001b[0me\u001b[0mr\u001b[0mo\u001b[0m\n",
      "\u001b[0mT\u001b[0mr\u001b[0ma\u001b[0mc\u001b[0me\u001b[0mb\u001b[0ma\u001b[0mc\u001b[0mk\u001b[0m \u001b[0m(\u001b[0mm\u001b[0mo\u001b[0ms\u001b[0mt\u001b[0m \u001b[0mr\u001b[0me\u001b[0mc\u001b[0me\u001b[0mn\u001b[0mt\u001b[0m \u001b[0mc\u001b[0ma\u001b[0ml\u001b[0ml\u001b[0m \u001b[0ml\u001b[0ma\u001b[0ms\u001b[0mt\u001b[0m)\u001b[0m:\u001b[0m\n",
      "\u001b[0m \u001b[0m \u001b[0mF\u001b[0mi\u001b[0ml\u001b[0me\u001b[0m \u001b[0m\"\u001b[0m/\u001b[0ml\u001b[0mi\u001b[0mb\u001b[0m/\u001b[0mu\u001b[0mr\u001b[0mp\u001b[0mc\u001b[0m_\u001b[0ms\u001b[0me\u001b[0mr\u001b[0mv\u001b[0me\u001b[0mr\u001b[0m/\u001b[0ma\u001b[0ms\u001b[0my\u001b[0mn\u001b[0mc\u001b[0m_\u001b[0ms\u001b[0me\u001b[0mr\u001b[0mv\u001b[0me\u001b[0mr\u001b[0m.\u001b[0mp\u001b[0my\u001b[0m\"\u001b[0m,\u001b[0m \u001b[0ml\u001b[0mi\u001b[0mn\u001b[0me\u001b[0m \u001b[0m1\u001b[0m1\u001b[0m8\u001b[0m,\u001b[0m \u001b[0mi\u001b[0mn\u001b[0m \u001b[0ma\u001b[0ms\u001b[0my\u001b[0mn\u001b[0mc\u001b[0m_\u001b[0ms\u001b[0me\u001b[0mr\u001b[0mv\u001b[0me\u001b[0m\n",
      "\u001b[0m \u001b[0m \u001b[0mF\u001b[0mi\u001b[0ml\u001b[0me\u001b[0m \u001b[0m\"\u001b[0m/\u001b[0ml\u001b[0mi\u001b[0mb\u001b[0m/\u001b[0mu\u001b[0mr\u001b[0mp\u001b[0mc\u001b[0m_\u001b[0ms\u001b[0me\u001b[0mr\u001b[0mv\u001b[0me\u001b[0mr\u001b[0m/\u001b[0ma\u001b[0ms\u001b[0my\u001b[0mn\u001b[0mc\u001b[0m_\u001b[0ms\u001b[0me\u001b[0mr\u001b[0mv\u001b[0me\u001b[0mr\u001b[0m.\u001b[0mp\u001b[0my\u001b[0m\"\u001b[0m,\u001b[0m \u001b[0ml\u001b[0mi\u001b[0mn\u001b[0me\u001b[0m \u001b[0m3\u001b[0m7\u001b[0m,\u001b[0m \u001b[0mi\u001b[0mn\u001b[0m \u001b[0me\u001b[0mx\u001b[0m\n",
      "\u001b[0m \u001b[0m \u001b[0mF\u001b[0mi\u001b[0ml\u001b[0me\u001b[0m \u001b[0m\"\u001b[0m<\u001b[0ms\u001b[0mt\u001b[0mr\u001b[0mi\u001b[0mn\u001b[0mg\u001b[0m>\u001b[0m\"\u001b[0m,\u001b[0m \u001b[0ml\u001b[0mi\u001b[0mn\u001b[0me\u001b[0m \u001b[0m1\u001b[0m,\u001b[0m \u001b[0mi\u001b[0mn\u001b[0m \u001b[0m<\u001b[0mm\u001b[0mo\u001b[0md\u001b[0mu\u001b[0ml\u001b[0me\u001b[0m>\u001b[0m\n",
      "\u001b[0mZ\u001b[0me\u001b[0mr\u001b[0mo\u001b[0mD\u001b[0mi\u001b[0mv\u001b[0mi\u001b[0ms\u001b[0mi\u001b[0mo\u001b[0mn\u001b[0mE\u001b[0mr\u001b[0mr\u001b[0mo\u001b[0mr\u001b[0m:\u001b[0m \u001b[0md\u001b[0mi\u001b[0mv\u001b[0mi\u001b[0md\u001b[0me\u001b[0m \u001b[0mb\u001b[0my\u001b[0m \u001b[0mz\u001b[0me\u001b[0mr\u001b[0mo\u001b[0m\n",
      "\u001b[0m\n",
      "\u001b[0m"
     ]
    }
   ],
   "source": [
    "# Exceptions are delegated to the client\n",
    "# args[-1] contains the traceback on the server\n",
    "\n",
    "try:\n",
    "    exec_(\"print('divide by 0', 5/0)\")\n",
    "except ZeroDivisionError as e:\n",
    "    print(\"error message:\", e.args[0])\n",
    "    print(e.args[-1])"
   ]
  },
  {
   "cell_type": "code",
   "execution_count": 1,
   "metadata": {},
   "outputs": [
    {
     "name": "stdout",
     "output_type": "stream",
     "text": [
      "r\u001b[0me\u001b[0mc\u001b[0mu\u001b[0mr\u001b[0ms\u001b[0me\u001b[0m \u001b[0m-\u001b[0m1\u001b[0m \u001b[0md\u001b[0mi\u001b[0mv\u001b[0mi\u001b[0md\u001b[0me\u001b[0m \u001b[0mb\u001b[0my\u001b[0m \u001b[0mz\u001b[0me\u001b[0mr\u001b[0mo\u001b[0m!\u001b[0m\n",
      "\u001b[0me\u001b[0mr\u001b[0mr\u001b[0mo\u001b[0mr\u001b[0m \u001b[0mm\u001b[0me\u001b[0ms\u001b[0ms\u001b[0ma\u001b[0mg\u001b[0me\u001b[0m:\u001b[0m \u001b[0md\u001b[0mi\u001b[0mv\u001b[0mi\u001b[0md\u001b[0me\u001b[0m \u001b[0mb\u001b[0my\u001b[0m \u001b[0mz\u001b[0me\u001b[0mr\u001b[0mo\u001b[0m\n",
      "\u001b[0mT\u001b[0mr\u001b[0ma\u001b[0mc\u001b[0me\u001b[0mb\u001b[0ma\u001b[0mc\u001b[0mk\u001b[0m \u001b[0m(\u001b[0mm\u001b[0mo\u001b[0ms\u001b[0mt\u001b[0m \u001b[0mr\u001b[0me\u001b[0mc\u001b[0me\u001b[0mn\u001b[0mt\u001b[0m \u001b[0mc\u001b[0ma\u001b[0ml\u001b[0ml\u001b[0m \u001b[0ml\u001b[0ma\u001b[0ms\u001b[0mt\u001b[0m)\u001b[0m:\u001b[0m\n",
      "\u001b[0m \u001b[0m \u001b[0mF\u001b[0mi\u001b[0ml\u001b[0me\u001b[0m \u001b[0m\"\u001b[0m/\u001b[0ml\u001b[0mi\u001b[0mb\u001b[0m/\u001b[0mu\u001b[0mr\u001b[0mp\u001b[0mc\u001b[0m_\u001b[0ms\u001b[0me\u001b[0mr\u001b[0mv\u001b[0me\u001b[0mr\u001b[0m/\u001b[0ma\u001b[0ms\u001b[0my\u001b[0mn\u001b[0mc\u001b[0m_\u001b[0ms\u001b[0me\u001b[0mr\u001b[0mv\u001b[0me\u001b[0mr\u001b[0m.\u001b[0mp\u001b[0my\u001b[0m\"\u001b[0m,\u001b[0m \u001b[0ml\u001b[0mi\u001b[0mn\u001b[0me\u001b[0m \u001b[0m1\u001b[0m1\u001b[0m8\u001b[0m,\u001b[0m \u001b[0mi\u001b[0mn\u001b[0m \u001b[0ma\u001b[0ms\u001b[0my\u001b[0mn\u001b[0mc\u001b[0m_\u001b[0ms\u001b[0me\u001b[0mr\u001b[0mv\u001b[0me\u001b[0m\n",
      "\u001b[0m \u001b[0m \u001b[0mF\u001b[0mi\u001b[0ml\u001b[0me\u001b[0m \u001b[0m\"\u001b[0m/\u001b[0ml\u001b[0mi\u001b[0mb\u001b[0m/\u001b[0mu\u001b[0mr\u001b[0mp\u001b[0mc\u001b[0m_\u001b[0ms\u001b[0me\u001b[0mr\u001b[0mv\u001b[0me\u001b[0mr\u001b[0m/\u001b[0ma\u001b[0ms\u001b[0my\u001b[0mn\u001b[0mc\u001b[0m_\u001b[0ms\u001b[0me\u001b[0mr\u001b[0mv\u001b[0me\u001b[0mr\u001b[0m.\u001b[0mp\u001b[0my\u001b[0m\"\u001b[0m,\u001b[0m \u001b[0ml\u001b[0mi\u001b[0mn\u001b[0me\u001b[0m \u001b[0m3\u001b[0m7\u001b[0m,\u001b[0m \u001b[0mi\u001b[0mn\u001b[0m \u001b[0me\u001b[0mx\u001b[0m\n",
      "\u001b[0m \u001b[0m \u001b[0mF\u001b[0mi\u001b[0ml\u001b[0me\u001b[0m \u001b[0m\"\u001b[0m<\u001b[0ms\u001b[0mt\u001b[0mr\u001b[0mi\u001b[0mn\u001b[0mg\u001b[0m>\u001b[0m\"\u001b[0m,\u001b[0m \u001b[0ml\u001b[0mi\u001b[0mn\u001b[0me\u001b[0m \u001b[0m9\u001b[0m,\u001b[0m \u001b[0mi\u001b[0mn\u001b[0m \u001b[0m<\u001b[0mm\u001b[0mo\u001b[0md\u001b[0mu\u001b[0ml\u001b[0me\u001b[0m>\u001b[0m\n",
      "\u001b[0m \u001b[0m \u001b[0mF\u001b[0mi\u001b[0ml\u001b[0me\u001b[0m \u001b[0m\"\u001b[0m<\u001b[0ms\u001b[0mt\u001b[0mr\u001b[0mi\u001b[0mn\u001b[0mg\u001b[0m>\u001b[0m\"\u001b[0m,\u001b[0m \u001b[0ml\u001b[0mi\u001b[0mn\u001b[0me\u001b[0m \u001b[0m7\u001b[0m,\u001b[0m \u001b[0mi\u001b[0mn\u001b[0m \u001b[0mr\u001b[0me\u001b[0mc\u001b[0mu\u001b[0mr\u001b[0ms\u001b[0me\u001b[0m\n",
      "\u001b[0m \u001b[0m \u001b[0mF\u001b[0mi\u001b[0ml\u001b[0me\u001b[0m \u001b[0m\"\u001b[0m<\u001b[0ms\u001b[0mt\u001b[0mr\u001b[0mi\u001b[0mn\u001b[0mg\u001b[0m>\u001b[0m\"\u001b[0m,\u001b[0m \u001b[0ml\u001b[0mi\u001b[0mn\u001b[0me\u001b[0m \u001b[0m7\u001b[0m,\u001b[0m \u001b[0mi\u001b[0mn\u001b[0m \u001b[0mr\u001b[0me\u001b[0mc\u001b[0mu\u001b[0mr\u001b[0ms\u001b[0me\u001b[0m\n",
      "\u001b[0m \u001b[0m \u001b[0mF\u001b[0mi\u001b[0ml\u001b[0me\u001b[0m \u001b[0m\"\u001b[0m<\u001b[0ms\u001b[0mt\u001b[0mr\u001b[0mi\u001b[0mn\u001b[0mg\u001b[0m>\u001b[0m\"\u001b[0m,\u001b[0m \u001b[0ml\u001b[0mi\u001b[0mn\u001b[0me\u001b[0m \u001b[0m7\u001b[0m,\u001b[0m \u001b[0mi\u001b[0mn\u001b[0m \u001b[0mr\u001b[0me\u001b[0mc\u001b[0mu\u001b[0mr\u001b[0ms\u001b[0me\u001b[0m\n",
      "\u001b[0m \u001b[0m \u001b[0mF\u001b[0mi\u001b[0ml\u001b[0me\u001b[0m \u001b[0m\"\u001b[0m<\u001b[0ms\u001b[0mt\u001b[0mr\u001b[0mi\u001b[0mn\u001b[0mg\u001b[0m>\u001b[0m\"\u001b[0m,\u001b[0m \u001b[0ml\u001b[0mi\u001b[0mn\u001b[0me\u001b[0m \u001b[0m7\u001b[0m,\u001b[0m \u001b[0mi\u001b[0mn\u001b[0m \u001b[0mr\u001b[0me\u001b[0mc\u001b[0mu\u001b[0mr\u001b[0ms\u001b[0me\u001b[0m\n",
      "\u001b[0m \u001b[0m \u001b[0mF\u001b[0mi\u001b[0ml\u001b[0me\u001b[0m \u001b[0m\"\u001b[0m<\u001b[0ms\u001b[0mt\u001b[0mr\u001b[0mi\u001b[0mn\u001b[0mg\u001b[0m>\u001b[0m\"\u001b[0m,\u001b[0m \u001b[0ml\u001b[0mi\u001b[0mn\u001b[0me\u001b[0m \u001b[0m5\u001b[0m,\u001b[0m \u001b[0mi\u001b[0mn\u001b[0m \u001b[0mr\u001b[0me\u001b[0mc\u001b[0mu\u001b[0mr\u001b[0ms\u001b[0me\u001b[0m\n",
      "\u001b[0mZ\u001b[0me\u001b[0mr\u001b[0mo\u001b[0mD\u001b[0mi\u001b[0mv\u001b[0mi\u001b[0ms\u001b[0mi\u001b[0mo\u001b[0mn\u001b[0mE\u001b[0mr\u001b[0mr\u001b[0mo\u001b[0mr\u001b[0m:\u001b[0m \u001b[0md\u001b[0mi\u001b[0mv\u001b[0mi\u001b[0md\u001b[0me\u001b[0m \u001b[0mb\u001b[0my\u001b[0m \u001b[0mz\u001b[0me\u001b[0mr\u001b[0mo\u001b[0m\n",
      "\u001b[0m\n",
      "\u001b[0m"
     ]
    }
   ],
   "source": [
    "try:\n",
    "    exec_(\n",
    "\"\"\"\n",
    "def recurse(n):\n",
    "    if n < 0:\n",
    "        print(\"recurse\", n, \"divide by zero!\")\n",
    "        x = 5/0\n",
    "    else:\n",
    "        recurse(n-1)\n",
    "\n",
    "recurse(3)\n",
    "\"\"\")\n",
    "except ZeroDivisionError as e:\n",
    "    print(\"error message:\", e.args[0])\n",
    "    print(e.args[-1])"
   ]
  },
  {
   "cell_type": "code",
   "execution_count": 1,
   "metadata": {},
   "outputs": [
    {
     "name": "stdout",
     "output_type": "stream",
     "text": [
      "<\u001b[0mm\u001b[0mo\u001b[0md\u001b[0mu\u001b[0ml\u001b[0me\u001b[0m \u001b[0m'\u001b[0ms\u001b[0my\u001b[0ms\u001b[0m'\u001b[0m>\u001b[0m \u001b[0m1\u001b[0m3\u001b[0m3\u001b[0m\n",
      "\u001b[0m<\u001b[0mm\u001b[0mo\u001b[0md\u001b[0mu\u001b[0ml\u001b[0me\u001b[0m \u001b[0m'\u001b[0ms\u001b[0my\u001b[0ms\u001b[0m'\u001b[0m>\u001b[0m \u001b[0m1\u001b[0m3\u001b[0m4\u001b[0m\n",
      "\u001b[0m=\u001b[0m=\u001b[0m \u001b[0m \u001b[0mT\u001b[0mr\u001b[0mu\u001b[0me\u001b[0m\n",
      "\u001b[0me\u001b[0mq\u001b[0m_\u001b[0m \u001b[0mT\u001b[0mr\u001b[0mu\u001b[0me\u001b[0m\n",
      "\u001b[0mi\u001b[0md\u001b[0m_\u001b[0m \u001b[0mT\u001b[0mr\u001b[0mu\u001b[0me\u001b[0m\n",
      "\u001b[0mB\u001b[0mU\u001b[0mT\u001b[0m:\u001b[0m \u001b[0mi\u001b[0md\u001b[0m \u001b[0mF\u001b[0ma\u001b[0ml\u001b[0ms\u001b[0me\u001b[0m\n",
      "\u001b[0m"
     ]
    }
   ],
   "source": [
    "# object equality is maintained, except id\n",
    "\n",
    "s1 = import_('sys')\n",
    "s2 = import_('sys')\n",
    "\n",
    "print(s1, int.from_bytes(s1.ext_type.data, 'big'))\n",
    "print(s2, int.from_bytes(s2.ext_type.data, 'big'))\n",
    "\n",
    "print(\"== \", s1 == s2)\n",
    "print(\"eq_\", eq_(s1, s2))\n",
    "print(\"id_\", id_(s1) == id_(s2))\n",
    "print(\"BUT: id\", id(s1) == id(s2))"
   ]
  },
  {
   "cell_type": "markdown",
   "metadata": {},
   "source": [
    "## Limitations\n",
    "\n",
    "As the examples show, features on the server (esp32) can be accessed from the client more or less transparently. Notable exceptions are the `import_` \"function\" (don't forget the trailing `_`!) and accessing attributes (`get_`).\n",
    "\n",
    "For frequently used classes, simple wrappers on the client eliminate these differences for the user. See `socket.py` or `network.py` for examples.\n",
    "\n",
    "A more profound limitation concerns object equality. Objects on the server are represented on the client by proxy objects. These have a small footprint, essentially just storing an identifier of the object on the server. \n",
    "\n",
    "In some situations it's possible to create several proxies that all point to the same object on the server. For example, calling `import_` for the same module repeately returns distinct proxy objects. Mostly this is not a problem: equality still works correctly, but `id` returns different values.\n",
    "\n",
    "A more subtle example involves `select.poll()`. The poller returns registered streams. The client each time returns a new proxy. As it happens, the current implementation of `uasyncio` relies on the id's of all sockets being identical. A \"workaround\" is replacing `id` in `uasyncio.core` with `id_`. A better solution is to run the poller natively on the client (TODO)."
   ]
  },
  {
   "cell_type": "markdown",
   "metadata": {},
   "source": [
    "## Object Lifetime Management\n",
    "\n",
    "When the gc on the client collects a proxy object, the finalizer notifies the server which removes the reference to the actual object corresponding to the proxy. When no references are left the server's gc collects the actual object. \n",
    "\n",
    "Since MicroPython does not support finalizers for user defined classes, the implementation relies on a `finalizerproxy` module (a small class written in C)."
   ]
  },
  {
   "cell_type": "markdown",
   "metadata": {},
   "source": [
    "## Requirements\n",
    "\n",
    "URPC uses the following features that are not part of \"standard\" Micro/CircuitPython:\n",
    "\n",
    "* `msgpack`: merged into CircuitPython, but not yet MicroPython\n",
    "* `finalizerproxy`: urpc works without, but then objects on the server will not be automatically recycled. Workaround: explicitly call `__del__()` on the proxy object."
   ]
  },
  {
   "cell_type": "code",
   "execution_count": null,
   "metadata": {},
   "outputs": [],
   "source": []
  }
 ],
 "metadata": {
  "kernelspec": {
   "display_name": "IoT",
   "language": "python",
   "name": "iot_kernel"
  },
  "language_info": {
   "codemirror_mode": {
    "name": "python",
    "version": 3
   },
   "file_extension": ".py",
   "mimetype": "text/x-python",
   "name": "python",
   "pygments_lexer": "python3",
   "version": "3"
  }
 },
 "nbformat": 4,
 "nbformat_minor": 4
}
