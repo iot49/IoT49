{
 "cells": [
  {
   "cell_type": "markdown",
   "id": "heavy-providence",
   "metadata": {},
   "source": [
    "# Robot\n",
    "\n",
    "1. [Motor Hat](1_motor_hat.ipynb)\n",
    "2. [Flash Micropython](2_flash_micropython.ipynb)\n",
    "3. Bluetooth\n",
    "    * [Pi](3a_bluetooth_pi.ipynb)\n",
    "    * [ESP32](3b_bluetooth_esp32.ipynb)\n",
    "4. [Robot Control](4_controller.ipynb)"
   ]
  },
  {
   "cell_type": "code",
   "execution_count": 4,
   "id": "interested-shaft",
   "metadata": {},
   "outputs": [
    {
     "name": "stdout",
     "output_type": "stream",
     "text": [
      "balena\tboards\tconfig\tdoc  pi  projects  snippets  test\n"
     ]
    }
   ],
   "source": [
    "!ls"
   ]
  },
  {
   "cell_type": "code",
   "execution_count": null,
   "id": "dietary-sword",
   "metadata": {},
   "outputs": [],
   "source": []
  }
 ],
 "metadata": {
  "kernelspec": {
   "display_name": "IoT",
   "language": "python",
   "name": "iot_kernel"
  },
  "language_info": {
   "codemirror_mode": {
    "name": "python",
    "version": 3
   },
   "file_extension": ".py",
   "mimetype": "text/x-python",
   "name": "python",
   "pygments_lexer": "python3",
   "version": "3"
  }
 },
 "nbformat": 4,
 "nbformat_minor": 5
}
