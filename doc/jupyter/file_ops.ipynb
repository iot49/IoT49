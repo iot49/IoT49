{
 "cells": [
  {
   "cell_type": "markdown",
   "id": "plain-publicity",
   "metadata": {},
   "source": [
    "# File Operations\n",
    "\n",
    "In addition to facilities for file copy (`%cp`), removal (`%rm`), etc, the IoT kernel supports copying entire libraries from the host to the microcontroller.\n",
    "\n",
    "To make use of this feature, add a `projects` key to `devices.py` (customize the project folder names or download a sample setup from [github](https://github.com/iot49/iot49) and save the contents to `~/iot49`):\n",
    "\n",
    "```python\n",
    "device(uid = '30:ae:a4:28:39:f0', \n",
    "    name = 'my_esp',\n",
    "    projects = [ 'airlift/mcu', 'boards/esp32/mcu'])\n",
    "```\n",
    "\n",
    "`projects` lists folder locations relative to `~/iot49` (or `$IOT49` if defined). The `%rsync` magic copies the contents of these folders to the microcontroller. The order matters: if a file with idential path exits in more than one source folder, only the last one is copied.\n",
    "\n",
    "#### CircuitPython\n",
    "\n",
    "By default, the flash on CircuitPython boards is accessible by USB and cannot be written to from Python. This prevents `%rsync` (and related magics) from working.\n",
    "\n",
    "The simplest workaround is to add the following two lines to `boot.py`:\n",
    "\n",
    "```python\n",
    "import storage\n",
    "storage.remount(\"/\", False)\n",
    "```\n",
    "\n",
    "After that the flash can be written to by CircuitPython but is no longer accessible via the USB port (i.e. it won't mount as a drive on the host computer).\n",
    "\n",
    "Alternatively, the flash drive can be manually ejected before issuing the `%rsync` magic. This does not require special code in `boot.py`.\n",
    "\n",
    "#### MicroPython\n",
    "\n",
    "MicroPython by default does not restrict access to the flash, although to avoid potential corruption it's important to ensure that flash drives are written to only by either MicroPython or the host.\n",
    "\n",
    "On the pyboard this can be accomplished by adding\n",
    "\n",
    "```python\n",
    "import pyb\n",
    "pyb.usb_mode('VCP')\n",
    "```\n",
    "\n",
    "to `boot.py`. This is optional - MicroPython is compatible with all features of the IoT Kernel \"out of the box\"."
   ]
  },
  {
   "cell_type": "code",
   "execution_count": 1,
   "id": "italian-cholesterol",
   "metadata": {},
   "outputs": [
    {
     "name": "stdout",
     "output_type": "stream",
     "text": [
      "\u001b[0mConnected to my_esp @ serial:///dev/cu.usbserial-0163A3DA\n",
      "\u001b[0m\u001b[0m\u001b[32mCOPY    lib/urpc/__init__.py\n",
      "\u001b[0m\u001b[0m\u001b[32mCOPY    lib/ota32/__init__.py\n",
      "\u001b[0m\u001b[0m\u001b[32mCOPY    lib/ota32/open_url.py\n",
      "\u001b[0m\u001b[0m\u001b[32mCOPY    lib/urpc_demo.py\n",
      "\u001b[0m\u001b[0m\u001b[32mCOPY    lib/urpc_server/__init__.py\n",
      "\u001b[0m\u001b[0m\u001b[32mCOPY    lib/urpc/async_server.py\n",
      "\u001b[0m\u001b[0m\u001b[32mCOPY    sample_main.py\n",
      "\u001b[0m\u001b[0m\u001b[32mCOPY    lib/mp/__init__.py\n",
      "\u001b[0m\u001b[0m\u001b[32mCOPY    lib/utelnetserver.py\n",
      "\u001b[0m\u001b[0m\u001b[32mCOPY    lib/mp/server.py\n",
      "\u001b[0m\u001b[0m\u001b[32mCOPY    lib/ota32/ota.py\n",
      "\u001b[0m\u001b[0m\u001b[32mCOPY    lib/urpc_server/async_server.py\n",
      "\u001b[0m\u001b[0m\u001b[32mCOPY    webrepl_cfg.py\n",
      "\u001b[0m\u001b[0m\u001b[32mCOPY    boot.py\n",
      "\u001b[0m\u001b[0m"
     ]
    }
   ],
   "source": [
    "%connect my_esp\n",
    "%rsync"
   ]
  },
  {
   "cell_type": "markdown",
   "id": "lasting-phenomenon",
   "metadata": {},
   "source": [
    "The `%rlist` magic shows all files currently stored on the microcontroller:"
   ]
  },
  {
   "cell_type": "code",
   "execution_count": 1,
   "id": "israeli-concern",
   "metadata": {},
   "outputs": [
    {
     "name": "stdout",
     "output_type": "stream",
     "text": [
      "\u001b[0m   1824  Feb 10 18:38 2021  \u001b[34mboot.py\u001b[0m\n",
      "\u001b[0m                            \u001b[32mlib/\u001b[0m\n",
      "\u001b[0m                                \u001b[32mmp/\u001b[0m\n",
      "\u001b[0m     50  Feb 10 18:38 2021          \u001b[34m__init__.py\u001b[0m\n",
      "\u001b[0m   5227  Feb 10 18:38 2021          \u001b[34mserver.py\u001b[0m\n",
      "\u001b[0m                                \u001b[32mota32/\u001b[0m\n",
      "\u001b[0m     51  Feb 10 18:38 2021          \u001b[34m__init__.py\u001b[0m\n",
      "\u001b[0m   2048  Feb 10 18:38 2021          \u001b[34mopen_url.py\u001b[0m\n",
      "\u001b[0m   3489  Feb 10 18:38 2021          \u001b[34mota.py\u001b[0m\n",
      "\u001b[0m                                \u001b[32murpc/\u001b[0m\n",
      "\u001b[0m     81  Feb 10 18:38 2021          \u001b[34m__init__.py\u001b[0m\n",
      "\u001b[0m   3163  Feb 10 18:38 2021          \u001b[34masync_server.py\u001b[0m\n",
      "\u001b[0m    805  Feb 10 18:38 2021      \u001b[34murpc_demo.py\u001b[0m\n",
      "\u001b[0m                                \u001b[32murpc_server/\u001b[0m\n",
      "\u001b[0m     81  Feb 10 18:38 2021          \u001b[34m__init__.py\u001b[0m\n",
      "\u001b[0m   3376  Feb 10 18:38 2021          \u001b[34masync_server.py\u001b[0m\n",
      "\u001b[0m   3884  Feb 10 18:38 2021      \u001b[34mutelnetserver.py\u001b[0m\n",
      "\u001b[0m    892  Feb 10 18:38 2021  \u001b[34msample_main.py\u001b[0m\n",
      "\u001b[0m     52  Feb 10 18:38 2021  \u001b[34mwebrepl_cfg.py\u001b[0m\n",
      "\u001b[0m"
     ]
    }
   ],
   "source": [
    "%rlist"
   ]
  },
  {
   "cell_type": "markdown",
   "id": "recent-string",
   "metadata": {},
   "source": [
    "If a file changes on the host (modification time and file size are used as criteria), re-run the `%rsync` command to upload the new version. The `%rdiff` command only shows the difference, but does not do any copying."
   ]
  },
  {
   "cell_type": "code",
   "execution_count": 3,
   "id": "novel-death",
   "metadata": {},
   "outputs": [
    {
     "name": "stdout",
     "output_type": "stream",
     "text": [
      "\u001b[0m\u001b[34mUPDATE  sample_main.py\n",
      "\u001b[0m\u001b[0m"
     ]
    }
   ],
   "source": [
    "!touch $IOT49/boards/esp32/mcu/sample_main.py\n",
    "%rdiff"
   ]
  },
  {
   "cell_type": "markdown",
   "id": "plain-capital",
   "metadata": {},
   "source": [
    "The `%rsync` magic only copies from the host to the microcontroller. By default, it deletes all files present on the microcontroller but not on the host. Specify the `-u` option to change this.\n",
    "\n",
    "To copy files from the microcontroller to the host, use the `%cp` magic. `%cat` is another convenient magic that lists the contents of a file on the microcontroller:"
   ]
  },
  {
   "cell_type": "code",
   "execution_count": 3,
   "id": "considered-excerpt",
   "metadata": {},
   "outputs": [
    {
     "name": "stdout",
     "output_type": "stream",
     "text": [
      "\u001b[0mf\u001b[0mr\u001b[0mo\u001b[0mm\u001b[0m \u001b[0m.\u001b[0ms\u001b[0me\u001b[0mr\u001b[0mv\u001b[0me\u001b[0mr\u001b[0m \u001b[0mi\u001b[0mm\u001b[0mp\u001b[0mo\u001b[0mr\u001b[0mt\u001b[0m \u001b[0mS\u001b[0me\u001b[0mr\u001b[0mv\u001b[0me\u001b[0mr\u001b[0m,\u001b[0m \u001b[0ms\u001b[0mt\u001b[0ma\u001b[0mr\u001b[0mt\u001b[0m_\u001b[0ms\u001b[0me\u001b[0mr\u001b[0mv\u001b[0me\u001b[0mr\u001b[0m,\u001b[0m \u001b[0mV\u001b[0mE\u001b[0mR\u001b[0mS\u001b[0mI\u001b[0mO\u001b[0mN\u001b[0m\n",
      "\u001b[0m\n",
      "\u001b[0m"
     ]
    }
   ],
   "source": [
    "%cat lib/mp/__init__.py"
   ]
  },
  {
   "cell_type": "markdown",
   "id": "atmospheric-clothing",
   "metadata": {},
   "source": [
    "The `%rsync` command supports a few additional customization that are documented online. "
   ]
  },
  {
   "cell_type": "code",
   "execution_count": null,
   "id": "covered-examination",
   "metadata": {},
   "outputs": [],
   "source": []
  }
 ],
 "metadata": {
  "kernelspec": {
   "display_name": "IoT",
   "language": "python",
   "name": "iot_kernel"
  },
  "language_info": {
   "codemirror_mode": {
    "name": "python",
    "version": 3
   },
   "file_extension": ".py",
   "mimetype": "text/x-python",
   "name": "python",
   "pygments_lexer": "python3",
   "version": "3"
  }
 },
 "nbformat": 4,
 "nbformat_minor": 5
}
