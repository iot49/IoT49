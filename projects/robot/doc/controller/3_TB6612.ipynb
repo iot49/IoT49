{
 "cells": [
  {
   "cell_type": "markdown",
   "id": "molecular-trout",
   "metadata": {},
   "source": [
    "# Motor Control with TB6612\n",
    "\n",
    "## PWM Motor Control\n",
    "\n",
    "![TB6612 breakout](../figures/TB6612-breakout.jpg \"breakout\")\n",
    "\n",
    "* Channel A control: PWMA, AIN1, AIN2\n",
    "* Channel B control: PWMB, BIN1, BIN2\n",
    "\n",
    "| Function | IN1 | IN2 | Notes |\n",
    "|----------|-----|-----|-------|\n",
    "| Forward  |  L  |  H  |  \n",
    "| Reverse  |  H  |  L  |\n",
    "| Brake    |  H  |  H  | speed=0 has same effect\n",
    "| Coast (Z)|  L  |  L  |"
   ]
  },
  {
   "cell_type": "code",
   "execution_count": 1,
   "id": "associate-tracy",
   "metadata": {},
   "outputs": [
    {
     "name": "stdout",
     "output_type": "stream",
     "text": [
      "\u001b[0m\u001b[0mConnected to robot-stm @ serial:///dev/serial0\u001b[0m\n",
      "\u001b[0m\u001b[34mUPDATE  /spi/lib/tb6612.py\n",
      "\u001b[0m\u001b[0m\u001b[0m\u001b[0m\n",
      "\u001b[46m\u001b[31m!!!!!!!!!!!!!!!!!!!!!!!!!!!!!!!\u001b[0m\n",
      "\u001b[46m\u001b[31m!!!!!   softreset ...     !!!!!\u001b[0m\n",
      "\u001b[46m\u001b[31m!!!!!!!!!!!!!!!!!!!!!!!!!!!!!!!\u001b[0m\n",
      "\u001b[0m\n"
     ]
    }
   ],
   "source": [
    "%register 'serial:///dev/serial0'\n",
    "%connect robot-stm\n",
    "%rsync\n",
    "%softreset"
   ]
  },
  {
   "cell_type": "code",
   "execution_count": 1,
   "id": "opponent-intelligence",
   "metadata": {},
   "outputs": [],
   "source": [
    "from pyb import Pin, Timer\n",
    "from tb6612 import TB6612\n",
    "import time\n",
    "\n",
    "freq = 10_0000\n",
    "tim = Timer(8, freq=freq)\n",
    "\n",
    "motor1 = TB6612(\n",
    "    tim.channel(3, Timer.PWM_INVERTED, pin=Pin('PWM_A')),\n",
    "    Pin('AIN1', mode=Pin.OUT_PP),\n",
    "    Pin('AIN2', mode=Pin.OUT_PP)\n",
    ")\n",
    "\n",
    "motor2 = TB6612(\n",
    "    tim.channel(1, Timer.PWM_INVERTED, pin=Pin('PWM_B')),\n",
    "    Pin('BIN1', mode=Pin.OUT_PP),\n",
    "    Pin('BIN2', mode=Pin.OUT_PP)\n",
    ")\n",
    "\n",
    "nstby = Pin('NSTBY', mode=Pin.OUT_PP)\n",
    "nstby.value(1)\n",
    "\n",
    "motor1.speed(30)\n",
    "motor2.speed(-83)\n",
    "\n",
    "time.sleep(5)\n",
    "nstby.value(0)\n"
   ]
  }
 ],
 "metadata": {
  "kernelspec": {
   "display_name": "IoT",
   "language": "python",
   "name": "iot_kernel"
  },
  "language_info": {
   "codemirror_mode": {
    "name": "python",
    "version": 3
   },
   "file_extension": ".py",
   "mimetype": "text/x-python",
   "name": "python",
   "pygments_lexer": "python3",
   "version": "3"
  }
 },
 "nbformat": 4,
 "nbformat_minor": 5
}
