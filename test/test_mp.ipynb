{
 "cells": [
  {
   "cell_type": "markdown",
   "id": "periodic-arbor",
   "metadata": {},
   "source": [
    "# Test mp"
   ]
  },
  {
   "cell_type": "code",
   "execution_count": 1,
   "id": "considerable-lunch",
   "metadata": {},
   "outputs": [
    {
     "name": "stderr",
     "output_type": "stream",
     "text": [
      "warning: no previously-included files matching '__pycache__' found anywhere in distribution\n",
      "warning: no previously-included files matching '*.py[co]' found anywhere in distribution\n",
      "warning: check: missing meta-data: if 'author' supplied, 'author_email' must be supplied too\n",
      "\n",
      "warning: no previously-included files matching '__pycache__' found anywhere in distribution\n",
      "warning: no previously-included files matching '*.py[co]' found anywhere in distribution\n",
      "zip_safe flag not set; analyzing archive contents...\n",
      "iot_device.__pycache__.OLD serial_device.cpython-38: module references __file__\n",
      "iot_device.__pycache__.config_store.cpython-38: module references __file__\n",
      "iot_device.__pycache__.device.cpython-38: module references __file__\n",
      "iot_device.__pycache__.device_registry.cpython-38: module references __file__\n",
      "iot_device.__pycache__.device_server.cpython-38: module references __file__\n",
      "iot_device.__pycache__.discover_example.cpython-38: module references __file__\n",
      "iot_device.__pycache__.discover_mdns.cpython-38: module references __file__\n",
      "iot_device.__pycache__.discover_net.cpython-38: module references __file__\n",
      "iot_device.__pycache__.discover_serial.cpython-38: module references __file__\n",
      "iot_device.__pycache__.eval.cpython-38: module references __file__\n",
      "iot_device.__pycache__.eval_defaults.cpython-38: module references __file__\n",
      "iot_device.__pycache__.eval_file_ops.cpython-38: module references __file__\n",
      "iot_device.__pycache__.eval_fops.cpython-38: module references __file__\n",
      "iot_device.__pycache__.eval_repl.cpython-38: module references __file__\n",
      "iot_device.__pycache__.eval_rlist.cpython-38: module references __file__\n",
      "iot_device.__pycache__.eval_rsync.cpython-38: module references __file__\n",
      "iot_device.__pycache__.inaccessible_device.cpython-38: module references __file__\n",
      "iot_device.__pycache__.mp_device.cpython-38: module references __file__\n",
      "iot_device.__pycache__.net_device.cpython-38: module references __file__\n",
      "iot_device.__pycache__.pydevice.cpython-38: module references __file__\n",
      "iot_device.__pycache__.remote_exec.cpython-38: module references __file__\n",
      "iot_device.__pycache__.remote_file_ops.cpython-38: module references __file__\n",
      "iot_device.__pycache__.remote_functions (original).cpython-38: module references __file__\n",
      "iot_device.__pycache__.remote_functions (original).cpython-38: module MAY be using inspect.getsource\n",
      "iot_device.__pycache__.remote_functions.cpython-38: module references __file__\n",
      "iot_device.__pycache__.remote_repl.cpython-38: module references __file__\n",
      "iot_device.__pycache__.remote_rlist.cpython-38: module references __file__\n",
      "iot_device.__pycache__.remote_rsync.cpython-38: module references __file__\n",
      "iot_device.__pycache__.repl_protocol copy.cpython-38: module references __file__\n",
      "iot_device.__pycache__.repl_protocol.cpython-38: module references __file__\n",
      "iot_device.__pycache__.serial_device.cpython-38: module references __file__\n",
      "iot_device.__pycache__.telnet_device.cpython-38: module references __file__\n",
      "iot_device.__pycache__.webrepl_device.cpython-38: module references __file__\n"
     ]
    }
   ],
   "source": [
    "%%bash\n",
    "\n",
    "cd $IOT/iot-device\n",
    "make install-local 1>/dev/null"
   ]
  },
  {
   "cell_type": "code",
   "execution_count": 41,
   "id": "optional-aaron",
   "metadata": {},
   "outputs": [],
   "source": [
    "from iot_device import DeviceRegistry, RemoteError\n",
    "\n",
    "url = 'mp://10.39.40.135:54321'\n",
    "\n",
    "registry = DeviceRegistry()\n",
    "# registry.register(url)\n",
    "\n",
    "for dev in registry.devices:\n",
    "    print(dev)\n",
    "\n",
    "dev = registry.get_device(url)"
   ]
  },
  {
   "cell_type": "code",
   "execution_count": 42,
   "id": "eastern-pattern",
   "metadata": {},
   "outputs": [
    {
     "name": "stdout",
     "output_type": "stream",
     "text": [
      "None\n"
     ]
    }
   ],
   "source": [
    "print(dev)"
   ]
  },
  {
   "cell_type": "code",
   "execution_count": 37,
   "id": "boxed-choice",
   "metadata": {},
   "outputs": [
    {
     "name": "stdout",
     "output_type": "stream",
     "text": [
      "-4\n"
     ]
    }
   ],
   "source": [
    "with dev as repl:\n",
    "    res = repl.exec(\"print(5-9)\").strip().decode()\n",
    "    print(res)"
   ]
  },
  {
   "cell_type": "code",
   "execution_count": 39,
   "id": "major-rapid",
   "metadata": {},
   "outputs": [],
   "source": [
    "src = '/Users/boser/Dropbox/Documents/Projects/IoT/iot49/airlift/mcu/lib/mp/__init__.py'\n",
    "src = '/Users/boser/Dropbox/Documents/Projects/IoT/iot49/airlift/mcu/lib/mp/server.py'\n",
    "dst = 'x.py'\n",
    "\n",
    "with dev as repl:\n",
    "    repl.fput(src, dst)\n",
    "    repl.fget(dst, 'y.py')\n",
    "\n",
    "!diff y.py /Users/boser/Dropbox/Documents/Projects/IoT/iot49/airlift/mcu/lib/mp/server.py"
   ]
  },
  {
   "cell_type": "code",
   "execution_count": 9,
   "id": "confidential-lawsuit",
   "metadata": {},
   "outputs": [
    {
     "name": "stderr",
     "output_type": "stream",
     "text": [
      "UsageError: Line magic function `%rlist` not found.\n"
     ]
    }
   ],
   "source": [
    "%rlist"
   ]
  },
  {
   "cell_type": "code",
   "execution_count": null,
   "id": "veterinary-geology",
   "metadata": {},
   "outputs": [],
   "source": []
  }
 ],
 "metadata": {
  "kernelspec": {
   "display_name": "Python 3",
   "language": "python",
   "name": "python3"
  },
  "language_info": {
   "codemirror_mode": {
    "name": "ipython",
    "version": 3
   },
   "file_extension": ".py",
   "mimetype": "text/x-python",
   "name": "python",
   "nbconvert_exporter": "python",
   "pygments_lexer": "ipython3",
   "version": "3.8.2"
  }
 },
 "nbformat": 4,
 "nbformat_minor": 5
}
