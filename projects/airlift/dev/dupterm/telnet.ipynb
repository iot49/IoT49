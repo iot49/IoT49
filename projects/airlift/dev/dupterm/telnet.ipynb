{
 "cells": [
  {
   "cell_type": "code",
   "execution_count": 1,
   "metadata": {},
   "outputs": [
    {
     "name": "stdout",
     "output_type": "stream",
     "text": [
      "\u001b[0mtest-esp32                     serial:///dev/cu.usbserial-0160B5B8     \n",
      "\u001b[0mtest-stm32-cop                 serial:///dev/cu.usbserial-0143520E     \n",
      "\u001b[0mtest-argon                     serial:///dev/cu.usbmodem1413101        \n",
      "\u001b[0mtest-samd                      serial:///dev/cu.usbmodem1413201        \n",
      "\u001b[0mtest-stm32                     serial:///dev/cu.usbmodem208E307542521  \n",
      "\u001b[0m\u001b[0mConnected to test-stm32 @ serial:///dev/cu.usbmodem208E307542521\n",
      "\u001b[0m"
     ]
    }
   ],
   "source": [
    "%discover\n",
    "%connect test-stm32 serial"
   ]
  },
  {
   "cell_type": "code",
   "execution_count": 1,
   "metadata": {},
   "outputs": [
    {
     "name": "stdout",
     "output_type": "stream",
     "text": [
      "\u001b[0mConnected to test-stm32 @ serial:///dev/cu.usbmodem208E307542521\n",
      "\u001b[0m\u001b[0m\n",
      "\u001b[0m\u001b[46m\u001b[31m!!!!!!!!!!!!!!!!!!!!!!!!!!!!!!!\n",
      "\u001b[0m\u001b[46m\u001b[31m!!!!!   softreset ...     !!!!!\n",
      "\u001b[0m\u001b[46m\u001b[31m!!!!!!!!!!!!!!!!!!!!!!!!!!!!!!!\u001b[0m\n",
      "\n",
      "\u001b[0m"
     ]
    }
   ],
   "source": [
    "%connect test-stm32\n",
    "%softreset\n",
    "import start_urpc\n",
    "from urpc import *"
   ]
  },
  {
   "cell_type": "code",
   "execution_count": 1,
   "metadata": {},
   "outputs": [
    {
     "name": "stdout",
     "output_type": "stream",
     "text": [
      "P\u001b[0ml\u001b[0ma\u001b[0mt\u001b[0mf\u001b[0mo\u001b[0mr\u001b[0mm\u001b[0ms\u001b[0m:\u001b[0m\n",
      "\u001b[0m \u001b[0m \u001b[0m \u001b[0mh\u001b[0mo\u001b[0ms\u001b[0mt\u001b[0m:\u001b[0m \u001b[0m \u001b[0m \u001b[0m \u001b[0mp\u001b[0my\u001b[0mb\u001b[0mo\u001b[0ma\u001b[0mr\u001b[0md\u001b[0m\n",
      "\u001b[0m \u001b[0m \u001b[0m \u001b[0ms\u001b[0me\u001b[0mr\u001b[0mv\u001b[0me\u001b[0mr\u001b[0m:\u001b[0m \u001b[0m \u001b[0me\u001b[0ms\u001b[0mp\u001b[0m3\u001b[0m2\u001b[0m\n",
      "\u001b[0m"
     ]
    }
   ],
   "source": [
    "import sys\n",
    "sys_ = import_('sys')\n",
    "\n",
    "print(\"Platforms:\")\n",
    "print(\"   host:    {}\".format(sys.platform))\n",
    "print(\"   server:  {}\".format(sys_.get_('platform')))"
   ]
  },
  {
   "cell_type": "code",
   "execution_count": null,
   "metadata": {},
   "outputs": [
    {
     "name": "stdout",
     "output_type": "stream",
     "text": [
      "\u001b[0mConnected to test-esp32 @ serial:///dev/cu.usbserial-0160B5B8\n",
      "\u001b[0m\u001b[0m\n",
      "\u001b[0m\u001b[46m\u001b[31m!!!!!!!!!!!!!!!!!!!!!!!!!!!!!!!\n",
      "\u001b[0m\u001b[46m\u001b[31m!!!!!   softreset ...     !!!!!\n",
      "\u001b[0m\u001b[46m\u001b[31m!!!!!!!!!!!!!!!!!!!!!!!!!!!!!!!\u001b[0m\n",
      "\n",
      "\u001b[0ms\u001b[0mt\u001b[0ma\u001b[0mr\u001b[0mt\u001b[0m \u001b[0m.\u001b[0m.\u001b[0m.\u001b[0m\n",
      "\u001b[0ms\u001b[0me\u001b[0mr\u001b[0mv\u001b[0me\u001b[0mr\u001b[0m_\u001b[0ms\u001b[0mo\u001b[0mc\u001b[0mk\u001b[0me\u001b[0mt\u001b[0m \u001b[0m.\u001b[0m.\u001b[0m.\u001b[0m\n",
      "\u001b[0mg\u001b[0me\u001b[0mt\u001b[0ma\u001b[0md\u001b[0md\u001b[0mr\u001b[0mi\u001b[0mn\u001b[0mf\u001b[0mo\u001b[0m\n",
      "\u001b[0ma\u001b[0md\u001b[0md\u001b[0mr\u001b[0m \u001b[0m(\u001b[0m'\u001b[0m0\u001b[0m.\u001b[0m0\u001b[0m.\u001b[0m0\u001b[0m.\u001b[0m0\u001b[0m'\u001b[0m,\u001b[0m \u001b[0m2\u001b[0m3\u001b[0m)\u001b[0m\n",
      "\u001b[0ml\u001b[0mi\u001b[0ms\u001b[0mt\u001b[0me\u001b[0mn\u001b[0m\n",
      "\u001b[0mu\u001b[0mr\u001b[0ml\u001b[0m \u001b[0m.\u001b[0m.\u001b[0m.\u001b[0m\n",
      "\u001b[0mT\u001b[0me\u001b[0ml\u001b[0mn\u001b[0me\u001b[0mt\u001b[0m \u001b[0ms\u001b[0me\u001b[0mr\u001b[0mv\u001b[0me\u001b[0mr\u001b[0m \u001b[0ms\u001b[0mt\u001b[0ma\u001b[0mr\u001b[0mt\u001b[0me\u001b[0md\u001b[0m \u001b[0mo\u001b[0mn\u001b[0m \u001b[0mt\u001b[0me\u001b[0ml\u001b[0mn\u001b[0me\u001b[0mt\u001b[0m:\u001b[0m/\u001b[0m/\u001b[0m1\u001b[0m0\u001b[0m.\u001b[0m3\u001b[0m9\u001b[0m.\u001b[0m4\u001b[0m0\u001b[0m.\u001b[0m1\u001b[0m3\u001b[0m5\u001b[0m:\u001b[0m2\u001b[0m3\u001b[0m\n",
      "\u001b[0ma\u001b[0mc\u001b[0mc\u001b[0me\u001b[0mp\u001b[0mt\u001b[0m \u001b[0m.\u001b[0m.\u001b[0m.\u001b[0m\n",
      "\u001b[0mT\u001b[0me\u001b[0ml\u001b[0mn\u001b[0me\u001b[0mt\u001b[0m \u001b[0mc\u001b[0mo\u001b[0mn\u001b[0mn\u001b[0me\u001b[0mc\u001b[0mt\u001b[0mi\u001b[0mo\u001b[0mn\u001b[0m \u001b[0mf\u001b[0mr\u001b[0mo\u001b[0mm\u001b[0m:\u001b[0m \u001b[0m(\u001b[0m'\u001b[0m1\u001b[0m0\u001b[0m.\u001b[0m3\u001b[0m9\u001b[0m.\u001b[0m4\u001b[0m0\u001b[0m.\u001b[0m1\u001b[0m1\u001b[0m4\u001b[0m'\u001b[0m,\u001b[0m \u001b[0m6\u001b[0m1\u001b[0m9\u001b[0m1\u001b[0m5\u001b[0m)\u001b[0m\n",
      "\u001b[0mn\u001b[0mo\u001b[0mt\u001b[0mi\u001b[0mf\u001b[0my\u001b[0m!\u001b[0m\n",
      "\u001b[0ma\u001b[0mt\u001b[0mt\u001b[0ma\u001b[0mc\u001b[0mh\u001b[0m \u001b[0md\u001b[0mu\u001b[0mp\u001b[0mt\u001b[0me\u001b[0mr\u001b[0mm\u001b[0m\n",
      "\u001b[0mr\u001b[0me\u001b[0mt\u001b[0mu\u001b[0mr\u001b[0mn\u001b[0m \u001b[0mf\u001b[0mr\u001b[0mo\u001b[0mm\u001b[0m \u001b[0ma\u001b[0mc\u001b[0mc\u001b[0me\u001b[0mp\u001b[0mt\u001b[0m\n",
      "\u001b[0mm\u001b[0me\u001b[0ms\u001b[0ms\u001b[0ma\u001b[0mg\u001b[0me\u001b[0ms\u001b[0m:\u001b[0m \u001b[0m\n",
      "\u001b[0ms\u001b[0ml\u001b[0me\u001b[0me\u001b[0mp\u001b[0m \u001b[0m.\u001b[0m.\u001b[0m.\u001b[0m\n",
      "\u001b[0ms\u001b[0mt\u001b[0ma\u001b[0mr\u001b[0mt\u001b[0m \u001b[0m.\u001b[0m.\u001b[0m.\u001b[0m\n",
      "\u001b[0ms\u001b[0me\u001b[0mr\u001b[0mv\u001b[0me\u001b[0mr\u001b[0m_\u001b[0ms\u001b[0mo\u001b[0mc\u001b[0mk\u001b[0me\u001b[0mt\u001b[0m \u001b[0m.\u001b[0m.\u001b[0m.\u001b[0m\n",
      "\u001b[0mg\u001b[0me\u001b[0mt\u001b[0ma\u001b[0md\u001b[0md\u001b[0mr\u001b[0mi\u001b[0mn\u001b[0mf\u001b[0mo\u001b[0m\n",
      "\u001b[0ma\u001b[0md\u001b[0md\u001b[0mr\u001b[0m \u001b[0m(\u001b[0m'\u001b[0m0\u001b[0m.\u001b[0m0\u001b[0m.\u001b[0m0\u001b[0m.\u001b[0m0\u001b[0m'\u001b[0m,\u001b[0m \u001b[0m2\u001b[0m3\u001b[0m)\u001b[0m\n",
      "\u001b[0ml\u001b[0mi\u001b[0ms\u001b[0mt\u001b[0me\u001b[0mn\u001b[0m\n",
      "\u001b[0mu\u001b[0mr\u001b[0ml\u001b[0m \u001b[0m.\u001b[0m.\u001b[0m.\u001b[0m\n",
      "\u001b[0mT\u001b[0me\u001b[0ml\u001b[0mn\u001b[0me\u001b[0mt\u001b[0m \u001b[0ms\u001b[0me\u001b[0mr\u001b[0mv\u001b[0me\u001b[0mr\u001b[0m \u001b[0ms\u001b[0mt\u001b[0ma\u001b[0mr\u001b[0mt\u001b[0me\u001b[0md\u001b[0m \u001b[0mo\u001b[0mn\u001b[0m \u001b[0mt\u001b[0me\u001b[0ml\u001b[0mn\u001b[0me\u001b[0mt\u001b[0m:\u001b[0m/\u001b[0m/\u001b[0m1\u001b[0m0\u001b[0m.\u001b[0m3\u001b[0m9\u001b[0m.\u001b[0m4\u001b[0m0\u001b[0m.\u001b[0m1\u001b[0m3\u001b[0m5\u001b[0m:\u001b[0m2\u001b[0m3\u001b[0m\n",
      "\u001b[0ma\u001b[0mc\u001b[0mc\u001b[0me\u001b[0mp\u001b[0mt\u001b[0m \u001b[0m.\u001b[0m.\u001b[0m.\u001b[0m\n",
      "\u001b[0m"
     ]
    },
    {
     "name": "stderr",
     "output_type": "stream",
     "text": [
      "Interrupted\u001b[0m"
     ]
    },
    {
     "name": "stdout",
     "output_type": "stream",
     "text": [
      "b\"KBI\\r\\nsleep ...\\r\\nstart ...\\r\\nserver_socket ...\\r\\ngetaddrinfo\\r\\naddr ('0.0.0.0', 23)\\r\\nlisten\\r\\nurl ...\\r\\nTelnet server started on telnet://10.39.40.135:23\\r\\naccept ...\\r\\n\"\n"
     ]
    }
   ],
   "source": [
    "# %connect test-stm32 serial\n",
    "%connect test-esp32 serial\n",
    "%softreset\n",
    "\n",
    "if False:\n",
    "    import start_urpc\n",
    "    from urpc import *\n",
    "\n",
    "\n",
    "import socket\n",
    "import network\n",
    "import uos\n",
    "import errno\n",
    "from uio import IOBase \n",
    "\n",
    "last_client_socket = None\n",
    "server_socket = None\n",
    "\n",
    "import io\n",
    "messages = io.StringIO()\n",
    "\n",
    "# Provide necessary functions for dupterm and replace telnet control characters that come in.\n",
    "class TelnetWrapper(IOBase):\n",
    "    def __init__(self, socket):\n",
    "        self.socket = socket\n",
    "        self.discard_count = 0\n",
    "        \n",
    "    def readinto(self, b):\n",
    "        readbytes = 0\n",
    "        for i in range(len(b)):\n",
    "            try:\n",
    "                byte = 0\n",
    "                # discard telnet control characters and\n",
    "                # null bytes \n",
    "                while(byte == 0):\n",
    "                    byte = self.socket.recv(1)[0]\n",
    "                    if byte == 0xFF:\n",
    "                        self.discard_count = 2\n",
    "                        byte = 0\n",
    "                    elif self.discard_count > 0:\n",
    "                        self.discard_count -= 1\n",
    "                        byte = 0\n",
    "                    \n",
    "                b[i] = byte\n",
    "                \n",
    "                readbytes += 1\n",
    "            except (IndexError, OSError) as e:\n",
    "                if type(e) == IndexError or len(e.args) > 0 and e.args[0] == errno.EAGAIN:\n",
    "                    if readbytes == 0:\n",
    "                        return None\n",
    "                    else:\n",
    "                        return readbytes\n",
    "                else:\n",
    "                    messages.write(\"*** readinto {}\\n\".format(e))\n",
    "                    raise\n",
    "        return readbytes\n",
    "    \n",
    "    def write(self, data):\n",
    "        # we need to write all the data but it's a non-blocking socket\n",
    "        # so loop until it's all written eating EAGAIN exceptions\n",
    "        while len(data) > 0:\n",
    "            try:\n",
    "                written_bytes = self.socket.write(data)\n",
    "                data = data[written_bytes:]\n",
    "            except OSError as e:\n",
    "                if len(e.args) > 0 and e.args[0] == errno.EAGAIN:\n",
    "                    # can't write yet, try again\n",
    "                    pass\n",
    "                else:\n",
    "                    # something else...propagate the exception\n",
    "                    messages.write(\"*** write {}\\n\".format(e))\n",
    "                    raise\n",
    "    \n",
    "    def close(self):\n",
    "        self.socket.close()\n",
    "\n",
    "# Attach new clients to dupterm and \n",
    "# send telnet control characters to disable line mode\n",
    "# and stop local echoing\n",
    "def accept_telnet_connect(telnet_server):\n",
    "    global last_client_socket\n",
    "    \n",
    "    if last_client_socket:\n",
    "        # close any previous clients\n",
    "        uos.dupterm(None)\n",
    "        last_client_socket.close()\n",
    "    \n",
    "    last_client_socket, remote_addr = telnet_server.accept()\n",
    "    print(\"Telnet connection from:\", remote_addr)\n",
    "    last_client_socket.setblocking(False)\n",
    "    # dupterm_notify() not available under MicroPython v1.1\n",
    "    if hasattr(uos, 'dupterm_notify'):\n",
    "        print(\"notify!\")\n",
    "        last_client_socket.setsockopt(socket.SOL_SOCKET, 20, uos.dupterm_notify)\n",
    "    \n",
    "    last_client_socket.sendall(bytes([255, 252, 34])) # don't allow line mode\n",
    "    last_client_socket.sendall(bytes([255, 251, 1]))  # turn off local echo\n",
    "    \n",
    "    print(\"attach dupterm\")\n",
    "    uos.dupterm(TelnetWrapper(last_client_socket))\n",
    "    print(\"return from accept\")\n",
    "\n",
    "def stop():\n",
    "    global server_socket, last_client_socket\n",
    "    uos.dupterm(None)\n",
    "    if server_socket:\n",
    "        server_socket.close()\n",
    "    if last_client_socket:\n",
    "        last_client_socket.close()\n",
    "\n",
    "# start listening for telnet connections on port 23\n",
    "def start(port=23):\n",
    "    print(\"start ...\")\n",
    "    stop()\n",
    "    global server_socket\n",
    "    print(\"server_socket ...\")\n",
    "    server_socket = socket.socket(socket.AF_INET, socket.SOCK_STREAM)\n",
    "    server_socket.setsockopt(socket.SOL_SOCKET, socket.SO_REUSEADDR, 1)\n",
    "    \n",
    "    print(\"getaddrinfo\")\n",
    "    ai = socket.getaddrinfo(\"0.0.0.0\", port)\n",
    "    addr = ai[0][4]\n",
    "    print(\"addr\", addr)\n",
    "    \n",
    "    server_socket.bind(addr)\n",
    "    print(\"listen\")\n",
    "    server_socket.listen(1)\n",
    "    \n",
    "    print(\"url ...\")\n",
    "    for i in (network.AP_IF, network.STA_IF):\n",
    "        wlan = network.WLAN(i)\n",
    "        if wlan.active():\n",
    "            print(\"Telnet server started on telnet://{}:{}\".format(wlan.ifconfig()[0], port))\n",
    "            \n",
    "    # server_socket.setsockopt(socket.SOL_SOCKET, 20, accept_telnet_connect)\n",
    "    if True:\n",
    "        print(\"accept ...\")\n",
    "        accept_telnet_connect(server_socket)\n",
    "        print(\"messages:\", messages.getvalue())\n",
    "\n",
    "while True:\n",
    "    try:\n",
    "        start()\n",
    "    except KeyboardInterrupt:\n",
    "        print(\"KBI\")\n",
    "    import time\n",
    "    print(\"sleep ...\")\n",
    "    time.sleep(2)\n",
    "print(\"DONE!\")"
   ]
  },
  {
   "cell_type": "code",
   "execution_count": null,
   "metadata": {},
   "outputs": [],
   "source": [
    "start()\n",
    "\n",
    "import machine\n",
    "def blink():\n",
    "    led = machine.Pin(13, mode=machine.Pin.OUT)\n",
    "    while True:\n",
    "        led.on()\n",
    "        time.sleep(0.1)\n",
    "        led.off()\n",
    "        time.sleep(1.0)\n",
    "\n",
    "blink()"
   ]
  },
  {
   "cell_type": "code",
   "execution_count": 1,
   "metadata": {},
   "outputs": [
    {
     "name": "stdout",
     "output_type": "stream",
     "text": [
      "b\u001b[0m'\u001b[0mn\u001b[0mo\u001b[0mt\u001b[0mi\u001b[0mf\u001b[0my\u001b[0m!\u001b[0m\\\u001b[0mn\u001b[0ma\u001b[0mt\u001b[0mt\u001b[0ma\u001b[0mc\u001b[0mh\u001b[0m \u001b[0md\u001b[0mu\u001b[0mp\u001b[0mt\u001b[0me\u001b[0mr\u001b[0mm\u001b[0m!\u001b[0m\\\u001b[0mn\u001b[0ma\u001b[0mc\u001b[0mc\u001b[0me\u001b[0mp\u001b[0mt\u001b[0m \u001b[0m.\u001b[0m.\u001b[0m.\u001b[0m\\\u001b[0mr\u001b[0m\\\u001b[0mn\u001b[0mn\u001b[0mo\u001b[0mt\u001b[0mi\u001b[0mf\u001b[0my\u001b[0m!\u001b[0m\\\u001b[0mn\u001b[0ma\u001b[0mt\u001b[0mt\u001b[0ma\u001b[0mc\u001b[0mh\u001b[0m \u001b[0md\u001b[0mu\u001b[0mp\u001b[0mt\u001b[0me\u001b[0mr\u001b[0mm\u001b[0m!\u001b[0m\\\u001b[0mn\u001b[0ma\u001b[0mc\u001b[0mc\u001b[0me\u001b[0mp\u001b[0mt\u001b[0m \u001b[0m.\u001b[0m.\u001b[0m.\u001b[0m\\\u001b[0mr\u001b[0m\\\u001b[0mn\u001b[0m'\u001b[0m\n",
      "\u001b[0m"
     ]
    }
   ],
   "source": [
    "print(messages.getvalue())"
   ]
  },
  {
   "cell_type": "code",
   "execution_count": null,
   "metadata": {},
   "outputs": [],
   "source": []
  }
 ],
 "metadata": {
  "kernelspec": {
   "display_name": "IoT",
   "language": "python",
   "name": "iot_kernel"
  },
  "language_info": {
   "codemirror_mode": {
    "name": "python",
    "version": 3
   },
   "file_extension": ".py",
   "mimetype": "text/x-python",
   "name": "python",
   "pygments_lexer": "python3",
   "version": "3"
  }
 },
 "nbformat": 4,
 "nbformat_minor": 4
}
