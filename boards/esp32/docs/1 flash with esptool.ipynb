{
 "cells": [
  {
   "cell_type": "markdown",
   "metadata": {},
   "source": [
    "# Flash"
   ]
  },
  {
   "cell_type": "code",
   "execution_count": 2,
   "metadata": {},
   "outputs": [
    {
     "name": "stdout",
     "output_type": "stream",
     "text": [
      "\u001b[34m\u001b[43m/dev/cu.usbserial-01435205\u001b[m\u001b[m\n"
     ]
    }
   ],
   "source": [
    "!ls /dev/cu.usb*"
   ]
  },
  {
   "cell_type": "markdown",
   "metadata": {},
   "source": [
    "## Erase flash"
   ]
  },
  {
   "cell_type": "code",
   "execution_count": 1,
   "metadata": {},
   "outputs": [
    {
     "name": "stdout",
     "output_type": "stream",
     "text": [
      "esptool.py v3.0\u001b[0m\n",
      "Serial port /dev/cu.usbserial-01435205\u001b[0m\n",
      "Connecting......\u001b[0m\n",
      "Detecting chip type... ESP32\u001b[0m\n",
      "Chip is ESP32-D0WDQ6 (revision 1)\u001b[0m\n",
      "Features: WiFi, BT, Dual Core, Coding Scheme None\u001b[0m\n",
      "Crystal is 40MHz\u001b[0m\n",
      "MAC: 30:ae:a4:1a:2a:10\u001b[0m\n",
      "Uploading stub...\u001b[0m\n",
      "Running stub...\u001b[0m\n",
      "Stub running...\u001b[0m\n",
      "Erasing flash (this may take a while)...\u001b[0m\n",
      "Chip erase completed successfully in 5.5s\u001b[0m\n",
      "Hard resetting via RTS pin...\u001b[0m\n"
     ]
    }
   ],
   "source": [
    "%%bash\n",
    "\n",
    "port=/dev/cu.usbserial-01435205 \n",
    "\n",
    "esptool.py -p $port erase_flash"
   ]
  },
  {
   "cell_type": "markdown",
   "metadata": {},
   "source": [
    "## Flash VM"
   ]
  },
  {
   "cell_type": "markdown",
   "metadata": {},
   "source": [
    "### Custom MicroPython"
   ]
  },
  {
   "cell_type": "code",
   "execution_count": 2,
   "metadata": {},
   "outputs": [
    {
     "name": "stdout",
     "output_type": "stream",
     "text": [
      "esptool.py v3.0\u001b[0m\n",
      "Serial port /dev/cu.usbserial-01435205\u001b[0m\n",
      "Connecting....\u001b[0m\n",
      "Detecting chip type... ESP32\u001b[0m\n",
      "Chip is ESP32-D0WDQ6 (revision 1)\u001b[0m\n",
      "Features: WiFi, BT, Dual Core, Coding Scheme None\u001b[0m\n",
      "Crystal is 40MHz\u001b[0m\n",
      "MAC: 30:ae:a4:1a:2a:10\u001b[0m\n",
      "Uploading stub...\u001b[0m\n",
      "Running stub...\u001b[0m\n",
      "Stub running...\u001b[0m\n",
      "Changing baud rate to 460800\u001b[0m\n",
      "Changed.\u001b[0m\n",
      "Configuring flash size...\u001b[0m\n",
      "Compressed 1444896 bytes to 944058...\u001b[0m\n",
      "Writing at 0x00001000... (1 %)\u001b[0m\n",
      "Writing at 0x00005000... (3 %)\u001b[0m\n",
      "Writing at 0x00009000... (5 %)\u001b[0m\n",
      "Writing at 0x0000d000... (6 %)\u001b[0m\n",
      "Writing at 0x00011000... (8 %)\u001b[0m\n",
      "Writing at 0x00015000... (10 %)\u001b[0m\n",
      "Writing at 0x00019000... (12 %)\u001b[0m\n",
      "Writing at 0x0001d000... (13 %)\u001b[0m\n",
      "Writing at 0x00021000... (15 %)\u001b[0m\n",
      "Writing at 0x00025000... (17 %)\u001b[0m\n",
      "Writing at 0x00029000... (18 %)\u001b[0m\n",
      "Writing at 0x0002d000... (20 %)\u001b[0m\n",
      "Writing at 0x00031000... (22 %)\u001b[0m\n",
      "Writing at 0x00035000... (24 %)\u001b[0m\n",
      "Writing at 0x00039000... (25 %)\u001b[0m\n",
      "Writing at 0x0003d000... (27 %)\u001b[0m\n",
      "Writing at 0x00041000... (29 %)\u001b[0m\n",
      "Writing at 0x00045000... (31 %)\u001b[0m\n",
      "Writing at 0x00049000... (32 %)\u001b[0m\n",
      "Writing at 0x0004d000... (34 %)\u001b[0m\n",
      "Writing at 0x00051000... (36 %)\u001b[0m\n",
      "Writing at 0x00055000... (37 %)\u001b[0m\n",
      "Writing at 0x00059000... (39 %)\u001b[0m\n",
      "Writing at 0x0005d000... (41 %)\u001b[0m\n",
      "Writing at 0x00061000... (43 %)\u001b[0m\n",
      "Writing at 0x00065000... (44 %)\u001b[0m\n",
      "Writing at 0x00069000... (46 %)\u001b[0m\n",
      "Writing at 0x0006d000... (48 %)\u001b[0m\n",
      "Writing at 0x00071000... (50 %)\u001b[0m\n",
      "Writing at 0x00075000... (51 %)\u001b[0m\n",
      "Writing at 0x00079000... (53 %)\u001b[0m\n",
      "Writing at 0x0007d000... (55 %)\u001b[0m\n",
      "Writing at 0x00081000... (56 %)\u001b[0m\n",
      "Writing at 0x00085000... (58 %)\u001b[0m\n",
      "Writing at 0x00089000... (60 %)\u001b[0m\n",
      "Writing at 0x0008d000... (62 %)\u001b[0m\n",
      "Writing at 0x00091000... (63 %)\u001b[0m\n",
      "Writing at 0x00095000... (65 %)\u001b[0m\n",
      "Writing at 0x00099000... (67 %)\u001b[0m\n",
      "Writing at 0x0009d000... (68 %)\u001b[0m\n",
      "Writing at 0x000a1000... (70 %)\u001b[0m\n",
      "Writing at 0x000a5000... (72 %)\u001b[0m\n",
      "Writing at 0x000a9000... (74 %)\u001b[0m\n",
      "Writing at 0x000ad000... (75 %)\u001b[0m\n",
      "Writing at 0x000b1000... (77 %)\u001b[0m\n",
      "Writing at 0x000b5000... (79 %)\u001b[0m\n",
      "Writing at 0x000b9000... (81 %)\u001b[0m\n",
      "Writing at 0x000bd000... (82 %)\u001b[0m\n",
      "Writing at 0x000c1000... (84 %)\u001b[0m\n",
      "Writing at 0x000c5000... (86 %)\u001b[0m\n",
      "Writing at 0x000c9000... (87 %)\u001b[0m\n",
      "Writing at 0x000cd000... (89 %)\u001b[0m\n",
      "Writing at 0x000d1000... (91 %)\u001b[0m\n",
      "Writing at 0x000d5000... (93 %)\u001b[0m\n",
      "Writing at 0x000d9000... (94 %)\u001b[0m\n",
      "Writing at 0x000dd000... (96 %)\u001b[0m\n",
      "Writing at 0x000e1000... (98 %)\u001b[0m\n",
      "Writing at 0x000e5000... (100 %)\u001b[0m\n",
      "Wrote 1444896 bytes (944058 compressed) at 0x00001000 in 22.8 seconds (effective 507.1 kbit/s)...\u001b[0m\n",
      "Hash of data verified.\u001b[0m\n",
      "\u001b[0m\n",
      "Leaving...\u001b[0m\n",
      "Hard resetting via RTS pin...\u001b[0m\n"
     ]
    }
   ],
   "source": [
    "%%bash\n",
    "\n",
    "port=/dev/cu.usbserial-01435205 \n",
    "\n",
    "# cd $IOT/iot-bin/micropython\n",
    "# firmware=esp32-GENERIC_OTA-firmware.bin\n",
    "\n",
    "cd $IOT/micropython/ports/esp32/build-GENERIC_OTA\n",
    "firmware=firmware.bin\n",
    "\n",
    "esptool.py -p $port -b 460800 write_flash -z 0x1000 $firmware"
   ]
  },
  {
   "cell_type": "markdown",
   "metadata": {},
   "source": [
    "### Official MicroPython"
   ]
  },
  {
   "cell_type": "code",
   "execution_count": null,
   "metadata": {},
   "outputs": [],
   "source": [
    "%%bash\n",
    "\n",
    "cd $IOT/iot-bin/official_mp\n",
    "\n",
    "port=/dev/cu.usbserial-01435205 \n",
    "firmware=esp32-idf4-20210202-v1.14.bin\n",
    "\n",
    "esptool.py -p $port -b 460800 write_flash -z 0x1000 $firmware"
   ]
  },
  {
   "cell_type": "code",
   "execution_count": null,
   "metadata": {},
   "outputs": [],
   "source": []
  }
 ],
 "metadata": {
  "kernelspec": {
   "display_name": "IoT",
   "language": "python",
   "name": "iot_kernel"
  },
  "language_info": {
   "codemirror_mode": {
    "name": "python",
    "version": 3
   },
   "file_extension": ".py",
   "mimetype": "text/x-python",
   "name": "python",
   "pygments_lexer": "python3",
   "version": "3"
  }
 },
 "nbformat": 4,
 "nbformat_minor": 4
}
