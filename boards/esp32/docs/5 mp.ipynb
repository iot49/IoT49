{
 "cells": [
  {
   "cell_type": "markdown",
   "id": "moderate-execution",
   "metadata": {},
   "source": [
    "# Wireless REPL\n",
    "\n",
    "1. web_repl: slow, but works fine in the background\n",
    "2. mp: \n",
    "    * `import mp_main` to start (from command line or main.py)\n",
    "    * Problems: \n",
    "        * runs in async task, keeping CPU busy\n",
    "        * connecting to serial port aborts the running program (best run without serial connection)\n",
    "        * mdns server still advertises ...\n",
    "        * -> web_repl is preferable"
   ]
  },
  {
   "cell_type": "code",
   "execution_count": 1,
   "id": "confident-prince",
   "metadata": {},
   "outputs": [
    {
     "name": "stdout",
     "output_type": "stream",
     "text": [
      "\u001b[0mtest-esp32  serial:///dev/cu.usbserial-0160B5B8  \u001b[0m\n",
      "\u001b[0mConnected to test-esp32 @ serial:///dev/cu.usbserial-0160B5B8\u001b[0m\n",
      "\u001b[0m\u001b[32mDirectories match\n",
      "\u001b[0m\u001b[0m\u001b[0m\u001b[0m\n",
      "\u001b[46m\u001b[31m!!!!!!!!!!!!!!!!!!!!!!!!!!!!!!!\u001b[0m\n",
      "\u001b[46m\u001b[31m!!!!!   softreset ...     !!!!!\u001b[0m\n",
      "\u001b[46m\u001b[31m!!!!!!!!!!!!!!!!!!!!!!!!!!!!!!!\u001b[0m\n",
      "\u001b[0m\n"
     ]
    }
   ],
   "source": [
    "%discover\n",
    "%connect test-esp32 serial\n",
    "%rsync\n",
    "%softreset"
   ]
  },
  {
   "cell_type": "code",
   "execution_count": 1,
   "id": "interpreted-efficiency",
   "metadata": {},
   "outputs": [
    {
     "name": "stdout",
     "output_type": "stream",
     "text": [
      "\u001b[0m   1825  Feb 15 16:17 2021  \u001b[34mboot.py\u001b[0m\n",
      "\u001b[0m                            \u001b[32mlib/\u001b[0m\n",
      "\u001b[0m                                \u001b[32mmp/\u001b[0m\n",
      "\u001b[0m    100  Feb 15 17:53 2021          \u001b[34m__init__.py\u001b[0m\n",
      "\u001b[0m   5432  Feb 15 18:12 2021          \u001b[34masync_server.py\u001b[0m\n",
      "\u001b[0m   6000  Feb 15 17:47 2021          \u001b[34mserver.py\u001b[0m\n",
      "\u001b[0m                                \u001b[32mota32/\u001b[0m\n",
      "\u001b[0m     51  Feb 15 14:22 2021          \u001b[34m__init__.py\u001b[0m\n",
      "\u001b[0m   2048  Feb 15 14:22 2021          \u001b[34mopen_url.py\u001b[0m\n",
      "\u001b[0m   3489  Feb 15 14:22 2021          \u001b[34mota.py\u001b[0m\n",
      "\u001b[0m   3884  Feb 15 14:22 2021      \u001b[34mutelnetserver.py\u001b[0m\n",
      "\u001b[0m    418  Feb 15 18:14 2021  \u001b[34mmain.py\u001b[0m\n",
      "\u001b[0m    245  Feb 01 11:31 2021  \u001b[34msecrets.py\u001b[0m\n",
      "\u001b[0m     52  Feb 15 14:22 2021  \u001b[34mwebrepl_cfg.py\u001b[0m\n",
      "\u001b[0m"
     ]
    }
   ],
   "source": [
    "%rlist"
   ]
  },
  {
   "cell_type": "code",
   "execution_count": 1,
   "id": "figured-manhattan",
   "metadata": {},
   "outputs": [
    {
     "name": "stdout",
     "output_type": "stream",
     "text": [
      "m\u001b[0mp\u001b[0m:\u001b[0m/\u001b[0m/\u001b[0m1\u001b[0m0\u001b[0m.\u001b[0m3\u001b[0m9\u001b[0m.\u001b[0m4\u001b[0m0\u001b[0m.\u001b[0m1\u001b[0m3\u001b[0m5\u001b[0m:\u001b[0m5\u001b[0m4\u001b[0m3\u001b[0m2\u001b[0m1\u001b[0m\n",
      "\u001b[0ms\u001b[0me\u001b[0mr\u001b[0mv\u001b[0me\u001b[0m \u001b[0m(\u001b[0m'\u001b[0m1\u001b[0m0\u001b[0m.\u001b[0m3\u001b[0m9\u001b[0m.\u001b[0m4\u001b[0m0\u001b[0m.\u001b[0m1\u001b[0m1\u001b[0m4\u001b[0m'\u001b[0m,\u001b[0m \u001b[0m5\u001b[0m9\u001b[0m9\u001b[0m8\u001b[0m9\u001b[0m)\u001b[0m\n",
      "\u001b[0m-\u001b[0m9\u001b[0m4\u001b[0m\n",
      "\u001b[0ms\u001b[0me\u001b[0mr\u001b[0mv\u001b[0me\u001b[0m \u001b[0m(\u001b[0m'\u001b[0m1\u001b[0m0\u001b[0m.\u001b[0m3\u001b[0m9\u001b[0m.\u001b[0m4\u001b[0m0\u001b[0m.\u001b[0m1\u001b[0m1\u001b[0m4\u001b[0m'\u001b[0m,\u001b[0m \u001b[0m6\u001b[0m0\u001b[0m0\u001b[0m6\u001b[0m4\u001b[0m)\u001b[0m\n",
      "\u001b[0mm\u001b[0mi\u001b[0mc\u001b[0mr\u001b[0mo\u001b[0mp\u001b[0my\u001b[0mt\u001b[0mh\u001b[0mo\u001b[0mn\u001b[0mT\u001b[0mr\u001b[0ma\u001b[0mc\u001b[0me\u001b[0mb\u001b[0ma\u001b[0mc\u001b[0mk\u001b[0m \u001b[0m(\u001b[0mm\u001b[0mo\u001b[0ms\u001b[0mt\u001b[0m \u001b[0mr\u001b[0me\u001b[0mc\u001b[0me\u001b[0mn\u001b[0mt\u001b[0m \u001b[0mc\u001b[0ma\u001b[0ml\u001b[0ml\u001b[0m \u001b[0ml\u001b[0ma\u001b[0ms\u001b[0mt\u001b[0m)\u001b[0m:\u001b[0m\n",
      "\u001b[0m \u001b[0m \u001b[0mF\u001b[0mi\u001b[0ml\u001b[0me\u001b[0m \u001b[0m\"\u001b[0m/\u001b[0ml\u001b[0mi\u001b[0mb\u001b[0m/\u001b[0mm\u001b[0mp\u001b[0m/\u001b[0ma\u001b[0ms\u001b[0my\u001b[0mn\u001b[0mc\u001b[0m_\u001b[0ms\u001b[0me\u001b[0mr\u001b[0mv\u001b[0me\u001b[0mr\u001b[0m.\u001b[0mp\u001b[0my\u001b[0m\"\u001b[0m,\u001b[0m \u001b[0ml\u001b[0mi\u001b[0mn\u001b[0me\u001b[0m \u001b[0m8\u001b[0m2\u001b[0m,\u001b[0m \u001b[0mi\u001b[0mn\u001b[0m \u001b[0md\u001b[0mo\u001b[0m_\u001b[0me\u001b[0mv\u001b[0me\u001b[0mx\u001b[0m\n",
      "\u001b[0m \u001b[0m \u001b[0mF\u001b[0mi\u001b[0ml\u001b[0me\u001b[0m \u001b[0m\"\u001b[0m<\u001b[0ms\u001b[0mt\u001b[0mr\u001b[0mi\u001b[0mn\u001b[0mg\u001b[0m>\u001b[0m\"\u001b[0m,\u001b[0m \u001b[0ml\u001b[0mi\u001b[0mn\u001b[0me\u001b[0m \u001b[0m1\u001b[0m,\u001b[0m \u001b[0mi\u001b[0mn\u001b[0m \u001b[0m<\u001b[0mm\u001b[0mo\u001b[0md\u001b[0mu\u001b[0ml\u001b[0me\u001b[0m>\u001b[0m\n",
      "\u001b[0mN\u001b[0ma\u001b[0mm\u001b[0me\u001b[0mE\u001b[0mr\u001b[0mr\u001b[0mo\u001b[0mr\u001b[0m:\u001b[0m \u001b[0mn\u001b[0ma\u001b[0mm\u001b[0me\u001b[0m \u001b[0m'\u001b[0m_\u001b[0m_\u001b[0mi\u001b[0mo\u001b[0mt\u001b[0m4\u001b[0m9\u001b[0m_\u001b[0m_\u001b[0m'\u001b[0m \u001b[0mi\u001b[0ms\u001b[0mn\u001b[0m'\u001b[0mt\u001b[0m \u001b[0md\u001b[0me\u001b[0mf\u001b[0mi\u001b[0mn\u001b[0me\u001b[0md\u001b[0m\n",
      "\u001b[0m/\u001b[0mD\u001b[0m,\u001b[0m0\u001b[0m,\u001b[0m'\u001b[0m'\u001b[0m,\u001b[0m9\u001b[0m4\u001b[0m6\u001b[0m6\u001b[0m8\u001b[0m4\u001b[0m8\u001b[0m0\u001b[0m0\u001b[0m,\u001b[0m5\u001b[0m\n",
      "\u001b[0mF\u001b[0m,\u001b[0m1\u001b[0m,\u001b[0m'\u001b[0mb\u001b[0mo\u001b[0mo\u001b[0mt\u001b[0m.\u001b[0mp\u001b[0my\u001b[0m'\u001b[0m,\u001b[0m1\u001b[0m6\u001b[0m1\u001b[0m3\u001b[0m4\u001b[0m9\u001b[0m7\u001b[0m0\u001b[0m2\u001b[0m6\u001b[0m,\u001b[0m1\u001b[0m6\u001b[0m6\u001b[0m8\u001b[0m\n",
      "\u001b[0mD\u001b[0m,\u001b[0m1\u001b[0m,\u001b[0m'\u001b[0ml\u001b[0mi\u001b[0mb\u001b[0m'\u001b[0m,\u001b[0m9\u001b[0m4\u001b[0m6\u001b[0m6\u001b[0m8\u001b[0m4\u001b[0m8\u001b[0m0\u001b[0m0\u001b[0m,\u001b[0m2\u001b[0m\n",
      "\u001b[0mD\u001b[0m,\u001b[0m2\u001b[0m,\u001b[0m'\u001b[0mm\u001b[0mp\u001b[0m'\u001b[0m,\u001b[0m9\u001b[0m4\u001b[0m6\u001b[0m6\u001b[0m8\u001b[0m4\u001b[0m8\u001b[0m0\u001b[0m0\u001b[0m,\u001b[0m3\u001b[0m\n",
      "\u001b[0mF\u001b[0m,\u001b[0m3\u001b[0m,\u001b[0m'\u001b[0m_\u001b[0m_\u001b[0mi\u001b[0mn\u001b[0mi\u001b[0mt\u001b[0m_\u001b[0m_\u001b[0m.\u001b[0mp\u001b[0my\u001b[0m'\u001b[0m,\u001b[0m1\u001b[0m6\u001b[0m1\u001b[0m3\u001b[0m4\u001b[0m1\u001b[0m1\u001b[0m6\u001b[0m2\u001b[0m9\u001b[0m,\u001b[0m1\u001b[0m0\u001b[0m0\u001b[0m\n",
      "\u001b[0mF\u001b[0m,\u001b[0m3\u001b[0m,\u001b[0m'\u001b[0ma\u001b[0ms\u001b[0my\u001b[0mn\u001b[0mc\u001b[0m_\u001b[0ms\u001b[0me\u001b[0mr\u001b[0mv\u001b[0me\u001b[0mr\u001b[0m.\u001b[0mp\u001b[0my\u001b[0m'\u001b[0m,\u001b[0m1\u001b[0m6\u001b[0m1\u001b[0m3\u001b[0m4\u001b[0m9\u001b[0m8\u001b[0m8\u001b[0m2\u001b[0m5\u001b[0m,\u001b[0m5\u001b[0m3\u001b[0m9\u001b[0m8\u001b[0m\n",
      "\u001b[0mF\u001b[0m,\u001b[0m3\u001b[0m,\u001b[0m'\u001b[0ms\u001b[0me\u001b[0mr\u001b[0mv\u001b[0me\u001b[0mr\u001b[0m.\u001b[0mp\u001b[0my\u001b[0m'\u001b[0m,\u001b[0m1\u001b[0m6\u001b[0m1\u001b[0m3\u001b[0m4\u001b[0m1\u001b[0m1\u001b[0m2\u001b[0m5\u001b[0m0\u001b[0m,\u001b[0m6\u001b[0m0\u001b[0m0\u001b[0m0\u001b[0m\n",
      "\u001b[0mD\u001b[0m,\u001b[0m2\u001b[0m,\u001b[0m'\u001b[0mo\u001b[0mt\u001b[0ma\u001b[0m3\u001b[0m2\u001b[0m'\u001b[0m,\u001b[0m9\u001b[0m4\u001b[0m6\u001b[0m6\u001b[0m8\u001b[0m4\u001b[0m8\u001b[0m0\u001b[0m0\u001b[0m,\u001b[0m3\u001b[0m\n",
      "\u001b[0mF\u001b[0m,\u001b[0m3\u001b[0m,\u001b[0m'\u001b[0m_\u001b[0m_\u001b[0mi\u001b[0mn\u001b[0mi\u001b[0mt\u001b[0m_\u001b[0m_\u001b[0m.\u001b[0mp\u001b[0my\u001b[0m'\u001b[0m,\u001b[0m1\u001b[0m6\u001b[0m1\u001b[0m3\u001b[0m3\u001b[0m9\u001b[0m8\u001b[0m9\u001b[0m6\u001b[0m8\u001b[0m,\u001b[0m5\u001b[0m1\u001b[0m\n",
      "\u001b[0mF\u001b[0m,\u001b[0m3\u001b[0m,\u001b[0m'\u001b[0mo\u001b[0mp\u001b[0me\u001b[0mn\u001b[0m_\u001b[0mu\u001b[0mr\u001b[0ml\u001b[0m.\u001b[0mp\u001b[0my\u001b[0m'\u001b[0m,\u001b[0m1\u001b[0m6\u001b[0m1\u001b[0m3\u001b[0m3\u001b[0m9\u001b[0m8\u001b[0m9\u001b[0m7\u001b[0m0\u001b[0m,\u001b[0m2\u001b[0m0\u001b[0m4\u001b[0m8\u001b[0m\n",
      "\u001b[0mF\u001b[0m,\u001b[0m3\u001b[0m,\u001b[0m'\u001b[0mo\u001b[0mt\u001b[0ma\u001b[0m.\u001b[0mp\u001b[0my\u001b[0m'\u001b[0m,\u001b[0m1\u001b[0m6\u001b[0m1\u001b[0m3\u001b[0m3\u001b[0m9\u001b[0m8\u001b[0m9\u001b[0m6\u001b[0m8\u001b[0m,\u001b[0m3\u001b[0m4\u001b[0m8\u001b[0m9\u001b[0m\n",
      "\u001b[0mF\u001b[0m,\u001b[0m1\u001b[0m,\u001b[0m'\u001b[0mm\u001b[0mp\u001b[0m_\u001b[0mm\u001b[0ma\u001b[0mi\u001b[0mn\u001b[0m.\u001b[0mp\u001b[0my\u001b[0m'\u001b[0m,\u001b[0m1\u001b[0m6\u001b[0m1\u001b[0m3\u001b[0m4\u001b[0m9\u001b[0m8\u001b[0m8\u001b[0m2\u001b[0m4\u001b[0m,\u001b[0m4\u001b[0m1\u001b[0m8\u001b[0m\n",
      "\u001b[0mF\u001b[0m,\u001b[0m1\u001b[0m,\u001b[0m'\u001b[0ms\u001b[0me\u001b[0mc\u001b[0mr\u001b[0me\u001b[0mt\u001b[0ms\u001b[0m.\u001b[0mp\u001b[0my\u001b[0m'\u001b[0m,\u001b[0m1\u001b[0m6\u001b[0m1\u001b[0m2\u001b[0m1\u001b[0m7\u001b[0m9\u001b[0m0\u001b[0m9\u001b[0m1\u001b[0m,\u001b[0m2\u001b[0m4\u001b[0m5\u001b[0m\n",
      "\u001b[0mF\u001b[0m,\u001b[0m1\u001b[0m,\u001b[0m'\u001b[0mw\u001b[0me\u001b[0mb\u001b[0mr\u001b[0me\u001b[0mp\u001b[0ml\u001b[0m_\u001b[0mc\u001b[0mf\u001b[0mg\u001b[0m.\u001b[0mp\u001b[0my\u001b[0m'\u001b[0m,\u001b[0m1\u001b[0m6\u001b[0m1\u001b[0m3\u001b[0m3\u001b[0m9\u001b[0m8\u001b[0m9\u001b[0m6\u001b[0m8\u001b[0m,\u001b[0m5\u001b[0m2\u001b[0m\n",
      "\u001b[0m\n",
      "\u001b[0mW\u001b[0me\u001b[0mb\u001b[0mR\u001b[0mE\u001b[0mP\u001b[0mL\u001b[0m \u001b[0mc\u001b[0mo\u001b[0mn\u001b[0mn\u001b[0me\u001b[0mc\u001b[0mt\u001b[0mi\u001b[0mo\u001b[0mn\u001b[0m \u001b[0mf\u001b[0mr\u001b[0mo\u001b[0mm\u001b[0m:\u001b[0m \u001b[0m(\u001b[0m'\u001b[0m1\u001b[0m0\u001b[0m.\u001b[0m3\u001b[0m9\u001b[0m.\u001b[0m4\u001b[0m0\u001b[0m.\u001b[0m1\u001b[0m1\u001b[0m4\u001b[0m'\u001b[0m,\u001b[0m \u001b[0m6\u001b[0m3\u001b[0m5\u001b[0m7\u001b[0m3\u001b[0m)\u001b[0m\n",
      "\u001b[0m"
     ]
    },
    {
     "name": "stderr",
     "output_type": "stream",
     "text": [
      "Traceback (most recent call last):\n",
      "  File \"<stdin>\", line 1, in <module>\n",
      "  File \"mp_main.py\", line 18, in <module>\n",
      "  File \"uasyncio/core.py\", line 1, in run\n",
      "  File \"uasyncio/core.py\", line 1, in run_until_complete\n",
      "  File \"mp_main.py\", line 16, in main\n",
      "  File \"uasyncio/core.py\", line 1, in run_forever\n",
      "  File \"uasyncio/core.py\", line 1, in run_until_complete\n",
      "  File \"uasyncio/core.py\", line 1, in wait_io_event\n",
      "KeyboardInterrupt: \n",
      "\u001b[0m\n"
     ]
    }
   ],
   "source": [
    "import mp_main\n",
    "\n",
    "# now connect from a different notebook"
   ]
  }
 ],
 "metadata": {
  "kernelspec": {
   "display_name": "IoT",
   "language": "python",
   "name": "iot_kernel"
  },
  "language_info": {
   "codemirror_mode": {
    "name": "python",
    "version": 3
   },
   "file_extension": ".py",
   "mimetype": "text/x-python",
   "name": "python",
   "pygments_lexer": "python3",
   "version": "3"
  }
 },
 "nbformat": 4,
 "nbformat_minor": 5
}
