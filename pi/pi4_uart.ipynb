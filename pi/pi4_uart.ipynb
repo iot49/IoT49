{
 "cells": [
  {
   "cell_type": "markdown",
   "id": "881d87ef",
   "metadata": {},
   "source": [
    "# Rpi serial ports\n",
    "\n",
    "* [Official Documentation](https://www.raspberrypi.org/documentation/configuration/uart.md)\n",
    "* [\n",
    "Pi-4 Activating additional UART ports](https://www.raspberrypi.org/forums/viewtopic.php?t=244827)\n",
    "\n",
    "* default:\n",
    "   * UART0 (PL011): \n",
    "       * secondary (Bluetooth)\n",
    "       * /dev/serial0\n",
    "   * UART1 (mini UART): \n",
    "       * primary @ GPIO 14 & 15\n",
    "       * /dev/serial1\n",
    "   * UART2 ... 5 (PL011)"
   ]
  },
  {
   "cell_type": "markdown",
   "id": "9504e124",
   "metadata": {},
   "source": [
    "```\n",
    "        TXD RXD CTS RTS     MOTOR_HAT\n",
    "uart0   14  15              RX, TX (STM32 UART 3, DFU)\n",
    "uart1   14  15              \n",
    "uart2   0   1   2   3       \n",
    "uart3   4   5   6   7       RX_AUX, TX_AUX (STM32 UART 6, no DFU)\n",
    "uart4   8   9   10  11      \n",
    "uart5   12  13  14  15      \n",
    "```"
   ]
  },
  {
   "cell_type": "markdown",
   "id": "62bcc4ce",
   "metadata": {},
   "source": [
    "## Enable UARTS\n",
    "\n",
    "Add the following to the `[p4]` section in `/boot/config.txt`:\n",
    "\n",
    "```\n",
    "[pi4]\n",
    "dtoverlay=uart3\n",
    "```\n",
    "\n",
    "#### `enable_uart=1`\n",
    "\n",
    "All enable_uart=1 does is restore the default serial UART to pins 8 & 10 (GPIO 14 & 15), which is assigned to the Bluetooth module on Pi models with wireless (4B, Pi0W and 3B/3B+).\n",
    "\n",
    "**Messes up BT, leave alone (and these pins)**"
   ]
  },
  {
   "cell_type": "code",
   "execution_count": 13,
   "id": "66ee07f8",
   "metadata": {},
   "outputs": [
    {
     "name": "stdout",
     "output_type": "stream",
     "text": [
      "# Enable audio (loads snd_bcm2835)\n",
      "dtparam=audio=on\n",
      "\n",
      "[pi4]\n",
      "# Enable DRM VC4 V3D driver on top of the dispmanx display stack\n",
      "dtoverlay=vc4-fkms-v3d\n",
      "max_framebuffers=2\n",
      "\n",
      "[all]\n",
      "#dtoverlay=vc4-fkms-v3d\n"
     ]
    }
   ],
   "source": [
    "!tail /boot/config.txt "
   ]
  },
  {
   "cell_type": "markdown",
   "id": "5423d03e",
   "metadata": {},
   "source": [
    "## Port functions"
   ]
  },
  {
   "cell_type": "code",
   "execution_count": 16,
   "id": "308bdbbc",
   "metadata": {},
   "outputs": [
    {
     "name": "stdout",
     "output_type": "stream",
     "text": [
      "GPIO 14: level=1 fsel=0 func=INPUT pull=NONE\n",
      "GPIO 15: level=1 fsel=0 func=INPUT pull=UP\n"
     ]
    }
   ],
   "source": [
    "!raspi-gpio get 14-15"
   ]
  },
  {
   "cell_type": "markdown",
   "id": "8a904dc3",
   "metadata": {},
   "source": [
    "---\n",
    "**Bluetooth UART selection**\n",
    "\n",
    "---\n",
    "\n",
    "* Bluetooth apparently is on GPIO 32/33\n",
    "    * UART0 and UART1 (mini UART) are available on these pins\n",
    "    * By default uses UART0, can be switched to mini UART (?)\n",
    "* Only UART0 & UART1 are available on GPIO 14/15!\n",
    "* Hence GPIO 14/15 can only use the MiniUART\n",
    "* Use different pins for STM32!!!\n",
    "    * E.g. UART5 on GPIO 12/13\n",
    "    * requires board mod (incompatible with Pi3 & PiZero)\n",
    "    \n",
    "**Compromise?**\n",
    "\n",
    "* Flash via USB (dfutil)\n",
    "* Use mini UART (UART3 on STM32) for REPL\n",
    "* Use UART3 (Pi, UART6 on STM32) for comm"
   ]
  },
  {
   "cell_type": "markdown",
   "id": "f897fff4",
   "metadata": {},
   "source": [
    "Adding `enable_uart=1` to config.txt on a Pi4 enables ttyS0 (UART1 = mini UART) on GPIOs 14 & 15 (Alt5), leaving UART0 driving the Bluetooth interface on 30-33 (Alt3). \n",
    "\n",
    "Adding `dtoverlay=disable-bt` switches the UART roles so that UART0 is mapped to 14 & 15 (Alt0), leaving UART1 unmapped."
   ]
  },
  {
   "cell_type": "code",
   "execution_count": 15,
   "id": "1191afe3",
   "metadata": {},
   "outputs": [
    {
     "name": "stdout",
     "output_type": "stream",
     "text": [
      "GPIO 32: level=1 fsel=7 alt=3 func=TXD0 pull=NONE\n",
      "GPIO 33: level=1 fsel=7 alt=3 func=RXD0 pull=UP\n",
      "GPIO 34: level=1 fsel=7 alt=3 func=SD1_CLK pull=NONE\n",
      "GPIO 35: level=1 fsel=7 alt=3 func=SD1_CMD pull=UP\n",
      "GPIO 36: level=1 fsel=7 alt=3 func=SD1_DAT0 pull=UP\n",
      "GPIO 37: level=1 fsel=7 alt=3 func=SD1_DAT1 pull=UP\n",
      "GPIO 38: level=1 fsel=7 alt=3 func=SD1_DAT2 pull=UP\n",
      "GPIO 39: level=1 fsel=7 alt=3 func=SD1_DAT3 pull=UP\n",
      "GPIO 40: level=0 fsel=4 alt=0 func=PWM1_0 pull=NONE\n",
      "GPIO 41: level=0 fsel=4 alt=0 func=PWM1_1 pull=NONE\n"
     ]
    }
   ],
   "source": [
    "!raspi-gpio get 32-41 "
   ]
  },
  {
   "cell_type": "code",
   "execution_count": 21,
   "id": "3b8281a9",
   "metadata": {
    "tags": []
   },
   "outputs": [
    {
     "name": "stdout",
     "output_type": "stream",
     "text": [
      "0, UP, SDA0, SA5, PCLK, SPI3_CE0_N, TXD2, SDA6\n",
      "1, UP, SCL0, SA4, DE, SPI3_MISO, RXD2, SCL6\n"
     ]
    }
   ],
   "source": [
    "!raspi-gpio funcs | grep XD2"
   ]
  },
  {
   "cell_type": "code",
   "execution_count": 11,
   "id": "884cced0",
   "metadata": {
    "tags": []
   },
   "outputs": [
    {
     "name": "stdout",
     "output_type": "stream",
     "text": [
      "Params: txd0_pin                GPIO pin for TXD0 (14, 32 or 36 - default 14)\n",
      "        rxd0_pin                GPIO pin for RXD0 (15, 33 or 37 - default 15)\n",
      "Params: txd1_pin                GPIO pin for TXD1 (14, 32 or 40 - default 14)\n",
      "        rxd1_pin                GPIO pin for RXD1 (15, 33 or 41 - default 15)\n",
      "Info:   Enable uart 3 on GPIOs 4-7. BCM2711 only.\n",
      "Params: ctsrts                  Enable CTS/RTS on GPIOs 6-7 (default off)\n"
     ]
    }
   ],
   "source": [
    "!dtoverlay -h uart0 | grep GPIO\n",
    "!dtoverlay -h uart1 | grep GPIO\n",
    "!dtoverlay -h uart3 | grep GPIO"
   ]
  },
  {
   "cell_type": "code",
   "execution_count": 12,
   "id": "5b43c0fe",
   "metadata": {},
   "outputs": [
    {
     "name": "stdout",
     "output_type": "stream",
     "text": [
      "Info:   Enable uart 3 on GPIOs 4-7. BCM2711 only.\n",
      "Params: ctsrts                  Enable CTS/RTS on GPIOs 6-7 (default off)\n"
     ]
    }
   ],
   "source": [
    "!dtoverlay -h uart3 | grep GPIO"
   ]
  },
  {
   "cell_type": "markdown",
   "id": "51e606de",
   "metadata": {},
   "source": [
    "## 1) Remap Serial Ports (BT uses miniuart, Pi header uses main uart)\n",
    "\n",
    "Note: also fix Pi clock frequency for BT to work (havn't done that)."
   ]
  },
  {
   "cell_type": "code",
   "execution_count": 7,
   "id": "2e522c61",
   "metadata": {},
   "outputs": [
    {
     "name": "stdout",
     "output_type": "stream",
     "text": [
      "# Enable audio (loads snd_bcm2835)\n",
      "dtparam=audio=on\n",
      "\n",
      "[pi4]\n",
      "# Enable DRM VC4 V3D driver on top of the dispmanx display stack\n",
      "dtoverlay=vc4-fkms-v3d\n",
      "max_framebuffers=2\n",
      "\n",
      "[all]\n",
      "#dtoverlay=vc4-fkms-v3d\n"
     ]
    }
   ],
   "source": [
    "!tail /boot/config.txt"
   ]
  },
  {
   "cell_type": "code",
   "execution_count": 2,
   "id": "aae1b79d",
   "metadata": {},
   "outputs": [
    {
     "name": "stdout",
     "output_type": "stream",
     "text": [
      "/dev/serial1\n"
     ]
    }
   ],
   "source": [
    "!ls /dev/serial*"
   ]
  },
  {
   "cell_type": "markdown",
   "id": "333831b7",
   "metadata": {},
   "source": [
    "Pi 3, Pi Zero W: serial0->ttyS0 points to GPIO pins 8, 10.\n",
    "\n",
    "So where possible refer to the serial port via it’s alias of “serial0” and your code should work on both Raspberry Pi 3 and other Raspberry Pi’s."
   ]
  },
  {
   "cell_type": "code",
   "execution_count": 3,
   "id": "4d24c070",
   "metadata": {},
   "outputs": [
    {
     "name": "stdout",
     "output_type": "stream",
     "text": [
      "lrwxrwxrwx 1 root root          7 Apr 20 17:10 /dev/serial1 -> ttyAMA0\n",
      "crw-rw---- 1 root dialout 204, 64 Apr 20 17:10 /dev/ttyAMA0\n",
      "crw-rw---- 1 root dialout 204, 65 Apr 20 17:10 /dev/ttyAMA1\n",
      "crw-rw---- 1 root dialout 204, 66 Apr 20 17:10 /dev/ttyAMA2\n"
     ]
    }
   ],
   "source": [
    "!ls -l /dev/serial* /dev/ttyA*"
   ]
  },
  {
   "cell_type": "code",
   "execution_count": 3,
   "id": "764e42ac-a9d8-4b9e-a726-05356e42cf4e",
   "metadata": {},
   "outputs": [
    {
     "name": "stdout",
     "output_type": "stream",
     "text": [
      "\u001b[0m"
     ]
    },
    {
     "name": "stderr",
     "output_type": "stream",
     "text": [
      "Device not available: '/dev/ttyAMA2'\u001b[0m\n"
     ]
    }
   ],
   "source": [
    "%connect '/dev/ttyAMA2'"
   ]
  },
  {
   "cell_type": "markdown",
   "id": "af899216",
   "metadata": {},
   "source": [
    "## 2) Disable the Console\n",
    "\n",
    "By default the Raspberry Pi uses the serial port for the “console” login and via a software service called “getty”.\n",
    "If you are using the serial port for anything other than the console you need to disable it. This will be slightly different depending on whether you are running a Raspberry Pi 3 or not.\n",
    "For non Raspberry Pi 3 machines, remember it’s /dev/ttyAMA0 that is linked to the getty (console) service.\n",
    "\n",
    "For Raspberry Pi 3’s the command is referencing /dev/ttyS0:"
   ]
  },
  {
   "cell_type": "code",
   "execution_count": 3,
   "id": "1574295d",
   "metadata": {},
   "outputs": [],
   "source": [
    "!sudo systemctl stop serial-getty@ttyS0.service\n",
    "!sudo systemctl disable serial-getty@ttyS0.service"
   ]
  },
  {
   "cell_type": "code",
   "execution_count": 3,
   "id": "2c231e27",
   "metadata": {},
   "outputs": [
    {
     "name": "stdout",
     "output_type": "stream",
     "text": [
      "console=tty1 root=PARTUUID=f0071ff7-02 rootfstype=ext4 elevator=deadline fsck.repair=yes rootwait\n"
     ]
    }
   ],
   "source": [
    "# remove 'console=serial0,115200' from `/boot/cmdline.txt`\n",
    "\n",
    "%cat  /boot/cmdline.txt"
   ]
  },
  {
   "cell_type": "markdown",
   "id": "703a1a6b",
   "metadata": {},
   "source": [
    "## 3) Loopback Test\n",
    "\n",
    "Disable uart0 if its pins (8,10) are shorted to uart4 (pins 21, 24) ...\n",
    "\n",
    "```\n",
    "[pi4]\n",
    "dtoverlay=uart3\n",
    "dtoverlay=uart4\n",
    "enable_uart=0\n",
    "```\n",
    "\n",
    "short RX and TX pins, then:"
   ]
  },
  {
   "cell_type": "code",
   "execution_count": 3,
   "id": "c2227072",
   "metadata": {},
   "outputs": [
    {
     "name": "stdout",
     "output_type": "stream",
     "text": [
      "b'Hello world!'\n",
      "b'Hello world!'\n",
      "b'Hello world!'\n",
      "b'Hello world!'\n",
      "b'Hello world!'\n",
      "b'Hello world!'\n",
      "b'Hello world!'\n",
      "b'Hello world!'\n",
      "b'Hello world!'\n",
      "b'Hello world!'\n"
     ]
    }
   ],
   "source": [
    "%%host\n",
    "\n",
    "\n",
    "import serial, time\n",
    "\n",
    "port = \"/dev/serial0\"\n",
    "port = \"/dev/ttyAMA1\"  # uart3\n",
    "# port = \"/dev/ttyAMA2\"  # uart4\n",
    "\n",
    "\n",
    "with serial.Serial(port, baudrate=9600, timeout=3.0) as dev:\n",
    "    for i in range(10):\n",
    "        dev.write(b\"Hello world!\")\n",
    "        rcv = dev.read(12)\n",
    "        print(rcv)"
   ]
  },
  {
   "cell_type": "code",
   "execution_count": 2,
   "id": "4e97d068-81e4-436d-9ea8-3a6c7f40e053",
   "metadata": {},
   "outputs": [
    {
     "name": "stdout",
     "output_type": "stream",
     "text": [
      "/dev/ttyAMA0  /dev/ttyAMA1  /dev/ttyAMA2\n"
     ]
    }
   ],
   "source": [
    "!ls /dev/ttyA*"
   ]
  },
  {
   "cell_type": "code",
   "execution_count": 13,
   "id": "c7fdef2d-528e-46a8-8dde-989e51545678",
   "metadata": {},
   "outputs": [
    {
     "name": "stdout",
     "output_type": "stream",
     "text": [
      "# Enable DRM VC4 V3D driver on top of the dispmanx display stack\n",
      "dtoverlay=vc4-fkms-v3d\n",
      "max_framebuffers=2\n",
      "dtoverlay=uart3\n",
      "dtoverlay=uart4\n",
      "\n",
      "[all]\n",
      "#dtoverlay=vc4-fkms-v3d\n",
      "gpu_mem=32\n",
      "enable_uart=0\n"
     ]
    }
   ],
   "source": [
    "!tail /boot/config.txt"
   ]
  },
  {
   "cell_type": "code",
   "execution_count": null,
   "id": "579a9075-9422-4d57-bf1b-c8ba50e4e009",
   "metadata": {},
   "outputs": [],
   "source": []
  }
 ],
 "metadata": {
  "kernelspec": {
   "display_name": "IoT",
   "language": "python",
   "name": "iot_kernel"
  },
  "language_info": {
   "codemirror_mode": {
    "name": "python",
    "version": 3
   },
   "file_extension": ".py",
   "mimetype": "text/x-python",
   "name": "python",
   "pygments_lexer": "python3",
   "version": "3"
  },
  "toc-autonumbering": false
 },
 "nbformat": 4,
 "nbformat_minor": 5
}
