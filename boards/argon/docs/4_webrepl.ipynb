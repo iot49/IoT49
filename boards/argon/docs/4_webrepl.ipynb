{
 "cells": [
  {
   "cell_type": "markdown",
   "id": "generous-bench",
   "metadata": {},
   "source": [
    "# Webrepl\n",
    "\n",
    "Wireless access of Particle Argon ESP32 via webrepl."
   ]
  },
  {
   "cell_type": "code",
   "execution_count": 1,
   "id": "entitled-tsunami",
   "metadata": {},
   "outputs": [
    {
     "name": "stdout",
     "output_type": "stream",
     "text": [
      "\u001b[0mtest-stm32      serial:///dev/cu.usbmodem208E307542522  \u001b[0m\n",
      "test-argon      serial:///dev/cu.usbmodem1414301        \u001b[0m\n",
      "test-esp32      serial:///dev/cu.usbserial-0160B5B8     \u001b[0m\n",
      "test-stm32-cop  serial:///dev/cu.usbserial-0143520E     \u001b[0m\n",
      "test-samd       serial:///dev/cu.usbmodem1413201        \u001b[0m\n",
      "\u001b[0mConnected to test-argon @ serial:///dev/cu.usbmodem1414301\u001b[0m\n",
      "\u001b[0m\u001b[32mCOPY    esp32/airlift_main.py\n",
      "\u001b[0m\u001b[0m\u001b[32mCOPY    esp32/boot.py\n",
      "\u001b[0m\u001b[0m\u001b[32mCOPY    esp32/main.py\n",
      "\u001b[0m\u001b[0m\u001b[32mCOPY    esp32/webrepl_cfg.py\n",
      "\u001b[0m\u001b[0m\u001b[0m\u001b[0m\n",
      "\u001b[46m\u001b[31m!!!!!!!!!!!!!!!!!!!!!!!!!!!!!!!\u001b[0m\n",
      "\u001b[46m\u001b[31m!!!!!   softreset ...     !!!!!\u001b[0m\n",
      "\u001b[46m\u001b[31m!!!!!!!!!!!!!!!!!!!!!!!!!!!!!!!\u001b[0m\n",
      "\u001b[0m\n"
     ]
    }
   ],
   "source": [
    "%discover\n",
    "%connect test-argon serial\n",
    "%rsync\n",
    "%softreset"
   ]
  },
  {
   "cell_type": "markdown",
   "id": "visible-economics",
   "metadata": {},
   "source": [
    "## Start webrepl on ESP32\n",
    "\n",
    "Options:\n",
    "\n",
    "1. start as desired from nrf52 using uRPC (below)\n",
    "2. enable in `boot.py` on esp32 (runs always)"
   ]
  },
  {
   "cell_type": "code",
   "execution_count": 1,
   "id": "boolean-powell",
   "metadata": {},
   "outputs": [],
   "source": [
    "from urpc import *\n",
    "import network\n",
    "\n",
    "webrepl = import_('webrepl')\n",
    "\n",
    "webrepl.start()\n",
    "network.WLAN(network.STA_IF).mdns_add_service('_ws', '_tcp', 8266)"
   ]
  },
  {
   "cell_type": "markdown",
   "id": "cardiovascular-tattoo",
   "metadata": {},
   "source": [
    "## test-argon-cop via webrepl"
   ]
  },
  {
   "cell_type": "code",
   "execution_count": 1,
   "id": "metric-clearing",
   "metadata": {},
   "outputs": [
    {
     "name": "stdout",
     "output_type": "stream",
     "text": [
      "\u001b[0mtest-stm32      serial:///dev/cu.usbmodem208E307542522  \u001b[0m\n",
      "test-esp32      ws://10.39.40.135:8266                  \u001b[0m\n",
      "test-argon      serial:///dev/cu.usbmodem1414301        \u001b[0m\n",
      "test-argon-cop  ws://10.39.40.140:8266                  \u001b[0m\n",
      "test-esp32      serial:///dev/cu.usbserial-0160B5B8     \u001b[0m\n",
      "test-stm32-cop  serial:///dev/cu.usbserial-0143520E     \u001b[0m\n",
      "test-samd       serial:///dev/cu.usbmodem1413201        \u001b[0m\n"
     ]
    }
   ],
   "source": [
    "%discover"
   ]
  },
  {
   "cell_type": "code",
   "execution_count": 1,
   "id": "norwegian-pointer",
   "metadata": {},
   "outputs": [
    {
     "name": "stdout",
     "output_type": "stream",
     "text": [
      "\u001b[0mConnected to test-argon-cop @ ws://10.39.40.140:8266\u001b[0m\n"
     ]
    }
   ],
   "source": [
    "%connect test-argon-cop"
   ]
  },
  {
   "cell_type": "code",
   "execution_count": 1,
   "id": "seasonal-julian",
   "metadata": {},
   "outputs": [
    {
     "name": "stdout",
     "output_type": "stream",
     "text": [
      "esp32\u001b[0m\n",
      "\u001b[0m"
     ]
    }
   ],
   "source": [
    "import sys\n",
    "print(sys.platform)"
   ]
  },
  {
   "cell_type": "code",
   "execution_count": 1,
   "id": "announced-ceiling",
   "metadata": {},
   "outputs": [
    {
     "name": "stdout",
     "output_type": "stream",
     "text": [
      "\u001b[0m    846  Feb 12 18:39 2021  \u001b[34mairlift_main.py\u001b[0m\n",
      "\u001b[0m   1528  Feb 12 18:39 2021  \u001b[34mboot.py\u001b[0m\n",
      "\u001b[0m                            \u001b[32mlib/\u001b[0m\n",
      "\u001b[0m                                \u001b[32mota32/\u001b[0m\n",
      "\u001b[0m     51  Feb 16 11:38 2021          \u001b[34m__init__.py\u001b[0m\n",
      "\u001b[0m   2048  Feb 16 11:38 2021          \u001b[34mopen_url.py\u001b[0m\n",
      "\u001b[0m   3489  Feb 16 11:38 2021          \u001b[34mota.py\u001b[0m\n",
      "\u001b[0m                                \u001b[32murpc_server/\u001b[0m\n",
      "\u001b[0m     38  Feb 16 11:38 2021          \u001b[34m__init__.py\u001b[0m\n",
      "\u001b[0m   3125  Feb 16 11:38 2021          \u001b[34masync_server.py\u001b[0m\n",
      "\u001b[0m     20  Feb 12 18:39 2021  \u001b[34mmain.py\u001b[0m\n",
      "\u001b[0m    245  Feb 16 11:38 2021  \u001b[34msecrets.py\u001b[0m\n",
      "\u001b[0m     52  Feb 12 18:39 2021  \u001b[34mwebrepl_cfg.py\u001b[0m\n",
      "\u001b[0m"
     ]
    }
   ],
   "source": [
    "%rlist"
   ]
  },
  {
   "cell_type": "code",
   "execution_count": null,
   "id": "alive-prospect",
   "metadata": {},
   "outputs": [],
   "source": []
  }
 ],
 "metadata": {
  "kernelspec": {
   "display_name": "IoT",
   "language": "python",
   "name": "iot_kernel"
  },
  "language_info": {
   "codemirror_mode": {
    "name": "python",
    "version": 3
   },
   "file_extension": ".py",
   "mimetype": "text/x-python",
   "name": "python",
   "pygments_lexer": "python3",
   "version": "3"
  }
 },
 "nbformat": 4,
 "nbformat_minor": 5
}
