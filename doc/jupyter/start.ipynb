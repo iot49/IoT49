{
 "cells": [
  {
   "cell_type": "markdown",
   "id": "collective-switch",
   "metadata": {},
   "source": [
    "# Getting Started with the Jupyter IoT Kernel"
   ]
  },
  {
   "cell_type": "markdown",
   "id": "further-victory",
   "metadata": {},
   "source": [
    "## Install Notbook Server\n",
    "\n",
    "A Jupyter Notebook server is required to use the IoT kernel. If you already have a working server proceed to the next section.\n",
    "\n",
    "Follow the online [Installation Instructions](https://jupyterlab.readthedocs.io/en/stable/getting_started/installation.html) to install the kernel on a suitable computer (e.g. a laptop). Be sure to have recent installation of [Python 3](https://www.python.org/downloads/).\n",
    "\n",
    "Start the server following the instructions and [verify](https://jupyterlab.readthedocs.io/en/stable/user/notebook.html) that you can create a Python 3 notebook and run code in it.\n",
    "\n",
    "#### Docker\n",
    "\n",
    "Docker is perhaps the most convenient way to install Jupyter. Unfortunately microcontroller programming requires access to USB ports. Docker has official support only for Linux machines. Make sure that USB devices are available from inside the kernel if you choose this route."
   ]
  },
  {
   "cell_type": "markdown",
   "id": "polyphonic-mauritius",
   "metadata": {},
   "source": [
    "## Install IoT Kernel\n",
    "\n",
    "The IoT kernel can be installed right from within a Jupyter Notebook. Open a new Pyton 3 notebook and run the following code (or use the command line, if you prefer):"
   ]
  },
  {
   "cell_type": "code",
   "execution_count": null,
   "id": "traditional-christopher",
   "metadata": {},
   "outputs": [],
   "source": [
    "%%bash\n",
    "\n",
    "pip install --upgrade iot-kernel\n",
    "jupyter iot_kernel install\n",
    "jupyter kernel list"
   ]
  },
  {
   "cell_type": "markdown",
   "id": "turkish-segment",
   "metadata": {},
   "source": [
    "Now if you create a new notebook a new option `IoT` identified with the MicroPython logo is available."
   ]
  },
  {
   "cell_type": "markdown",
   "id": "instructional-division",
   "metadata": {},
   "source": [
    "## Testing the Setup\n",
    "\n",
    "Create an IoT notebook (or download and open this one). As is customary in Jupyter Notebooks, the IoT kernel supports `magic` commands - commands on a separate line that start with a `%` symbol. Connect a microcontroller to the computer the server is running on and then run the `%discover` magic:"
   ]
  },
  {
   "cell_type": "code",
   "execution_count": 3,
   "id": "vulnerable-procurement",
   "metadata": {},
   "outputs": [
    {
     "name": "stdout",
     "output_type": "stream",
     "text": [
      "\u001b[0m30:ae:a4:28:39:f0              serial:///dev/cu.usbserial-0163A3DA     \n",
      "\u001b[0m"
     ]
    }
   ],
   "source": [
    "%discover"
   ]
  },
  {
   "cell_type": "markdown",
   "id": "corresponding-cornell",
   "metadata": {},
   "source": [
    "Now connect to the device & execute Python code:"
   ]
  },
  {
   "cell_type": "code",
   "execution_count": 3,
   "id": "consolidated-paint",
   "metadata": {},
   "outputs": [
    {
     "name": "stdout",
     "output_type": "stream",
     "text": [
      "\u001b[0mm\u001b[0mi\u001b[0mc\u001b[0mr\u001b[0mo\u001b[0mc\u001b[0mo\u001b[0mn\u001b[0mt\u001b[0mr\u001b[0mo\u001b[0ml\u001b[0ml\u001b[0me\u001b[0mr\u001b[0m:\u001b[0m \u001b[0me\u001b[0ms\u001b[0mp\u001b[0m3\u001b[0m2\u001b[0m,\u001b[0m \u001b[0mi\u001b[0mn\u001b[0mt\u001b[0me\u001b[0mr\u001b[0mp\u001b[0mr\u001b[0me\u001b[0mt\u001b[0me\u001b[0mr\u001b[0m:\u001b[0m \u001b[0mm\u001b[0mi\u001b[0mc\u001b[0mr\u001b[0mo\u001b[0mp\u001b[0my\u001b[0mt\u001b[0mh\u001b[0mo\u001b[0mn\u001b[0m\n",
      "\u001b[0m"
     ]
    }
   ],
   "source": [
    "%connect -q 30:ae:a4:28:39:f0\n",
    "                    \n",
    "import sys\n",
    "print(\"microcontroller: {}, interpreter: {}\". \\\n",
    "      format(sys.platform, sys.implementation.name))"
   ]
  },
  {
   "cell_type": "markdown",
   "id": "aboriginal-physiology",
   "metadata": {},
   "source": [
    "The Jupyter kernel refers to CPUs by their `unique id`. That's great for keeping them apart, but not easy to remember. \n",
    "\n",
    "Add the code below to a file called `devices.py` (change the name and uid to match your preference and microcontroller)\n",
    "\n",
    "```python\n",
    "device(uid = '30:ae:a4:28:39:f0', name = 'my_esp')\n",
    "```\n",
    "\n",
    "and save it at `~/iot49/config`. You may specify a different location of the `iot49` folder with environment variable `IOT49`."
   ]
  },
  {
   "cell_type": "code",
   "execution_count": 3,
   "id": "yellow-silence",
   "metadata": {},
   "outputs": [
    {
     "name": "stdout",
     "output_type": "stream",
     "text": [
      "\u001b[0mmy_esp                         serial:///dev/cu.usbserial-0163A3DA     \n",
      "\u001b[0m\u001b[0mConnected to my_esp @ serial:///dev/cu.usbserial-0163A3DA\n",
      "\u001b[0m"
     ]
    }
   ],
   "source": [
    "%discover\n",
    "%connect my_esp"
   ]
  },
  {
   "cell_type": "markdown",
   "id": "former-anger",
   "metadata": {},
   "source": [
    "## Magics\n",
    "\n",
    "By default, code typed into a cell is sent to the microcontroller for execution. Magics can control this behavior and instead send cell contents to the host (cpython) interpreter or the shell."
   ]
  },
  {
   "cell_type": "code",
   "execution_count": 17,
   "id": "incredible-convention",
   "metadata": {},
   "outputs": [
    {
     "name": "stdout",
     "output_type": "stream",
     "text": [
      "Interpreter: cpython on darwin\n",
      "uptime ...\n",
      "18:06  up 4 days,  7:12, 4 users, load averages: 2.37 2.46 2.29\n"
     ]
    }
   ],
   "source": [
    "%%host\n",
    "\n",
    "import sys\n",
    "print(\"Interpreter:\", sys.implementation.name, \"on\", sys.platform)\n",
    "\n",
    "%%bash\n",
    "\n",
    "echo \"uptime ...\"\n",
    "uptime"
   ]
  },
  {
   "cell_type": "markdown",
   "id": "bibliographic-capital",
   "metadata": {},
   "source": [
    "These directives apply only to the cell they are in, code typed in subsequent cells is again sent to the microcontroller.\n",
    "\n",
    "IoT Python comes with many magics. To get the full list:"
   ]
  },
  {
   "cell_type": "code",
   "execution_count": 17,
   "id": "distributed-corporation",
   "metadata": {},
   "outputs": [
    {
     "name": "stdout",
     "output_type": "stream",
     "text": [
      "\u001b[0mLine Magic:    -h shows help (e.g. %discover -h)\n",
      "\u001b[0m  %cat         Print contents of named file on microcontroller\n",
      "\u001b[0m  %cd          Change the working directory.\n",
      "\u001b[0m  %config      Show kernel configuration and hosts\n",
      "\u001b[0m  %connect     Connect to device\n",
      "\u001b[0m  %cp          Copy files between host and microcontroller.\n",
      "\u001b[0m  %discover    Discover available devices\n",
      "\u001b[0m  %gettime     Query microcontroller time\n",
      "\u001b[0m  %loglevel    Set logging level.\n",
      "\u001b[0m  %lsmagic     List all magic functions.\n",
      "\u001b[0m  %mkdirs      Create all directories specified by the path, as needed.\n",
      "\u001b[0m  %mpycross    Compile all .py files in projects.\n",
      "\u001b[0m  %name        Name of currently connected microcontroller.\n",
      "\u001b[0m  %pip         Install packages from PyPi\n",
      "\u001b[0m  %platform    sys.platform of currently connected device.\n",
      "\u001b[0m  %projects    Projects of currently connected device.\n",
      "\u001b[0m  %rdiff       Show differences between microcontroller and host directories\n",
      "\u001b[0m  %register    Register device\n",
      "\u001b[0m  %rlist       List files on microcontroller\n",
      "\u001b[0m  %rm          Delete files relative to path.\n",
      "\u001b[0m  %rsync       Synchronize microcontroller to host directories\n",
      "\u001b[0m  %softreset   Reset microcontroller. Similar to pressing the reset button.\n",
      "\u001b[0m  %store       Copy variables between microcontroller and storage.\n",
      "\u001b[0m  %synctime    Synchronize microcontroller time to host\n",
      "\u001b[0m  %uid         UID of currently connected microcontroller.\n",
      "\u001b[0m  %unregister  Unregister device\n",
      "\u001b[0m  %url         URL of currently connected microcontroller.\n",
      "\u001b[0m  !            Pass line to bash shell for evaluation.\n",
      "\u001b[0m\n",
      "Cell Magic:\n",
      "\u001b[0m  %%host       Pass cell to host (iPython) for evaluation.\n",
      "\u001b[0m  %%bash       Pass cell to the bash shell for evaluation.\n",
      "\u001b[0m  %%connect    Evaluate code sequentially on named devices.\n",
      "\u001b[0m               --host executes on host (iPython).\n",
      "\u001b[0m               Option -q supresses device name in output.\n",
      "\u001b[0m"
     ]
    }
   ],
   "source": [
    "%lsmagic"
   ]
  },
  {
   "cell_type": "markdown",
   "id": "subsequent-musician",
   "metadata": {},
   "source": [
    "Online help gives more information:"
   ]
  },
  {
   "cell_type": "code",
   "execution_count": 17,
   "id": "resistant-illinois",
   "metadata": {},
   "outputs": [
    {
     "name": "stdout",
     "output_type": "stream",
     "text": [
      "usage: %cp [-h] sources [sources ...] destination\n",
      "\n",
      "Copy files between host and microcontroller.\n",
      "\n",
      "positional arguments:\n",
      "  sources      Names of source files\n",
      "  destination  Name of destination file/directory\n",
      "\n",
      "optional arguments:\n",
      "  -h, --help   show this help message and exit\n",
      "\n",
      "File/directory names starting with colon (:) refer to the microcontroller.\n",
      "Path are relative to $host_dir on the host and root (/) on the microcontroller.\n",
      "\n",
      "CircuitPython: By default, CircuitPython disables writing to the\n",
      "               microcontroller filesystem. To enable, add the line\n",
      "\n",
      "                   storage.remount(\"/\", readonly=False)\"\n",
      "\n",
      "               to boot.py.\n",
      "\n",
      "Examples:\n",
      "    # copy file from host microcontroller, changing the name\n",
      "    %cp a.txt :b.txt\n",
      "\n",
      "    # same, filename on microcontroller is same as on host (a.txt)\n",
      "    %cp a.txt :\n",
      "\n",
      "    # copy several files to microcontroller\n",
      "    %cp a.txt b.txt :/\n",
      "\n",
      "    # copy files to subfolder\n",
      "    %mkdirs x/y\n",
      "    %cp a.txt b.txt :x/y/\n",
      "\n",
      "    # copy file from microcontroller to host\n",
      "    %cp :a.txt :b.txt ./\n",
      "    \n",
      "\u001b[0m"
     ]
    }
   ],
   "source": [
    "%cp -h"
   ]
  },
  {
   "cell_type": "markdown",
   "id": "cellular-singing",
   "metadata": {},
   "source": [
    "More information and possible usage scenarios is available in the guides [File Operations](file_ops.ipynb) and  [Software Develpment](sdev.ipynb)."
   ]
  }
 ],
 "metadata": {
  "kernelspec": {
   "display_name": "IoT",
   "language": "python",
   "name": "iot_kernel"
  },
  "language_info": {
   "codemirror_mode": {
    "name": "python",
    "version": 3
   },
   "file_extension": ".py",
   "mimetype": "text/x-python",
   "name": "python",
   "pygments_lexer": "python3",
   "version": "3"
  }
 },
 "nbformat": 4,
 "nbformat_minor": 5
}
