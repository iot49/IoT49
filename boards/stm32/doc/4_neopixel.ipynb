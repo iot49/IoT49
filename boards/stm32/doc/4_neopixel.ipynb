{
 "cells": [
  {
   "cell_type": "markdown",
   "metadata": {},
   "source": [
    "# STM32 Neopixel Driver\n",
    "\n",
    "* [Dave Hyland's Instructions](https://forum.micropython.org/viewtopic.php?f=12&t=8890&p=55195&hilit=adafruit+stm32#p55192)"
   ]
  },
  {
   "cell_type": "code",
   "execution_count": 1,
   "metadata": {},
   "outputs": [
    {
     "name": "stdout",
     "output_type": "stream",
     "text": [
      "\u001b[0mConnected to stm32 @ serial:///dev/cu.usbmodem2062307A42521\u001b[0m\n"
     ]
    }
   ],
   "source": [
    "%connect stm32\n",
    "\n",
    "import neopixel, time\n",
    "\n",
    "def set_color(np, color):\n",
    "    np[0] = color\n",
    "    np.write()\n",
    "    \n",
    "\n",
    "np = neopixel.NeoPixel(pyb.Pin('NEOPIXEL'), 1)\n",
    "for i in range(10):\n",
    "    for c in [(0, 0, 0), (0, 0, 1), (0, 0, 255)]:\n",
    "        set_color(np, c)\n",
    "        time.sleep(0.3)"
   ]
  },
  {
   "cell_type": "code",
   "execution_count": 1,
   "metadata": {},
   "outputs": [
    {
     "name": "stdout",
     "output_type": "stream",
     "text": [
      "\u001b[0m                            \u001b[32mflash/\u001b[0m\n",
      "\u001b[0m    372  Feb 25 17:17 2021      \u001b[34mboot.py\u001b[0m\n",
      "\u001b[0m                                \u001b[32mlib/\u001b[0m\n",
      "\u001b[0m   6644  Feb 25 17:17 2021          \u001b[34mbdevice.py\u001b[0m\n",
      "\u001b[0m   6731  Feb 25 17:17 2021          \u001b[34mflash_spi.py\u001b[0m\n",
      "\u001b[0m                            \u001b[32mspi/\u001b[0m\n",
      "\u001b[0m                                \u001b[32mlib/\u001b[0m\n",
      "\u001b[0m   6491  Feb 25 17:18 2021          \u001b[34mbno055.py\u001b[0m\n",
      "\u001b[0m   5598  Feb 25 17:18 2021          \u001b[34mbno055_base.py\u001b[0m\n",
      "\u001b[0m   1078  Feb 25 17:18 2021          \u001b[34mbno055_test.py\u001b[0m\n",
      "\u001b[0m    244  Feb 25 17:18 2021          \u001b[34minit_urpc_client.py\u001b[0m\n",
      "\u001b[0m   2094  Feb 25 17:18 2021          \u001b[34mlogging.py\u001b[0m\n",
      "\u001b[0m   1174  Feb 25 17:18 2021          \u001b[34mneopixel.py\u001b[0m\n",
      "\u001b[0m    317  Feb 25 17:18 2021      \u001b[34msecrets.py\u001b[0m\n",
      "\u001b[0m"
     ]
    }
   ],
   "source": [
    "%rlist"
   ]
  },
  {
   "cell_type": "code",
   "execution_count": 1,
   "metadata": {},
   "outputs": [
    {
     "name": "stdout",
     "output_type": "stream",
     "text": [
      "\u001b[0mi\u001b[0mm\u001b[0mp\u001b[0mo\u001b[0mr\u001b[0mt\u001b[0m \u001b[0mp\u001b[0my\u001b[0mb\u001b[0m,\u001b[0m \u001b[0mm\u001b[0mi\u001b[0mc\u001b[0mr\u001b[0mo\u001b[0mp\u001b[0my\u001b[0mt\u001b[0mh\u001b[0mo\u001b[0mn\u001b[0m\n",
      "\u001b[0m\n",
      "\u001b[0mp\u001b[0my\u001b[0mb\u001b[0m.\u001b[0mu\u001b[0ms\u001b[0mb\u001b[0m_\u001b[0mm\u001b[0mo\u001b[0md\u001b[0me\u001b[0m(\u001b[0m'\u001b[0mV\u001b[0mC\u001b[0mP\u001b[0m'\u001b[0m)\u001b[0m\n",
      "\u001b[0mm\u001b[0mi\u001b[0mc\u001b[0mr\u001b[0mo\u001b[0mp\u001b[0my\u001b[0mt\u001b[0mh\u001b[0mo\u001b[0mn\u001b[0m.\u001b[0ma\u001b[0ml\u001b[0ml\u001b[0mo\u001b[0mc\u001b[0m_\u001b[0me\u001b[0mm\u001b[0me\u001b[0mr\u001b[0mg\u001b[0me\u001b[0mn\u001b[0mc\u001b[0my\u001b[0m_\u001b[0me\u001b[0mx\u001b[0mc\u001b[0me\u001b[0mp\u001b[0mt\u001b[0mi\u001b[0mo\u001b[0mn\u001b[0m_\u001b[0mb\u001b[0mu\u001b[0mf\u001b[0m(\u001b[0m1\u001b[0m0\u001b[0m0\u001b[0m)\u001b[0m\n",
      "\u001b[0m\n",
      "\u001b[0mf\u001b[0mr\u001b[0mo\u001b[0mm\u001b[0m \u001b[0mm\u001b[0ma\u001b[0mc\u001b[0mh\u001b[0mi\u001b[0mn\u001b[0me\u001b[0m \u001b[0mi\u001b[0mm\u001b[0mp\u001b[0mo\u001b[0mr\u001b[0mt\u001b[0m \u001b[0mS\u001b[0mP\u001b[0mI\u001b[0m,\u001b[0m \u001b[0mP\u001b[0mi\u001b[0mn\u001b[0m\n",
      "\u001b[0mf\u001b[0mr\u001b[0mo\u001b[0mm\u001b[0m \u001b[0mf\u001b[0ml\u001b[0ma\u001b[0ms\u001b[0mh\u001b[0m_\u001b[0ms\u001b[0mp\u001b[0mi\u001b[0m \u001b[0mi\u001b[0mm\u001b[0mp\u001b[0mo\u001b[0mr\u001b[0mt\u001b[0m \u001b[0mF\u001b[0mL\u001b[0mA\u001b[0mS\u001b[0mH\u001b[0m\n",
      "\u001b[0mi\u001b[0mm\u001b[0mp\u001b[0mo\u001b[0mr\u001b[0mt\u001b[0m \u001b[0mo\u001b[0ms\u001b[0m,\u001b[0m \u001b[0ms\u001b[0my\u001b[0ms\u001b[0m\n",
      "\u001b[0m\n",
      "\u001b[0ms\u001b[0mp\u001b[0mi\u001b[0m \u001b[0m=\u001b[0m \u001b[0mS\u001b[0mP\u001b[0mI\u001b[0m(\u001b[0m1\u001b[0m,\u001b[0m \u001b[0mb\u001b[0ma\u001b[0mu\u001b[0md\u001b[0mr\u001b[0ma\u001b[0mt\u001b[0me\u001b[0m=\u001b[0m1\u001b[0m0\u001b[0m_\u001b[0m0\u001b[0m0\u001b[0m0\u001b[0m_\u001b[0m0\u001b[0m0\u001b[0m0\u001b[0m,\u001b[0m \u001b[0mp\u001b[0mo\u001b[0ml\u001b[0ma\u001b[0mr\u001b[0mi\u001b[0mt\u001b[0my\u001b[0m=\u001b[0m1\u001b[0m,\u001b[0m \u001b[0mp\u001b[0mh\u001b[0ma\u001b[0ms\u001b[0me\u001b[0m=\u001b[0m1\u001b[0m)\u001b[0m\n",
      "\u001b[0mc\u001b[0ms\u001b[0mp\u001b[0mi\u001b[0mn\u001b[0ms\u001b[0m \u001b[0m=\u001b[0m \u001b[0m(\u001b[0mP\u001b[0mi\u001b[0mn\u001b[0m(\u001b[0m'\u001b[0mF\u001b[0mL\u001b[0mA\u001b[0mS\u001b[0mH\u001b[0m_\u001b[0mC\u001b[0mS\u001b[0m'\u001b[0m,\u001b[0m \u001b[0mP\u001b[0mi\u001b[0mn\u001b[0m.\u001b[0mO\u001b[0mU\u001b[0mT\u001b[0m,\u001b[0m \u001b[0mv\u001b[0ma\u001b[0ml\u001b[0mu\u001b[0me\u001b[0m=\u001b[0m1\u001b[0m)\u001b[0m,\u001b[0m)\u001b[0m\n",
      "\u001b[0mf\u001b[0ml\u001b[0ma\u001b[0ms\u001b[0mh\u001b[0m \u001b[0m=\u001b[0m \u001b[0mF\u001b[0mL\u001b[0mA\u001b[0mS\u001b[0mH\u001b[0m(\u001b[0ms\u001b[0mp\u001b[0mi\u001b[0m,\u001b[0m \u001b[0mc\u001b[0ms\u001b[0mp\u001b[0mi\u001b[0mn\u001b[0ms\u001b[0m)\u001b[0m\n",
      "\u001b[0m\n",
      "\u001b[0mo\u001b[0ms\u001b[0m.\u001b[0mm\u001b[0mo\u001b[0mu\u001b[0mn\u001b[0mt\u001b[0m(\u001b[0mf\u001b[0ml\u001b[0ma\u001b[0ms\u001b[0mh\u001b[0m,\u001b[0m \u001b[0m\"\u001b[0m/\u001b[0ms\u001b[0mp\u001b[0mi\u001b[0m\"\u001b[0m)\u001b[0m\n",
      "\u001b[0m\n",
      "\u001b[0ms\u001b[0my\u001b[0ms\u001b[0m.\u001b[0mp\u001b[0ma\u001b[0mt\u001b[0mh\u001b[0m.\u001b[0ma\u001b[0mp\u001b[0mp\u001b[0me\u001b[0mn\u001b[0md\u001b[0m(\u001b[0m'\u001b[0m/\u001b[0ms\u001b[0mp\u001b[0mi\u001b[0m'\u001b[0m)\u001b[0m\n",
      "\u001b[0ms\u001b[0my\u001b[0ms\u001b[0m.\u001b[0mp\u001b[0ma\u001b[0mt\u001b[0mh\u001b[0m.\u001b[0ma\u001b[0mp\u001b[0mp\u001b[0me\u001b[0mn\u001b[0md\u001b[0m(\u001b[0m'\u001b[0m/\u001b[0ms\u001b[0mp\u001b[0mi\u001b[0m/\u001b[0ml\u001b[0mi\u001b[0mb\u001b[0m'\u001b[0m)\u001b[0m\n",
      "\u001b[0m\u001b[0m\n"
     ]
    }
   ],
   "source": [
    "%cat boot.py"
   ]
  },
  {
   "cell_type": "code",
   "execution_count": null,
   "metadata": {},
   "outputs": [],
   "source": []
  }
 ],
 "metadata": {
  "kernelspec": {
   "display_name": "IoT",
   "language": "python",
   "name": "iot_kernel"
  },
  "language_info": {
   "codemirror_mode": {
    "name": "python",
    "version": 3
   },
   "file_extension": ".py",
   "mimetype": "text/x-python",
   "name": "python",
   "pygments_lexer": "python3",
   "version": "3"
  }
 },
 "nbformat": 4,
 "nbformat_minor": 4
}
