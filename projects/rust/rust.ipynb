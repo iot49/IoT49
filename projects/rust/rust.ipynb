{
 "cells": [
  {
   "cell_type": "markdown",
   "id": "advanced-blocking",
   "metadata": {},
   "source": [
    "# Rust"
   ]
  },
  {
   "cell_type": "code",
   "execution_count": 12,
   "id": "fitting-evolution",
   "metadata": {},
   "outputs": [
    {
     "name": "stdout",
     "output_type": "stream",
     "text": [
      "Hello World again!\n",
      "Alice, this is Bob. Bob, this is Alice\n",
      "the quick brown fox jumps over the lazy dog\n",
      "1 of 10 people know binary, the other half doesn't\n",
      ">width$       1 after\n",
      "^width$    1    after\n",
      "<width$  1      after\n",
      ">0width$ 000001 after\n",
      "My name is Bond, Anna Bond\n"
     ]
    },
    {
     "data": {
      "text/plain": [
       "()"
      ]
     },
     "execution_count": 12,
     "metadata": {},
     "output_type": "execute_result"
    }
   ],
   "source": [
    "fn main() {\n",
    "    // Statements here are executed when the compiled binary is called\n",
    "\n",
    "    // Print text to the console\n",
    "    println!(\"Hello World again!\");\n",
    "    println!(\"{0}, this is {1}. {1}, this is {0}\", \"Alice\", \"Bob\");\n",
    "\n",
    "    println!(\"{subject} {verb} {object}\",\n",
    "             object=\"the lazy dog\",\n",
    "             subject=\"the quick brown fox\",\n",
    "             verb=\"jumps over\");\n",
    "\n",
    "    // Special formatting can be specified after a `:`.\n",
    "    println!(\"{} of {:b} people know binary, the other half doesn't\", 1, 2);\n",
    "\n",
    "    println!(\">width$  {number:>width$} after\", number=1, width=6);\n",
    "    println!(\"^width$  {number:^width$} after\", number=1, width=6);\n",
    "    println!(\"<width$  {number:<width$} after\", number=1, width=6);\n",
    "    println!(\">0width$ {number:>0width$} after\", number=1, width=6);\n",
    "\n",
    "    // Rust even checks to make sure the correct number of arguments are\n",
    "    // used.\n",
    "    println!(\"My name is {0}, {1} {0}\", \"Bond\", \"Anna\");\n",
    "\n",
    "    // Create a structure named `Structure` which contains an `i32`.\n",
    "    #[allow(dead_code)]\n",
    "    struct Structure(i32);\n",
    "}\n",
    "\n",
    "main()"
   ]
  },
  {
   "cell_type": "code",
   "execution_count": 29,
   "id": "desirable-parts",
   "metadata": {},
   "outputs": [
    {
     "name": "stdout",
     "output_type": "stream",
     "text": [
      "An integer: 1\n",
      "A boolean: true\n",
      "Meet the unit value: ()\n"
     ]
    }
   ],
   "source": [
    "fn main() {\n",
    "    let an_integer = 1u32;\n",
    "    let a_boolean = true;\n",
    "    let unit = ();\n",
    "\n",
    "    // copy `an_integer` into `copied_integer`\n",
    "    let copied_integer = an_integer;\n",
    "\n",
    "    println!(\"An integer: {:?}\", copied_integer);\n",
    "    println!(\"A boolean: {:?}\", a_boolean);\n",
    "    println!(\"Meet the unit value: {:?}\", unit);\n",
    "\n",
    "    // The compiler warns about unused variable bindings; these warnings can\n",
    "    // be silenced by prefixing the variable name with an underscore\n",
    "    let _unused_variable = 3u32;\n",
    "\n",
    "    let noisy_unused_variable = 2u32;\n",
    "    // FIXME ^ Prefix with an underscore to suppress the warning\n",
    "}\n",
    "\n",
    "main();"
   ]
  },
  {
   "cell_type": "code",
   "execution_count": 32,
   "id": "accredited-intent",
   "metadata": {},
   "outputs": [
    {
     "name": "stdout",
     "output_type": "stream",
     "text": [
      "x is 5\n",
      "y is 155\n",
      "z is ()\n"
     ]
    }
   ],
   "source": [
    "fn main() {\n",
    "    let x = 5u32;\n",
    "\n",
    "    let y = {\n",
    "        let x_squared = x * x;\n",
    "        let x_cube = x_squared * x;\n",
    "\n",
    "        // This expression will be assigned to `y`\n",
    "        x_cube + x_squared + x\n",
    "    };\n",
    "\n",
    "    let z = {\n",
    "        // The semicolon suppresses this expression and `()` is assigned to `z`\n",
    "        2 * x;\n",
    "    };\n",
    "\n",
    "    println!(\"x is {:?}\", x);\n",
    "    println!(\"y is {:?}\", y);\n",
    "    println!(\"z is {:?}\", z);\n",
    "}\n",
    "\n",
    "main();"
   ]
  },
  {
   "cell_type": "code",
   "execution_count": 38,
   "id": "arctic-difference",
   "metadata": {},
   "outputs": [
    {
     "name": "stdout",
     "output_type": "stream",
     "text": [
      "Let's count until infinity!\n",
      "1\n",
      "2\n",
      "three\n",
      "4\n",
      "5\n",
      "OK, that's enough\n"
     ]
    }
   ],
   "source": [
    "fn main() {\n",
    "    let mut count = 0u32;\n",
    "\n",
    "    println!(\"Let's count until infinity!\");\n",
    "\n",
    "    // Infinite loop\n",
    "    loop {\n",
    "        count += 1;\n",
    "\n",
    "        if count == 3 {\n",
    "            println!(\"three\");\n",
    "\n",
    "            // Skip the rest of this iteration\n",
    "            continue;\n",
    "        }\n",
    "\n",
    "        println!(\"{}\", count);\n",
    "\n",
    "        if count == 5 {\n",
    "            println!(\"OK, that's enough\");\n",
    "\n",
    "            // Exit this loop\n",
    "            break;\n",
    "        }\n",
    "    }\n",
    "}\n",
    "\n",
    "main();"
   ]
  },
  {
   "cell_type": "code",
   "execution_count": 41,
   "id": "intermediate-prime",
   "metadata": {},
   "outputs": [
    {
     "name": "stdout",
     "output_type": "stream",
     "text": [
      "1\n",
      "2\n",
      "fizz\n",
      "4\n",
      "buzz\n",
      "fizz\n",
      "7\n",
      "8\n",
      "fizz\n",
      "buzz\n"
     ]
    },
    {
     "data": {
      "text/plain": [
       "()"
      ]
     },
     "execution_count": 41,
     "metadata": {},
     "output_type": "execute_result"
    }
   ],
   "source": [
    "for n in 1..11 {\n",
    "    if n % 15 == 0 {\n",
    "        println!(\"fizzbuzz\");\n",
    "    } else if n % 3 == 0 {\n",
    "        println!(\"fizz\");\n",
    "    } else if n % 5 == 0 {\n",
    "        println!(\"buzz\");\n",
    "    } else {\n",
    "        println!(\"{}\", n);\n",
    "    }\n",
    "}\n"
   ]
  },
  {
   "cell_type": "code",
   "execution_count": 47,
   "id": "grave-saver",
   "metadata": {},
   "outputs": [
    {
     "name": "stdout",
     "output_type": "stream",
     "text": [
      "Tell me about 13\n",
      "This is a prime\n",
      "boolean: true -> binary: 1\n"
     ]
    }
   ],
   "source": [
    "fn main() {\n",
    "    let number = 13;\n",
    "    // TODO ^ Try different values for `number`\n",
    "\n",
    "    println!(\"Tell me about {}\", number);\n",
    "    match number {\n",
    "        // Match a single value\n",
    "        1 => println!(\"One!\"),\n",
    "        // Match several values\n",
    "        2 | 3 | 5 | 7 | 11 | 13 | 17 => println!(\"This is a prime\"),\n",
    "        // TODO ^ Try adding 13 to the list of prime values\n",
    "        // Match an inclusive range\n",
    "        13..=19 => println!(\"A teen\"),\n",
    "        // Handle the rest of cases\n",
    "        _ => println!(\"Ain't special\"),\n",
    "        // TODO ^ Try commenting out this catch-all arm\n",
    "    }\n",
    "\n",
    "    let boolean = true;\n",
    "    // Match is an expression too\n",
    "    let binary = match boolean {\n",
    "        // The arms of a match must cover all the possible values\n",
    "        false => 0,\n",
    "        _ => 1,\n",
    "        // TODO ^ Try commenting out one of these arms\n",
    "    };\n",
    "\n",
    "    println!(\"boolean: {} -> binary: {}\", boolean, binary);\n",
    "}\n",
    "\n",
    "main();"
   ]
  },
  {
   "cell_type": "code",
   "execution_count": null,
   "id": "square-liability",
   "metadata": {},
   "outputs": [],
   "source": [
    "fn main() {\n",
    "    // We can use this function here, and define it somewhere later\n",
    "    fizzbuzz_to(100);\n",
    "}\n",
    "\n",
    "// Function that returns a boolean value\n",
    "fn is_divisible_by(lhs: u32, rhs: u32) -> bool {\n",
    "    // Corner case, early return\n",
    "    if rhs == 0 {\n",
    "        return false;\n",
    "    }\n",
    "\n",
    "    // This is an expression, the `return` keyword is not necessary here\n",
    "    lhs % rhs == 0\n",
    "}\n",
    "\n",
    "// Functions that \"don't\" return a value, actually return the unit type `()`\n",
    "fn fizzbuzz(n: u32) -> () {\n",
    "    if is_divisible_by(n, 15) {\n",
    "        println!(\"fizzbuzz\");\n",
    "    } else if is_divisible_by(n, 3) {\n",
    "        println!(\"fizz\");\n",
    "    } else if is_divisible_by(n, 5) {\n",
    "        println!(\"buzz\");\n",
    "    } else {\n",
    "        println!(\"{}\", n);\n",
    "    }\n",
    "}\n",
    "\n",
    "// When a function returns `()`, the return type can be omitted from the\n",
    "// signature\n",
    "fn fizzbuzz_to(n: u32) {\n",
    "    for n in 1..n + 1 {\n",
    "        fizzbuzz(n);\n",
    "    }\n",
    "}\n",
    "\n",
    "main();"
   ]
  },
  {
   "cell_type": "code",
   "execution_count": 49,
   "id": "infectious-fraud",
   "metadata": {},
   "outputs": [
    {
     "name": "stdout",
     "output_type": "stream",
     "text": [
      "Rectangle perimeter: 14\n",
      "Rectangle area: 12\n",
      "Destroying Pair(1, 2)\n"
     ]
    }
   ],
   "source": [
    "struct Point {\n",
    "    x: f64,\n",
    "    y: f64,\n",
    "}\n",
    "\n",
    "// Implementation block, all `Point` methods go in here\n",
    "impl Point {\n",
    "    // This is a static method\n",
    "    // Static methods don't need to be called by an instance\n",
    "    // These methods are generally used as constructors\n",
    "    fn origin() -> Point {\n",
    "        Point { x: 0.0, y: 0.0 }\n",
    "    }\n",
    "\n",
    "    // Another static method, taking two arguments:\n",
    "    fn new(x: f64, y: f64) -> Point {\n",
    "        Point { x: x, y: y }\n",
    "    }\n",
    "}\n",
    "\n",
    "struct Rectangle {\n",
    "    p1: Point,\n",
    "    p2: Point,\n",
    "}\n",
    "\n",
    "impl Rectangle {\n",
    "    // This is an instance method\n",
    "    // `&self` is sugar for `self: &Self`, where `Self` is the type of the\n",
    "    // caller object. In this case `Self` = `Rectangle`\n",
    "    fn area(&self) -> f64 {\n",
    "        // `self` gives access to the struct fields via the dot operator\n",
    "        let Point { x: x1, y: y1 } = self.p1;\n",
    "        let Point { x: x2, y: y2 } = self.p2;\n",
    "\n",
    "        // `abs` is a `f64` method that returns the absolute value of the\n",
    "        // caller\n",
    "        ((x1 - x2) * (y1 - y2)).abs()\n",
    "    }\n",
    "\n",
    "    fn perimeter(&self) -> f64 {\n",
    "        let Point { x: x1, y: y1 } = self.p1;\n",
    "        let Point { x: x2, y: y2 } = self.p2;\n",
    "\n",
    "        2.0 * ((x1 - x2).abs() + (y1 - y2).abs())\n",
    "    }\n",
    "\n",
    "    // This method requires the caller object to be mutable\n",
    "    // `&mut self` desugars to `self: &mut Self`\n",
    "    fn translate(&mut self, x: f64, y: f64) {\n",
    "        self.p1.x += x;\n",
    "        self.p2.x += x;\n",
    "\n",
    "        self.p1.y += y;\n",
    "        self.p2.y += y;\n",
    "    }\n",
    "}\n",
    "\n",
    "// `Pair` owns resources: two heap allocated integers\n",
    "struct Pair(Box<i32>, Box<i32>);\n",
    "\n",
    "impl Pair {\n",
    "    // This method \"consumes\" the resources of the caller object\n",
    "    // `self` desugars to `self: Self`\n",
    "    fn destroy(self) {\n",
    "        // Destructure `self`\n",
    "        let Pair(first, second) = self;\n",
    "\n",
    "        println!(\"Destroying Pair({}, {})\", first, second);\n",
    "\n",
    "        // `first` and `second` go out of scope and get freed\n",
    "    }\n",
    "}\n",
    "\n",
    "fn main() {\n",
    "    let rectangle = Rectangle {\n",
    "        // Static methods are called using double colons\n",
    "        p1: Point::origin(),\n",
    "        p2: Point::new(3.0, 4.0),\n",
    "    };\n",
    "\n",
    "    // Instance methods are called using the dot operator\n",
    "    // Note that the first argument `&self` is implicitly passed, i.e.\n",
    "    // `rectangle.perimeter()` === `Rectangle::perimeter(&rectangle)`\n",
    "    println!(\"Rectangle perimeter: {}\", rectangle.perimeter());\n",
    "    println!(\"Rectangle area: {}\", rectangle.area());\n",
    "\n",
    "    let mut square = Rectangle {\n",
    "        p1: Point::origin(),\n",
    "        p2: Point::new(1.0, 1.0),\n",
    "    };\n",
    "\n",
    "    // Error! `rectangle` is immutable, but this method requires a mutable\n",
    "    // object\n",
    "    //rectangle.translate(1.0, 0.0);\n",
    "    // TODO ^ Try uncommenting this line\n",
    "\n",
    "    // Okay! Mutable objects can call mutable methods\n",
    "    square.translate(1.0, 1.0);\n",
    "\n",
    "    let pair = Pair(Box::new(1), Box::new(2));\n",
    "\n",
    "    pair.destroy();\n",
    "\n",
    "    // Error! Previous `destroy` call \"consumed\" `pair`\n",
    "    //pair.destroy();\n",
    "    // TODO ^ Try uncommenting this line\n",
    "}\n",
    "\n",
    "main();"
   ]
  },
  {
   "cell_type": "code",
   "execution_count": 55,
   "id": "material-ordinary",
   "metadata": {},
   "outputs": [
    {
     "name": "stdout",
     "output_type": "stream",
     "text": [
      "My path is /Users/boser/.cargo/bin/evcxr_jupyter.\n",
      "I got 0 arguments: [].\n"
     ]
    }
   ],
   "source": [
    "use std::env;\n",
    "\n",
    "fn main() {\n",
    "    let args: Vec<String> = env::args().collect();\n",
    "\n",
    "    // The first argument is the path that was used to call the program.\n",
    "    println!(\"My path is {}.\", args[0]);\n",
    "\n",
    "    // The rest of the arguments are the passed command line parameters.\n",
    "    // Call the program like this:\n",
    "    //   $ ./args arg1 arg2\n",
    "    println!(\"I got {:?} arguments: {:?}.\", args.len() - 1, &args[1..]);\n",
    "}\n",
    "\n",
    "main();"
   ]
  },
  {
   "cell_type": "code",
   "execution_count": 4,
   "id": "anticipated-penny",
   "metadata": {},
   "outputs": [
    {
     "name": "stdout",
     "output_type": "stream",
     "text": [
      "the square root of -1+0i is 0+1i\n",
      "cos(-1+0i) = 0.5403023+0i\n"
     ]
    }
   ],
   "source": [
    "use std::fmt;\n",
    "\n",
    "// this extern block links to the libm library\n",
    "#[link(name = \"m\")]\n",
    "extern {\n",
    "    // this is a foreign function\n",
    "    // that computes the square root of a single precision complex number\n",
    "    fn csqrtf(z: Complex) -> Complex;\n",
    "\n",
    "    fn ccosf(z: Complex) -> Complex;\n",
    "}\n",
    "\n",
    "// Since calling foreign functions is considered unsafe,\n",
    "// it's common to write safe wrappers around them.\n",
    "fn cos(z: Complex) -> Complex {\n",
    "    unsafe { ccosf(z) }\n",
    "}\n",
    "\n",
    "fn main() {\n",
    "    // z = -1 + 0i\n",
    "    let z = Complex { re: -1., im: 0. };\n",
    "\n",
    "    // calling a foreign function is an unsafe operation\n",
    "    let z_sqrt = unsafe { csqrtf(z) };\n",
    "\n",
    "    println!(\"the square root of {:?} is {:?}\", z, z_sqrt);\n",
    "\n",
    "    // calling safe API wrapped around unsafe operation\n",
    "    println!(\"cos({:?}) = {:?}\", z, cos(z));\n",
    "}\n",
    "\n",
    "// Minimal implementation of single precision complex numbers\n",
    "#[repr(C)]\n",
    "#[derive(Clone, Copy)]\n",
    "struct Complex {\n",
    "    re: f32,\n",
    "    im: f32,\n",
    "}\n",
    "\n",
    "impl fmt::Debug for Complex {\n",
    "    fn fmt(&self, f: &mut fmt::Formatter) -> fmt::Result {\n",
    "        if self.im < 0. {\n",
    "            write!(f, \"{}-{}i\", self.re, -self.im)\n",
    "        } else {\n",
    "            write!(f, \"{}+{}i\", self.re, self.im)\n",
    "        }\n",
    "    }\n",
    "}\n",
    "\n",
    "main();"
   ]
  },
  {
   "cell_type": "code",
   "execution_count": null,
   "id": "federal-postcard",
   "metadata": {},
   "outputs": [],
   "source": []
  }
 ],
 "metadata": {
  "kernelspec": {
   "display_name": "Rust",
   "language": "rust",
   "name": "rust"
  },
  "language_info": {
   "codemirror_mode": "rust",
   "file_extension": ".rs",
   "mimetype": "text/rust",
   "name": "Rust",
   "pygment_lexer": "rust",
   "version": ""
  }
 },
 "nbformat": 4,
 "nbformat_minor": 5
}
