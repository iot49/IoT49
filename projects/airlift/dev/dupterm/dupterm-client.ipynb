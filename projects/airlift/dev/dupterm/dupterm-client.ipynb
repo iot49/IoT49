{
 "cells": [
  {
   "cell_type": "markdown",
   "metadata": {},
   "source": [
    "# Dev mp-client (python3 host)"
   ]
  },
  {
   "cell_type": "markdown",
   "metadata": {},
   "source": [
    "# Client code, part of iot-device (runs on mac)"
   ]
  },
  {
   "cell_type": "code",
   "execution_count": 25,
   "metadata": {},
   "outputs": [
    {
     "name": "stdout",
     "output_type": "stream",
     "text": [
      "connected\n",
      "\u0000x02print(1)\n"
     ]
    },
    {
     "ename": "timeout",
     "evalue": "timed out",
     "output_type": "error",
     "traceback": [
      "\u001b[0;31m---------------------------------------------------------------------------\u001b[0m",
      "\u001b[0;31mtimeout\u001b[0m                                   Traceback (most recent call last)",
      "\u001b[0;32m<ipython-input-25-53ec1b5cd584>\u001b[0m in \u001b[0;36m<module>\u001b[0;34m\u001b[0m\n\u001b[1;32m     69\u001b[0m         \u001b[0mprint\u001b[0m\u001b[0;34m(\u001b[0m\u001b[0;34m\"exec\"\u001b[0m\u001b[0;34m,\u001b[0m \u001b[0mc\u001b[0m\u001b[0;34m)\u001b[0m\u001b[0;34m\u001b[0m\u001b[0;34m\u001b[0m\u001b[0m\n\u001b[1;32m     70\u001b[0m         \u001b[0mclient\u001b[0m\u001b[0;34m.\u001b[0m\u001b[0mwrite\u001b[0m\u001b[0;34m(\u001b[0m\u001b[0mc\u001b[0m\u001b[0;34m.\u001b[0m\u001b[0mencode\u001b[0m\u001b[0;34m(\u001b[0m\u001b[0;34m)\u001b[0m\u001b[0;34m)\u001b[0m\u001b[0;34m\u001b[0m\u001b[0;34m\u001b[0m\u001b[0m\n\u001b[0;32m---> 71\u001b[0;31m         \u001b[0mprint\u001b[0m\u001b[0;34m(\u001b[0m\u001b[0;34m\"res:\"\u001b[0m\u001b[0;34m,\u001b[0m \u001b[0mclient\u001b[0m\u001b[0;34m.\u001b[0m\u001b[0mread_all\u001b[0m\u001b[0;34m(\u001b[0m\u001b[0;34m)\u001b[0m\u001b[0;34m)\u001b[0m\u001b[0;34m\u001b[0m\u001b[0;34m\u001b[0m\u001b[0m\n\u001b[0m",
      "\u001b[0;32m<ipython-input-25-53ec1b5cd584>\u001b[0m in \u001b[0;36mread_all\u001b[0;34m(self)\u001b[0m\n\u001b[1;32m     51\u001b[0m \u001b[0;34m\u001b[0m\u001b[0m\n\u001b[1;32m     52\u001b[0m     \u001b[0;32mdef\u001b[0m \u001b[0mread_all\u001b[0m\u001b[0;34m(\u001b[0m\u001b[0mself\u001b[0m\u001b[0;34m)\u001b[0m\u001b[0;34m:\u001b[0m\u001b[0;34m\u001b[0m\u001b[0;34m\u001b[0m\u001b[0m\n\u001b[0;32m---> 53\u001b[0;31m         \u001b[0;32mreturn\u001b[0m \u001b[0mself\u001b[0m\u001b[0;34m.\u001b[0m\u001b[0msock\u001b[0m\u001b[0;34m.\u001b[0m\u001b[0mrecv\u001b[0m\u001b[0;34m(\u001b[0m\u001b[0;36m1024\u001b[0m\u001b[0;34m)\u001b[0m\u001b[0;34m\u001b[0m\u001b[0;34m\u001b[0m\u001b[0m\n\u001b[0m\u001b[1;32m     54\u001b[0m \u001b[0;34m\u001b[0m\u001b[0m\n\u001b[1;32m     55\u001b[0m     \u001b[0;32mdef\u001b[0m \u001b[0m__enter__\u001b[0m\u001b[0;34m(\u001b[0m\u001b[0mself\u001b[0m\u001b[0;34m)\u001b[0m\u001b[0;34m:\u001b[0m\u001b[0;34m\u001b[0m\u001b[0;34m\u001b[0m\u001b[0m\n",
      "\u001b[0;31mtimeout\u001b[0m: timed out"
     ]
    }
   ],
   "source": [
    "import socket, os, time\n",
    "\n",
    "code = [\n",
    "    \"\\r\\0x02print(1)\\r\",\n",
    "    \"print('empty string follows')\",\n",
    "    \"\",\n",
    "    \"print(5**9)\",\n",
    "    \"print(2**23)\",\n",
    "\"\"\"\n",
    "uid = bytes(6)\n",
    "try:\n",
    "    import machine\n",
    "    uid = machine.unique_id()\n",
    "except:\n",
    "    import microcontroller\n",
    "    uid = microcontroller.cpu.uid\n",
    "print(\":\".join(\"{:02x}\".format(x) for x in uid), end=\"\")\n",
    "\"\"\",\n",
    "\"\"\"\n",
    "for i in range(5):\n",
    "    print(i, i**5)\n",
    "\"\"\",\n",
    "\"\"\"\n",
    "print('a nasty error')\n",
    "5/0\n",
    "\"\"\",\n",
    "    \"'back to nice'\",\n",
    "]\n",
    "\n",
    "VERSION = 'ns-V1'\n",
    "PWD = '#$&*(98a7D$8{9hS'\n",
    "\n",
    "ADDR = ('10.39.40.129', 54321)\n",
    "\n",
    "EOT = b'\\x04'\n",
    "\n",
    "class NetClient:\n",
    "    \n",
    "    def __init__(self, addr):\n",
    "        self.addr = addr\n",
    "        \n",
    "    def connect(self):\n",
    "        self.sock = s = socket.socket(socket.AF_INET, socket.SOCK_STREAM)\n",
    "        s.connect(self.addr)\n",
    "        s.settimeout(3)\n",
    "        print(\"connected\")\n",
    "        return self\n",
    "    \n",
    "    def write(self, data):\n",
    "        return self.sock.sendall(data)\n",
    "        \n",
    "    def read_all(self):\n",
    "        return self.sock.recv(1024)\n",
    "    \n",
    "    def __enter__(self):\n",
    "        return self\n",
    "\n",
    "    def __exit__(self, *args):\n",
    "        try:\n",
    "            self.sock.close()\n",
    "        except:\n",
    "            pass\n",
    "        self.sock = None\n",
    "        \n",
    "        \n",
    "with NetClient(ADDR) as client:\n",
    "    client.connect()\n",
    "    for c in code:\n",
    "        print(\"exec\", c)\n",
    "        client.write(c.encode())\n",
    "        print(\"res:\", client.read_all())\n"
   ]
  },
  {
   "cell_type": "code",
   "execution_count": null,
   "metadata": {},
   "outputs": [],
   "source": []
  },
  {
   "cell_type": "code",
   "execution_count": null,
   "metadata": {},
   "outputs": [],
   "source": []
  }
 ],
 "metadata": {
  "kernelspec": {
   "display_name": "Python 3",
   "language": "python",
   "name": "python3"
  },
  "language_info": {
   "codemirror_mode": {
    "name": "ipython",
    "version": 3
   },
   "file_extension": ".py",
   "mimetype": "text/x-python",
   "name": "python",
   "nbconvert_exporter": "python",
   "pygments_lexer": "ipython3",
   "version": "3.8.2"
  }
 },
 "nbformat": 4,
 "nbformat_minor": 4
}
