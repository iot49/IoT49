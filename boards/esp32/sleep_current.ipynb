{
 "cells": [
  {
   "cell_type": "markdown",
   "id": "b66b7562",
   "metadata": {},
   "source": [
    "# ESP32 Power Dissipation Testing"
   ]
  },
  {
   "cell_type": "code",
   "execution_count": 1,
   "id": "8c92454b",
   "metadata": {},
   "outputs": [
    {
     "name": "stdout",
     "output_type": "stream",
     "text": [
      "\u001b[0mpower_test  serial:///dev/cu.usbserial-015589DF  \u001b[0m\n"
     ]
    }
   ],
   "source": [
    "%discover"
   ]
  },
  {
   "cell_type": "code",
   "execution_count": 1,
   "id": "84216fc7",
   "metadata": {},
   "outputs": [
    {
     "name": "stdout",
     "output_type": "stream",
     "text": [
      "\u001b[0m\u001b[46m\u001b[30mConnected to power_test @ serial:///dev/cu.usbserial-015589DF\u001b[0m\n"
     ]
    }
   ],
   "source": [
    "%connect power_test"
   ]
  },
  {
   "cell_type": "code",
   "execution_count": 3,
   "id": "137d5758",
   "metadata": {},
   "outputs": [
    {
     "name": "stdout",
     "output_type": "stream",
     "text": [
      "\u001b[0m\u001b[34mUPDATE  /deepsleep_power.py\n",
      "\u001b[0m\u001b[0m"
     ]
    }
   ],
   "source": [
    "%rsync"
   ]
  },
  {
   "cell_type": "code",
   "execution_count": 3,
   "id": "94f65e8d",
   "metadata": {},
   "outputs": [
    {
     "name": "stdout",
     "output_type": "stream",
     "text": [
      "Overwriting boards/esp32/libraries/power/deepsleep_power.py\n"
     ]
    }
   ],
   "source": [
    "%%writefile boards/esp32/libraries/power/deepsleep_power.py\n",
    "from machine import Pin, deepsleep\n",
    "from time import sleep_ms\n",
    "\n",
    "T = 10000\n",
    "\n",
    "led = Pin(13, mode=Pin.OUT)\n",
    "bypass = Pin(21, mode=Pin.IN, pull=Pin.PULL_DOWN)\n",
    "sleep_ms(500)\n",
    "if bypass.value() == 1:\n",
    "    print(\"REPL\")\n",
    "else:\n",
    "    print(\"deepsleep\")\n",
    "    while True:\n",
    "        led.value(1)\n",
    "        sleep_ms(T)\n",
    "        led.value(0)\n",
    "        led = Pin(13, mode=Pin.IN)\n",
    "        deepsleep(T)"
   ]
  },
  {
   "cell_type": "code",
   "execution_count": 5,
   "id": "42efe078",
   "metadata": {},
   "outputs": [
    {
     "name": "stdout",
     "output_type": "stream",
     "text": [
      "Writing boards/esp32/libraries/power/main.py\n"
     ]
    }
   ],
   "source": [
    "%%writefile boards/esp32/libraries/power/main.py\n",
    "import deepsleep_power"
   ]
  },
  {
   "cell_type": "code",
   "execution_count": null,
   "id": "2fd84538",
   "metadata": {},
   "outputs": [],
   "source": []
  }
 ],
 "metadata": {
  "kernelspec": {
   "display_name": "IoT",
   "language": "python",
   "name": "iot_kernel"
  },
  "language_info": {
   "codemirror_mode": {
    "name": "python",
    "version": 3
   },
   "file_extension": ".py",
   "mimetype": "text/x-python",
   "name": "python",
   "pygments_lexer": "python3",
   "version": "3"
  }
 },
 "nbformat": 4,
 "nbformat_minor": 5
}
