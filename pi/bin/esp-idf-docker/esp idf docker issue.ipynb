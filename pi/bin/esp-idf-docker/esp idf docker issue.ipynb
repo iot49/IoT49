{
 "cells": [
  {
   "cell_type": "markdown",
   "id": "bigger-aircraft",
   "metadata": {},
   "source": [
    "# ESP IDF arm issue\n",
    "\n",
    "https://github.com/espressif/esp-idf/issues/6730\n",
    "\n",
    "```\n",
    "Environment\n",
    "Development Kit: none\n",
    "Module or chip used: ESP32-WROOM-32\n",
    "IDF version (run git describe --tags to find it):\n",
    "// v4.2\n",
    "Build System: docker build\n",
    "Operating System: Linux|macOS\n",
    "Problem Description\n",
    "Building an esp-idf v4.2 docker image on an Ubuntu armv7f cpu raises\n",
    "\n",
    "ERROR: tool cmake does not have versions compatible with platform linux-armel\n",
    "Presumably it's because esp-idf/tools/tools.json lacks a cmake entry for linux-arm (~ line 380 in the file). This may be since https://github.com/Kitware/CMake has no binaries for arm architectures.\n",
    "\n",
    "Before exploring other ways to build cmake in the Docker image I'd like to check if espressif has plans already or otherwise if there are special requirements for cmake.\n",
    "\n",
    "Expected Behavior\n",
    "Dockerfile uses an approach for building cmake on arm.\n",
    "\n",
    "Actual Behavior\n",
    "Build process fails.\n",
    "\n",
    "Steps to reproduce\n",
    "Download Dockerfile and entrypoint.sh\n",
    "Run docker build - < Dockerfile -t \"esp-idf:v4.2\" --build-arg IDF_CLONE_BRANCH_OR_TAG=release/v4.2\n",
    "Lock for the error message ...\n",
    "```"
   ]
  },
  {
   "cell_type": "code",
   "execution_count": null,
   "id": "cordless-helping",
   "metadata": {},
   "outputs": [],
   "source": []
  }
 ],
 "metadata": {
  "kernelspec": {
   "display_name": "IoT",
   "language": "python",
   "name": "iot_kernel"
  },
  "language_info": {
   "codemirror_mode": {
    "name": "python",
    "version": 3
   },
   "file_extension": ".py",
   "mimetype": "text/x-python",
   "name": "python",
   "pygments_lexer": "python3",
   "version": "3"
  }
 },
 "nbformat": 4,
 "nbformat_minor": 5
}
