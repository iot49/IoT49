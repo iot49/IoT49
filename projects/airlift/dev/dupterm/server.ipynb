{
 "cells": [
  {
   "cell_type": "markdown",
   "metadata": {},
   "source": [
    "# Telnet like server"
   ]
  },
  {
   "cell_type": "code",
   "execution_count": 1,
   "metadata": {},
   "outputs": [
    {
     "name": "stdout",
     "output_type": "stream",
     "text": [
      "\u001b[0mtest-stm32-cop                 serial:///dev/cu.usbserial-0143520E     \n",
      "\u001b[0mtest-argon                     serial:///dev/cu.usbmodem1413101        \n",
      "\u001b[0mtest-samd                      serial:///dev/cu.usbmodem1413201        \n",
      "\u001b[0mtest-stm32                     serial:///dev/cu.usbmodem208E307542521  \n",
      "\u001b[0mtest-esp32                     serial:///dev/cu.usbserial-0160B5B8     \n",
      "\u001b[0m\u001b[0mConnected to test-stm32 @ serial:///dev/cu.usbmodem208E307542521\n",
      "\u001b[0m"
     ]
    }
   ],
   "source": [
    "%discover\n",
    "%connect test-stm32"
   ]
  },
  {
   "cell_type": "code",
   "execution_count": 1,
   "metadata": {},
   "outputs": [
    {
     "name": "stdout",
     "output_type": "stream",
     "text": [
      "\u001b[0mConnected to test-stm32 @ serial:///dev/cu.usbmodem208E307542521\n",
      "\u001b[0m\u001b[0m\n",
      "\u001b[0m\u001b[46m\u001b[31m!!!!!!!!!!!!!!!!!!!!!!!!!!!!!!!\n",
      "\u001b[0m\u001b[46m\u001b[31m!!!!!   softreset ...     !!!!!\n",
      "\u001b[0m\u001b[46m\u001b[31m!!!!!!!!!!!!!!!!!!!!!!!!!!!!!!!\u001b[0m\n",
      "\n",
      "\u001b[0mP\u001b[0ml\u001b[0ma\u001b[0mt\u001b[0mf\u001b[0mo\u001b[0mr\u001b[0mm\u001b[0ms\u001b[0m:\u001b[0m\n",
      "\u001b[0m \u001b[0m \u001b[0m \u001b[0mh\u001b[0mo\u001b[0ms\u001b[0mt\u001b[0m:\u001b[0m \u001b[0m \u001b[0m \u001b[0m \u001b[0mp\u001b[0my\u001b[0mb\u001b[0mo\u001b[0ma\u001b[0mr\u001b[0md\u001b[0m\n",
      "\u001b[0m \u001b[0m \u001b[0m \u001b[0ms\u001b[0me\u001b[0mr\u001b[0mv\u001b[0me\u001b[0mr\u001b[0m:\u001b[0m \u001b[0m \u001b[0me\u001b[0ms\u001b[0mp\u001b[0m3\u001b[0m2\u001b[0m\n",
      "\u001b[0m"
     ]
    }
   ],
   "source": [
    "%connect test-stm32\n",
    "%softreset\n",
    "\n",
    "import start_urpc\n",
    "from urpc import *\n",
    "\n",
    "import sys\n",
    "sys_ = import_('sys')\n",
    "\n",
    "print(\"Platforms:\")\n",
    "print(\"   host:    {}\".format(sys.platform))\n",
    "print(\"   server:  {}\".format(sys_.get_('platform')))"
   ]
  },
  {
   "cell_type": "markdown",
   "metadata": {},
   "source": [
    "## Server"
   ]
  },
  {
   "cell_type": "code",
   "execution_count": null,
   "metadata": {},
   "outputs": [],
   "source": [
    "import os, io, sys, socket, struct, msgpack, secrets\n",
    "\n",
    "class Server(io.IOBase):\n",
    "\n",
    "    def __init__(self, port=1234, buf_size=256):\n",
    "        self.buffer = bytearray(buf_size)\n",
    "        self.ss = ss = socket.socket(socket.AF_INET, socket.SOCK_STREAM)\n",
    "        ss.setsockopt(socket.SOL_SOCKET, socket.SO_REUSEADDR, 1)\n",
    "        ss.setblocking(False)\n",
    "\n",
    "        ai = socket.getaddrinfo('', port)\n",
    "        addr = ai[0][4]\n",
    "        ss.bind(addr)\n",
    "        ss.listen(1)\n",
    "\n",
    "    def readline(self):\n",
    "        # self.last = False\n",
    "        return self._sock.readline().strip().decode()\n",
    "\n",
    "    def accept(self):\n",
    "        \"\"\"Accept connection and serve request.\n",
    "        Returns immadiately if no client is waiting.\"\"\"\n",
    "        try:\n",
    "            cs, addr = self.ss.accept()\n",
    "        except Exception as e:\n",
    "            return\n",
    "        cs.settimeout(5000)\n",
    "        self._sock = cs\n",
    "        print(\"accepted connection from\", addr)\n",
    "        try:\n",
    "            cs.write(VERSION)\n",
    "            cs.write(b'\\n')\n",
    "            pwd = self.readline()\n",
    "            if pwd != getattr(secrets, 'password', ''):\n",
    "                cs.write(b'wrong password\\n')\n",
    "                return\n",
    "            cs.write(b'OK\\n')\n",
    "            self.serve()\n",
    "        except Exception as e:\n",
    "            print(\"*** accept\", e)\n",
    "        finally:\n",
    "            cs.close()\n",
    "            print(\"\\nclosed client connection\")\n",
    "\n",
    "    def serve(self):\n",
    "        # multiple requests or just one?\n",
    "        while True:\n",
    "            try:\n",
    "                # read request header\n",
    "                req = self.readline()\n",
    "                if len(req) == 0: continue\n",
    "                # handle request\n",
    "                getattr(self, 'do_' + req)()\n",
    "            except Bye:\n",
    "                return\n",
    "            except Exception as e:\n",
    "                print(\"Exception in serve:\", e)\n",
    "                sys.print_exception(e)\n",
    "\n",
    "    # dupterm\n",
    "    def write(self, data):\n",
    "        self._sock.write(data)\n",
    "\n",
    "    def readinto(self, b):\n",
    "        return None\n",
    "\n",
    "\n",
    "def start_server(port=54321):\n",
    "    server = Server(port)\n",
    "\n",
    "    # advertise\n",
    "    import network, time\n",
    "    # network.WLAN(network.STA_IF).mdns_add_service('_mp', '_tcp', port)\n",
    "\n",
    "    ip = network.WLAN(network.STA_IF).ifconfig()[0]\n",
    "    print(\"mp://{}:{}\".format(ip, port))\n",
    "\n",
    "    while True:\n",
    "        server.accept()\n",
    "        time.sleep(0.1)\n"
   ]
  }
 ],
 "metadata": {
  "kernelspec": {
   "display_name": "IoT",
   "language": "python",
   "name": "iot_kernel"
  },
  "language_info": {
   "codemirror_mode": {
    "name": "python",
    "version": 3
   },
   "file_extension": ".py",
   "mimetype": "text/x-python",
   "name": "python",
   "pygments_lexer": "python3",
   "version": "3"
  }
 },
 "nbformat": 4,
 "nbformat_minor": 4
}
