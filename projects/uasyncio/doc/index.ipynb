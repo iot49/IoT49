{
 "cells": [
  {
   "cell_type": "markdown",
   "metadata": {},
   "source": [
    "# `uasyncio` on CircuitPython\n",
    "\n",
    "#### Requirements / Changes\n",
    "\n",
    "* Lazy import isn't working!\n",
    "* `utime` module (`ticks_XXX`)\n",
    "* `core.py`: change `id` to `id_` \n",
    "    * urpc proxy objects have many-to-1 relationship with object on esp32 server\n",
    "* core.SingletonGenerator: `__iter` -> `__await__`\n",
    "\n",
    "#### TODO\n",
    "\n",
    "* make urpc optional if sockets not used"
   ]
  },
  {
   "cell_type": "code",
   "execution_count": 1,
   "metadata": {},
   "outputs": [
    {
     "name": "stdout",
     "output_type": "stream",
     "text": [
      "\u001b[0mtest-argon                     serial:///dev/cu.usbmodem1414301        \n",
      "\u001b[0mtest-stm32                     serial:///dev/cu.usbmodem208E307542522  \n",
      "\u001b[0mtest-stm32-cop                 serial:///dev/cu.usbserial-0143520E     \n",
      "\u001b[0m\u001b[0mConnected to test-argon @ serial:///dev/cu.usbmodem1414301\n",
      "\u001b[0m\u001b[0m\u001b[34mUPDATE  lib/uasyncio/core.py\n",
      "\u001b[0m\u001b[0m\u001b[0m"
     ]
    }
   ],
   "source": [
    "%discover\n",
    "%connect test-argon\n",
    "%rsync\n",
    "%softreset -q"
   ]
  },
  {
   "cell_type": "code",
   "execution_count": 1,
   "metadata": {},
   "outputs": [
    {
     "name": "stdout",
     "output_type": "stream",
     "text": [
      "\u001b[0m\n",
      "\u001b[0m\u001b[46m\u001b[31m!!!!!!!!!!!!!!!!!!!!!!!!!!!!!!!\n",
      "\u001b[0m\u001b[46m\u001b[31m!!!!!   softreset ...     !!!!!\n",
      "\u001b[0m\u001b[46m\u001b[31m!!!!!!!!!!!!!!!!!!!!!!!!!!!!!!!\u001b[0m\n",
      "\n",
      "\u001b[0mP\u001b[0ml\u001b[0ma\u001b[0mt\u001b[0mf\u001b[0mo\u001b[0mr\u001b[0mm\u001b[0ms\u001b[0m:\u001b[0m\n",
      "\u001b[0m \u001b[0m \u001b[0m \u001b[0mh\u001b[0mo\u001b[0ms\u001b[0mt\u001b[0m:\u001b[0m \u001b[0m \u001b[0m \u001b[0m \u001b[0mn\u001b[0mR\u001b[0mF\u001b[0m5\u001b[0m2\u001b[0m8\u001b[0m4\u001b[0m0\u001b[0m\n",
      "\u001b[0m \u001b[0m \u001b[0m \u001b[0ms\u001b[0me\u001b[0mr\u001b[0mv\u001b[0me\u001b[0mr\u001b[0m:\u001b[0m \u001b[0m \u001b[0me\u001b[0ms\u001b[0mp\u001b[0m3\u001b[0m2\u001b[0m\n",
      "\u001b[0m"
     ]
    }
   ],
   "source": [
    "# start URPC client\n",
    "\n",
    "# release UART\n",
    "%softreset\n",
    "\n",
    "from urpc import *\n",
    "\n",
    "# check it out\n",
    "import sys\n",
    "sys_ = import_('sys')\n",
    "\n",
    "print(\"Platforms:\")\n",
    "print(\"   host:    {}\".format(sys.platform))\n",
    "print(\"   server:  {}\".format(sys_.get_('platform')))"
   ]
  },
  {
   "cell_type": "code",
   "execution_count": 1,
   "metadata": {},
   "outputs": [
    {
     "name": "stdout",
     "output_type": "stream",
     "text": [
      "m\u001b[0ma\u001b[0mi\u001b[0mn\u001b[0m \u001b[0md\u001b[0mo\u001b[0mn\u001b[0me\u001b[0m!\u001b[0m\n",
      "\u001b[0m"
     ]
    }
   ],
   "source": [
    "import uasyncio\n",
    "from board import RGB_LED_RED, RGB_LED_GREEN, RGB_LED_BLUE\n",
    "from digitalio import DigitalInOut\n",
    "    \n",
    "def make_led(pin):\n",
    "    l = DigitalInOut(pin)\n",
    "    l.switch_to_output()\n",
    "    l.value = True\n",
    "    return l\n",
    "\n",
    "async def blink(led, period_ms):\n",
    "    while True:\n",
    "        led.value = False\n",
    "        await uasyncio.sleep_ms(200)\n",
    "        led.value = True\n",
    "        await uasyncio.sleep_ms(max(10, period_ms-200))\n",
    "        \n",
    "async def main(led1, led2, led3):\n",
    "    with make_led(led1) as l1, make_led(led2) as l2, make_led(led3) as l3:\n",
    "        uasyncio.create_task(blink(l1, 300))\n",
    "        uasyncio.create_task(blink(l2, 400))\n",
    "        uasyncio.create_task(blink(l3, 500))\n",
    "        await uasyncio.sleep_ms(3_000)\n",
    "    print(\"main done!\")\n",
    "\n",
    "uasyncio.run(main(RGB_LED_RED, RGB_LED_GREEN, RGB_LED_BLUE))"
   ]
  },
  {
   "cell_type": "code",
   "execution_count": null,
   "metadata": {},
   "outputs": [],
   "source": []
  }
 ],
 "metadata": {
  "kernelspec": {
   "display_name": "IoT",
   "language": "python",
   "name": "iot_kernel"
  },
  "language_info": {
   "codemirror_mode": {
    "name": "python",
    "version": 3
   },
   "file_extension": ".py",
   "mimetype": "text/x-python",
   "name": "python",
   "pygments_lexer": "python3",
   "version": "3"
  }
 },
 "nbformat": 4,
 "nbformat_minor": 4
}
