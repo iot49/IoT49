{
 "cells": [
  {
   "cell_type": "markdown",
   "id": "pursuant-harbor",
   "metadata": {},
   "source": [
    "# Robot"
   ]
  },
  {
   "cell_type": "markdown",
   "id": "growing-vermont",
   "metadata": {},
   "source": [
    "## Tasks and Resource Ownership\n",
    "\n",
    "### Tasks\n",
    "\n",
    "1) main (asyncio)\n",
    "2) controller (timer interrupt)\n",
    "\n",
    "### Resource Ownership\n",
    "\n",
    "* `uart`: main\n",
    "* `nstby`: main\n",
    "* `_encX`: controller\n",
    "* `_motors`: main for now, later controller\n",
    "* `_duty`: main for now, later controller"
   ]
  },
  {
   "cell_type": "code",
   "execution_count": 6,
   "id": "miniature-distance",
   "metadata": {},
   "outputs": [
    {
     "name": "stdout",
     "output_type": "stream",
     "text": [
      "\u001b[0m\u001b[0mConnected to robot-stm @ serial:///dev/serial0\u001b[0m\n",
      "\u001b[0m\u001b[32mDirectories match\n",
      "\u001b[0m\u001b[0m\u001b[0m\u001b[0m\n",
      "\u001b[46m\u001b[31m!!!!!!!!!!!!!!!!!!!!!!!!!!!!!!!\u001b[0m\n",
      "\u001b[46m\u001b[31m!!!!!   softreset ...     !!!!!\u001b[0m\n",
      "\u001b[46m\u001b[31m!!!!!!!!!!!!!!!!!!!!!!!!!!!!!!!\u001b[0m\n",
      "\u001b[0m\n",
      "> switched to 1000000 baud\n",
      "enter returns\n",
      "RESET_MCU\n",
      "DONE\n"
     ]
    }
   ],
   "source": [
    "%register 'serial:///dev/serial0'\n",
    "%connect robot-stm\n",
    "%rsync\n",
    "%softreset\n",
    "\n",
    "import robot\n",
    "\n",
    "%%host\n",
    "\n",
    "import nest_asyncio\n",
    "nest_asyncio.apply()\n",
    "\n",
    "from iot_device.pydevice import Pydevice\n",
    "from serial import Serial\n",
    "from array import array\n",
    "from struct import unpack\n",
    "import numpy as np\n",
    "import asyncio, time\n",
    "\n",
    "def const(x): return bytes([x])\n",
    "\n",
    "_CMD_DUTY     = const(11)\n",
    "_CMD_START    = const(12)\n",
    "_CMD_STOP     = const(13)\n",
    "_CMD_SHUTDOWN = const(14)\n",
    "_CMD_PING     = const(15)\n",
    "_CMD_REPORT_STATE = const(16)\n",
    "\n",
    "_CMD_MSG      = const(64)\n",
    "_CMD_ISTATE   = const(65)\n",
    "\n",
    "def const(x): return x\n",
    "\n",
    "_STATE_K      = const(0)\n",
    "_STATE_DT     = const(1)\n",
    "_STATE_ENC1   = const(2)\n",
    "_STATE_ENC2   = const(3)\n",
    "_STATE_DUTY1  = const(4)\n",
    "_STATE_DUTY2  = const(5)\n",
    "\n",
    "\n",
    "class BuildArray:\n",
    "    \"\"\"Build np array iteratively.\"\"\"\n",
    "    \n",
    "    def __init__(self, cols, max_rows=10000):\n",
    "        \"\"\"Number of column & max number of rows\"\"\"\n",
    "        self.rows = 0\n",
    "        self.cols = cols\n",
    "        self.array = np.zeros((max_rows, cols))\n",
    "        \n",
    "    def add_row(self, v):\n",
    "        \"\"\"v is a vector of length cols\"\"\"\n",
    "        self.array[self.rows] = v\n",
    "        self.rows += 1\n",
    "        \n",
    "    def resize(self):\n",
    "        \"\"\"Resize to actual size. Now add_row can't be called anymore.\"\"\"\n",
    "        self.array.resize((self.rows, self.cols))\n",
    "        return self.array\n",
    "\n",
    "\n",
    "def repl_no_follow(cmd):\n",
    "    with Serial('/dev/serial0', 115200, timeout=0.5, write_timeout=2, exclusive= True) as serial:\n",
    "        pyb = Pydevice(serial)\n",
    "        pyb.enter_raw_repl()\n",
    "        pyb.exec_raw_no_follow(cmd)\n",
    "        \n",
    "        \n",
    "class Robot:\n",
    "    \n",
    "    def __init__(self):\n",
    "        self.baudrate = 1000000\n",
    "        self.fs       = 100\n",
    "        self.pwm_freq = 10000\n",
    "        self.i_state  = BuildArray(cols=8, max_rows=1000)\n",
    "        \n",
    "    async def cmd_handler(self):\n",
    "        serial = self.serial\n",
    "        while True:\n",
    "            if serial.in_waiting:\n",
    "                t = serial.read(1)\n",
    "                # print(\"type\", t)\n",
    "                if t == _CMD_ISTATE:\n",
    "                    self.i_state.add_row(array('i', serial.read(8*4)))\n",
    "                elif t == _CMD_MSG:\n",
    "                    size = unpack('H', serial.read(2))[0]\n",
    "                    print(f\"> {serial.read(size).decode()}\")\n",
    "                elif t == _CMD_PING:\n",
    "                    print(\"ping!\")\n",
    "                else:\n",
    "                    print(\"*** unknown type\", t)\n",
    "                    print(serial.read(serial.in_waiting))\n",
    "            else:\n",
    "                await asyncio.sleep(0.1)                                         \n",
    "                                         \n",
    "    def set_duty(self, a, b):\n",
    "        serial = self.serial\n",
    "        serial.write(_CMD_DUTY)\n",
    "        serial.write(array('b', [a, b]))\n",
    "        \n",
    "    def report_state(self, Ts_ms):\n",
    "        serial = self.serial\n",
    "        serial.write(_CMD_REPORT_STATE)\n",
    "        serial.write(array('I', [Ts_ms]))\n",
    "               \n",
    "    async def main(self):\n",
    "        serial = self.serial\n",
    "        cmd_handler = asyncio.create_task(self.cmd_handler())\n",
    "        # record cps vs duty cycle\n",
    "        serial.write(_CMD_START)\n",
    "        self.report_state(int(1000.0*10.0/self.fs))\n",
    "        for i in range(101):     \n",
    "            self.set_duty(i, i) \n",
    "            await asyncio.sleep(0.2)\n",
    "        serial.write(_CMD_SHUTDOWN)\n",
    "        cmd_handler.cancel() \n",
    "    \n",
    "    def __enter__(self):\n",
    "        # start program on MCU\n",
    "        repl_no_follow(\n",
    "            f\"import robot\\n\"\n",
    "            f\"robot.Robot({self.baudrate}, {self.fs}, {self.pwm_freq})\\n\"\n",
    "        )\n",
    "        time.sleep(0.5)\n",
    "        self.serial = Serial('/dev/serial0', self.baudrate, timeout=0.5, write_timeout=2, exclusive= True)\n",
    "        time.sleep(0.5)\n",
    "        # start tasks\n",
    "        asyncio.run(self.main())\n",
    "        print(\"enter returns\")\n",
    "        return self\n",
    "    \n",
    "    def __exit__(self, *args):\n",
    "        self.serial.close()\n",
    "        self.reset_mcu()\n",
    "        \n",
    "    def reset_mcu(self):\n",
    "        print(\"RESET_MCU\")\n",
    "        from gpiozero import LED\n",
    "        from time import sleep\n",
    "        with LED(21) as nrst:\n",
    "            nrst.off()\n",
    "            sleep(0.1)\n",
    "            nrst.on()\n",
    "            sleep(0.1)\n",
    "\n",
    "with Robot() as robot:\n",
    "    i_state = robot.i_state.resize()\n",
    "    \n",
    "print(\"DONE\")"
   ]
  },
  {
   "cell_type": "code",
   "execution_count": 9,
   "id": "horizontal-utility",
   "metadata": {},
   "outputs": [
    {
     "data": {
      "text/plain": [
       "Text(0, 0.5, 'cps')"
      ]
     },
     "execution_count": 8,
     "metadata": {},
     "output_type": "execute_result"
    },
    {
     "data": {
      "image/png": "[encoded data removed]",
      "text/plain": [
       "<Figure size 432x288 with 1 Axes>"
      ]
     },
     "metadata": {
      "needs_background": "light"
     },
     "output_type": "display_data"
    }
   ],
   "source": [
    "%%host\n",
    "\n",
    "import matplotlib.pyplot as plt\n",
    "from numpy import diff\n",
    "\n",
    "t    =  i_state[:, _STATE_K]\n",
    "duty =  i_state[:, _STATE_DUTY1]\n",
    "enc1 =  i_state[:, _STATE_ENC1]\n",
    "enc2 = -i_state[:, _STATE_ENC2]\n",
    "\n",
    "cps1 = diff(enc1)/diff(t)\n",
    "cps2 = diff(enc2)/diff(t)\n",
    "\n",
    "plt.plot(duty[1:], cps1)\n",
    "plt.plot(duty[1:], cps2)\n",
    "plt.xlabel(\"time\")\n",
    "plt.ylabel(\"cps\")"
   ]
  },
  {
   "cell_type": "code",
   "execution_count": 34,
   "id": "moving-essay",
   "metadata": {},
   "outputs": [
    {
     "data": {
      "text/plain": [
       "Text(0, 0.5, 'cps')"
      ]
     },
     "execution_count": 33,
     "metadata": {},
     "output_type": "execute_result"
    },
    {
     "data": {
      "image/png": "[encoded data removed]",
      "text/plain": [
       "<Figure size 432x288 with 1 Axes>"
      ]
     },
     "metadata": {
      "needs_background": "light"
     },
     "output_type": "display_data"
    }
   ],
   "source": [
    "%%host\n",
    "\n",
    "import matplotlib.pyplot as plt\n",
    "from numpy import diff\n",
    "\n",
    "t    = i_state[:, _STATE_K]\n",
    "duty =  i_state[:, _STATE_DUTY1]\n",
    "enc1 =  i_state[:, _STATE_ENC1]\n",
    "enc2 = -i_state[:, _STATE_ENC2]\n",
    "\n",
    "cps1 = diff(enc1)/diff(t)\n",
    "cps2 = diff(enc2)/diff(t)\n",
    "\n",
    "plt.plot(duty[1:], cps1)\n",
    "plt.plot(duty[1:], cps2)\n",
    "plt.xlabel(\"time\")\n",
    "plt.ylabel(\"cps\")"
   ]
  },
  {
   "cell_type": "code",
   "execution_count": null,
   "id": "proof-abortion",
   "metadata": {},
   "outputs": [],
   "source": []
  }
 ],
 "metadata": {
  "kernelspec": {
   "display_name": "IoT",
   "language": "python",
   "name": "iot_kernel"
  },
  "language_info": {
   "codemirror_mode": {
    "name": "python",
    "version": 3
   },
   "file_extension": ".py",
   "mimetype": "text/x-python",
   "name": "python",
   "pygments_lexer": "python3",
   "version": "3"
  }
 },
 "nbformat": 4,
 "nbformat_minor": 5
}
