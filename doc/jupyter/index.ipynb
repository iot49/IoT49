{
 "cells": [
  {
   "cell_type": "markdown",
   "id": "friendly-panic",
   "metadata": {},
   "source": [
    "# Jupyter Kernel for Micro/Circuit-Python"
   ]
  },
  {
   "cell_type": "markdown",
   "id": "modular-export",
   "metadata": {},
   "source": [
    "[Jupyter](https://jupyter.org/) is a web-based software development environment. Code and documentations are organized in notebooks such as this one. Originally designed for Python, support for a wide range of languages is available via pluggable \"kernels\".\n",
    "\n",
    "The IoT kernel described here extends Jupyter support to Micro- and Circuit-Python."
   ]
  },
  {
   "cell_type": "markdown",
   "id": "textile-desire",
   "metadata": {},
   "source": [
    "### Acknowledgements\n",
    "\n",
    "Many other Jupyter kernels exist for MicroPython. [Follow this link](https://github.com/goatchurchprime/jupyter_micropython_kernel) for a popular kernel and list of alternatives.\n",
    "\n",
    "Other tools that are not based on Jupyter are available also, e.g. [rshell](https://github.com/dhylands/rshell) or [pyboard.py](https://github.com/micropython/micropython/blob/master/tools/pyboard.py). The IoT kernel uses the latter \"under the hood\" for communication with the microcontroller."
   ]
  },
  {
   "cell_type": "markdown",
   "id": "needed-assault",
   "metadata": {},
   "source": [
    "## What can you do with the IoT kernel?\n",
    "\n",
    "What you are looking at is a Jupyter Notebook, that consists of text documentation (what you are reading now) mixed with code. Notebooks \"run\" in a webbrowser. Shift-clicking on a cell submits the code to the kernel for execution, in this case on a microcontroller. \n",
    "\n",
    "For example:"
   ]
  },
  {
   "cell_type": "code",
   "execution_count": 1,
   "id": "accomplished-subscriber",
   "metadata": {},
   "outputs": [
    {
     "name": "stdout",
     "output_type": "stream",
     "text": [
      "\u001b[0mConnected to test-esp32 @ serial:///dev/cu.usbserial-0160B5B8\u001b[0m\n",
      "p\u001b[0ml\u001b[0ma\u001b[0mt\u001b[0mf\u001b[0mo\u001b[0mr\u001b[0mm\u001b[0m:\u001b[0m \u001b[0m \u001b[0m \u001b[0m \u001b[0m \u001b[0m \u001b[0m \u001b[0me\u001b[0ms\u001b[0mp\u001b[0m3\u001b[0m2\u001b[0m\n",
      "\u001b[0mi\u001b[0mm\u001b[0mp\u001b[0ml\u001b[0me\u001b[0mm\u001b[0me\u001b[0mn\u001b[0mt\u001b[0ma\u001b[0mt\u001b[0mi\u001b[0mo\u001b[0mn\u001b[0m:\u001b[0m \u001b[0mm\u001b[0mi\u001b[0mc\u001b[0mr\u001b[0mo\u001b[0mp\u001b[0my\u001b[0mt\u001b[0mh\u001b[0mo\u001b[0mn\u001b[0m\n",
      "\u001b[0m0\u001b[0m \u001b[0m0\u001b[0m\n",
      "\u001b[0m1\u001b[0m \u001b[0m1\u001b[0m\n",
      "\u001b[0m2\u001b[0m \u001b[0m1\u001b[0m0\u001b[0m2\u001b[0m4\u001b[0m\n",
      "\u001b[0m3\u001b[0m \u001b[0m5\u001b[0m9\u001b[0m0\u001b[0m4\u001b[0m9\u001b[0m\n",
      "\u001b[0m"
     ]
    }
   ],
   "source": [
    "%connect test-esp32\n",
    "\n",
    "import sys\n",
    "print(\"platform:      \", sys.platform)\n",
    "print(\"implementation:\", sys.implementation.name)\n",
    "\n",
    "for i in range(4):\n",
    "    print(i, i**10)"
   ]
  },
  {
   "cell_type": "markdown",
   "id": "guilty-adelaide",
   "metadata": {},
   "source": [
    "If the Notebook is online, code can easily be changed and reexecuted, permitting rapid prototpying."
   ]
  },
  {
   "cell_type": "markdown",
   "id": "contrary-continent",
   "metadata": {},
   "source": [
    "#### The IoT Jupyter kernel supports a wide range tools to \n",
    "\n",
    "* discover and connect to microcontrollers with USB or wireless connections\n",
    "* copy programs and libraries from to and from the microcontroller\n",
    "* pip and mpycross to aid software development\n",
    "* automatically run code on several microcontrollers and the host computer\n",
    "\n",
    "#### The following guides give more information about the IoT Jupyter kernel:\n",
    "\n",
    "1. [Getting Started](start.ipynb)\n",
    "2. [File Operations](file_ops.ipynb)\n",
    "3. [Software Develpment](sdev.ipynb)\n",
    "4. [Logging](loglevel.ipynb)"
   ]
  },
  {
   "cell_type": "code",
   "execution_count": null,
   "id": "signed-handbook",
   "metadata": {},
   "outputs": [],
   "source": []
  }
 ],
 "metadata": {
  "kernelspec": {
   "display_name": "IoT",
   "language": "python",
   "name": "iot_kernel"
  },
  "language_info": {
   "codemirror_mode": {
    "name": "python",
    "version": 3
   },
   "file_extension": ".py",
   "mimetype": "text/x-python",
   "name": "python",
   "pygments_lexer": "python3",
   "version": "3"
  }
 },
 "nbformat": 4,
 "nbformat_minor": 5
}
