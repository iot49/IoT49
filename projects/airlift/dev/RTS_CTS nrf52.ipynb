{
 "cells": [
  {
   "cell_type": "markdown",
   "metadata": {},
   "source": [
    "# Test RTS/CTS"
   ]
  },
  {
   "cell_type": "code",
   "execution_count": 1,
   "metadata": {},
   "outputs": [
    {
     "name": "stdout",
     "output_type": "stream",
     "text": [
      "\u001b[0mHostname             URL                                      UID\n",
      "\u001b[0mesp32_cop            serial:///dev/cu.usbserial-014352DD      30:ae:a4:1a:27:28\n",
      "\u001b[0mnrf52                serial:///dev/cu.usbmodem1413401         c7:9d:75:c8:7a:14:1d:b6\n",
      "\u001b[0m\u001b[0mConnected to nrf52 @ serial:///dev/cu.usbmodem1413401\n",
      "\u001b[0mwith projects [secrets, airlift/libs/client]\n",
      "\u001b[0m\u001b[0m\u001b[34mUPDATE  lib/urpc/client.py\n",
      "\u001b[0m\u001b[0m\u001b[0m"
     ]
    }
   ],
   "source": [
    "%discover\n",
    "%connect nrf52\n",
    "%rsync\n",
    "%softreset -q"
   ]
  },
  {
   "cell_type": "code",
   "execution_count": 1,
   "metadata": {},
   "outputs": [
    {
     "name": "stdout",
     "output_type": "stream",
     "text": [
      "\u001b[0mConnected to nrf52 @ serial:///dev/cu.usbmodem1413401\n",
      "\u001b[0mwith projects [secrets, airlift/libs/client]\n",
      "\u001b[0mcts\u001b[0m False\u001b[0m\n",
      "rts False\n",
      "\u001b[0m"
     ]
    }
   ],
   "source": [
    "%connect nrf52\n",
    "\n",
    "import board, busio, digitalio, io, time\n",
    "\n",
    "with digitalio.DigitalInOut(board.MOSI) as cts, \\\n",
    "     digitalio.DigitalInOut(board.MISO) as rts:              \n",
    "        print(\"cts\", cts.value)\n",
    "        print(\"rts\", rts.value)\n",
    "        "
   ]
  },
  {
   "cell_type": "markdown",
   "metadata": {},
   "source": [
    "## Open"
   ]
  },
  {
   "cell_type": "code",
   "execution_count": 1,
   "metadata": {},
   "outputs": [
    {
     "name": "stdout",
     "output_type": "stream",
     "text": [
      "\u001b[0mConnected to nrf52 @ serial:///dev/cu.usbmodem1413401\n",
      "\u001b[0mwith projects [airlift]\n",
      "\u001b[0m\u001b[0m\n",
      "\u001b[0m\u001b[46m\u001b[31m!!!!!!!!!!!!!!!!!!!!!!!!!!!!!!!\n",
      "\u001b[0m\u001b[46m\u001b[31m!!!!!   softreset ...     !!!!!\n",
      "\u001b[0m\u001b[46m\u001b[31m!!!!!!!!!!!!!!!!!!!!!!!!!!!!!!!\u001b[0m\n",
      "\n",
      "\u001b[0m"
     ]
    }
   ],
   "source": [
    "%connect nrf52\n",
    "%softreset -q\n",
    "\n",
    "import board, busio, io, time\n",
    "\n",
    "uart = busio.UART(rx=board.TX, tx=board.RX, cts=board.MOSI, rts=board.MISO, baudrate=1_000_000)"
   ]
  },
  {
   "cell_type": "markdown",
   "metadata": {},
   "source": [
    "* TX goes high, as expected\n",
    "* all others stay low, as expected"
   ]
  },
  {
   "cell_type": "markdown",
   "metadata": {},
   "source": [
    "## Loopback"
   ]
  },
  {
   "cell_type": "code",
   "execution_count": 1,
   "metadata": {},
   "outputs": [
    {
     "name": "stdout",
     "output_type": "stream",
     "text": [
      "\u001b[0mConnected to nrf52 @ serial:///dev/cu.usbmodem1413401\n",
      "\u001b[0mwith projects [airlift]\n",
      "\u001b[0m[  8] b'abcdefgh'\u001b[0m\n",
      "\u001b[0m[  6] b'jklmno'\n",
      "\u001b[0m[  0] b''\n",
      "\u001b[0m[  0] b''\u001b[0m\n",
      "\u001b[0m[  0] b''\u001b[0m\n",
      "\u001b[0m"
     ]
    }
   ],
   "source": [
    "%connect nrf52\n",
    "\n",
    "import board, busio, io, time\n",
    "\n",
    "try:\n",
    "    uart.deinit()\n",
    "except:\n",
    "    pass\n",
    "\n",
    "uart = busio.UART(rx=board.TX, tx=board.RX, \\\n",
    "                  baudrate=1_000_000, cts=board.MOSI, rts=board.MISO, \\\n",
    "                  receiver_buffer_size=8)\n",
    "\n",
    "uart.write(b'abcdefghijklmnop')\n",
    "for i in range(5):\n",
    "    iw = uart.in_waiting\n",
    "    res = uart.read(iw)\n",
    "    print(\"[{:3}] {}\".format(iw, res))\n",
    "    time.sleep(0.1)"
   ]
  },
  {
   "cell_type": "code",
   "execution_count": 1,
   "metadata": {},
   "outputs": [
    {
     "name": "stdout",
     "output_type": "stream",
     "text": [
      "12\u001b[0m\n",
      "\u001b[0m"
     ]
    }
   ],
   "source": [
    "uart.write(b'123456789012')"
   ]
  },
  {
   "cell_type": "markdown",
   "metadata": {},
   "source": [
    "* pulling CTS high stops transmission\n",
    "* low/open -> transmission works"
   ]
  },
  {
   "cell_type": "code",
   "execution_count": 1,
   "metadata": {},
   "outputs": [
    {
     "name": "stderr",
     "output_type": "stream",
     "text": [
      "Interrupted\u001b[0m"
     ]
    }
   ],
   "source": [
    "uart.write(b'START ')\n",
    "if False:\n",
    "    uart.write(b'abcdefghijklmnop1234')\n",
    "    uart.write(b'abcdefghijklmnop1234')\n",
    "    uart.write(b'abcdefghijklmnop1234')\n",
    "    uart.write(b'abcdefghijklmnop1234')\n",
    "    uart.write(b'abcdefghijklmnop1234')\n",
    "    uart.write(b' END')\n"
   ]
  },
  {
   "cell_type": "code",
   "execution_count": 1,
   "metadata": {},
   "outputs": [
    {
     "name": "stdout",
     "output_type": "stream",
     "text": [
      "[  8] b'12345678'\u001b[0m\n",
      "\u001b[0m[  4] b'9012'\u001b[0m\n",
      "\u001b[0m[  0] b''\u001b[0m\n",
      "\u001b[0m[  0] b''\u001b[0m\n",
      "\u001b[0m[  0] b''\u001b[0m\n",
      "\u001b[0m"
     ]
    }
   ],
   "source": [
    "for i in range(5):\n",
    "    iw = uart.in_waiting\n",
    "    res = uart.read(iw)\n",
    "    print(\"[{:3}] {}\".format(iw, res))\n",
    "    time.sleep(0.1)"
   ]
  },
  {
   "cell_type": "markdown",
   "metadata": {},
   "source": [
    "## Echo"
   ]
  },
  {
   "cell_type": "code",
   "execution_count": 1,
   "metadata": {},
   "outputs": [
    {
     "name": "stdout",
     "output_type": "stream",
     "text": [
      "\u001b[0mConnected to nrf52 @ serial:///dev/cu.usbmodem1413401\n",
      "\u001b[0mwith projects [secrets, airlift/libs/client]\n",
      "\u001b[0m[256] b'0123456789:;<=>?@ABCDEFGHIJKLMNOPQRSTUVWXYZ[\\\\]^_`abcdef\u001b[0mghijklmnopqrstuvwx0123456789:;<=>?@ABCDEFGHIJKLMNOPQRSTUVWXYZ[\\\\]^_`abcdefghijklmnopqrstuvwx0123456789:;<=>?@ABCDEFGHIJKLMNOPQRSTUVWXYZ[\\\\]^_`abcdefghijklmnopqrstuvwx0123456789:;<=>?@ABCDEFGHI\u001b[0mJKLMNOPQRST'\n",
      "\u001b[0m[256] b'UVWXYZ[\\\\]^_`abcdefghijklmnopqrstuvwx0123456789:;<=>?@AB\u001b[0mCDEFGHIJKLMNOPQRSTUVWXYZ[\\\\]^_`abcdefghijklmnopqrstuvwx012345678\u001b[0m9:;<=>?@ABCDEFGHIJKLMNOPQRSTUVWXYZ[\\\\]^_`abcdefghijklmnopqrstuvwx0123456789:;<=>?@ABCDEFGHIJKLMNOPQRSTUVWXYZ[\\\\]^_`abcdefghijklmnopqrstuvwx0'\n",
      "\u001b[0m[188] b'123456789:;<=>?@ABCDEFGHIJKLMNOPQRSTUVWXYZ[\\\\]^_`abcdefg\u001b[0mhijklmnopqrstuvwx0123456789:;<=>?@ABCDEFGHIJKLMNOPQRSTUVWXYZ[\\\\]\u001b[0m^_`abcdefghijklmnopqrstuvwx0123456789:;<=>?@ABCDEFGHIJKLMNOPQRSTUVWXYZ'\n",
      "\u001b[0m"
     ]
    },
    {
     "name": "stderr",
     "output_type": "stream",
     "text": [
      "Interrupted\u001b[0m"
     ]
    }
   ],
   "source": [
    "%connect nrf52\n",
    "\n",
    "import board, busio, io, time\n",
    "\n",
    "try:\n",
    "    uart.deinit()\n",
    "except:\n",
    "    pass\n",
    "\n",
    "uart = busio.UART(rx=board.TX, tx=board.RX, cts=board.MOSI, rts=board.MISO, \\\n",
    "                  baudrate=1_000_000, \\\n",
    "                  receiver_buffer_size=256)\n",
    "\n",
    "# uart.write(b'abcdefghijklmnop')\n",
    "while True:\n",
    "    iw = uart.in_waiting\n",
    "    if iw:\n",
    "        res = uart.read(iw)\n",
    "        print(\"[{:3}] {}\".format(iw, res))\n",
    "        uart.write(res)\n",
    "    else:\n",
    "        time.sleep(0.1)"
   ]
  },
  {
   "cell_type": "markdown",
   "metadata": {},
   "source": [
    "## Client"
   ]
  },
  {
   "cell_type": "code",
   "execution_count": 1,
   "metadata": {},
   "outputs": [
    {
     "name": "stdout",
     "output_type": "stream",
     "text": [
      "\u001b[0mConnected to nrf52 @ serial:///dev/cu.usbmodem1413401\n",
      "\u001b[0mwith projects [secrets, airlift/libs/client]\n",
      "\u001b[0m"
     ]
    }
   ],
   "source": [
    "%connect nrf52\n",
    "\n",
    "import msgpack\n",
    "\n",
    "try:\n",
    "    _stream.deinit()\n",
    "except:\n",
    "    pass\n",
    "\n",
    "\n",
    "class RPCError(Exception):\n",
    "    pass\n",
    "\n",
    "\n",
    "def import_(module: str):\n",
    "    # import module on remote and return a reference\n",
    "    return _send((\"im\", module))\n",
    "\n",
    "def registry_():\n",
    "    # remote object registry\n",
    "    return _send((\"_r\", ))\n",
    "\n",
    "\n",
    "def _obj_handler(obj):\n",
    "    # convert _Proxy to its ext_type (in _send)\n",
    "    if isinstance(obj, _Proxy):\n",
    "        return obj.ext_type\n",
    "    # should never happen\n",
    "    raise ValueError(\"no handler for {}\".format(obj))\n",
    "\n",
    "    \n",
    "def _ext_handler(code, data):\n",
    "    # convert ExtType to _Proxy, etc\n",
    "    if code == 1:\n",
    "        return _Proxy(msgpack.ExtType(code, data))\n",
    "    if code == 2:\n",
    "        # error on remote\n",
    "        # TODO: re-rise remote's error for tighter integration rather than wrapping in RPCError???\n",
    "        raise RPCError(data.decode())\n",
    "    if code == 3:\n",
    "        # print on remote forwarded to host\n",
    "        print(data.decode())\n",
    "        # the actual result follows\n",
    "        return msgpack.unpack(_stream, ext_hook=_ext_handler, use_list=False)\n",
    "    raise ValueError(\"uRPC client received unknown ExtType({}, {})\".format(code, data))\n",
    "\n",
    "\n",
    "def _send(req):\n",
    "    # clear rx buffer, required in case of comm error \n",
    "    # (e.g. too long response in last request)\n",
    "    while _stream.in_waiting:\n",
    "        iw = _stream.in_waiting\n",
    "        _stream.read(_stream.in_waiting)\n",
    "        print(\"_send: clear rx buffer: discarding {} bytes\".format(iw))\n",
    "    # send request\n",
    "    msgpack.pack(req, _stream, default=_obj_handler)\n",
    "    # timeout?\n",
    "    while _stream.in_waiting == 0:\n",
    "        pass\n",
    "    res = msgpack.unpack(_stream, ext_hook=_ext_handler, use_list=False)\n",
    "    return res\n",
    "\n",
    "\n",
    "class _Proxy():\n",
    "    \n",
    "    def __init__(self, ext_type: msgpack.ExtType):\n",
    "        # _Proxy is a reference (msgpack.ExtType) to an object on the remote\n",
    "        self._ext_type = ext_type\n",
    "        \n",
    "    def __getattr__(self, name: str):\n",
    "        # Note: \n",
    "        # We return an accessor function rather than a reference to the \n",
    "        # actual object (method, property) on the server. \n",
    "        # This avoids an extra rpc call but has the disadvantage that\n",
    "        # properties cannot accessed the standard way.\n",
    "        # (_Proxy.x just returns the accessor method, not the property value).\n",
    "        def method(*args, **kwargs):\n",
    "            return _send((\"cm\", self._ext_type, name, args, kwargs))       \n",
    "        return method\n",
    "    \n",
    "    def get(self, name: str):\n",
    "        # get object property\n",
    "        return _send((\"gp\", self._ext_type, name))\n",
    "         \n",
    "    def set(self, name: str, value):\n",
    "        # set object property\n",
    "        return _send((\"sp\", self._ext_type, name, value))\n",
    "    \n",
    "    def __del__(self):\n",
    "        # reclaim object on remote\n",
    "        # Note: this could be automated with a finaliser (see FinaliserProxy)\n",
    "        # Challenges:\n",
    "        # 1) called from within gc - no allocation (calling _send is not permitted)\n",
    "        # 2) in the present implementation the server uses the object id (address)\n",
    "        #    for identification. Repeated execution of e.g. gc_ = import('gc') always\n",
    "        #    returns the same reference but since on the client the \"new\" gc_ is a \n",
    "        #    different object it gets collected. If this function is called, the\n",
    "        #    object is also deleted from the registry on the server.\n",
    "        #    Workaround: replace the id with something that changes on each object\n",
    "        #    creation, e.g. a counter. Not sure it works, what if functions a() and b()\n",
    "        #    return references to the same object? The registry gets cluttered with all these refs?\n",
    "        # --> Let's see if manual memory management on the server is really onerous.\n",
    "        return _send((\"_d\", self._ext_type))\n",
    "    \n",
    "    def __str__(self):\n",
    "        return _send((\"_s\", self._ext_type))\n",
    "    \n",
    "    \n",
    "def start(stream=None):\n",
    "    global _stream\n",
    "    if not stream:\n",
    "        # default is Particle Argon\n",
    "        import board, busio\n",
    "        stream = busio.UART(rx=board.TX, tx=board.RX, cts=board.MOSI, rts=board.MISO, \\\n",
    "                          baudrate=1_000_000, timeout=1, receiver_buffer_size=4096)\n",
    "    _stream = stream\n",
    "        \n",
    "# start on import\n",
    "start()"
   ]
  },
  {
   "cell_type": "markdown",
   "metadata": {},
   "source": [
    "# URPC Client - Import from library"
   ]
  },
  {
   "cell_type": "code",
   "execution_count": 1,
   "metadata": {},
   "outputs": [
    {
     "name": "stdout",
     "output_type": "stream",
     "text": [
      "\u001b[0mConnected to nrf52 @ serial:///dev/cu.usbmodem1413401\n",
      "\u001b[0mwith projects [secrets, airlift/libs/client]\n",
      "\u001b[0m"
     ]
    }
   ],
   "source": [
    "%connect nrf52\n",
    "\n",
    "from urpc.client import *"
   ]
  },
  {
   "cell_type": "code",
   "execution_count": 1,
   "metadata": {},
   "outputs": [
    {
     "name": "stdout",
     "output_type": "stream",
     "text": [
      "esp32\u001b[0m\n",
      "\u001b[0m"
     ]
    }
   ],
   "source": [
    "# quick test\n",
    "sys_ = import_('sys')\n",
    "print(sys_.get('platform'))"
   ]
  },
  {
   "cell_type": "code",
   "execution_count": 1,
   "metadata": {},
   "outputs": [
    {
     "name": "stdout",
     "output_type": "stream",
     "text": [
      "[  0] mem_free \u001b[0m90304\n",
      "\u001b[0m[  1] mem_free\u001b[0m 89120\n",
      "\u001b[0m[  2] mem_free\u001b[0m 87936\n",
      "\u001b[0m"
     ]
    }
   ],
   "source": [
    "gc_ = import_('gc')\n",
    "\n",
    "for i in range(3):\n",
    "    demo = import_('urpc_demo')\n",
    "    obj = demo.Demo(\"obj # {:3}\".format(i))\n",
    "    print(\"[{:3}] mem_free\".format(i), gc_.mem_free())\n",
    "    # delete on server\n",
    "    obj.__del__()\n",
    "    del obj\n",
    "    try:\n",
    "        print(\"    obj =\", obj)\n",
    "    except NameError:\n",
    "        pass"
   ]
  },
  {
   "cell_type": "code",
   "execution_count": 1,
   "metadata": {},
   "outputs": [
    {
     "name": "stdout",
     "output_type": "stream",
     "text": [
      "demo.a\u001b[0m 5\u001b[0m\n",
      "\u001b[0mdemo.upper\u001b[0m THIS IS UPPER CASE!\u001b[0m\n",
      "\u001b[0mobj =\u001b[0m \u001b[0m<Demo id=1073729488 desc='my demo object'>\u001b[0m\n",
      "\u001b[0mobj.add:\u001b[0m 3 + 9 = 12\u001b[0m\n",
      "\u001b[0mobj.arg_demo:\u001b[0m arg1=this is arg1, arg2=3.1415, kw1=kw1 default, kw2=custom kw2\n",
      "\u001b[0mobj.desc: \u001b[0mmy demo object\u001b[0m\n",
      "\u001b[0mobj.desc: new value\n",
      "\u001b[0mobj.new_attr:\u001b[0m new value\n",
      "\u001b[0mobj.new_attr: \u001b[0mnewly created attribute\n",
      "\u001b[0mobj.dir: \u001b[0m('__clas\u001b[0ms__', '__init_\u001b[0m_', '__module\u001b[0m__', '__qu\u001b[0maln\u001b[0mame_\u001b[0m_', '__s\u001b[0mtr\u001b[0m__'\u001b[0m, '\u001b[0m__di\u001b[0mct__', \u001b[0m'ad\u001b[0md', \u001b[0m'des\u001b[0mcript\u001b[0mio\u001b[0mn', '\u001b[0m_x', \u001b[0m'desc', \u001b[0m'ar\u001b[0mg_d\u001b[0memo', \u001b[0m'd\u001b[0mir_d\u001b[0mem\u001b[0mo', '\u001b[0mecho', 'n\u001b[0mew\u001b[0m_attr')\u001b[0m\n",
      "\u001b[0mobj.echo\u001b[0m 12345\n",
      "\u001b[0mobj.echo \u001b[0m{'\u001b[0mxyz': \u001b[0m'v\u001b[0malue of\u001b[0m xyz', \u001b[0m'abc'\u001b[0m: 3.1415\u001b[0m}\n",
      "\u001b[0m\u001b[0m\n",
      "RPCError:\n",
      "Traceback (most recent call last):\u001b[0m\n",
      "  File \"/lib/urpc/server.py\", line 81, in serve\u001b[0m\n",
      "  File \"/lib/urpc/server.py\", line 17, in cm\n",
      "AttributeError: 'Demo' object has no attribute 'foo'\u001b[0m\n",
      "\n",
      "\u001b[0mRegistry:\u001b[0m\n",
      "\u001b[0m  1073640432 <module 'urpc_demo' from '/lib/urpc_demo.py'>\n",
      "\u001b[0m  1061202660 <module 'gc'>\n",
      "\u001b[0m  1073657888 <Demo id=1073657888 desc='my demo object'>\u001b[0m\n",
      "\u001b[0m"
     ]
    }
   ],
   "source": [
    "demo = import_('urpc_demo')\n",
    "print(\"demo.a\", demo.get('a'))\n",
    "print(\"demo.upper\", demo.upper(\"this is upper case!\"))\n",
    "obj = demo.Demo(\"my demo object\")\n",
    "print(\"obj =\", obj)\n",
    "print(\"obj.add:\", obj.add(3,9))\n",
    "print(\"obj.arg_demo:\", obj.arg_demo('this is arg1', 3.1415, kw2='custom kw2'))\n",
    "print(\"obj.desc:\", obj.get('desc'))\n",
    "obj.set('desc', 'new value')\n",
    "print(\"obj.desc:\", obj.get('desc'))\n",
    "print(\"obj.new_attr:\", obj.get('desc'))\n",
    "obj.set('new_attr', 'newly created attribute')\n",
    "print(\"obj.new_attr:\", obj.get('new_attr'))\n",
    "print(\"obj.dir:\", obj.dir_demo())\n",
    "print(\"obj.echo\", obj.echo(12345))\n",
    "print(\"obj.echo\", obj.echo({'abc': 3.1415, 'xyz': 'value of xyz'}))\n",
    "\n",
    "try:\n",
    "    obj.foo(7)\n",
    "except RPCError as e:\n",
    "    print(\"\\nRPCError:\\n{}\".format(e))\n",
    "finally:\n",
    "    # release object on server\n",
    "    obj.__del__()\n",
    "    \n",
    "print(\"Registry:\")\n",
    "for k,v in registry_().items():\n",
    "    print(\"  {} {}\".format(k, v))"
   ]
  },
  {
   "cell_type": "code",
   "execution_count": 1,
   "metadata": {},
   "outputs": [
    {
     "name": "stdout",
     "output_type": "stream",
     "text": [
      "mem_free: host: 133456  remote:  83568\u001b[0m\n",
      "\u001b[0mmem_free: host: 129088  remote:  78992\u001b[0m\n",
      "\u001b[0mmem_free: host: 124720  remote:  74416\u001b[0m\n",
      "\u001b[0mmem_free: host: 120352  remote:  69840\u001b[0m\n",
      "\u001b[0mmem_free: host: 115984  remote:  65264\u001b[0m\n",
      "\u001b[0mmem_free: host: 111616  remote:  60688\u001b[0m\n",
      "\u001b[0mmem_free: host: 107248  remote:  56112\u001b[0m\n",
      "\u001b[0mmem_free: host: 102880  remote:  51536\u001b[0m\n",
      "\u001b[0mmem_free: host:  98512  remote:  46960\u001b[0m\n",
      "\u001b[0mmem_free: host:  94144  remote:  42384\u001b[0m\n",
      "\u001b[0mmem_free: host:  89776  remote:  37808\u001b[0m\n",
      "\u001b[0mmem_free: host:  85408  remote:  33232\u001b[0m\n",
      "\u001b[0mmem_free: host:  81040  remote:  28656\u001b[0m\n",
      "\u001b[0mmem_free: host:  76672  remote:  24080\u001b[0m\n",
      "\u001b[0mmem_free: host:  72304  remote:  19504\u001b[0m\n",
      "\u001b[0mmem_free: host:  67936  remote:  14928\u001b[0m\n",
      "\u001b[0mmem_free: host:  63568  remote:  10352\u001b[0m\n",
      "\u001b[0mmem_free: host:  59200  remote:   5776\u001b[0m\n",
      "\u001b[0mmem_free: host:  54832  remote:   1200\u001b[0m\n",
      "\u001b[0mmem_free: host:  50464  remote:  92240\u001b[0m\n",
      "\u001b[0mmem_free: host:  46096  remote:  87664\u001b[0m\n",
      "\u001b[0mmem_free: host:  41728  remote:  83088\u001b[0m\n",
      "\u001b[0mmem_free: host:  37360  remote:  78512\u001b[0m\n",
      "\u001b[0mmem_free: host:  32992  remote:  73936\u001b[0m\n",
      "\u001b[0mmem_free: host:  28624  remote:  69360\u001b[0m\n",
      "\u001b[0mmem_free: host:  24256  remote:  64784\u001b[0m\n",
      "\u001b[0mmem_free: host:  19888  remote:  60208\u001b[0m\n",
      "\u001b[0mmem_free: host:  15520  remote:  55632\u001b[0m\n",
      "\u001b[0mmem_free: host:  11152  remote:  51056\u001b[0m\n",
      "\u001b[0mmem_free: host:   6784  remote:  46480\u001b[0m\n",
      "\u001b[0mMatch!\u001b[0m\n",
      "\u001b[0m"
     ]
    }
   ],
   "source": [
    "import os, gc\n",
    "\n",
    "N = 4000\n",
    "data = bytes(os.urandom(N))\n",
    "\n",
    "gc_  = import_('gc')\n",
    "demo = import_('urpc_demo')\n",
    "obj  = demo.Demo(\"my demo object\")\n",
    "\n",
    "for i in range(30):\n",
    "    print(\"mem_free: host: {:6}  remote: {:6}\".format(gc.mem_free(), gc_.mem_free()))\n",
    "    assert data == obj.echo(data)\n",
    "    \n",
    "print(\"Match!\")"
   ]
  },
  {
   "cell_type": "code",
   "execution_count": null,
   "metadata": {},
   "outputs": [],
   "source": []
  }
 ],
 "metadata": {
  "kernelspec": {
   "display_name": "IoT",
   "language": "python",
   "name": "iot_kernel"
  },
  "language_info": {
   "codemirror_mode": {
    "name": "python",
    "version": 3
   },
   "file_extension": ".py",
   "mimetype": "text/x-python",
   "name": "python",
   "pygments_lexer": "python3",
   "version": "3"
  }
 },
 "nbformat": 4,
 "nbformat_minor": 4
}
