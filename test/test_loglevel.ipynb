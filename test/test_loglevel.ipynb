{
 "cells": [
  {
   "cell_type": "markdown",
   "metadata": {},
   "source": [
    "# MicroPython Quick Tries"
   ]
  },
  {
   "cell_type": "code",
   "execution_count": 2,
   "metadata": {},
   "outputs": [
    {
     "name": "stdout",
     "output_type": "stream",
     "text": [
      "\u001b[0mLogger device_registry level set to DEBUG\u001b[0m\n",
      "\u001b[0mLogger mp_device level set to DEBUG\u001b[0m\n",
      "\n",
      "\u001b[0mtest-stm32      serial:///dev/cu.usbmodem208E307542522  \u001b[0m\n",
      "test-stm32-cop  serial:///dev/cu.usbserial-0143520E     \u001b[0m\n",
      "test-esp32      serial:///dev/cu.usbserial-0160B5B8     \u001b[0m\n",
      "test-samd       serial:///dev/cu.usbmodem1413201        \u001b[0m\n",
      "test-esp32      ws://10.39.40.135:8266                  \u001b[0m\n",
      "test-argon      mp://10.39.40.140:54321                 \u001b[0m\n"
     ]
    }
   ],
   "source": [
    "%loglevel device_registry DEBUG\n",
    "%loglevel mp_device DEBUG\n",
    "!echo\n",
    "%discover"
   ]
  },
  {
   "cell_type": "code",
   "execution_count": 2,
   "metadata": {},
   "outputs": [
    {
     "name": "stdout",
     "output_type": "stream",
     "text": [
      "\u001b[0mConnected to test-argon @ mp://10.39.40.140:54321\u001b[0m\n",
      "\u001b[0mmp://10.39.40.140:54321\u001b[0m\n",
      "t\u001b[0me\u001b[0ms\u001b[0mt\u001b[0m-\u001b[0ma\u001b[0mr\u001b[0mg\u001b[0mo\u001b[0mn\u001b[0m \u001b[0mm\u001b[0mp\u001b[0m\n",
      "\u001b[0m\u001b[0m\u001b[32mDirectories match\n",
      "\u001b[0m\u001b[0m\n",
      "\u001b[0m\u001b[0mConnected to test-esp32 @ serial:///dev/cu.usbserial-0160B5B8\u001b[0m\n",
      "\u001b[0mserial:///dev/cu.usbserial-0160B5B8\u001b[0m\n",
      "t\u001b[0me\u001b[0ms\u001b[0mt\u001b[0m-\u001b[0me\u001b[0ms\u001b[0mp\u001b[0m3\u001b[0m2\u001b[0m \u001b[0ms\u001b[0me\u001b[0mr\u001b[0mi\u001b[0ma\u001b[0ml\u001b[0m\n",
      "\u001b[0m\u001b[0m\u001b[32mDirectories match\n",
      "\u001b[0m\u001b[0m\n",
      "\u001b[0m\u001b[0mConnected to test-esp32 @ ws://10.39.40.135:8266\u001b[0m\n",
      "\u001b[0mws://10.39.40.135:8266\u001b[0m\n",
      "test-esp32 ws\u001b[0m\n",
      "\u001b[0m\u001b[0m\u001b[32mDirectories match\n",
      "\u001b[0m\u001b[0m\n",
      "\u001b[0m\u001b[0mConnected to test-samd @ serial:///dev/cu.usbmodem1413201\u001b[0m\n",
      "\u001b[0mserial:///dev/cu.usbmodem1413201\u001b[0m\n",
      "t\u001b[0me\u001b[0ms\u001b[0mt\u001b[0m-\u001b[0ms\u001b[0ma\u001b[0mm\u001b[0md\u001b[0m \u001b[0ms\u001b[0me\u001b[0mr\u001b[0mi\u001b[0ma\u001b[0ml\u001b[0m\n",
      "\u001b[0m\u001b[0m\u001b[32mDirectories match\n",
      "\u001b[0m\u001b[0m\n",
      "\u001b[0m\u001b[0mConnected to test-stm32 @ serial:///dev/cu.usbmodem208E307542522\u001b[0m\n",
      "\u001b[0mserial:///dev/cu.usbmodem208E307542522\u001b[0m\n",
      "t\u001b[0me\u001b[0ms\u001b[0mt\u001b[0m-\u001b[0ms\u001b[0mt\u001b[0mm\u001b[0m3\u001b[0m2\u001b[0m \u001b[0ms\u001b[0me\u001b[0mr\u001b[0mi\u001b[0ma\u001b[0ml\u001b[0m\n",
      "\u001b[0m\u001b[0m\u001b[32mDirectories match\n",
      "\u001b[0m\u001b[0m\n",
      "\u001b[0m\u001b[0mConnected to test-stm32-cop @ serial:///dev/cu.usbserial-0143520E\u001b[0m\n",
      "\u001b[0mserial:///dev/cu.usbserial-0143520E\u001b[0m\n",
      "t\u001b[0me\u001b[0ms\u001b[0mt\u001b[0m-\u001b[0ms\u001b[0mt\u001b[0mm\u001b[0m3\u001b[0m2\u001b[0m-\u001b[0mc\u001b[0mo\u001b[0mp\u001b[0m \u001b[0ms\u001b[0me\u001b[0mr\u001b[0mi\u001b[0ma\u001b[0ml\u001b[0m\n",
      "\u001b[0m\u001b[0m\u001b[32mDirectories match\n",
      "\u001b[0m\u001b[0m\n",
      "\u001b[0m"
     ]
    }
   ],
   "source": [
    "%connect test-argon mp\n",
    "%url\n",
    "print('test-argon mp')\n",
    "%rsync\n",
    "print()\n",
    "\n",
    "%connect test-esp32 serial\n",
    "%url\n",
    "print('test-esp32 serial')\n",
    "%rsync\n",
    "print()\n",
    "\n",
    "%connect test-esp32 ws\n",
    "%url\n",
    "print('test-esp32 ws')\n",
    "%rsync\n",
    "print()\n",
    "\n",
    "%connect test-samd serial\n",
    "%url\n",
    "print('test-samd serial')\n",
    "%rsync\n",
    "print()\n",
    "\n",
    "%connect test-stm32 serial\n",
    "%url\n",
    "print('test-stm32 serial')\n",
    "%rsync\n",
    "print()\n",
    "\n",
    "%connect test-stm32-cop serial\n",
    "%url\n",
    "print('test-stm32-cop serial')\n",
    "%rsync\n",
    "print()\n",
    "\n"
   ]
  },
  {
   "cell_type": "code",
   "execution_count": 2,
   "metadata": {},
   "outputs": [
    {
     "name": "stdout",
     "output_type": "stream",
     "text": [
      "\u001b[0mConnected to test-argon @ mp://10.39.40.140:54321\u001b[0m\n"
     ]
    }
   ],
   "source": [
    "%connect test-argon mp\n"
   ]
  },
  {
   "cell_type": "code",
   "execution_count": 6,
   "metadata": {},
   "outputs": [
    {
     "name": "stdout",
     "output_type": "stream",
     "text": [
      "5\u001b[0m\n",
      "\u001b[0m"
     ]
    }
   ],
   "source": [
    "print(5)"
   ]
  },
  {
   "cell_type": "code",
   "execution_count": 6,
   "metadata": {},
   "outputs": [
    {
     "name": "stdout",
     "output_type": "stream",
     "text": [
      "\u001b[0m#\u001b[0m \u001b[0mf\u001b[0ml\u001b[0ma\u001b[0ms\u001b[0mh\u001b[0m \u001b[0mw\u001b[0mr\u001b[0mi\u001b[0mt\u001b[0ma\u001b[0mb\u001b[0ml\u001b[0me\u001b[0m \u001b[0mf\u001b[0mr\u001b[0mo\u001b[0mm\u001b[0m \u001b[0mM\u001b[0mC\u001b[0mU\u001b[0m\n",
      "\u001b[0m\n",
      "\u001b[0mi\u001b[0mm\u001b[0mp\u001b[0mo\u001b[0mr\u001b[0mt\u001b[0m \u001b[0ms\u001b[0mt\u001b[0mo\u001b[0mr\u001b[0ma\u001b[0mg\u001b[0me\u001b[0m\n",
      "\u001b[0ms\u001b[0mt\u001b[0mo\u001b[0mr\u001b[0ma\u001b[0mg\u001b[0me\u001b[0m.\u001b[0mr\u001b[0me\u001b[0mm\u001b[0mo\u001b[0mu\u001b[0mn\u001b[0mt\u001b[0m(\u001b[0m\"\u001b[0m/\u001b[0m\"\u001b[0m,\u001b[0m \u001b[0mF\u001b[0ma\u001b[0ml\u001b[0ms\u001b[0me\u001b[0m)\u001b[0m\n",
      "\u001b[0m\u001b[0m\n"
     ]
    }
   ],
   "source": [
    "%cat boot.py"
   ]
  },
  {
   "cell_type": "code",
   "execution_count": 6,
   "metadata": {},
   "outputs": [
    {
     "name": "stdout",
     "output_type": "stream",
     "text": [
      "\u001b[0m     70  Feb 06 18:44 2021  \u001b[34mboot.py\u001b[0m\n",
      "\u001b[0m     99  Jan 01 00:00 2000  \u001b[34mboot_out.txt\u001b[0m\n",
      "\u001b[0m                            \u001b[32mesp32/\u001b[0m\n",
      "\u001b[0m    863  Feb 17 14:26 2021      \u001b[34mairlift_main.py\u001b[0m\n",
      "\u001b[0m   1662  Feb 17 14:26 2021      \u001b[34mboot.py\u001b[0m\n",
      "\u001b[0m                                \u001b[32mlib/\u001b[0m\n",
      "\u001b[0m                                    \u001b[32mota32/\u001b[0m\n",
      "\u001b[0m     51  Feb 09 18:20 2021              \u001b[34m__init__.py\u001b[0m\n",
      "\u001b[0m   2048  Feb 09 18:20 2021              \u001b[34mopen_url.py\u001b[0m\n",
      "\u001b[0m   3489  Feb 09 18:20 2021              \u001b[34mota.py\u001b[0m\n",
      "\u001b[0m                                    \u001b[32murpc_server/\u001b[0m\n",
      "\u001b[0m     38  Feb 12 18:00 2021              \u001b[34m__init__.py\u001b[0m\n",
      "\u001b[0m   3125  Feb 16 11:34 2021              \u001b[34masync_server.py\u001b[0m\n",
      "\u001b[0m     20  Feb 17 14:06 2021      \u001b[34mmain.py\u001b[0m\n",
      "\u001b[0m     52  Feb 17 14:06 2021      \u001b[34mwebrepl_cfg.py\u001b[0m\n",
      "\u001b[0m    330  Feb 12 11:51 2021  \u001b[34minit_urpc_client.py\u001b[0m\n",
      "\u001b[0m                            \u001b[32mlib/\u001b[0m\n",
      "\u001b[0m                                \u001b[32mmp/\u001b[0m\n",
      "\u001b[0m    100  Feb 15 18:22 2021          \u001b[34m__init__.py\u001b[0m\n",
      "\u001b[0m   5398  Feb 17 10:28 2021          \u001b[34masync_server.py\u001b[0m\n",
      "\u001b[0m   6000  Feb 15 11:29 2021          \u001b[34mserver.py\u001b[0m\n",
      "\u001b[0m    757  Feb 09 16:51 2021      \u001b[34mnetwork.py\u001b[0m\n",
      "\u001b[0m                                \u001b[32mrepl32/\u001b[0m\n",
      "\u001b[0m     47  Feb 09 16:51 2021          \u001b[34m__init__.py\u001b[0m\n",
      "\u001b[0m  19223  Feb 09 16:51 2021          \u001b[34madafruit_miniesptool.py\u001b[0m\n",
      "\u001b[0m   1686  Feb 09 16:51 2021          \u001b[34mflasher.py\u001b[0m\n",
      "\u001b[0m   8394  Feb 09 16:51 2021          \u001b[34mrepl_client.py\u001b[0m\n",
      "\u001b[0m    260  Feb 09 16:51 2021      \u001b[34mrequests.py\u001b[0m\n",
      "\u001b[0m    233  Feb 16 11:34 2021      \u001b[34mselect.py\u001b[0m\n",
      "\u001b[0m    405  Feb 09 16:51 2021      \u001b[34msocket.py\u001b[0m\n",
      "\u001b[0m     83  Feb 09 16:51 2021      \u001b[34mssl.py\u001b[0m\n",
      "\u001b[0m                                \u001b[32muasyncio/\u001b[0m\n",
      "\u001b[0m   1045  Feb 16 11:55 2021          \u001b[34m__init__.py\u001b[0m\n",
      "\u001b[0m   8565  Feb 16 12:03 2021          \u001b[34mcore.py\u001b[0m\n",
      "\u001b[0m   1027  Feb 09 15:53 2021          \u001b[34mevent.py\u001b[0m\n",
      "\u001b[0m   2184  Feb 09 15:53 2021          \u001b[34mfuncs.py\u001b[0m\n",
      "\u001b[0m   1782  Feb 09 15:53 2021          \u001b[34mlock.py\u001b[0m\n",
      "\u001b[0m    313  Feb 09 15:53 2021          \u001b[34mmanifest.py\u001b[0m\n",
      "\u001b[0m   4220  Feb 15 19:09 2021          \u001b[34mstream.py\u001b[0m\n",
      "\u001b[0m   5857  Feb 09 15:53 2021          \u001b[34mtask.py\u001b[0m\n",
      "\u001b[0m                                \u001b[32murpc/\u001b[0m\n",
      "\u001b[0m     66  Feb 16 11:34 2021          \u001b[34m__init__.py\u001b[0m\n",
      "\u001b[0m   5494  Feb 16 11:43 2021          \u001b[34mclient.py\u001b[0m\n",
      "\u001b[0m     21  Feb 16 11:34 2021      \u001b[34musocket.py\u001b[0m\n",
      "\u001b[0m     47  Feb 17 14:03 2021  \u001b[34mmain.py\u001b[0m\n",
      "\u001b[0m    523  Feb 17 14:03 2021  \u001b[34mmp_main.py\u001b[0m\n",
      "\u001b[0m    245  Feb 01 11:34 2021  \u001b[34msecrets.py\u001b[0m\n",
      "\u001b[0m"
     ]
    }
   ],
   "source": [
    "%rlist"
   ]
  },
  {
   "cell_type": "code",
   "execution_count": 6,
   "metadata": {},
   "outputs": [
    {
     "name": "stdout",
     "output_type": "stream",
     "text": [
      "\u001b[0mmp://10.39.40.140:54321\u001b[0m\n",
      "\u001b[0m\u001b[0m\n",
      "\u001b[46m\u001b[31m!!!!!!!!!!!!!!!!!!!!!!!!!!!!!!!\u001b[0m\n",
      "\u001b[46m\u001b[31m!!!!!   softreset ...     !!!!!\u001b[0m\n",
      "\u001b[46m\u001b[31m!!!!!!!!!!!!!!!!!!!!!!!!!!!!!!!\u001b[0m"
     ]
    },
    {
     "name": "stderr",
     "output_type": "stream",
     "text": [
      "softreset not implemented for 'mp' protocol\u001b[0m\n"
     ]
    }
   ],
   "source": [
    "%url\n",
    "%softreset\n",
    "print(2**16)"
   ]
  },
  {
   "cell_type": "code",
   "execution_count": 6,
   "metadata": {},
   "outputs": [
    {
     "name": "stdout",
     "output_type": "stream",
     "text": [
      "\u001b[0m"
     ]
    },
    {
     "name": "stderr",
     "output_type": "stream",
     "text": [
      "File not found: webrepl_cfg.py\u001b[0m\n"
     ]
    }
   ],
   "source": [
    "%cat webrepl_cfg.py"
   ]
  },
  {
   "cell_type": "code",
   "execution_count": 6,
   "metadata": {},
   "outputs": [
    {
     "name": "stdout",
     "output_type": "stream",
     "text": [
      "\u001b[0m"
     ]
    }
   ],
   "source": [
    "%mkdirs a/b/c"
   ]
  },
  {
   "cell_type": "code",
   "execution_count": 6,
   "metadata": {},
   "outputs": [
    {
     "name": "stdout",
     "output_type": "stream",
     "text": [
      "[\u001b[0m'\u001b[0m.\u001b[0mf\u001b[0ms\u001b[0me\u001b[0mv\u001b[0me\u001b[0mn\u001b[0mt\u001b[0ms\u001b[0md\u001b[0m'\u001b[0m,\u001b[0m \u001b[0m'\u001b[0m.\u001b[0mm\u001b[0me\u001b[0mt\u001b[0ma\u001b[0md\u001b[0ma\u001b[0mt\u001b[0ma\u001b[0m_\u001b[0mn\u001b[0me\u001b[0mv\u001b[0me\u001b[0mr\u001b[0m_\u001b[0mi\u001b[0mn\u001b[0md\u001b[0me\u001b[0mx\u001b[0m'\u001b[0m,\u001b[0m \u001b[0m'\u001b[0m.\u001b[0mT\u001b[0mr\u001b[0ma\u001b[0ms\u001b[0mh\u001b[0me\u001b[0ms\u001b[0m'\u001b[0m,\u001b[0m \u001b[0m'\u001b[0ml\u001b[0mi\u001b[0mb\u001b[0m'\u001b[0m,\u001b[0m \u001b[0m'\u001b[0me\u001b[0ms\u001b[0mp\u001b[0m3\u001b[0m2\u001b[0m'\u001b[0m,\u001b[0m \u001b[0m'\u001b[0mb\u001b[0mo\u001b[0mo\u001b[0mt\u001b[0m_\u001b[0mo\u001b[0mu\u001b[0mt\u001b[0m.\u001b[0mt\u001b[0mx\u001b[0mt\u001b[0m'\u001b[0m,\u001b[0m \u001b[0m'\u001b[0m.\u001b[0m_\u001b[0mb\u001b[0mo\u001b[0mo\u001b[0mt\u001b[0m_\u001b[0mo\u001b[0mu\u001b[0mt\u001b[0m.\u001b[0mt\u001b[0mx\u001b[0mt\u001b[0m'\u001b[0m,\u001b[0m \u001b[0m'\u001b[0mb\u001b[0mo\u001b[0mo\u001b[0mt\u001b[0m.\u001b[0mp\u001b[0my\u001b[0m'\u001b[0m,\u001b[0m \u001b[0m'\u001b[0ms\u001b[0me\u001b[0mc\u001b[0mr\u001b[0me\u001b[0mt\u001b[0ms\u001b[0m.\u001b[0mp\u001b[0my\u001b[0m'\u001b[0m,\u001b[0m \u001b[0m'\u001b[0m.\u001b[0m_\u001b[0mf\u001b[0mi\u001b[0mr\u001b[0mm\u001b[0mw\u001b[0ma\u001b[0mr\u001b[0me\u001b[0m.\u001b[0mb\u001b[0mi\u001b[0mn\u001b[0m'\u001b[0m,\u001b[0m \u001b[0m'\u001b[0mm\u001b[0ma\u001b[0mi\u001b[0mn\u001b[0m.\u001b[0mp\u001b[0my\u001b[0m'\u001b[0m,\u001b[0m \u001b[0m'\u001b[0mm\u001b[0mp\u001b[0m_\u001b[0mm\u001b[0ma\u001b[0mi\u001b[0mn\u001b[0m.\u001b[0mp\u001b[0my\u001b[0m'\u001b[0m,\u001b[0m \u001b[0m'\u001b[0ma\u001b[0m'\u001b[0m,\u001b[0m \u001b[0m'\u001b[0mi\u001b[0mn\u001b[0mi\u001b[0mt\u001b[0m_\u001b[0mu\u001b[0mr\u001b[0mp\u001b[0mc\u001b[0m_\u001b[0mc\u001b[0ml\u001b[0mi\u001b[0me\u001b[0mn\u001b[0mt\u001b[0m.\u001b[0mp\u001b[0my\u001b[0m'\u001b[0m]\u001b[0m\n",
      "\u001b[0m"
     ]
    }
   ],
   "source": [
    "import os\n",
    "print(os.listdir(''))"
   ]
  },
  {
   "cell_type": "code",
   "execution_count": 6,
   "metadata": {},
   "outputs": [
    {
     "name": "stdout",
     "output_type": "stream",
     "text": [
      "\u001b[0m2021-Feb-17 14:30:46\u001b[0m\n",
      "\u001b[0m2021-Feb-17 14:30:47\u001b[0m\n",
      "\u001b[0m2021-Feb-17 14:30:48\u001b[0m\n"
     ]
    }
   ],
   "source": [
    "%gettime\n",
    "%synctime\n",
    "%gettime"
   ]
  },
  {
   "cell_type": "code",
   "execution_count": 6,
   "metadata": {},
   "outputs": [
    {
     "name": "stdout",
     "output_type": "stream",
     "text": [
      "0\u001b[0m \u001b[0m0\u001b[0m \u001b[0m0\u001b[0m\n",
      "\u001b[0m1\u001b[0m \u001b[0m1\u001b[0m \u001b[0m1\u001b[0m\n",
      "\u001b[0m2\u001b[0m \u001b[0m4\u001b[0m \u001b[0m6\u001b[0m4\u001b[0m\n",
      "\u001b[0m3\u001b[0m \u001b[0m9\u001b[0m \u001b[0m7\u001b[0m2\u001b[0m9\u001b[0m\n",
      "\u001b[0m4\u001b[0m \u001b[0m1\u001b[0m6\u001b[0m \u001b[0m4\u001b[0m0\u001b[0m9\u001b[0m6\u001b[0m\n",
      "\u001b[0m5\u001b[0m \u001b[0m2\u001b[0m5\u001b[0m \u001b[0m1\u001b[0m5\u001b[0m6\u001b[0m2\u001b[0m5\u001b[0m\n",
      "\u001b[0m6\u001b[0m \u001b[0m3\u001b[0m6\u001b[0m \u001b[0m4\u001b[0m6\u001b[0m6\u001b[0m5\u001b[0m6\u001b[0m\n",
      "\u001b[0m7\u001b[0m \u001b[0m4\u001b[0m9\u001b[0m \u001b[0m1\u001b[0m1\u001b[0m7\u001b[0m6\u001b[0m4\u001b[0m9\u001b[0m\n",
      "\u001b[0m8\u001b[0m \u001b[0m6\u001b[0m4\u001b[0m \u001b[0m2\u001b[0m6\u001b[0m2\u001b[0m1\u001b[0m4\u001b[0m4\u001b[0m\n",
      "\u001b[0m9\u001b[0m \u001b[0m8\u001b[0m1\u001b[0m \u001b[0m5\u001b[0m3\u001b[0m1\u001b[0m4\u001b[0m4\u001b[0m1\u001b[0m\n",
      "\u001b[0m"
     ]
    }
   ],
   "source": [
    "for i in range(10):\n",
    "    print(i, i**2, i**6)"
   ]
  },
  {
   "cell_type": "code",
   "execution_count": 6,
   "metadata": {},
   "outputs": [
    {
     "name": "stdout",
     "output_type": "stream",
     "text": [
      "\u001b[0m\u001b[31mDELETE  a/b/c\n",
      "\u001b[0m\u001b[0m\u001b[31mDELETE  a/b\n",
      "\u001b[0m\u001b[0m\u001b[31mDELETE  a\n",
      "\u001b[0m\u001b[0m"
     ]
    }
   ],
   "source": [
    "%rsync"
   ]
  },
  {
   "cell_type": "code",
   "execution_count": 6,
   "metadata": {},
   "outputs": [
    {
     "name": "stdout",
     "output_type": "stream",
     "text": [
      "1\u001b[0m1\u001b[0m4\u001b[0m1\u001b[0m7\u001b[0m6\u001b[0m\n",
      "\u001b[0m\u001b[0m#\u001b[0m \u001b[0mf\u001b[0ml\u001b[0ma\u001b[0ms\u001b[0mh\u001b[0m \u001b[0mw\u001b[0mr\u001b[0mi\u001b[0mt\u001b[0ma\u001b[0mb\u001b[0ml\u001b[0me\u001b[0m \u001b[0mf\u001b[0mr\u001b[0mo\u001b[0mm\u001b[0m \u001b[0mM\u001b[0mC\u001b[0mU\u001b[0m\n",
      "\u001b[0m\n",
      "\u001b[0mi\u001b[0mm\u001b[0mp\u001b[0mo\u001b[0mr\u001b[0mt\u001b[0m \u001b[0ms\u001b[0mt\u001b[0mo\u001b[0mr\u001b[0ma\u001b[0mg\u001b[0me\u001b[0m\n",
      "\u001b[0ms\u001b[0mt\u001b[0mo\u001b[0mr\u001b[0ma\u001b[0mg\u001b[0me\u001b[0m.\u001b[0mr\u001b[0me\u001b[0mm\u001b[0mo\u001b[0mu\u001b[0mn\u001b[0mt\u001b[0m(\u001b[0m\"\u001b[0m/\u001b[0m\"\u001b[0m,\u001b[0m \u001b[0mF\u001b[0ma\u001b[0ml\u001b[0ms\u001b[0me\u001b[0m)\u001b[0m\n",
      "\u001b[0m\u001b[0m\n",
      "1\u001b[0m1\u001b[0m4\u001b[0m1\u001b[0m9\u001b[0m2\u001b[0m\n",
      "\u001b[0m"
     ]
    }
   ],
   "source": [
    "import gc\n",
    "gc.collect()\n",
    "print(gc.mem_free())\n",
    "%cat boot.py\n",
    "gc.collect()\n",
    "print(gc.mem_free())"
   ]
  },
  {
   "cell_type": "code",
   "execution_count": 6,
   "metadata": {},
   "outputs": [
    {
     "name": "stdout",
     "output_type": "stream",
     "text": [
      "\u001b[0mmp://10.39.40.140:54321\u001b[0m\n"
     ]
    }
   ],
   "source": [
    "%url"
   ]
  },
  {
   "cell_type": "code",
   "execution_count": 6,
   "metadata": {},
   "outputs": [
    {
     "name": "stdout",
     "output_type": "stream",
     "text": [
      "d\u001b[0mi\u001b[0mc\u001b[0mt\u001b[0m_\u001b[0mk\u001b[0me\u001b[0my\u001b[0ms\u001b[0m(\u001b[0m[\u001b[0m'\u001b[0ma\u001b[0ms\u001b[0my\u001b[0mn\u001b[0mc\u001b[0mi\u001b[0mo\u001b[0m'\u001b[0m,\u001b[0m \u001b[0m'\u001b[0mm\u001b[0ms\u001b[0mg\u001b[0mp\u001b[0ma\u001b[0mc\u001b[0mk\u001b[0m'\u001b[0m,\u001b[0m \u001b[0m'\u001b[0m_\u001b[0m_\u001b[0mf\u001b[0mi\u001b[0ml\u001b[0me\u001b[0m_\u001b[0m_\u001b[0m'\u001b[0m,\u001b[0m \u001b[0m'\u001b[0ms\u001b[0my\u001b[0ms\u001b[0m'\u001b[0m,\u001b[0m \u001b[0m'\u001b[0ms\u001b[0me\u001b[0mc\u001b[0mr\u001b[0me\u001b[0mt\u001b[0ms\u001b[0m'\u001b[0m,\u001b[0m \u001b[0m'\u001b[0mo\u001b[0ms\u001b[0m'\u001b[0m,\u001b[0m \u001b[0m'\u001b[0ms\u001b[0mo\u001b[0mc\u001b[0mk\u001b[0me\u001b[0mt\u001b[0m'\u001b[0m,\u001b[0m \u001b[0m'\u001b[0mB\u001b[0my\u001b[0me\u001b[0m'\u001b[0m,\u001b[0m \u001b[0m'\u001b[0md\u001b[0mu\u001b[0mp\u001b[0mt\u001b[0me\u001b[0mr\u001b[0mm\u001b[0m'\u001b[0m,\u001b[0m \u001b[0m'\u001b[0mt\u001b[0mi\u001b[0mm\u001b[0me\u001b[0m'\u001b[0m,\u001b[0m \u001b[0m'\u001b[0ms\u001b[0mt\u001b[0ma\u001b[0mr\u001b[0mt\u001b[0m_\u001b[0ma\u001b[0ms\u001b[0my\u001b[0mn\u001b[0mc\u001b[0m_\u001b[0ms\u001b[0me\u001b[0mr\u001b[0mv\u001b[0me\u001b[0mr\u001b[0m'\u001b[0m,\u001b[0m \u001b[0m'\u001b[0mi\u001b[0mo\u001b[0m'\u001b[0m,\u001b[0m \u001b[0m'\u001b[0mE\u001b[0mO\u001b[0mT\u001b[0m'\u001b[0m,\u001b[0m \u001b[0m'\u001b[0m_\u001b[0m_\u001b[0mi\u001b[0mo\u001b[0mt\u001b[0m4\u001b[0m9\u001b[0m_\u001b[0m_\u001b[0m'\u001b[0m,\u001b[0m \u001b[0m'\u001b[0mg\u001b[0mc\u001b[0m'\u001b[0m,\u001b[0m \u001b[0m'\u001b[0mV\u001b[0mE\u001b[0mR\u001b[0mS\u001b[0mI\u001b[0mO\u001b[0mN\u001b[0m'\u001b[0m,\u001b[0m \u001b[0m'\u001b[0ms\u001b[0mt\u001b[0mr\u001b[0mu\u001b[0mc\u001b[0mt\u001b[0m'\u001b[0m,\u001b[0m \u001b[0m'\u001b[0m_\u001b[0m_\u001b[0mn\u001b[0ma\u001b[0mm\u001b[0me\u001b[0m_\u001b[0m_\u001b[0m'\u001b[0m,\u001b[0m \u001b[0m'\u001b[0mi\u001b[0m'\u001b[0m,\u001b[0m \u001b[0m'\u001b[0mS\u001b[0me\u001b[0mr\u001b[0mv\u001b[0me\u001b[0mr\u001b[0m'\u001b[0m]\u001b[0m)\u001b[0m\n",
      "\u001b[0m"
     ]
    }
   ],
   "source": [
    "print(globals().keys())"
   ]
  },
  {
   "cell_type": "code",
   "execution_count": null,
   "metadata": {},
   "outputs": [],
   "source": []
  }
 ],
 "metadata": {
  "kernelspec": {
   "display_name": "IoT",
   "language": "python",
   "name": "iot_kernel"
  },
  "language_info": {
   "codemirror_mode": {
    "name": "python",
    "version": 3
   },
   "file_extension": ".py",
   "mimetype": "text/x-python",
   "name": "python",
   "pygments_lexer": "python3",
   "version": "3"
  }
 },
 "nbformat": 4,
 "nbformat_minor": 4
}
