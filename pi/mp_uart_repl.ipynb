{
 "cells": [
  {
   "cell_type": "markdown",
   "id": "independent-malta",
   "metadata": {},
   "source": [
    "# REPL over UART (MOTOR_HAT firmware)"
   ]
  },
  {
   "cell_type": "code",
   "execution_count": 1,
   "id": "instant-sapphire",
   "metadata": {},
   "outputs": [
    {
     "name": "stdout",
     "output_type": "stream",
     "text": [
      "\u001b[0m"
     ]
    }
   ],
   "source": [
    "%register 'serial:///dev/serial0'"
   ]
  },
  {
   "cell_type": "code",
   "execution_count": 1,
   "id": "joined-seventh",
   "metadata": {},
   "outputs": [
    {
     "name": "stdout",
     "output_type": "stream",
     "text": [
      "\u001b[0mstm32  serial:///dev/serial0  \u001b[0m\n"
     ]
    }
   ],
   "source": [
    "%discover"
   ]
  },
  {
   "cell_type": "code",
   "execution_count": 1,
   "id": "extreme-acting",
   "metadata": {},
   "outputs": [
    {
     "name": "stdout",
     "output_type": "stream",
     "text": [
      "\u001b[0mConnected to stm32 @ serial:///dev/serial0\u001b[0m\n"
     ]
    }
   ],
   "source": [
    "%connect stm32"
   ]
  },
  {
   "cell_type": "code",
   "execution_count": 1,
   "id": "checked-memory",
   "metadata": {},
   "outputs": [
    {
     "name": "stdout",
     "output_type": "stream",
     "text": [
      "\u001b[0m                            \u001b[32mflash/\u001b[0m\n",
      "\u001b[0m    372  Feb 25 17:17 2021      \u001b[34mboot.py\u001b[0m\n",
      "\u001b[0m                                \u001b[32mlib/\u001b[0m\n",
      "\u001b[0m   6644  Feb 25 17:17 2021          \u001b[34mbdevice.py\u001b[0m\n",
      "\u001b[0m   6731  Feb 25 17:17 2021          \u001b[34mflash_spi.py\u001b[0m\n",
      "\u001b[0m                            \u001b[32mspi/\u001b[0m\n",
      "\u001b[0m                                \u001b[32mlib/\u001b[0m\n",
      "\u001b[0m   6491  Feb 25 17:18 2021          \u001b[34mbno055.py\u001b[0m\n",
      "\u001b[0m   5598  Feb 25 17:18 2021          \u001b[34mbno055_base.py\u001b[0m\n",
      "\u001b[0m   1078  Feb 25 17:18 2021          \u001b[34mbno055_test.py\u001b[0m\n",
      "\u001b[0m    244  Feb 25 17:18 2021          \u001b[34minit_urpc_client.py\u001b[0m\n",
      "\u001b[0m   2094  Feb 25 17:18 2021          \u001b[34mlogging.py\u001b[0m\n",
      "\u001b[0m   1174  Feb 25 17:18 2021          \u001b[34mneopixel.py\u001b[0m\n",
      "\u001b[0m    317  Feb 25 17:18 2021      \u001b[34msecrets.py\u001b[0m\n",
      "\u001b[0m"
     ]
    }
   ],
   "source": [
    "%rlist"
   ]
  },
  {
   "cell_type": "code",
   "execution_count": 1,
   "id": "arranged-reporter",
   "metadata": {},
   "outputs": [
    {
     "name": "stdout",
     "output_type": "stream",
     "text": [
      "\u001b[0m\u001b[31mDELETE  /spi/lib/logging.py\n",
      "\u001b[0m\u001b[0m\u001b[31mDELETE  /spi/lib/bno055_test.py\n",
      "\u001b[0m\u001b[0m\u001b[31mDELETE  /spi/lib/bno055_base.py\n",
      "\u001b[0m\u001b[0m\u001b[31mDELETE  /spi/lib/bno055.py\n",
      "\u001b[0m\u001b[0m"
     ]
    }
   ],
   "source": [
    "%rdiff"
   ]
  },
  {
   "cell_type": "code",
   "execution_count": 1,
   "id": "harmful-memory",
   "metadata": {},
   "outputs": [],
   "source": [
    "from pyb import Pin, Timer\n",
    "\n",
    "freq = 100\n",
    "tim = Timer(8, freq=freq)\n",
    "\n",
    "ch1 = tim.channel(1, Timer.PWM_INVERTED, pin=Pin(Pin.cpu.A5))\n",
    "ch2 = tim.channel(3, Timer.PWM_INVERTED, pin=Pin(Pin.cpu.B15))\n"
   ]
  },
  {
   "cell_type": "code",
   "execution_count": 1,
   "id": "hydraulic-serum",
   "metadata": {},
   "outputs": [],
   "source": [
    "ch1.pulse_width_percent(95)\n",
    "ch2.pulse_width_percent(30)\n"
   ]
  },
  {
   "cell_type": "code",
   "execution_count": 1,
   "id": "empirical-wagner",
   "metadata": {},
   "outputs": [
    {
     "name": "stdout",
     "output_type": "stream",
     "text": [
      "\u001b[0m\u001b[0m\n",
      "\u001b[46m\u001b[31m!!!!!!!!!!!!!!!!!!!!!!!!!!!!!!!\u001b[0m\n",
      "\u001b[46m\u001b[31m!!!!!   softreset ...     !!!!!\u001b[0m\n",
      "\u001b[46m\u001b[31m!!!!!!!!!!!!!!!!!!!!!!!!!!!!!!!\u001b[0m\n",
      "\u001b[0m\n"
     ]
    }
   ],
   "source": [
    "%softreset"
   ]
  },
  {
   "cell_type": "code",
   "execution_count": null,
   "id": "ancient-pleasure",
   "metadata": {},
   "outputs": [],
   "source": []
  }
 ],
 "metadata": {
  "kernelspec": {
   "display_name": "IoT",
   "language": "python",
   "name": "iot_kernel"
  },
  "language_info": {
   "codemirror_mode": {
    "name": "python",
    "version": 3
   },
   "file_extension": ".py",
   "mimetype": "text/x-python",
   "name": "python",
   "pygments_lexer": "python3",
   "version": "3"
  }
 },
 "nbformat": 4,
 "nbformat_minor": 5
}
