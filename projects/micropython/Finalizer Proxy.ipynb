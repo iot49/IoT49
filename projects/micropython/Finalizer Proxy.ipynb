{
 "cells": [
  {
   "cell_type": "markdown",
   "metadata": {},
   "source": [
    "# FinalizerProxy"
   ]
  },
  {
   "cell_type": "code",
   "execution_count": 1,
   "metadata": {},
   "outputs": [
    {
     "name": "stdout",
     "output_type": "stream",
     "text": [
      "\u001b[0mbt32  serial:///dev/cu.usbserial-01435205  \u001b[0m\n",
      "\u001b[0mConnected to bt32 @ serial:///dev/cu.usbserial-01435205\u001b[0m\n",
      "\u001b[0m\u001b[0m\n",
      "\u001b[46m\u001b[31m!!!!!!!!!!!!!!!!!!!!!!!!!!!!!!!\u001b[0m\n",
      "\u001b[46m\u001b[31m!!!!!   softreset ...     !!!!!\u001b[0m\n",
      "\u001b[46m\u001b[31m!!!!!!!!!!!!!!!!!!!!!!!!!!!!!!!\u001b[0m\n",
      "\u001b[0m\n"
     ]
    }
   ],
   "source": [
    "%discover\n",
    "%connect bt32\n",
    "%softreset"
   ]
  },
  {
   "cell_type": "code",
   "execution_count": 1,
   "metadata": {},
   "outputs": [
    {
     "name": "stdout",
     "output_type": "stream",
     "text": [
      "\u001b[0mConnected to bt32 @ serial:///dev/cu.usbserial-01435205\u001b[0m\n",
      "no finaliser proxy ...\n",
      "\u001b[0m--------- collect ... 0\n",
      "\u001b[0m--------- collect ... 4\n",
      "\u001b[0m--------- collect ... 8\n",
      "\u001b[0m--------- collect ... 12\n",
      "\u001b[0m--------- collect ... 16\n",
      "DONE\n",
      "\u001b[0m"
     ]
    }
   ],
   "source": [
    "%connect bt32\n",
    "\n",
    "try:\n",
    "    from finaliser_proxy import FinaliserProxy\n",
    "except ImportError:\n",
    "    # CPython compatibility (and ports that do not implement this feature)\n",
    "    print(\"no finaliser proxy ...\")\n",
    "    class FinaliserProxy:\n",
    "        def __init__(self, cb):\n",
    "            pass\n",
    "    \n",
    "import gc\n",
    "\n",
    "class FP(FinaliserProxy):\n",
    "    def __init__(self, desc):\n",
    "        self.desc = desc\n",
    "        super().__init__(self.__del__)\n",
    "    def __del__(self):\n",
    "        print(\"finalise\", self.desc)\n",
    "\n",
    "for i in range(20):\n",
    "    f = FP(\"obj {}\".format(i))\n",
    "    if i % 4 == 0:\n",
    "        print(\"--------- collect ...\", i)\n",
    "        gc.collect()\n",
    "\n",
    "gc.collect()\n",
    "\n",
    "print(\"DONE\")"
   ]
  }
 ],
 "metadata": {
  "kernelspec": {
   "display_name": "IoT",
   "language": "python",
   "name": "iot_kernel"
  },
  "language_info": {
   "codemirror_mode": {
    "name": "python",
    "version": 3
   },
   "file_extension": ".py",
   "mimetype": "text/x-python",
   "name": "python",
   "pygments_lexer": "python3",
   "version": "3"
  }
 },
 "nbformat": 4,
 "nbformat_minor": 4
}
