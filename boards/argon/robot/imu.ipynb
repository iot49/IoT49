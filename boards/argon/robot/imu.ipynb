{
 "cells": [
  {
   "cell_type": "code",
   "execution_count": 1,
   "id": "rapid-motel",
   "metadata": {},
   "outputs": [
    {
     "name": "stdout",
     "output_type": "stream",
     "text": [
      "\u001b[0mrobot-argon  serial:///dev/ttyACM0  \u001b[0m\n",
      "\u001b[0mConnected to robot-argon @ serial:///dev/ttyACM0\u001b[0m\n",
      "\u001b[0m\u001b[31mDELETE  lib/urpc/client.py\n",
      "\u001b[0m\u001b[0m"
     ]
    },
    {
     "name": "stderr",
     "output_type": "stream",
     "text": [
      "Traceback (most recent call last):\n",
      "  File \"<stdin>\", line 1, in <module>\n",
      "  File \"<string>\", line 1, in <module>\n",
      "  File \"<string>\", line 12, in rm_rf\n",
      "OSError: [Errno 30] Read-only filesystem\n",
      "\u001b[0m\n"
     ]
    }
   ],
   "source": [
    "%discover\n",
    "%connect robot-argon\n",
    "%rsync\n",
    "%softreset"
   ]
  },
  {
   "cell_type": "code",
   "execution_count": 1,
   "id": "vietnamese-wireless",
   "metadata": {},
   "outputs": [
    {
     "name": "stderr",
     "output_type": "stream",
     "text": [
      "Traceback (most recent call last):\n",
      "  File \"<stdin>\", line 4, in <module>\n",
      "RuntimeError: Cannot remount '/' when USB is active.\n",
      "\u001b[0m\n"
     ]
    }
   ],
   "source": [
    "# flash writable from MCU\n",
    "\n",
    "import storage\n",
    "storage.remount(\"/\", False)\n"
   ]
  },
  {
   "cell_type": "code",
   "execution_count": null,
   "id": "operational-finnish",
   "metadata": {},
   "outputs": [],
   "source": []
  }
 ],
 "metadata": {
  "kernelspec": {
   "display_name": "IoT",
   "language": "python",
   "name": "iot_kernel"
  },
  "language_info": {
   "codemirror_mode": {
    "name": "python",
    "version": 3
   },
   "file_extension": ".py",
   "mimetype": "text/x-python",
   "name": "python",
   "pygments_lexer": "python3",
   "version": "3"
  }
 },
 "nbformat": 4,
 "nbformat_minor": 5
}
