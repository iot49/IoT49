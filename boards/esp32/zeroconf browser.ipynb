{
 "cells": [
  {
   "cell_type": "code",
   "execution_count": 2,
   "metadata": {},
   "outputs": [
    {
     "data": {
      "text/plain": [
       "<__main__.DiscoverNet at 0x7fcb6817b0d0>"
      ]
     },
     "execution_count": 2,
     "metadata": {},
     "output_type": "execute_result"
    },
    {
     "name": "stdout",
     "output_type": "stream",
     "text": [
      "infoinfo ServiceInfo(type='_exec._tcp.local.', name='Desriptive Name._exec._tcp.local.', addresses=[b\"\\n'(\\x81\"], port=4567, weight=0, priority=0, server='my_esp32-2.local.', properties={})\n",
      "add_service 'Desriptive Name._exec._tcp.local.' for _exec._tcp.local. @ ('10.39.40.129', 4567)\n",
      " ServiceInfo(type='_exec._tcp.local.', name='Desriptive Name._exec._tcp.local.', addresses=[b\"\\n'(\\x81\"], port=4567, weight=0, priority=0, server='my_esp32-2.local.', properties={})\n",
      "add_service 'Desriptive Name._exec._tcp.local.' for _exec._tcp.local. @ ('10.39.40.129', 4567)\n",
      "remove_service for Desriptive Name._exec._tcp.local.remove_service for Desriptive Name._exec._tcp.local.\n",
      "\n"
     ]
    }
   ],
   "source": [
    "from zeroconf import ServiceBrowser, Zeroconf\n",
    "import socket\n",
    "\n",
    "class DiscoverNet():\n",
    "\n",
    "    def __init__(self):\n",
    "        \"\"\"Find & serve devices advertised online using zeroconf\"\"\"\n",
    "        ServiceBrowser(Zeroconf(), type_=\"_repl._tcp.local.\", handlers=self)\n",
    "        ServiceBrowser(Zeroconf(), type_=\"_exec._tcp.local.\", handlers=self)\n",
    "\n",
    "    def add_service(self, zeroconf, type, name):\n",
    "        info = zeroconf.get_service_info(type, name)\n",
    "        print(\"info\", info)\n",
    "        ip = socket.inet_ntoa(info.addresses[0])\n",
    "        port = info.port\n",
    "        print(f\"add_service '{name}' for {type} @ {(ip, port)}\")\n",
    "\n",
    "    def remove_service(self, zeroconf, type, name):\n",
    "        print(f\"remove_service for {name}\")\n",
    "\n",
    "    def update_service(self, zeroconf, type, name):\n",
    "        print(f\"update_service received {name} for {type}\")\n",
    "        \n",
    "DiscoverNet()"
   ]
  },
  {
   "cell_type": "code",
   "execution_count": null,
   "metadata": {},
   "outputs": [],
   "source": [
    "update_service received for Desriptive Name._exec._tcp.local.\n",
    "update_service received for Desriptive Name._exec._tcp.local.\n",
    "update_service received for Desriptive Name._exec._tcp.local.\n",
    "update_service received Desriptive Name._exec._tcp.local. for _exec._tcp.local.info\n",
    "update_service received for Desriptive Name._exec._tcp.local.\n",
    "\n",
    "\n",
    " ServiceInfo(\n",
    "     type='_exec._tcp.local.', \n",
    "     name='Desriptive Name._exec._tcp.local.', \n",
    "     addresses=[b\"\\n'(\\x81\"], \n",
    "     port=4567, weight=0, priority=0, \n",
    "     server='my_esp32.local.', \n",
    "     properties={})\n",
    "add_service \n",
    "'Desriptive Name._exec._tcp.local.' for \n",
    "_exec._tcp.local. @ ('10.39.40.129', 4567)\n",
    "\n",
    "update_service received Desriptive Name._exec._tcp.local. for _exec._tcp.local."
   ]
  },
  {
   "cell_type": "code",
   "execution_count": 9,
   "metadata": {},
   "outputs": [
    {
     "data": {
      "text/plain": [
       "'repl'"
      ]
     },
     "execution_count": 9,
     "metadata": {},
     "output_type": "execute_result"
    },
    {
     "name": "stdout",
     "output_type": "stream",
     "text": [
      "remove_service for Desriptive Name._exec._tcp.local.\n",
      "remove_service for Desriptive Name._exec._tcp.local.\n",
      "remove_service for Desriptive Name._exec._tcp.local.\n",
      "remove_service for Desriptive Name._exec._tcp.local.\n",
      "remove_service for Desriptive Name._exec._tcp.local.\n",
      "remove_service for Desriptive Name._exec._tcp.local.\n",
      "remove_service for Desriptive Name._exec._tcp.local.\n"
     ]
    }
   ],
   "source": [
    "\"_repl._tcp.local.\".split('.')[0][1:]"
   ]
  },
  {
   "cell_type": "code",
   "execution_count": null,
   "metadata": {},
   "outputs": [],
   "source": [
    "adafruit\thttps://github.com/adafruit/circuitpython.git (fetch)\n",
    "adafruit\thttps://github.com/adafruit/circuitpython.git (push)\n",
    "iot49\tgit@github.com:iot49/iotpython.git (fetch)\n",
    "iot49\tgit@github.com:iot49/iotpython.git (push)\n",
    "micropython\thttps://github.com/micropython/micropython (fetch)\n",
    "micropython\thttps://github.com/micropython/micropython (push)\n"
   ]
  }
 ],
 "metadata": {
  "kernelspec": {
   "display_name": "Python 3",
   "language": "python",
   "name": "python3"
  },
  "language_info": {
   "codemirror_mode": {
    "name": "ipython",
    "version": 3
   },
   "file_extension": ".py",
   "mimetype": "text/x-python",
   "name": "python",
   "nbconvert_exporter": "python",
   "pygments_lexer": "ipython3",
   "version": "3.8.2"
  }
 },
 "nbformat": 4,
 "nbformat_minor": 4
}
