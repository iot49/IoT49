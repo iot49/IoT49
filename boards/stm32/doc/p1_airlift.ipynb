{
 "cells": [
  {
   "cell_type": "markdown",
   "metadata": {},
   "source": [
    "# Airlift on STM32"
   ]
  },
  {
   "cell_type": "code",
   "execution_count": 1,
   "metadata": {},
   "outputs": [
    {
     "name": "stdout",
     "output_type": "stream",
     "text": [
      "\u001b[0mtest-esp32  serial:///dev/cu.usbserial-0160B5B8  \u001b[0m\n",
      "test-esp32  ws://10.39.40.135:8266               \u001b[0m\n"
     ]
    }
   ],
   "source": [
    "%discover"
   ]
  },
  {
   "cell_type": "markdown",
   "metadata": {},
   "source": [
    "## UART configuration\n",
    "\n",
    "Sample configuration for an [Adafruit Huzzah 32](https://www.adafruit.com/product/3405) stacked on an [Adafruit STM32](https://www.adafruit.com/product/4382). *Note:* to avoid shorting the two 3.3V regulators on the boards it is suggested to clip the 3.3V pin of one of the boards (or wire them side-by-side).\n",
    "\n",
    "| stm32           | esp32\n",
    "|-----------------|----------------\n",
    "| uart 3          | uart 2\n",
    "| tx = PC6 = D6   | rx = 32 = D6\n",
    "| rx = PC7 = D5   | tx = 14 = D5\n",
    "\n",
    "* **Attention:** no hardware flow control! Use large rx buffers."
   ]
  },
  {
   "cell_type": "markdown",
   "metadata": {},
   "source": [
    "## Install Airlift on ESP32 WiFi Coprocessor"
   ]
  },
  {
   "cell_type": "code",
   "execution_count": 1,
   "metadata": {},
   "outputs": [
    {
     "name": "stdout",
     "output_type": "stream",
     "text": [
      "\u001b[0mConnected to test-stm32-cop @ serial:///dev/cu.usbserial-0143520E\n",
      "\u001b[0m\u001b[0m\u001b[34mUPDATE  lib/urpc_server/async_server.py\n",
      "\u001b[0m\u001b[0m\u001b[0m\n",
      "\u001b[0m\u001b[46m\u001b[31m!!!!!!!!!!!!!!!!!!!!!!!!!!!!!!!\n",
      "\u001b[0m\u001b[46m\u001b[31m!!!!!   softreset ...     !!!!!\n",
      "\u001b[0m\u001b[46m\u001b[31m!!!!!!!!!!!!!!!!!!!!!!!!!!!!!!!\u001b[0m\n",
      "\n",
      "\u001b[0m"
     ]
    }
   ],
   "source": [
    "%connect test-stm32-cop\n",
    "%rsync\n",
    "%softreset"
   ]
  },
  {
   "cell_type": "markdown",
   "metadata": {},
   "source": [
    "## Install Airlift on STM32\n",
    "\n",
    "*Note:* The default MicroPython STM32 build includes a (non-functional) `network.py` that shadows a file with the same name in the Airlift library. Either rename `network.py` in the Airlift library, or build MicroPython without built-in `network` support. Optional: remove the (non-functional) `usocket` to avoid confusion."
   ]
  },
  {
   "cell_type": "code",
   "execution_count": 1,
   "metadata": {},
   "outputs": [
    {
     "name": "stdout",
     "output_type": "stream",
     "text": [
      "\u001b[0mConnected to test-stm32 @ serial:///dev/cu.usbmodem208E307542521\n",
      "\u001b[0m\u001b[0m\u001b[34mUPDATE  lib/urpc/client.py\n",
      "\u001b[0m\u001b[0m\u001b[34mUPDATE  esp32/lib/urpc_server/async_server.py\n",
      "\u001b[0m\u001b[0m"
     ]
    },
    {
     "name": "stderr",
     "output_type": "stream",
     "text": [
      "Device disconnected\u001b[0m"
     ]
    }
   ],
   "source": [
    "%connect test-stm32 serial\n",
    "%rsync\n",
    "%softreset"
   ]
  },
  {
   "cell_type": "markdown",
   "metadata": {},
   "source": [
    "## Verify RPC"
   ]
  },
  {
   "cell_type": "code",
   "execution_count": 1,
   "metadata": {},
   "outputs": [
    {
     "name": "stdout",
     "output_type": "stream",
     "text": [
      "\u001b[0mConnected to test-stm32 @ serial:///dev/cu.usbmodem208E307542522\n",
      "\u001b[0m\u001b[0m\u001b[32mDirectories match\n",
      "\u001b[0m\u001b[0m\u001b[0m\n",
      "\u001b[0m\u001b[46m\u001b[31m!!!!!!!!!!!!!!!!!!!!!!!!!!!!!!!\n",
      "\u001b[0m\u001b[46m\u001b[31m!!!!!   softreset ...     !!!!!\n",
      "\u001b[0m\u001b[46m\u001b[31m!!!!!!!!!!!!!!!!!!!!!!!!!!!!!!!\u001b[0m\n",
      "\n",
      "\u001b[0mP\u001b[0ml\u001b[0ma\u001b[0mt\u001b[0mf\u001b[0mo\u001b[0mr\u001b[0mm\u001b[0ms\u001b[0m:\u001b[0m\n",
      "\u001b[0m \u001b[0m \u001b[0m \u001b[0mh\u001b[0mo\u001b[0ms\u001b[0mt\u001b[0m:\u001b[0m \u001b[0m \u001b[0m \u001b[0m \u001b[0mp\u001b[0my\u001b[0mb\u001b[0mo\u001b[0ma\u001b[0mr\u001b[0md\u001b[0m\n",
      "\u001b[0m \u001b[0m \u001b[0m \u001b[0ms\u001b[0me\u001b[0mr\u001b[0mv\u001b[0me\u001b[0mr\u001b[0m:\u001b[0m \u001b[0m \u001b[0me\u001b[0ms\u001b[0mp\u001b[0m3\u001b[0m2\u001b[0m\n",
      "\u001b[0m"
     ]
    }
   ],
   "source": [
    "%connect test-stm32\n",
    "%rsync\n",
    "%softreset\n",
    "\n",
    "from urpc import *\n",
    "import sys\n",
    "sys_ = import_('sys')\n",
    "\n",
    "print(\"Platforms:\")\n",
    "print(\"   host:    {}\".format(sys.platform))\n",
    "print(\"   server:  {}\".format(sys_.get_('platform')))"
   ]
  },
  {
   "cell_type": "code",
   "execution_count": 1,
   "metadata": {},
   "outputs": [
    {
     "name": "stdout",
     "output_type": "stream",
     "text": [
      "0\u001b[0m \u001b[0m0\u001b[0m\n",
      "\u001b[0m1\u001b[0m \u001b[0m1\u001b[0m\n",
      "\u001b[0m2\u001b[0m \u001b[0m1\u001b[0m6\u001b[0m\n",
      "\u001b[0m3\u001b[0m \u001b[0m8\u001b[0m1\u001b[0m\n",
      "\u001b[0m4\u001b[0m \u001b[0m2\u001b[0m5\u001b[0m6\u001b[0m\n",
      "\u001b[0m5\u001b[0m \u001b[0m6\u001b[0m2\u001b[0m5\u001b[0m\n",
      "\u001b[0m6\u001b[0m \u001b[0m1\u001b[0m2\u001b[0m9\u001b[0m6\u001b[0m\n",
      "\u001b[0m7\u001b[0m \u001b[0m2\u001b[0m4\u001b[0m0\u001b[0m1\u001b[0m\n",
      "\u001b[0m8\u001b[0m \u001b[0m4\u001b[0m0\u001b[0m9\u001b[0m6\u001b[0m\n",
      "\u001b[0m9\u001b[0m \u001b[0m6\u001b[0m5\u001b[0m6\u001b[0m1\u001b[0m\n",
      "\u001b[0m"
     ]
    }
   ],
   "source": [
    "from urpc import *\n",
    "\n",
    "builtins_ = import_('builtins')\n",
    "builtins_.exec(\n",
    "\"\"\"\n",
    "import time\n",
    "for i in range(10):\n",
    "    print(i, i**4)\n",
    "\"\"\")"
   ]
  },
  {
   "cell_type": "markdown",
   "metadata": {},
   "source": [
    "## Networking"
   ]
  },
  {
   "cell_type": "code",
   "execution_count": 1,
   "metadata": {},
   "outputs": [
    {
     "name": "stdout",
     "output_type": "stream",
     "text": [
      "I\u001b[0mP\u001b[0m \u001b[0ma\u001b[0md\u001b[0md\u001b[0mr\u001b[0me\u001b[0ms\u001b[0ms\u001b[0m:\u001b[0m \u001b[0m1\u001b[0m0\u001b[0m.\u001b[0m3\u001b[0m9\u001b[0m.\u001b[0m4\u001b[0m0\u001b[0m.\u001b[0m1\u001b[0m2\u001b[0m9\u001b[0m\n",
      "\u001b[0m"
     ]
    }
   ],
   "source": [
    "import network\n",
    "\n",
    "ip = network.WLAN(network.STA_IF).ifconfig()[0]\n",
    "print(\"IP address:\", ip)"
   ]
  },
  {
   "cell_type": "markdown",
   "metadata": {},
   "source": [
    "### Webserver"
   ]
  },
  {
   "cell_type": "code",
   "execution_count": 1,
   "metadata": {},
   "outputs": [
    {
     "name": "stdout",
     "output_type": "stream",
     "text": [
      "w\u001b[0ma\u001b[0mi\u001b[0mt\u001b[0mi\u001b[0mn\u001b[0mg\u001b[0m \u001b[0mf\u001b[0mo\u001b[0mr\u001b[0m \u001b[0mc\u001b[0mo\u001b[0mn\u001b[0mn\u001b[0me\u001b[0mc\u001b[0mt\u001b[0mi\u001b[0mo\u001b[0mn\u001b[0m \u001b[0ma\u001b[0mt\u001b[0m \u001b[0mh\u001b[0mt\u001b[0mt\u001b[0mp\u001b[0m:\u001b[0m/\u001b[0m/\u001b[0m1\u001b[0m0\u001b[0m.\u001b[0m3\u001b[0m9\u001b[0m.\u001b[0m4\u001b[0m0\u001b[0m.\u001b[0m1\u001b[0m2\u001b[0m9\u001b[0m\n",
      "\u001b[0mc\u001b[0mo\u001b[0mn\u001b[0mn\u001b[0me\u001b[0mc\u001b[0mt\u001b[0me\u001b[0md\u001b[0m \u001b[0mf\u001b[0mr\u001b[0mo\u001b[0mm\u001b[0m \u001b[0m(\u001b[0m'\u001b[0m1\u001b[0m0\u001b[0m.\u001b[0m3\u001b[0m9\u001b[0m.\u001b[0m4\u001b[0m0\u001b[0m.\u001b[0m1\u001b[0m1\u001b[0m4\u001b[0m'\u001b[0m,\u001b[0m \u001b[0m6\u001b[0m5\u001b[0m2\u001b[0m9\u001b[0m0\u001b[0m)\u001b[0m\n",
      "\u001b[0mc\u001b[0mo\u001b[0mn\u001b[0mn\u001b[0me\u001b[0mc\u001b[0mt\u001b[0me\u001b[0md\u001b[0m \u001b[0mf\u001b[0mr\u001b[0mo\u001b[0mm\u001b[0m \u001b[0m(\u001b[0m'\u001b[0m1\u001b[0m0\u001b[0m.\u001b[0m3\u001b[0m9\u001b[0m.\u001b[0m4\u001b[0m0\u001b[0m.\u001b[0m1\u001b[0m1\u001b[0m4\u001b[0m'\u001b[0m,\u001b[0m \u001b[0m6\u001b[0m5\u001b[0m2\u001b[0m9\u001b[0m1\u001b[0m)\u001b[0m\n",
      "\u001b[0mc\u001b[0mo\u001b[0mn\u001b[0mn\u001b[0me\u001b[0mc\u001b[0mt\u001b[0me\u001b[0md\u001b[0m \u001b[0mf\u001b[0mr\u001b[0mo\u001b[0mm\u001b[0m \u001b[0m(\u001b[0m'\u001b[0m1\u001b[0m0\u001b[0m.\u001b[0m3\u001b[0m9\u001b[0m.\u001b[0m4\u001b[0m0\u001b[0m.\u001b[0m1\u001b[0m1\u001b[0m4\u001b[0m'\u001b[0m,\u001b[0m \u001b[0m6\u001b[0m5\u001b[0m2\u001b[0m9\u001b[0m2\u001b[0m)\u001b[0m\n",
      "\u001b[0mc\u001b[0mo\u001b[0mn\u001b[0mn\u001b[0me\u001b[0mc\u001b[0mt\u001b[0me\u001b[0md\u001b[0m \u001b[0mf\u001b[0mr\u001b[0mo\u001b[0mm\u001b[0m \u001b[0m(\u001b[0m'\u001b[0m1\u001b[0m0\u001b[0m.\u001b[0m3\u001b[0m9\u001b[0m.\u001b[0m4\u001b[0m0\u001b[0m.\u001b[0m1\u001b[0m1\u001b[0m4\u001b[0m'\u001b[0m,\u001b[0m \u001b[0m6\u001b[0m5\u001b[0m2\u001b[0m9\u001b[0m3\u001b[0m)\u001b[0m\n",
      "\u001b[0mc\u001b[0mo\u001b[0mn\u001b[0mn\u001b[0me\u001b[0mc\u001b[0mt\u001b[0me\u001b[0md\u001b[0m \u001b[0mf\u001b[0mr\u001b[0mo\u001b[0mm\u001b[0m \u001b[0m(\u001b[0m'\u001b[0m1\u001b[0m0\u001b[0m.\u001b[0m3\u001b[0m9\u001b[0m.\u001b[0m4\u001b[0m0\u001b[0m.\u001b[0m1\u001b[0m1\u001b[0m4\u001b[0m'\u001b[0m,\u001b[0m \u001b[0m6\u001b[0m5\u001b[0m2\u001b[0m9\u001b[0m4\u001b[0m)\u001b[0m\n",
      "\u001b[0mc\u001b[0mo\u001b[0mn\u001b[0mn\u001b[0me\u001b[0mc\u001b[0mt\u001b[0me\u001b[0md\u001b[0m \u001b[0mf\u001b[0mr\u001b[0mo\u001b[0mm\u001b[0m \u001b[0m(\u001b[0m'\u001b[0m1\u001b[0m0\u001b[0m.\u001b[0m3\u001b[0m9\u001b[0m.\u001b[0m4\u001b[0m0\u001b[0m.\u001b[0m1\u001b[0m1\u001b[0m4\u001b[0m'\u001b[0m,\u001b[0m \u001b[0m6\u001b[0m5\u001b[0m2\u001b[0m9\u001b[0m5\u001b[0m)\u001b[0m\n",
      "\u001b[0mD\u001b[0mO\u001b[0mN\u001b[0mE\u001b[0m\n",
      "\u001b[0m"
     ]
    }
   ],
   "source": [
    "import socket\n",
    "import network\n",
    "\n",
    "ip = network.WLAN(network.STA_IF).ifconfig()[0]\n",
    "\n",
    "s = socket.socket()\n",
    "ai = socket.getaddrinfo(\"0.0.0.0\", 80)\n",
    "addr = ai[0][-1]\n",
    "\n",
    "s.setsockopt(socket.SOL_SOCKET, socket.SO_REUSEADDR, 1)\n",
    "s.bind(addr)\n",
    "s.listen(2)\n",
    "\n",
    "print(\"waiting for connection at http://{}\".format(ip))\n",
    "for i in range(6):\n",
    "    ss, addr = s.accept()\n",
    "    print(\"connected from\", addr)\n",
    "    req = ss.recv(1024)\n",
    "    if i < 4:\n",
    "        ss.send('Hello from Airlift, serving request # {}!'.format(i+1).encode())\n",
    "    else:\n",
    "        ss.send(b'So long! Server shutting down.')\n",
    "    ss.close()\n",
    "s.close()\n",
    "\n",
    "print(\"DONE\")"
   ]
  },
  {
   "cell_type": "markdown",
   "metadata": {},
   "source": [
    "### Requests\n",
    "\n",
    "*Example:* Weather data from https://home.openweathermap.org/"
   ]
  },
  {
   "cell_type": "code",
   "execution_count": 1,
   "metadata": {},
   "outputs": [
    {
     "name": "stdout",
     "output_type": "stream",
     "text": [
      "c\u001b[0mo\u001b[0mo\u001b[0mr\u001b[0md\u001b[0m \u001b[0m \u001b[0m \u001b[0m \u001b[0m{\u001b[0m'\u001b[0ml\u001b[0ma\u001b[0mt\u001b[0m'\u001b[0m:\u001b[0m \u001b[0m3\u001b[0m8\u001b[0m.\u001b[0m4\u001b[0m6\u001b[0m4\u001b[0m6\u001b[0m,\u001b[0m \u001b[0m'\u001b[0ml\u001b[0mo\u001b[0mn\u001b[0m'\u001b[0m:\u001b[0m \u001b[0m-\u001b[0m1\u001b[0m2\u001b[0m0\u001b[0m.\u001b[0m0\u001b[0m3\u001b[0m9\u001b[0m9\u001b[0m}\u001b[0m\n",
      "\u001b[0mw\u001b[0mi\u001b[0mn\u001b[0md\u001b[0m \u001b[0m \u001b[0m \u001b[0m \u001b[0m \u001b[0m{\u001b[0m'\u001b[0ms\u001b[0mp\u001b[0me\u001b[0me\u001b[0md\u001b[0m'\u001b[0m:\u001b[0m \u001b[0m2\u001b[0m.\u001b[0m7\u001b[0m7\u001b[0m,\u001b[0m \u001b[0m'\u001b[0md\u001b[0me\u001b[0mg\u001b[0m'\u001b[0m:\u001b[0m \u001b[0m2\u001b[0m0\u001b[0m1\u001b[0m}\u001b[0m\n",
      "\u001b[0mr\u001b[0ma\u001b[0mi\u001b[0mn\u001b[0m \u001b[0m \u001b[0m \u001b[0m \u001b[0m \u001b[0m{\u001b[0m'\u001b[0m1\u001b[0mh\u001b[0m'\u001b[0m:\u001b[0m \u001b[0m0\u001b[0m.\u001b[0m1\u001b[0m8\u001b[0m}\u001b[0m\n",
      "\u001b[0mw\u001b[0me\u001b[0ma\u001b[0mt\u001b[0mh\u001b[0me\u001b[0mr\u001b[0m \u001b[0m \u001b[0m(\u001b[0m{\u001b[0m'\u001b[0mi\u001b[0md\u001b[0m'\u001b[0m:\u001b[0m \u001b[0m5\u001b[0m0\u001b[0m0\u001b[0m,\u001b[0m \u001b[0m'\u001b[0md\u001b[0me\u001b[0ms\u001b[0mc\u001b[0mr\u001b[0mi\u001b[0mp\u001b[0mt\u001b[0mi\u001b[0mo\u001b[0mn\u001b[0m'\u001b[0m:\u001b[0m \u001b[0m'\u001b[0ml\u001b[0mi\u001b[0mg\u001b[0mh\u001b[0mt\u001b[0m \u001b[0mr\u001b[0ma\u001b[0mi\u001b[0mn\u001b[0m'\u001b[0m,\u001b[0m \u001b[0m'\u001b[0mi\u001b[0mc\u001b[0mo\u001b[0mn\u001b[0m'\u001b[0m:\u001b[0m \u001b[0m'\u001b[0m1\u001b[0m0\u001b[0mn\u001b[0m'\u001b[0m,\u001b[0m \u001b[0m'\u001b[0mm\u001b[0ma\u001b[0mi\u001b[0mn\u001b[0m'\u001b[0m:\u001b[0m \u001b[0m'\u001b[0mR\u001b[0ma\u001b[0mi\u001b[0mn\u001b[0m'\u001b[0m}\u001b[0m,\u001b[0m)\u001b[0m\n",
      "\u001b[0md\u001b[0mt\u001b[0m \u001b[0m \u001b[0m \u001b[0m \u001b[0m \u001b[0m \u001b[0m \u001b[0m1\u001b[0m6\u001b[0m1\u001b[0m3\u001b[0m4\u001b[0m4\u001b[0m4\u001b[0m9\u001b[0m2\u001b[0m8\u001b[0m\n",
      "\u001b[0ms\u001b[0mn\u001b[0mo\u001b[0mw\u001b[0m \u001b[0m \u001b[0m \u001b[0m \u001b[0m \u001b[0mN\u001b[0mo\u001b[0mn\u001b[0me\u001b[0m\n",
      "\u001b[0mc\u001b[0ml\u001b[0mo\u001b[0mu\u001b[0md\u001b[0ms\u001b[0m \u001b[0m \u001b[0m \u001b[0m{\u001b[0m'\u001b[0ma\u001b[0ml\u001b[0ml\u001b[0m'\u001b[0m:\u001b[0m \u001b[0m1\u001b[0m0\u001b[0m0\u001b[0m}\u001b[0m\n",
      "\u001b[0mm\u001b[0ma\u001b[0mi\u001b[0mn\u001b[0m \u001b[0m \u001b[0m \u001b[0m \u001b[0m \u001b[0m{\u001b[0m'\u001b[0mf\u001b[0me\u001b[0me\u001b[0ml\u001b[0ms\u001b[0m_\u001b[0ml\u001b[0mi\u001b[0mk\u001b[0me\u001b[0m'\u001b[0m:\u001b[0m \u001b[0m2\u001b[0m6\u001b[0m8\u001b[0m.\u001b[0m2\u001b[0m8\u001b[0m,\u001b[0m \u001b[0m'\u001b[0mp\u001b[0mr\u001b[0me\u001b[0ms\u001b[0ms\u001b[0mu\u001b[0mr\u001b[0me\u001b[0m'\u001b[0m:\u001b[0m \u001b[0m1\u001b[0m0\u001b[0m1\u001b[0m9\u001b[0m,\u001b[0m \u001b[0m'\u001b[0mt\u001b[0me\u001b[0mm\u001b[0mp\u001b[0m_\u001b[0mm\u001b[0mi\u001b[0mn\u001b[0m'\u001b[0m:\u001b[0m \u001b[0m2\u001b[0m6\u001b[0m9\u001b[0m.\u001b[0m2\u001b[0m6\u001b[0m,\u001b[0m \u001b[0m'\u001b[0mh\u001b[0mu\u001b[0mm\u001b[0mi\u001b[0md\u001b[0mi\u001b[0mt\u001b[0my\u001b[0m'\u001b[0m:\u001b[0m \u001b[0m9\u001b[0m3\u001b[0m,\u001b[0m \u001b[0m'\u001b[0mt\u001b[0me\u001b[0mm\u001b[0mp\u001b[0m_\u001b[0mm\u001b[0ma\u001b[0mx\u001b[0m'\u001b[0m:\u001b[0m \u001b[0m2\u001b[0m7\u001b[0m5\u001b[0m.\u001b[0m9\u001b[0m3\u001b[0m,\u001b[0m \u001b[0m'\u001b[0mt\u001b[0me\u001b[0mm\u001b[0mp\u001b[0m'\u001b[0m:\u001b[0m \u001b[0m2\u001b[0m7\u001b[0m2\u001b[0m.\u001b[0m4\u001b[0m4\u001b[0m}\u001b[0m\n",
      "\u001b[0mn\u001b[0ma\u001b[0mm\u001b[0me\u001b[0m \u001b[0m \u001b[0m \u001b[0m \u001b[0m \u001b[0mB\u001b[0me\u001b[0ma\u001b[0mr\u001b[0m \u001b[0mV\u001b[0ma\u001b[0ml\u001b[0ml\u001b[0me\u001b[0my\u001b[0m\n",
      "\u001b[0ms\u001b[0my\u001b[0ms\u001b[0m \u001b[0m \u001b[0m \u001b[0m \u001b[0m \u001b[0m \u001b[0m{\u001b[0m'\u001b[0mc\u001b[0mo\u001b[0mu\u001b[0mn\u001b[0mt\u001b[0mr\u001b[0my\u001b[0m'\u001b[0m:\u001b[0m \u001b[0m'\u001b[0mU\u001b[0mS\u001b[0m'\u001b[0m}\u001b[0m\n",
      "\u001b[0mi\u001b[0md\u001b[0m \u001b[0m \u001b[0m \u001b[0m \u001b[0m \u001b[0m \u001b[0m \u001b[0m5\u001b[0m3\u001b[0m2\u001b[0m6\u001b[0m9\u001b[0m6\u001b[0m8\u001b[0m\n",
      "\u001b[0m"
     ]
    }
   ],
   "source": [
    "from requests import get\n",
    "from secrets import openweathermap_apiid\n",
    "\n",
    "cnt = 1\n",
    "url = \"http://api.openweathermap.org/data/2.5/find?lat=38.5&lon=-120&cnt={}&appid={}\".format(cnt, openweathermap_apiid)\n",
    "\n",
    "j = get(url).json()\n",
    "for k,v in j.get('list')[0].items():\n",
    "    print(\"{:8} {}\".format(k,v))"
   ]
  },
  {
   "cell_type": "markdown",
   "metadata": {},
   "source": [
    "### GC"
   ]
  },
  {
   "cell_type": "code",
   "execution_count": 1,
   "metadata": {},
   "outputs": [
    {
     "name": "stdout",
     "output_type": "stream",
     "text": [
      "c\u001b[0mo\u001b[0mp\u001b[0m \u001b[0mm\u001b[0me\u001b[0mm\u001b[0m_\u001b[0mf\u001b[0mr\u001b[0me\u001b[0me\u001b[0m:\u001b[0m \u001b[0m \u001b[0m9\u001b[0m6\u001b[0m9\u001b[0m9\u001b[0m2\u001b[0m\n",
      "\u001b[0mh\u001b[0mo\u001b[0ms\u001b[0mt\u001b[0m \u001b[0mm\u001b[0me\u001b[0mm\u001b[0m_\u001b[0mf\u001b[0mr\u001b[0me\u001b[0me\u001b[0m:\u001b[0m \u001b[0m8\u001b[0m7\u001b[0m7\u001b[0m2\u001b[0m8\u001b[0m\n",
      "\u001b[0m"
     ]
    }
   ],
   "source": [
    "gc_ = import_('gc')\n",
    "gc_.collect()\n",
    "print(\"cop mem_free: \", gc_.mem_free())\n",
    "\n",
    "import gc\n",
    "gc.collect()\n",
    "print(\"host mem_free:\", gc.mem_free())"
   ]
  },
  {
   "cell_type": "markdown",
   "metadata": {},
   "source": [
    "### Socket Echo Test\n",
    "\n",
    "Run [echo server](https://realpython.com/python-sockets/#echo-server) on (some) host (e.g. from a Python3 notebook)."
   ]
  },
  {
   "cell_type": "code",
   "execution_count": 1,
   "metadata": {},
   "outputs": [
    {
     "name": "stdout",
     "output_type": "stream",
     "text": [
      "c\u001b[0mr\u001b[0me\u001b[0ma\u001b[0mt\u001b[0me\u001b[0m \u001b[0ms\u001b[0mo\u001b[0mc\u001b[0mk\u001b[0me\u001b[0mt\u001b[0m \u001b[0m.\u001b[0m.\u001b[0m.\u001b[0m\n",
      "\u001b[0mc\u001b[0mo\u001b[0mn\u001b[0mn\u001b[0me\u001b[0mc\u001b[0mt\u001b[0m \u001b[0mt\u001b[0mo\u001b[0m \u001b[0m(\u001b[0m'\u001b[0m1\u001b[0m0\u001b[0m.\u001b[0m3\u001b[0m9\u001b[0m.\u001b[0m4\u001b[0m0\u001b[0m.\u001b[0m1\u001b[0m1\u001b[0m4\u001b[0m'\u001b[0m,\u001b[0m \u001b[0m6\u001b[0m5\u001b[0m4\u001b[0m3\u001b[0m2\u001b[0m)\u001b[0m\n",
      "\u001b[0mS\u001b[0mu\u001b[0mc\u001b[0mc\u001b[0me\u001b[0ms\u001b[0ms\u001b[0m!\u001b[0m\n",
      "\u001b[0m"
     ]
    }
   ],
   "source": [
    "import socket\n",
    "import os\n",
    "\n",
    "N = 512\n",
    "SERVER = \"10.39.40.114\"\n",
    "PORT = 65432\n",
    "\n",
    "resp = bytearray(N)\n",
    "\n",
    "print(\"create socket ...\")\n",
    "s = socket.socket(socket.AF_INET, socket.SOCK_STREAM)\n",
    "\n",
    "try:\n",
    "    s.setsockopt(socket.SOL_SOCKET, socket.SO_REUSEADDR, 1)\n",
    "    ai = socket.getaddrinfo(SERVER, PORT)\n",
    "    addr = ai[0][-1]\n",
    "\n",
    "    print(\"connect to\", addr)\n",
    "    s.connect(addr)\n",
    "    \n",
    "    for i in range(5):\n",
    "        data = bytes(os.urandom(N))\n",
    "        s.sendall(data)\n",
    "        s.readinto(resp)\n",
    "        assert resp == data, \"Mismatch!\"\n",
    "except Exception as e:\n",
    "    print(\"*****\", e)\n",
    "finally:\n",
    "    print(\"Success!\")\n",
    "    s.close()"
   ]
  },
  {
   "cell_type": "code",
   "execution_count": null,
   "metadata": {},
   "outputs": [],
   "source": []
  }
 ],
 "metadata": {
  "kernelspec": {
   "display_name": "IoT",
   "language": "python",
   "name": "iot_kernel"
  },
  "language_info": {
   "codemirror_mode": {
    "name": "python",
    "version": 3
   },
   "file_extension": ".py",
   "mimetype": "text/x-python",
   "name": "python",
   "pygments_lexer": "python3",
   "version": "3"
  }
 },
 "nbformat": 4,
 "nbformat_minor": 4
}
