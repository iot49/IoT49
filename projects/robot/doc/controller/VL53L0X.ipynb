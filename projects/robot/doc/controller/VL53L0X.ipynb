{
 "cells": [
  {
   "cell_type": "markdown",
   "id": "talented-capability",
   "metadata": {},
   "source": [
    "# VL53L0X"
   ]
  },
  {
   "cell_type": "code",
   "execution_count": 1,
   "id": "interior-companion",
   "metadata": {},
   "outputs": [
    {
     "name": "stdout",
     "output_type": "stream",
     "text": [
      "\u001b[0m\u001b[0mConnected to robot-stm @ serial:///dev/serial0\u001b[0m\n"
     ]
    }
   ],
   "source": [
    "%register 'serial:///dev/serial0'\n",
    "%connect robot-stm"
   ]
  },
  {
   "cell_type": "code",
   "execution_count": 1,
   "id": "amber-receiver",
   "metadata": {},
   "outputs": [
    {
     "name": "stdout",
     "output_type": "stream",
     "text": [
      "0x28\n",
      "0x\u001b[0m29\n",
      "0x76\n",
      "\u001b[0m"
     ]
    }
   ],
   "source": [
    "import time, math, gc\n",
    "from machine import I2C as I2C\n",
    "\n",
    "i2c = I2C(1, freq=400_000)\n",
    "for a in i2c.scan():\n",
    "    print(\"0x{:0x}\".format(a))"
   ]
  },
  {
   "cell_type": "code",
   "execution_count": 1,
   "id": "unauthorized-tulsa",
   "metadata": {},
   "outputs": [
    {
     "name": "stdout",
     "output_type": "stream",
     "text": [
      "0x29\n",
      "\u001b[0m"
     ]
    }
   ],
   "source": [
    "print(\"0x{:0x}\".format(41))"
   ]
  },
  {
   "cell_type": "code",
   "execution_count": 1,
   "id": "qualified-hurricane",
   "metadata": {},
   "outputs": [],
   "source": [
    "class VL53L0X:\n",
    "    \n",
    "    def __init__(self, i2c, address=0x29):\n",
    "        self._i2c = i2c\n",
    "        self._addr = address\n",
    "        self._buffer = bytearray(3)\n",
    "        i2c.readfrom_mem_into(address, 0xC0, self._buffer)\n",
    "        assert self._buffer == b'\\xee\\xaa\\x10', \"wrong ID: {}\".format(self._buffer)\n",
    "        print(self._buffer)\n"
   ]
  },
  {
   "cell_type": "code",
   "execution_count": 1,
   "id": "arctic-potato",
   "metadata": {},
   "outputs": [
    {
     "name": "stdout",
     "output_type": "stream",
     "text": [
      "scan 0x28\n",
      "scan 0x29\n",
      "scan 0x76\n",
      "bytearray(b'\\xee\\xaa\\x10')\n",
      "\u001b[0m"
     ]
    }
   ],
   "source": [
    "from machine import I2C as I2C\n",
    "\n",
    "i2c = I2C(1, freq=400_000)\n",
    "for a in i2c.scan():\n",
    "    print(\"scan 0x{:0x}\".format(a))\n",
    "    \n",
    "v = VL53L0X(i2c)\n"
   ]
  },
  {
   "cell_type": "code",
   "execution_count": null,
   "id": "elect-format",
   "metadata": {},
   "outputs": [],
   "source": []
  },
  {
   "cell_type": "code",
   "execution_count": null,
   "id": "failing-slovenia",
   "metadata": {},
   "outputs": [],
   "source": []
  }
 ],
 "metadata": {
  "kernelspec": {
   "display_name": "IoT",
   "language": "python",
   "name": "iot_kernel"
  },
  "language_info": {
   "codemirror_mode": {
    "name": "python",
    "version": 3
   },
   "file_extension": ".py",
   "mimetype": "text/x-python",
   "name": "python",
   "pygments_lexer": "python3",
   "version": "3"
  }
 },
 "nbformat": 4,
 "nbformat_minor": 5
}
