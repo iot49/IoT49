{
 "cells": [
  {
   "cell_type": "markdown",
   "id": "c8d8d71c",
   "metadata": {},
   "source": [
    "# Docker"
   ]
  },
  {
   "cell_type": "markdown",
   "id": "d14414fc",
   "metadata": {},
   "source": [
    "## Install"
   ]
  },
  {
   "cell_type": "code",
   "execution_count": null,
   "id": "c249f257",
   "metadata": {},
   "outputs": [],
   "source": [
    "%%bash\n",
    "\n",
    "export DEBIAN_FRONTEND=noninteractive\n",
    "curl -sSL https://get.docker.com | sh\n",
    "sudo usermod -aG docker pi"
   ]
  },
  {
   "cell_type": "code",
   "execution_count": null,
   "id": "da7fdf2d",
   "metadata": {},
   "outputs": [],
   "source": [
    "%%bash\n",
    "\n",
    "# permission thing\n",
    "\n",
    "sudo reboot now"
   ]
  },
  {
   "cell_type": "code",
   "execution_count": null,
   "id": "aa9403e7",
   "metadata": {},
   "outputs": [],
   "source": [
    "%%bash\n",
    "\n",
    "# test\n",
    "docker run hello-world"
   ]
  },
  {
   "cell_type": "code",
   "execution_count": null,
   "id": "d40e439b",
   "metadata": {},
   "outputs": [],
   "source": [
    "%%bash\n",
    "\n",
    "# docker compose\n",
    "\n",
    "sudo apt-get install -y libffi-dev libssl-dev\n",
    "sudo apt-get install -y python3 python3-pip\n",
    "sudo apt-get remove python-configparser\n",
    "\n",
    "cd $IOT49\n",
    "sudo pip3 install docker-compose"
   ]
  },
  {
   "cell_type": "markdown",
   "id": "2da1263c",
   "metadata": {},
   "source": [
    "## USB"
   ]
  },
  {
   "cell_type": "markdown",
   "id": "d0a6e11e",
   "metadata": {},
   "source": [
    "## Bluetooth\n",
    "\n",
    "https://hub.docker.com/r/hilschernetpi/netpi-bluetooth"
   ]
  },
  {
   "cell_type": "code",
   "execution_count": 1,
   "id": "a46c4d9d",
   "metadata": {},
   "outputs": [
    {
     "name": "stdout",
     "output_type": "stream",
     "text": [
      "Unable to find image 'hilschernetpi/netpi-bluetooth:latest' locally\u001b[0m\n",
      "latest: Pulling from hilschernetpi/netpi-bluetooth\u001b[0m\n",
      "c4f8e1e649d2: Pulling fs layer\u001b[0m\n",
      "240c8b610484: Pulling fs layer\u001b[0m\n",
      "3719b6aefc97: Pulling fs layer\u001b[0m\n",
      "3731f0e8dc0e: Pulling fs layer\u001b[0m\n",
      "3a1eb0f38339: Pulling fs layer\u001b[0m\n",
      "ee284f5dfa7d: Pulling fs layer\u001b[0m\n",
      "e408be31bedc: Pulling fs layer\u001b[0m\n",
      "2a224d0ef89f: Pulling fs layer\u001b[0m\n",
      "f2465465dc29: Pulling fs layer\u001b[0m\n",
      "585ffc9552fd: Pulling fs layer\u001b[0m\n",
      "a05a94b520bf: Pulling fs layer\u001b[0m\n",
      "ed126f55db17: Pulling fs layer\u001b[0m\n",
      "e21e90bb02bd: Pulling fs layer\u001b[0m\n",
      "441b65263b95: Pulling fs layer\u001b[0m\n",
      "3731f0e8dc0e: Waiting\u001b[0m\n",
      "3a1eb0f38339: Waiting\u001b[0m\n",
      "fcd79a4cc137: Pulling fs layer\u001b[0m\n",
      "ee284f5dfa7d: Waiting\u001b[0m\n",
      "ee869df46657: Pulling fs layer\u001b[0m\n",
      "8e8ed5cd7de7: Pulling fs layer\u001b[0m\n",
      "0712cc73515f: Pulling fs layer\u001b[0m\n",
      "6e6054e064a1: Pulling fs layer\u001b[0m\n",
      "8593548a7fac: Pulling fs layer\u001b[0m\n",
      "51125d1313d6: Pulling fs layer\u001b[0m\n",
      "24cd193bbb9d: Pulling fs layer\u001b[0m\n",
      "a0ce9d540bda: Pulling fs layer\u001b[0m\n",
      "782d96e12527: Pulling fs layer\u001b[0m\n",
      "e4760663b37a: Pulling fs layer\u001b[0m\n",
      "1ec2f1ca68c7: Pulling fs layer\u001b[0m\n",
      "e408be31bedc: Waiting\u001b[0m\n",
      "2a224d0ef89f: Waiting\u001b[0m\n",
      "f2465465dc29: Waiting\u001b[0m\n",
      "bd8a63fc536d: Pulling fs layer\u001b[0m\n",
      "585ffc9552fd: Waiting\u001b[0m\n",
      "a05a94b520bf: Waiting\u001b[0m\n",
      "ed126f55db17: Waiting\u001b[0m\n",
      "0712cc73515f: Waiting\u001b[0m\n",
      "e21e90bb02bd: Waiting\u001b[0m\n",
      "6e6054e064a1: Waiting\u001b[0m\n",
      "441b65263b95: Waiting\u001b[0m\n",
      "8593548a7fac: Waiting\u001b[0m\n",
      "fcd79a4cc137: Waiting\u001b[0m\n",
      "ee869df46657: Waiting\u001b[0m\n",
      "8e8ed5cd7de7: Waiting\u001b[0m\n",
      "24cd193bbb9d: Waiting\u001b[0m\n",
      "51125d1313d6: Waiting\u001b[0m\n",
      "e4760663b37a: Waiting\u001b[0m\n",
      "bd8a63fc536d: Waiting\u001b[0m\n",
      "a0ce9d540bda: Waiting\u001b[0m\n",
      "782d96e12527: Waiting\u001b[0m\n",
      "1ec2f1ca68c7: Waiting\u001b[0m\n",
      "240c8b610484: Verifying Checksum\u001b[0m\n",
      "240c8b610484: Download complete\u001b[0m\n",
      "3731f0e8dc0e: Verifying Checksum\u001b[0m\n",
      "3731f0e8dc0e: Download complete\u001b[0m\n",
      "3a1eb0f38339: Verifying Checksum\u001b[0m\n",
      "3a1eb0f38339: Download complete\u001b[0m\n",
      "ee284f5dfa7d: Verifying Checksum\u001b[0m\n",
      "ee284f5dfa7d: Download complete\u001b[0m\n",
      "e408be31bedc: Verifying Checksum\u001b[0m\n",
      "e408be31bedc: Download complete\u001b[0m\n",
      "2a224d0ef89f: Verifying Checksum\u001b[0m\n",
      "2a224d0ef89f: Download complete\u001b[0m\n",
      "f2465465dc29: Verifying Checksum\u001b[0m\n",
      "f2465465dc29: Download complete\u001b[0m\n",
      "3719b6aefc97: Verifying Checksum\u001b[0m\n",
      "3719b6aefc97: Download complete\u001b[0m\n",
      "a05a94b520bf: Verifying Checksum\u001b[0m\n",
      "a05a94b520bf: Download complete\u001b[0m\n",
      "ed126f55db17: Verifying Checksum\u001b[0m\n",
      "ed126f55db17: Download complete\u001b[0m\n",
      "e21e90bb02bd: Verifying Checksum\u001b[0m\n",
      "e21e90bb02bd: Download complete\u001b[0m\n",
      "441b65263b95: Verifying Checksum\u001b[0m\n",
      "441b65263b95: Download complete\u001b[0m\n",
      "fcd79a4cc137: Verifying Checksum\u001b[0m\n",
      "fcd79a4cc137: Download complete\u001b[0m\n",
      "ee869df46657: Verifying Checksum\u001b[0m\n",
      "ee869df46657: Download complete\u001b[0m\n",
      "8e8ed5cd7de7: Download complete\u001b[0m\n",
      "0712cc73515f: Verifying Checksum\u001b[0m\n",
      "0712cc73515f: Download complete\u001b[0m\n",
      "6e6054e064a1: Verifying Checksum\u001b[0m\n",
      "6e6054e064a1: Download complete\u001b[0m\n",
      "8593548a7fac: Verifying Checksum\u001b[0m\n",
      "8593548a7fac: Download complete\u001b[0m\n",
      "51125d1313d6: Verifying Checksum\u001b[0m\n",
      "51125d1313d6: Download complete\u001b[0m\n",
      "24cd193bbb9d: Download complete\u001b[0m\n",
      "a0ce9d540bda: Download complete\u001b[0m\n",
      "782d96e12527: Verifying Checksum\u001b[0m\n",
      "782d96e12527: Download complete\u001b[0m\n",
      "e4760663b37a: Verifying Checksum\u001b[0m\n",
      "e4760663b37a: Download complete\u001b[0m\n",
      "c4f8e1e649d2: Verifying Checksum\u001b[0m\n",
      "c4f8e1e649d2: Download complete\u001b[0m\n",
      "1ec2f1ca68c7: Verifying Checksum\u001b[0m\n",
      "1ec2f1ca68c7: Download complete\u001b[0m\n",
      "bd8a63fc536d: Verifying Checksum\u001b[0m\n",
      "bd8a63fc536d: Download complete\u001b[0m\n",
      "c4f8e1e649d2: Pull complete\u001b[0m\n",
      "240c8b610484: Pull complete\u001b[0m\n",
      "3719b6aefc97: Pull complete\u001b[0m\n",
      "3731f0e8dc0e: Pull complete\u001b[0m\n",
      "3a1eb0f38339: Pull complete\u001b[0m\n",
      "ee284f5dfa7d: Pull complete\u001b[0m\n",
      "e408be31bedc: Pull complete\u001b[0m\n",
      "2a224d0ef89f: Pull complete\u001b[0m\n",
      "f2465465dc29: Pull complete\u001b[0m\n",
      "585ffc9552fd: Verifying Checksum\u001b[0m\n",
      "585ffc9552fd: Download complete\u001b[0m\n",
      "585ffc9552fd: Pull complete\u001b[0m\n",
      "a05a94b520bf: Pull complete\u001b[0m\n",
      "ed126f55db17: Pull complete\u001b[0m\n",
      "e21e90bb02bd: Pull complete\u001b[0m\n",
      "441b65263b95: Pull complete\u001b[0m\n",
      "fcd79a4cc137: Pull complete\u001b[0m\n",
      "ee869df46657: Pull complete\u001b[0m\n",
      "8e8ed5cd7de7: Pull complete\u001b[0m\n",
      "0712cc73515f: Pull complete\u001b[0m\n",
      "6e6054e064a1: Pull complete\u001b[0m\n",
      "8593548a7fac: Pull complete\u001b[0m\n",
      "51125d1313d6: Pull complete\u001b[0m\n",
      "24cd193bbb9d: Pull complete\u001b[0m\n",
      "a0ce9d540bda: Pull complete\u001b[0m\n",
      "782d96e12527: Pull complete\u001b[0m\n",
      "e4760663b37a: Pull complete\u001b[0m\n",
      "1ec2f1ca68c7: Pull complete\u001b[0m\n",
      "bd8a63fc536d: Pull complete\u001b[0m\n",
      "Digest: sha256:fbf350ff6b7b30294549908757e2f6f6e9a2cef279041bd6d923017f7585a090\u001b[0m\n",
      "Status: Downloaded newer image for hilschernetpi/netpi-bluetooth:latest\u001b[0m\n",
      "WARNING: Published ports are discarded when using host network mode\u001b[0m\n",
      "WARNING: The requested image's platform (linux/amd64) does not match the detected host platform (linux/arm/v7) and no specific platform was requested\u001b[0m\n",
      "7a048692818ee595fa0ebacb829f15c4d70d578d833edf43f13a003cd870199a\u001b[0m\n"
     ]
    }
   ],
   "source": [
    "%%bash\n",
    "\n",
    "docker run -d --privileged --network=host --restart=always -e SSHPORT=22 --device=/dev/ttyAMA0:/dev/ttyAMA0 --device=/dev/vcio:/dev/vcio -p 22:22/tcp hilschernetpi/netpi-bluetooth\n",
    "            "
   ]
  },
  {
   "cell_type": "code",
   "execution_count": 4,
   "id": "9333bc41",
   "metadata": {},
   "outputs": [
    {
     "name": "stdout",
     "output_type": "stream",
     "text": [
      "Overwriting /home/pi/docker/bluetooth/docker-compose.yml\n"
     ]
    }
   ],
   "source": [
    "%%writefile ~/docker/bluetooth/docker-compose.yml\n",
    "services:\n",
    "     nodered:\n",
    "        container_name: bluetooth\n",
    "        image: hilschernetpi/netpi-bluetooth\n",
    "        restart: always\n",
    "        privileged: true\n",
    "        network_mode: host\n",
    "        devices:\n",
    "            - \"/dev/ttyAMA0:/dev/ttyAMA0\"\n",
    "            - \"/dev/vcio:/dev/vcio\"\n",
    "        environment:\n",
    "            - SSHPORT=2222"
   ]
  },
  {
   "cell_type": "code",
   "execution_count": null,
   "id": "f0f521b9",
   "metadata": {},
   "outputs": [],
   "source": []
  }
 ],
 "metadata": {
  "kernelspec": {
   "display_name": "IoT",
   "language": "python",
   "name": "iot_kernel"
  },
  "language_info": {
   "codemirror_mode": {
    "name": "python",
    "version": 3
   },
   "file_extension": ".py",
   "mimetype": "text/x-python",
   "name": "python",
   "pygments_lexer": "python3",
   "version": "3"
  }
 },
 "nbformat": 4,
 "nbformat_minor": 5
}
