{
 "cells": [
  {
   "cell_type": "markdown",
   "id": "sustained-testimony",
   "metadata": {},
   "source": [
    "# STM32 flashing from rpi\n",
    "\n",
    "* STM32 Bootloader\n",
    "  * [AN2606](https://www.st.com/resource/en/application_note/cd00167594-stm32-microcontroller-system-memory-boot-mode-stmicroelectronics.pdf)\n",
    "     * STM32F40xxx/41xxx (Table 53, page 109)\n",
    "     * Bootloader enabled on \n",
    "        * USART1: RX=PA10, TX=PA9\n",
    "        * USART3: RX=PB11, TX=PB10 or RX=PC11, TX=PC10\n",
    "     * Adafruit STM32F405\n",
    "        * RX/TX pins are PB11, PB10 (UART3)\n",
    "        * others not available\n",
    "\n",
    "* [MicroPython UART REPL](https://github.com/micropython/micropython/blob/master/ports/stm32/boards/NUCLEO_F411RE/mpconfigboard.h)\n",
    "  * [MicroPython Forum](https://forum.micropython.org/viewtopic.php?f=6&t=7425)\n",
    "\n",
    "* Serial flasher:\n",
    "  * [Python `stm32loader` - doesn't work](https://pypi.org/project/stm32loader/)\n",
    "  * [C `stm32flash`](https://sourceforge.net/p/stm32flash/wiki/Home/)\n",
    "  * [Instructions (C)](https://siliconjunction.wordpress.com/2017/03/21/flashing-the-stm32f-board-using-a-raspberry-pi-3/)\n",
    "\n"
   ]
  },
  {
   "cell_type": "markdown",
   "id": "detailed-receptor",
   "metadata": {},
   "source": [
    "## C flasher"
   ]
  },
  {
   "cell_type": "code",
   "execution_count": null,
   "id": "qualified-journalist",
   "metadata": {},
   "outputs": [],
   "source": [
    "%%bash\n",
    "\n",
    "git clone https://git.code.sf.net/p/stm32flash/code stm32flash-code\n",
    "cd stm32flash-code\n",
    "sudo make install"
   ]
  },
  {
   "cell_type": "code",
   "execution_count": null,
   "id": "metallic-nebraska",
   "metadata": {},
   "outputs": [],
   "source": [
    "!stm32flash -h"
   ]
  },
  {
   "cell_type": "code",
   "execution_count": 37,
   "id": "forbidden-dominican",
   "metadata": {},
   "outputs": [
    {
     "name": "stdout",
     "output_type": "stream",
     "text": [
      "stm32flash 0.6\n",
      "\n",
      "http://stm32flash.sourceforge.net/\n",
      "\n",
      "Interface serial_posix: 57600 8E1\n",
      "Failed to init device.\n",
      "\n"
     ]
    }
   ],
   "source": [
    "!stm32flash /dev/serial0"
   ]
  },
  {
   "cell_type": "code",
   "execution_count": 6,
   "id": "starting-promise",
   "metadata": {},
   "outputs": [
    {
     "name": "stdout",
     "output_type": "stream",
     "text": [
      "lrwxrwxrwx 1 root root 5 Mar 18 16:57 /dev/serial0 -> ttyS0\n",
      "lrwxrwxrwx 1 root root 7 Mar 18 16:57 /dev/serial1 -> ttyAMA0\n"
     ]
    }
   ],
   "source": [
    "!ls -la /dev/ser*"
   ]
  },
  {
   "cell_type": "code",
   "execution_count": 7,
   "id": "micro-rouge",
   "metadata": {},
   "outputs": [
    {
     "name": "stdout",
     "output_type": "stream",
     "text": [
      "stm32flash 0.6\n",
      "\n",
      "http://stm32flash.sourceforge.net/\n",
      "\n",
      "Using Parser : Raw BINARY\n",
      "Interface serial_posix: 57600 8E1\n",
      "Failed to init device.\n",
      "\n"
     ]
    }
   ],
   "source": [
    "!stm32flash -v -S 0x08000000 -w $IOT/iot-bin/micropython/stm32-MOTOR_HAT_BREAKOUT-firmware0.bin /dev/serial0 "
   ]
  },
  {
   "cell_type": "code",
   "execution_count": 4,
   "id": "crazy-snapshot",
   "metadata": {},
   "outputs": [
    {
     "name": "stdout",
     "output_type": "stream",
     "text": [
      "stm32flash 0.6\n",
      "\n",
      "http://stm32flash.sourceforge.net/\n",
      "\n",
      "Using Parser : Raw BINARY\n",
      "Interface serial_posix: 57600 8E1\n",
      "Version      : 0x31\n",
      "Option 1     : 0x00\n",
      "Option 2     : 0x00\n",
      "Device ID    : 0x0413 (STM32F40xxx/41xxx)\n",
      "- RAM        : Up to 128KiB  (12288b reserved by bootloader)\n",
      "- Flash      : Up to 1024KiB (size first sector: 1x16384)\n",
      "- Option RAM : 16b\n",
      "- System RAM : 30KiB\n",
      "Write to memory\n",
      "Erasing memory\n",
      "Wrote and verified address 0x08073464 (100.00%) Done.\n",
      "\n"
     ]
    }
   ],
   "source": [
    "!stm32flash -v -S 0x08020000 -w $IOT/iot-bin/micropython/stm32-MOTOR_HAT_BREAKOUT-firmware1.bin /dev/serial0 "
   ]
  },
  {
   "cell_type": "code",
   "execution_count": 36,
   "id": "clean-option",
   "metadata": {},
   "outputs": [
    {
     "ename": "KeyboardInterrupt",
     "evalue": "",
     "output_type": "error",
     "traceback": [
      "\u001b[0;31m---------------------------------------------------------------------------\u001b[0m",
      "\u001b[0;31mKeyboardInterrupt\u001b[0m                         Traceback (most recent call last)",
      "\u001b[0;32m<ipython-input-36-a62ecc6428e7>\u001b[0m in \u001b[0;36m<module>\u001b[0;34m\u001b[0m\n\u001b[1;32m      5\u001b[0m     \u001b[0;32mfor\u001b[0m \u001b[0mi\u001b[0m \u001b[0;32min\u001b[0m \u001b[0mrange\u001b[0m\u001b[0;34m(\u001b[0m\u001b[0;36m5000\u001b[0m\u001b[0;34m)\u001b[0m\u001b[0;34m:\u001b[0m\u001b[0;34m\u001b[0m\u001b[0;34m\u001b[0m\u001b[0m\n\u001b[1;32m      6\u001b[0m         \u001b[0;31m# dev.write(b\"print('i = {}'.format(i))\\n\\r\")\u001b[0m\u001b[0;34m\u001b[0m\u001b[0;34m\u001b[0m\u001b[0;34m\u001b[0m\u001b[0m\n\u001b[0;32m----> 7\u001b[0;31m         \u001b[0mrcv\u001b[0m \u001b[0;34m=\u001b[0m \u001b[0mdev\u001b[0m\u001b[0;34m.\u001b[0m\u001b[0mread\u001b[0m\u001b[0;34m(\u001b[0m\u001b[0;34m)\u001b[0m\u001b[0;34m.\u001b[0m\u001b[0mdecode\u001b[0m\u001b[0;34m(\u001b[0m\u001b[0;34m)\u001b[0m\u001b[0;34m\u001b[0m\u001b[0;34m\u001b[0m\u001b[0m\n\u001b[0m\u001b[1;32m      8\u001b[0m         \u001b[0mprint\u001b[0m\u001b[0;34m(\u001b[0m\u001b[0mrcv\u001b[0m\u001b[0;34m,\u001b[0m \u001b[0mend\u001b[0m\u001b[0;34m=\u001b[0m\u001b[0;34m''\u001b[0m\u001b[0;34m)\u001b[0m\u001b[0;34m\u001b[0m\u001b[0;34m\u001b[0m\u001b[0m\n",
      "\u001b[0;32m~/.venv/jns/lib/python3.7/site-packages/serial/serialposix.py\u001b[0m in \u001b[0;36mread\u001b[0;34m(self, size)\u001b[0m\n\u001b[1;32m    563\u001b[0m         \u001b[0;32mwhile\u001b[0m \u001b[0mlen\u001b[0m\u001b[0;34m(\u001b[0m\u001b[0mread\u001b[0m\u001b[0;34m)\u001b[0m \u001b[0;34m<\u001b[0m \u001b[0msize\u001b[0m\u001b[0;34m:\u001b[0m\u001b[0;34m\u001b[0m\u001b[0;34m\u001b[0m\u001b[0m\n\u001b[1;32m    564\u001b[0m             \u001b[0;32mtry\u001b[0m\u001b[0;34m:\u001b[0m\u001b[0;34m\u001b[0m\u001b[0;34m\u001b[0m\u001b[0m\n\u001b[0;32m--> 565\u001b[0;31m                 \u001b[0mready\u001b[0m\u001b[0;34m,\u001b[0m \u001b[0m_\u001b[0m\u001b[0;34m,\u001b[0m \u001b[0m_\u001b[0m \u001b[0;34m=\u001b[0m \u001b[0mselect\u001b[0m\u001b[0;34m.\u001b[0m\u001b[0mselect\u001b[0m\u001b[0;34m(\u001b[0m\u001b[0;34m[\u001b[0m\u001b[0mself\u001b[0m\u001b[0;34m.\u001b[0m\u001b[0mfd\u001b[0m\u001b[0;34m,\u001b[0m \u001b[0mself\u001b[0m\u001b[0;34m.\u001b[0m\u001b[0mpipe_abort_read_r\u001b[0m\u001b[0;34m]\u001b[0m\u001b[0;34m,\u001b[0m \u001b[0;34m[\u001b[0m\u001b[0;34m]\u001b[0m\u001b[0;34m,\u001b[0m \u001b[0;34m[\u001b[0m\u001b[0;34m]\u001b[0m\u001b[0;34m,\u001b[0m \u001b[0mtimeout\u001b[0m\u001b[0;34m.\u001b[0m\u001b[0mtime_left\u001b[0m\u001b[0;34m(\u001b[0m\u001b[0;34m)\u001b[0m\u001b[0;34m)\u001b[0m\u001b[0;34m\u001b[0m\u001b[0;34m\u001b[0m\u001b[0m\n\u001b[0m\u001b[1;32m    566\u001b[0m                 \u001b[0;32mif\u001b[0m \u001b[0mself\u001b[0m\u001b[0;34m.\u001b[0m\u001b[0mpipe_abort_read_r\u001b[0m \u001b[0;32min\u001b[0m \u001b[0mready\u001b[0m\u001b[0;34m:\u001b[0m\u001b[0;34m\u001b[0m\u001b[0;34m\u001b[0m\u001b[0m\n\u001b[1;32m    567\u001b[0m                     \u001b[0mos\u001b[0m\u001b[0;34m.\u001b[0m\u001b[0mread\u001b[0m\u001b[0;34m(\u001b[0m\u001b[0mself\u001b[0m\u001b[0;34m.\u001b[0m\u001b[0mpipe_abort_read_r\u001b[0m\u001b[0;34m,\u001b[0m \u001b[0;36m1000\u001b[0m\u001b[0;34m)\u001b[0m\u001b[0;34m\u001b[0m\u001b[0;34m\u001b[0m\u001b[0m\n",
      "\u001b[0;31mKeyboardInterrupt\u001b[0m: "
     ]
    }
   ],
   "source": [
    "import serial, time\n",
    "\n",
    "with serial.Serial(\"/dev/serial0\", baudrate=115200, timeout=1.0) as dev:\n",
    "    dev.write(b'\\r\\n\\r\\r\\r')\n",
    "    for i in range(5000):\n",
    "        # dev.write(b\"print('i = {}'.format(i))\\n\\r\")\n",
    "        rcv = dev.read().decode()\n",
    "        print(rcv, end='')"
   ]
  },
  {
   "cell_type": "code",
   "execution_count": 11,
   "id": "painted-albania",
   "metadata": {},
   "outputs": [
    {
     "name": "stdout",
     "output_type": "stream",
     "text": [
      "MPY: can't mount SD card\n",
      "MPY: can't mount SD card\n",
      "MPY: can't mount SD card\n",
      "1 chips detected. Total flash size 2MiB.\n",
      "MicroPython v1.13-361-g0ed11821d0-dirty on 2021-03-09; Motor Breakout Hat with STM32F405RG\n",
      "Type \"help()\" for more information.\n",
      ">>> "
     ]
    },
    {
     "ename": "KeyboardInterrupt",
     "evalue": "",
     "output_type": "error",
     "traceback": [
      "\u001b[0;31m---------------------------------------------------------------------------\u001b[0m",
      "\u001b[0;31mKeyboardInterrupt\u001b[0m                         Traceback (most recent call last)",
      "\u001b[0;32m<ipython-input-11-e590e8d27e9d>\u001b[0m in \u001b[0;36m<module>\u001b[0;34m\u001b[0m\n\u001b[1;32m      4\u001b[0m     \u001b[0;32mfor\u001b[0m \u001b[0mi\u001b[0m \u001b[0;32min\u001b[0m \u001b[0mrange\u001b[0m\u001b[0;34m(\u001b[0m\u001b[0;36m5000\u001b[0m\u001b[0;34m)\u001b[0m\u001b[0;34m:\u001b[0m\u001b[0;34m\u001b[0m\u001b[0;34m\u001b[0m\u001b[0m\n\u001b[1;32m      5\u001b[0m         \u001b[0;31m# dev.write(b\"print('i = {}'.format(i))\\n\\r\")\u001b[0m\u001b[0;34m\u001b[0m\u001b[0;34m\u001b[0m\u001b[0;34m\u001b[0m\u001b[0m\n\u001b[0;32m----> 6\u001b[0;31m         \u001b[0mrcv\u001b[0m \u001b[0;34m=\u001b[0m \u001b[0mdev\u001b[0m\u001b[0;34m.\u001b[0m\u001b[0mread\u001b[0m\u001b[0;34m(\u001b[0m\u001b[0;34m)\u001b[0m\u001b[0;34m.\u001b[0m\u001b[0mdecode\u001b[0m\u001b[0;34m(\u001b[0m\u001b[0;34m)\u001b[0m\u001b[0;34m\u001b[0m\u001b[0;34m\u001b[0m\u001b[0m\n\u001b[0m\u001b[1;32m      7\u001b[0m         \u001b[0mprint\u001b[0m\u001b[0;34m(\u001b[0m\u001b[0mrcv\u001b[0m\u001b[0;34m,\u001b[0m \u001b[0mend\u001b[0m\u001b[0;34m=\u001b[0m\u001b[0;34m''\u001b[0m\u001b[0;34m)\u001b[0m\u001b[0;34m\u001b[0m\u001b[0;34m\u001b[0m\u001b[0m\n",
      "\u001b[0;32m~/.venv/jns/lib/python3.7/site-packages/serial/serialposix.py\u001b[0m in \u001b[0;36mread\u001b[0;34m(self, size)\u001b[0m\n\u001b[1;32m    563\u001b[0m         \u001b[0;32mwhile\u001b[0m \u001b[0mlen\u001b[0m\u001b[0;34m(\u001b[0m\u001b[0mread\u001b[0m\u001b[0;34m)\u001b[0m \u001b[0;34m<\u001b[0m \u001b[0msize\u001b[0m\u001b[0;34m:\u001b[0m\u001b[0;34m\u001b[0m\u001b[0;34m\u001b[0m\u001b[0m\n\u001b[1;32m    564\u001b[0m             \u001b[0;32mtry\u001b[0m\u001b[0;34m:\u001b[0m\u001b[0;34m\u001b[0m\u001b[0;34m\u001b[0m\u001b[0m\n\u001b[0;32m--> 565\u001b[0;31m                 \u001b[0mready\u001b[0m\u001b[0;34m,\u001b[0m \u001b[0m_\u001b[0m\u001b[0;34m,\u001b[0m \u001b[0m_\u001b[0m \u001b[0;34m=\u001b[0m \u001b[0mselect\u001b[0m\u001b[0;34m.\u001b[0m\u001b[0mselect\u001b[0m\u001b[0;34m(\u001b[0m\u001b[0;34m[\u001b[0m\u001b[0mself\u001b[0m\u001b[0;34m.\u001b[0m\u001b[0mfd\u001b[0m\u001b[0;34m,\u001b[0m \u001b[0mself\u001b[0m\u001b[0;34m.\u001b[0m\u001b[0mpipe_abort_read_r\u001b[0m\u001b[0;34m]\u001b[0m\u001b[0;34m,\u001b[0m \u001b[0;34m[\u001b[0m\u001b[0;34m]\u001b[0m\u001b[0;34m,\u001b[0m \u001b[0;34m[\u001b[0m\u001b[0;34m]\u001b[0m\u001b[0;34m,\u001b[0m \u001b[0mtimeout\u001b[0m\u001b[0;34m.\u001b[0m\u001b[0mtime_left\u001b[0m\u001b[0;34m(\u001b[0m\u001b[0;34m)\u001b[0m\u001b[0;34m)\u001b[0m\u001b[0;34m\u001b[0m\u001b[0;34m\u001b[0m\u001b[0m\n\u001b[0m\u001b[1;32m    566\u001b[0m                 \u001b[0;32mif\u001b[0m \u001b[0mself\u001b[0m\u001b[0;34m.\u001b[0m\u001b[0mpipe_abort_read_r\u001b[0m \u001b[0;32min\u001b[0m \u001b[0mready\u001b[0m\u001b[0;34m:\u001b[0m\u001b[0;34m\u001b[0m\u001b[0;34m\u001b[0m\u001b[0m\n\u001b[1;32m    567\u001b[0m                     \u001b[0mos\u001b[0m\u001b[0;34m.\u001b[0m\u001b[0mread\u001b[0m\u001b[0;34m(\u001b[0m\u001b[0mself\u001b[0m\u001b[0;34m.\u001b[0m\u001b[0mpipe_abort_read_r\u001b[0m\u001b[0;34m,\u001b[0m \u001b[0;36m1000\u001b[0m\u001b[0;34m)\u001b[0m\u001b[0;34m\u001b[0m\u001b[0;34m\u001b[0m\u001b[0m\n",
      "\u001b[0;31mKeyboardInterrupt\u001b[0m: "
     ]
    }
   ],
   "source": [
    "import serial, time\n",
    "\n",
    "with serial.Serial(\"/dev/serial0\", baudrate=115200, timeout=1.0) as dev:\n",
    "    for i in range(5000):\n",
    "        # dev.write(b\"print('i = {}'.format(i))\\n\\r\")\n",
    "        rcv = dev.read().decode()\n",
    "        print(rcv, end='')"
   ]
  },
  {
   "cell_type": "code",
   "execution_count": null,
   "id": "catholic-greek",
   "metadata": {},
   "outputs": [],
   "source": []
  }
 ],
 "metadata": {
  "kernelspec": {
   "display_name": "Python 3",
   "language": "python",
   "name": "python3"
  },
  "language_info": {
   "codemirror_mode": {
    "name": "ipython",
    "version": 3
   },
   "file_extension": ".py",
   "mimetype": "text/x-python",
   "name": "python",
   "nbconvert_exporter": "python",
   "pygments_lexer": "ipython3",
   "version": "3.7.3"
  }
 },
 "nbformat": 4,
 "nbformat_minor": 5
}
