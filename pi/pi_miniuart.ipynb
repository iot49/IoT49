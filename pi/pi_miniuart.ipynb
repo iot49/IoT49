{
 "cells": [
  {
   "cell_type": "markdown",
   "id": "addressed-herald",
   "metadata": {},
   "source": [
    "# Pi3 mini-uart\n",
    "\n",
    "**Configure mini-uart (miniserial) for gpio use (disable console).**\n",
    "\n",
    "* [Official Documentation](https://www.raspberrypi.org/documentation/configuration/uart.md)\n",
    "* [Detailed Instructions](https://www.circuits.dk/setup-raspberry-pi-3-gpio-uart/)\n",
    "* Default Pi3 configuration:\n",
    "   * primary serial for BT @ /dev/ttyAMA0\n",
    "   * miniserial for console @ /dev/ttyS0, availabe on GPIO pins 8 & 10\n",
    "* mini UART features:\n",
    "   * 8 symbols deep FIFOs for receive and transmit.\n",
    "   * 7 or 8 bit operation.\n",
    "   * 1 start and 1 stop bit.\n",
    "   * No parities.\n",
    "   * Break generation.\n",
    "   * SW controlled RTS, SW readable CTS.\n",
    "   * Auto flow control with programmable FIFO level.\n",
    "   * Baudrate derived from system clock."
   ]
  },
  {
   "cell_type": "markdown",
   "id": "incorporate-wiring",
   "metadata": {},
   "source": [
    "## Enable mini UART for GPIO\n",
    "\n",
    "1. Enable: add `enable_uart=1` to `boot/config.txt`\n",
    "   * `sudo nano /boot/config.txt`\n",
    "2. Reboot & look for `/dev/serial0 -> ttyS0`\n",
    "   * `/dev/serial1 -> /dev/ttyAMA0` is used for BT"
   ]
  },
  {
   "cell_type": "markdown",
   "id": "modified-documentation",
   "metadata": {},
   "source": [
    "## Disable the Console\n",
    "\n",
    "For Raspberry Pi 3’s the command is referencing /dev/ttyS0:"
   ]
  },
  {
   "cell_type": "code",
   "execution_count": 1,
   "id": "cleared-davis",
   "metadata": {},
   "outputs": [],
   "source": [
    "!sudo systemctl stop serial-getty@ttyS0.service\n",
    "!sudo systemctl disable serial-getty@ttyS0.service"
   ]
  },
  {
   "cell_type": "code",
   "execution_count": 2,
   "id": "lesbian-danish",
   "metadata": {},
   "outputs": [
    {
     "name": "stdout",
     "output_type": "stream",
     "text": [
      "console=tty1 root=PARTUUID=a98a30b2-02 rootfstype=ext4 elevator=deadline fsck.repair=yes rootwait\n"
     ]
    }
   ],
   "source": [
    "# remove 'console=serial0,115200' from `/boot/cmdline.txt`\n",
    "\n",
    "%cat  /boot/cmdline.txt"
   ]
  },
  {
   "cell_type": "code",
   "execution_count": null,
   "id": "detailed-botswana",
   "metadata": {},
   "outputs": [],
   "source": [
    "!sudo reboot now"
   ]
  },
  {
   "cell_type": "markdown",
   "id": "identified-genre",
   "metadata": {},
   "source": [
    "## Tests\n",
    "\n",
    "Short RX to TX on header: https://pinout.xyz/"
   ]
  },
  {
   "cell_type": "code",
   "execution_count": 9,
   "id": "modified-specialist",
   "metadata": {},
   "outputs": [],
   "source": [
    "import serial, time\n",
    "\n",
    "baudrate = 9600\n",
    "baudrate = 115200\n",
    "baudrate = 4000_000\n",
    "\n",
    "with serial.Serial(\"/dev/serial0\", baudrate=baudrate, timeout=3.0) as dev:\n",
    "    for i in range(10):\n",
    "        dev.write(f\"{i} Hello world!\".encode())\n",
    "        time.sleep(0.1)\n",
    "        while dev.in_waiting:\n",
    "            rcv = dev.read(dev.in_waiting)\n",
    "            print(rcv.decode())"
   ]
  },
  {
   "cell_type": "code",
   "execution_count": 11,
   "id": "confused-habitat",
   "metadata": {},
   "outputs": [
    {
     "ename": "KeyboardInterrupt",
     "evalue": "",
     "output_type": "error",
     "traceback": [
      "\u001b[0;31m---------------------------------------------------------------------------\u001b[0m",
      "\u001b[0;31mKeyboardInterrupt\u001b[0m                         Traceback (most recent call last)",
      "\u001b[0;32m<ipython-input-11-930623db4062>\u001b[0m in \u001b[0;36m<module>\u001b[0;34m\u001b[0m\n\u001b[1;32m     12\u001b[0m         \u001b[0mdev\u001b[0m\u001b[0;34m.\u001b[0m\u001b[0mwrite\u001b[0m\u001b[0;34m(\u001b[0m\u001b[0mdata\u001b[0m\u001b[0;34m)\u001b[0m\u001b[0;34m\u001b[0m\u001b[0;34m\u001b[0m\u001b[0m\n\u001b[1;32m     13\u001b[0m         \u001b[0;32mwhile\u001b[0m \u001b[0mdev\u001b[0m\u001b[0;34m.\u001b[0m\u001b[0min_waiting\u001b[0m \u001b[0;34m<\u001b[0m \u001b[0mN\u001b[0m\u001b[0;34m:\u001b[0m\u001b[0;34m\u001b[0m\u001b[0;34m\u001b[0m\u001b[0m\n\u001b[0;32m---> 14\u001b[0;31m             \u001b[0mtime\u001b[0m\u001b[0;34m.\u001b[0m\u001b[0msleep\u001b[0m\u001b[0;34m(\u001b[0m\u001b[0;36m0.001\u001b[0m\u001b[0;34m)\u001b[0m\u001b[0;34m\u001b[0m\u001b[0;34m\u001b[0m\u001b[0m\n\u001b[0m\u001b[1;32m     15\u001b[0m         \u001b[0mrecv\u001b[0m \u001b[0;34m=\u001b[0m \u001b[0mdev\u001b[0m\u001b[0;34m.\u001b[0m\u001b[0mread\u001b[0m\u001b[0;34m(\u001b[0m\u001b[0mN\u001b[0m\u001b[0;34m)\u001b[0m\u001b[0;34m\u001b[0m\u001b[0;34m\u001b[0m\u001b[0m\n\u001b[1;32m     16\u001b[0m         \u001b[0;32mif\u001b[0m \u001b[0mrecv\u001b[0m \u001b[0;34m!=\u001b[0m \u001b[0mdata\u001b[0m\u001b[0;34m:\u001b[0m\u001b[0;34m\u001b[0m\u001b[0;34m\u001b[0m\u001b[0m\n",
      "\u001b[0;31mKeyboardInterrupt\u001b[0m: "
     ]
    }
   ],
   "source": [
    "import serial, os, time\n",
    "\n",
    "N = 4000\n",
    "\n",
    "baudrate = 115200\n",
    "baudrate = 1000_000\n",
    "baudrate = 9600\n",
    "\n",
    "with serial.Serial(\"/dev/serial0\", baudrate=baudrate, timeout=3.0) as dev:\n",
    "    for i in range(20000):\n",
    "        data = os.urandom(N)\n",
    "        dev.write(data)\n",
    "        while dev.in_waiting < N:\n",
    "            time.sleep(0.001)\n",
    "        recv = dev.read(N)\n",
    "        if recv != data:\n",
    "            print(f\"mismatch: {data} != {recv}\")\n",
    "        \n",
    "print(\"MATCH!\")"
   ]
  },
  {
   "cell_type": "markdown",
   "id": "tracked-overview",
   "metadata": {},
   "source": [
    "## Flow Control\n",
    "\n",
    "https://ethertubes.com/raspberry-pi-rts-cts-flow-control/"
   ]
  },
  {
   "cell_type": "markdown",
   "id": "professional-surgery",
   "metadata": {},
   "source": [
    "## GPIO"
   ]
  },
  {
   "cell_type": "code",
   "execution_count": 13,
   "id": "acquired-uganda",
   "metadata": {},
   "outputs": [
    {
     "name": "stdout",
     "output_type": "stream",
     "text": [
      "STM32 reset.\n"
     ]
    }
   ],
   "source": [
    "%%bash\n",
    "\n",
    "# reset (no boot mode)\n",
    "\n",
    "echo \"21\" > /sys/class/gpio/export\n",
    "echo \"27\" > /sys/class/gpio/export\n",
    "sleep 0.1\n",
    "echo \"out\" > /sys/class/gpio/gpio21/direction\n",
    "echo \"out\" > /sys/class/gpio/gpio27/direction\n",
    "# normal mode\n",
    "echo \"0\" >  /sys/class/gpio/gpio27/value\n",
    "sleep 0.1\n",
    "echo \"0\" >  /sys/class/gpio/gpio21/value\n",
    "sleep 0.5\n",
    "echo \"1\" >  /sys/class/gpio/gpio21/value\n",
    "echo \"21\" > /sys/class/gpio/unexport\n",
    "echo \"27\" > /sys/class/gpio/unexport\n",
    "\n",
    "echo \"STM32 reset.\""
   ]
  },
  {
   "cell_type": "code",
   "execution_count": 12,
   "id": "auburn-bride",
   "metadata": {},
   "outputs": [
    {
     "name": "stdout",
     "output_type": "stream",
     "text": [
      "STM32 in boot mode ...\n"
     ]
    }
   ],
   "source": [
    "%%bash\n",
    "\n",
    "# enter boot mode\n",
    "\n",
    "echo \"21\" > /sys/class/gpio/export\n",
    "echo \"27\" > /sys/class/gpio/export\n",
    "sleep 0.1\n",
    "echo \"out\" > /sys/class/gpio/gpio21/direction\n",
    "echo \"out\" > /sys/class/gpio/gpio27/direction\n",
    "# boot mode\n",
    "echo \"1\" >  /sys/class/gpio/gpio27/value\n",
    "sleep 0.1\n",
    "echo \"0\" >  /sys/class/gpio/gpio21/value\n",
    "sleep 2\n",
    "echo \"1\" >  /sys/class/gpio/gpio21/value\n",
    "echo \"21\" > /sys/class/gpio/unexport\n",
    "echo \"27\" > /sys/class/gpio/unexport\n",
    "\n",
    "echo \"STM32 in boot mode ...\""
   ]
  },
  {
   "cell_type": "code",
   "execution_count": 44,
   "id": "affiliated-disclaimer",
   "metadata": {},
   "outputs": [],
   "source": []
  },
  {
   "cell_type": "code",
   "execution_count": 45,
   "id": "capable-blackjack",
   "metadata": {},
   "outputs": [],
   "source": []
  },
  {
   "cell_type": "code",
   "execution_count": 2,
   "id": "infinite-compatibility",
   "metadata": {},
   "outputs": [
    {
     "name": "stdout",
     "output_type": "stream",
     "text": [
      "pi adm dialout cdrom sudo audio video plugdev games users input netdev bluetooth gpio i2c spi\n"
     ]
    }
   ],
   "source": [
    "!groups"
   ]
  },
  {
   "cell_type": "code",
   "execution_count": null,
   "id": "enabling-degree",
   "metadata": {},
   "outputs": [],
   "source": []
  }
 ],
 "metadata": {
  "kernelspec": {
   "display_name": "Python 3",
   "language": "python",
   "name": "python3"
  },
  "language_info": {
   "codemirror_mode": {
    "name": "ipython",
    "version": 3
   },
   "file_extension": ".py",
   "mimetype": "text/x-python",
   "name": "python",
   "nbconvert_exporter": "python",
   "pygments_lexer": "ipython3",
   "version": "3.7.3"
  },
  "toc-autonumbering": false
 },
 "nbformat": 4,
 "nbformat_minor": 5
}
