{
 "cells": [
  {
   "cell_type": "markdown",
   "id": "hispanic-palace",
   "metadata": {},
   "source": [
    "# Loglevel magic\n",
    "\n",
    "For debugging only.\n",
    "\n",
    "Logger output appears in the jupyter log (terminal if started from the command line, logs for docker)."
   ]
  },
  {
   "cell_type": "code",
   "execution_count": 1,
   "id": "excited-october",
   "metadata": {},
   "outputs": [
    {
     "name": "stdout",
     "output_type": "stream",
     "text": [
      "\u001b[0mLogger device_registry level set to CRITICAL\u001b[0m\n",
      "\u001b[0mLogger eval_rlist level set to DEBUG\u001b[0m\n",
      "\u001b[0mLogger eval_file_ops level set to WARNING\u001b[0m\n",
      "\u001b[0mLogger webrepl_device level set to INFO\u001b[0m\n",
      "\u001b[0mLogger                          Level\u001b[0m\n",
      "\u001b[0m\n",
      "\u001b[31mconcurrent.futures              ERROR\u001b[0m\n",
      "\u001b[31masyncio                         ERROR\u001b[0m\n",
      "\u001b[31mprompt_toolkit.buffer           ERROR\u001b[0m\n",
      "\u001b[31mparso.python.diff               ERROR\u001b[0m\n",
      "\u001b[31mparso.cache                     ERROR\u001b[0m\n",
      "\u001b[31mtornado.access                  ERROR\u001b[0m\n",
      "\u001b[31mtornado                         ERROR\u001b[0m\n",
      "\u001b[31mtornado.application             ERROR\u001b[0m\n",
      "\u001b[31mtornado.general                 ERROR\u001b[0m\n",
      "\u001b[31meval                            ERROR\u001b[0m\n",
      "\u001b[31mconfig_store                    ERROR\u001b[0m\n",
      "\u001b[31mdevice                          ERROR\u001b[0m\n",
      "\u001b[31mdiscover_serial                 ERROR\u001b[0m\n",
      "\u001b[36mzeroconf                        WARNING\u001b[0m\n",
      "\u001b[31mdiscover_mdns                   ERROR\u001b[0m\n",
      "\u001b[35mdevice_registry                 CRITICAL\u001b[0m\n",
      "\u001b[31miot-kernel                      ERROR\u001b[0m\n",
      "\u001b[31mwebsocket                       ERROR\u001b[0m\n",
      "\u001b[36mIPKernelApp                     WARNING\u001b[0m\n",
      "\u001b[32meval_rlist                      DEBUG\u001b[0m\n",
      "\u001b[36meval_file_ops                   WARNING\u001b[0m\n",
      "\u001b[34mwebrepl_device                  INFO\u001b[0m\n"
     ]
    }
   ],
   "source": [
    "%loglevel device_registry CRITICAL\n",
    "%loglevel eval_rlist DEBUG\n",
    "%loglevel eval_file_ops WARNING\n",
    "%loglevel webrepl_device INFO\n",
    "%loglevel"
   ]
  },
  {
   "cell_type": "code",
   "execution_count": null,
   "id": "incorrect-elephant",
   "metadata": {},
   "outputs": [],
   "source": []
  }
 ],
 "metadata": {
  "kernelspec": {
   "display_name": "IoT",
   "language": "python",
   "name": "iot_kernel"
  },
  "language_info": {
   "codemirror_mode": {
    "name": "python",
    "version": 3
   },
   "file_extension": ".py",
   "mimetype": "text/x-python",
   "name": "python",
   "pygments_lexer": "python3",
   "version": "3"
  }
 },
 "nbformat": 4,
 "nbformat_minor": 5
}
