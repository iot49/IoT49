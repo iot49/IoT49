{
 "cells": [
  {
   "cell_type": "markdown",
   "metadata": {},
   "source": [
    "# Flash STM32 Firmware\n",
    "\n",
    "Short B0 to 3.3V & **press RESET**\n",
    "\n",
    "![Pinout](figures/stm32f405-flash.png \"Pinout\")"
   ]
  },
  {
   "cell_type": "code",
   "execution_count": 1,
   "metadata": {},
   "outputs": [
    {
     "name": "stdout",
     "output_type": "stream",
     "text": [
      "\u001b[0mtest-stm32  serial:///dev/cu.usbmodem208E307542522  \u001b[0m\n",
      "\u001b[0mConnected to test-stm32 @ serial:///dev/cu.usbmodem208E307542522\u001b[0m\n"
     ]
    },
    {
     "name": "stderr",
     "output_type": "stream",
     "text": [
      "Device disconnected\u001b[0m\n"
     ]
    }
   ],
   "source": [
    "%discover\n",
    "%connect test-stm32\n",
    "\n",
    "# dfu mode\n",
    "# Note: first install - short B0 to 3.3V (see above)\n",
    "\n",
    "import pyb\n",
    "pyb.bootloader()"
   ]
  },
  {
   "cell_type": "markdown",
   "metadata": {},
   "source": [
    "Not sure why this is needed nor how to do this on Linux:\n",
    "\n",
    "![DFU device](figures/dfu.png \"DFU\")"
   ]
  },
  {
   "cell_type": "code",
   "execution_count": 2,
   "metadata": {},
   "outputs": [
    {
     "name": "stdout",
     "output_type": "stream",
     "text": [
      "Make sure dfu finds the device:\n",
      "Bus 000 Device 001: ID 1058:25a1 Western Digital Technologies, Inc. Elements 25A1  Serial: 57583131443439303446564B\n",
      "Bus 000 Device 002: ID 0547:3511 Anchor Chips Inc. USB3.0 Camera \n",
      "Bus 020 Device 001: ID 0bda:5411 Realtek Semiconductor Corp. 4-Port USB 2.0 Hub \n",
      "Bus 020 Device 004: ID 0bda:5411 Realtek Semiconductor Corp. 4-Port USB 2.0 Hub \n",
      "Bus 020 Device 055: ID 0483:df11 STMicroelectronics STM32  BOOTLOADER  Serial: 208E30754252\n",
      "Bus 020 Device 003: ID 046d:082d Logitech Inc. HD Pro Webcam C920  Serial: A768BBBF\n",
      "Bus 020 Device 002: ID 0bda:5411 Realtek Semiconductor Corp. 4-Port USB 2.0 Hub \n",
      "Bus 128 Device 000: ID 05ac:8103 Apple Inc. Headset  Serial: 000000000000\n",
      "Bus 128 Device 000: ID 05ac:8233 Apple Inc. Apple T2 Controller  Serial: 0000000000000000\n",
      "Bus 000 Device 001: ID 1d6b:CITR Linux Foundation USB 3.1 Bus \n",
      "Bus 001 Device 001: ID 1d6b:CITR Linux Foundation USB 3.1 Bus \n",
      "Bus 000 Device 001: ID 1d6b:0003 Linux Foundation 3.0 root hub \n",
      "Bus 000 Device 000: ID 05ac:8103 Apple Inc. Apple T2 Bus \n",
      "dfu-util 0.10\n",
      "\n",
      "Copyright 2005-2009 Weston Schmidt, Harald Welte and OpenMoko Inc.\n",
      "Copyright 2010-2020 Tormod Volden and Stefan Schmidt\n",
      "This program is Free Software and has ABSOLUTELY NO WARRANTY\n",
      "Please report bugs to http://sourceforge.net/p/dfu-util/tickets/\n",
      "\n",
      "Found DFU: [0483:df11] ver=2200, devnum=55, cfg=1, intf=0, path=\"20-1.4.4\", alt=3, name=\"@Device Feature/0xFFFF0000/01*004 e\", serial=\"208E30754252\"\n",
      "Found DFU: [0483:df11] ver=2200, devnum=55, cfg=1, intf=0, path=\"20-1.4.4\", alt=2, name=\"@OTP Memory /0x1FFF7800/01*512 e,01*016 e\", serial=\"208E30754252\"\n",
      "Found DFU: [0483:df11] ver=2200, devnum=55, cfg=1, intf=0, path=\"20-1.4.4\", alt=1, name=\"@Option Bytes  /0x1FFFC000/01*016 e\", serial=\"208E30754252\"\n",
      "Found DFU: [0483:df11] ver=2200, devnum=55, cfg=1, intf=0, path=\"20-1.4.4\", alt=0, name=\"@Internal Flash  /0x08000000/04*016Kg,01*064Kg,07*128Kg\", serial=\"208E30754252\"\n"
     ]
    },
    {
     "name": "stderr",
     "output_type": "stream",
     "text": [
      "2021-02-25 15:24:50.649 system_profiler[58571:2699037] SPUSBDevice: IOCreatePlugInInterfaceForService failed 0xe00002be\n",
      "2021-02-25 15:24:50.649 system_profiler[58571:2699037] SPUSBDevice: IOCreatePlugInInterfaceForService failed 0xe00002be\n",
      "/usr/local/bin/lsusb: line 89: 16#: invalid integer constant (error token is \"16#\")\n",
      "/usr/local/bin/lsusb: line 89: 16#: invalid integer constant (error token is \"16#\")\n"
     ]
    }
   ],
   "source": [
    "%%bash\n",
    "echo \"Make sure dfu finds the device:\"\n",
    "lsusb\n",
    "dfu-util --list"
   ]
  },
  {
   "cell_type": "markdown",
   "metadata": {},
   "source": [
    "## Flash Micropython"
   ]
  },
  {
   "cell_type": "code",
   "execution_count": 3,
   "metadata": {},
   "outputs": [
    {
     "name": "stdout",
     "output_type": "stream",
     "text": [
      "dfu-util 0.10\n",
      "\n",
      "Copyright 2005-2009 Weston Schmidt, Harald Welte and OpenMoko Inc.\n",
      "Copyright 2010-2020 Tormod Volden and Stefan Schmidt\n",
      "This program is Free Software and has ABSOLUTELY NO WARRANTY\n",
      "Please report bugs to http://sourceforge.net/p/dfu-util/tickets/\n",
      "\n",
      "Match vendor ID from file: 0483\n",
      "Match product ID from file: df11\n",
      "Opening DFU capable USB device...\n",
      "ID 0483:df11\n",
      "Run-time device DFU version 011a\n",
      "Claiming USB DFU Interface...\n",
      "Setting Alternate Setting #0 ...\n",
      "Determining device status: state = dfuERROR, status = 10\n",
      "dfuERROR, clearing status\n",
      "Determining device status: state = dfuIDLE, status = 0\n",
      "dfuIDLE, continuing\n",
      "DFU mode device DFU version 011a\n",
      "Device returned transfer size 2048\n",
      "DfuSe interface name: \"Internal Flash  \"\n",
      "file contains 1 DFU images\n",
      "Please note that the next version of dfu-util will automatically\n",
      "set alternate interfaces based on the DfuSe file images!\n",
      "parsing DFU image 1\n",
      "Target name: ST...\n",
      "image for alternate setting 0, (2 elements, total size = 355768)\n",
      "parsing element 1, address = 0x08000000, size = 14792\n",
      "Erase   \t[=========================] 100%        14792 bytes\n",
      "Erase    done.\n",
      "Download\t[=========================] 100%        14792 bytes\n",
      "Download done.\n",
      "parsing element 2, address = 0x08020000, size = 340960\n",
      "Erase   \t[=========================] 100%       340960 bytes\n",
      "Erase    done.\n",
      "Download\t[=========================] 100%       340960 bytes\n",
      "Download done.\n",
      "Done parsing DfuSe file\n"
     ]
    }
   ],
   "source": [
    "%%bash\n",
    "\n",
    "cd $IOT/iot-bin/micropython\n",
    "\n",
    "# be patient! takes about a minute\n",
    "# no output before operation is complete                                            \n",
    "\n",
    "dfu-util -a 0 -D stm32-ADAFRUIT_F405_EXPRESS-firmware.dfu"
   ]
  },
  {
   "cell_type": "code",
   "execution_count": 13,
   "metadata": {},
   "outputs": [
    {
     "name": "stdout",
     "output_type": "stream",
     "text": [
      "\u001b[0mstm32  serial:///dev/cu.usbmodem2062307A42522  \u001b[0m\n"
     ]
    }
   ],
   "source": [
    "%discover"
   ]
  },
  {
   "cell_type": "code",
   "execution_count": null,
   "metadata": {},
   "outputs": [],
   "source": []
  }
 ],
 "metadata": {
  "kernelspec": {
   "display_name": "IoT",
   "language": "python",
   "name": "iot_kernel"
  },
  "language_info": {
   "codemirror_mode": {
    "name": "python",
    "version": 3
   },
   "file_extension": ".py",
   "mimetype": "text/x-python",
   "name": "python",
   "pygments_lexer": "python3",
   "version": "3"
  }
 },
 "nbformat": 4,
 "nbformat_minor": 4
}
