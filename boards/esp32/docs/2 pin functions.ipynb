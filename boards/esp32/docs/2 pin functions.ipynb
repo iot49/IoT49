{
 "cells": [
  {
   "cell_type": "markdown",
   "id": "6a0d4d10",
   "metadata": {},
   "source": [
    "# ESP32 Pin Functions\n",
    "\n",
    "* [ESP32 Pinout Reference](https://randomnerdtutorials.com/esp32-pinout-reference-gpios/)\n",
    "* [ESP32 Boot Mode Selection](https://github.com/espressif/esptool/wiki/ESP32-Boot-Mode-Selection)\n",
    "* [Pin Diagram (pdf)](figures/huzzah32-pinout.pdf)\n",
    "\n",
    "![Pin Diagram](figures/huzzah32-pinout.png)"
   ]
  },
  {
   "cell_type": "code",
   "execution_count": null,
   "id": "8630a9db",
   "metadata": {},
   "outputs": [],
   "source": []
  }
 ],
 "metadata": {
  "kernelspec": {
   "display_name": "IoT",
   "language": "python",
   "name": "iot_kernel"
  },
  "language_info": {
   "codemirror_mode": {
    "name": "python",
    "version": 3
   },
   "file_extension": ".py",
   "mimetype": "text/x-python",
   "name": "python",
   "pygments_lexer": "python3",
   "version": "3"
  }
 },
 "nbformat": 4,
 "nbformat_minor": 5
}
