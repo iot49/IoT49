{
 "cells": [
  {
   "cell_type": "markdown",
   "metadata": {},
   "source": [
    "# Flash STM32 Firmware\n",
    "\n",
    "Short B0 to 3.3V & **press RESET**\n",
    "\n",
    "![Pinout](figures/stm32f405-flash.png \"Pinout\")"
   ]
  },
  {
   "cell_type": "code",
   "execution_count": 1,
   "metadata": {},
   "outputs": [
    {
     "name": "stdout",
     "output_type": "stream",
     "text": [
      "\u001b[0mtest-stm32  serial:///dev/cu.usbmodem208E307542522  \u001b[0m\n",
      "\u001b[0mConnected to test-stm32 @ serial:///dev/cu.usbmodem208E307542522\u001b[0m\n"
     ]
    },
    {
     "name": "stderr",
     "output_type": "stream",
     "text": [
      "Device disconnected\u001b[0m\n"
     ]
    }
   ],
   "source": [
    "%discover\n",
    "%connect test-stm32\n",
    "\n",
    "# dfu mode\n",
    "# Note: first install - short B0 to 3.3V (see above)\n",
    "\n",
    "import pyb\n",
    "pyb.bootloader()"
   ]
  },
  {
   "cell_type": "markdown",
   "metadata": {},
   "source": [
    "Not sure why this is needed nor how to do this on Linux:\n",
    "\n",
    "![DFU device](figures/dfu.png \"DFU\")"
   ]
  },
  {
   "cell_type": "code",
   "execution_count": 1,
   "metadata": {},
   "outputs": [
    {
     "name": "stdout",
     "output_type": "stream",
     "text": [
      "Make sure dfu finds the device:\u001b[0m\n",
      "dfu-util 0.10\u001b[0m\n",
      "\u001b[0m\n",
      "Copyright 2005-2009 Weston Schmidt, Harald Welte and OpenMoko Inc.\u001b[0m\n",
      "Copyright 2010-2020 Tormod Volden and Stefan Schmidt\u001b[0m\n",
      "This program is Free Software and has ABSOLUTELY NO WARRANTY\u001b[0m\n",
      "Please report bugs to http://sourceforge.net/p/dfu-util/tickets/\u001b[0m\n",
      "\u001b[0m\n"
     ]
    }
   ],
   "source": [
    "%%bash\n",
    "echo \"Make sure dfu finds the device:\"\n",
    "# lsusb\n",
    "dfu-util --list"
   ]
  },
  {
   "cell_type": "markdown",
   "metadata": {},
   "source": [
    "## Flash Micropython"
   ]
  },
  {
   "cell_type": "code",
   "execution_count": 1,
   "metadata": {},
   "outputs": [
    {
     "name": "stdout",
     "output_type": "stream",
     "text": [
      "dfu-util 0.10\u001b[0m\n",
      "\u001b[0m\n",
      "Copyright 2005-2009 Weston Schmidt, Harald Welte and OpenMoko Inc.\u001b[0m\n",
      "Copyright 2010-2020 Tormod Volden and Stefan Schmidt\u001b[0m\n",
      "This program is Free Software and has ABSOLUTELY NO WARRANTY\u001b[0m\n",
      "Please report bugs to http://sourceforge.net/p/dfu-util/tickets/\u001b[0m\n",
      "\u001b[0m\n",
      "Match vendor ID from file: 0483\u001b[0m\n",
      "Match product ID from file: df11\u001b[0m\n",
      "dfu-util: No DFU capable USB device available\u001b[0m\n"
     ]
    }
   ],
   "source": [
    "%%bash\n",
    "\n",
    "cd $IOT/micropython/ports/stm32/build-MOTOR_HAT\n",
    "\n",
    "# be patient! takes about a minute\n",
    "# no output before operation is complete                                            \n",
    "\n",
    "dfu-util -a 0 -D firmware.dfu"
   ]
  },
  {
   "cell_type": "code",
   "execution_count": 13,
   "metadata": {},
   "outputs": [
    {
     "name": "stdout",
     "output_type": "stream",
     "text": [
      "\u001b[0mstm32  serial:///dev/cu.usbmodem2062307A42522  \u001b[0m\n"
     ]
    }
   ],
   "source": [
    "%discover"
   ]
  },
  {
   "cell_type": "code",
   "execution_count": null,
   "metadata": {},
   "outputs": [],
   "source": []
  }
 ],
 "metadata": {
  "kernelspec": {
   "display_name": "IoT",
   "language": "python",
   "name": "iot_kernel"
  },
  "language_info": {
   "codemirror_mode": {
    "name": "python",
    "version": 3
   },
   "file_extension": ".py",
   "mimetype": "text/x-python",
   "name": "python",
   "pygments_lexer": "python3",
   "version": "3"
  }
 },
 "nbformat": 4,
 "nbformat_minor": 4
}
