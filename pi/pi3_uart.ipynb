{
 "cells": [
  {
   "cell_type": "markdown",
   "id": "b3d557a6",
   "metadata": {},
   "source": [
    "# Rpi serial ports\n",
    "\n",
    "* default:\n",
    "   * hardware serial for BT\n",
    "   * miniserial for console\n",
    "   \n",
    "* swap these:\n",
    "   * [Official Documentation](https://www.raspberrypi.org/documentation/configuration/uart.md)\n",
    "   * [Detailed Instructions](https://www.circuits.dk/setup-raspberry-pi-3-gpio-uart/)\n"
   ]
  },
  {
   "cell_type": "markdown",
   "id": "088c516e",
   "metadata": {},
   "source": [
    "## 1) Remap Serial Ports (BT uses miniuart, Pi header uses main uart)\n",
    "\n",
    "Note: also fix Pi clock frequency for BT to work (havn't done that)."
   ]
  },
  {
   "cell_type": "code",
   "execution_count": 1,
   "id": "059d9e9e",
   "metadata": {},
   "outputs": [
    {
     "name": "stdout",
     "output_type": "stream",
     "text": [
      "# core_freq_min=500\n",
      "dtoverlay=miniuart-bt\n",
      "\n",
      "[pi4]\n",
      "# Enable DRM VC4 V3D driver on top of the dispmanx display stack\n",
      "dtoverlay=vc4-fkms-v3d\n",
      "max_framebuffers=2\n",
      "\n",
      "[all]\n",
      "#dtoverlay=vc4-fkms-v3d\n"
     ]
    }
   ],
   "source": [
    "!tail /boot/config.txt"
   ]
  },
  {
   "cell_type": "code",
   "execution_count": 4,
   "id": "da55e3f7",
   "metadata": {},
   "outputs": [
    {
     "name": "stdout",
     "output_type": "stream",
     "text": [
      "/dev/serial0  /dev/serial1\n"
     ]
    }
   ],
   "source": [
    "!ls /dev/serial*"
   ]
  },
  {
   "cell_type": "markdown",
   "id": "1839e8a3",
   "metadata": {},
   "source": [
    "Pi 3, Pi Zero W: serial0->ttyS0 points to GPIO pins 8, 10.\n",
    "\n",
    "So where possible refer to the serial port via it’s alias of “serial0” and your code should work on both Raspberry Pi 3 and other Raspberry Pi’s."
   ]
  },
  {
   "cell_type": "code",
   "execution_count": 2,
   "id": "9538370e",
   "metadata": {},
   "outputs": [
    {
     "name": "stdout",
     "output_type": "stream",
     "text": [
      "lrwxrwxrwx 1 root root          7 Mar  3 10:02 /dev/serial0 -> ttyAMA0\n",
      "lrwxrwxrwx 1 root root          5 Mar  3 10:02 /dev/serial1 -> ttyS0\n",
      "crw-rw---- 1 root dialout 204, 64 Mar  3 10:02 /dev/ttyAMA0\n",
      "crw-rw---- 1 root dialout   4, 64 Mar  3 10:02 /dev/ttyS0\n"
     ]
    }
   ],
   "source": [
    "!ls -l /dev/serial* /dev/ttyS* /dev/ttyA*"
   ]
  },
  {
   "cell_type": "markdown",
   "id": "9b558033",
   "metadata": {},
   "source": [
    "## 2) Disable the Console\n",
    "\n",
    "By default the Raspberry Pi uses the serial port for the “console” login and via a software service called “getty”.\n",
    "If you are using the serial port for anything other than the console you need to disable it. This will be slightly different depending on whether you are running a Raspberry Pi 3 or not.\n",
    "For non Raspberry Pi 3 machines, remember it’s /dev/ttyAMA0 that is linked to the getty (console) service.\n",
    "\n",
    "For Raspberry Pi 3’s the command is referencing /dev/ttyS0:"
   ]
  },
  {
   "cell_type": "code",
   "execution_count": 3,
   "id": "f985382a",
   "metadata": {},
   "outputs": [],
   "source": [
    "!sudo systemctl stop serial-getty@ttyS0.service\n",
    "!sudo systemctl disable serial-getty@ttyS0.service"
   ]
  },
  {
   "cell_type": "code",
   "execution_count": 4,
   "id": "724567e0",
   "metadata": {},
   "outputs": [
    {
     "name": "stdout",
     "output_type": "stream",
     "text": [
      "console=tty1 root=PARTUUID=4c969853-02 rootfstype=ext4 elevator=deadline fsck.repair=yes rootwait\n"
     ]
    }
   ],
   "source": [
    "# remove 'console=serial0,115200' from `/boot/cmdline.txt`\n",
    "\n",
    "%cat  /boot/cmdline.txt"
   ]
  },
  {
   "cell_type": "code",
   "execution_count": null,
   "id": "9a9afa95",
   "metadata": {},
   "outputs": [],
   "source": [
    "!sudo reboot now"
   ]
  },
  {
   "cell_type": "markdown",
   "id": "91107868",
   "metadata": {},
   "source": [
    "## 3) Test"
   ]
  },
  {
   "cell_type": "code",
   "execution_count": null,
   "id": "c7bce5ab",
   "metadata": {},
   "outputs": [],
   "source": [
    "import serial, time\n",
    "\n",
    "with serial.Serial(\"/dev/serial0\", baudrate=9600, timeout=3.0) as dev:\n",
    "    while True:\n",
    "        dev.write(b\"Hello world!\")\n",
    "        rcv = dev.read(10)\n",
    "        print(rcv)"
   ]
  },
  {
   "cell_type": "code",
   "execution_count": null,
   "id": "2a771a26",
   "metadata": {},
   "outputs": [],
   "source": []
  }
 ],
 "metadata": {
  "kernelspec": {
   "display_name": "Python 3",
   "language": "python",
   "name": "python3"
  },
  "language_info": {
   "codemirror_mode": {
    "name": "ipython",
    "version": 3
   },
   "file_extension": ".py",
   "mimetype": "text/x-python",
   "name": "python",
   "nbconvert_exporter": "python",
   "pygments_lexer": "ipython3",
   "version": "3.8.2"
  },
  "toc-autonumbering": false
 },
 "nbformat": 4,
 "nbformat_minor": 5
}
