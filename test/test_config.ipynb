{
 "cells": [
  {
   "cell_type": "markdown",
   "id": "particular-cuisine",
   "metadata": {},
   "source": [
    "# Config"
   ]
  },
  {
   "cell_type": "code",
   "execution_count": 1,
   "id": "failing-supplement",
   "metadata": {},
   "outputs": [
    {
     "name": "stdout",
     "output_type": "stream",
     "text": [
      "None\n"
     ]
    }
   ],
   "source": [
    "from iot_device import Config\n",
    "\n",
    "p = Config.get_package('secrets2')\n",
    "\n",
    "print(p)"
   ]
  },
  {
   "cell_type": "code",
   "execution_count": 2,
   "id": "covered-teaching",
   "metadata": {},
   "outputs": [
    {
     "name": "stdout",
     "output_type": "stream",
     "text": [
      "DeviceConfig for power_test ( 24:0a:c4:12:87:7c)\n",
      "power_test\n",
      "\n",
      "DeviceConfig for ble_uart_test (24:0a:c4:12:87:7c)\n",
      "esp32-robot\n",
      "\n",
      "DeviceConfig for robot-argon (cf:ec:09:07:44:72:94:6f)\n",
      "argon\n",
      "\n",
      "DeviceConfig for test-argon (65:45:95:1c:95:25:2a:25)\n",
      "secrets\n",
      "uasyncio\n",
      "airlift-client\n",
      "mp-server\n",
      "boards/argon/code-esp32\n",
      "boards/argon/code\n",
      "\n",
      "DeviceConfig for test-argon-cop (30:ae:a4:d1:7c:40)\n",
      "secrets\n",
      "boards/argon/code-esp32\n",
      "\n",
      "DeviceConfig for test-esp32 (30:ae:a4:30:84:34)\n",
      "secrets\n",
      "mp-server\n",
      "esp32\n",
      "\n",
      "DeviceConfig for test-stm32 (27:00:55:00:09:50:52:42:4e:30:39:20)\n",
      "boards/stm32/code/boot\n",
      "secrets\n",
      "airlift-client\n",
      "mp-server\n",
      "boards/stm32/code/base\n",
      "\n",
      "DeviceConfig for test-stm32-cop (30:ae:a4:1a:2c:3c)\n",
      "secrets\n",
      "airlift-server\n",
      "mp-server\n",
      "boards/stm32/code-esp32\n",
      "\n",
      "DeviceConfig for test-samd (28:eb:07:5a:32:43:37:53:20:20:20:31:05:20:0f:ff)\n",
      "secrets\n",
      "mp-server\n",
      "airlift-client\n",
      "airlift-server\n",
      "boards/samd51/code\n",
      "\n",
      "DeviceConfig for my_esp (30:ae:a4:28:39:f1)\n",
      "secrets\n",
      "esp32\n",
      "\n",
      "DeviceConfig for robot-stm (2d:00:49:00:09:50:52:42:4e:30:39:20)\n",
      "stm32-boot\n",
      "stm32\n",
      "bno055\n",
      "vl53l0x\n",
      "vl53l1x\n",
      "pystone\n",
      "\n",
      "DeviceConfig for stm32 (2c:00:29:00:09:50:52:42:4e:30:39:20)\n",
      "stm32-boot\n",
      "stm32\n",
      "bno055\n",
      "vl53l0x\n",
      "vl53l1x\n",
      "pystone\n",
      "\n",
      "DeviceConfig for robot-remote (30:ae:a4:28:39:f0)\n",
      "esp32-robot\n",
      "\n",
      "DeviceConfig for robot-remote-old (30:ae:a4:1a:2a:10)\n",
      "esp32-robot\n",
      "\n"
     ]
    }
   ],
   "source": [
    "for dev in Config.get_device_configs().values():\n",
    "    print(dev)\n",
    "    for p in dev.get_packages():\n",
    "        print(p)\n",
    "    print()"
   ]
  },
  {
   "cell_type": "code",
   "execution_count": 3,
   "id": "portable-burner",
   "metadata": {},
   "outputs": [
    {
     "name": "stdout",
     "output_type": "stream",
     "text": [
      "wifi_ssid = TPA\n",
      "wifi_pwd = TurbenThal\n",
      "tz_offset = -28800\n",
      "mp_pwd = #$&*(98a7D$8{9hS\n",
      "webrepl_pwd = webrpwd\n",
      "openweathermap_apiid = 1c336ac61add419fe431d32b73af8f2b\n",
      "iot49 /Users/boser/Dropbox/Documents/Projects/IoT/iot49-dev\n",
      "wifi_ssid TPA\n",
      "wifi None\n",
      "wifi_default foo\n",
      "mp_pwd #$&*(98a7D$8{9hS\n"
     ]
    }
   ],
   "source": [
    "for k,v in Config.get_attributes().items():\n",
    "    print(f\"{k} = {v}\")\n",
    "\n",
    "print(\"iot49\", Config.iot49_dir())\n",
    "print(\"wifi_ssid\", Config.get_attr('wifi_ssid'))\n",
    "print(\"wifi\", Config.get_attr('wifi'))\n",
    "print(\"wifi_default\", Config.get_attr('wifi', 'foo'))\n",
    "print(\"mp_pwd\", Config.get_attr('mp_pwd'))"
   ]
  },
  {
   "cell_type": "code",
   "execution_count": 5,
   "id": "bottom-blowing",
   "metadata": {},
   "outputs": [
    {
     "name": "stdout",
     "output_type": "stream",
     "text": [
      "secrets:        secrets\n",
      "airlift_server: None\n",
      "esp32\n",
      "ble32\n",
      "power_test\n",
      "argon\n",
      "stm32-boot\n",
      "stm32\n",
      "esp32-robot\n",
      "secrets\n",
      "airlift-client\n",
      "airlift-server\n",
      "mp-server\n",
      "blinka\n",
      "uasyncio\n",
      "bno055\n",
      "vl53l0x\n",
      "vl53l1x\n",
      "adafruit-circuitpython-ble\n",
      "pystone\n"
     ]
    }
   ],
   "source": [
    "print('secrets:       ', Config.get_package('secrets'))\n",
    "print('airlift_server:', Config.get_package('airlift_server'))\n",
    "\n",
    "for p in Config.get_packages().values():\n",
    "    print(p.name)"
   ]
  },
  {
   "cell_type": "code",
   "execution_count": 6,
   "id": "turkish-neutral",
   "metadata": {},
   "outputs": [
    {
     "name": "stdout",
     "output_type": "stream",
     "text": [
      "DeviceConfig for power_test ( 24:0a:c4:12:87:7c)\n",
      "DeviceConfig for ble_uart_test (24:0a:c4:12:87:7c)\n",
      "DeviceConfig for robot-argon (cf:ec:09:07:44:72:94:6f)\n",
      "DeviceConfig for test-argon (65:45:95:1c:95:25:2a:25)\n",
      "DeviceConfig for test-argon-cop (30:ae:a4:d1:7c:40)\n",
      "DeviceConfig for test-esp32 (30:ae:a4:30:84:34)\n",
      "DeviceConfig for test-stm32 (27:00:55:00:09:50:52:42:4e:30:39:20)\n",
      "DeviceConfig for test-stm32-cop (30:ae:a4:1a:2c:3c)\n",
      "DeviceConfig for test-samd (28:eb:07:5a:32:43:37:53:20:20:20:31:05:20:0f:ff)\n",
      "DeviceConfig for my_esp (30:ae:a4:28:39:f1)\n",
      "DeviceConfig for robot-stm (2d:00:49:00:09:50:52:42:4e:30:39:20)\n",
      "DeviceConfig for stm32 (2c:00:29:00:09:50:52:42:4e:30:39:20)\n",
      "DeviceConfig for robot-remote (30:ae:a4:28:39:f0)\n",
      "DeviceConfig for robot-remote-old (30:ae:a4:1a:2a:10)\n"
     ]
    }
   ],
   "source": [
    "for dev in Config.get_device_configs().values():\n",
    "    print(dev)\n",
    "    if False:\n",
    "        print(\"------- packages\", dev.get_packages())\n",
    "        for p in dev.get_packages():\n",
    "            print(p)\n",
    "        print()"
   ]
  },
  {
   "cell_type": "code",
   "execution_count": 7,
   "id": "fallen-madness",
   "metadata": {},
   "outputs": [
    {
     "data": {
      "text/plain": [
       "<DeviceConfig at 0x7fb6f87286a0>"
      ]
     },
     "execution_count": 7,
     "metadata": {},
     "output_type": "execute_result"
    }
   ],
   "source": [
    "Config.get_device_config('27:00:55:00:09:50:52:42:4e:30:39:20')"
   ]
  }
 ],
 "metadata": {
  "kernelspec": {
   "display_name": "Python 3",
   "language": "python",
   "name": "python3"
  },
  "language_info": {
   "codemirror_mode": {
    "name": "ipython",
    "version": 3
   },
   "file_extension": ".py",
   "mimetype": "text/x-python",
   "name": "python",
   "nbconvert_exporter": "python",
   "pygments_lexer": "ipython3",
   "version": "3.8.2"
  }
 },
 "nbformat": 4,
 "nbformat_minor": 5
}
