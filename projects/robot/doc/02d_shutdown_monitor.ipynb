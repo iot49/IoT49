{
 "cells": [
  {
   "cell_type": "markdown",
   "id": "instant-atlanta",
   "metadata": {},
   "source": [
    "# Shutdown Monitor\n",
    "\n",
    "Shutdown pi and power off when MOTOR_HAT button is pressed."
   ]
  },
  {
   "cell_type": "code",
   "execution_count": null,
   "id": "cooperative-webmaster",
   "metadata": {},
   "outputs": [],
   "source": [
    "# verify supervisor calls\n",
    "\n",
    "import os, requests\n",
    "\n",
    "# blink pi green light for 15 seconds\n",
    "def blink():\n",
    "    supervisor_ip = os.getenv(\"BALENA_SUPERVISOR_ADDRESS\")\n",
    "    api_key = os.getenv(\"BALENA_SUPERVISOR_API_KEY\")\n",
    "    url = f\"{supervisor_ip}/v1/blink?apikey={api_key}\"\n",
    "    headers = { 'Content-Type': 'application/json' }\n",
    "    requests.post(url=url, headers=headers)\n",
    "    \n",
    "# effectively \"sudo halt\"\n",
    "def shutdown():\n",
    "    supervisor_ip = os.getenv(\"BALENA_SUPERVISOR_ADDRESS\")\n",
    "    api_key = os.getenv(\"BALENA_SUPERVISOR_API_KEY\")\n",
    "    url = f\"{supervisor_ip}/v1/shutdown?apikey={api_key}\"\n",
    "    headers = { 'Content-Type': 'application/json' }\n",
    "    requests.post(url=url, headers=headers)\n",
    "\n",
    "blink()"
   ]
  },
  {
   "cell_type": "code",
   "execution_count": 15,
   "id": "trying-passenger",
   "metadata": {},
   "outputs": [
    {
     "name": "stdout",
     "output_type": "stream",
     "text": [
      "/Users/boser/Dropbox/Documents/Projects/IoT/iot49-dev/projects/robot/shutdown_monitor.py\n"
     ]
    }
   ],
   "source": [
    "import os\n",
    "\n",
    "dest = os.getenv('IOT49')\n",
    "print(dest)"
   ]
  },
  {
   "cell_type": "code",
   "execution_count": 16,
   "id": "successful-accident",
   "metadata": {},
   "outputs": [
    {
     "name": "stdout",
     "output_type": "stream",
     "text": [
      "Writing /Users/boser/Dropbox/Documents/Projects/IoT/iot49-dev/projects/robot/shutdown_monitor.py\n"
     ]
    }
   ],
   "source": [
    "%%writefile $dest\n",
    "#!/usr/bin/env python\n",
    "\n",
    "# monitor shutdown button (GPIO13)\n",
    "# sudo halt & turn off power when pressed\n",
    "\n",
    "from iot_device.pydevice import Pydevice\n",
    "from gpiozero import Button\n",
    "from serial import Serial\n",
    "import os, requests, time\n",
    "\n",
    "# sudo shutdown (supervisor call)\n",
    "def shutdown():\n",
    "    print(\"sudo halt\")\n",
    "    supervisor_ip = os.getenv(\"BALENA_SUPERVISOR_ADDRESS\")\n",
    "    api_key = os.getenv(\"BALENA_SUPERVISOR_API_KEY\")\n",
    "    url = f\"{supervisor_ip}/v1/shutdown?apikey={api_key}\"\n",
    "    headers = { 'Content-Type': 'application/json' }\n",
    "    requests.post(url=url, headers=headers)\n",
    "\n",
    "# run code on stm32\n",
    "def exec_no_follow(cmd, dev='/dev/ttyAMA1'):\n",
    "    with Serial(dev, 115200, timeout=0.5, write_timeout=2, exclusive= True) as serial:\n",
    "        pyd = Pydevice(serial)\n",
    "        pyd.enter_raw_repl()\n",
    "        pyd.exec_raw_no_follow(cmd)\n",
    "        time.sleep(0.2)\n",
    "        while serial.in_waiting:\n",
    "            data = serial.read(serial.in_waiting)\n",
    "            try:\n",
    "                data = data.decode()\n",
    "            except:\n",
    "                pass\n",
    "            print(f\"*** MCU: {data}\")\n",
    "            time.sleep(0.1)\n",
    "\n",
    "# monitor pi poweroff pin (AUX=GPIO16) and cut 5V supply when low\n",
    "def stm32_shutdown_monitor():\n",
    "    print(\"stm32_shutdown_monitor\")\n",
    "    exec_no_follow(\n",
    "f\"\"\"\n",
    "from pyb import Pin\n",
    "from time import sleep\n",
    "\n",
    "# wait for pi to signal it's down\n",
    "power_off = Pin('AUX', mode=Pin.IN, pull=Pin.PULL_NONE)\n",
    "while power_off.value() == 1:\n",
    "    pass\n",
    "\n",
    "# just for good measure\n",
    "sleep(1)\n",
    "\n",
    "# declaring as input first sets the initial value after configuring as output\n",
    "shut_dn = Pin('PWR_EN', mode=Pin.IN, pull=Pin.PULL_UP)\n",
    "shut_dn.value(1)\n",
    "shut_dn = Pin('PWR_EN', mode=Pin.OUT_OD)\n",
    "shut_dn.value(0)\n",
    "\n",
    "# power is cut - we are dead!\n",
    "\"\"\")\n",
    "    \n",
    "\n",
    "# callback when shutdown button pressed\n",
    "def shut_down_pi():\n",
    "    print(\"shut_down_pi\")\n",
    "    stm32_shutdown_monitor()\n",
    "    shutdown()\n",
    "\n",
    "# use API_KEY as indication that we should monitor shutdown ...\n",
    "# (nothing happens if GPIO13 is not connected)\n",
    "if os.getenv(\"BALENA_SUPERVISOR_API_KEY\"):\n",
    "    # wait for MOTOR_HAT power button press (GPIO13)\n",
    "    with Button(13, pull_up=True, bounce_time=0.1) as shut_dn:\n",
    "        shut_dn.when_pressed = shut_down_pi \n",
    "        # do this forever\n",
    "        while True:\n",
    "            # print(\"napping ...\")\n",
    "            time.sleep(60)"
   ]
  }
 ],
 "metadata": {
  "kernelspec": {
   "display_name": "Python 3",
   "language": "python",
   "name": "python3"
  },
  "language_info": {
   "codemirror_mode": {
    "name": "ipython",
    "version": 3
   },
   "file_extension": ".py",
   "mimetype": "text/x-python",
   "name": "python",
   "nbconvert_exporter": "python",
   "pygments_lexer": "ipython3",
   "version": "3.8.2"
  }
 },
 "nbformat": 4,
 "nbformat_minor": 5
}
