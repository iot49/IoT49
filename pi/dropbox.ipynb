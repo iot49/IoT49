{
 "cells": [
  {
   "cell_type": "markdown",
   "id": "accurate-oriental",
   "metadata": {},
   "source": [
    "# Backup to Dropbox (~/iot49)\n",
    "\n",
    "```bash\n",
    "wget https://raw.githubusercontent.com/andreafabrizi/Dropbox-Uploader/master/dropbox_uploader.sh -L\n",
    "chmod +x ~/dropbox_uploader.sh\n",
    "\n",
    "cat > ~/backup.sh << EOF\n",
    "#!/bin/bash\n",
    "\n",
    "DROPBOX_DST=\"/IoT49-Backup/\\$(date +\"%Y\")\" \n",
    "NOW=\\$(date +\"%Y-%m-%d_%H-%M-%S\")\n",
    "DST=\"tmp-iot49-backup-\\$NOW.tgz\"\n",
    "\n",
    "echo now \"\\$NOW\"\n",
    "\n",
    "echo -e \"Creating snapshot of iot49\"\n",
    "tar cfz \"\\$DST\" ~/iot49\n",
    "\n",
    "echo -e \"Uploading to Dropbox\"\n",
    "~/dropbox_uploader.sh upload \"\\$DST\" \"\\$DROPBOX_DST/\\$NOW.tgz\"\n",
    "\n",
    "rm \"\\$DST\"\n",
    "echo -e \"Done\"\n",
    "EOF\n",
    "\n",
    "chmod +x ~/backup.sh\n",
    "```\n",
    "\n",
    "From the terminal run\n",
    "\n",
    "```bash\n",
    "~/dropbox_uploader.sh\n",
    "```\n",
    "\n",
    "and follow the instructions to create a Dropbox app `iot49-backup`.\n",
    "\n",
    "Then run\n",
    "\n",
    "```bash\n",
    "~/.backup.sh\n",
    "```\n",
    "\n",
    "to backup ~/iot49. On dropbox the backups will be in the `Apps/iot49-backup` folder."
   ]
  }
 ],
 "metadata": {
  "kernelspec": {
   "display_name": "Python 3",
   "language": "python",
   "name": "python3"
  },
  "language_info": {
   "codemirror_mode": {
    "name": "ipython",
    "version": 3
   },
   "file_extension": ".py",
   "mimetype": "text/x-python",
   "name": "python",
   "nbconvert_exporter": "python",
   "pygments_lexer": "ipython3",
   "version": "3.7.3"
  }
 },
 "nbformat": 4,
 "nbformat_minor": 5
}
