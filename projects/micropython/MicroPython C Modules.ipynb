{
 "cells": [
  {
   "cell_type": "markdown",
   "metadata": {},
   "source": [
    "# MicroPython C Modules"
   ]
  },
  {
   "cell_type": "markdown",
   "metadata": {},
   "source": [
    "* [C-modules docs](https://readthedocs.org/projects/micropython-usermod/downloads/pdf/latest/)\n",
    "* [C-stub generator](https://github.com/pazzarpj/micropython-ustubby)"
   ]
  },
  {
   "cell_type": "code",
   "execution_count": 1,
   "metadata": {},
   "outputs": [
    {
     "name": "stdout",
     "output_type": "stream",
     "text": [
      "//Adds two integers\n",
      "//:param a:\n",
      "//:param b:\n",
      "//:return:a + b\n",
      "STATIC mp_obj_t __main___add_ints(mp_obj_t a_obj, mp_obj_t b_obj) {\n",
      "    mp_int_t a = mp_obj_get_int(a_obj);\n",
      "    mp_int_t b = mp_obj_get_int(b_obj);\n",
      "    mp_int_t ret_val;\n",
      "\n",
      "    //Your code here\n",
      "\n",
      "    return mp_obj_new_int(ret_val);\n",
      "}\n",
      "MP_DEFINE_CONST_FUN_OBJ_2(__main___add_ints_obj, __main___add_ints);\n"
     ]
    }
   ],
   "source": [
    "import ustubby\n",
    "\n",
    "def add_ints(a: int, b: int) -> int:\n",
    "    \"\"\"Adds two integers\n",
    "    :param a:\n",
    "    :param b:\n",
    "    :return:a + b\"\"\"\n",
    "    \n",
    "print(ustubby.stub_function(add_ints))"
   ]
  },
  {
   "cell_type": "code",
   "execution_count": null,
   "metadata": {},
   "outputs": [],
   "source": []
  }
 ],
 "metadata": {
  "kernelspec": {
   "display_name": "Python 3",
   "language": "python",
   "name": "python3"
  },
  "language_info": {
   "codemirror_mode": {
    "name": "ipython",
    "version": 3
   },
   "file_extension": ".py",
   "mimetype": "text/x-python",
   "name": "python",
   "nbconvert_exporter": "python",
   "pygments_lexer": "ipython3",
   "version": "3.8.2"
  }
 },
 "nbformat": 4,
 "nbformat_minor": 4
}
