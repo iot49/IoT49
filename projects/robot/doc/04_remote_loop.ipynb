{
 "cells": [
  {
   "cell_type": "markdown",
   "id": "fdfda89e",
   "metadata": {},
   "source": [
    "# ESP32 Remote"
   ]
  },
  {
   "cell_type": "code",
   "execution_count": 1,
   "id": "9219aa51",
   "metadata": {},
   "outputs": [
    {
     "name": "stdout",
     "output_type": "stream",
     "text": [
      "\u001b[0m\u001b[46m\u001b[30mConnected to robot-remote @ serial:///dev/ttyUSB0\u001b[0m\n",
      "\u001b[0m\u001b[34mUPDATE  /lib/loop.py\n",
      "\u001b[0m\u001b[0m\u001b[0m\u001b[0m\n",
      "\u001b[46m\u001b[31m!!!!!!!!!!!!!!!!!!!!!!!!!!!!!!!\u001b[0m\n",
      "\u001b[46m\u001b[31m!!!!!   softreset ...     !!!!!\u001b[0m\n",
      "\u001b[46m\u001b[31m!!!!!!!!!!!!!!!!!!!!!!!!!!!!!!!\u001b[0m\n",
      "\u001b[0m\n"
     ]
    }
   ],
   "source": [
    "%connect robot-remote\n",
    "%rsync\n",
    "%softreset"
   ]
  },
  {
   "cell_type": "markdown",
   "id": "e6bd6d9e",
   "metadata": {},
   "source": [
    "## Loop"
   ]
  },
  {
   "cell_type": "code",
   "execution_count": 1,
   "id": "d3f3d743",
   "metadata": {},
   "outputs": [
    {
     "name": "stdout",
     "output_type": "stream",
     "text": [
      "ets Jun  8 2016 00:22:57\n",
      "\n",
      "rst:0xc (SW_CPU_RESET),boot:0x13 (SPI_FAST_FLASH_BOOT)\n",
      "configsip: 0, SPIWP:0xee\n",
      "clk_drv:0x00,q_drv:0x00,d_drv:0x00,cs0_drv:0x00,hd_drv:0x00,wp_drv:0x00\n",
      "mode:DIO, clock div:2\n",
      "load:0x3fff0030,len:4\n",
      "load:0x3fff0034,len:5524\n",
      "load:0x40078000,len:12800\n",
      "load:0x40080400,len:4292\n",
      "entry 0x400806b0\n",
      "\u001b[0mstarting\n",
      "\u001b[0mStart advertising\n",
      "\u001b[0m"
     ]
    },
    {
     "name": "stderr",
     "output_type": "stream",
     "text": [
      "Device disconnected\u001b[0m\n"
     ]
    }
   ],
   "source": [
    "import machine\n",
    "machine.reset()"
   ]
  }
 ],
 "metadata": {
  "kernelspec": {
   "display_name": "IoT",
   "language": "python",
   "name": "iot_kernel"
  },
  "language_info": {
   "codemirror_mode": {
    "name": "python",
    "version": 3
   },
   "file_extension": ".py",
   "mimetype": "text/x-python",
   "name": "python",
   "pygments_lexer": "python3",
   "version": "3"
  }
 },
 "nbformat": 4,
 "nbformat_minor": 5
}
