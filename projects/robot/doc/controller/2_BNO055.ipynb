{
 "cells": [
  {
   "cell_type": "markdown",
   "metadata": {},
   "source": [
    "# BNO055\n",
    "\n",
    "ROTATE about SHORT sidew of chip!!!!!!!!!!!!!!!!!\n",
    "\n",
    "https://github.com/micropython-IMU/micropython-bno055\n",
    "\n",
    "![yaw pitch roll](../figures/yaw_pitch_roll.png)\n",
    "\n",
    "![BNO](../figures/BNO055_orientation.png)"
   ]
  },
  {
   "cell_type": "code",
   "execution_count": 1,
   "metadata": {},
   "outputs": [
    {
     "name": "stdout",
     "output_type": "stream",
     "text": [
      "\u001b[0m\u001b[46m\u001b[30mConnected to robot-stm @ serial:///dev/ttyAMA1\u001b[0m\n"
     ]
    }
   ],
   "source": [
    "%connect 'serial:///dev/ttyAMA1'"
   ]
  },
  {
   "cell_type": "code",
   "execution_count": null,
   "metadata": {},
   "outputs": [
    {
     "name": "stdout",
     "output_type": "stream",
     "text": [
      "\u001b[0m\u001b[0m\n",
      "\u001b[46m\u001b[31m!!!!!!!!!!!!!!!!!!!!!!!!!!!!!!!\u001b[0m\n",
      "\u001b[46m\u001b[31m!!!!!   softreset ...     !!!!!\u001b[0m\n",
      "\u001b[46m\u001b[31m!!!!!!!!!!!!!!!!!!!!!!!!!!!!!!!\u001b[0m\n",
      "\u001b[0m\n",
      "scan [40, 118]\n",
      "\u001b[0mcalibrated? False\n",
      " 560 us  z=yaw =     23.3  y=pitch =    -87.4  x=roll =    -24.4\n",
      "\u001b[0m 560 us  z=yaw =     23.4  y=pitch =    -87.4  x=roll =    -24.5\n",
      "\u001b[0m2362 us  z=yaw =    177.6  y=pitch =    -32.7  x=roll =    179.5\n",
      "\u001b[0m2354 us  z=yaw =    175.0  y=pitch =    -13.0  x=roll =   -171.0\n",
      "\u001b[0m 556 us  z=yaw =     75.7  y=pitch =      3.8  x=roll =     -3.0\n",
      "\u001b[0m2417 us  z=yaw =     75.3  y=pitch =      3.5  x=roll =     -1.5\n",
      "\u001b[0m2357 us  z=yaw =     76.1  y=pitch =     21.8  x=roll =     -1.5\n",
      "\u001b[0m 556 us  z=yaw =     74.3  y=pitch =     40.7  x=roll =     -2.4\n",
      "\u001b[0m2272 us  z=yaw =     74.6  y=pitch =    -16.4  x=roll =     -1.3\n",
      "\u001b[0m2386 us  z=yaw =     70.2  y=pitch =     37.5  x=roll =     -3.9\n",
      "\u001b[0m 560 us  z=yaw =     62.8  y=pitch =     -2.3  x=roll =    -22.5\n",
      "\u001b[0m2411 us  z=yaw =     53.8  y=pitch =    -82.9  x=roll =    -12.5\n",
      "\u001b[0m2609 us  z=yaw =     53.0  y=pitch =    -83.5  x=roll =    -11.6\n",
      "\u001b[0m 557 us  z=yaw =     53.0  y=pitch =    -83.5  x=roll =    -11.6\n",
      "\u001b[0m2355 us  z=yaw =     53.0  y=pitch =    -83.5  x=roll =    -11.6\n",
      "\u001b[0m"
     ]
    },
    {
     "name": "stderr",
     "output_type": "stream",
     "text": [
      "Interrupted\u001b[0m\n"
     ]
    },
    {
     "name": "stdout",
     "output_type": "stream",
     "text": [
      "b'MPY: can\\'t mount SD card\\r\\n1 chips detected. Total flash size 2MiB.\\r\\nMicroPython v1.14-126-g831f62a7f-dirty on 2021-04-21; Motor Breakout Hat with STM32F405RG\\r\\nType \"help()\" for more information.\\r\\n>>> '\n"
     ]
    }
   ],
   "source": [
    "%softreset\n",
    "\n",
    "from time import sleep, sleep_us, sleep_ms, ticks_us, ticks_diff\n",
    "from machine import I2C as I2C\n",
    "from bno055 import BNO055, NDOF_FMC_OFF_MODE, QUAT_DATA\n",
    "\n",
    "import math\n",
    "\n",
    "i2c = I2C(1, freq=400_000)\n",
    "print(\"scan\", i2c.scan())\n",
    "\n",
    "imu = BNO055(i2c, crystal=True, transpose=(2, 0, 1), sign=(0, 0, 1))\n",
    "imu.mode(NDOF_FMC_OFF_MODE)\n",
    "sleep_ms(800)\n",
    "imu.iget(QUAT_DATA)\n",
    "\n",
    "print(\"calibrated?\", imu.calibrated())\n",
    "\n",
    "RAD2DEG = 180/math.pi\n",
    "\n",
    "def cb():\n",
    "    start = ticks_us()\n",
    "    imu.iget(QUAT_DATA)\n",
    "    w = imu.w/(1<<14)\n",
    "    x = imu.x/(1<<14)\n",
    "    y = imu.y/(1<<14)\n",
    "    z = imu.z/(1<<14)\n",
    "    \n",
    "    # roll (x-axis rotation)\n",
    "    sinr_cosp = 2 * (w * x + y * z)\n",
    "    cosr_cosp = 1 - 2 * (x * x + y * y)\n",
    "    roll = math.atan2(sinr_cosp, cosr_cosp)\n",
    "\n",
    "    # pitch (y-axis rotation)\n",
    "    sinp = 2 * (w * y - z * x)\n",
    "    if abs(sinp) >= 1:\n",
    "        pitch = math.copysign(math.pi / 2, sinp) #  use 90 degrees if out of range\n",
    "    else:\n",
    "        pitch = math.asin(sinp)\n",
    "\n",
    "    # yaw (z-axis rotation)\n",
    "    siny_cosp = 2 * (w * z + x * y)\n",
    "    cosy_cosp = 1 - 2 * (y * y + z * z)\n",
    "    yaw = math.atan2(siny_cosp, cosy_cosp)\n",
    "\n",
    "    dt = ticks_diff(ticks_us(), start)\n",
    "    print(\"{:4} us  z=yaw = {:8.1f}  y=pitch = {:8.1f}  x=roll = {:8.1f}\".format(\n",
    "        dt,\n",
    "        yaw*RAD2DEG, pitch*RAD2DEG, roll*RAD2DEG))\n",
    "\n",
    "fs = 0.5\n",
    "\n",
    "while True:\n",
    "    start = ticks_us()\n",
    "    cb()\n",
    "    sleep_us(int(1_000_000/fs)-(ticks_us()-start))"
   ]
  },
  {
   "cell_type": "code",
   "execution_count": 1,
   "metadata": {},
   "outputs": [
    {
     "name": "stdout",
     "output_type": "stream",
     "text": [
      "\u001b[0m\u001b[46m\u001b[30mConnected to robot-stm @ serial:///dev/ttyAMA1\u001b[0m\n",
      "\u001b[0m\u001b[0m\n",
      "\u001b[46m\u001b[31m!!!!!!!!!!!!!!!!!!!!!!!!!!!!!!!\u001b[0m\n",
      "\u001b[46m\u001b[31m!!!!!   softreset ...     !!!!!\u001b[0m\n",
      "\u001b[46m\u001b[31m!!!!!!!!!!!!!!!!!!!!!!!!!!!!!!!\u001b[0m\n",
      "\u001b[0m\n",
      "scan [40, 118]\n",
      "\u001b[0mcalibrated? False\n",
      " 506 us  pitch =    -84.7\n",
      "\u001b[0m 524 us  pitch =    -84.6\n",
      "\u001b[0m2116 us  pitch =    -78.2\n",
      "\u001b[0m 509 us  pitch =    -24.2\n",
      "\u001b[0m1619 us  pitch =      4.1\n",
      "\u001b[0m2308 us  pitch =      4.7\n",
      "\u001b[0m 502 us  pitch =      5.0\n",
      "\u001b[0m2578 us  pitch =      4.6\n",
      "\u001b[0m 502 us  pitch =      4.7\n",
      "\u001b[0m 502 us  pitch =      4.7\n",
      "\u001b[0m2336 us  pitch =      4.8\n",
      "\u001b[0m2303 us  pitch =      4.9\n",
      "\u001b[0m 505 us  pitch =     10.7\n",
      "\u001b[0m2297 us  pitch =     12.0\n",
      "\u001b[0m 503 us  pitch =     13.4\n",
      "\u001b[0m1449 us  pitch =     13.9\n",
      "\u001b[0m 502 us  pitch =     13.9\n",
      "\u001b[0m 508 us  pitch =    -10.9\n",
      "\u001b[0m2241 us  pitch =     -9.8\n",
      "\u001b[0m2111 us  pitch =    -11.2\n",
      "\u001b[0m 503 us  pitch =     59.9\n",
      "\u001b[0m2301 us  pitch =     52.5\n",
      "\u001b[0m 511 us  pitch =    -87.3\n",
      "\u001b[0m 995 us  pitch =    -88.8\n",
      "\u001b[0m 508 us  pitch =    -88.8\n",
      "\u001b[0m 509 us  pitch =    -88.9\n",
      "\u001b[0m1795 us  pitch =    -88.9\n",
      "\u001b[0m"
     ]
    },
    {
     "name": "stderr",
     "output_type": "stream",
     "text": [
      "Interrupted\u001b[0m\n"
     ]
    }
   ],
   "source": [
    "%connect 'serial:///dev/ttyAMA1'\n",
    "%softreset\n",
    "\n",
    "from time import sleep, sleep_us, sleep_ms, ticks_us, ticks_diff\n",
    "from machine import I2C as I2C\n",
    "from bno055 import BNO055, NDOF_FMC_OFF_MODE, QUAT_DATA\n",
    "\n",
    "import math\n",
    "\n",
    "i2c = I2C(1, freq=400_000)\n",
    "print(\"scan\", i2c.scan())\n",
    "\n",
    "imu = BNO055(i2c, crystal=True, transpose=(2, 0, 1), sign=(0, 0, 1))\n",
    "imu.mode(NDOF_FMC_OFF_MODE)\n",
    "sleep_ms(800)\n",
    "imu.iget(QUAT_DATA)\n",
    "\n",
    "print(\"calibrated?\", imu.calibrated())\n",
    "\n",
    "RAD2DEG = 180/math.pi\n",
    "\n",
    "def cb():\n",
    "    start = ticks_us()\n",
    "    imu.iget(QUAT_DATA)\n",
    "    w = imu.w/(1<<14)\n",
    "    x = imu.x/(1<<14)\n",
    "    y = imu.y/(1<<14)\n",
    "    z = imu.z/(1<<14)\n",
    "    \n",
    "    # pitch (y-axis rotation)\n",
    "    sinp = 2 * (w * y - z * x);\n",
    "    if abs(sinp) >= 1:\n",
    "        # use 90 degrees if out of range\n",
    "        pitch = math.copysign(math.pi / 2, sinp)   \n",
    "    else:\n",
    "        pitch = math.asin(sinp)\n",
    "\n",
    "    dt = ticks_diff(ticks_us(), start)\n",
    "    print(\"{:4} us  pitch = {:8.1f}\".format(dt, pitch*RAD2DEG))\n",
    "\n",
    "fs = 0.5\n",
    "\n",
    "while True:\n",
    "    start = ticks_us()\n",
    "    cb()\n",
    "    sleep_us(int(1_000_000/fs)-(ticks_us()-start))"
   ]
  },
  {
   "cell_type": "markdown",
   "metadata": {},
   "source": [
    "## Complementary Filter"
   ]
  },
  {
   "cell_type": "code",
   "execution_count": 1,
   "metadata": {},
   "outputs": [
    {
     "name": "stdout",
     "output_type": "stream",
     "text": [
      "scan [40, 118]\n",
      "\u001b[0m dt [us]  xcell   gyro   comp bno055\n",
      "\u001b[0m       0     -0    -90     -0    -91\n",
      "\u001b[0m    7399    -90    -90    -90    -91\n",
      "\u001b[0m   19000    -90    -90    -90    -91\n",
      "\u001b[0m   10411    -90    -90    -90    -91\n",
      "\u001b[0m    5166    -86    -96    -97    -98\n",
      "\u001b[0m   10993   -185   -173   -188   -183\n",
      "\u001b[0m   11612   -183   -174   -184   -184\n",
      "\u001b[0m    9000   -187   -178   -187   -188\n",
      "\u001b[0m    5000   -191   -180   -189   -190\n",
      "\u001b[0m    7679   -185   -177   -186   -187\n",
      "\u001b[0m    8000   -184   -176   -184   -185\n",
      "\u001b[0m   13000   -176   -169   -177   -178\n",
      "\u001b[0m    7241   -180   -173   -181   -181\n",
      "\u001b[0m   11711   -182   -174   -183   -184\n",
      "\u001b[0m    3943   -195   -186   -198   -196\n",
      "\u001b[0m    9794   -201   -191   -201   -202\n",
      "\u001b[0m    4816   -202   -191   -202   -202\n",
      "\u001b[0m    6999   -185   -176   -182   -185\n",
      "\u001b[0m   16029   -172   -164   -171   -172\n",
      "\u001b[0m   11241   -169   -162   -170   -171\n",
      "\u001b[0m   15001   -138   -136   -129   -142\n",
      "\u001b[0m   12005    -92    -91    -92    -93\n",
      "\u001b[0m    9639    -92    -91    -92    -93\n",
      "\u001b[0m    7772    -92    -91    -92    -93\n",
      "\u001b[0m   10706    -92    -91    -92    -93\n",
      "\u001b[0m    2998    -92    -91    -92    -93\n",
      "\u001b[0m    8357    -92    -91    -92    -93\n",
      "\u001b[0m    9995    -92    -91    -92    -93\n",
      "\u001b[0m"
     ]
    },
    {
     "name": "stderr",
     "output_type": "stream",
     "text": [
      "Interrupted\u001b[0m\n"
     ]
    }
   ],
   "source": [
    "# %softreset\n",
    "\n",
    "# rotate about short side of chip\n",
    "\n",
    "import time, math, gc\n",
    "from machine import I2C as I2C\n",
    "from pyb import Pin\n",
    "from bno055 import BNO055\n",
    "\n",
    "tau = 0.2\n",
    "Ts = 0.02\n",
    "ALPHA = tau / (tau+Ts)\n",
    "RAD_TO_DEG = 180/math.pi\n",
    "\n",
    "i2c = I2C(1, freq=400_000)\n",
    "print(\"scan\", i2c.scan())\n",
    "\n",
    "imu = BNO055(i2c)\n",
    "time.sleep(1)\n",
    "\n",
    "a_off = 0\n",
    "g_phi = -90\n",
    "c_phi = 0\n",
    "\n",
    "t_last = time.ticks_us()\n",
    "\n",
    "dt = 0\n",
    "\n",
    "print(\"{:>8s} {:>6s} {:>6} {:>6} {:>6}\".format(\"dt [us]\", \"xcell\", \"gyro\", \"comp\", \"bno055\"))\n",
    "for i in range(5000):\n",
    "    # xcell\n",
    "    ax, ay, az = imu.accel()\n",
    "    a_phi = math.atan2(ay, az)*RAD_TO_DEG - a_off\n",
    "    if i == 0: a_off = a_phi+90\n",
    "    \n",
    "    # gyro\n",
    "    rx, ry, rz = imu.gyro()\n",
    "    g_phi += rx * Ts * 0.5  # why 0.5?\n",
    "    \n",
    "    # complementary\n",
    "    c_phi = ALPHA * (c_phi + rx * Ts) + (1-ALPHA) * a_phi\n",
    "    \n",
    "    # euler\n",
    "    _, _, e_phi = imu.euler()\n",
    "    \n",
    "    if i % 100 == 0:\n",
    "        print(\"{:8d} {:6.0f} {:6.0f} {:6.0f} {:6.0f}\".format(int(dt), a_phi, g_phi, c_phi, -e_phi-90))\n",
    "    \n",
    "    # clean slate\n",
    "    gc.collect()\n",
    "\n",
    "    # sleep off extra time\n",
    "    t_new = time.ticks_us()\n",
    "    dt = time.ticks_diff(t_new, t_last)\n",
    "    t_last = t_new\n",
    "    time.sleep(Ts-dt*1e-6)\n"
   ]
  },
  {
   "cell_type": "code",
   "execution_count": 1,
   "metadata": {},
   "outputs": [
    {
     "name": "stderr",
     "output_type": "stream",
     "text": [
      "robot-stm: [Errno 11] Could not exclusively lock port /dev/serial0: [Errno 11] Resource temporarily unavailable\u001b[0m\n"
     ]
    }
   ],
   "source": [
    "# %softreset\n",
    "\n",
    "# rotate about long side of chip\n",
    "# Euler does not switch sign at peak!\n",
    "\n",
    "import time, math, gc\n",
    "from machine import I2C as I2C\n",
    "from pyb import Pin\n",
    "from bno055 import BNO055\n",
    "\n",
    "tau = 0.2\n",
    "Ts = 0.02\n",
    "ALPHA = tau / (tau+Ts)\n",
    "RAD_TO_DEG = 180/math.pi\n",
    "\n",
    "i2c = I2C(2, freq=1000000)\n",
    "print(\"scan\", i2c.scan())\n",
    "\n",
    "imu = BNO055(i2c)\n",
    "time.sleep(1)\n",
    "\n",
    "a_off = 0\n",
    "g_phi = 90\n",
    "c_phi = 90\n",
    "\n",
    "t_last = time.ticks_us()\n",
    "\n",
    "dt = 0\n",
    "\n",
    "print(\"{:>8s} {:>6s} {:>6} {:>6} {:>6}\".format(\"dt [us]\", \"xcell\", \"gyro\", \"comp\", \"bno055\"))\n",
    "for i in range(5000):\n",
    "    # xcell\n",
    "    ax, ay, az = imu.accel()\n",
    "    a_phi = math.atan2(ax, az)*RAD_TO_DEG - a_off\n",
    "    if i == 0: a_off = a_phi-90\n",
    "    \n",
    "    # gyro\n",
    "    rx, ry, rz = imu.gyro()\n",
    "    g_phi -= ry * Ts * 0.5\n",
    "    \n",
    "    # complementary\n",
    "    c_phi = ALPHA * (c_phi + ry * Ts) + (1-ALPHA) * a_phi\n",
    "    \n",
    "    # euler\n",
    "    _, e_phi, _ = imu.euler()\n",
    "    \n",
    "    if i % 30 == 0:\n",
    "        print(\"{:8d} {:6.0f} {:6.0f} {:6.0f} {:6.0f}\".format(int(dt), a_phi, g_phi, c_phi, e_phi+90))\n",
    "    \n",
    "    # clean slate\n",
    "    gc.collect()\n",
    "\n",
    "    # sleep off extra time\n",
    "    t_new = time.ticks_us()\n",
    "    dt = time.ticks_diff(t_new, t_last)\n",
    "    t_last = t_new\n",
    "    time.sleep(Ts-dt*1e-6)\n"
   ]
  },
  {
   "cell_type": "code",
   "execution_count": 1,
   "metadata": {},
   "outputs": [
    {
     "name": "stdout",
     "output_type": "stream",
     "text": [
      "\u001b[0m\u001b[0m\n",
      "\u001b[46m\u001b[31m!!!!!!!!!!!!!!!!!!!!!!!!!!!!!!!\u001b[0m\n",
      "\u001b[46m\u001b[31m!!!!!   softreset ...     !!!!!\u001b[0m\n",
      "\u001b[46m\u001b[31m!!!!!!!!!!!!!!!!!!!!!!!!!!!!!!!\u001b[0m\n",
      "\u001b[0m\n"
     ]
    },
    {
     "name": "stderr",
     "output_type": "stream",
     "text": [
      "Traceback (most recent call last):\n",
      "  File \"<stdin>\", line 6, in <module>\n",
      "  File \"/spi/lib/bno055.py\", line 127, in __init__\n",
      "  File \"/spi/lib/bno055_base.py\", line 69, in __init__\n",
      "RuntimeError: No BNO055 chip detected.\n",
      "\u001b[0m\n"
     ]
    }
   ],
   "source": [
    "%softreset\n",
    "\n",
    "import machine, time, math, gc\n",
    "from bno055 import BNO055\n",
    "\n",
    "i2c = machine.I2C(1)\n",
    "time.sleep(0.1)\n",
    "imu = BNO055(i2c)\n",
    "\n",
    "time.sleep(1)\n",
    "\n",
    "Ts = 5000\n",
    "t_last = 0\n",
    "dt = -1\n",
    "\n",
    "for i in range(5000):\n",
    "    \n",
    "    if i % 100 == 0:\n",
    "        print(Ts-dt)\n",
    "        \n",
    "    _, _, e_phi = imu.euler()\n",
    "    \n",
    "    # clean slate\n",
    "    # gc.collect()\n",
    "\n",
    "    # sleep off extra time\n",
    "    t_new = time.ticks_us()\n",
    "    dt = time.ticks_diff(t_new, t_last)\n",
    "    t_last = t_new\n",
    "    time.sleep_us(Ts-dt)\n"
   ]
  },
  {
   "cell_type": "code",
   "execution_count": null,
   "metadata": {},
   "outputs": [],
   "source": [
    "%%bash\n",
    "\n",
    "pip install iot-device --upgrade\n",
    "pip install iot-kernel --upgrade\n"
   ]
  },
  {
   "cell_type": "code",
   "execution_count": 2,
   "metadata": {},
   "outputs": [
    {
     "name": "stdout",
     "output_type": "stream",
     "text": [
      "Name: iot-kernel\n",
      "Version: 0.4.9\n",
      "Summary: Jupyter Kernel for MicroPython\n",
      "Home-page: https://github.com/iot49/iot-kernel\n",
      "Author: Bernhard Boser\n",
      "Author-email: None\n",
      "License: MIT\n",
      "Location: /home/pi/iot49/.direnv/python-3.7.3/lib/python3.7/site-packages\n",
      "Requires: termcolor, iot-device, argparse, pyserial, ipykernel\n",
      "Required-by: \n"
     ]
    }
   ],
   "source": [
    "!pip show iot-kernel"
   ]
  }
 ],
 "metadata": {
  "kernelspec": {
   "display_name": "IoT",
   "language": "python",
   "name": "iot_kernel"
  },
  "language_info": {
   "codemirror_mode": {
    "name": "python",
    "version": 3
   },
   "file_extension": ".py",
   "mimetype": "text/x-python",
   "name": "python",
   "pygments_lexer": "python3",
   "version": "3"
  }
 },
 "nbformat": 4,
 "nbformat_minor": 4
}
