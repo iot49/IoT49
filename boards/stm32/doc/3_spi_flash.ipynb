{
 "cells": [
  {
   "cell_type": "markdown",
   "id": "undefined-strengthening",
   "metadata": {},
   "source": [
    "# SPI Flash\n",
    "\n",
    "* https://forum.micropython.org/viewtopic.php?f=12&t=9772&hilit=Ttmetro\n",
    "* https://github.com/peterhinch/micropython_eeprom/tree/master/flash\n",
    "\n",
    "| Function  | Pin  |\n",
    "| --------- |------|\n",
    "| SCK       | PB3  | \n",
    "| MOSI      | PB5  | \n",
    "| MISO      | PB4  | \n",
    "| CS        | PA15 | "
   ]
  },
  {
   "cell_type": "code",
   "execution_count": 1,
   "id": "realistic-sewing",
   "metadata": {},
   "outputs": [
    {
     "name": "stdout",
     "output_type": "stream",
     "text": [
      "\u001b[0m\u001b[0mrobot-stm  serial:///dev/serial0  \u001b[0m\n",
      "\u001b[0mConnected to robot-stm @ serial:///dev/serial0\u001b[0m\n",
      "\u001b[0m                            \u001b[32mflash/\u001b[0m\n",
      "\u001b[0m    372  Mar 18 19:27 2021      \u001b[34mboot.py\u001b[0m\n",
      "\u001b[0m                                \u001b[32mlib/\u001b[0m\n",
      "\u001b[0m   6644  Mar 19 13:29 2021          \u001b[34mbdevice.py\u001b[0m\n",
      "\u001b[0m   6731  Mar 19 13:29 2021          \u001b[34mflash_spi.py\u001b[0m\n",
      "\u001b[0m                            \u001b[32mspi/\u001b[0m\n",
      "\u001b[0m                                \u001b[32mlib/\u001b[0m\n",
      "\u001b[0m   6491  Mar 19 13:48 2021          \u001b[34mbno055.py\u001b[0m\n",
      "\u001b[0m   5598  Mar 19 13:48 2021          \u001b[34mbno055_base.py\u001b[0m\n",
      "\u001b[0m   1078  Mar 19 13:48 2021          \u001b[34mbno055_test.py\u001b[0m\n",
      "\u001b[0m   2073  Mar 19 13:48 2021          \u001b[34mencoder.py\u001b[0m\n",
      "\u001b[0m    244  Mar 19 13:48 2021          \u001b[34minit_urpc_client.py\u001b[0m\n",
      "\u001b[0m   2094  Mar 19 13:48 2021          \u001b[34mlogging.py\u001b[0m\n",
      "\u001b[0m   1174  Mar 19 13:48 2021          \u001b[34mneopixel.py\u001b[0m\n",
      "\u001b[0m   1091  Mar 19 13:48 2021          \u001b[34mtb6612.py\u001b[0m\n",
      "\u001b[0m    317  Mar 19 13:48 2021      \u001b[34msecrets.py\u001b[0m\n",
      "\u001b[0m"
     ]
    }
   ],
   "source": [
    "%register 'serial:///dev/serial0'\n",
    "%discover\n",
    "%connect robot-stm\n",
    "%rlist"
   ]
  },
  {
   "cell_type": "markdown",
   "id": "supposed-teddy",
   "metadata": {},
   "source": [
    "## Optional: convert `/flash` to `little_fs`\n",
    "\n",
    "**ATTENTION:** Erases '/flash'"
   ]
  },
  {
   "cell_type": "code",
   "execution_count": 1,
   "id": "based-customer",
   "metadata": {},
   "outputs": [
    {
     "name": "stdout",
     "output_type": "stream",
     "text": [
      "(512, 512, 224, 222, 222, 0, 0, 0, 0, 255)\n",
      "\u001b[0m"
     ]
    }
   ],
   "source": [
    "import os\n",
    "\n",
    "os.umount('/flash')\n",
    "os.VfsLfs2.mkfs(pyb.Flash(start=0))\n",
    "os.mount(pyb.Flash(start=0), '/flash')\n",
    "os.chdir('/flash')\n",
    "print(os.statvfs('/flash'))"
   ]
  },
  {
   "cell_type": "markdown",
   "id": "becoming-charleston",
   "metadata": {},
   "source": [
    "## First time only: create `/spi` filesystem\n",
    "\n",
    "**ATTENTION:** Erases '/spi'"
   ]
  },
  {
   "cell_type": "code",
   "execution_count": 1,
   "id": "breeding-graham",
   "metadata": {},
   "outputs": [
    {
     "name": "stdout",
     "output_type": "stream",
     "text": [
      "\u001b[0mConnected to robot-stm @ serial:///dev/ttyACM0\u001b[0m\n",
      "\u001b[0m\u001b[32mDirectories match\n",
      "\u001b[0m\u001b[0mflashing ...\n",
      "\u001b[0m\u001b[0m\u001b[32mDirectories match\n",
      "\u001b[0m\u001b[0m"
     ]
    }
   ],
   "source": [
    "# load software\n",
    "\n",
    "%connect robot-stm\n",
    "%rdiff\n",
    "print(\"flashing ...\")\n",
    "%rsync"
   ]
  },
  {
   "cell_type": "code",
   "execution_count": 1,
   "id": "collaborative-marijuana",
   "metadata": {},
   "outputs": [
    {
     "name": "stdout",
     "output_type": "stream",
     "text": [
      "\u001b[0m                            \u001b[32mflash/\u001b[0m\n",
      "\u001b[0m    372  Mar 18 19:27 2021      \u001b[34mboot.py\u001b[0m\n",
      "\u001b[0m                                \u001b[32mlib/\u001b[0m\n",
      "\u001b[0m   6644  Mar 19 13:29 2021          \u001b[34mbdevice.py\u001b[0m\n",
      "\u001b[0m   6731  Mar 19 13:29 2021          \u001b[34mflash_spi.py\u001b[0m\n",
      "\u001b[0m                            \u001b[32mspi/\u001b[0m\n",
      "\u001b[0m"
     ]
    }
   ],
   "source": [
    "%rlist"
   ]
  },
  {
   "cell_type": "code",
   "execution_count": 1,
   "id": "regulated-placement",
   "metadata": {},
   "outputs": [
    {
     "name": "stdout",
     "output_type": "stream",
     "text": [
      "1 chips detected. Total flash size 2MiB.\n",
      "\u001b[0m"
     ]
    },
    {
     "name": "stderr",
     "output_type": "stream",
     "text": [
      "Traceback (most recent call last):\n",
      "  File \"<stdin>\", line 17, in <module>\n",
      "OSError: [Errno 1] EPERM\n",
      "\u001b[0m\n"
     ]
    }
   ],
   "source": [
    "# access flash chip\n",
    "\n",
    "from machine import SPI, Pin\n",
    "from flash_spi import FLASH\n",
    "import os\n",
    "\n",
    "spi = SPI(1, baudrate=10_000_000, polarity=1, phase=1)\n",
    "cspins = (Pin('FLASH_CS', Pin.OUT, value=1),)\n",
    "flash = FLASH(spi, cspins)\n",
    "\n",
    "# create filesystem\n",
    "\n",
    "os.VfsLfs2.mkfs(flash)\n",
    "\n",
    "# mount /spi\n",
    "\n",
    "os.mount(flash, \"/spi\")"
   ]
  },
  {
   "cell_type": "code",
   "execution_count": 1,
   "id": "applied-graduation",
   "metadata": {},
   "outputs": [
    {
     "name": "stdout",
     "output_type": "stream",
     "text": [
      "    94 kB      (512, 512, 224, 189, 189, 0, 0, 0, 0, 255)\n",
      "  2047 kB      (512, 512, 4096, 4094, 4094, 0, 0, 0, 0, 255)\n",
      "\u001b[0m"
     ]
    }
   ],
   "source": [
    "import os\n",
    "for r in ['/flash', '/spi']:\n",
    "    s = os.statvfs(r)\n",
    "    print(\"{:6} kB     \".format(int(s[1]*s[3]/1024)), s)"
   ]
  },
  {
   "cell_type": "code",
   "execution_count": 1,
   "id": "drawn-trust",
   "metadata": {},
   "outputs": [
    {
     "name": "stdout",
     "output_type": "stream",
     "text": [
      "\u001b[0m                            \u001b[32mflash/\u001b[0m\n",
      "\u001b[0m    372  Mar 18 19:27 2021      \u001b[34mboot.py\u001b[0m\n",
      "\u001b[0m                                \u001b[32mlib/\u001b[0m\n",
      "\u001b[0m   6644  Mar 19 13:29 2021          \u001b[34mbdevice.py\u001b[0m\n",
      "\u001b[0m   6731  Mar 19 13:29 2021          \u001b[34mflash_spi.py\u001b[0m\n",
      "\u001b[0m                            \u001b[32mspi/\u001b[0m\n",
      "\u001b[0m"
     ]
    }
   ],
   "source": [
    "%rlist"
   ]
  },
  {
   "cell_type": "code",
   "execution_count": 1,
   "id": "incident-grace",
   "metadata": {},
   "outputs": [
    {
     "name": "stdout",
     "output_type": "stream",
     "text": [
      "\u001b[0m\u001b[32mADD     /spi/lib/bno055.py\n",
      "\u001b[0m\u001b[0m\u001b[32mADD     /spi/lib/bno055_base.py\n",
      "\u001b[0m\u001b[0m\u001b[32mADD     /spi/lib/bno055_test.py\n",
      "\u001b[0m\u001b[0m\u001b[32mADD     /spi/lib/encoder.py\n",
      "\u001b[0m\u001b[0m\u001b[32mADD     /spi/lib/init_urpc_client.py\n",
      "\u001b[0m\u001b[0m\u001b[32mADD     /spi/lib/logging.py\n",
      "\u001b[0m\u001b[0m\u001b[32mADD     /spi/lib/neopixel.py\n",
      "\u001b[0m\u001b[0m\u001b[32mADD     /spi/lib/tb6612.py\n",
      "\u001b[0m\u001b[0m\u001b[32mADD     /spi/secrets.py\n",
      "\u001b[0m\u001b[0m"
     ]
    }
   ],
   "source": [
    "%rdiff"
   ]
  },
  {
   "cell_type": "code",
   "execution_count": 1,
   "id": "pointed-hearing",
   "metadata": {},
   "outputs": [
    {
     "name": "stdout",
     "output_type": "stream",
     "text": [
      "\u001b[0m\u001b[32mADD     /spi/lib/bno055.py\n",
      "\u001b[0m\u001b[0m\u001b[32mADD     /spi/lib/bno055_base.py\n",
      "\u001b[0m\u001b[0m\u001b[32mADD     /spi/lib/bno055_test.py\n",
      "\u001b[0m\u001b[0m\u001b[32mADD     /spi/lib/encoder.py\n",
      "\u001b[0m\u001b[0m\u001b[32mADD     /spi/lib/init_urpc_client.py\n",
      "\u001b[0m\u001b[0m\u001b[32mADD     /spi/lib/logging.py\n",
      "\u001b[0m\u001b[0m\u001b[32mADD     /spi/lib/neopixel.py\n",
      "\u001b[0m\u001b[0m\u001b[32mADD     /spi/lib/tb6612.py\n",
      "\u001b[0m\u001b[0m\u001b[32mADD     /spi/secrets.py\n",
      "\u001b[0m\u001b[0m"
     ]
    }
   ],
   "source": [
    "%rsync"
   ]
  },
  {
   "cell_type": "code",
   "execution_count": null,
   "id": "durable-burke",
   "metadata": {},
   "outputs": [],
   "source": []
  }
 ],
 "metadata": {
  "kernelspec": {
   "display_name": "IoT",
   "language": "python",
   "name": "iot_kernel"
  },
  "language_info": {
   "codemirror_mode": {
    "name": "python",
    "version": 3
   },
   "file_extension": ".py",
   "mimetype": "text/x-python",
   "name": "python",
   "pygments_lexer": "python3",
   "version": "3"
  }
 },
 "nbformat": 4,
 "nbformat_minor": 5
}
