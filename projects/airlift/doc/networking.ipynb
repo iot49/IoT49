{
 "cells": [
  {
   "cell_type": "markdown",
   "metadata": {},
   "source": [
    "# Networking"
   ]
  },
  {
   "cell_type": "code",
   "execution_count": 1,
   "metadata": {},
   "outputs": [
    {
     "name": "stdout",
     "output_type": "stream",
     "text": [
      "\u001b[0mtest-argon                     serial:///dev/cu.usbmodem1413101        \n",
      "\u001b[0mtest-stm32                     serial:///dev/cu.usbmodem208E307542521  \n",
      "\u001b[0mtest-stm32-cop                 serial:///dev/cu.usbserial-0143520E     \n",
      "\u001b[0m\u001b[0mConnected to test-argon @ serial:///dev/cu.usbmodem1413101\n",
      "\u001b[0m"
     ]
    }
   ],
   "source": [
    "%discover\n",
    "%connect test-argon"
   ]
  },
  {
   "cell_type": "markdown",
   "metadata": {},
   "source": [
    "## Check IP Address"
   ]
  },
  {
   "cell_type": "code",
   "execution_count": 1,
   "metadata": {},
   "outputs": [
    {
     "name": "stdout",
     "output_type": "stream",
     "text": [
      "I\u001b[0mP\u001b[0m \u001b[0ma\u001b[0md\u001b[0md\u001b[0mr\u001b[0me\u001b[0ms\u001b[0ms\u001b[0m:\u001b[0m \u001b[0m \u001b[0m1\u001b[0m0\u001b[0m.\u001b[0m3\u001b[0m9\u001b[0m.\u001b[0m4\u001b[0m0\u001b[0m.\u001b[0m1\u001b[0m4\u001b[0m0\u001b[0m\n",
      "\u001b[0m"
     ]
    }
   ],
   "source": [
    "import network\n",
    "\n",
    "ip = network.WLAN(network.STA_IF).ifconfig()[0]\n",
    "print(\"IP address: \", ip)"
   ]
  },
  {
   "cell_type": "markdown",
   "metadata": {},
   "source": [
    "## Requests"
   ]
  },
  {
   "cell_type": "code",
   "execution_count": 1,
   "metadata": {},
   "outputs": [
    {
     "name": "stdout",
     "output_type": "stream",
     "text": [
      "c\u001b[0ml\u001b[0mo\u001b[0mu\u001b[0md\u001b[0ms\u001b[0m \u001b[0m \u001b[0m \u001b[0m{\u001b[0m'\u001b[0ma\u001b[0ml\u001b[0ml\u001b[0m'\u001b[0m:\u001b[0m \u001b[0m8\u001b[0m9\u001b[0m}\u001b[0m\n",
      "\u001b[0ms\u001b[0my\u001b[0ms\u001b[0m \u001b[0m \u001b[0m \u001b[0m \u001b[0m \u001b[0m \u001b[0m{\u001b[0m'\u001b[0mc\u001b[0mo\u001b[0mu\u001b[0mn\u001b[0mt\u001b[0mr\u001b[0my\u001b[0m'\u001b[0m:\u001b[0m \u001b[0m'\u001b[0mU\u001b[0mS\u001b[0m'\u001b[0m}\u001b[0m\n",
      "\u001b[0ms\u001b[0mn\u001b[0mo\u001b[0mw\u001b[0m \u001b[0m \u001b[0m \u001b[0m \u001b[0m \u001b[0mN\u001b[0mo\u001b[0mn\u001b[0me\u001b[0m\n",
      "\u001b[0mc\u001b[0mo\u001b[0mo\u001b[0mr\u001b[0md\u001b[0m \u001b[0m \u001b[0m \u001b[0m \u001b[0m{\u001b[0m'\u001b[0ml\u001b[0ma\u001b[0mt\u001b[0m'\u001b[0m:\u001b[0m \u001b[0m3\u001b[0m8\u001b[0m.\u001b[0m4\u001b[0m6\u001b[0m4\u001b[0m6\u001b[0m,\u001b[0m \u001b[0m'\u001b[0ml\u001b[0mo\u001b[0mn\u001b[0m'\u001b[0m:\u001b[0m \u001b[0m-\u001b[0m1\u001b[0m2\u001b[0m0\u001b[0m.\u001b[0m0\u001b[0m4\u001b[0m}\u001b[0m\n",
      "\u001b[0mr\u001b[0ma\u001b[0mi\u001b[0mn\u001b[0m \u001b[0m \u001b[0m \u001b[0m \u001b[0m \u001b[0mN\u001b[0mo\u001b[0mn\u001b[0me\u001b[0m\n",
      "\u001b[0mw\u001b[0mi\u001b[0mn\u001b[0md\u001b[0m \u001b[0m \u001b[0m \u001b[0m \u001b[0m \u001b[0m{\u001b[0m'\u001b[0ms\u001b[0mp\u001b[0me\u001b[0me\u001b[0md\u001b[0m'\u001b[0m:\u001b[0m \u001b[0m0\u001b[0m.\u001b[0m4\u001b[0m6\u001b[0m,\u001b[0m \u001b[0m'\u001b[0md\u001b[0me\u001b[0mg\u001b[0m'\u001b[0m:\u001b[0m \u001b[0m1\u001b[0m2\u001b[0m5\u001b[0m}\u001b[0m\n",
      "\u001b[0md\u001b[0mt\u001b[0m \u001b[0m \u001b[0m \u001b[0m \u001b[0m \u001b[0m \u001b[0m \u001b[0m1\u001b[0m6\u001b[0m1\u001b[0m3\u001b[0m1\u001b[0m7\u001b[0m8\u001b[0m4\u001b[0m6\u001b[0m2\u001b[0m\n",
      "\u001b[0mw\u001b[0me\u001b[0ma\u001b[0mt\u001b[0mh\u001b[0me\u001b[0mr\u001b[0m \u001b[0m \u001b[0m(\u001b[0m{\u001b[0m'\u001b[0mi\u001b[0md\u001b[0m'\u001b[0m:\u001b[0m \u001b[0m8\u001b[0m0\u001b[0m4\u001b[0m,\u001b[0m \u001b[0m'\u001b[0md\u001b[0me\u001b[0ms\u001b[0mc\u001b[0mr\u001b[0mi\u001b[0mp\u001b[0mt\u001b[0mi\u001b[0mo\u001b[0mn\u001b[0m'\u001b[0m:\u001b[0m \u001b[0m'\u001b[0mo\u001b[0mv\u001b[0me\u001b[0mr\u001b[0mc\u001b[0ma\u001b[0ms\u001b[0mt\u001b[0m \u001b[0mc\u001b[0ml\u001b[0mo\u001b[0mu\u001b[0md\u001b[0ms\u001b[0m'\u001b[0m,\u001b[0m \u001b[0m'\u001b[0mi\u001b[0mc\u001b[0mo\u001b[0mn\u001b[0m'\u001b[0m:\u001b[0m \u001b[0m'\u001b[0m0\u001b[0m4\u001b[0md\u001b[0m'\u001b[0m,\u001b[0m \u001b[0m'\u001b[0mm\u001b[0ma\u001b[0mi\u001b[0mn\u001b[0m'\u001b[0m:\u001b[0m \u001b[0m'\u001b[0mC\u001b[0ml\u001b[0mo\u001b[0mu\u001b[0md\u001b[0ms\u001b[0m'\u001b[0m}\u001b[0m,\u001b[0m)\u001b[0m\n",
      "\u001b[0mm\u001b[0ma\u001b[0mi\u001b[0mn\u001b[0m \u001b[0m \u001b[0m \u001b[0m \u001b[0m \u001b[0m{\u001b[0m'\u001b[0mp\u001b[0mr\u001b[0me\u001b[0ms\u001b[0ms\u001b[0mu\u001b[0mr\u001b[0me\u001b[0m'\u001b[0m:\u001b[0m \u001b[0m1\u001b[0m0\u001b[0m1\u001b[0m9\u001b[0m,\u001b[0m \u001b[0m'\u001b[0mt\u001b[0me\u001b[0mm\u001b[0mp\u001b[0m_\u001b[0mm\u001b[0mi\u001b[0mn\u001b[0m'\u001b[0m:\u001b[0m \u001b[0m2\u001b[0m7\u001b[0m3\u001b[0m.\u001b[0m7\u001b[0m1\u001b[0m,\u001b[0m \u001b[0m'\u001b[0mf\u001b[0me\u001b[0me\u001b[0ml\u001b[0ms\u001b[0m_\u001b[0ml\u001b[0mi\u001b[0mk\u001b[0me\u001b[0m'\u001b[0m:\u001b[0m \u001b[0m2\u001b[0m7\u001b[0m2\u001b[0m.\u001b[0m6\u001b[0m2\u001b[0m,\u001b[0m \u001b[0m'\u001b[0mt\u001b[0me\u001b[0mm\u001b[0mp\u001b[0m'\u001b[0m:\u001b[0m \u001b[0m2\u001b[0m7\u001b[0m4\u001b[0m.\u001b[0m9\u001b[0m1\u001b[0m,\u001b[0m \u001b[0m'\u001b[0mh\u001b[0mu\u001b[0mm\u001b[0mi\u001b[0md\u001b[0mi\u001b[0mt\u001b[0my\u001b[0m'\u001b[0m:\u001b[0m \u001b[0m8\u001b[0m9\u001b[0m,\u001b[0m \u001b[0m'\u001b[0mt\u001b[0me\u001b[0mm\u001b[0mp\u001b[0m_\u001b[0mm\u001b[0ma\u001b[0mx\u001b[0m'\u001b[0m:\u001b[0m \u001b[0m2\u001b[0m7\u001b[0m6\u001b[0m.\u001b[0m4\u001b[0m8\u001b[0m}\u001b[0m\n",
      "\u001b[0mi\u001b[0md\u001b[0m \u001b[0m \u001b[0m \u001b[0m \u001b[0m \u001b[0m \u001b[0m \u001b[0m5\u001b[0m3\u001b[0m2\u001b[0m6\u001b[0m9\u001b[0m6\u001b[0m8\u001b[0m\n",
      "\u001b[0mn\u001b[0ma\u001b[0mm\u001b[0me\u001b[0m \u001b[0m \u001b[0m \u001b[0m \u001b[0m \u001b[0mB\u001b[0me\u001b[0ma\u001b[0mr\u001b[0m \u001b[0mV\u001b[0ma\u001b[0ml\u001b[0ml\u001b[0me\u001b[0my\u001b[0m\n",
      "\u001b[0m"
     ]
    }
   ],
   "source": [
    "from requests import get\n",
    "from secrets import openweathermap_apiid\n",
    "\n",
    "url = \"http://api.openweathermap.org/data/2.5/find?lat=38.5&lon=-120&cnt=1&appid={}\".format(openweathermap_apiid)\n",
    "\n",
    "j = get(url).json()\n",
    "for k,v in j.get('list')[0].items():\n",
    "    print(\"{:8} {}\".format(k,v))"
   ]
  },
  {
   "cell_type": "markdown",
   "metadata": {},
   "source": [
    "## Webserver"
   ]
  },
  {
   "cell_type": "code",
   "execution_count": 1,
   "metadata": {},
   "outputs": [
    {
     "name": "stdout",
     "output_type": "stream",
     "text": [
      "w\u001b[0ma\u001b[0mi\u001b[0mt\u001b[0mi\u001b[0mn\u001b[0mg\u001b[0m \u001b[0mf\u001b[0mo\u001b[0mr\u001b[0m \u001b[0mc\u001b[0mo\u001b[0mn\u001b[0mn\u001b[0me\u001b[0mc\u001b[0mt\u001b[0mi\u001b[0mo\u001b[0mn\u001b[0m \u001b[0ma\u001b[0mt\u001b[0m \u001b[0mh\u001b[0mt\u001b[0mt\u001b[0mp\u001b[0m:\u001b[0m/\u001b[0m/\u001b[0m1\u001b[0m0\u001b[0m.\u001b[0m3\u001b[0m9\u001b[0m.\u001b[0m4\u001b[0m0\u001b[0m.\u001b[0m1\u001b[0m4\u001b[0m0\u001b[0m\n",
      "\u001b[0mc\u001b[0mo\u001b[0mn\u001b[0mn\u001b[0me\u001b[0mc\u001b[0mt\u001b[0me\u001b[0md\u001b[0m \u001b[0mf\u001b[0mr\u001b[0mo\u001b[0mm\u001b[0m \u001b[0m(\u001b[0m'\u001b[0m1\u001b[0m0\u001b[0m.\u001b[0m3\u001b[0m9\u001b[0m.\u001b[0m4\u001b[0m0\u001b[0m.\u001b[0m1\u001b[0m1\u001b[0m4\u001b[0m'\u001b[0m,\u001b[0m \u001b[0m5\u001b[0m2\u001b[0m6\u001b[0m7\u001b[0m4\u001b[0m)\u001b[0m\n",
      "\u001b[0mc\u001b[0mo\u001b[0mn\u001b[0mn\u001b[0me\u001b[0mc\u001b[0mt\u001b[0me\u001b[0md\u001b[0m \u001b[0mf\u001b[0mr\u001b[0mo\u001b[0mm\u001b[0m \u001b[0m(\u001b[0m'\u001b[0m1\u001b[0m0\u001b[0m.\u001b[0m3\u001b[0m9\u001b[0m.\u001b[0m4\u001b[0m0\u001b[0m.\u001b[0m1\u001b[0m1\u001b[0m4\u001b[0m'\u001b[0m,\u001b[0m \u001b[0m5\u001b[0m2\u001b[0m6\u001b[0m7\u001b[0m5\u001b[0m)\u001b[0m\n",
      "\u001b[0mc\u001b[0mo\u001b[0mn\u001b[0mn\u001b[0me\u001b[0mc\u001b[0mt\u001b[0me\u001b[0md\u001b[0m \u001b[0mf\u001b[0mr\u001b[0mo\u001b[0mm\u001b[0m \u001b[0m(\u001b[0m'\u001b[0m1\u001b[0m0\u001b[0m.\u001b[0m3\u001b[0m9\u001b[0m.\u001b[0m4\u001b[0m0\u001b[0m.\u001b[0m1\u001b[0m1\u001b[0m4\u001b[0m'\u001b[0m,\u001b[0m \u001b[0m5\u001b[0m2\u001b[0m6\u001b[0m7\u001b[0m6\u001b[0m)\u001b[0m\n",
      "\u001b[0mc\u001b[0mo\u001b[0mn\u001b[0mn\u001b[0me\u001b[0mc\u001b[0mt\u001b[0me\u001b[0md\u001b[0m \u001b[0mf\u001b[0mr\u001b[0mo\u001b[0mm\u001b[0m \u001b[0m(\u001b[0m'\u001b[0m1\u001b[0m0\u001b[0m.\u001b[0m3\u001b[0m9\u001b[0m.\u001b[0m4\u001b[0m0\u001b[0m.\u001b[0m1\u001b[0m1\u001b[0m4\u001b[0m'\u001b[0m,\u001b[0m \u001b[0m5\u001b[0m2\u001b[0m6\u001b[0m7\u001b[0m7\u001b[0m)\u001b[0m\n",
      "\u001b[0mc\u001b[0mo\u001b[0mn\u001b[0mn\u001b[0me\u001b[0mc\u001b[0mt\u001b[0me\u001b[0md\u001b[0m \u001b[0mf\u001b[0mr\u001b[0mo\u001b[0mm\u001b[0m \u001b[0m(\u001b[0m'\u001b[0m1\u001b[0m0\u001b[0m.\u001b[0m3\u001b[0m9\u001b[0m.\u001b[0m4\u001b[0m0\u001b[0m.\u001b[0m1\u001b[0m1\u001b[0m4\u001b[0m'\u001b[0m,\u001b[0m \u001b[0m5\u001b[0m2\u001b[0m6\u001b[0m7\u001b[0m8\u001b[0m)\u001b[0m\n",
      "\u001b[0mc\u001b[0mo\u001b[0mn\u001b[0mn\u001b[0me\u001b[0mc\u001b[0mt\u001b[0me\u001b[0md\u001b[0m \u001b[0mf\u001b[0mr\u001b[0mo\u001b[0mm\u001b[0m \u001b[0m(\u001b[0m'\u001b[0m1\u001b[0m0\u001b[0m.\u001b[0m3\u001b[0m9\u001b[0m.\u001b[0m4\u001b[0m0\u001b[0m.\u001b[0m1\u001b[0m1\u001b[0m4\u001b[0m'\u001b[0m,\u001b[0m \u001b[0m5\u001b[0m2\u001b[0m6\u001b[0m7\u001b[0m9\u001b[0m)\u001b[0m\n",
      "\u001b[0mD\u001b[0mO\u001b[0mN\u001b[0mE\u001b[0m\n",
      "\u001b[0m"
     ]
    }
   ],
   "source": [
    "import socket\n",
    "import network\n",
    "\n",
    "ip = network.WLAN(network.STA_IF).ifconfig()[0]\n",
    "\n",
    "s = socket.socket()\n",
    "ai = socket.getaddrinfo(\"0.0.0.0\", 80)\n",
    "addr = ai[0][-1]\n",
    "\n",
    "s.setsockopt(socket.SOL_SOCKET, socket.SO_REUSEADDR, 1)\n",
    "s.bind(addr)\n",
    "s.listen(2)\n",
    "\n",
    "print(\"waiting for connection at http://{}\".format(ip))\n",
    "for i in range(6):\n",
    "    ss, addr = s.accept()\n",
    "    print(\"connected from\", addr)\n",
    "    req = ss.recv(1024)\n",
    "    if i < 4:\n",
    "        ss.send('Hello from Airlift, serving request # {}!'.format(i+1).encode())\n",
    "    else:\n",
    "        ss.send(b'So long! Server shutting down.')\n",
    "    ss.close()\n",
    "s.close()\n",
    "\n",
    "print(\"DONE\")"
   ]
  },
  {
   "cell_type": "markdown",
   "metadata": {},
   "source": [
    "### Socket Echo Test\n",
    "\n",
    "Run [echo server](https://realpython.com/python-sockets/#echo-server) on (some) host (e.g. from a Python3 notebook)."
   ]
  },
  {
   "cell_type": "code",
   "execution_count": null,
   "metadata": {},
   "outputs": [],
   "source": [
    "import socket\n",
    "import os\n",
    "\n",
    "N = 512\n",
    "SERVER = \"10.39.40.114\"\n",
    "PORT = 65432\n",
    "\n",
    "resp = bytearray(N)\n",
    "\n",
    "print(\"create socket ...\")\n",
    "s = socket.socket(socket.AF_INET, socket.SOCK_STREAM)\n",
    "\n",
    "try:\n",
    "    s.setsockopt(socket.SOL_SOCKET, socket.SO_REUSEADDR, 1)\n",
    "    ai = socket.getaddrinfo(SERVER, PORT)\n",
    "    addr = ai[0][-1]\n",
    "\n",
    "    print(\"connect to\", addr)\n",
    "    s.connect(addr)\n",
    "    \n",
    "    for i in range(5):\n",
    "        data = bytes(os.urandom(N))\n",
    "        s.sendall(data)\n",
    "        s.readinto(resp)\n",
    "        assert resp == data, \"Mismatch!\"\n",
    "except Exception as e:\n",
    "    print(\"*****\", e)\n",
    "finally:\n",
    "    print(\"Success!\")\n",
    "    s.close()"
   ]
  },
  {
   "cell_type": "markdown",
   "metadata": {},
   "source": [
    "## GC"
   ]
  },
  {
   "cell_type": "code",
   "execution_count": 1,
   "metadata": {},
   "outputs": [
    {
     "name": "stdout",
     "output_type": "stream",
     "text": [
      "n\u001b[0mR\u001b[0mF\u001b[0m5\u001b[0m2\u001b[0m8\u001b[0m4\u001b[0m0\u001b[0m \u001b[0m \u001b[0mf\u001b[0mr\u001b[0me\u001b[0me\u001b[0m \u001b[0m=\u001b[0m \u001b[0m1\u001b[0m3\u001b[0m6\u001b[0m5\u001b[0m6\u001b[0m0\u001b[0m\n",
      "\u001b[0me\u001b[0ms\u001b[0mp\u001b[0m3\u001b[0m2\u001b[0m \u001b[0m \u001b[0m \u001b[0m \u001b[0m \u001b[0mf\u001b[0mr\u001b[0me\u001b[0me\u001b[0m \u001b[0m=\u001b[0m \u001b[0m \u001b[0m9\u001b[0m4\u001b[0m1\u001b[0m9\u001b[0m2\u001b[0m\n",
      "\u001b[0m \u001b[0m \u001b[0mE\u001b[0mS\u001b[0mP\u001b[0m3\u001b[0m2\u001b[0m \u001b[0mr\u001b[0me\u001b[0mg\u001b[0mi\u001b[0ms\u001b[0mt\u001b[0mr\u001b[0my\u001b[0m \u001b[0m[\u001b[0m1\u001b[0m3\u001b[0m]\u001b[0m:\u001b[0m\n",
      "\u001b[0m \u001b[0m \u001b[0m \u001b[0m \u001b[0m[\u001b[0m \u001b[0m \u001b[0m9\u001b[0m]\u001b[0m \u001b[0m<\u001b[0ms\u001b[0mo\u001b[0mc\u001b[0mk\u001b[0me\u001b[0mt\u001b[0m>\u001b[0m\n",
      "\u001b[0m \u001b[0m \u001b[0m \u001b[0m \u001b[0m[\u001b[0m \u001b[0m1\u001b[0m6\u001b[0m]\u001b[0m \u001b[0m<\u001b[0mm\u001b[0mo\u001b[0md\u001b[0mu\u001b[0ml\u001b[0me\u001b[0m \u001b[0m'\u001b[0mb\u001b[0mo\u001b[0mo\u001b[0mt\u001b[0m'\u001b[0m \u001b[0mf\u001b[0mr\u001b[0mo\u001b[0mm\u001b[0m \u001b[0m'\u001b[0mb\u001b[0mo\u001b[0mo\u001b[0mt\u001b[0m.\u001b[0mp\u001b[0my\u001b[0m'\u001b[0m>\u001b[0m\n",
      "\u001b[0m \u001b[0m \u001b[0m \u001b[0m \u001b[0m[\u001b[0m \u001b[0m \u001b[0m2\u001b[0m]\u001b[0m \u001b[0m<\u001b[0mm\u001b[0mo\u001b[0md\u001b[0mu\u001b[0ml\u001b[0me\u001b[0m \u001b[0m'\u001b[0mu\u001b[0mr\u001b[0me\u001b[0mq\u001b[0mu\u001b[0me\u001b[0ms\u001b[0mt\u001b[0ms\u001b[0m'\u001b[0m \u001b[0mf\u001b[0mr\u001b[0mo\u001b[0mm\u001b[0m \u001b[0m'\u001b[0mu\u001b[0mr\u001b[0me\u001b[0mq\u001b[0mu\u001b[0me\u001b[0ms\u001b[0mt\u001b[0ms\u001b[0m.\u001b[0mp\u001b[0my\u001b[0m'\u001b[0m>\u001b[0m\n",
      "\u001b[0m \u001b[0m \u001b[0m \u001b[0m \u001b[0m[\u001b[0m \u001b[0m1\u001b[0m5\u001b[0m]\u001b[0m \u001b[0m<\u001b[0ms\u001b[0mo\u001b[0mc\u001b[0mk\u001b[0me\u001b[0mt\u001b[0m>\u001b[0m\n",
      "\u001b[0m \u001b[0m \u001b[0m \u001b[0m \u001b[0m[\u001b[0m \u001b[0m \u001b[0m4\u001b[0m]\u001b[0m \u001b[0m1\u001b[0m6\u001b[0m1\u001b[0m3\u001b[0m1\u001b[0m7\u001b[0m8\u001b[0m4\u001b[0m6\u001b[0m2\u001b[0m\n",
      "\u001b[0m \u001b[0m \u001b[0m \u001b[0m \u001b[0m[\u001b[0m \u001b[0m \u001b[0m5\u001b[0m]\u001b[0m \u001b[0m<\u001b[0mm\u001b[0mo\u001b[0md\u001b[0mu\u001b[0ml\u001b[0me\u001b[0m \u001b[0m'\u001b[0mu\u001b[0ms\u001b[0mo\u001b[0mc\u001b[0mk\u001b[0me\u001b[0mt\u001b[0m'\u001b[0m>\u001b[0m\n",
      "\u001b[0m \u001b[0m \u001b[0m \u001b[0m \u001b[0m[\u001b[0m \u001b[0m1\u001b[0m9\u001b[0m]\u001b[0m \u001b[0m<\u001b[0mm\u001b[0mo\u001b[0md\u001b[0mu\u001b[0ml\u001b[0me\u001b[0m \u001b[0m'\u001b[0mg\u001b[0mc\u001b[0m'\u001b[0m>\u001b[0m\n",
      "\u001b[0m \u001b[0m \u001b[0m \u001b[0m \u001b[0m[\u001b[0m \u001b[0m \u001b[0m6\u001b[0m]\u001b[0m \u001b[0m<\u001b[0mm\u001b[0mo\u001b[0md\u001b[0mu\u001b[0ml\u001b[0me\u001b[0m \u001b[0m'\u001b[0mu\u001b[0ms\u001b[0mo\u001b[0mc\u001b[0mk\u001b[0me\u001b[0mt\u001b[0m'\u001b[0m>\u001b[0m\n",
      "\u001b[0m \u001b[0m \u001b[0m \u001b[0m \u001b[0m[\u001b[0m \u001b[0m \u001b[0m7\u001b[0m]\u001b[0m \u001b[0m<\u001b[0mm\u001b[0mo\u001b[0md\u001b[0mu\u001b[0ml\u001b[0me\u001b[0m \u001b[0m'\u001b[0mn\u001b[0me\u001b[0mt\u001b[0mw\u001b[0mo\u001b[0mr\u001b[0mk\u001b[0m'\u001b[0m>\u001b[0m\n",
      "\u001b[0m \u001b[0m \u001b[0m \u001b[0m \u001b[0m[\u001b[0m \u001b[0m2\u001b[0m1\u001b[0m]\u001b[0m \u001b[0m<\u001b[0mm\u001b[0mo\u001b[0md\u001b[0mu\u001b[0ml\u001b[0me\u001b[0m \u001b[0m'\u001b[0mg\u001b[0mc\u001b[0m'\u001b[0m>\u001b[0m\n",
      "\u001b[0m \u001b[0m \u001b[0m \u001b[0m \u001b[0m[\u001b[0m \u001b[0m2\u001b[0m3\u001b[0m]\u001b[0m \u001b[0m<\u001b[0mm\u001b[0mo\u001b[0md\u001b[0mu\u001b[0ml\u001b[0me\u001b[0m \u001b[0m'\u001b[0mg\u001b[0mc\u001b[0m'\u001b[0m>\u001b[0m\n",
      "\u001b[0m \u001b[0m \u001b[0m \u001b[0m \u001b[0m[\u001b[0m \u001b[0m2\u001b[0m4\u001b[0m]\u001b[0m \u001b[0m<\u001b[0mm\u001b[0mo\u001b[0md\u001b[0mu\u001b[0ml\u001b[0me\u001b[0m \u001b[0m'\u001b[0ms\u001b[0my\u001b[0ms\u001b[0m'\u001b[0m>\u001b[0m\n",
      "\u001b[0m \u001b[0m \u001b[0m \u001b[0m \u001b[0m[\u001b[0m \u001b[0m2\u001b[0m2\u001b[0m]\u001b[0m \u001b[0m<\u001b[0mm\u001b[0mo\u001b[0md\u001b[0mu\u001b[0ml\u001b[0me\u001b[0m \u001b[0m'\u001b[0ms\u001b[0my\u001b[0ms\u001b[0m'\u001b[0m>\u001b[0m\n",
      "\u001b[0m\n",
      "\u001b[0m>\u001b[0m>\u001b[0m>\u001b[0m>\u001b[0m>\u001b[0m>\u001b[0m>\u001b[0m \u001b[0mc\u001b[0mo\u001b[0ml\u001b[0ml\u001b[0me\u001b[0mc\u001b[0mt\u001b[0m \u001b[0m.\u001b[0m.\u001b[0m.\u001b[0m\n",
      "\u001b[0m\n",
      "\u001b[0mn\u001b[0mR\u001b[0mF\u001b[0m5\u001b[0m2\u001b[0m8\u001b[0m4\u001b[0m0\u001b[0m \u001b[0m \u001b[0mf\u001b[0mr\u001b[0me\u001b[0me\u001b[0m \u001b[0m=\u001b[0m \u001b[0m1\u001b[0m3\u001b[0m7\u001b[0m3\u001b[0m6\u001b[0m0\u001b[0m\n",
      "\u001b[0me\u001b[0ms\u001b[0mp\u001b[0m3\u001b[0m2\u001b[0m \u001b[0m \u001b[0m \u001b[0m \u001b[0m \u001b[0mf\u001b[0mr\u001b[0me\u001b[0me\u001b[0m \u001b[0m=\u001b[0m \u001b[0m \u001b[0m9\u001b[0m7\u001b[0m5\u001b[0m5\u001b[0m2\u001b[0m\n",
      "\u001b[0m \u001b[0m \u001b[0mE\u001b[0mS\u001b[0mP\u001b[0m3\u001b[0m2\u001b[0m \u001b[0mr\u001b[0me\u001b[0mg\u001b[0mi\u001b[0ms\u001b[0mt\u001b[0mr\u001b[0my\u001b[0m \u001b[0m[\u001b[0m1\u001b[0m0\u001b[0m]\u001b[0m:\u001b[0m\n",
      "\u001b[0m \u001b[0m \u001b[0m \u001b[0m \u001b[0m[\u001b[0m \u001b[0m \u001b[0m5\u001b[0m]\u001b[0m \u001b[0m<\u001b[0mm\u001b[0mo\u001b[0md\u001b[0mu\u001b[0ml\u001b[0me\u001b[0m \u001b[0m'\u001b[0mu\u001b[0ms\u001b[0mo\u001b[0mc\u001b[0mk\u001b[0me\u001b[0mt\u001b[0m'\u001b[0m>\u001b[0m\n",
      "\u001b[0m \u001b[0m \u001b[0m \u001b[0m \u001b[0m[\u001b[0m \u001b[0m \u001b[0m9\u001b[0m]\u001b[0m \u001b[0m<\u001b[0ms\u001b[0mo\u001b[0mc\u001b[0mk\u001b[0me\u001b[0mt\u001b[0m>\u001b[0m\n",
      "\u001b[0m \u001b[0m \u001b[0m \u001b[0m \u001b[0m[\u001b[0m \u001b[0m \u001b[0m2\u001b[0m]\u001b[0m \u001b[0m<\u001b[0mm\u001b[0mo\u001b[0md\u001b[0mu\u001b[0ml\u001b[0me\u001b[0m \u001b[0m'\u001b[0mu\u001b[0mr\u001b[0me\u001b[0mq\u001b[0mu\u001b[0me\u001b[0ms\u001b[0mt\u001b[0ms\u001b[0m'\u001b[0m \u001b[0mf\u001b[0mr\u001b[0mo\u001b[0mm\u001b[0m \u001b[0m'\u001b[0mu\u001b[0mr\u001b[0me\u001b[0mq\u001b[0mu\u001b[0me\u001b[0ms\u001b[0mt\u001b[0ms\u001b[0m.\u001b[0mp\u001b[0my\u001b[0m'\u001b[0m>\u001b[0m\n",
      "\u001b[0m \u001b[0m \u001b[0m \u001b[0m \u001b[0m[\u001b[0m \u001b[0m2\u001b[0m3\u001b[0m]\u001b[0m \u001b[0m<\u001b[0mm\u001b[0mo\u001b[0md\u001b[0mu\u001b[0ml\u001b[0me\u001b[0m \u001b[0m'\u001b[0mg\u001b[0mc\u001b[0m'\u001b[0m>\u001b[0m\n",
      "\u001b[0m \u001b[0m \u001b[0m \u001b[0m \u001b[0m[\u001b[0m \u001b[0m2\u001b[0m4\u001b[0m]\u001b[0m \u001b[0m<\u001b[0mm\u001b[0mo\u001b[0md\u001b[0mu\u001b[0ml\u001b[0me\u001b[0m \u001b[0m'\u001b[0ms\u001b[0my\u001b[0ms\u001b[0m'\u001b[0m>\u001b[0m\n",
      "\u001b[0m \u001b[0m \u001b[0m \u001b[0m \u001b[0m[\u001b[0m \u001b[0m1\u001b[0m5\u001b[0m]\u001b[0m \u001b[0m<\u001b[0ms\u001b[0mo\u001b[0mc\u001b[0mk\u001b[0me\u001b[0mt\u001b[0m>\u001b[0m\n",
      "\u001b[0m \u001b[0m \u001b[0m \u001b[0m \u001b[0m[\u001b[0m \u001b[0m \u001b[0m6\u001b[0m]\u001b[0m \u001b[0m<\u001b[0mm\u001b[0mo\u001b[0md\u001b[0mu\u001b[0ml\u001b[0me\u001b[0m \u001b[0m'\u001b[0mu\u001b[0ms\u001b[0mo\u001b[0mc\u001b[0mk\u001b[0me\u001b[0mt\u001b[0m'\u001b[0m>\u001b[0m\n",
      "\u001b[0m \u001b[0m \u001b[0m \u001b[0m \u001b[0m[\u001b[0m \u001b[0m \u001b[0m7\u001b[0m]\u001b[0m \u001b[0m<\u001b[0mm\u001b[0mo\u001b[0md\u001b[0mu\u001b[0ml\u001b[0me\u001b[0m \u001b[0m'\u001b[0mn\u001b[0me\u001b[0mt\u001b[0mw\u001b[0mo\u001b[0mr\u001b[0mk\u001b[0m'\u001b[0m>\u001b[0m\n",
      "\u001b[0m \u001b[0m \u001b[0m \u001b[0m \u001b[0m[\u001b[0m \u001b[0m1\u001b[0m6\u001b[0m]\u001b[0m \u001b[0m<\u001b[0mm\u001b[0mo\u001b[0md\u001b[0mu\u001b[0ml\u001b[0me\u001b[0m \u001b[0m'\u001b[0mb\u001b[0mo\u001b[0mo\u001b[0mt\u001b[0m'\u001b[0m \u001b[0mf\u001b[0mr\u001b[0mo\u001b[0mm\u001b[0m \u001b[0m'\u001b[0mb\u001b[0mo\u001b[0mo\u001b[0mt\u001b[0m.\u001b[0mp\u001b[0my\u001b[0m'\u001b[0m>\u001b[0m\n",
      "\u001b[0m \u001b[0m \u001b[0m \u001b[0m \u001b[0m[\u001b[0m \u001b[0m \u001b[0m4\u001b[0m]\u001b[0m \u001b[0m1\u001b[0m6\u001b[0m1\u001b[0m3\u001b[0m1\u001b[0m7\u001b[0m8\u001b[0m4\u001b[0m6\u001b[0m2\u001b[0m\n",
      "\u001b[0m"
     ]
    }
   ],
   "source": [
    "from urpc import *\n",
    "import gc, sys\n",
    "gc_  = import_('gc')\n",
    "sys_ = import_('sys')\n",
    "\n",
    "host = sys.platform\n",
    "cop  = sys_.get_('platform')\n",
    "\n",
    "def report():\n",
    "    print(\"{:8}  free = {:6}\".format(host, gc.mem_free()))\n",
    "    print(\"{:8}  free = {:6}\".format(cop, gc_.mem_free()))\n",
    "    reg = registry_()\n",
    "    print(\"  ESP32 registry [{}]:\".format(len(reg)))\n",
    "    for k,v in reg.items():\n",
    "        print(\"    [{:3}] {}\".format(k, v))\n",
    "        \n",
    "report()\n",
    "print(\"\\n>>>>>>> collect ...\\n\")\n",
    "gc.collect()\n",
    "gc_.collect()\n",
    "report()"
   ]
  },
  {
   "cell_type": "code",
   "execution_count": null,
   "metadata": {},
   "outputs": [],
   "source": []
  }
 ],
 "metadata": {
  "kernelspec": {
   "display_name": "IoT",
   "language": "python",
   "name": "iot_kernel"
  },
  "language_info": {
   "codemirror_mode": {
    "name": "python",
    "version": 3
   },
   "file_extension": ".py",
   "mimetype": "text/x-python",
   "name": "python",
   "pygments_lexer": "python3",
   "version": "3"
  }
 },
 "nbformat": 4,
 "nbformat_minor": 4
}
