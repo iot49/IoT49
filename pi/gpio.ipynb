{
 "cells": [
  {
   "cell_type": "markdown",
   "id": "7dd275c5-e7ee-4b5f-bf47-c6ea0af3bf04",
   "metadata": {},
   "source": [
    "# Pi GPIO\n",
    "\n",
    "![Pi 4 Pinout](figures/pi4_pinout.png)\n",
    "\n",
    "**Notes:** \n",
    "\n",
    "* GPIO 0 & 1 (Pins 27 & 28) used by EEPROM I2C (conflicts with UART2)\n",
    "* UART0 used by Bluetooth\n",
    "* UART1 is \"mini UART\"\n",
    "\n",
    "[Documentation](https://www.tomshardware.com/reviews/raspberry-pi-gpio-pinout,6122.html)"
   ]
  },
  {
   "cell_type": "markdown",
   "id": "4bcabed6-5b41-4b93-92e0-b11000e66d7a",
   "metadata": {},
   "source": [
    "## Button Interrupt"
   ]
  },
  {
   "cell_type": "code",
   "execution_count": 1,
   "id": "042e3362-4dc5-48cb-8151-546ab41f06ca",
   "metadata": {},
   "outputs": [
    {
     "name": "stdout",
     "output_type": "stream",
     "text": [
      "pressed 33\n",
      "pressed 33\n",
      "pressed 33\n",
      "pressed 33\n"
     ]
    }
   ],
   "source": [
    "import RPi.GPIO as GPIO\n",
    "import time\n",
    "\n",
    "last_press = time.monotonic()\n",
    "\n",
    "def shutdown_cb(channel):\n",
    "    global last_press\n",
    "    if time.monotonic() - last_press > 0.1:\n",
    "        print(\"pressed\", channel)\n",
    "        last_press = time.monotonic()\n",
    "\n",
    "GPIO.setwarnings(False)\n",
    "\n",
    "# Pin numbering:\n",
    "#     GPIO.BCM    \"GPIOxx\"\n",
    "#     GPIO.BOARD  \"pysical pin numbers\" on header\n",
    "GPIO.setmode(GPIO.BOARD)\n",
    "GPIO.setup(33, GPIO.IN, pull_up_down=GPIO.PUD_UP)\n",
    "GPIO.add_event_detect(33, GPIO.FALLING, callback=shutdown_cb)\n",
    "\n",
    "for i in range(10):\n",
    "    # print(GPIO.input(33))\n",
    "    time.sleep(1)\n",
    "\n",
    "GPIO.cleanup()"
   ]
  },
  {
   "cell_type": "code",
   "execution_count": 1,
   "id": "f665458a-7a84-4712-ae28-fb1e3fc8c492",
   "metadata": {},
   "outputs": [
    {
     "ename": "AttributeError",
     "evalue": "module 'RPi.GPIO' has no attribute 'PUD_NONE'",
     "output_type": "error",
     "traceback": [
      "\u001b[0;31m---------------------------------------------------------------------------\u001b[0m",
      "\u001b[0;31mAttributeError\u001b[0m                            Traceback (most recent call last)",
      "\u001b[0;32m<ipython-input-1-1c21b5410d03>\u001b[0m in \u001b[0;36m<module>\u001b[0;34m\u001b[0m\n\u001b[1;32m     17\u001b[0m \u001b[0mGPIO\u001b[0m\u001b[0;34m.\u001b[0m\u001b[0msetmode\u001b[0m\u001b[0;34m(\u001b[0m\u001b[0mGPIO\u001b[0m\u001b[0;34m.\u001b[0m\u001b[0mBOARD\u001b[0m\u001b[0;34m)\u001b[0m\u001b[0;34m\u001b[0m\u001b[0;34m\u001b[0m\u001b[0m\n\u001b[1;32m     18\u001b[0m \u001b[0mGPIO\u001b[0m\u001b[0;34m.\u001b[0m\u001b[0msetup\u001b[0m\u001b[0;34m(\u001b[0m\u001b[0;36m33\u001b[0m\u001b[0;34m,\u001b[0m \u001b[0mGPIO\u001b[0m\u001b[0;34m.\u001b[0m\u001b[0mIN\u001b[0m\u001b[0;34m,\u001b[0m \u001b[0mpull_up_down\u001b[0m\u001b[0;34m=\u001b[0m\u001b[0mGPIO\u001b[0m\u001b[0;34m.\u001b[0m\u001b[0mPUD_UP\u001b[0m\u001b[0;34m)\u001b[0m\u001b[0;34m\u001b[0m\u001b[0;34m\u001b[0m\u001b[0m\n\u001b[0;32m---> 19\u001b[0;31m \u001b[0mGPIO\u001b[0m\u001b[0;34m.\u001b[0m\u001b[0msetup\u001b[0m\u001b[0;34m(\u001b[0m \u001b[0;36m8\u001b[0m\u001b[0;34m,\u001b[0m \u001b[0mGPIO\u001b[0m\u001b[0;34m.\u001b[0m\u001b[0mIN\u001b[0m\u001b[0;34m,\u001b[0m \u001b[0mpull_up_down\u001b[0m\u001b[0;34m=\u001b[0m\u001b[0mGPIO\u001b[0m\u001b[0;34m.\u001b[0m\u001b[0mPUD_NONE\u001b[0m\u001b[0;34m)\u001b[0m\u001b[0;34m\u001b[0m\u001b[0;34m\u001b[0m\u001b[0m\n\u001b[0m\u001b[1;32m     20\u001b[0m \u001b[0mGPIO\u001b[0m\u001b[0;34m.\u001b[0m\u001b[0msetup\u001b[0m\u001b[0;34m(\u001b[0m\u001b[0;36m10\u001b[0m\u001b[0;34m,\u001b[0m \u001b[0mGPIO\u001b[0m\u001b[0;34m.\u001b[0m\u001b[0mIN\u001b[0m\u001b[0;34m,\u001b[0m \u001b[0mpull_up_down\u001b[0m\u001b[0;34m=\u001b[0m\u001b[0mGPIO\u001b[0m\u001b[0;34m.\u001b[0m\u001b[0mPUD_NONE\u001b[0m\u001b[0;34m)\u001b[0m\u001b[0;34m\u001b[0m\u001b[0;34m\u001b[0m\u001b[0m\n\u001b[1;32m     21\u001b[0m \u001b[0;34m\u001b[0m\u001b[0m\n",
      "\u001b[0;31mAttributeError\u001b[0m: module 'RPi.GPIO' has no attribute 'PUD_NONE'"
     ]
    }
   ],
   "source": [
    "import RPi.GPIO as GPIO\n",
    "import time\n",
    "\n",
    "last_press = time.monotonic()\n",
    "\n",
    "def shutdown_cb(channel):\n",
    "    global last_press\n",
    "    if time.monotonic() - last_press > 0.1:\n",
    "        print(\"pressed\", channel)\n",
    "        last_press = time.monotonic()\n",
    "\n",
    "GPIO.setwarnings(False)\n",
    "\n",
    "# Pin numbering:\n",
    "#     GPIO.BCM    \"GPIOxx\"\n",
    "#     GPIO.BOARD  \"pysical pin numbers\" on header\n",
    "GPIO.setmode(GPIO.BOARD)\n",
    "GPIO.setup(33, GPIO.IN, pull_up_down=GPIO.PUD_UP)\n",
    "\n",
    "GPIO.add_event_detect(33, GPIO.FALLING, callback=shutdown_cb)\n",
    "\n",
    "for i in range(1000):\n",
    "    # print(GPIO.input(33))\n",
    "    time.sleep(1)\n",
    "\n",
    "GPIO.cleanup()"
   ]
  }
 ],
 "metadata": {
  "kernelspec": {
   "display_name": "Python 3",
   "language": "python",
   "name": "python3"
  },
  "language_info": {
   "codemirror_mode": {
    "name": "ipython",
    "version": 3
   },
   "file_extension": ".py",
   "mimetype": "text/x-python",
   "name": "python",
   "nbconvert_exporter": "python",
   "pygments_lexer": "ipython3",
   "version": "3.7.3"
  }
 },
 "nbformat": 4,
 "nbformat_minor": 5
}
