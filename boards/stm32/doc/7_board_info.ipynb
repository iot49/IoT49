{
 "cells": [
  {
   "cell_type": "markdown",
   "id": "legitimate-symposium",
   "metadata": {},
   "source": [
    "# Flash and RAM"
   ]
  },
  {
   "cell_type": "code",
   "execution_count": 1,
   "id": "ancient-orange",
   "metadata": {},
   "outputs": [
    {
     "name": "stdout",
     "output_type": "stream",
     "text": [
      "\u001b[0mtest-samd  serial:///dev/cu.usbmodem1413101        \u001b[0m\n",
      "robot-stm  serial:///dev/cu.usbmodem2082307B42521  \u001b[0m\n",
      "\u001b[0mConnected to test-samd @ serial:///dev/cu.usbmodem1413101\u001b[0m\n"
     ]
    }
   ],
   "source": [
    "%discover"
   ]
  },
  {
   "cell_type": "code",
   "execution_count": 1,
   "id": "diagnostic-musical",
   "metadata": {},
   "outputs": [
    {
     "name": "stdout",
     "output_type": "stream",
     "text": [
      "\n",
      "\u001b[0m-\u001b[0m-\u001b[0m-\u001b[0m-\u001b[0m-\u001b[0m-\u001b[0m-\u001b[0m-\u001b[0m-\u001b[0m-\u001b[0m-\u001b[0m-\u001b[0m-\u001b[0m-\u001b[0m-\u001b[0m-\u001b[0m-\u001b[0m-\u001b[0m-\u001b[0m-\u001b[0m-\u001b[0m-\u001b[0m-\u001b[0m-\u001b[0m-\u001b[0m-\u001b[0m-\u001b[0m-\u001b[0m-\u001b[0m-\u001b[0m\n",
      "\u001b[0m\u001b[0mrobot-stm\u001b[0m\n",
      "_\u001b[0m_\u001b[0mc\u001b[0ml\u001b[0ma\u001b[0ms\u001b[0ms\u001b[0m_\u001b[0m_\u001b[0m \u001b[0m \u001b[0m \u001b[0m \u001b[0m=\u001b[0m \u001b[0m<\u001b[0mc\u001b[0ml\u001b[0ma\u001b[0ms\u001b[0ms\u001b[0m \u001b[0m'\u001b[0mt\u001b[0mu\u001b[0mp\u001b[0ml\u001b[0me\u001b[0m'\u001b[0m>\u001b[0m\n",
      "\u001b[0mm\u001b[0ma\u001b[0mc\u001b[0mh\u001b[0mi\u001b[0mn\u001b[0me\u001b[0m \u001b[0m \u001b[0m \u001b[0m \u001b[0m \u001b[0m \u001b[0m=\u001b[0m \u001b[0mA\u001b[0md\u001b[0ma\u001b[0mf\u001b[0mr\u001b[0mu\u001b[0mi\u001b[0mt\u001b[0m \u001b[0mF\u001b[0me\u001b[0ma\u001b[0mt\u001b[0mh\u001b[0me\u001b[0mr\u001b[0m \u001b[0mS\u001b[0mT\u001b[0mM\u001b[0m3\u001b[0m2\u001b[0mF\u001b[0m4\u001b[0m0\u001b[0m5\u001b[0m \u001b[0mw\u001b[0mi\u001b[0mt\u001b[0mh\u001b[0m \u001b[0mS\u001b[0mT\u001b[0mM\u001b[0m3\u001b[0m2\u001b[0mF\u001b[0m4\u001b[0m0\u001b[0m5\u001b[0mR\u001b[0mG\u001b[0m\n",
      "\u001b[0mn\u001b[0mo\u001b[0md\u001b[0me\u001b[0mn\u001b[0ma\u001b[0mm\u001b[0me\u001b[0m \u001b[0m \u001b[0m \u001b[0m \u001b[0m \u001b[0m=\u001b[0m \u001b[0mp\u001b[0my\u001b[0mb\u001b[0mo\u001b[0ma\u001b[0mr\u001b[0md\u001b[0m\n",
      "\u001b[0mr\u001b[0me\u001b[0ml\u001b[0me\u001b[0ma\u001b[0ms\u001b[0me\u001b[0m \u001b[0m \u001b[0m \u001b[0m \u001b[0m \u001b[0m \u001b[0m=\u001b[0m \u001b[0m1\u001b[0m.\u001b[0m1\u001b[0m3\u001b[0m.\u001b[0m0\u001b[0m\n",
      "\u001b[0ms\u001b[0my\u001b[0ms\u001b[0mn\u001b[0ma\u001b[0mm\u001b[0me\u001b[0m \u001b[0m \u001b[0m \u001b[0m \u001b[0m \u001b[0m \u001b[0m=\u001b[0m \u001b[0mp\u001b[0my\u001b[0mb\u001b[0mo\u001b[0ma\u001b[0mr\u001b[0md\u001b[0m\n",
      "\u001b[0mv\u001b[0me\u001b[0mr\u001b[0ms\u001b[0mi\u001b[0mo\u001b[0mn\u001b[0m \u001b[0m \u001b[0m \u001b[0m \u001b[0m \u001b[0m \u001b[0m=\u001b[0m \u001b[0mv\u001b[0m1\u001b[0m.\u001b[0m1\u001b[0m3\u001b[0m-\u001b[0m3\u001b[0m5\u001b[0m8\u001b[0m-\u001b[0mg\u001b[0m2\u001b[0m9\u001b[0m7\u001b[0m1\u001b[0m3\u001b[0m7\u001b[0m0\u001b[0m3\u001b[0m6\u001b[0mb\u001b[0m-\u001b[0md\u001b[0mi\u001b[0mr\u001b[0mt\u001b[0my\u001b[0m \u001b[0mo\u001b[0mn\u001b[0m \u001b[0m2\u001b[0m0\u001b[0m2\u001b[0m1\u001b[0m-\u001b[0m0\u001b[0m2\u001b[0m-\u001b[0m2\u001b[0m2\u001b[0m\n",
      "\u001b[0ms\u001b[0mt\u001b[0ma\u001b[0mt\u001b[0mv\u001b[0mf\u001b[0ms\u001b[0m \u001b[0m \u001b[0m \u001b[0m \u001b[0m \u001b[0m \u001b[0m=\u001b[0m \u001b[0m(\u001b[0m5\u001b[0m1\u001b[0m2\u001b[0m,\u001b[0m \u001b[0m5\u001b[0m1\u001b[0m2\u001b[0m,\u001b[0m \u001b[0m2\u001b[0m2\u001b[0m4\u001b[0m,\u001b[0m \u001b[0m1\u001b[0m7\u001b[0m8\u001b[0m,\u001b[0m \u001b[0m1\u001b[0m7\u001b[0m8\u001b[0m,\u001b[0m \u001b[0m0\u001b[0m,\u001b[0m \u001b[0m0\u001b[0m,\u001b[0m \u001b[0m0\u001b[0m,\u001b[0m \u001b[0m0\u001b[0m,\u001b[0m \u001b[0m2\u001b[0m5\u001b[0m5\u001b[0m)\u001b[0m\n",
      "\u001b[0mf\u001b[0ml\u001b[0ma\u001b[0ms\u001b[0mh\u001b[0m \u001b[0ms\u001b[0mi\u001b[0mz\u001b[0me\u001b[0m \u001b[0m \u001b[0m \u001b[0m=\u001b[0m \u001b[0m8\u001b[0m9\u001b[0m \u001b[0mk\u001b[0mB\u001b[0m\n",
      "\u001b[0m\n",
      "\u001b[0m-\u001b[0m-\u001b[0m-\u001b[0m-\u001b[0m-\u001b[0m-\u001b[0m-\u001b[0m-\u001b[0m-\u001b[0m-\u001b[0m-\u001b[0m-\u001b[0m-\u001b[0m-\u001b[0m-\u001b[0m-\u001b[0m-\u001b[0m-\u001b[0m-\u001b[0m-\u001b[0m-\u001b[0m-\u001b[0m-\u001b[0m-\u001b[0m-\u001b[0m-\u001b[0m-\u001b[0m-\u001b[0m-\u001b[0m-\u001b[0m\n",
      "\u001b[0m\u001b[0mtest-samd\u001b[0m\n",
      "_\u001b[0m_\u001b[0mc\u001b[0ml\u001b[0ma\u001b[0ms\u001b[0ms\u001b[0m_\u001b[0m_\u001b[0m \u001b[0m \u001b[0m \u001b[0m \u001b[0m=\u001b[0m \u001b[0m<\u001b[0mc\u001b[0ml\u001b[0ma\u001b[0ms\u001b[0ms\u001b[0m \u001b[0m'\u001b[0mt\u001b[0mu\u001b[0mp\u001b[0ml\u001b[0me\u001b[0m'\u001b[0m>\u001b[0m\n",
      "\u001b[0mm\u001b[0ma\u001b[0mc\u001b[0mh\u001b[0mi\u001b[0mn\u001b[0me\u001b[0m \u001b[0m \u001b[0m \u001b[0m \u001b[0m \u001b[0m \u001b[0m=\u001b[0m \u001b[0mA\u001b[0md\u001b[0ma\u001b[0mf\u001b[0mr\u001b[0mu\u001b[0mi\u001b[0mt\u001b[0m \u001b[0mF\u001b[0me\u001b[0ma\u001b[0mt\u001b[0mh\u001b[0me\u001b[0mr\u001b[0m \u001b[0mM\u001b[0m4\u001b[0m \u001b[0mE\u001b[0mx\u001b[0mp\u001b[0mr\u001b[0me\u001b[0ms\u001b[0ms\u001b[0m \u001b[0mw\u001b[0mi\u001b[0mt\u001b[0mh\u001b[0m \u001b[0ms\u001b[0ma\u001b[0mm\u001b[0md\u001b[0m5\u001b[0m1\u001b[0mj\u001b[0m1\u001b[0m9\u001b[0m\n",
      "\u001b[0mn\u001b[0mo\u001b[0md\u001b[0me\u001b[0mn\u001b[0ma\u001b[0mm\u001b[0me\u001b[0m \u001b[0m \u001b[0m \u001b[0m \u001b[0m \u001b[0m=\u001b[0m \u001b[0ms\u001b[0ma\u001b[0mm\u001b[0md\u001b[0m5\u001b[0m1\u001b[0m\n",
      "\u001b[0mr\u001b[0me\u001b[0ml\u001b[0me\u001b[0ma\u001b[0ms\u001b[0me\u001b[0m \u001b[0m \u001b[0m \u001b[0m \u001b[0m \u001b[0m \u001b[0m=\u001b[0m \u001b[0m6\u001b[0m.\u001b[0m1\u001b[0m.\u001b[0m0\u001b[0m\n",
      "\u001b[0ms\u001b[0my\u001b[0ms\u001b[0mn\u001b[0ma\u001b[0mm\u001b[0me\u001b[0m \u001b[0m \u001b[0m \u001b[0m \u001b[0m \u001b[0m \u001b[0m=\u001b[0m \u001b[0ms\u001b[0ma\u001b[0mm\u001b[0md\u001b[0m5\u001b[0m1\u001b[0m\n",
      "\u001b[0mv\u001b[0me\u001b[0mr\u001b[0ms\u001b[0mi\u001b[0mo\u001b[0mn\u001b[0m \u001b[0m \u001b[0m \u001b[0m \u001b[0m \u001b[0m \u001b[0m=\u001b[0m \u001b[0m6\u001b[0m.\u001b[0m1\u001b[0m.\u001b[0m0\u001b[0m-\u001b[0mr\u001b[0mc\u001b[0m.\u001b[0m1\u001b[0m-\u001b[0m5\u001b[0m6\u001b[0m-\u001b[0mg\u001b[0m9\u001b[0m7\u001b[0m4\u001b[0mb\u001b[0m9\u001b[0m9\u001b[0m4\u001b[0m3\u001b[0mf\u001b[0m3\u001b[0m-\u001b[0md\u001b[0mi\u001b[0mr\u001b[0mt\u001b[0my\u001b[0m \u001b[0mo\u001b[0mn\u001b[0m \u001b[0m2\u001b[0m0\u001b[0m2\u001b[0m1\u001b[0m-\u001b[0m0\u001b[0m1\u001b[0m-\u001b[0m1\u001b[0m8\u001b[0m\n",
      "\u001b[0ms\u001b[0mt\u001b[0ma\u001b[0mt\u001b[0mv\u001b[0mf\u001b[0ms\u001b[0m \u001b[0m \u001b[0m \u001b[0m \u001b[0m \u001b[0m \u001b[0m=\u001b[0m \u001b[0m(\u001b[0m1\u001b[0m0\u001b[0m2\u001b[0m4\u001b[0m,\u001b[0m \u001b[0m1\u001b[0m0\u001b[0m2\u001b[0m4\u001b[0m,\u001b[0m \u001b[0m2\u001b[0m0\u001b[0m2\u001b[0m4\u001b[0m,\u001b[0m \u001b[0m1\u001b[0m9\u001b[0m3\u001b[0m9\u001b[0m,\u001b[0m \u001b[0m1\u001b[0m9\u001b[0m3\u001b[0m9\u001b[0m,\u001b[0m \u001b[0m0\u001b[0m,\u001b[0m \u001b[0m0\u001b[0m,\u001b[0m \u001b[0m0\u001b[0m,\u001b[0m \u001b[0m0\u001b[0m,\u001b[0m \u001b[0m2\u001b[0m5\u001b[0m5\u001b[0m)\u001b[0m\n",
      "\u001b[0mf\u001b[0ml\u001b[0ma\u001b[0ms\u001b[0mh\u001b[0m \u001b[0ms\u001b[0mi\u001b[0mz\u001b[0me\u001b[0m \u001b[0m \u001b[0m \u001b[0m=\u001b[0m \u001b[0m1\u001b[0m9\u001b[0m3\u001b[0m9\u001b[0m \u001b[0mk\u001b[0mB\u001b[0m\n",
      "\u001b[0m"
     ]
    }
   ],
   "source": [
    "%%connect --all\n",
    "\n",
    "print()\n",
    "print('-'*30)\n",
    "%name\n",
    "\n",
    "import os, micropython\n",
    "\n",
    "fmt = \"{:12} = {}\"\n",
    "uname = os.uname()\n",
    "for k in dir(uname):\n",
    "    print(fmt.format(k, getattr(uname, k)))\n",
    "    \n",
    "statvfs = os.statvfs('')\n",
    "print(fmt.format(\"statvfs\", statvfs))\n",
    "print(fmt.format(\"flash size\", int(statvfs[1]*statvfs[3]/1024)), \"kB\")"
   ]
  },
  {
   "cell_type": "code",
   "execution_count": 1,
   "id": "standing-printer",
   "metadata": {},
   "outputs": [
    {
     "name": "stdout",
     "output_type": "stream",
     "text": [
      "\u001b[0mConnected to robot-stm @ serial:///dev/cu.usbmodem2082307B42521\u001b[0m\n",
      "\u001b[0m\u001b[0m\n",
      "\u001b[46m\u001b[31m!!!!!!!!!!!!!!!!!!!!!!!!!!!!!!!\u001b[0m\n",
      "\u001b[46m\u001b[31m!!!!!   softreset ...     !!!!!\u001b[0m\n",
      "\u001b[46m\u001b[31m!!!!!!!!!!!!!!!!!!!!!!!!!!!!!!!\u001b[0m\n",
      "\u001b[0m\n",
      "-\u001b[0m-\u001b[0m-\u001b[0m-\u001b[0m-\u001b[0m-\u001b[0m-\u001b[0m-\u001b[0m-\u001b[0m-\u001b[0m-\u001b[0m-\u001b[0m-\u001b[0m-\u001b[0m-\u001b[0m-\u001b[0m-\u001b[0m-\u001b[0m-\u001b[0m-\u001b[0m \u001b[0mm\u001b[0me\u001b[0mm\u001b[0m_\u001b[0mi\u001b[0mn\u001b[0mf\u001b[0mo\u001b[0m:\u001b[0m\n",
      "\u001b[0ms\u001b[0mt\u001b[0ma\u001b[0mc\u001b[0mk\u001b[0m:\u001b[0m \u001b[0m5\u001b[0m8\u001b[0m0\u001b[0m \u001b[0mo\u001b[0mu\u001b[0mt\u001b[0m \u001b[0mo\u001b[0mf\u001b[0m \u001b[0m1\u001b[0m5\u001b[0m3\u001b[0m6\u001b[0m0\u001b[0m\n",
      "\u001b[0mG\u001b[0mC\u001b[0m:\u001b[0m \u001b[0mt\u001b[0mo\u001b[0mt\u001b[0ma\u001b[0ml\u001b[0m:\u001b[0m \u001b[0m1\u001b[0m0\u001b[0m3\u001b[0m4\u001b[0m2\u001b[0m4\u001b[0m,\u001b[0m \u001b[0mu\u001b[0ms\u001b[0me\u001b[0md\u001b[0m:\u001b[0m \u001b[0m1\u001b[0m5\u001b[0m5\u001b[0m2\u001b[0m,\u001b[0m \u001b[0mf\u001b[0mr\u001b[0me\u001b[0me\u001b[0m:\u001b[0m \u001b[0m1\u001b[0m0\u001b[0m1\u001b[0m8\u001b[0m7\u001b[0m2\u001b[0m\n",
      "\u001b[0m \u001b[0mN\u001b[0mo\u001b[0m.\u001b[0m \u001b[0mo\u001b[0mf\u001b[0m \u001b[0m1\u001b[0m-\u001b[0mb\u001b[0ml\u001b[0mo\u001b[0mc\u001b[0mk\u001b[0ms\u001b[0m:\u001b[0m \u001b[0m1\u001b[0m4\u001b[0m,\u001b[0m \u001b[0m2\u001b[0m-\u001b[0mb\u001b[0ml\u001b[0mo\u001b[0mc\u001b[0mk\u001b[0ms\u001b[0m:\u001b[0m \u001b[0m6\u001b[0m,\u001b[0m \u001b[0mm\u001b[0ma\u001b[0mx\u001b[0m \u001b[0mb\u001b[0ml\u001b[0mk\u001b[0m \u001b[0ms\u001b[0mz\u001b[0m:\u001b[0m \u001b[0m1\u001b[0m8\u001b[0m,\u001b[0m \u001b[0mm\u001b[0ma\u001b[0mx\u001b[0m \u001b[0mf\u001b[0mr\u001b[0me\u001b[0me\u001b[0m \u001b[0ms\u001b[0mz\u001b[0m:\u001b[0m \u001b[0m6\u001b[0m3\u001b[0m5\u001b[0m8\u001b[0m\n",
      "\u001b[0m-\u001b[0m-\u001b[0m-\u001b[0m-\u001b[0m-\u001b[0m-\u001b[0m-\u001b[0m-\u001b[0m-\u001b[0m-\u001b[0m-\u001b[0m-\u001b[0m-\u001b[0m-\u001b[0m-\u001b[0m-\u001b[0m-\u001b[0m-\u001b[0m-\u001b[0m-\u001b[0m \u001b[0mq\u001b[0ms\u001b[0mt\u001b[0mr\u001b[0m_\u001b[0mi\u001b[0mn\u001b[0mf\u001b[0mo\u001b[0m:\u001b[0m\n",
      "\u001b[0mq\u001b[0ms\u001b[0mt\u001b[0mr\u001b[0m \u001b[0mp\u001b[0mo\u001b[0mo\u001b[0ml\u001b[0m:\u001b[0m \u001b[0mn\u001b[0m_\u001b[0mp\u001b[0mo\u001b[0mo\u001b[0ml\u001b[0m=\u001b[0m1\u001b[0m,\u001b[0m \u001b[0mn\u001b[0m_\u001b[0mq\u001b[0ms\u001b[0mt\u001b[0mr\u001b[0m=\u001b[0m5\u001b[0m,\u001b[0m \u001b[0mn\u001b[0m_\u001b[0ms\u001b[0mt\u001b[0mr\u001b[0m_\u001b[0md\u001b[0ma\u001b[0mt\u001b[0ma\u001b[0m_\u001b[0mb\u001b[0my\u001b[0mt\u001b[0me\u001b[0ms\u001b[0m=\u001b[0m5\u001b[0m7\u001b[0m,\u001b[0m \u001b[0mn\u001b[0m_\u001b[0mt\u001b[0mo\u001b[0mt\u001b[0ma\u001b[0ml\u001b[0m_\u001b[0mb\u001b[0my\u001b[0mt\u001b[0me\u001b[0ms\u001b[0m=\u001b[0m1\u001b[0m5\u001b[0m3\u001b[0m\n",
      "\u001b[0mQ\u001b[0m(\u001b[0mb\u001b[0mo\u001b[0mo\u001b[0mt\u001b[0m.\u001b[0mp\u001b[0my\u001b[0m)\u001b[0m\n",
      "\u001b[0mQ\u001b[0m(\u001b[0m-\u001b[0m)\u001b[0m\n",
      "\u001b[0mQ\u001b[0m(\u001b[0mm\u001b[0me\u001b[0mm\u001b[0m_\u001b[0mi\u001b[0mn\u001b[0mf\u001b[0mo\u001b[0m:\u001b[0m)\u001b[0m\n",
      "\u001b[0mQ\u001b[0m(\u001b[0mq\u001b[0ms\u001b[0mt\u001b[0mr\u001b[0m_\u001b[0mi\u001b[0mn\u001b[0mf\u001b[0mo\u001b[0m:\u001b[0m)\u001b[0m\n",
      "\u001b[0mQ\u001b[0m(\u001b[0ms\u001b[0mt\u001b[0ma\u001b[0mc\u001b[0mk\u001b[0m_\u001b[0mu\u001b[0ms\u001b[0me\u001b[0m:\u001b[0m)\u001b[0m\n",
      "\u001b[0m-\u001b[0m-\u001b[0m-\u001b[0m-\u001b[0m-\u001b[0m-\u001b[0m-\u001b[0m-\u001b[0m-\u001b[0m-\u001b[0m-\u001b[0m-\u001b[0m-\u001b[0m-\u001b[0m-\u001b[0m-\u001b[0m-\u001b[0m-\u001b[0m-\u001b[0m-\u001b[0m \u001b[0ms\u001b[0mt\u001b[0ma\u001b[0mc\u001b[0mk\u001b[0m_\u001b[0mu\u001b[0ms\u001b[0me\u001b[0m:\u001b[0m\n",
      "\u001b[0m5\u001b[0m4\u001b[0m0\u001b[0m\n",
      "\u001b[0m"
     ]
    }
   ],
   "source": [
    "%connect robot-stm\n",
    "\n",
    "%softreset\n",
    "\n",
    "import micropython\n",
    "\n",
    "print('-'*20, 'mem_info:')\n",
    "micropython.mem_info()\n",
    "\n",
    "print('-'*20, 'qstr_info:')\n",
    "micropython.qstr_info(True)\n",
    "\n",
    "print('-'*20, 'stack_use:')\n",
    "print(micropython.stack_use())"
   ]
  },
  {
   "cell_type": "code",
   "execution_count": 1,
   "id": "breathing-corpus",
   "metadata": {},
   "outputs": [
    {
     "name": "stderr",
     "output_type": "stream",
     "text": [
      "MemoryError: \n",
      "\u001b[0m\n"
     ]
    }
   ],
   "source": [
    "micropython.heap_lock()\n",
    "\n",
    "a = 3.4\n",
    "\n",
    "# memory error can't be caught!\n",
    "try:\n",
    "    b = a * 3.5\n",
    "except MemoryError as e:\n",
    "    print(\"ERROR\")\n",
    "    print(e)\n",
    "    \n",
    "micropython.heap_unlock()   "
   ]
  },
  {
   "cell_type": "code",
   "execution_count": 1,
   "id": "behavioral-champagne",
   "metadata": {},
   "outputs": [
    {
     "name": "stderr",
     "output_type": "stream",
     "text": [
      "Traceback (most recent call last):\n",
      "  File \"<stdin>\", line 2, in <module>\n",
      "AttributeError: 'module' object has no attribute 'heap_locked'\n",
      "\u001b[0m\n"
     ]
    }
   ],
   "source": [
    "import micropython\n",
    "print(micropython.heap_locked())"
   ]
  },
  {
   "cell_type": "code",
   "execution_count": 1,
   "id": "adapted-lounge",
   "metadata": {},
   "outputs": [],
   "source": [
    "micropython.heap_unlock()  "
   ]
  },
  {
   "cell_type": "code",
   "execution_count": null,
   "id": "brown-bailey",
   "metadata": {},
   "outputs": [],
   "source": []
  }
 ],
 "metadata": {
  "kernelspec": {
   "display_name": "IoT",
   "language": "python",
   "name": "iot_kernel"
  },
  "language_info": {
   "codemirror_mode": {
    "name": "python",
    "version": 3
   },
   "file_extension": ".py",
   "mimetype": "text/x-python",
   "name": "python",
   "pygments_lexer": "python3",
   "version": "3"
  }
 },
 "nbformat": 4,
 "nbformat_minor": 5
}
