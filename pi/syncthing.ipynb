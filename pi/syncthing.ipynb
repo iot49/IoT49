{
 "cells": [
  {
   "cell_type": "markdown",
   "id": "unlike-korean",
   "metadata": {},
   "source": [
    "# Install Syncthing\n",
    "\n",
    "* Purpose: synchronize directories between computers on local network\n",
    "    * I use this to synchronize folders between my Mac and the Pi\n",
    "* [Official Site](https://syncthing.net/)\n",
    "* [Install Guide](https://pimylifeup.com/raspberry-pi-syncthing/)"
   ]
  },
  {
   "cell_type": "markdown",
   "id": "corporate-charity",
   "metadata": {},
   "source": [
    "## Install Software"
   ]
  },
  {
   "cell_type": "code",
   "execution_count": null,
   "id": "heated-prescription",
   "metadata": {},
   "outputs": [],
   "source": [
    "%%bash\n",
    "\n",
    "sudo apt update\n",
    "sudo apt -y full-upgrade\n",
    "sudo apt -y install apt-transport-https\n",
    "curl -s https://syncthing.net/release-key.txt | sudo apt-key add -\n",
    "echo \"deb https://apt.syncthing.net/ syncthing stable\" | sudo tee /etc/apt/sources.list.d/syncthing.list\n",
    "sudo apt update\n",
    "sudo apt install syncthing"
   ]
  },
  {
   "cell_type": "markdown",
   "id": "automatic-illustration",
   "metadata": {},
   "source": [
    "## Configure software"
   ]
  },
  {
   "cell_type": "code",
   "execution_count": null,
   "id": "detailed-october",
   "metadata": {},
   "outputs": [],
   "source": [
    "%%bash\n",
    "\n",
    "# list of filed/dirs that never sync (https://docs.syncthing.net/users/ignoring.html)\n",
    "cat << 'EOF' > ~/.stignore\n",
    "(?d).DS_Store\n",
    ".envrc\n",
    ".direnv\n",
    ".git\n",
    ".ipynb_checkpoints*\n",
    "__pycache__\n",
    "ehthumbs.db\n",
    "Icon?\n",
    "Thumbs.db\n",
    "\n",
    "EOF\n",
    "\n",
    "# start then kill to create default configuration\n",
    "syncthing &\n",
    "last_pid=$!\n",
    "echo $last_pid\n",
    "sleep 5\n",
    "kill -KILL $last_pid\n",
    "\n",
    "# web access from any authorized device\n",
    "cd ~/.config/syncthing\n",
    "cp config.xml config.xml.bak\n",
    "sed -i 's/127\\.0\\.0\\.1:8384/0\\.0\\.0\\.0:8384/g' config.xml\n",
    "\n",
    "# install service\n",
    "sudo tee /lib/systemd/system/syncthing.service << EOF\n",
    "[Unit]\n",
    "Description=Syncthing - Open Source Continuous File Synchronization\n",
    "Documentation=man:syncthing(1)\n",
    "After=network.target\n",
    "\n",
    "[Service]\n",
    "User=pi\n",
    "ExecStart=/usr/bin/syncthing -no-browser -no-restart -logflags=0\n",
    "Restart=on-failure\n",
    "RestartSec=5\n",
    "SuccessExitStatus=3 4\n",
    "RestartForceExitStatus=3 4\n",
    "\n",
    "# Hardening\n",
    "ProtectSystem=full\n",
    "PrivateTmp=true\n",
    "SystemCallArchitectures=native\n",
    "MemoryDenyWriteExecute=true\n",
    "NoNewPrivileges=true\n",
    "\n",
    "[Install]\n",
    "WantedBy=multi-user.target\n",
    "EOF\n",
    "\n",
    "# start service\n",
    "sudo systemctl enable syncthing\n",
    "sudo systemctl start syncthing"
   ]
  },
  {
   "cell_type": "markdown",
   "id": "liable-omaha",
   "metadata": {},
   "source": [
    "## Verify Syncthing is running"
   ]
  },
  {
   "cell_type": "code",
   "execution_count": 4,
   "id": "cardiac-abraham",
   "metadata": {},
   "outputs": [
    {
     "name": "stdout",
     "output_type": "stream",
     "text": [
      "\u001b[0;1;32m●\u001b[0m syncthing.service - Syncthing - Open Source Continuous File Synchronization\n",
      "   Loaded: loaded (\u001b]8;;file://pitest/lib/systemd/system/syncthing.service\u0007/lib/systemd/system/syncthing.service\u001b]8;;\u0007; enabled; vendor preset: enabled)\n",
      "   Active: \u001b[0;1;32mactive (running)\u001b[0m since Sun 2021-03-14 18:50:39 PDT; 4min 29s ago\n",
      "     Docs: \u001b]8;;man:syncthing(1)\u0007man:syncthing(1)\u001b]8;;\u0007\n",
      " Main PID: 3007 (syncthing)\n",
      "    Tasks: 53 (limit: 2062)\n",
      "   CGroup: /system.slice/syncthing.service\n",
      "           ├─3007 /usr/bin/syncthing -no-browser -no-restart -logflags=0\n",
      "           └─3017 /usr/bin/syncthing -no-browser -no-restart -logflags=0\n",
      "\n",
      "Mar 14 18:50:42 pitest syncthing[3007]: [Y4DVB] INFO: My name is \"pitest\"\n",
      "Mar 14 18:50:42 pitest syncthing[3007]: [Y4DVB] INFO: Device GEYHWD3-7Y4Y3X…mic]\n",
      "Mar 14 18:50:49 pitest syncthing[3007]: [Y4DVB] INFO: Established secure co…A256\n",
      "Mar 14 18:50:49 pitest syncthing[3007]: [Y4DVB] INFO: Device GEYHWD3-7Y4Y3X…A256\n",
      "Mar 14 18:50:49 pitest syncthing[3007]: [Y4DVB] INFO: Device GEYHWD3-7Y4Y3X…CE4)\n",
      "Mar 14 18:50:56 pitest syncthing[3007]: [Y4DVB] INFO: Detected 1 NAT service\n",
      "Mar 14 18:51:01 pitest syncthing[3007]: [Y4DVB] INFO: quic://0.0.0.0:22000 … NAT\n",
      "Mar 14 18:51:01 pitest syncthing[3007]: [Y4DVB] INFO: quic://0.0.0.0:22000 …478)\n",
      "Mar 14 18:51:19 pitest syncthing[3007]: [Y4DVB] INFO: Completed initial sca…t49)\n",
      "Mar 14 18:51:35 pitest syncthing[3007]: [Y4DVB] INFO: Joined relay relay://…:443\n",
      "Hint: Some lines were ellipsized, use -l to show in full.\n"
     ]
    }
   ],
   "source": [
    "!sudo systemctl --no-pager status syncthing"
   ]
  },
  {
   "cell_type": "markdown",
   "id": "widespread-console",
   "metadata": {},
   "source": [
    "## Configure from Web Interface\n",
    "\n",
    "Consult the [Syncthing documentation](https://syncthing.net/) or the [Install Guide](https://pimylifeup.com/raspberry-pi-syncthing/) for details.\n",
    "\n",
    "Summary of procedure:\n",
    "\n",
    "* go to http://yourpi.local:8384\n",
    "* Click `Danger/Settings`\n",
    "   * Select `GUI` tab\n",
    "   * Enter GUI Authentication user and password\n",
    "      * e.g. your name and something that's hard to guess\n",
    "   * click Save\n",
    "* Click `Actions/Show ID`\n",
    "   * Copy ID to Syncthing on remote (e.g. Mac) you want to share files with\n",
    "      * Note: Syncthing must be running on remote!\n",
    "      * on your remote, go to http://localhost:8384\n",
    "      * `Add Remote Device`\n",
    "      * On Pi, accept remote request\n",
    "      * On remote (Mac), the new Pi will show up\n",
    "      * Click on it and press `Edit`\n",
    "      * Add the folders you want to share"
   ]
  },
  {
   "cell_type": "code",
   "execution_count": null,
   "id": "noticed-academy",
   "metadata": {},
   "outputs": [],
   "source": []
  }
 ],
 "metadata": {
  "kernelspec": {
   "display_name": "Python 3",
   "language": "python",
   "name": "python3"
  },
  "language_info": {
   "codemirror_mode": {
    "name": "ipython",
    "version": 3
   },
   "file_extension": ".py",
   "mimetype": "text/x-python",
   "name": "python",
   "nbconvert_exporter": "python",
   "pygments_lexer": "ipython3",
   "version": "3.7.3"
  }
 },
 "nbformat": 4,
 "nbformat_minor": 5
}
