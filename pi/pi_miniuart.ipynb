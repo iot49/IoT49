{
 "cells": [
  {
   "cell_type": "markdown",
   "id": "induced-cleveland",
   "metadata": {},
   "source": [
    "# Pi3 mini-uart\n",
    "\n",
    "**Configure mini-uart (miniserial) for gpio use (disable console).**\n",
    "\n",
    "* [Official Documentation](https://www.raspberrypi.org/documentation/configuration/uart.md)\n",
    "* [Detailed Instructions](https://www.circuits.dk/setup-raspberry-pi-3-gpio-uart/)\n",
    "* Default Pi3 configuration:\n",
    "   * primary serial for BT @ /dev/ttyAMA0\n",
    "   * miniserial for console @ /dev/ttyS0, availabe on GPIO pins 8 & 10\n",
    "* mini UART features:\n",
    "   * 8 symbols deep FIFOs for receive and transmit.\n",
    "   * 7 or 8 bit operation.\n",
    "   * 1 start and 1 stop bit.\n",
    "   * No parities.\n",
    "   * Break generation.\n",
    "   * SW controlled RTS, SW readable CTS.\n",
    "   * Auto flow control with programmable FIFO level.\n",
    "   * Baudrate derived from system clock."
   ]
  },
  {
   "cell_type": "markdown",
   "id": "northern-chemistry",
   "metadata": {},
   "source": [
    "## Enable mini UART for GPIO\n",
    "\n",
    "1. Enable: add `enable_uart=1` to `boot/config.txt`\n",
    "   * `sudo nano /boot/config.txt`\n",
    "2. Reboot & look for `/dev/serial0 -> ttyS0`\n",
    "   * `/dev/serial1 -> /dev/ttyAMA0` is used for BT"
   ]
  },
  {
   "cell_type": "markdown",
   "id": "fuzzy-repeat",
   "metadata": {},
   "source": [
    "## Disable the Console\n",
    "\n",
    "For Raspberry Pi 3’s the command is referencing /dev/ttyS0:"
   ]
  },
  {
   "cell_type": "code",
   "execution_count": 1,
   "id": "lined-brooks",
   "metadata": {},
   "outputs": [],
   "source": [
    "!sudo systemctl stop serial-getty@ttyS0.service\n",
    "!sudo systemctl disable serial-getty@ttyS0.service"
   ]
  },
  {
   "cell_type": "code",
   "execution_count": 4,
   "id": "contemporary-expense",
   "metadata": {},
   "outputs": [
    {
     "name": "stdout",
     "output_type": "stream",
     "text": [
      "console=tty1 root=PARTUUID=4c969853-02 rootfstype=ext4 elevator=deadline fsck.repair=yes rootwait\n"
     ]
    }
   ],
   "source": [
    "# remove 'console=serial0,115200' from `/boot/cmdline.txt`\n",
    "\n",
    "%cat  /boot/cmdline.txt"
   ]
  },
  {
   "cell_type": "code",
   "execution_count": null,
   "id": "executive-disposal",
   "metadata": {},
   "outputs": [],
   "source": [
    "!sudo reboot now"
   ]
  },
  {
   "cell_type": "markdown",
   "id": "accessory-protein",
   "metadata": {},
   "source": [
    "## Tests\n",
    "\n",
    "Short RX to TX on header: https://pinout.xyz/"
   ]
  },
  {
   "cell_type": "code",
   "execution_count": 9,
   "id": "human-savings",
   "metadata": {},
   "outputs": [
    {
     "name": "stdout",
     "output_type": "stream",
     "text": [
      "0 Hello world!\n",
      "1 Hello world!\n",
      "2 Hello world!\n",
      "3 Hello world!\n",
      "4 Hello world!\n",
      "5 Hello world!\n",
      "6 Hello world!\n",
      "7 Hello world!\n",
      "8 Hello world!\n",
      "9 Hello world!\n"
     ]
    }
   ],
   "source": [
    "import serial, time\n",
    "\n",
    "baudrate = 9600\n",
    "baudrate = 115200\n",
    "baudrate = 4000_000\n",
    "\n",
    "with serial.Serial(\"/dev/serial0\", baudrate=baudrate, timeout=3.0) as dev:\n",
    "    for i in range(10):\n",
    "        dev.write(f\"{i} Hello world!\".encode())\n",
    "        time.sleep(0.1)\n",
    "        while dev.in_waiting:\n",
    "            rcv = dev.read(dev.in_waiting)\n",
    "            print(rcv.decode())"
   ]
  },
  {
   "cell_type": "code",
   "execution_count": 23,
   "id": "pretty-jacksonville",
   "metadata": {},
   "outputs": [
    {
     "name": "stdout",
     "output_type": "stream",
     "text": [
      "MATCH!\n"
     ]
    }
   ],
   "source": [
    "import serial, os, time\n",
    "\n",
    "N = 4000\n",
    "\n",
    "baudrate = 9600\n",
    "baudrate = 115200\n",
    "baudrate = 1000_000\n",
    "\n",
    "with serial.Serial(\"/dev/serial0\", baudrate=baudrate, timeout=3.0) as dev:\n",
    "    for i in range(2):\n",
    "        data = os.urandom(N)\n",
    "        dev.write(data)\n",
    "        while dev.in_waiting < N:\n",
    "            time.sleep(0.001)\n",
    "        recv = dev.read(N)\n",
    "        if recv != data:\n",
    "            print(f\"mismatch: {data} != {recv}\")\n",
    "        \n",
    "print(\"MATCH!\")"
   ]
  },
  {
   "cell_type": "markdown",
   "id": "outstanding-permission",
   "metadata": {},
   "source": [
    "## Flow Control\n",
    "\n",
    "https://ethertubes.com/raspberry-pi-rts-cts-flow-control/"
   ]
  },
  {
   "cell_type": "code",
   "execution_count": null,
   "id": "proved-vertical",
   "metadata": {},
   "outputs": [],
   "source": []
  }
 ],
 "metadata": {
  "kernelspec": {
   "display_name": "Python 3",
   "language": "python",
   "name": "python3"
  },
  "language_info": {
   "codemirror_mode": {
    "name": "ipython",
    "version": 3
   },
   "file_extension": ".py",
   "mimetype": "text/x-python",
   "name": "python",
   "nbconvert_exporter": "python",
   "pygments_lexer": "ipython3",
   "version": "3.7.3"
  },
  "toc-autonumbering": false
 },
 "nbformat": 4,
 "nbformat_minor": 5
}
