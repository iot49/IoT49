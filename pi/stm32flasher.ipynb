{
 "cells": [
  {
   "cell_type": "markdown",
   "id": "concerned-settle",
   "metadata": {},
   "source": [
    "# STM32 flashing from rpi\n",
    "\n",
    "* STM32 Bootloader\n",
    "  * [AN2606](https://www.st.com/resource/en/application_note/cd00167594-stm32-microcontroller-system-memory-boot-mode-stmicroelectronics.pdf)\n",
    "     * STM32F40xxx/41xxx (Table 53, page 109)\n",
    "     * Bootloader enabled on \n",
    "        * USART1: RX=PA10, TX=PA9\n",
    "        * USART3: RX=PB11, TX=PB10 or RX=PC11, TX=PC10\n",
    "     * Adafruit STM32F405\n",
    "        * RX/TX pins are PB11, PB10 (UART3)\n",
    "        * others not available\n",
    "\n",
    "* [MicroPython UART REPL](https://github.com/micropython/micropython/blob/master/ports/stm32/boards/NUCLEO_F411RE/mpconfigboard.h)\n",
    "  * [MicroPython Forum](https://forum.micropython.org/viewtopic.php?f=6&t=7425)\n",
    "\n",
    "* Serial flasher:\n",
    "  * [Python `stm32loader` - doesn't work](https://pypi.org/project/stm32loader/)\n",
    "  * [C `stm32flash`](https://sourceforge.net/p/stm32flash/wiki/Home/)\n",
    "  * [Instructions (C)](https://siliconjunction.wordpress.com/2017/03/21/flashing-the-stm32f-board-using-a-raspberry-pi-3/)\n",
    "\n"
   ]
  },
  {
   "cell_type": "markdown",
   "id": "correct-leader",
   "metadata": {},
   "source": [
    "## C flasher"
   ]
  },
  {
   "cell_type": "code",
   "execution_count": 14,
   "id": "junior-testament",
   "metadata": {},
   "outputs": [
    {
     "name": "stdout",
     "output_type": "stream",
     "text": [
      "AUTHORS\n",
      "Android.mk\n",
      "HOWTO\n",
      "I2C.txt\n",
      "INSTALL\n",
      "Makefile\n",
      "Makefile.am\n",
      "TODO\n",
      "compiler.h\n",
      "configure.ac\n",
      "dev_table.c\n",
      "gpl-2.0.txt\n",
      "i2c.c\n",
      "init.c\n",
      "init.h\n",
      "main.c\n",
      "parsers\n",
      "port.c\n",
      "port.h\n",
      "protocol.txt\n",
      "serial.h\n",
      "serial_common.c\n",
      "serial_platform.c\n",
      "serial_posix.c\n",
      "serial_w32.c\n",
      "stm32.c\n",
      "stm32.h\n",
      "stm32flash.1\n",
      "utils.c\n",
      "utils.h\n"
     ]
    },
    {
     "name": "stderr",
     "output_type": "stream",
     "text": [
      "Cloning into 'stm32flash-code'...\n"
     ]
    }
   ],
   "source": [
    "%%bash\n",
    "\n",
    "cd ~\n",
    "git clone https://git.code.sf.net/p/stm32flash/code stm32flash-code\n",
    "cd stm32flash-code\n",
    "ls"
   ]
  },
  {
   "cell_type": "code",
   "execution_count": 15,
   "id": "dirty-election",
   "metadata": {},
   "outputs": [
    {
     "name": "stdout",
     "output_type": "stream",
     "text": [
      "cc -Wall -g   -c -o dev_table.o dev_table.c\n",
      "cc -Wall -g   -c -o i2c.o i2c.c\n",
      "cc -Wall -g   -c -o init.o init.c\n",
      "cc -Wall -g   -c -o main.o main.c\n",
      "cc -Wall -g   -c -o port.o port.c\n",
      "cc -Wall -g   -c -o serial_common.o serial_common.c\n",
      "cc -Wall -g   -c -o serial_platform.o serial_platform.c\n",
      "cc -Wall -g   -c -o stm32.o stm32.c\n",
      "cc -Wall -g   -c -o utils.o utils.c\n",
      "cd parsers && make parsers.a\n",
      "make[1]: Entering directory '/home/stm32flash-code/parsers'\n",
      "cc -Wall -g   -c -o binary.o binary.c\n",
      "cc -Wall -g   -c -o hex.o hex.c\n",
      "ar rc parsers.a binary.o hex.o\n",
      "make[1]: Leaving directory '/home/stm32flash-code/parsers'\n",
      "cc  -o stm32flash dev_table.o i2c.o init.o main.o port.o serial_common.o serial_platform.o stm32.o utils.o parsers/parsers.a\n",
      "install -d /usr/local/bin\n",
      "install -m 755 stm32flash /usr/local/bin\n",
      "install -d /usr/local/share/man/man1\n",
      "install -m 644 stm32flash.1 /usr/local/share/man/man1\n"
     ]
    }
   ],
   "source": [
    "%%bash\n",
    "\n",
    "cd ~/stm32flash-code\n",
    "make install"
   ]
  },
  {
   "cell_type": "code",
   "execution_count": 2,
   "id": "silent-lighting",
   "metadata": {},
   "outputs": [
    {
     "name": "stdout",
     "output_type": "stream",
     "text": [
      "/bin/bash: stm32flash: command not found\n"
     ]
    }
   ],
   "source": [
    "!stm32flash -h"
   ]
  },
  {
   "cell_type": "code",
   "execution_count": 1,
   "id": "organized-colorado",
   "metadata": {},
   "outputs": [
    {
     "name": "stdout",
     "output_type": "stream",
     "text": [
      "stm32flash 0.6\n",
      "\n",
      "http://stm32flash.sourceforge.net/\n",
      "\n",
      "Interface serial_posix: 57600 8E1\n",
      "Version      : 0x31\n",
      "Option 1     : 0x00\n",
      "Option 2     : 0x00\n",
      "Device ID    : 0x0413 (STM32F40xxx/41xxx)\n",
      "- RAM        : Up to 128KiB  (12288b reserved by bootloader)\n",
      "- Flash      : Up to 1024KiB (size first sector: 1x16384)\n",
      "- Option RAM : 16b\n",
      "- System RAM : 30KiB\n",
      "\n"
     ]
    }
   ],
   "source": [
    "!stm32flash /dev/serial0"
   ]
  },
  {
   "cell_type": "code",
   "execution_count": 3,
   "id": "committed-logan",
   "metadata": {},
   "outputs": [
    {
     "name": "stdout",
     "output_type": "stream",
     "text": [
      "stm32flash 0.6\n",
      "\n",
      "http://stm32flash.sourceforge.net/\n",
      "\n",
      "Using Parser : Raw BINARY\n",
      "Interface serial_posix: 57600 8E1\n",
      "Version      : 0x31\n",
      "Option 1     : 0x00\n",
      "Option 2     : 0x00\n",
      "Device ID    : 0x0413 (STM32F40xxx/41xxx)\n",
      "- RAM        : Up to 128KiB  (12288b reserved by bootloader)\n",
      "- Flash      : Up to 1024KiB (size first sector: 1x16384)\n",
      "- Option RAM : 16b\n",
      "- System RAM : 30KiB\n",
      "Write to memory\n",
      "Erasing memory\n",
      "Wrote and verified address 0x080039c4 (100.00%) Done.\n",
      "\n"
     ]
    }
   ],
   "source": [
    "!stm32flash -v -S 0x08000000 -w $IOT/iot-bin/micropython/stm32-MOTOR_HAT_BREAKOUT-firmware0.bin /dev/serial0 "
   ]
  },
  {
   "cell_type": "code",
   "execution_count": 4,
   "id": "included-ottawa",
   "metadata": {},
   "outputs": [
    {
     "name": "stdout",
     "output_type": "stream",
     "text": [
      "stm32flash 0.6\n",
      "\n",
      "http://stm32flash.sourceforge.net/\n",
      "\n",
      "Using Parser : Raw BINARY\n",
      "Interface serial_posix: 57600 8E1\n",
      "Version      : 0x31\n",
      "Option 1     : 0x00\n",
      "Option 2     : 0x00\n",
      "Device ID    : 0x0413 (STM32F40xxx/41xxx)\n",
      "- RAM        : Up to 128KiB  (12288b reserved by bootloader)\n",
      "- Flash      : Up to 1024KiB (size first sector: 1x16384)\n",
      "- Option RAM : 16b\n",
      "- System RAM : 30KiB\n",
      "Write to memory\n",
      "Erasing memory\n",
      "Wrote and verified address 0x08073464 (100.00%) Done.\n",
      "\n"
     ]
    }
   ],
   "source": [
    "!stm32flash -v -S 0x08020000 -w $IOT/iot-bin/micropython/stm32-MOTOR_HAT_BREAKOUT-firmware1.bin /dev/serial0 "
   ]
  },
  {
   "cell_type": "code",
   "execution_count": 6,
   "id": "weekly-beatles",
   "metadata": {},
   "outputs": [
    {
     "name": "stdout",
     "output_type": "stream",
     "text": [
      "MPY: can't mount SD card\n",
      "1 chips detected. Total flash size 2MiB.\n",
      "MicroPython v1.13-361-g0ed11821d0-dirty on 2021-03-09; Motor Breakout Hat with STM32F405RG\n",
      "Type \"help()\" for more information.\n",
      ">>> \n",
      "MPY: can't mount SD card\n",
      "1 chips detected. Total flash size 2MiB.\n",
      "MicroPython v1.13-361-g0ed11821d0-dirty on 2021-03-09; Motor Breakout Hat with STM32F405RG\n",
      "Type \"help()\" for more information.\n",
      ">>> \n",
      "> >>\n",
      "r P;T-  i\n"
     ]
    },
    {
     "ename": "KeyboardInterrupt",
     "evalue": "",
     "output_type": "error",
     "traceback": [
      "\u001b[0;31m---------------------------------------------------------------------------\u001b[0m",
      "\u001b[0;31mKeyboardInterrupt\u001b[0m                         Traceback (most recent call last)",
      "\u001b[0;32m<ipython-input-6-e590e8d27e9d>\u001b[0m in \u001b[0;36m<module>\u001b[0;34m\u001b[0m\n\u001b[1;32m      4\u001b[0m     \u001b[0;32mfor\u001b[0m \u001b[0mi\u001b[0m \u001b[0;32min\u001b[0m \u001b[0mrange\u001b[0m\u001b[0;34m(\u001b[0m\u001b[0;36m5000\u001b[0m\u001b[0;34m)\u001b[0m\u001b[0;34m:\u001b[0m\u001b[0;34m\u001b[0m\u001b[0;34m\u001b[0m\u001b[0m\n\u001b[1;32m      5\u001b[0m         \u001b[0;31m# dev.write(b\"print('i = {}'.format(i))\\n\\r\")\u001b[0m\u001b[0;34m\u001b[0m\u001b[0;34m\u001b[0m\u001b[0;34m\u001b[0m\u001b[0m\n\u001b[0;32m----> 6\u001b[0;31m         \u001b[0mrcv\u001b[0m \u001b[0;34m=\u001b[0m \u001b[0mdev\u001b[0m\u001b[0;34m.\u001b[0m\u001b[0mread\u001b[0m\u001b[0;34m(\u001b[0m\u001b[0;34m)\u001b[0m\u001b[0;34m.\u001b[0m\u001b[0mdecode\u001b[0m\u001b[0;34m(\u001b[0m\u001b[0;34m)\u001b[0m\u001b[0;34m\u001b[0m\u001b[0;34m\u001b[0m\u001b[0m\n\u001b[0m\u001b[1;32m      7\u001b[0m         \u001b[0mprint\u001b[0m\u001b[0;34m(\u001b[0m\u001b[0mrcv\u001b[0m\u001b[0;34m,\u001b[0m \u001b[0mend\u001b[0m\u001b[0;34m=\u001b[0m\u001b[0;34m''\u001b[0m\u001b[0;34m)\u001b[0m\u001b[0;34m\u001b[0m\u001b[0;34m\u001b[0m\u001b[0m\n",
      "\u001b[0;32m~/.venv/jns/lib/python3.7/site-packages/serial/serialposix.py\u001b[0m in \u001b[0;36mread\u001b[0;34m(self, size)\u001b[0m\n\u001b[1;32m    563\u001b[0m         \u001b[0;32mwhile\u001b[0m \u001b[0mlen\u001b[0m\u001b[0;34m(\u001b[0m\u001b[0mread\u001b[0m\u001b[0;34m)\u001b[0m \u001b[0;34m<\u001b[0m \u001b[0msize\u001b[0m\u001b[0;34m:\u001b[0m\u001b[0;34m\u001b[0m\u001b[0;34m\u001b[0m\u001b[0m\n\u001b[1;32m    564\u001b[0m             \u001b[0;32mtry\u001b[0m\u001b[0;34m:\u001b[0m\u001b[0;34m\u001b[0m\u001b[0;34m\u001b[0m\u001b[0m\n\u001b[0;32m--> 565\u001b[0;31m                 \u001b[0mready\u001b[0m\u001b[0;34m,\u001b[0m \u001b[0m_\u001b[0m\u001b[0;34m,\u001b[0m \u001b[0m_\u001b[0m \u001b[0;34m=\u001b[0m \u001b[0mselect\u001b[0m\u001b[0;34m.\u001b[0m\u001b[0mselect\u001b[0m\u001b[0;34m(\u001b[0m\u001b[0;34m[\u001b[0m\u001b[0mself\u001b[0m\u001b[0;34m.\u001b[0m\u001b[0mfd\u001b[0m\u001b[0;34m,\u001b[0m \u001b[0mself\u001b[0m\u001b[0;34m.\u001b[0m\u001b[0mpipe_abort_read_r\u001b[0m\u001b[0;34m]\u001b[0m\u001b[0;34m,\u001b[0m \u001b[0;34m[\u001b[0m\u001b[0;34m]\u001b[0m\u001b[0;34m,\u001b[0m \u001b[0;34m[\u001b[0m\u001b[0;34m]\u001b[0m\u001b[0;34m,\u001b[0m \u001b[0mtimeout\u001b[0m\u001b[0;34m.\u001b[0m\u001b[0mtime_left\u001b[0m\u001b[0;34m(\u001b[0m\u001b[0;34m)\u001b[0m\u001b[0;34m)\u001b[0m\u001b[0;34m\u001b[0m\u001b[0;34m\u001b[0m\u001b[0m\n\u001b[0m\u001b[1;32m    566\u001b[0m                 \u001b[0;32mif\u001b[0m \u001b[0mself\u001b[0m\u001b[0;34m.\u001b[0m\u001b[0mpipe_abort_read_r\u001b[0m \u001b[0;32min\u001b[0m \u001b[0mready\u001b[0m\u001b[0;34m:\u001b[0m\u001b[0;34m\u001b[0m\u001b[0;34m\u001b[0m\u001b[0m\n\u001b[1;32m    567\u001b[0m                     \u001b[0mos\u001b[0m\u001b[0;34m.\u001b[0m\u001b[0mread\u001b[0m\u001b[0;34m(\u001b[0m\u001b[0mself\u001b[0m\u001b[0;34m.\u001b[0m\u001b[0mpipe_abort_read_r\u001b[0m\u001b[0;34m,\u001b[0m \u001b[0;36m1000\u001b[0m\u001b[0;34m)\u001b[0m\u001b[0;34m\u001b[0m\u001b[0;34m\u001b[0m\u001b[0m\n",
      "\u001b[0;31mKeyboardInterrupt\u001b[0m: "
     ]
    }
   ],
   "source": [
    "import serial, time\n",
    "\n",
    "with serial.Serial(\"/dev/serial0\", baudrate=115200, timeout=1.0) as dev:\n",
    "    for i in range(5000):\n",
    "        # dev.write(b\"print('i = {}'.format(i))\\n\\r\")\n",
    "        rcv = dev.read().decode()\n",
    "        print(rcv, end='')"
   ]
  },
  {
   "cell_type": "code",
   "execution_count": null,
   "id": "aging-japanese",
   "metadata": {},
   "outputs": [],
   "source": []
  }
 ],
 "metadata": {
  "kernelspec": {
   "display_name": "IoT",
   "language": "python",
   "name": "iot_kernel"
  },
  "language_info": {
   "codemirror_mode": {
    "name": "python",
    "version": 3
   },
   "file_extension": ".py",
   "mimetype": "text/x-python",
   "name": "python",
   "pygments_lexer": "python3",
   "version": "3"
  }
 },
 "nbformat": 4,
 "nbformat_minor": 5
}
