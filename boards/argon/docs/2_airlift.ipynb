{
 "cells": [
  {
   "cell_type": "markdown",
   "metadata": {},
   "source": [
    "# Install Airlift"
   ]
  },
  {
   "cell_type": "code",
   "execution_count": 1,
   "metadata": {},
   "outputs": [
    {
     "name": "stdout",
     "output_type": "stream",
     "text": [
      "\u001b[0mtest-stm32-cop                 serial:///dev/cu.usbserial-0143520E     \n",
      "\u001b[0mtest-stm32                     serial:///dev/cu.usbmodem208E307542522  \n",
      "\u001b[0mtest-argon                     serial:///dev/cu.usbmodem1414301        \n",
      "\u001b[0m\u001b[0mConnected to test-argon @ serial:///dev/cu.usbmodem1414301\n",
      "\u001b[0m\u001b[0m\u001b[32mDirectories match\n",
      "\u001b[0m\u001b[0m\u001b[0m\n",
      "\u001b[0m\u001b[46m\u001b[31m!!!!!!!!!!!!!!!!!!!!!!!!!!!!!!!\n",
      "\u001b[0m\u001b[46m\u001b[31m!!!!!   softreset ...     !!!!!\n",
      "\u001b[0m\u001b[46m\u001b[31m!!!!!!!!!!!!!!!!!!!!!!!!!!!!!!!\u001b[0m\n",
      "\n",
      "\u001b[0m"
     ]
    }
   ],
   "source": [
    "%discover\n",
    "%connect test-argon\n",
    "%rsync\n",
    "%softreset"
   ]
  },
  {
   "cell_type": "markdown",
   "metadata": {},
   "source": [
    "## Esptool\n",
    "\n",
    "Install MicroPython on ESP32.\n",
    "\n",
    "..."
   ]
  },
  {
   "cell_type": "markdown",
   "metadata": {},
   "source": [
    "## Repl\n",
    "\n",
    "#### Verify that MicroPython is running on the ESP32."
   ]
  },
  {
   "cell_type": "code",
   "execution_count": 1,
   "metadata": {},
   "outputs": [
    {
     "name": "stdout",
     "output_type": "stream",
     "text": [
      "\u0000\u001b[0me\u001b[0mt\u001b[0ms\u001b[0m \u001b[0mJ\u001b[0mu\u001b[0mn\u001b[0m \u001b[0m \u001b[0m8\u001b[0m \u001b[0m2\u001b[0m0\u001b[0m1\u001b[0m6\u001b[0m \u001b[0m0\u001b[0m0\u001b[0m:\u001b[0m2\u001b[0m2\u001b[0m:\u001b[0m5\u001b[0m7\u001b[0m\n",
      "\u001b[0m\n",
      "\u001b[0mr\u001b[0ms\u001b[0mt\u001b[0m:\u001b[0m0\u001b[0mx\u001b[0m1\u001b[0m \u001b[0m(\u001b[0mP\u001b[0mO\u001b[0mW\u001b[0mE\u001b[0mR\u001b[0mO\u001b[0mN\u001b[0m_\u001b[0mR\u001b[0mE\u001b[0mS\u001b[0mE\u001b[0mT\u001b[0m)\u001b[0m,\u001b[0mb\u001b[0mo\u001b[0mo\u001b[0mt\u001b[0m:\u001b[0m0\u001b[0mx\u001b[0m1\u001b[0m3\u001b[0m \u001b[0m(\u001b[0mS\u001b[0mP\u001b[0mI\u001b[0m_\u001b[0mF\u001b[0mA\u001b[0mS\u001b[0mT\u001b[0m_\u001b[0mF\u001b[0mL\u001b[0mA\u001b[0mS\u001b[0mH\u001b[0m_\u001b[0mB\u001b[0mO\u001b[0mO\u001b[0mT\u001b[0m)\u001b[0m\n",
      "\u001b[0mc\u001b[0mo\u001b[0mn\u001b[0mf\u001b[0mi\u001b[0mg\u001b[0ms\u001b[0mi\u001b[0mp\u001b[0m:\u001b[0m \u001b[0m0\u001b[0m,\u001b[0m \u001b[0mS\u001b[0mP\u001b[0mI\u001b[0mW\u001b[0mP\u001b[0m:\u001b[0m0\u001b[0mx\u001b[0me\u001b[0me\u001b[0m\n",
      "\u001b[0mc\u001b[0ml\u001b[0mk\u001b[0m_\u001b[0md\u001b[0mr\u001b[0mv\u001b[0m:\u001b[0m0\u001b[0mx\u001b[0m0\u001b[0m0\u001b[0m,\u001b[0mq\u001b[0m_\u001b[0md\u001b[0mr\u001b[0mv\u001b[0m:\u001b[0m0\u001b[0mx\u001b[0m0\u001b[0m0\u001b[0m,\u001b[0md\u001b[0m_\u001b[0md\u001b[0mr\u001b[0mv\u001b[0m:\u001b[0m0\u001b[0mx\u001b[0m0\u001b[0m0\u001b[0m,\u001b[0mc\u001b[0ms\u001b[0m0\u001b[0m_\u001b[0md\u001b[0mr\u001b[0mv\u001b[0m:\u001b[0m0\u001b[0mx\u001b[0m0\u001b[0m0\u001b[0m,\u001b[0mh\u001b[0md\u001b[0m_\u001b[0md\u001b[0mr\u001b[0mv\u001b[0m:\u001b[0m0\u001b[0mx\u001b[0m0\u001b[0m0\u001b[0m,\u001b[0mw\u001b[0mp\u001b[0m_\u001b[0md\u001b[0mr\u001b[0mv\u001b[0m:\u001b[0m0\u001b[0mx\u001b[0m0\u001b[0m0\u001b[0m\n",
      "\u001b[0mm\u001b[0mo\u001b[0md\u001b[0me\u001b[0m:\u001b[0mD\u001b[0mI\u001b[0mO\u001b[0m,\u001b[0m \u001b[0mc\u001b[0ml\u001b[0mo\u001b[0mc\u001b[0mk\u001b[0m \u001b[0md\u001b[0mi\u001b[0mv\u001b[0m:\u001b[0m2\u001b[0m\n",
      "\u001b[0ml\u001b[0mo\u001b[0ma\u001b[0md\u001b[0m:\u001b[0m0\u001b[0mx\u001b[0m3\u001b[0mf\u001b[0mf\u001b[0mf\u001b[0m0\u001b[0m0\u001b[0m1\u001b[0m8\u001b[0m,\u001b[0ml\u001b[0me\u001b[0mn\u001b[0m:\u001b[0m4\u001b[0m\n",
      "\u001b[0ml\u001b[0mo\u001b[0ma\u001b[0md\u001b[0m:\u001b[0m0\u001b[0mx\u001b[0m3\u001b[0mf\u001b[0mf\u001b[0mf\u001b[0m0\u001b[0m0\u001b[0m1\u001b[0mc\u001b[0m,\u001b[0ml\u001b[0me\u001b[0mn\u001b[0m:\u001b[0m5\u001b[0m1\u001b[0m2\u001b[0m0\u001b[0m\n",
      "\u001b[0mh\u001b[0mo\u001b[0m \u001b[0m0\u001b[0m \u001b[0mt\u001b[0ma\u001b[0mi\u001b[0ml\u001b[0m \u001b[0m1\u001b[0m2\u001b[0m \u001b[0mr\u001b[0mo\u001b[0mo\u001b[0mm\u001b[0m \u001b[0m4\u001b[0m\n",
      "\u001b[0ml\u001b[0mo\u001b[0ma\u001b[0md\u001b[0m:\u001b[0m0\u001b[0mx\u001b[0m4\u001b[0m0\u001b[0m0\u001b[0m7\u001b[0m8\u001b[0m0\u001b[0m0\u001b[0m0\u001b[0m,\u001b[0ml\u001b[0me\u001b[0mn\u001b[0m:\u001b[0m1\u001b[0m0\u001b[0m6\u001b[0m8\u001b[0m0\u001b[0m\n",
      "\u001b[0mh\u001b[0mo\u001b[0m \u001b[0m0\u001b[0m \u001b[0mt\u001b[0ma\u001b[0mi\u001b[0ml\u001b[0m \u001b[0m1\u001b[0m2\u001b[0m \u001b[0mr\u001b[0mo\u001b[0mo\u001b[0mm\u001b[0m \u001b[0m4\u001b[0m\n",
      "\u001b[0ml\u001b[0mo\u001b[0ma\u001b[0md\u001b[0m:\u001b[0m0\u001b[0mx\u001b[0m4\u001b[0m0\u001b[0m0\u001b[0m8\u001b[0m0\u001b[0m4\u001b[0m0\u001b[0m0\u001b[0m,\u001b[0ml\u001b[0me\u001b[0mn\u001b[0m:\u001b[0m5\u001b[0m6\u001b[0m8\u001b[0m4\u001b[0m\n",
      "\u001b[0me\u001b[0mn\u001b[0mt\u001b[0mr\u001b[0my\u001b[0m \u001b[0m0\u001b[0mx\u001b[0m4\u001b[0m0\u001b[0m0\u001b[0m8\u001b[0m0\u001b[0m6\u001b[0mb\u001b[0mc\u001b[0m\n",
      "\u001b[0mC\u001b[0mo\u001b[0mn\u001b[0mn\u001b[0me\u001b[0mc\u001b[0mt\u001b[0mi\u001b[0mn\u001b[0mg\u001b[0m \u001b[0mt\u001b[0mo\u001b[0m \u001b[0mW\u001b[0mL\u001b[0mA\u001b[0mN\u001b[0m \u001b[0m.\u001b[0m.\u001b[0m.\u001b[0m \u001b[0mI\u001b[0mP\u001b[0m \u001b[0m1\u001b[0m0\u001b[0m.\u001b[0m3\u001b[0m9\u001b[0m.\u001b[0m4\u001b[0m0\u001b[0m.\u001b[0m1\u001b[0m4\u001b[0m0\u001b[0m\n",
      "\u001b[0mm\u001b[0mD\u001b[0mN\u001b[0mS\u001b[0m \u001b[0me\u001b[0ms\u001b[0mp\u001b[0m3\u001b[0m2\u001b[0m_\u001b[0m3\u001b[0m0\u001b[0ma\u001b[0me\u001b[0ma\u001b[0m4\u001b[0md\u001b[0m1\u001b[0m7\u001b[0mc\u001b[0m4\u001b[0m0\u001b[0m.\u001b[0ml\u001b[0mo\u001b[0mc\u001b[0ma\u001b[0ml\u001b[0m\n",
      "\u001b[0mt\u001b[0mi\u001b[0mm\u001b[0me\u001b[0m \u001b[0m(\u001b[0m2\u001b[0m0\u001b[0m2\u001b[0m1\u001b[0m,\u001b[0m \u001b[0m2\u001b[0m,\u001b[0m \u001b[0m1\u001b[0m6\u001b[0m,\u001b[0m \u001b[0m1\u001b[0m1\u001b[0m,\u001b[0m \u001b[0m3\u001b[0m8\u001b[0m,\u001b[0m \u001b[0m2\u001b[0m9\u001b[0m,\u001b[0m \u001b[0m1\u001b[0m,\u001b[0m \u001b[0m4\u001b[0m7\u001b[0m)\u001b[0m\n",
      "\u001b[0ms\u001b[0me\u001b[0mr\u001b[0mv\u001b[0me\u001b[0m \u001b[0m.\u001b[0m.\u001b[0m.\u001b[0m\n",
      "\u001b[0mp\u001b[0ml\u001b[0ma\u001b[0mt\u001b[0mf\u001b[0mo\u001b[0mr\u001b[0mm\u001b[0m:\u001b[0m \u001b[0me\u001b[0ms\u001b[0mp\u001b[0m3\u001b[0m2\u001b[0m\n",
      "\u001b[0m\n",
      "\u001b[0m2\u001b[0m*\u001b[0m*\u001b[0m1\u001b[0m5\u001b[0m \u001b[0m=\u001b[0m \u001b[0m3\u001b[0m2\u001b[0m7\u001b[0m6\u001b[0m8\u001b[0m\n",
      "\u001b[0m\n",
      "\u001b[0m"
     ]
    }
   ],
   "source": [
    "from repl32 import ReplClient, ReplError\n",
    "\n",
    "with ReplClient() as repl:\n",
    "    # reboot esp32\n",
    "    repl.show_boot_messages()\n",
    "    # repl.hardreset()\n",
    "    code = [\n",
    "        \"import sys; print('platform:', sys.platform)\",\n",
    "        \"print('2**15 =', 2**15)\",\n",
    "    ]\n",
    "    \n",
    "    for c in code:\n",
    "        print(repl.exec(c).decode())"
   ]
  },
  {
   "cell_type": "markdown",
   "metadata": {},
   "source": [
    "#### Upload airlift library to ESP32."
   ]
  },
  {
   "cell_type": "code",
   "execution_count": 1,
   "metadata": {},
   "outputs": [
    {
     "name": "stdout",
     "output_type": "stream",
     "text": [
      "\u0000\u001b[0me\u001b[0mt\u001b[0ms\u001b[0m \u001b[0mJ\u001b[0mu\u001b[0mn\u001b[0m \u001b[0m \u001b[0m8\u001b[0m \u001b[0m2\u001b[0m0\u001b[0m1\u001b[0m6\u001b[0m \u001b[0m0\u001b[0m0\u001b[0m:\u001b[0m2\u001b[0m2\u001b[0m:\u001b[0m5\u001b[0m7\u001b[0m\n",
      "\u001b[0m\n",
      "\u001b[0mr\u001b[0ms\u001b[0mt\u001b[0m:\u001b[0m0\u001b[0mx\u001b[0m1\u001b[0m \u001b[0m(\u001b[0mP\u001b[0mO\u001b[0mW\u001b[0mE\u001b[0mR\u001b[0mO\u001b[0mN\u001b[0m_\u001b[0mR\u001b[0mE\u001b[0mS\u001b[0mE\u001b[0mT\u001b[0m)\u001b[0m,\u001b[0mb\u001b[0mo\u001b[0mo\u001b[0mt\u001b[0m:\u001b[0m0\u001b[0mx\u001b[0m1\u001b[0m3\u001b[0m \u001b[0m(\u001b[0mS\u001b[0mP\u001b[0mI\u001b[0m_\u001b[0mF\u001b[0mA\u001b[0mS\u001b[0mT\u001b[0m_\u001b[0mF\u001b[0mL\u001b[0mA\u001b[0mS\u001b[0mH\u001b[0m_\u001b[0mB\u001b[0mO\u001b[0mO\u001b[0mT\u001b[0m)\u001b[0m\n",
      "\u001b[0mc\u001b[0mo\u001b[0mn\u001b[0mf\u001b[0mi\u001b[0mg\u001b[0ms\u001b[0mi\u001b[0mp\u001b[0m:\u001b[0m \u001b[0m0\u001b[0m,\u001b[0m \u001b[0mS\u001b[0mP\u001b[0mI\u001b[0mW\u001b[0mP\u001b[0m:\u001b[0m0\u001b[0mx\u001b[0me\u001b[0me\u001b[0m\n",
      "\u001b[0mc\u001b[0ml\u001b[0mk\u001b[0m_\u001b[0md\u001b[0mr\u001b[0mv\u001b[0m:\u001b[0m0\u001b[0mx\u001b[0m0\u001b[0m0\u001b[0m,\u001b[0mq\u001b[0m_\u001b[0md\u001b[0mr\u001b[0mv\u001b[0m:\u001b[0m0\u001b[0mx\u001b[0m0\u001b[0m0\u001b[0m,\u001b[0md\u001b[0m_\u001b[0md\u001b[0mr\u001b[0mv\u001b[0m:\u001b[0m0\u001b[0mx\u001b[0m0\u001b[0m0\u001b[0m,\u001b[0mc\u001b[0ms\u001b[0m0\u001b[0m_\u001b[0md\u001b[0mr\u001b[0mv\u001b[0m:\u001b[0m0\u001b[0mx\u001b[0m0\u001b[0m0\u001b[0m,\u001b[0mh\u001b[0md\u001b[0m_\u001b[0md\u001b[0mr\u001b[0mv\u001b[0m:\u001b[0m0\u001b[0mx\u001b[0m0\u001b[0m0\u001b[0m,\u001b[0mw\u001b[0mp\u001b[0m_\u001b[0md\u001b[0mr\u001b[0mv\u001b[0m:\u001b[0m0\u001b[0mx\u001b[0m0\u001b[0m0\u001b[0m\n",
      "\u001b[0mm\u001b[0mo\u001b[0md\u001b[0me\u001b[0m:\u001b[0mD\u001b[0mI\u001b[0mO\u001b[0m,\u001b[0m \u001b[0mc\u001b[0ml\u001b[0mo\u001b[0mc\u001b[0mk\u001b[0m \u001b[0md\u001b[0mi\u001b[0mv\u001b[0m:\u001b[0m2\u001b[0m\n",
      "\u001b[0ml\u001b[0mo\u001b[0ma\u001b[0md\u001b[0m:\u001b[0m0\u001b[0mx\u001b[0m3\u001b[0mf\u001b[0mf\u001b[0mf\u001b[0m0\u001b[0m0\u001b[0m1\u001b[0m8\u001b[0m,\u001b[0ml\u001b[0me\u001b[0mn\u001b[0m:\u001b[0m4\u001b[0m\n",
      "\u001b[0ml\u001b[0mo\u001b[0ma\u001b[0md\u001b[0m:\u001b[0m0\u001b[0mx\u001b[0m3\u001b[0mf\u001b[0mf\u001b[0mf\u001b[0m0\u001b[0m0\u001b[0m1\u001b[0mc\u001b[0m,\u001b[0ml\u001b[0me\u001b[0mn\u001b[0m:\u001b[0m5\u001b[0m1\u001b[0m2\u001b[0m0\u001b[0m\n",
      "\u001b[0mh\u001b[0mo\u001b[0m \u001b[0m0\u001b[0m \u001b[0mt\u001b[0ma\u001b[0mi\u001b[0ml\u001b[0m \u001b[0m1\u001b[0m2\u001b[0m \u001b[0mr\u001b[0mo\u001b[0mo\u001b[0mm\u001b[0m \u001b[0m4\u001b[0m\n",
      "\u001b[0ml\u001b[0mo\u001b[0ma\u001b[0md\u001b[0m:\u001b[0m0\u001b[0mx\u001b[0m4\u001b[0m0\u001b[0m0\u001b[0m7\u001b[0m8\u001b[0m0\u001b[0m0\u001b[0m0\u001b[0m,\u001b[0ml\u001b[0me\u001b[0mn\u001b[0m:\u001b[0m1\u001b[0m0\u001b[0m6\u001b[0m8\u001b[0m0\u001b[0m\n",
      "\u001b[0mh\u001b[0mo\u001b[0m \u001b[0m0\u001b[0m \u001b[0mt\u001b[0ma\u001b[0mi\u001b[0ml\u001b[0m \u001b[0m1\u001b[0m2\u001b[0m \u001b[0mr\u001b[0mo\u001b[0mo\u001b[0mm\u001b[0m \u001b[0m4\u001b[0m\n",
      "\u001b[0ml\u001b[0mo\u001b[0ma\u001b[0md\u001b[0m:\u001b[0m0\u001b[0mx\u001b[0m4\u001b[0m0\u001b[0m0\u001b[0m8\u001b[0m0\u001b[0m4\u001b[0m0\u001b[0m0\u001b[0m,\u001b[0ml\u001b[0me\u001b[0mn\u001b[0m:\u001b[0m5\u001b[0m6\u001b[0m8\u001b[0m4\u001b[0m\n",
      "\u001b[0me\u001b[0mn\u001b[0mt\u001b[0mr\u001b[0my\u001b[0m \u001b[0m0\u001b[0mx\u001b[0m4\u001b[0m0\u001b[0m0\u001b[0m8\u001b[0m0\u001b[0m6\u001b[0mb\u001b[0mc\u001b[0m\n",
      "\u001b[0mC\u001b[0mo\u001b[0mn\u001b[0mn\u001b[0me\u001b[0mc\u001b[0mt\u001b[0mi\u001b[0mn\u001b[0mg\u001b[0m \u001b[0mt\u001b[0mo\u001b[0m \u001b[0mW\u001b[0mL\u001b[0mA\u001b[0mN\u001b[0m \u001b[0m.\u001b[0m.\u001b[0m.\u001b[0m \u001b[0mI\u001b[0mP\u001b[0m \u001b[0m1\u001b[0m0\u001b[0m.\u001b[0m3\u001b[0m9\u001b[0m.\u001b[0m4\u001b[0m0\u001b[0m.\u001b[0m1\u001b[0m4\u001b[0m0\u001b[0m\n",
      "\u001b[0mm\u001b[0mD\u001b[0mN\u001b[0mS\u001b[0m \u001b[0me\u001b[0ms\u001b[0mp\u001b[0m3\u001b[0m2\u001b[0m_\u001b[0m3\u001b[0m0\u001b[0ma\u001b[0me\u001b[0ma\u001b[0m4\u001b[0md\u001b[0m1\u001b[0m7\u001b[0mc\u001b[0m4\u001b[0m0\u001b[0m.\u001b[0ml\u001b[0mo\u001b[0mc\u001b[0ma\u001b[0ml\u001b[0m\n",
      "\u001b[0mt\u001b[0mi\u001b[0mm\u001b[0me\u001b[0m \u001b[0m(\u001b[0m2\u001b[0m0\u001b[0m2\u001b[0m1\u001b[0m,\u001b[0m \u001b[0m2\u001b[0m,\u001b[0m \u001b[0m1\u001b[0m6\u001b[0m,\u001b[0m \u001b[0m1\u001b[0m1\u001b[0m,\u001b[0m \u001b[0m3\u001b[0m8\u001b[0m,\u001b[0m \u001b[0m4\u001b[0m1\u001b[0m,\u001b[0m \u001b[0m1\u001b[0m,\u001b[0m \u001b[0m4\u001b[0m7\u001b[0m)\u001b[0m\n",
      "\u001b[0ms\u001b[0me\u001b[0mr\u001b[0mv\u001b[0me\u001b[0m \u001b[0m.\u001b[0m.\u001b[0m.\u001b[0m\n",
      "\u001b[0mo\u001b[0ms\u001b[0m.\u001b[0mm\u001b[0mk\u001b[0md\u001b[0mi\u001b[0mr\u001b[0m(\u001b[0m'\u001b[0m'\u001b[0m)\u001b[0m\n",
      "\u001b[0mo\u001b[0ms\u001b[0m.\u001b[0mm\u001b[0mk\u001b[0md\u001b[0mi\u001b[0mr\u001b[0m(\u001b[0m'\u001b[0m/\u001b[0ml\u001b[0mi\u001b[0mb\u001b[0m'\u001b[0m)\u001b[0m\n",
      "\u001b[0mo\u001b[0ms\u001b[0m.\u001b[0mm\u001b[0mk\u001b[0md\u001b[0mi\u001b[0mr\u001b[0m(\u001b[0m'\u001b[0m/\u001b[0ml\u001b[0mi\u001b[0mb\u001b[0m/\u001b[0mo\u001b[0mt\u001b[0ma\u001b[0m3\u001b[0m2\u001b[0m'\u001b[0m)\u001b[0m\n",
      "\u001b[0mc\u001b[0mp\u001b[0m \u001b[0me\u001b[0ms\u001b[0mp\u001b[0m3\u001b[0m2\u001b[0m/\u001b[0ml\u001b[0mi\u001b[0mb\u001b[0m/\u001b[0mo\u001b[0mt\u001b[0ma\u001b[0m3\u001b[0m2\u001b[0m/\u001b[0m_\u001b[0m_\u001b[0mi\u001b[0mn\u001b[0mi\u001b[0mt\u001b[0m_\u001b[0m_\u001b[0m.\u001b[0mp\u001b[0my\u001b[0m \u001b[0m/\u001b[0ml\u001b[0mi\u001b[0mb\u001b[0m/\u001b[0mo\u001b[0mt\u001b[0ma\u001b[0m3\u001b[0m2\u001b[0m/\u001b[0m_\u001b[0m_\u001b[0mi\u001b[0mn\u001b[0mi\u001b[0mt\u001b[0m_\u001b[0m_\u001b[0m.\u001b[0mp\u001b[0my\u001b[0m\n",
      "\u001b[0mc\u001b[0mp\u001b[0m \u001b[0me\u001b[0ms\u001b[0mp\u001b[0m3\u001b[0m2\u001b[0m/\u001b[0ml\u001b[0mi\u001b[0mb\u001b[0m/\u001b[0mo\u001b[0mt\u001b[0ma\u001b[0m3\u001b[0m2\u001b[0m/\u001b[0mo\u001b[0mp\u001b[0me\u001b[0mn\u001b[0m_\u001b[0mu\u001b[0mr\u001b[0ml\u001b[0m.\u001b[0mp\u001b[0my\u001b[0m \u001b[0m/\u001b[0ml\u001b[0mi\u001b[0mb\u001b[0m/\u001b[0mo\u001b[0mt\u001b[0ma\u001b[0m3\u001b[0m2\u001b[0m/\u001b[0mo\u001b[0mp\u001b[0me\u001b[0mn\u001b[0m_\u001b[0mu\u001b[0mr\u001b[0ml\u001b[0m.\u001b[0mp\u001b[0my\u001b[0m\n",
      "\u001b[0mc\u001b[0mp\u001b[0m \u001b[0me\u001b[0ms\u001b[0mp\u001b[0m3\u001b[0m2\u001b[0m/\u001b[0ml\u001b[0mi\u001b[0mb\u001b[0m/\u001b[0mo\u001b[0mt\u001b[0ma\u001b[0m3\u001b[0m2\u001b[0m/\u001b[0mo\u001b[0mt\u001b[0ma\u001b[0m.\u001b[0mp\u001b[0my\u001b[0m \u001b[0m/\u001b[0ml\u001b[0mi\u001b[0mb\u001b[0m/\u001b[0mo\u001b[0mt\u001b[0ma\u001b[0m3\u001b[0m2\u001b[0m/\u001b[0mo\u001b[0mt\u001b[0ma\u001b[0m.\u001b[0mp\u001b[0my\u001b[0m\n",
      "\u001b[0mo\u001b[0ms\u001b[0m.\u001b[0mm\u001b[0mk\u001b[0md\u001b[0mi\u001b[0mr\u001b[0m(\u001b[0m'\u001b[0m/\u001b[0ml\u001b[0mi\u001b[0mb\u001b[0m/\u001b[0mu\u001b[0mr\u001b[0mp\u001b[0mc\u001b[0m_\u001b[0ms\u001b[0me\u001b[0mr\u001b[0mv\u001b[0me\u001b[0mr\u001b[0m'\u001b[0m)\u001b[0m\n",
      "\u001b[0mc\u001b[0mp\u001b[0m \u001b[0me\u001b[0ms\u001b[0mp\u001b[0m3\u001b[0m2\u001b[0m/\u001b[0ml\u001b[0mi\u001b[0mb\u001b[0m/\u001b[0mu\u001b[0mr\u001b[0mp\u001b[0mc\u001b[0m_\u001b[0ms\u001b[0me\u001b[0mr\u001b[0mv\u001b[0me\u001b[0mr\u001b[0m/\u001b[0m_\u001b[0m_\u001b[0mi\u001b[0mn\u001b[0mi\u001b[0mt\u001b[0m_\u001b[0m_\u001b[0m.\u001b[0mp\u001b[0my\u001b[0m \u001b[0m/\u001b[0ml\u001b[0mi\u001b[0mb\u001b[0m/\u001b[0mu\u001b[0mr\u001b[0mp\u001b[0mc\u001b[0m_\u001b[0ms\u001b[0me\u001b[0mr\u001b[0mv\u001b[0me\u001b[0mr\u001b[0m/\u001b[0m_\u001b[0m_\u001b[0mi\u001b[0mn\u001b[0mi\u001b[0mt\u001b[0m_\u001b[0m_\u001b[0m.\u001b[0mp\u001b[0my\u001b[0m\n",
      "\u001b[0mc\u001b[0mp\u001b[0m \u001b[0me\u001b[0ms\u001b[0mp\u001b[0m3\u001b[0m2\u001b[0m/\u001b[0ml\u001b[0mi\u001b[0mb\u001b[0m/\u001b[0mu\u001b[0mr\u001b[0mp\u001b[0mc\u001b[0m_\u001b[0ms\u001b[0me\u001b[0mr\u001b[0mv\u001b[0me\u001b[0mr\u001b[0m/\u001b[0ma\u001b[0ms\u001b[0my\u001b[0mn\u001b[0mc\u001b[0m_\u001b[0ms\u001b[0me\u001b[0mr\u001b[0mv\u001b[0me\u001b[0mr\u001b[0m.\u001b[0mp\u001b[0my\u001b[0m \u001b[0m/\u001b[0ml\u001b[0mi\u001b[0mb\u001b[0m/\u001b[0mu\u001b[0mr\u001b[0mp\u001b[0mc\u001b[0m_\u001b[0ms\u001b[0me\u001b[0mr\u001b[0mv\u001b[0me\u001b[0mr\u001b[0m/\u001b[0ma\u001b[0ms\u001b[0my\u001b[0mn\u001b[0mc\u001b[0m_\u001b[0ms\u001b[0me\u001b[0mr\u001b[0mv\u001b[0me\u001b[0mr\u001b[0m.\u001b[0mp\u001b[0my\u001b[0m\n",
      "\u001b[0m\n",
      "\u001b[0mE\u001b[0mS\u001b[0mP\u001b[0m3\u001b[0m2\u001b[0m \u001b[0mf\u001b[0mi\u001b[0ml\u001b[0me\u001b[0ms\u001b[0m:\u001b[0m\n",
      "\u001b[0m \u001b[0m \u001b[0m \u001b[0m \u001b[0m \u001b[0m \u001b[0m \u001b[0m \u001b[0m \u001b[0m8\u001b[0m4\u001b[0m6\u001b[0m \u001b[0ma\u001b[0mi\u001b[0mr\u001b[0ml\u001b[0mi\u001b[0mf\u001b[0mt\u001b[0m_\u001b[0mm\u001b[0ma\u001b[0mi\u001b[0mn\u001b[0m.\u001b[0mp\u001b[0my\u001b[0m\n",
      "\u001b[0m \u001b[0m \u001b[0m \u001b[0m \u001b[0m \u001b[0m \u001b[0m \u001b[0m \u001b[0m1\u001b[0m5\u001b[0m2\u001b[0m8\u001b[0m \u001b[0mb\u001b[0mo\u001b[0mo\u001b[0mt\u001b[0m.\u001b[0mp\u001b[0my\u001b[0m\n",
      "\u001b[0m \u001b[0m \u001b[0m \u001b[0m \u001b[0m \u001b[0m \u001b[0m \u001b[0m \u001b[0m \u001b[0m \u001b[0m \u001b[0m0\u001b[0m \u001b[0ml\u001b[0mi\u001b[0mb\u001b[0m/\u001b[0m\n",
      "\u001b[0m \u001b[0m \u001b[0m \u001b[0m \u001b[0m \u001b[0m \u001b[0m \u001b[0m \u001b[0m \u001b[0m \u001b[0m \u001b[0m \u001b[0m \u001b[0m \u001b[0m \u001b[0m \u001b[0m \u001b[0m \u001b[0m \u001b[0m0\u001b[0m \u001b[0mo\u001b[0mt\u001b[0ma\u001b[0m3\u001b[0m2\u001b[0m/\u001b[0m\n",
      "\u001b[0m \u001b[0m \u001b[0m \u001b[0m \u001b[0m \u001b[0m \u001b[0m \u001b[0m \u001b[0m \u001b[0m \u001b[0m \u001b[0m \u001b[0m \u001b[0m \u001b[0m \u001b[0m \u001b[0m \u001b[0m \u001b[0m \u001b[0m \u001b[0m \u001b[0m \u001b[0m \u001b[0m \u001b[0m \u001b[0m \u001b[0m5\u001b[0m1\u001b[0m \u001b[0m_\u001b[0m_\u001b[0mi\u001b[0mn\u001b[0mi\u001b[0mt\u001b[0m_\u001b[0m_\u001b[0m.\u001b[0mp\u001b[0my\u001b[0m\n",
      "\u001b[0m \u001b[0m \u001b[0m \u001b[0m \u001b[0m \u001b[0m \u001b[0m \u001b[0m \u001b[0m \u001b[0m \u001b[0m \u001b[0m \u001b[0m \u001b[0m \u001b[0m \u001b[0m \u001b[0m \u001b[0m \u001b[0m \u001b[0m \u001b[0m \u001b[0m \u001b[0m \u001b[0m \u001b[0m2\u001b[0m0\u001b[0m4\u001b[0m8\u001b[0m \u001b[0mo\u001b[0mp\u001b[0me\u001b[0mn\u001b[0m_\u001b[0mu\u001b[0mr\u001b[0ml\u001b[0m.\u001b[0mp\u001b[0my\u001b[0m\n",
      "\u001b[0m \u001b[0m \u001b[0m \u001b[0m \u001b[0m \u001b[0m \u001b[0m \u001b[0m \u001b[0m \u001b[0m \u001b[0m \u001b[0m \u001b[0m \u001b[0m \u001b[0m \u001b[0m \u001b[0m \u001b[0m \u001b[0m \u001b[0m \u001b[0m \u001b[0m \u001b[0m \u001b[0m \u001b[0m3\u001b[0m4\u001b[0m8\u001b[0m9\u001b[0m \u001b[0mo\u001b[0mt\u001b[0ma\u001b[0m.\u001b[0mp\u001b[0my\u001b[0m\n",
      "\u001b[0m \u001b[0m \u001b[0m \u001b[0m \u001b[0m \u001b[0m \u001b[0m \u001b[0m \u001b[0m \u001b[0m \u001b[0m \u001b[0m \u001b[0m \u001b[0m \u001b[0m \u001b[0m \u001b[0m \u001b[0m \u001b[0m \u001b[0m0\u001b[0m \u001b[0mu\u001b[0mr\u001b[0mp\u001b[0mc\u001b[0m_\u001b[0ms\u001b[0me\u001b[0mr\u001b[0mv\u001b[0me\u001b[0mr\u001b[0m/\u001b[0m\n",
      "\u001b[0m \u001b[0m \u001b[0m \u001b[0m \u001b[0m \u001b[0m \u001b[0m \u001b[0m \u001b[0m \u001b[0m \u001b[0m \u001b[0m \u001b[0m \u001b[0m \u001b[0m \u001b[0m \u001b[0m \u001b[0m \u001b[0m \u001b[0m \u001b[0m \u001b[0m \u001b[0m \u001b[0m \u001b[0m \u001b[0m \u001b[0m3\u001b[0m8\u001b[0m \u001b[0m_\u001b[0m_\u001b[0mi\u001b[0mn\u001b[0mi\u001b[0mt\u001b[0m_\u001b[0m_\u001b[0m.\u001b[0mp\u001b[0my\u001b[0m\n",
      "\u001b[0m \u001b[0m \u001b[0m \u001b[0m \u001b[0m \u001b[0m \u001b[0m \u001b[0m \u001b[0m \u001b[0m \u001b[0m \u001b[0m \u001b[0m \u001b[0m \u001b[0m \u001b[0m \u001b[0m \u001b[0m \u001b[0m \u001b[0m \u001b[0m \u001b[0m \u001b[0m \u001b[0m \u001b[0m3\u001b[0m1\u001b[0m2\u001b[0m5\u001b[0m \u001b[0ma\u001b[0ms\u001b[0my\u001b[0mn\u001b[0mc\u001b[0m_\u001b[0ms\u001b[0me\u001b[0mr\u001b[0mv\u001b[0me\u001b[0mr\u001b[0m.\u001b[0mp\u001b[0my\u001b[0m\n",
      "\u001b[0m \u001b[0m \u001b[0m \u001b[0m \u001b[0m \u001b[0m \u001b[0m \u001b[0m \u001b[0m \u001b[0m \u001b[0m2\u001b[0m0\u001b[0m \u001b[0mm\u001b[0ma\u001b[0mi\u001b[0mn\u001b[0m.\u001b[0mp\u001b[0my\u001b[0m\n",
      "\u001b[0m \u001b[0m \u001b[0m \u001b[0m \u001b[0m \u001b[0m \u001b[0m \u001b[0m \u001b[0m \u001b[0m2\u001b[0m4\u001b[0m5\u001b[0m \u001b[0ms\u001b[0me\u001b[0mc\u001b[0mr\u001b[0me\u001b[0mt\u001b[0ms\u001b[0m.\u001b[0mp\u001b[0my\u001b[0m\n",
      "\u001b[0m \u001b[0m \u001b[0m \u001b[0m \u001b[0m \u001b[0m \u001b[0m \u001b[0m \u001b[0m \u001b[0m \u001b[0m5\u001b[0m2\u001b[0m \u001b[0mw\u001b[0me\u001b[0mb\u001b[0mr\u001b[0me\u001b[0mp\u001b[0ml\u001b[0m_\u001b[0mc\u001b[0mf\u001b[0mg\u001b[0m.\u001b[0mp\u001b[0my\u001b[0m\n",
      "\u001b[0m\n",
      "\u001b[0m"
     ]
    }
   ],
   "source": [
    "from repl32.repl_client import ReplClient\n",
    "\n",
    "with ReplClient() as repl:\n",
    "    repl.show_boot_messages()\n",
    "    if False:\n",
    "        repl.fs_rm_rf('/')\n",
    "    repl.fs_put('secrets.py')\n",
    "    repl.fs_rcopy('esp32', '')\n",
    "    print(\"\\nESP32 files:\")\n",
    "    repl.fs_ls()"
   ]
  },
  {
   "cell_type": "markdown",
   "metadata": {},
   "source": [
    "### Check UCPC Client"
   ]
  },
  {
   "cell_type": "code",
   "execution_count": 1,
   "metadata": {},
   "outputs": [
    {
     "name": "stdout",
     "output_type": "stream",
     "text": [
      "P\u001b[0ml\u001b[0ma\u001b[0mt\u001b[0mf\u001b[0mo\u001b[0mr\u001b[0mm\u001b[0ms\u001b[0m:\u001b[0m\n",
      "\u001b[0m \u001b[0m \u001b[0m \u001b[0mh\u001b[0mo\u001b[0ms\u001b[0mt\u001b[0m:\u001b[0m \u001b[0m \u001b[0m \u001b[0m \u001b[0mn\u001b[0mR\u001b[0mF\u001b[0m5\u001b[0m2\u001b[0m8\u001b[0m4\u001b[0m0\u001b[0m\n",
      "\u001b[0m \u001b[0m \u001b[0m \u001b[0ms\u001b[0me\u001b[0mr\u001b[0mv\u001b[0me\u001b[0mr\u001b[0m:\u001b[0m \u001b[0m \u001b[0me\u001b[0ms\u001b[0mp\u001b[0m3\u001b[0m2\u001b[0m\n",
      "\u001b[0m"
     ]
    }
   ],
   "source": [
    "from urpc import import_\n",
    "import sys\n",
    "sys_ = import_('sys')\n",
    "\n",
    "print(\"Platforms:\")\n",
    "print(\"   host:    {}\".format(sys.platform))\n",
    "print(\"   server:  {}\".format(sys_.get_('platform')))"
   ]
  },
  {
   "cell_type": "markdown",
   "metadata": {},
   "source": [
    "This completes the installation. Networking is now available, see [examples](../../../airlift/doc/networking.ipynb)."
   ]
  }
 ],
 "metadata": {
  "kernelspec": {
   "display_name": "IoT",
   "language": "python",
   "name": "iot_kernel"
  },
  "language_info": {
   "codemirror_mode": {
    "name": "python",
    "version": 3
   },
   "file_extension": ".py",
   "mimetype": "text/x-python",
   "name": "python",
   "pygments_lexer": "python3",
   "version": "3"
  }
 },
 "nbformat": 4,
 "nbformat_minor": 4
}
