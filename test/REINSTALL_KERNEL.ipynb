{
 "cells": [
  {
   "cell_type": "markdown",
   "metadata": {},
   "source": [
    "# Debugging: reload libraries and `iot_kernel`"
   ]
  },
  {
   "cell_type": "markdown",
   "metadata": {},
   "source": [
    "## Install from local source"
   ]
  },
  {
   "cell_type": "code",
   "execution_count": 1,
   "metadata": {},
   "outputs": [
    {
     "name": "stdout",
     "output_type": "stream",
     "text": [
      "Found existing installation: iot-device 0.4.12\u001b[0m\n",
      "Uninstalling iot-device-0.4.12:\u001b[0m\n",
      "  Successfully uninstalled iot-device-0.4.12\u001b[0m\n",
      "rm -rf dist\u001b[0m\n",
      "rm -rf *egg-info\u001b[0m\n",
      "rm -rf iot_device/__pycache__\u001b[0m\n",
      "warning: no files found matching '.github/README.md'\u001b[0m\n",
      "warning: no previously-included files matching '__pycache__' found anywhere in distribution\u001b[0m\n",
      "warning: no previously-included files matching '*.py[co]' found anywhere in distribution\u001b[0m\n",
      "Found existing installation: iot-kernel 0.4.11\u001b[0m\n",
      "Uninstalling iot-kernel-0.4.11:\u001b[0m\n",
      "  Successfully uninstalled iot-kernel-0.4.11\u001b[0m\n",
      "rm -rf dist\u001b[0m\n",
      "rm -rf iot_kernel.egg-info\u001b[0m\n",
      "rm -rf iot_kernel/__pycache__\u001b[0m\n"
     ]
    }
   ],
   "source": [
    "%%bash\n",
    "\n",
    "cd $IOT/iot-device\n",
    "pip uninstall -y iot-device\n",
    "make clean\n",
    "python3 setup.py install >/dev/null\n",
    "\n",
    "cd $IOT/iot-kernel\n",
    "pip uninstall -y iot-kernel\n",
    "make clean\n",
    "python3 setup.py install >/dev/null"
   ]
  },
  {
   "cell_type": "code",
   "execution_count": 2,
   "metadata": {},
   "outputs": [
    {
     "name": "stdout",
     "output_type": "stream",
     "text": [
      "\u001b[0mPackage                       Version\n",
      "----------------------------- -------------------\n",
      "Adafruit-Blinka               6.4.1\n",
      "Adafruit-PlatformDetect       3.4.1\n",
      "Adafruit-PureIO               1.1.8\n",
      "anyio                         2.2.0\n",
      "argon2-cffi                   20.1.0\n",
      "async-generator               1.10\n",
      "attrs                         20.3.0\n",
      "Babel                         2.9.0\n",
      "backcall                      0.2.0\n",
      "backports.functools-lru-cache 1.6.3\n",
      "bcrypt                        3.2.0\n",
      "bitstring                     3.1.7\n",
      "bleach                        3.3.0\n",
      "bleak                         0.11.0\n",
      "bokeh                         2.3.1\n",
      "brotlipy                      0.7.0\n",
      "certifi                       2020.12.5\n",
      "cffi                          1.14.5\n",
      "chardet                       4.0.0\n",
      "colorzero                     2.0\n",
      "conda                         4.9.2\n",
      "conda-package-handling        1.7.2\n",
      "cryptography                  3.4.4\n",
      "cycler                        0.10.0\n",
      "dbus-next                     0.2.2\n",
      "decorator                     4.4.2\n",
      "defusedxml                    0.7.1\n",
      "ecdsa                         0.16.1\n",
      "entrypoints                   0.3\n",
      "esptool                       3.0\n",
      "gpiozero                      1.6.2\n",
      "idna                          2.10\n",
      "ifaddr                        0.1.7\n",
      "importlib-metadata            3.10.0\n",
      "iot-device                    0.4.12\n",
      "iot-kernel                    0.4.14\n",
      "ipykernel                     5.5.0\n",
      "ipynbname                     2021.3.2\n",
      "ipython                       7.22.0\n",
      "ipython-genutils              0.2.0\n",
      "ipywidgets                    7.6.3\n",
      "jedi                          0.18.0\n",
      "Jinja2                        2.11.3\n",
      "json5                         0.9.5\n",
      "jsonschema                    3.2.0\n",
      "jupyter-bokeh                 3.0.0\n",
      "jupyter-client                6.1.12\n",
      "jupyter-core                  4.7.1\n",
      "jupyter-packaging             0.7.12\n",
      "jupyter-server                1.5.1\n",
      "jupyterlab                    3.0.12\n",
      "jupyterlab-pygments           0.1.2\n",
      "jupyterlab-server             2.4.0\n",
      "jupyterlab-widgets            1.0.0\n",
      "kiwisolver                    1.3.1\n",
      "mamba                         0.9.2\n",
      "MarkupSafe                    1.1.1\n",
      "matplotlib                    3.4.1\n",
      "mistune                       0.8.4\n",
      "nbclassic                     0.2.6\n",
      "nbclient                      0.5.3\n",
      "nbconvert                     6.0.7\n",
      "nbformat                      5.1.2\n",
      "nest-asyncio                  1.5.1\n",
      "notebook                      6.3.0\n",
      "numpy                         1.20.2\n",
      "olefile                       0.46\n",
      "packaging                     20.9\n",
      "pandas                        1.2.3\n",
      "pandocfilters                 1.4.2\n",
      "paramiko                      2.7.2\n",
      "parso                         0.8.2\n",
      "pexpect                       4.8.0\n",
      "pickleshare                   0.7.5\n",
      "Pillow                        8.1.2\n",
      "pip                           21.0.1\n",
      "prometheus-client             0.9.0\n",
      "prompt-toolkit                3.0.18\n",
      "ptyprocess                    0.7.0\n",
      "pycosat                       0.6.3\n",
      "pycparser                     2.20\n",
      "pyftdi                        0.52.9\n",
      "Pygments                      2.8.1\n",
      "PyNaCl                        1.4.0\n",
      "pyOpenSSL                     20.0.1\n",
      "pyparsing                     2.4.7\n",
      "pyrsistent                    0.17.3\n",
      "pyserial                      3.5\n",
      "PySocks                       1.7.1\n",
      "python-dateutil               2.8.1\n",
      "pytz                          2021.1\n",
      "pyusb                         1.1.1\n",
      "PyYAML                        5.4.1\n",
      "pyzmq                         22.0.3\n",
      "reedsolo                      1.5.4\n",
      "requests                      2.25.1\n",
      "RPi.GPIO                      0.7.0\n",
      "ruamel-yaml-conda             0.15.80\n",
      "Send2Trash                    1.5.0\n",
      "setuptools                    49.6.0.post20210108\n",
      "six                           1.15.0\n",
      "smbus2                        0.4.1\n",
      "sniffio                       1.2.0\n",
      "termcolor                     1.1.0\n",
      "terminado                     0.9.4\n",
      "testpath                      0.4.4\n",
      "tornado                       6.1\n",
      "tqdm                          4.57.0\n",
      "traitlets                     5.0.5\n",
      "typing-extensions             3.7.4.3\n",
      "urllib3                       1.26.3\n",
      "wcwidth                       0.2.5\n",
      "webencodings                  0.5.1\n",
      "websocket-client              0.58.0\n",
      "wheel                         0.36.2\n",
      "widgetsnbextension            3.5.1\n",
      "zeroconf                      0.29.0\n",
      "zipp                          3.4.1\n"
     ]
    }
   ],
   "source": [
    "!pip list"
   ]
  },
  {
   "cell_type": "code",
   "execution_count": 4,
   "metadata": {},
   "outputs": [
    {
     "name": "stdout",
     "output_type": "stream",
     "text": [
      "target_dir /root/miniforge3/share/jupyter/kernels/iot_kernel\n",
      "__file__ /root/miniforge3/lib/python3.8/site-packages/iot_kernel-0.4.11-py3.8.egg/iot_kernel/install.py\n",
      "dir __file__ /root/miniforge3/lib/python3.8/site-packages/iot_kernel-0.4.11-py3.8.egg/iot_kernel\n",
      "src_dir /root/miniforge3/lib/python3.8/site-packages/iot_kernel-0.4.11-py3.8.egg/iot_kernel/images\n",
      "cannot install  images from egg: [Errno 20] Not a directory: '/root/miniforge3/lib/python3.8/site-packages/iot_kernel-0.4.11-py3.8.egg/iot_kernel/images/logo-32x32.png'\n",
      "Installed iot_kernel kernel in /root/miniforge3/share/jupyter/kernels/iot_kernel\n"
     ]
    }
   ],
   "source": [
    "!python3 -m iot_kernel.install"
   ]
  },
  {
   "cell_type": "code",
   "execution_count": 3,
   "metadata": {},
   "outputs": [
    {
     "name": "stdout",
     "output_type": "stream",
     "text": [
      "Available kernels:\n",
      "  iot_kernel    /root/miniforge3/share/jupyter/kernels/iot_kernel\n",
      "  python3       /root/miniforge3/share/jupyter/kernels/python3\n"
     ]
    }
   ],
   "source": [
    "!jupyter kernelspec list"
   ]
  },
  {
   "cell_type": "markdown",
   "metadata": {},
   "source": [
    "## Install from PyPi"
   ]
  },
  {
   "cell_type": "code",
   "execution_count": 1,
   "metadata": {},
   "outputs": [
    {
     "name": "stdout",
     "output_type": "stream",
     "text": [
      "Requirement already satisfied: iot-device in /root/miniforge3/lib/python3.8/site-packages (0.4.11)\n",
      "Collecting iot-device\n",
      "  Downloading iot_device-0.4.12-py3-none-any.whl (34 kB)\n",
      "Requirement already satisfied: termcolor in /root/miniforge3/lib/python3.8/site-packages (from iot-device) (1.1.0)\n",
      "Requirement already satisfied: websocket-client in /root/miniforge3/lib/python3.8/site-packages (from iot-device) (0.58.0)\n",
      "Requirement already satisfied: zeroconf in /root/miniforge3/lib/python3.8/site-packages (from iot-device) (0.29.0)\n",
      "Requirement already satisfied: pyserial in /root/miniforge3/lib/python3.8/site-packages (from iot-device) (3.5)\n",
      "Requirement already satisfied: pyopenssl in /root/miniforge3/lib/python3.8/site-packages (from iot-device) (20.0.1)\n",
      "Requirement already satisfied: cryptography>=3.2 in /root/miniforge3/lib/python3.8/site-packages (from pyopenssl->iot-device) (3.4.4)\n",
      "Requirement already satisfied: six>=1.5.2 in /root/miniforge3/lib/python3.8/site-packages (from pyopenssl->iot-device) (1.15.0)\n",
      "Requirement already satisfied: cffi>=1.12 in /root/miniforge3/lib/python3.8/site-packages (from cryptography>=3.2->pyopenssl->iot-device) (1.14.5)\n",
      "Requirement already satisfied: pycparser in /root/miniforge3/lib/python3.8/site-packages (from cffi>=1.12->cryptography>=3.2->pyopenssl->iot-device) (2.20)\n",
      "Requirement already satisfied: ifaddr>=0.1.7 in /root/miniforge3/lib/python3.8/site-packages (from zeroconf->iot-device) (0.1.7)\n",
      "Installing collected packages: iot-device\n",
      "  Attempting uninstall: iot-device\n",
      "    Found existing installation: iot-device 0.4.11\n",
      "    Uninstalling iot-device-0.4.11:\n",
      "      Successfully uninstalled iot-device-0.4.11\n",
      "Successfully installed iot-device-0.4.12\n",
      "Requirement already satisfied: iot-kernel in /root/miniforge3/lib/python3.8/site-packages (0.4.10)\n",
      "Collecting iot-kernel\n",
      "  Downloading iot_kernel-0.4.11-py3-none-any.whl (24 kB)\n",
      "Requirement already satisfied: ipynbname in /root/miniforge3/lib/python3.8/site-packages (from iot-kernel) (2021.3.2)\n",
      "Requirement already satisfied: ipykernel in /root/miniforge3/lib/python3.8/site-packages (from iot-kernel) (5.5.0)\n",
      "Requirement already satisfied: iot-device>=0.4.7 in /root/miniforge3/lib/python3.8/site-packages (from iot-kernel) (0.4.12)\n",
      "Requirement already satisfied: termcolor in /root/miniforge3/lib/python3.8/site-packages (from iot-kernel) (1.1.0)\n",
      "Requirement already satisfied: pyserial in /root/miniforge3/lib/python3.8/site-packages (from iot-kernel) (3.5)\n",
      "Collecting argparse\n",
      "  Downloading argparse-1.4.0-py2.py3-none-any.whl (23 kB)\n",
      "Requirement already satisfied: websocket-client in /root/miniforge3/lib/python3.8/site-packages (from iot-device>=0.4.7->iot-kernel) (0.58.0)\n",
      "Requirement already satisfied: pyopenssl in /root/miniforge3/lib/python3.8/site-packages (from iot-device>=0.4.7->iot-kernel) (20.0.1)\n",
      "Requirement already satisfied: zeroconf in /root/miniforge3/lib/python3.8/site-packages (from iot-device>=0.4.7->iot-kernel) (0.29.0)\n",
      "Requirement already satisfied: ipython>=5.0.0 in /root/miniforge3/lib/python3.8/site-packages (from ipykernel->iot-kernel) (7.22.0)\n",
      "Requirement already satisfied: jupyter-client in /root/miniforge3/lib/python3.8/site-packages (from ipykernel->iot-kernel) (6.1.12)\n",
      "Requirement already satisfied: traitlets>=4.1.0 in /root/miniforge3/lib/python3.8/site-packages (from ipykernel->iot-kernel) (5.0.5)\n",
      "Requirement already satisfied: tornado>=4.2 in /root/miniforge3/lib/python3.8/site-packages (from ipykernel->iot-kernel) (6.1)\n",
      "Requirement already satisfied: pexpect>4.3 in /root/miniforge3/lib/python3.8/site-packages (from ipython>=5.0.0->ipykernel->iot-kernel) (4.8.0)\n",
      "Requirement already satisfied: decorator in /root/miniforge3/lib/python3.8/site-packages (from ipython>=5.0.0->ipykernel->iot-kernel) (4.4.2)\n",
      "Requirement already satisfied: jedi>=0.16 in /root/miniforge3/lib/python3.8/site-packages (from ipython>=5.0.0->ipykernel->iot-kernel) (0.18.0)\n",
      "Requirement already satisfied: prompt-toolkit!=3.0.0,!=3.0.1,<3.1.0,>=2.0.0 in /root/miniforge3/lib/python3.8/site-packages (from ipython>=5.0.0->ipykernel->iot-kernel) (3.0.18)\n",
      "Requirement already satisfied: backcall in /root/miniforge3/lib/python3.8/site-packages (from ipython>=5.0.0->ipykernel->iot-kernel) (0.2.0)\n",
      "Requirement already satisfied: pickleshare in /root/miniforge3/lib/python3.8/site-packages (from ipython>=5.0.0->ipykernel->iot-kernel) (0.7.5)\n",
      "Requirement already satisfied: setuptools>=18.5 in /root/miniforge3/lib/python3.8/site-packages (from ipython>=5.0.0->ipykernel->iot-kernel) (49.6.0.post20210108)\n",
      "Requirement already satisfied: pygments in /root/miniforge3/lib/python3.8/site-packages (from ipython>=5.0.0->ipykernel->iot-kernel) (2.8.1)\n",
      "Requirement already satisfied: parso<0.9.0,>=0.8.0 in /root/miniforge3/lib/python3.8/site-packages (from jedi>=0.16->ipython>=5.0.0->ipykernel->iot-kernel) (0.8.2)\n",
      "Requirement already satisfied: ptyprocess>=0.5 in /root/miniforge3/lib/python3.8/site-packages (from pexpect>4.3->ipython>=5.0.0->ipykernel->iot-kernel) (0.7.0)\n",
      "Requirement already satisfied: wcwidth in /root/miniforge3/lib/python3.8/site-packages (from prompt-toolkit!=3.0.0,!=3.0.1,<3.1.0,>=2.0.0->ipython>=5.0.0->ipykernel->iot-kernel) (0.2.5)\n",
      "Requirement already satisfied: ipython-genutils in /root/miniforge3/lib/python3.8/site-packages (from traitlets>=4.1.0->ipykernel->iot-kernel) (0.2.0)\n",
      "Requirement already satisfied: pyzmq>=13 in /root/miniforge3/lib/python3.8/site-packages (from jupyter-client->ipykernel->iot-kernel) (22.0.3)\n",
      "Requirement already satisfied: python-dateutil>=2.1 in /root/miniforge3/lib/python3.8/site-packages (from jupyter-client->ipykernel->iot-kernel) (2.8.1)\n",
      "Requirement already satisfied: jupyter-core>=4.6.0 in /root/miniforge3/lib/python3.8/site-packages (from jupyter-client->ipykernel->iot-kernel) (4.7.1)\n",
      "Requirement already satisfied: six>=1.5 in /root/miniforge3/lib/python3.8/site-packages (from python-dateutil>=2.1->jupyter-client->ipykernel->iot-kernel) (1.15.0)\n",
      "Requirement already satisfied: cryptography>=3.2 in /root/miniforge3/lib/python3.8/site-packages (from pyopenssl->iot-device>=0.4.7->iot-kernel) (3.4.4)\n",
      "Requirement already satisfied: cffi>=1.12 in /root/miniforge3/lib/python3.8/site-packages (from cryptography>=3.2->pyopenssl->iot-device>=0.4.7->iot-kernel) (1.14.5)\n",
      "Requirement already satisfied: pycparser in /root/miniforge3/lib/python3.8/site-packages (from cffi>=1.12->cryptography>=3.2->pyopenssl->iot-device>=0.4.7->iot-kernel) (2.20)\n",
      "Requirement already satisfied: ifaddr>=0.1.7 in /root/miniforge3/lib/python3.8/site-packages (from zeroconf->iot-device>=0.4.7->iot-kernel) (0.1.7)\n",
      "Installing collected packages: argparse, iot-kernel\n",
      "  Attempting uninstall: iot-kernel\n",
      "    Found existing installation: iot-kernel 0.4.10\n",
      "    Uninstalling iot-kernel-0.4.10:\n",
      "      Successfully uninstalled iot-kernel-0.4.10\n",
      "Successfully installed argparse-1.4.0 iot-kernel-0.4.11\n",
      "target_dir /root/miniforge3/share/jupyter/kernels/iot_kernel\n",
      "__file__ /root/miniforge3/lib/python3.8/site-packages/iot_kernel/install.py\n",
      "dir __file__ /root/miniforge3/lib/python3.8/site-packages/iot_kernel\n",
      "src_dir /root/miniforge3/lib/python3.8/site-packages/iot_kernel/images\n",
      "Installed iot_kernel kernel in /root/miniforge3/share/jupyter/kernels/iot_kernel\n",
      "----------- RESTART KERNEL -----------\n"
     ]
    }
   ],
   "source": [
    "%%bash\n",
    "\n",
    "pip install --upgrade iot-device\n",
    "pip install --upgrade iot-kernel\n",
    "\n",
    "python3 -m iot_kernel.install\n",
    "\n",
    "echo \"----------- RESTART KERNEL -----------\""
   ]
  },
  {
   "cell_type": "code",
   "execution_count": null,
   "metadata": {},
   "outputs": [],
   "source": [
    "import iot_kernel\n",
    "\n",
    "print(iot_kernel.__version__)\n",
    "print(dir(iot_kernel))\n",
    "print(iot_kernel.version.version_info)\n",
    "print(iot_kernel.version.__version__)"
   ]
  }
 ],
 "metadata": {
  "kernelspec": {
   "display_name": "IoT",
   "language": "python",
   "name": "iot_kernel"
  },
  "language_info": {
   "codemirror_mode": {
    "name": "python",
    "version": 3
   },
   "file_extension": ".py",
   "mimetype": "text/x-python",
   "name": "python",
   "pygments_lexer": "python3",
   "version": "3"
  }
 },
 "nbformat": 4,
 "nbformat_minor": 4
}
