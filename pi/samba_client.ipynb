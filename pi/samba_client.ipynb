{
 "cells": [
  {
   "cell_type": "markdown",
   "id": "669c9385",
   "metadata": {},
   "source": [
    "# Samba Client\n",
    "\n",
    "https://www.raspberrypi.org/documentation/remote-access/samba.md\n",
    "https://unix.stackexchange.com/questions/124342/mount-error-13-permission-denied\n",
    "\n",
    "```bash\n",
    "sudo mount -t cifs //10.39.40.114/iot49 /home/pi/shared \\\n",
    "    -osec=ntlmssp,domain=WORKGROUP,username=boser,password='m@ru$o5X'\n",
    "```"
   ]
  },
  {
   "cell_type": "code",
   "execution_count": null,
   "id": "16eba3af",
   "metadata": {},
   "outputs": [],
   "source": [
    "%%bash\n",
    "\n",
    "\n",
    "sudo mount -t cifs //10.39.40.114/iot49 ~/iot49-dev \\\n",
    "    -osec=ntlmssp,domain=WORKGROUP,username=boser,password='m@ru$o5X',uid=$(id -u),gid=$(id -g)\n"
   ]
  }
 ],
 "metadata": {
  "kernelspec": {
   "display_name": "Python 3",
   "language": "python",
   "name": "python3"
  },
  "language_info": {
   "codemirror_mode": {
    "name": "ipython",
    "version": 3
   },
   "file_extension": ".py",
   "mimetype": "text/x-python",
   "name": "python",
   "nbconvert_exporter": "python",
   "pygments_lexer": "ipython3",
   "version": "3.8.2"
  }
 },
 "nbformat": 4,
 "nbformat_minor": 5
}
