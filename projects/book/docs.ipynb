{
 "cells": [
  {
   "cell_type": "markdown",
   "id": "civic-registration",
   "metadata": {},
   "source": [
    "# Jupyter Book\n",
    "\n",
    "* [Tutorial](https://github.com/pabloinsente/jupyter-book-tutorial)\n",
    "* [DS 8](https://github.com/data-8/textbook)"
   ]
  },
  {
   "cell_type": "code",
   "execution_count": 1,
   "id": "detected-testament",
   "metadata": {},
   "outputs": [
    {
     "name": "stdout",
     "output_type": "stream",
     "text": [
      "\u001b[0mf7:58:10:26:9a:2d:ed:c6  serial:///dev/cu.usbmodem1414401  \u001b[0m\n"
     ]
    }
   ],
   "source": [
    "%discover"
   ]
  },
  {
   "cell_type": "code",
   "execution_count": null,
   "id": "integral-efficiency",
   "metadata": {},
   "outputs": [],
   "source": []
  }
 ],
 "metadata": {
  "kernelspec": {
   "display_name": "IoT",
   "language": "python",
   "name": "iot_kernel"
  },
  "language_info": {
   "codemirror_mode": {
    "name": "python",
    "version": 3
   },
   "file_extension": ".py",
   "mimetype": "text/x-python",
   "name": "python",
   "pygments_lexer": "python3",
   "version": "3"
  }
 },
 "nbformat": 4,
 "nbformat_minor": 5
}
