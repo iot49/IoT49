{
 "cells": [
  {
   "cell_type": "markdown",
   "id": "fuzzy-cornell",
   "metadata": {},
   "source": [
    "# `iot49` on Raspberry Pi\n",
    "\n",
    "1. Install\n",
    "    * [iot49 - SD Card with Pi OS, Jupyter & libs](install.ipynb)\n",
    "    * Optional:\n",
    "       * [Samba](samba.ipynb)\n",
    "       * [Syncthing](syncthing.ipynb)\n",
    "       * [Dropbox](dropbox.ipynb)\n",
    "       * [Backup](backup.ipynb)\n",
    "2. System\n",
    "    * [Pi Device Info & Maintenance](device_info.ipynb)\n",
    "    * [GPIO](https://pinout.xyz/)\n",
    "    * [Camera](camera.ipynb)\n",
    "2. Jupyter Lab\n",
    "    * [Jupyter Service](jupyter_service.ipynb)\n",
    "    * [Matplotlib](matplotlib.ipynb)\n",
    "3. MicroPython on Pi\n",
    "    * [Configure Pi UART](pi_uart.ipynb)\n",
    "    * [REPL on Pi UART](mp_uart_repl.ipynb)\n",
    "    * [stm32flasher](stm32flasher.ipynb)\n"
   ]
  },
  {
   "cell_type": "code",
   "execution_count": null,
   "id": "major-window",
   "metadata": {},
   "outputs": [],
   "source": []
  }
 ],
 "metadata": {
  "kernelspec": {
   "display_name": "IoT",
   "language": "python",
   "name": "iot_kernel"
  },
  "language_info": {
   "codemirror_mode": {
    "name": "python",
    "version": 3
   },
   "file_extension": ".py",
   "mimetype": "text/x-python",
   "name": "python",
   "pygments_lexer": "python3",
   "version": "3"
  },
  "toc-autonumbering": false
 },
 "nbformat": 4,
 "nbformat_minor": 5
}
