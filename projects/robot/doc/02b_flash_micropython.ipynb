{
 "cells": [
  {
   "cell_type": "markdown",
   "id": "champion-serum",
   "metadata": {},
   "source": [
    "# STM32 flashing from rpi\n",
    "\n",
    "* STM32 Bootloader\n",
    "  * [AN2606](https://www.st.com/resource/en/application_note/cd00167594-stm32-microcontroller-system-memory-boot-mode-stmicroelectronics.pdf)\n",
    "     * STM32F40xxx/41xxx (Table 53, page 109)\n",
    "     * Bootloader enabled on \n",
    "        * USART1: RX=PA10, TX=PA9\n",
    "        * USART3: RX=PB11, TX=PB10 or RX=PC11, TX=PC10\n",
    "     * Adafruit STM32F405\n",
    "        * RX/TX pins are PB11, PB10 (UART3)\n",
    "        * others not available\n",
    "\n",
    "* [MicroPython UART REPL](https://github.com/micropython/micropython/blob/master/ports/stm32/boards/NUCLEO_F411RE/mpconfigboard.h)\n",
    "  * [MicroPython Forum](https://forum.micropython.org/viewtopic.php?f=6&t=7425)\n",
    "\n",
    "* Serial flasher:\n",
    "  * [Python `stm32loader` - doesn't work](https://pypi.org/project/stm32loader/)\n",
    "  * [C `stm32flash`](https://sourceforge.net/p/stm32flash/wiki/Home/)\n",
    "  * [Instructions (C)](https://siliconjunction.wordpress.com/2017/03/21/flashing-the-stm32f-board-using-a-raspberry-pi-3/)\n",
    "\n"
   ]
  },
  {
   "cell_type": "markdown",
   "id": "completed-nursery",
   "metadata": {},
   "source": [
    "## Install C flasher"
   ]
  },
  {
   "cell_type": "code",
   "execution_count": 1,
   "id": "defensive-nebraska",
   "metadata": {},
   "outputs": [
    {
     "name": "stdout",
     "output_type": "stream",
     "text": [
      "Cloning into 'stm32flash-code'...\u001b[0m\n",
      "sudo: unable to resolve host 2d1d51c: No address associated with hostname\u001b[0m\n",
      "cc -Wall -g   -c -o dev_table.o dev_table.c\u001b[0m\n",
      "cc -Wall -g   -c -o i2c.o i2c.c\u001b[0m\n",
      "cc -Wall -g   -c -o init.o init.c\u001b[0m\n",
      "cc -Wall -g   -c -o main.o main.c\u001b[0m\n",
      "cc -Wall -g   -c -o port.o port.c\u001b[0m\n",
      "cc -Wall -g   -c -o serial_common.o serial_common.c\u001b[0m\n",
      "cc -Wall -g   -c -o serial_platform.o serial_platform.c\u001b[0m\n",
      "cc -Wall -g   -c -o stm32.o stm32.c\u001b[0m\n",
      "cc -Wall -g   -c -o utils.o utils.c\u001b[0m\n",
      "cd parsers && make parsers.a\u001b[0m\n",
      "make[1]: Entering directory '/tmp/stm32flash-code/parsers'\u001b[0m\n",
      "cc -Wall -g   -c -o binary.o binary.c\u001b[0m\n",
      "cc -Wall -g   -c -o hex.o hex.c\u001b[0m\n",
      "ar rc parsers.a binary.o hex.o\u001b[0m\n",
      "make[1]: Leaving directory '/tmp/stm32flash-code/parsers'\u001b[0m\n",
      "cc  -o stm32flash dev_table.o i2c.o init.o main.o port.o serial_common.o serial_platform.o stm32.o utils.o parsers/parsers.a\u001b[0m\n",
      "install -d /usr/local/bin\u001b[0m\n",
      "install -m 755 stm32flash /usr/local/bin\u001b[0m\n",
      "install -d /usr/local/share/man/man1\u001b[0m\n",
      "install -m 644 stm32flash.1 /usr/local/share/man/man1\u001b[0m\n"
     ]
    }
   ],
   "source": [
    "%%bash\n",
    "\n",
    "cd /tmp\n",
    "git clone https://git.code.sf.net/p/stm32flash/code stm32flash-code\n",
    "cd stm32flash-code\n",
    "sudo make install"
   ]
  },
  {
   "cell_type": "code",
   "execution_count": 2,
   "id": "initial-writer",
   "metadata": {},
   "outputs": [
    {
     "name": "stdout",
     "output_type": "stream",
     "text": [
      "Failed to init device.\u001b[0m\n",
      "stm32flash 0.6\u001b[0m\n",
      "\u001b[0m\n",
      "http://stm32flash.sourceforge.net/\u001b[0m\n",
      "\u001b[0m\n",
      "Interface serial_posix: 57600 8E1\u001b[0m\n",
      "\u001b[0m\n"
     ]
    }
   ],
   "source": [
    "%%bash\n",
    "\n",
    "# retrieve device info\n",
    "stm32flash /dev/ttyAMA2"
   ]
  },
  {
   "cell_type": "code",
   "execution_count": 8,
   "id": "brilliant-cutting",
   "metadata": {},
   "outputs": [
    {
     "name": "stdout",
     "output_type": "stream",
     "text": [
      "stm32flash 0.6\u001b[0m\n",
      "\u001b[0m\n",
      "http://stm32flash.sourceforge.net/\u001b[0m\n",
      "\u001b[0m\n",
      "Interface serial_posix: 57600 8E1\u001b[0m\n",
      "Version      : 0x31\u001b[0m\n",
      "Option 1     : 0x00\u001b[0m\n",
      "Option 2     : 0x00\u001b[0m\n",
      "Device ID    : 0x0413 (STM32F40xxx/41xxx)\u001b[0m\n",
      "- RAM        : Up to 128KiB  (12288b reserved by bootloader)\u001b[0m\n",
      "- Flash      : Up to 1024KiB (size first sector: 1x16384)\u001b[0m\n",
      "- Option RAM : 16b\u001b[0m\n",
      "- System RAM : 30KiB\u001b[0m\n",
      "\u001b[0m\n",
      "stm32flash 0.6\u001b[0m\n",
      "\u001b[0m\n",
      "http://stm32flash.sourceforge.net/\u001b[0m\n",
      "\u001b[0m\n",
      "Using Parser : Raw BINARY\u001b[0m\n",
      "Interface serial_posix: 57600 8E1\u001b[0m\n",
      "Version      : 0x31\u001b[0m\n",
      "Option 1     : 0x00\u001b[0m\n",
      "Option 2     : 0x00\u001b[0m\n",
      "Device ID    : 0x0413 (STM32F40xxx/41xxx)\u001b[0m\n",
      "- RAM        : Up to 128KiB  (12288b reserved by bootloader)\u001b[0m\n",
      "- Flash      : Up to 1024KiB (size first sector: 1x16384)\u001b[0m\n",
      "- Option RAM : 16b\u001b[0m\n",
      "- System RAM : 30KiB\u001b[0m\n",
      "Write to memory\u001b[0m\n",
      "Erasing memory\u001b[0m\n",
      "Wrote and verified address 0x08003974 (100.00%) Done.\u001b[0m\n",
      "\u001b[0m\n",
      "stm32flash 0.6\u001b[0m\n",
      "\u001b[0m\n",
      "http://stm32flash.sourceforge.net/\u001b[0m\n",
      "\u001b[0m\n",
      "Using Parser : Raw BINARY\u001b[0m\n",
      "Interface serial_posix: 57600 8E1\u001b[0m\n",
      "Version      : 0x31\u001b[0m\n",
      "Option 1     : 0x00\u001b[0m\n",
      "Option 2     : 0x00\u001b[0m\n",
      "Device ID    : 0x0413 (STM32F40xxx/41xxx)\u001b[0m\n",
      "- RAM        : Up to 128KiB  (12288b reserved by bootloader)\u001b[0m\n",
      "- Flash      : Up to 1024KiB (size first sector: 1x16384)\u001b[0m\n",
      "- Option RAM : 16b\u001b[0m\n",
      "- System RAM : 30KiB\u001b[0m\n",
      "Write to memory\u001b[0m\n",
      "Erasing memory\u001b[0m\n",
      "Wrote and verified address 0x080733c4 (100.00%) Done.\u001b[0m\n",
      "\u001b[0m\n"
     ]
    }
   ],
   "source": [
    "%%bash\n",
    "\n",
    "# put device in DFU mode!\n",
    "\n",
    "# retrieve device info\n",
    "stm32flash /dev/ttyAMA2\n",
    "\n",
    "# flash (be patient, the 2nd flash takes a couple of minutes)\n",
    "stm32flash -v -S 0x08000000 -w $IOT/micropython/ports/stm32/build-MOTOR_HAT/firmware0.bin /dev/ttyAMA2\n",
    "stm32flash -v -S 0x08020000 -w $IOT/micropython/ports/stm32/build-MOTOR_HAT/firmware1.bin /dev/ttyAMA2"
   ]
  },
  {
   "cell_type": "markdown",
   "id": "placed-pledge",
   "metadata": {},
   "source": [
    "## Flash STM32 via /dev/serial (MOTOR_HAT)"
   ]
  },
  {
   "cell_type": "code",
   "execution_count": 2,
   "id": "dietary-police",
   "metadata": {},
   "outputs": [
    {
     "name": "stdout",
     "output_type": "stream",
     "text": [
      "STM32 in boot mode ...\u001b[0m\n",
      "stm32flash 0.6\u001b[0m\n",
      "\u001b[0m\n",
      "http://stm32flash.sourceforge.net/\u001b[0m\n",
      "\u001b[0m\n",
      "Interface serial_posix: 57600 8E1\u001b[0m\n",
      "Version      : 0x31\u001b[0m\n",
      "Option 1     : 0x00\u001b[0m\n",
      "Option 2     : 0x00\u001b[0m\n",
      "Device ID    : 0x0413 (STM32F40xxx/41xxx)\u001b[0m\n",
      "- RAM        : Up to 128KiB  (12288b reserved by bootloader)\u001b[0m\n",
      "- Flash      : Up to 1024KiB (size first sector: 1x16384)\u001b[0m\n",
      "- Option RAM : 16b\u001b[0m\n",
      "- System RAM : 30KiB\u001b[0m\n",
      "\u001b[0m\n",
      "stm32flash 0.6\u001b[0m\n",
      "\u001b[0m\n",
      "http://stm32flash.sourceforge.net/\u001b[0m\n",
      "\u001b[0m\n",
      "Using Parser : Raw BINARY\u001b[0m\n",
      "Interface serial_posix: 57600 8E1\u001b[0m\n",
      "Version      : 0x31\u001b[0m\n",
      "Option 1     : 0x00\u001b[0m\n",
      "Option 2     : 0x00\u001b[0m\n",
      "Device ID    : 0x0413 (STM32F40xxx/41xxx)\u001b[0m\n",
      "- RAM        : Up to 128KiB  (12288b reserved by bootloader)\u001b[0m\n",
      "- Flash      : Up to 1024KiB (size first sector: 1x16384)\u001b[0m\n",
      "- Option RAM : 16b\u001b[0m\n",
      "- System RAM : 30KiB\u001b[0m\n",
      "Write to memory\u001b[0m\n",
      "Erasing memory\u001b[0m\n",
      "Wrote and verified address 0x08003974 (100.00%) Done.\u001b[0m\n",
      "\u001b[0m\n",
      "stm32flash 0.6\u001b[0m\n",
      "\u001b[0m\n",
      "http://stm32flash.sourceforge.net/\u001b[0m\n",
      "\u001b[0m\n",
      "Using Parser : Raw BINARY\u001b[0m\n",
      "Interface serial_posix: 57600 8E1\u001b[0m\n",
      "Version      : 0x31\u001b[0m\n",
      "Option 1     : 0x00\u001b[0m\n",
      "Option 2     : 0x00\u001b[0m\n",
      "Device ID    : 0x0413 (STM32F40xxx/41xxx)\u001b[0m\n",
      "- RAM        : Up to 128KiB  (12288b reserved by bootloader)\u001b[0m\n",
      "- Flash      : Up to 1024KiB (size first sector: 1x16384)\u001b[0m\n",
      "- Option RAM : 16b\u001b[0m\n",
      "- System RAM : 30KiB\u001b[0m\n",
      "Write to memory\u001b[0m\n",
      "Erasing memory\u001b[0m\n",
      "Wrote and verified address 0x080733c0 (100.00%) Done.\u001b[0m\n",
      "\u001b[0m\n",
      "STM32 reset.\u001b[0m\n"
     ]
    }
   ],
   "source": [
    "%%bash\n",
    "\n",
    "# enter boot mode\n",
    "\n",
    "echo \"21\" > /sys/class/gpio/export\n",
    "echo \"27\" > /sys/class/gpio/export\n",
    "sleep 0.1\n",
    "echo \"out\" > /sys/class/gpio/gpio21/direction\n",
    "echo \"out\" > /sys/class/gpio/gpio27/direction\n",
    "# boot mode\n",
    "echo \"1\" >  /sys/class/gpio/gpio27/value\n",
    "sleep 0.1\n",
    "echo \"0\" >  /sys/class/gpio/gpio21/value\n",
    "sleep 0.1\n",
    "echo \"1\" >  /sys/class/gpio/gpio21/value\n",
    "echo \"21\" > /sys/class/gpio/unexport\n",
    "echo \"27\" > /sys/class/gpio/unexport\n",
    "sleep 0.1\n",
    "\n",
    "echo \"STM32 in boot mode ...\"\n",
    "\n",
    "# retrieve device info\n",
    "stm32flash /dev/ttyAMA2\n",
    "\n",
    "# flash\n",
    "stm32flash -v -S 0x08000000 -w $IOT/micropython/ports/stm32/build-MOTOR_HAT/firmware0.bin /dev/ttyAMA2\n",
    "stm32flash -v -S 0x08020000 -w $IOT/micropython/ports/stm32/build-MOTOR_HAT/firmware1.bin /dev/ttyAMA2\n",
    "\n",
    "# reset (no boot mode)\n",
    "\n",
    "echo \"21\" > /sys/class/gpio/export\n",
    "echo \"27\" > /sys/class/gpio/export\n",
    "sleep 0.1\n",
    "echo \"out\" > /sys/class/gpio/gpio21/direction\n",
    "echo \"out\" > /sys/class/gpio/gpio27/direction\n",
    "# normal mode\n",
    "echo \"0\" >  /sys/class/gpio/gpio27/value\n",
    "sleep 0.1\n",
    "echo \"0\" >  /sys/class/gpio/gpio21/value\n",
    "sleep 0.5\n",
    "echo \"1\" >  /sys/class/gpio/gpio21/value\n",
    "echo \"21\" > /sys/class/gpio/unexport\n",
    "echo \"27\" > /sys/class/gpio/unexport\n",
    "\n",
    "echo \"STM32 reset.\""
   ]
  },
  {
   "cell_type": "markdown",
   "id": "configured-partner",
   "metadata": {},
   "source": [
    "## Verify"
   ]
  },
  {
   "cell_type": "code",
   "execution_count": 3,
   "id": "absolute-chick",
   "metadata": {},
   "outputs": [
    {
     "name": "stdout",
     "output_type": "stream",
     "text": [
      "\n",
      ">>> print('hello', 2**16)\n",
      "hello 65536\n",
      ">>> print(2**400)\n",
      "2582249878086908589655919172003011874329705792829223512830659356540647622016841194629645353280137831435903171972747493376\n",
      ">>> "
     ]
    }
   ],
   "source": [
    "%%host\n",
    "\n",
    "import serial, time\n",
    "\n",
    "with serial.Serial(\"/dev/ttyAMA1\", baudrate=115200, timeout=1.0) as dev:\n",
    "    dev.write(b\"\\rprint('hello', 2**16)\\rprint(2**400)\\r\")\n",
    "    while True:\n",
    "        recv = dev.read().decode()\n",
    "        if len(recv) == 0:\n",
    "            break\n",
    "        print(recv, end='')\n",
    "        time.sleep(0.01)"
   ]
  },
  {
   "cell_type": "code",
   "execution_count": 3,
   "id": "interstate-hamilton",
   "metadata": {},
   "outputs": [
    {
     "name": "stdout",
     "output_type": "stream",
     "text": [
      "\u001b[0m\u001b[46m\u001b[30mConnected to 1c:00:26:00:09:50:52:42:4e:30:39:20 @ serial:///dev/ttyAMA1\u001b[0m\n"
     ]
    }
   ],
   "source": [
    "%connect 'serial:///dev/ttyAMA1'"
   ]
  },
  {
   "cell_type": "code",
   "execution_count": 3,
   "id": "cutting-synthetic",
   "metadata": {},
   "outputs": [
    {
     "name": "stdout",
     "output_type": "stream",
     "text": [
      "2037035976334486\u001b[0m086268445688409378161051468393665936250636140449354381299763336706183397376\n",
      "\u001b[0m"
     ]
    }
   ],
   "source": [
    "print(2**300)"
   ]
  },
  {
   "cell_type": "code",
   "execution_count": 3,
   "id": "increased-heaven",
   "metadata": {},
   "outputs": [
    {
     "name": "stdout",
     "output_type": "stream",
     "text": [
      "\u001b[0m                            \u001b[32mflash/\u001b[0m\n",
      "\u001b[0m    528  Dec 31 23:00 2014      \u001b[34mREADME.txt\u001b[0m\n",
      "\u001b[0m    366  Dec 31 23:00 2014      \u001b[34mboot.py\u001b[0m\n",
      "\u001b[0m     34  Dec 31 23:00 2014      \u001b[34mmain.py\u001b[0m\n",
      "\u001b[0m   2999  Dec 31 23:00 2014      \u001b[34mpybcdc.inf\u001b[0m\n",
      "\u001b[0m"
     ]
    }
   ],
   "source": [
    "%rlist"
   ]
  },
  {
   "cell_type": "code",
   "execution_count": 3,
   "id": "nutritional-exhibit",
   "metadata": {},
   "outputs": [
    {
     "name": "stdout",
     "output_type": "stream",
     "text": [
      "\u001b[0m\u001b[31mDELETE  /flash/pybcdc.inf\n",
      "\u001b[0m\u001b[0m\u001b[31mDELETE  /flash/main.py\n",
      "\u001b[0m\u001b[0m\u001b[31mDELETE  /flash/boot.py\n",
      "\u001b[0m\u001b[0m\u001b[31mDELETE  /flash/README.txt\n",
      "\u001b[0m\u001b[0m\u001b[31mDELETE  /flash\n",
      "\u001b[0m\u001b[0m\u001b[31mDELETE  /\n",
      "\u001b[0m\u001b[0m"
     ]
    }
   ],
   "source": [
    "%rdiff"
   ]
  },
  {
   "cell_type": "code",
   "execution_count": 3,
   "id": "lined-street",
   "metadata": {},
   "outputs": [
    {
     "name": "stdout",
     "output_type": "stream",
     "text": [
      "\u001b[0m1c:00:26:00:09:50:52:42:4e:30:39:20  serial:///dev/ttyAMA1  \u001b[0m\n"
     ]
    }
   ],
   "source": [
    "%discover"
   ]
  },
  {
   "cell_type": "code",
   "execution_count": null,
   "id": "prerequisite-hunter",
   "metadata": {},
   "outputs": [],
   "source": []
  }
 ],
 "metadata": {
  "kernelspec": {
   "display_name": "IoT",
   "language": "python",
   "name": "iot_kernel"
  },
  "language_info": {
   "codemirror_mode": {
    "name": "python",
    "version": 3
   },
   "file_extension": ".py",
   "mimetype": "text/x-python",
   "name": "python",
   "pygments_lexer": "python3",
   "version": "3"
  }
 },
 "nbformat": 4,
 "nbformat_minor": 5
}
