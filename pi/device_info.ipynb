{
 "cells": [
  {
   "cell_type": "markdown",
   "id": "prescription-positive",
   "metadata": {},
   "source": [
    "# Device Info & Maintenance"
   ]
  },
  {
   "cell_type": "markdown",
   "id": "english-donor",
   "metadata": {},
   "source": [
    "## Software Update\n",
    "\n",
    "```bash\n",
    "sudo apt update\n",
    "sudo apt -y full-upgrade\n",
    "source /home/pi/.venv/jns/bin/activate\n",
    "# pip3 list --outdated\n",
    "cd ~/iot49\n",
    "git pull\n",
    "```"
   ]
  },
  {
   "cell_type": "markdown",
   "id": "greatest-illustration",
   "metadata": {},
   "source": [
    "## System"
   ]
  },
  {
   "cell_type": "code",
   "execution_count": 8,
   "id": "living-association",
   "metadata": {},
   "outputs": [
    {
     "name": "stdout",
     "output_type": "stream",
     "text": [
      "Linux pitest 5.10.17-v7+ #1403 SMP Mon Feb 22 11:29:51 GMT 2021 armv7l GNU/Linux\n"
     ]
    }
   ],
   "source": [
    "!uname -a"
   ]
  },
  {
   "cell_type": "code",
   "execution_count": 9,
   "id": "retained-questionnaire",
   "metadata": {},
   "outputs": [
    {
     "name": "stdout",
     "output_type": "stream",
     "text": [
      "PRETTY_NAME=\"Raspbian GNU/Linux 10 (buster)\"\n",
      "NAME=\"Raspbian GNU/Linux\"\n",
      "VERSION_ID=\"10\"\n",
      "VERSION=\"10 (buster)\"\n",
      "VERSION_CODENAME=buster\n",
      "ID=raspbian\n",
      "ID_LIKE=debian\n",
      "HOME_URL=\"http://www.raspbian.org/\"\n",
      "SUPPORT_URL=\"http://www.raspbian.org/RaspbianForums\"\n",
      "BUG_REPORT_URL=\"http://www.raspbian.org/RaspbianBugs\"\n"
     ]
    }
   ],
   "source": [
    "!cat /etc/os-release"
   ]
  },
  {
   "cell_type": "markdown",
   "id": "statistical-tours",
   "metadata": {},
   "source": [
    "## Disk"
   ]
  },
  {
   "cell_type": "code",
   "execution_count": 1,
   "id": "reported-shell",
   "metadata": {},
   "outputs": [
    {
     "name": "stdout",
     "output_type": "stream",
     "text": [
      "Filesystem      Size  Used Avail Use% Mounted on\n",
      "/dev/root        29G  3.8G   24G  14% /\n",
      "devtmpfs        430M     0  430M   0% /dev\n",
      "tmpfs           463M     0  463M   0% /dev/shm\n",
      "tmpfs           463M   12M  451M   3% /run\n",
      "tmpfs           5.0M  4.0K  5.0M   1% /run/lock\n",
      "tmpfs           463M     0  463M   0% /sys/fs/cgroup\n",
      "/dev/mmcblk0p1  253M   49M  204M  20% /boot\n"
     ]
    }
   ],
   "source": [
    "!df -h"
   ]
  },
  {
   "cell_type": "markdown",
   "id": "planned-helicopter",
   "metadata": {},
   "source": [
    "## apt Packages"
   ]
  },
  {
   "cell_type": "code",
   "execution_count": 6,
   "id": "polished-photographer",
   "metadata": {},
   "outputs": [
    {
     "name": "stdout",
     "output_type": "stream",
     "text": [
      "472226\tlibgl1-mesa-dri\n",
      "276748\traspberrypi-kernel\n",
      "120296\tpandoc\n",
      "69076\tlibpython3.7-dev\n",
      "60934\tlibllvm9\n",
      "58030\ttexlive-base\n",
      "54773\ttexlive-plain-generic\n",
      "52104\ttexlive-latex-extra\n",
      "48583\ttexlive-binaries\n",
      "39115\tlibicu-dev\n",
      "33270\tlmodern\n",
      "33032\tlibraspberrypi-doc\n",
      "31626\ttexlive-latex-recommended\n",
      "30631\tlibicu63\n",
      "30087\ttexlive-xetex\n",
      "29823\tgit\n",
      "26804\tadwaita-icon-theme\n",
      "25744\ttexlive-pictures\n",
      "24939\tlibgtk-3-common\n",
      "21779\tgcc-8\n",
      "sort: write failed: 'standard output': Broken pipe\n",
      "sort: write error\n"
     ]
    }
   ],
   "source": [
    "# largest installed packages\n",
    "\n",
    "!dpkg-query -Wf '${Installed-Size}\\t${Package}\\n' | sort -nr | head -n 20"
   ]
  },
  {
   "cell_type": "code",
   "execution_count": null,
   "id": "monetary-haiti",
   "metadata": {},
   "outputs": [],
   "source": [
    "# remove package\n",
    "\n",
    "# !sudo apt purge -y packagename"
   ]
  },
  {
   "cell_type": "markdown",
   "id": "backed-liquid",
   "metadata": {},
   "source": [
    "## Pip"
   ]
  },
  {
   "cell_type": "code",
   "execution_count": 7,
   "id": "criminal-domain",
   "metadata": {},
   "outputs": [
    {
     "name": "stdout",
     "output_type": "stream",
     "text": [
      "Package                           Version\n",
      "--------------------------------- ---------\n",
      "anyio                             2.2.0\n",
      "argon2-cffi                       20.1.0\n",
      "astroid                           2.5.1\n",
      "async-generator                   1.10\n",
      "attrs                             20.3.0\n",
      "Automat                           20.2.0\n",
      "autopep8                          1.5.5\n",
      "Babel                             2.9.0\n",
      "backcall                          0.2.0\n",
      "bleach                            3.3.0\n",
      "bleak                             0.10.0\n",
      "certifi                           2020.12.5\n",
      "cffi                              1.14.5\n",
      "chardet                           4.0.0\n",
      "colorzero                         1.1\n",
      "constantly                        15.1.0\n",
      "cryptography                      3.4.6\n",
      "cycler                            0.10.0\n",
      "decorator                         4.4.2\n",
      "defusedxml                        0.7.1\n",
      "entrypoints                       0.3\n",
      "flake8                            3.8.4\n",
      "gpiozero                          1.5.1\n",
      "hyperlink                         21.0.0\n",
      "hypothesis                        6.8.0\n",
      "idna                              2.10\n",
      "ifaddr                            0.1.7\n",
      "importlib-metadata                3.7.2\n",
      "incremental                       21.3.0\n",
      "iniconfig                         1.1.1\n",
      "iot-device                        0.4.6\n",
      "iot-kernel                        0.4.6\n",
      "ipykernel                         5.5.0\n",
      "ipython                           7.21.0\n",
      "ipython-genutils                  0.2.0\n",
      "isort                             5.7.0\n",
      "jedi                              0.17.2\n",
      "Jinja2                            2.11.3\n",
      "json5                             0.9.5\n",
      "jsonschema                        3.2.0\n",
      "jupyter-client                    6.1.11\n",
      "jupyter-contrib-core              0.3.3\n",
      "jupyter-contrib-nbextensions      0.5.1\n",
      "jupyter-core                      4.7.1\n",
      "jupyter-highlight-selected-word   0.2.0\n",
      "jupyter-latex-envs                1.4.6\n",
      "jupyter-lsp                       1.1.4\n",
      "jupyter-nbextensions-configurator 0.4.1\n",
      "jupyter-packaging                 0.7.12\n",
      "jupyter-server                    1.4.1\n",
      "jupyterlab                        3.0.10\n",
      "jupyterlab-pygments               0.1.2\n",
      "jupyterlab-server                 2.3.0\n",
      "kiwisolver                        1.3.1\n",
      "lazy-object-proxy                 1.5.2\n",
      "lxml                              4.6.2\n",
      "MarkupSafe                        1.1.1\n",
      "matplotlib                        3.3.4\n",
      "mccabe                            0.6.1\n",
      "mistune                           0.8.4\n",
      "mpmath                            1.2.1\n",
      "nbclassic                         0.2.6\n",
      "nbclient                          0.5.3\n",
      "nbconvert                         6.0.7\n",
      "nbformat                          5.1.2\n",
      "nest-asyncio                      1.5.1\n",
      "notebook                          6.2.0\n",
      "numpy                             1.20.1\n",
      "packaging                         20.9\n",
      "pandas                            1.2.3\n",
      "pandocfilters                     1.4.3\n",
      "parso                             0.7.1\n",
      "pexpect                           4.8.0\n",
      "picamera                          1.13\n",
      "pickleshare                       0.7.5\n",
      "Pillow                            8.1.2\n",
      "pip                               21.0.1\n",
      "pluggy                            0.13.1\n",
      "prometheus-client                 0.9.0\n",
      "prompt-toolkit                    3.0.17\n",
      "ptyprocess                        0.7.0\n",
      "py                                1.10.0\n",
      "pyasn1                            0.4.8\n",
      "pyasn1-modules                    0.2.8\n",
      "pycodestyle                       2.6.0\n",
      "pycparser                         2.20\n",
      "pycurl                            7.43.0.6\n",
      "pydocstyle                        5.1.1\n",
      "pyflakes                          2.2.0\n",
      "Pygments                          2.8.1\n",
      "pylint                            2.7.2\n",
      "pyOpenSSL                         20.0.1\n",
      "pyparsing                         2.4.7\n",
      "pyrsistent                        0.17.3\n",
      "pyserial                          3.5\n",
      "pytest                            6.2.2\n",
      "python-dateutil                   2.8.1\n",
      "python-jsonrpc-server             0.4.0\n",
      "python-language-server            0.36.2\n",
      "pytz                              2021.1\n",
      "PyYAML                            5.4.1\n",
      "pyzmq                             22.0.3\n",
      "readline                          6.2.4.1\n",
      "requests                          2.25.1\n",
      "rope                              0.18.0\n",
      "scipy                             1.6.1\n",
      "Send2Trash                        1.5.0\n",
      "service-identity                  18.1.0\n",
      "setuptools                        52.0.0\n",
      "six                               1.15.0\n",
      "sniffio                           1.2.0\n",
      "snowballstemmer                   2.1.0\n",
      "sortedcontainers                  2.3.0\n",
      "sympy                             1.7.1\n",
      "termcolor                         1.1.0\n",
      "terminado                         0.9.2\n",
      "testpath                          0.4.4\n",
      "toml                              0.10.2\n",
      "tornado                           6.1\n",
      "traitlets                         5.0.5\n",
      "Twisted                           21.2.0\n",
      "txdbus                            1.1.2\n",
      "typed-ast                         1.4.2\n",
      "typing-extensions                 3.7.4.3\n",
      "ujson                             4.0.2\n",
      "urllib3                           1.26.3\n",
      "wcwidth                           0.2.5\n",
      "webencodings                      0.5.1\n",
      "websocket-client                  0.58.0\n",
      "wheel                             0.36.2\n",
      "wrapt                             1.12.1\n",
      "yapf                              0.30.0\n",
      "zeroconf                          0.28.8\n",
      "zipp                              3.4.1\n",
      "zope.interface                    5.2.0\n"
     ]
    }
   ],
   "source": [
    "!pip list"
   ]
  },
  {
   "cell_type": "code",
   "execution_count": null,
   "id": "ultimate-fundamentals",
   "metadata": {},
   "outputs": [],
   "source": []
  }
 ],
 "metadata": {
  "kernelspec": {
   "display_name": "Python 3",
   "language": "python",
   "name": "python3"
  },
  "language_info": {
   "codemirror_mode": {
    "name": "ipython",
    "version": 3
   },
   "file_extension": ".py",
   "mimetype": "text/x-python",
   "name": "python",
   "nbconvert_exporter": "python",
   "pygments_lexer": "ipython3",
   "version": "3.7.3"
  },
  "toc-autonumbering": false
 },
 "nbformat": 4,
 "nbformat_minor": 5
}
