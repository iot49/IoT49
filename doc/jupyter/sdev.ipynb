{
 "cells": [
  {
   "cell_type": "markdown",
   "id": "coupled-intervention",
   "metadata": {},
   "source": [
    "# Software Development"
   ]
  },
  {
   "cell_type": "markdown",
   "id": "social-syndrome",
   "metadata": {},
   "source": [
    "While the IoT kernel won't replace an IDE, it contains a few features that support code development. In addition to [software upload](file_ops.ipynb) (`%rsync` magic), the\n",
    "\n",
    "* `%softreset` (same as ^D in repl),\n",
    "* `%upip` and `%pip` package managers, and\n",
    "* `%mpycross` cross-compiler\n",
    "\n",
    "come in handy."
   ]
  },
  {
   "cell_type": "code",
   "execution_count": 6,
   "id": "amazing-communist",
   "metadata": {},
   "outputs": [
    {
     "name": "stdout",
     "output_type": "stream",
     "text": [
      "\u001b[0mConnected to my_esp @ serial:///dev/cu.usbserial-0163A3DA\n",
      "\u001b[0m"
     ]
    }
   ],
   "source": [
    "%connect -s my_esp"
   ]
  },
  {
   "cell_type": "markdown",
   "id": "bronze-share",
   "metadata": {},
   "source": [
    "## %softreset\n",
    "\n",
    "Softreset restarts the MicroPython interpeter, clearing all variables and releasing peripherals. The latter is particularly convenient with CircuitPython as an alternative to using context managers during code development.\n",
    "\n",
    "*Example:*"
   ]
  },
  {
   "cell_type": "code",
   "execution_count": 19,
   "id": "statewide-japanese",
   "metadata": {},
   "outputs": [
    {
     "name": "stdout",
     "output_type": "stream",
     "text": [
      "5\u001b[0m\n",
      "\u001b[0m\u001b[0m\n",
      "\u001b[0m\u001b[46m\u001b[31m!!!!!!!!!!!!!!!!!!!!!!!!!!!!!!!\n",
      "\u001b[0m\u001b[46m\u001b[31m!!!!!   softreset ...     !!!!!\n",
      "\u001b[0m\u001b[46m\u001b[31m!!!!!!!!!!!!!!!!!!!!!!!!!!!!!!!\u001b[0m\n",
      "\n",
      "\u001b[0m"
     ]
    },
    {
     "name": "stderr",
     "output_type": "stream",
     "text": [
      "Traceback (most recent call last):\n",
      "  File \"<stdin>\", line 1, in <module>\n",
      "NameError: name 'a' isn't defined\n",
      "\u001b[0m"
     ]
    }
   ],
   "source": [
    "a = 5\n",
    "print(a)\n",
    "%softreset\n",
    "print(a)   # raises NameError"
   ]
  },
  {
   "cell_type": "markdown",
   "id": "dominican-invite",
   "metadata": {},
   "source": [
    "## Package managers: %upip and %pip\n",
    "\n",
    "Two versions of the pip magic are provided: \n",
    "\n",
    "* `%pip` uses \"standard\" pip to download packages from PyPi; e.g. I2C drivers from [Adafruit](https://circuitpython.readthedocs.io/projects/bundle/en/latest/drivers.html). Although targeted for CircuitPython, many of these libraries can also be used on MicroPython with simple adaptor code.\n",
    "   \n",
    "* `%upip` downloads MicroPython libraries from https://micropython.org. See https://github.com/micropython/micropython-lib for what's available. Note that MicroPython uses a special package format (that is incompatible with standard pip), hence you need to use `%upip` to download these libraries."
   ]
  },
  {
   "cell_type": "markdown",
   "id": "passing-magic",
   "metadata": {},
   "source": [
    "#### %pip\n",
    "\n",
    "The magic below fetches the driver for BME280 temperature/pressure sensor."
   ]
  },
  {
   "cell_type": "code",
   "execution_count": 6,
   "id": "announced-sister",
   "metadata": {},
   "outputs": [
    {
     "name": "stdout",
     "output_type": "stream",
     "text": [
      "\u001b[0mCollecting Adafruit-BME280\n",
      "  Using cached Adafruit_BME280-1.0.1-py3-none-any.whl (6.3 kB)\n",
      "Installing collected packages: Adafruit-BME280\n",
      "Successfully installed Adafruit-BME280-1.0.1\n",
      "\u001b[0m\u001b[0m\u001b[32mCOPY    lib/Adafruit_BME280/BME280.py\n",
      "\u001b[0m\u001b[0m\u001b[32mCOPY    lib/Adafruit_BME280/__init__.py\n",
      "\u001b[0m\u001b[0m"
     ]
    }
   ],
   "source": [
    "%pip install Adafruit-BME280\n",
    "%rsync"
   ]
  },
  {
   "cell_type": "markdown",
   "id": "impressive-sheet",
   "metadata": {},
   "source": [
    "Note that the code is only downloaded to the host; use the `%rsync` macro to upload to the microcontroller."
   ]
  },
  {
   "cell_type": "markdown",
   "id": "dutch-reserve",
   "metadata": {},
   "source": [
    "#### %upip\n",
    "\n",
    "*Example:* download & install the logging module:"
   ]
  },
  {
   "cell_type": "code",
   "execution_count": 6,
   "id": "aquatic-terrorist",
   "metadata": {},
   "outputs": [
    {
     "name": "stdout",
     "output_type": "stream",
     "text": [
      "\u001b[0mWarning: micropython.org SSL certificate is not validated\n",
      "Installing micropython-logging 0.3 from https://micropython.org/pi/logging/logging-0.3.tar.gz\n",
      "\u001b[0m\u001b[32mCOPY    lib/logging.py\n",
      "\u001b[0m\u001b[0m"
     ]
    }
   ],
   "source": [
    "%upip install logging\n",
    "%rsync"
   ]
  },
  {
   "cell_type": "markdown",
   "id": "usual-chick",
   "metadata": {},
   "source": [
    "## %mpycross"
   ]
  },
  {
   "cell_type": "code",
   "execution_count": 6,
   "id": "proprietary-applicant",
   "metadata": {},
   "outputs": [
    {
     "name": "stdout",
     "output_type": "stream",
     "text": [
      "\u001b[0mcompiling   boards/esp32/mcu/webrepl_cfg.py\n",
      "\u001b[0m\u001b[0mcompiling   boards/esp32/mcu/boot.py\n",
      "\u001b[0m\u001b[0mcompiling   boards/esp32/mcu/lib/logging.py\n",
      "\u001b[0m\u001b[0mcompiling   boards/esp32/mcu/lib/utelnetserver.py\n",
      "\u001b[0m\u001b[0mcompiling   boards/esp32/mcu/lib/Adafruit_BME280/BME280.py\n",
      "\u001b[0m\u001b[0mcompiling   boards/esp32/mcu/lib/Adafruit_BME280/__init__.py\n",
      "\u001b[0m\u001b[0mcompiling   boards/esp32/mcu/lib/mp/server.py\n",
      "\u001b[0m\u001b[0mcompiling   boards/esp32/mcu/lib/mp/__init__.py\n",
      "\u001b[0m\u001b[0mcompiling   boards/esp32/mcu/lib/ota32/open_url.py\n",
      "\u001b[0m\u001b[0mcompiling   boards/esp32/mcu/lib/ota32/__init__.py\n",
      "\u001b[0m\u001b[0mcompiling   boards/esp32/mcu/lib/ota32/ota.py\n",
      "\u001b[0m\u001b[0m"
     ]
    }
   ],
   "source": [
    "%mpycross"
   ]
  },
  {
   "cell_type": "markdown",
   "id": "afraid-forge",
   "metadata": {},
   "source": [
    "The next sync uploads the compiled files and deletes the sources. The sources are still available on the host, of course (the IoT Kernel never deleteds files on the host)."
   ]
  },
  {
   "cell_type": "code",
   "execution_count": 6,
   "id": "committed-flesh",
   "metadata": {},
   "outputs": [
    {
     "name": "stdout",
     "output_type": "stream",
     "text": [
      "\u001b[0m\u001b[31mDELETE  webrepl_cfg.py\n",
      "\u001b[0m\u001b[0m\u001b[31mDELETE  lib/utelnetserver.py\n",
      "\u001b[0m\u001b[0m\u001b[31mDELETE  lib/ota32/ota.py\n",
      "\u001b[0m\u001b[0m\u001b[31mDELETE  lib/ota32/open_url.py\n",
      "\u001b[0m\u001b[0m\u001b[31mDELETE  lib/ota32/__init__.py\n",
      "\u001b[0m\u001b[0m\u001b[31mDELETE  lib/mp/server.py\n",
      "\u001b[0m\u001b[0m\u001b[31mDELETE  lib/mp/__init__.py\n",
      "\u001b[0m\u001b[0m\u001b[31mDELETE  lib/logging.py\n",
      "\u001b[0m\u001b[0m\u001b[31mDELETE  lib/Adafruit_BME280/__init__.py\n",
      "\u001b[0m\u001b[0m\u001b[31mDELETE  lib/Adafruit_BME280/BME280.py\n",
      "\u001b[0m\u001b[0m\u001b[31mDELETE  boot.py\n",
      "\u001b[0m\u001b[0m\u001b[32mCOPY    webrepl_cfg.mpy\n",
      "\u001b[0m\u001b[0m\u001b[32mCOPY    lib/mp/__init__.mpy\n",
      "\u001b[0m\u001b[0m\u001b[32mCOPY    lib/ota32/open_url.mpy\n",
      "\u001b[0m\u001b[0m\u001b[32mCOPY    lib/ota32/ota.mpy\n",
      "\u001b[0m\u001b[0m\u001b[32mCOPY    lib/ota32/__init__.mpy\n",
      "\u001b[0m\u001b[0m\u001b[32mCOPY    lib/utelnetserver.mpy\n",
      "\u001b[0m\u001b[0m\u001b[32mCOPY    lib/mp/server.mpy\n",
      "\u001b[0m\u001b[0m\u001b[32mCOPY    lib/Adafruit_BME280/__init__.mpy\n",
      "\u001b[0m\u001b[0m\u001b[32mCOPY    lib/logging.mpy\n",
      "\u001b[0m\u001b[0m\u001b[32mCOPY    lib/Adafruit_BME280/BME280.mpy\n",
      "\u001b[0m\u001b[0m\u001b[32mCOPY    boot.mpy\n",
      "\u001b[0m\u001b[0m\u001b[0m    878  Feb 11 16:52 2021  \u001b[34mboot.mpy\u001b[0m\n",
      "\u001b[0m                            \u001b[32mlib/\u001b[0m\n",
      "\u001b[0m                                \u001b[32mAdafruit_BME280/\u001b[0m\n",
      "\u001b[0m   5085  Feb 11 16:52 2021          \u001b[34mBME280.mpy\u001b[0m\n",
      "\u001b[0m     45  Feb 11 16:52 2021          \u001b[34m__init__.mpy\u001b[0m\n",
      "\u001b[0m   1228  Feb 11 16:52 2021      \u001b[34mlogging.mpy\u001b[0m\n",
      "\u001b[0m                                \u001b[32mmp/\u001b[0m\n",
      "\u001b[0m     83  Feb 11 16:52 2021          \u001b[34m__init__.mpy\u001b[0m\n",
      "\u001b[0m   2291  Feb 11 16:52 2021          \u001b[34mserver.mpy\u001b[0m\n",
      "\u001b[0m                                \u001b[32mota32/\u001b[0m\n",
      "\u001b[0m     67  Feb 11 16:52 2021          \u001b[34m__init__.mpy\u001b[0m\n",
      "\u001b[0m    983  Feb 11 16:52 2021          \u001b[34mopen_url.mpy\u001b[0m\n",
      "\u001b[0m   1068  Feb 11 16:52 2021          \u001b[34mota.mpy\u001b[0m\n",
      "\u001b[0m   1324  Feb 11 16:52 2021      \u001b[34mutelnetserver.mpy\u001b[0m\n",
      "\u001b[0m     70  Feb 11 16:52 2021  \u001b[34mwebrepl_cfg.mpy\u001b[0m\n",
      "\u001b[0m"
     ]
    }
   ],
   "source": [
    "%rsync\n",
    "%rlist"
   ]
  },
  {
   "cell_type": "markdown",
   "id": "clear-german",
   "metadata": {},
   "source": [
    "Modifying a .py file results in the newer file to be uploaded. "
   ]
  },
  {
   "cell_type": "code",
   "execution_count": 7,
   "id": "executive-ukraine",
   "metadata": {},
   "outputs": [
    {
     "name": "stdout",
     "output_type": "stream",
     "text": [
      "\u001b[0m\u001b[31mDELETE  lib/logging.mpy\n",
      "\u001b[0m\u001b[0m\u001b[32mCOPY    lib/logging.py\n",
      "\u001b[0m\u001b[0m"
     ]
    }
   ],
   "source": [
    "!touch boards/esp32/mcu/lib/logging.py\n",
    "%rsync"
   ]
  },
  {
   "cell_type": "markdown",
   "id": "accessible-thompson",
   "metadata": {},
   "source": [
    "Run %mpycross again to compile ..."
   ]
  },
  {
   "cell_type": "code",
   "execution_count": 7,
   "id": "following-adapter",
   "metadata": {},
   "outputs": [
    {
     "name": "stdout",
     "output_type": "stream",
     "text": [
      "\u001b[0mcompiling   boards/esp32/mcu/lib/logging.py\n",
      "\u001b[0m\u001b[0m\u001b[0m\u001b[31mDELETE  lib/logging.py\n",
      "\u001b[0m\u001b[0m\u001b[32mCOPY    lib/logging.mpy\n",
      "\u001b[0m\u001b[0m"
     ]
    }
   ],
   "source": [
    "%mpycross\n",
    "%rsync"
   ]
  },
  {
   "cell_type": "markdown",
   "id": "earned-conservation",
   "metadata": {},
   "source": [
    "# Software Development\n",
    "\n",
    "Jupyter can be used to prototype and design code.\n",
    "\n",
    "*Example:* TimeIt ... measure execution time. \n",
    "\n",
    "Iteratively write the class, test, add features, retest ... right from the noteboook."
   ]
  },
  {
   "cell_type": "code",
   "execution_count": 11,
   "id": "concrete-peninsula",
   "metadata": {},
   "outputs": [
    {
     "name": "stdout",
     "output_type": "stream",
     "text": [
      "Overwriting boards/esp32/mcu/lib/timeit.py\n"
     ]
    }
   ],
   "source": [
    "# after development is complete, \n",
    "# uncomment next line to write file to disk\n",
    "\n",
    "# %%writefile boards/esp32/mcu/lib/timeit.py\n",
    "\n",
    "from utime import ticks_ms, ticks_diff\n",
    "\n",
    "class TimeIt:\n",
    "    \n",
    "    def __init__(self):\n",
    "        self.reset()\n",
    "        \n",
    "    @property\n",
    "    def elapsed_ms(self) -> int:\n",
    "        \"\"\"Elapsed time in ms.\"\"\"\n",
    "        return ticks_diff(ticks_ms(), self.start)\n",
    "    \n",
    "    @property\n",
    "    def elapsed(self) -> float:\n",
    "        \"\"\"Elapsed time in seconds.\"\"\"\n",
    "        return self.elapsed_ms / 1000\n",
    "    \n",
    "    def reset(self):\n",
    "        self.start = ticks_ms()\n",
    "        \n",
    "    def __enter__(self):\n",
    "        self.reset()\n",
    "        return self\n",
    "    \n",
    "    def __exit__(self, *args):\n",
    "        pass"
   ]
  },
  {
   "cell_type": "code",
   "execution_count": 11,
   "id": "collect-stranger",
   "metadata": {},
   "outputs": [
    {
     "name": "stdout",
     "output_type": "stream",
     "text": [
      "e\u001b[0ml\u001b[0ma\u001b[0mp\u001b[0ms\u001b[0me\u001b[0md\u001b[0m \u001b[0m[\u001b[0mm\u001b[0ms\u001b[0m]\u001b[0m:\u001b[0m \u001b[0m1\u001b[0m2\u001b[0m3\u001b[0m4\u001b[0m\n",
      "\u001b[0me\u001b[0ml\u001b[0ma\u001b[0mp\u001b[0ms\u001b[0me\u001b[0md\u001b[0m \u001b[0m[\u001b[0ms\u001b[0m]\u001b[0m \u001b[0m:\u001b[0m \u001b[0m1\u001b[0m.\u001b[0m2\u001b[0m3\u001b[0m5\u001b[0m\n",
      "\u001b[0m"
     ]
    }
   ],
   "source": [
    "# testing\n",
    "    \n",
    "from time import sleep\n",
    "\n",
    "with TimeIt() as t:\n",
    "    sleep(1.2345)\n",
    "    print(\"elapsed [ms]:\", t.elapsed_ms)   \n",
    "    print(\"elapsed [s] :\", t.elapsed)   "
   ]
  },
  {
   "cell_type": "markdown",
   "id": "indian-suspension",
   "metadata": {},
   "source": [
    "When satisfied, uncomment the `%%writefile` magic and re-run the cell to commit it to the disk."
   ]
  },
  {
   "cell_type": "code",
   "execution_count": 11,
   "id": "increased-tractor",
   "metadata": {},
   "outputs": [
    {
     "name": "stdout",
     "output_type": "stream",
     "text": [
      "\u001b[0m\u001b[31mDELETE  lib/timeit.mpy\n",
      "\u001b[0m\u001b[0m\u001b[32mCOPY    lib/timeit.py\n",
      "\u001b[0m\u001b[0m\u001b[0m\n",
      "\u001b[0mf\u001b[0mr\u001b[0mo\u001b[0mm\u001b[0m \u001b[0mu\u001b[0mt\u001b[0mi\u001b[0mm\u001b[0me\u001b[0m \u001b[0mi\u001b[0mm\u001b[0mp\u001b[0mo\u001b[0mr\u001b[0mt\u001b[0m \u001b[0mt\u001b[0mi\u001b[0mc\u001b[0mk\u001b[0ms\u001b[0m_\u001b[0mm\u001b[0ms\u001b[0m,\u001b[0m \u001b[0mt\u001b[0mi\u001b[0mc\u001b[0mk\u001b[0ms\u001b[0m_\u001b[0md\u001b[0mi\u001b[0mf\u001b[0mf\u001b[0m\n",
      "\u001b[0m\n",
      "\u001b[0mc\u001b[0ml\u001b[0ma\u001b[0ms\u001b[0ms\u001b[0m \u001b[0mT\u001b[0mi\u001b[0mm\u001b[0me\u001b[0mI\u001b[0mt\u001b[0m:\u001b[0m\n",
      "\u001b[0m \u001b[0m \u001b[0m \u001b[0m \u001b[0m\n",
      "\u001b[0m \u001b[0m \u001b[0m \u001b[0m \u001b[0md\u001b[0me\u001b[0mf\u001b[0m \u001b[0m_\u001b[0m_\u001b[0mi\u001b[0mn\u001b[0mi\u001b[0mt\u001b[0m_\u001b[0m_\u001b[0m(\u001b[0ms\u001b[0me\u001b[0ml\u001b[0mf\u001b[0m)\u001b[0m:\u001b[0m\n",
      "\u001b[0m \u001b[0m \u001b[0m \u001b[0m \u001b[0m \u001b[0m \u001b[0m \u001b[0m \u001b[0ms\u001b[0me\u001b[0ml\u001b[0mf\u001b[0m.\u001b[0mr\u001b[0me\u001b[0ms\u001b[0me\u001b[0mt\u001b[0m(\u001b[0m)\u001b[0m\n",
      "\u001b[0m \u001b[0m \u001b[0m \u001b[0m \u001b[0m \u001b[0m \u001b[0m \u001b[0m \u001b[0m\n",
      "\u001b[0m \u001b[0m \u001b[0m \u001b[0m \u001b[0m@\u001b[0mp\u001b[0mr\u001b[0mo\u001b[0mp\u001b[0me\u001b[0mr\u001b[0mt\u001b[0my\u001b[0m\n",
      "\u001b[0m \u001b[0m \u001b[0m \u001b[0m \u001b[0md\u001b[0me\u001b[0mf\u001b[0m \u001b[0me\u001b[0ml\u001b[0ma\u001b[0mp\u001b[0ms\u001b[0me\u001b[0md\u001b[0m_\u001b[0mm\u001b[0ms\u001b[0m(\u001b[0ms\u001b[0me\u001b[0ml\u001b[0mf\u001b[0m)\u001b[0m \u001b[0m-\u001b[0m>\u001b[0m \u001b[0mi\u001b[0mn\u001b[0mt\u001b[0m:\u001b[0m\n",
      "\u001b[0m \u001b[0m \u001b[0m \u001b[0m \u001b[0m \u001b[0m \u001b[0m \u001b[0m \u001b[0m\"\u001b[0m\"\u001b[0m\"\u001b[0mE\u001b[0ml\u001b[0ma\u001b[0mp\u001b[0ms\u001b[0me\u001b[0md\u001b[0m \u001b[0mt\u001b[0mi\u001b[0mm\u001b[0me\u001b[0m \u001b[0mi\u001b[0mn\u001b[0m \u001b[0ms\u001b[0me\u001b[0mc\u001b[0mo\u001b[0mn\u001b[0md\u001b[0ms\u001b[0m.\u001b[0m\"\u001b[0m\"\u001b[0m\"\u001b[0m\n",
      "\u001b[0m \u001b[0m \u001b[0m \u001b[0m \u001b[0m \u001b[0m \u001b[0m \u001b[0m \u001b[0mr\u001b[0me\u001b[0mt\u001b[0mu\u001b[0mr\u001b[0mn\u001b[0m \u001b[0mt\u001b[0mi\u001b[0mc\u001b[0mk\u001b[0ms\u001b[0m_\u001b[0md\u001b[0mi\u001b[0mf\u001b[0mf\u001b[0m(\u001b[0mt\u001b[0mi\u001b[0mc\u001b[0mk\u001b[0ms\u001b[0m_\u001b[0mm\u001b[0ms\u001b[0m(\u001b[0m)\u001b[0m,\u001b[0m \u001b[0ms\u001b[0me\u001b[0ml\u001b[0mf\u001b[0m.\u001b[0ms\u001b[0mt\u001b[0ma\u001b[0mr\u001b[0mt\u001b[0m)\u001b[0m\n",
      "\u001b[0m \u001b[0m \u001b[0m \u001b[0m \u001b[0m\n",
      "\u001b[0m \u001b[0m \u001b[0m \u001b[0m \u001b[0m@\u001b[0mp\u001b[0mr\u001b[0mo\u001b[0mp\u001b[0me\u001b[0mr\u001b[0mt\u001b[0my\u001b[0m\n",
      "\u001b[0m \u001b[0m \u001b[0m \u001b[0m \u001b[0md\u001b[0me\u001b[0mf\u001b[0m \u001b[0me\u001b[0ml\u001b[0ma\u001b[0mp\u001b[0ms\u001b[0me\u001b[0md\u001b[0m(\u001b[0ms\u001b[0me\u001b[0ml\u001b[0mf\u001b[0m)\u001b[0m \u001b[0m-\u001b[0m>\u001b[0m \u001b[0mf\u001b[0ml\u001b[0mo\u001b[0ma\u001b[0mt\u001b[0m:\u001b[0m\n",
      "\u001b[0m \u001b[0m \u001b[0m \u001b[0m \u001b[0m \u001b[0m \u001b[0m \u001b[0m \u001b[0m\"\u001b[0m\"\u001b[0m\"\u001b[0mE\u001b[0ml\u001b[0ma\u001b[0mp\u001b[0ms\u001b[0me\u001b[0md\u001b[0m \u001b[0mt\u001b[0mi\u001b[0mm\u001b[0me\u001b[0m \u001b[0mi\u001b[0mn\u001b[0m \u001b[0ms\u001b[0me\u001b[0mc\u001b[0mo\u001b[0mn\u001b[0md\u001b[0ms\u001b[0m.\u001b[0m\"\u001b[0m\"\u001b[0m\"\u001b[0m\n",
      "\u001b[0m \u001b[0m \u001b[0m \u001b[0m \u001b[0m \u001b[0m \u001b[0m \u001b[0m \u001b[0mr\u001b[0me\u001b[0mt\u001b[0mu\u001b[0mr\u001b[0mn\u001b[0m \u001b[0ms\u001b[0me\u001b[0ml\u001b[0mf\u001b[0m.\u001b[0me\u001b[0ml\u001b[0ma\u001b[0mp\u001b[0ms\u001b[0me\u001b[0md\u001b[0m_\u001b[0mm\u001b[0ms\u001b[0m \u001b[0m/\u001b[0m \u001b[0m1\u001b[0m0\u001b[0m0\u001b[0m0\u001b[0m\n",
      "\u001b[0m \u001b[0m \u001b[0m \u001b[0m \u001b[0m\n",
      "\u001b[0m \u001b[0m \u001b[0m \u001b[0m \u001b[0md\u001b[0me\u001b[0mf\u001b[0m \u001b[0mr\u001b[0me\u001b[0ms\u001b[0me\u001b[0mt\u001b[0m(\u001b[0ms\u001b[0me\u001b[0ml\u001b[0mf\u001b[0m)\u001b[0m:\u001b[0m\n",
      "\u001b[0m \u001b[0m \u001b[0m \u001b[0m \u001b[0m \u001b[0m \u001b[0m \u001b[0m \u001b[0ms\u001b[0me\u001b[0ml\u001b[0mf\u001b[0m.\u001b[0ms\u001b[0mt\u001b[0ma\u001b[0mr\u001b[0mt\u001b[0m \u001b[0m=\u001b[0m \u001b[0mt\u001b[0mi\u001b[0mc\u001b[0mk\u001b[0ms\u001b[0m_\u001b[0mm\u001b[0ms\u001b[0m(\u001b[0m)\u001b[0m\n",
      "\u001b[0m \u001b[0m \u001b[0m \u001b[0m \u001b[0m \u001b[0m \u001b[0m \u001b[0m \u001b[0m\n",
      "\u001b[0m \u001b[0m \u001b[0m \u001b[0m \u001b[0md\u001b[0me\u001b[0mf\u001b[0m \u001b[0m_\u001b[0m_\u001b[0me\u001b[0mn\u001b[0mt\u001b[0me\u001b[0mr\u001b[0m_\u001b[0m_\u001b[0m(\u001b[0ms\u001b[0me\u001b[0ml\u001b[0mf\u001b[0m)\u001b[0m:\u001b[0m\n",
      "\u001b[0m \u001b[0m \u001b[0m \u001b[0m \u001b[0m \u001b[0m \u001b[0m \u001b[0m \u001b[0ms\u001b[0me\u001b[0ml\u001b[0mf\u001b[0m.\u001b[0mr\u001b[0me\u001b[0ms\u001b[0me\u001b[0mt\u001b[0m(\u001b[0m)\u001b[0m\n",
      "\u001b[0m \u001b[0m \u001b[0m \u001b[0m \u001b[0m \u001b[0m \u001b[0m \u001b[0m \u001b[0mr\u001b[0me\u001b[0mt\u001b[0mu\u001b[0mr\u001b[0mn\u001b[0m \u001b[0ms\u001b[0me\u001b[0ml\u001b[0mf\u001b[0m\n",
      "\u001b[0m \u001b[0m \u001b[0m \u001b[0m \u001b[0m\n",
      "\u001b[0m \u001b[0m \u001b[0m \u001b[0m \u001b[0md\u001b[0me\u001b[0mf\u001b[0m \u001b[0m_\u001b[0m_\u001b[0me\u001b[0mx\u001b[0mi\u001b[0mt\u001b[0m_\u001b[0m_\u001b[0m(\u001b[0ms\u001b[0me\u001b[0ml\u001b[0mf\u001b[0m,\u001b[0m \u001b[0m*\u001b[0ma\u001b[0mr\u001b[0mg\u001b[0ms\u001b[0m)\u001b[0m:\u001b[0m\n",
      "\u001b[0m \u001b[0m \u001b[0m \u001b[0m \u001b[0m \u001b[0m \u001b[0m \u001b[0m \u001b[0mp\u001b[0ma\u001b[0ms\u001b[0ms\u001b[0m\n",
      "\u001b[0m\n",
      "\u001b[0m"
     ]
    }
   ],
   "source": [
    "%rsync\n",
    "\n",
    "%cat lib/timeit.py"
   ]
  },
  {
   "cell_type": "code",
   "execution_count": 11,
   "id": "posted-package",
   "metadata": {},
   "outputs": [
    {
     "name": "stdout",
     "output_type": "stream",
     "text": [
      "e\u001b[0mx\u001b[0me\u001b[0mc\u001b[0mu\u001b[0mt\u001b[0mi\u001b[0mo\u001b[0mn\u001b[0m \u001b[0mt\u001b[0mi\u001b[0mm\u001b[0me\u001b[0m:\u001b[0m \u001b[0m0\u001b[0m.\u001b[0m4\u001b[0m7\u001b[0m2\u001b[0m\n",
      "\u001b[0m"
     ]
    }
   ],
   "source": [
    "from timeit import TimeIt\n",
    "import time\n",
    "\n",
    "with TimeIt() as t:\n",
    "    time.sleep(0.472)\n",
    "    print(\"execution time:\", t.elapsed)"
   ]
  },
  {
   "cell_type": "markdown",
   "id": "excellent-detroit",
   "metadata": {},
   "source": [
    "Optionally compile ..."
   ]
  },
  {
   "cell_type": "code",
   "execution_count": 10,
   "id": "literary-mambo",
   "metadata": {},
   "outputs": [
    {
     "name": "stdout",
     "output_type": "stream",
     "text": [
      "\u001b[0mcompiling   boards/esp32/mcu/lib/timeit.py\n",
      "\u001b[0m\u001b[0m\u001b[0m\u001b[31mDELETE  lib/timeit.py\n",
      "\u001b[0m\u001b[0m\u001b[32mCOPY    lib/timeit.mpy\n",
      "\u001b[0m\u001b[0m-rw-r--r--@ 1 boser  staff  549 Feb 11 17:25 boards/esp32/mcu/lib/timeit.py\n",
      "-rw-r--r--@ 1 boser  staff  308 Feb 11 17:26 .boards/esp32/mcu-micropython/lib/timeit.mpy\n"
     ]
    }
   ],
   "source": [
    "%mpycross\n",
    "%rsync\n",
    "\n",
    "!ls -l boards/esp32/mcu/lib/timeit.py\n",
    "!ls -l .boards/esp32/mcu-micropython/lib/timeit.mpy"
   ]
  },
  {
   "cell_type": "markdown",
   "id": "freelance-heavy",
   "metadata": {},
   "source": [
    "The compiled class is about a third smaller."
   ]
  },
  {
   "cell_type": "markdown",
   "id": "flexible-pepper",
   "metadata": {},
   "source": [
    "\n",
    "----\n",
    "\n",
    "#### restore original content ..."
   ]
  },
  {
   "cell_type": "code",
   "execution_count": null,
   "id": "settled-steps",
   "metadata": {},
   "outputs": [],
   "source": [
    "!rm -rf $IOT49/boards/esp32/mcu/lib/timeit.py \n",
    "!rm -rf $IOT49/boards/esp32/mcu/lib/logging.py \n",
    "!rm -rf $IOT49/boards/esp32/mcu/lib/Ada* \n",
    "!rm -rf $IOT49/.boards\n",
    "%rsync"
   ]
  }
 ],
 "metadata": {
  "kernelspec": {
   "display_name": "IoT",
   "language": "python",
   "name": "iot_kernel"
  },
  "language_info": {
   "codemirror_mode": {
    "name": "python",
    "version": 3
   },
   "file_extension": ".py",
   "mimetype": "text/x-python",
   "name": "python",
   "pygments_lexer": "python3",
   "version": "3"
  }
 },
 "nbformat": 4,
 "nbformat_minor": 5
}
