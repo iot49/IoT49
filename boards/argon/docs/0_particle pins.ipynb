{
 "cells": [
  {
   "cell_type": "markdown",
   "metadata": {},
   "source": [
    "# Particle Argon Pins\n",
    "\n",
    "The diagram below shows the pin connections of the [Particle Argon](https://www.particle.io/wifi/) breakout board. In addition, the board contains several LEDs, a button, power managment functions, and an ESP32 co-processor. The [schematic diagram](figures/particle/argon-v1.00-schematic.pdf) shows how they are connected.\n",
    "\n",
    "![Pinout](figures/argon-pinout.png \"Pinout\")\n",
    "![Pinout](figures/argon-block-diagram.png \"Functional block diagram\")"
   ]
  },
  {
   "cell_type": "code",
   "execution_count": 1,
   "metadata": {},
   "outputs": [
    {
     "name": "stdout",
     "output_type": "stream",
     "text": [
      "['__class__', 'A0', 'A1', 'A2', 'A3', 'A4', 'A5', 'ANTENNA_EXTERNAL', 'ANTENNA_PCB', 'BATTERY', 'BLUE_LED', 'CHARGE_STATUS', 'D0', 'D1', 'D10', 'D11', 'D12', 'D13', 'D2', 'D3', 'D4', 'D5', 'D6', 'D7', 'D8', 'D9', 'ESP_BOOT_MODE', 'ESP_CTS', 'ESP_HOST_WK', 'ESP_RTS', 'ESP_RX', 'ESP_TX', 'ESP_WIFI_EN', 'I2C', 'MISO', 'MODE', 'MOSI', 'NFC1', 'NFC2', 'RGB_LED_BLUE', 'RGB_LED_GREEN', 'RGB_LED_RED', 'RX', 'SCK', 'SCL', 'SDA', 'SPI', 'TX', 'UART', 'VOLTAGE_MONITOR']\n"
     ]
    }
   ],
   "source": [
    "# Pin names\n",
    "\n",
    "import board\n",
    "print(dir(board))"
   ]
  },
  {
   "cell_type": "markdown",
   "metadata": {},
   "source": [
    "## RGB and blue LED"
   ]
  },
  {
   "cell_type": "code",
   "execution_count": 1,
   "metadata": {},
   "outputs": [
    {
     "name": "stdout",
     "output_type": "stream",
     "text": [
      "\n"
     ]
    },
    {
     "name": "stderr",
     "output_type": "stream",
     "text": [
      "!!!!!!!!!!!!!!!!!!!!!!!!!!!!!!!\n",
      "!!!!!      softreset      !!!!!\n",
      "!!!!!!!!!!!!!!!!!!!!!!!!!!!!!!!\n"
     ]
    },
    {
     "name": "stdout",
     "output_type": "stream",
     "text": [
      "\n"
     ]
    },
    {
     "name": "stderr",
     "output_type": "stream",
     "text": [
      "Traceback (most recent call last):\n",
      "  File \"<stdin>\", line 25, in <module>\n",
      "  File \"<stdin>\", line 19, in <module>\n",
      "ValueError: RGB_LED_GREEN in use\n"
     ]
    }
   ],
   "source": [
    "%softreset\n",
    "\n",
    "from board import RGB_LED_RED as red            # True --> OFF\n",
    "from board import RGB_LED_GREEN as green\n",
    "from board import RGB_LED_BLUE as blue\n",
    "from board import BLUE_LED as led1              # True --> ON\n",
    "from digitalio import DigitalInOut, Direction\n",
    "from time import sleep\n",
    "\n",
    "led_pins = [ red, green, blue ]\n",
    "\n",
    "# blink each LED\n",
    "\n",
    "with DigitalInOut(led1) as led:\n",
    "    led.direction = Direction.OUTPUT\n",
    "    for pin in led_pins:\n",
    "        led.value = True\n",
    "        sleep(0.3)\n",
    "        led.value = False\n",
    "        with DigitalInOut(pin) as l:\n",
    "            l.direction = Direction.OUTPUT\n",
    "            for i in range(5):\n",
    "                l.value = True\n",
    "                sleep(0.05)\n",
    "                l.value = False\n",
    "                sleep(0.10)\n"
   ]
  },
  {
   "cell_type": "code",
   "execution_count": 1,
   "metadata": {},
   "outputs": [],
   "source": [
    "# blue LED on\n",
    "\n",
    "with DigitalInOut(led1) as l:\n",
    "    l.direction = Direction.OUTPUT\n",
    "    l.value = True\n",
    "    sleep(3)"
   ]
  },
  {
   "cell_type": "markdown",
   "metadata": {},
   "source": [
    "## Mode Button"
   ]
  },
  {
   "cell_type": "code",
   "execution_count": 1,
   "metadata": {},
   "outputs": [
    {
     "name": "stdout",
     "output_type": "stream",
     "text": [
      "mode button value: True\n",
      "mode button value: True\n",
      "mode button value: True\n",
      "mode button value: True\n",
      "mode button value: False\n"
     ]
    }
   ],
   "source": [
    "from board import MODE\n",
    "\n",
    "# press mode button to see value change\n",
    "\n",
    "with DigitalInOut(MODE) as button:\n",
    "    for i in range(5):\n",
    "        print(\"mode button value:\", button.value)\n",
    "        sleep(1)"
   ]
  },
  {
   "cell_type": "markdown",
   "metadata": {},
   "source": [
    "## Power\n",
    "\n",
    "* CHARGE_STATUS\n",
    "* VOLTAGE_MONITOR\n",
    "* BATTERY"
   ]
  },
  {
   "cell_type": "markdown",
   "metadata": {},
   "source": [
    "#### Battery Voltage"
   ]
  },
  {
   "cell_type": "code",
   "execution_count": 2,
   "metadata": {},
   "outputs": [
    {
     "name": "stdout",
     "output_type": "stream",
     "text": [
      "\n"
     ]
    },
    {
     "name": "stderr",
     "output_type": "stream",
     "text": [
      "!!!!!!!!!!!!!!!!!!!!!!!!!!!!!!!\n",
      "!!!!!      softreset      !!!!!\n",
      "!!!!!!!!!!!!!!!!!!!!!!!!!!!!!!!\n"
     ]
    },
    {
     "name": "stdout",
     "output_type": "stream",
     "text": [
      "\n",
      "Battery Voltage: 4.03859\n"
     ]
    }
   ],
   "source": [
    "from analogio import AnalogIn\n",
    "from board import BATTERY\n",
    "\n",
    "vbat_det = AnalogIn(BATTERY)\n",
    "ai_scale = vbat_det.reference_voltage / (2**16-1)\n",
    "vbat = vbat_det.value * ai_scale / 0.71\n",
    "\n",
    "print(\"Battery Voltage:\", vbat)"
   ]
  },
  {
   "cell_type": "code",
   "execution_count": 1,
   "metadata": {},
   "outputs": [
    {
     "name": "stdout",
     "output_type": "stream",
     "text": [
      "\n"
     ]
    },
    {
     "name": "stderr",
     "output_type": "stream",
     "text": [
      "!!!!!!!!!!!!!!!!!!!!!!!!!!!!!!!\n",
      "!!!!!      softreset      !!!!!\n",
      "!!!!!!!!!!!!!!!!!!!!!!!!!!!!!!!\n"
     ]
    },
    {
     "name": "stdout",
     "output_type": "stream",
     "text": [
      "\n",
      "VOLTAGE_MONITOR: True\n"
     ]
    }
   ],
   "source": [
    "%softreset\n",
    "\n",
    "from digitalio import DigitalInOut\n",
    "from board import VOLTAGE_MONITOR\n",
    "\n",
    "vusb_det = DigitalInOut(VOLTAGE_MONITOR)\n",
    "\n",
    "print(\"VOLTAGE_MONITOR:\", vusb_det.value)\n"
   ]
  },
  {
   "cell_type": "markdown",
   "metadata": {},
   "source": [
    "## ESP32"
   ]
  },
  {
   "cell_type": "markdown",
   "metadata": {},
   "source": [
    "## Bluetooth Antenna"
   ]
  },
  {
   "cell_type": "code",
   "execution_count": 2,
   "metadata": {},
   "outputs": [
    {
     "name": "stdout",
     "output_type": "stream",
     "text": [
      "\n"
     ]
    },
    {
     "name": "stderr",
     "output_type": "stream",
     "text": [
      "!!!!!!!!!!!!!!!!!!!!!!!!!!!!!!!\n",
      "!!!!!      softreset      !!!!!\n",
      "!!!!!!!!!!!!!!!!!!!!!!!!!!!!!!!\n"
     ]
    },
    {
     "name": "stdout",
     "output_type": "stream",
     "text": [
      "\n",
      "4.38696\n"
     ]
    }
   ],
   "source": [
    "%softreset\n",
    "\n",
    "# power supply\n",
    "import analogio\n",
    "import digitalio\n",
    "import board\n",
    "\n",
    "vbat_det = analogio.AnalogIn(board.BATTERY)\n",
    "\n",
    "def battery_voltage():\n",
    "    '''Return lipo battery voltage in volts'''\n",
    "    global vbat_det\n",
    "    ai_scale = vbat_det.reference_voltage / (2**16-1)\n",
    "    return vbat_det.value * ai_scale / 0.71\n",
    "\n",
    "# vusb_det = digitalio.DigitalInOut(board.VOLTAGE_MONITOR)\n",
    "\n",
    "def usb_power():\n",
    "    '''Return True if board runs from power supplied by USB'''\n",
    "    return vusb_det.value\n",
    "    \n",
    "print(battery_voltage())\n",
    "# print(usb_power())"
   ]
  }
 ],
 "metadata": {
  "kernelspec": {
   "display_name": "IoT",
   "language": "python",
   "name": "iot_kernel"
  },
  "language_info": {
   "codemirror_mode": {
    "name": "python",
    "version": 3
   },
   "file_extension": ".py",
   "mimetype": "text/x-python",
   "name": "python",
   "pygments_lexer": "python3",
   "version": "3"
  }
 },
 "nbformat": 4,
 "nbformat_minor": 4
}
