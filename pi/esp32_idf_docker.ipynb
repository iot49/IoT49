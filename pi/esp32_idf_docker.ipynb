{
 "cells": [
  {
   "cell_type": "markdown",
   "id": "bridal-novel",
   "metadata": {},
   "source": [
    "# Create local docker image for esp-idf\n",
    "\n",
    "Add idf.py to path, e.g. in `.bashrc`:\n",
    "\n",
    "```bash\n",
    "export PATH=\"$IOT49/bin:$PATH\"\n",
    "```"
   ]
  },
  {
   "cell_type": "markdown",
   "id": "coated-ladder",
   "metadata": {},
   "source": [
    "## Install Docker"
   ]
  },
  {
   "cell_type": "code",
   "execution_count": null,
   "id": "emotional-sword",
   "metadata": {},
   "outputs": [],
   "source": [
    "%%bash\n",
    "\n",
    "sudo apt update && sudo apt -y upgrade"
   ]
  },
  {
   "cell_type": "code",
   "execution_count": null,
   "id": "scenic-bishop",
   "metadata": {},
   "outputs": [],
   "source": [
    "%%bash\n",
    "\n",
    "cd\n",
    "curl -fsSL https://get.docker.com -o get-docker.sh\n",
    "sudo sh get-docker.sh"
   ]
  },
  {
   "cell_type": "code",
   "execution_count": null,
   "id": "reverse-intro",
   "metadata": {},
   "outputs": [],
   "source": [
    "!sudo usermod -aG docker pi"
   ]
  },
  {
   "cell_type": "code",
   "execution_count": null,
   "id": "restricted-transaction",
   "metadata": {},
   "outputs": [],
   "source": [
    "!sudo reboot now"
   ]
  },
  {
   "cell_type": "code",
   "execution_count": null,
   "id": "responsible-perry",
   "metadata": {},
   "outputs": [],
   "source": [
    "!sudo docker version"
   ]
  },
  {
   "cell_type": "code",
   "execution_count": null,
   "id": "printable-advice",
   "metadata": {},
   "outputs": [],
   "source": [
    "!sudo docker info"
   ]
  },
  {
   "cell_type": "code",
   "execution_count": null,
   "id": "obvious-description",
   "metadata": {},
   "outputs": [],
   "source": [
    "%%bash\n",
    "\n",
    "docker run hello-world"
   ]
  },
  {
   "cell_type": "markdown",
   "id": "commercial-webmaster",
   "metadata": {},
   "source": [
    "## Download esp-idf Dockerfile and build image "
   ]
  },
  {
   "cell_type": "code",
   "execution_count": null,
   "id": "portuguese-rachel",
   "metadata": {},
   "outputs": [],
   "source": [
    "%%bash\n",
    "\n",
    "cd $IOT49/pi/bin/esp-idf-docker\n",
    "\n",
    "wget -L https://raw.githubusercontent.com/espressif/esp-idf/master/tools/docker/Dockerfile\n",
    "wget -L https://raw.githubusercontent.com/espressif/esp-idf/master/tools/docker/entrypoint.sh"
   ]
  },
  {
   "cell_type": "code",
   "execution_count": 2,
   "id": "iraqi-shadow",
   "metadata": {},
   "outputs": [
    {
     "name": "stdout",
     "output_type": "stream",
     "text": [
      "Sending build context to Docker daemon  3.584kB\u001b[0m\n",
      "Step 1/15 : FROM ubuntu:18.04\u001b[0m\n",
      " ---> 88909edb977f\u001b[0m\n",
      "Step 2/15 : ARG DEBIAN_FRONTEND=noninteractive\u001b[0m\n",
      " ---> Using cache\u001b[0m\n",
      " ---> 92480542ac64\u001b[0m\n",
      "Step 3/15 : RUN apt-get update && apt-get install -y     apt-utils     bison     ca-certificates     ccache     check     curl     flex     git     gperf     lcov     libncurses-dev     libusb-1.0-0-dev     make     ninja-build     libpython2.7     python3     python3-pip     unzip     wget     xz-utils     zip    && apt-get autoremove -y    && rm -rf /var/lib/apt/lists/*    && update-alternatives --install /usr/bin/python python /usr/bin/python3 10\u001b[0m\n",
      " ---> Using cache\u001b[0m\n",
      " ---> 7a72565cf610\u001b[0m\n",
      "Step 4/15 : RUN python -m pip install --upgrade pip virtualenv\u001b[0m\n",
      " ---> Using cache\u001b[0m\n",
      " ---> f39e5b48d7a1\u001b[0m\n",
      "Step 5/15 : ARG IDF_CLONE_URL=https://github.com/espressif/esp-idf.git\u001b[0m\n",
      " ---> Using cache\u001b[0m\n",
      " ---> 50abcf955180\u001b[0m\n",
      "Step 6/15 : ARG IDF_CLONE_BRANCH_OR_TAG=master\u001b[0m\n",
      " ---> Using cache\u001b[0m\n",
      " ---> b1d222dae6a3\u001b[0m\n",
      "Step 7/15 : ARG IDF_CHECKOUT_REF=\u001b[0m\n",
      " ---> Using cache\u001b[0m\n",
      " ---> 8ec9b1236708\u001b[0m\n",
      "Step 8/15 : ENV IDF_PATH=/opt/esp/idf\u001b[0m\n",
      " ---> Using cache\u001b[0m\n",
      " ---> e1e667736e8f\u001b[0m\n",
      "Step 9/15 : ENV IDF_TOOLS_PATH=/opt/esp\u001b[0m\n",
      " ---> Using cache\u001b[0m\n",
      " ---> 1aaa9b775b90\u001b[0m\n",
      "Step 10/15 : RUN echo IDF_CHECKOUT_REF=$IDF_CHECKOUT_REF IDF_CLONE_BRANCH_OR_TAG=$IDF_CLONE_BRANCH_OR_TAG &&     git clone --recursive       ${IDF_CLONE_BRANCH_OR_TAG:+-b $IDF_CLONE_BRANCH_OR_TAG}       $IDF_CLONE_URL $IDF_PATH &&     if [ -n \"$IDF_CHECKOUT_REF\" ]; then       cd $IDF_PATH &&       git checkout $IDF_CHECKOUT_REF &&       git submodule update --init --recursive;     fi\u001b[0m\n",
      " ---> Running in 63a4797292d1\u001b[0m\n",
      "IDF_CHECKOUT_REF= IDF_CLONE_BRANCH_OR_TAG=release/v4.2\u001b[0m\n",
      "\u001b[91mCloning into '/opt/esp/idf'...\u001b[0m\n",
      "\u001b[0m\u001b[91mChecking out files: 100% (6696/6696), done.\u001b[0m\n",
      "\u001b[0m\u001b[91mSubmodule 'components/asio/asio' (https://github.com/espressif/asio.git) registered for path 'components/asio/asio'\u001b[0m\n",
      "\u001b[0m\u001b[91mSubmodule 'components/bootloader/subproject/components/micro-ecc/micro-ecc' (https://github.com/kmackay/micro-ecc.git) registered for path 'components/bootloader/subproject/components/micro-ecc/micro-ecc'\u001b[0m\n",
      "\u001b[0m\u001b[91mSubmodule 'components/bt/controller/lib' (https://github.com/espressif/esp32-bt-lib.git) registered for path 'components/bt/controller/lib'\u001b[0m\n",
      "\u001b[0m\u001b[91mSubmodule 'components/bt/host/nimble/nimble' (https://github.com/espressif/esp-nimble.git) registered for path 'components/bt/host/nimble/nimble'\u001b[0m\n",
      "\u001b[0m\u001b[91mSubmodule 'components/cbor/tinycbor' (https://github.com/intel/tinycbor.git) registered for path 'components/cbor/tinycbor'\u001b[0m\n",
      "\u001b[0m\u001b[91mSubmodule 'components/coap/libcoap' (https://github.com/obgm/libcoap.git) registered for path 'components/coap/libcoap'\u001b[0m\n",
      "\u001b[0m\u001b[91mSubmodule 'components/esp_wifi/lib' (https://github.com/espressif/esp32-wifi-lib.git) registered for path 'components/esp_wifi/lib'\u001b[0m\n",
      "\u001b[0m\u001b[91mSubmodule 'components/esptool_py/esptool' (https://github.com/espressif/esptool.git) registered for path 'components/esptool_py/esptool'\u001b[0m\n",
      "\u001b[0m\u001b[91mSubmodule 'components/expat/expat' (https://github.com/libexpat/libexpat.git) registered for path 'components/expat/expat'\u001b[0m\n",
      "\u001b[0m\u001b[91mSubmodule 'components/json/cJSON' (https://github.com/DaveGamble/cJSON.git) registered for path 'components/json/cJSON'\u001b[0m\n",
      "\u001b[0m\u001b[91mSubmodule 'components/libsodium/libsodium' (https://github.com/jedisct1/libsodium.git) registered for path 'components/libsodium/libsodium'\u001b[0m\n",
      "\u001b[0m\u001b[91mSubmodule 'components/lwip/lwip' (https://github.com/espressif/esp-lwip.git) registered for path 'components/lwip/lwip'\u001b[0m\n",
      "\u001b[0m\u001b[91mSubmodule 'components/mbedtls/mbedtls' (https://github.com/espressif/mbedtls.git) registered for path 'components/mbedtls/mbedtls'\u001b[0m\n",
      "\u001b[0m\u001b[91mSubmodule 'components/mqtt/esp-mqtt' (https://github.com/espressif/esp-mqtt.git) registered for path 'components/mqtt/esp-mqtt'\u001b[0m\n",
      "\u001b[0m\u001b[91mSubmodule 'components/nghttp/nghttp2' (https://github.com/nghttp2/nghttp2.git) registered for path 'components/nghttp/nghttp2'\u001b[0m\n",
      "\u001b[0m\u001b[91mSubmodule 'components/protobuf-c/protobuf-c' (https://github.com/protobuf-c/protobuf-c.git) registered for path 'components/protobuf-c/protobuf-c'\u001b[0m\n",
      "\u001b[0m\u001b[91mSubmodule 'components/spiffs/spiffs' (https://github.com/pellepl/spiffs.git) registered for path 'components/spiffs/spiffs'\u001b[0m\n",
      "\u001b[0m\u001b[91mSubmodule 'components/tinyusb/tinyusb' (https://github.com/espressif/tinyusb.git) registered for path 'components/tinyusb/tinyusb'\u001b[0m\n",
      "\u001b[0m\u001b[91mSubmodule 'components/unity/unity' (https://github.com/ThrowTheSwitch/Unity.git) registered for path 'components/unity/unity'\u001b[0m\n",
      "\u001b[0m\u001b[91mSubmodule 'examples/build_system/cmake/import_lib/main/lib/tinyxml2' (https://github.com/leethomason/tinyxml2.git) registered for path 'examples/build_system/cmake/import_lib/main/lib/tinyxml2'\u001b[0m\n",
      "\u001b[0m\u001b[91mSubmodule 'examples/peripherals/secure_element/atecc608_ecdsa/components/esp-cryptoauthlib' (https://github.com/espressif/esp-cryptoauthlib.git) registered for path 'examples/peripherals/secure_element/atecc608_ecdsa/components/esp-cryptoauthlib'\u001b[0m\n",
      "\u001b[0m\u001b[91mCloning into '/opt/esp/idf/components/asio/asio'...\u001b[0m\n",
      "\u001b[0m\u001b[91mCloning into '/opt/esp/idf/components/bootloader/subproject/components/micro-ecc/micro-ecc'...\u001b[0m\n",
      "\u001b[0m\u001b[91mCloning into '/opt/esp/idf/components/bt/controller/lib'...\u001b[0m\n",
      "\u001b[0m\u001b[91mCloning into '/opt/esp/idf/components/bt/host/nimble/nimble'...\u001b[0m\n",
      "\u001b[0m\u001b[91mCloning into '/opt/esp/idf/components/cbor/tinycbor'...\u001b[0m\n",
      "\u001b[0m\u001b[91mCloning into '/opt/esp/idf/components/coap/libcoap'...\u001b[0m\n",
      "\u001b[0m\u001b[91mCloning into '/opt/esp/idf/components/esp_wifi/lib'...\u001b[0m\n",
      "\u001b[0m\u001b[91mCloning into '/opt/esp/idf/components/esptool_py/esptool'...\u001b[0m\n",
      "\u001b[0m\u001b[91mCloning into '/opt/esp/idf/components/expat/expat'...\u001b[0m\n",
      "\u001b[0m\u001b[91mCloning into '/opt/esp/idf/components/json/cJSON'...\u001b[0m\n",
      "\u001b[0m\u001b[91mCloning into '/opt/esp/idf/components/libsodium/libsodium'...\u001b[0m\n",
      "\u001b[0m\u001b[91mCloning into '/opt/esp/idf/components/lwip/lwip'...\u001b[0m\n",
      "\u001b[0m\u001b[91mCloning into '/opt/esp/idf/components/mbedtls/mbedtls'...\u001b[0m\n",
      "\u001b[0m\u001b[91mCloning into '/opt/esp/idf/components/mqtt/esp-mqtt'...\u001b[0m\n",
      "\u001b[0m\u001b[91mCloning into '/opt/esp/idf/components/nghttp/nghttp2'...\u001b[0m\n",
      "\u001b[0m\u001b[91mCloning into '/opt/esp/idf/components/protobuf-c/protobuf-c'...\u001b[0m\n",
      "\u001b[0m\u001b[91mCloning into '/opt/esp/idf/components/spiffs/spiffs'...\u001b[0m\n",
      "\u001b[0m\u001b[91mCloning into '/opt/esp/idf/components/tinyusb/tinyusb'...\u001b[0m\n",
      "\u001b[0m\u001b[91mCloning into '/opt/esp/idf/components/unity/unity'...\u001b[0m\n",
      "\u001b[0m\u001b[91mCloning into '/opt/esp/idf/examples/build_system/cmake/import_lib/main/lib/tinyxml2'...\u001b[0m\n",
      "\u001b[0m\u001b[91mCloning into '/opt/esp/idf/examples/peripherals/secure_element/atecc608_ecdsa/components/esp-cryptoauthlib'...\u001b[0m\n",
      "\u001b[0mSubmodule path 'components/asio/asio': checked out '3b66e5b051381fb70de9c2791df70a06181c64e3'\u001b[0m\n",
      "Submodule path 'components/bootloader/subproject/components/micro-ecc/micro-ecc': checked out 'd037ec89546fad14b5c4d5456c2e23a71e554966'\u001b[0m\n",
      "Submodule path 'components/bt/controller/lib': checked out '0a7edb5acf88414778fa56708a29958d527f5f2c'\u001b[0m\n",
      "Submodule path 'components/bt/host/nimble/nimble': checked out 'ba72e37ac40c13b66ad49c3178c0dbc9588add61'\u001b[0m\n",
      "Submodule path 'components/cbor/tinycbor': checked out 'd2dd95cb8841d88d5a801e3ef9c328fd6200e7bd'\u001b[0m\n",
      "Submodule path 'components/coap/libcoap': checked out '98954eb30a2e728e172a6cd29430ae5bc999b585'\u001b[0m\n",
      "\u001b[91mSubmodule 'ext/tinydtls' (https://github.com/eclipse/tinydtls.git) registered for path 'components/coap/libcoap/ext/tinydtls'\u001b[0m\n",
      "\u001b[0m\u001b[91mCloning into '/opt/esp/idf/components/coap/libcoap/ext/tinydtls'...\u001b[0m\n",
      "\u001b[0mSubmodule path 'components/coap/libcoap/ext/tinydtls': checked out '7f8c86e501e690301630029fa9bae22424adf618'\u001b[0m\n",
      "Submodule path 'components/esp_wifi/lib': checked out 'e2516f28942b3ae056eb38e996a0e91b62bcab78'\u001b[0m\n",
      "Submodule path 'components/esptool_py/esptool': checked out '4fa0bd7b0d1f69f5ff22b043adc07c5e562a8931'\u001b[0m\n",
      "Submodule path 'components/expat/expat': checked out '968b8cc46dbee47b83318d5f31a8e7907199614b'\u001b[0m\n",
      "Submodule path 'components/json/cJSON': checked out '3c8935676a97c7c97bf006db8312875b4f292f6c'\u001b[0m\n",
      "Submodule path 'components/libsodium/libsodium': checked out '70170c28c844a4786e75efc626e1aeebc93caebc'\u001b[0m\n",
      "Submodule path 'components/lwip/lwip': checked out '7285b846a22ebd02377bd9c67e7f9eaaf842492b'\u001b[0m\n",
      "Submodule path 'components/mbedtls/mbedtls': checked out '99c88bb7bd7c2d91c6873abd6e6d5ee04f4f164c'\u001b[0m\n",
      "Submodule path 'components/mqtt/esp-mqtt': checked out 'da850b0add1e71b3659bfac5d797cc834dc3e89b'\u001b[0m\n",
      "Submodule path 'components/nghttp/nghttp2': checked out '3bcc416e13cc790e2fb45fcfe9111d38609c5032'\u001b[0m\n",
      "\u001b[91mSubmodule 'third-party/mruby' (https://github.com/mruby/mruby) registered for path 'components/nghttp/nghttp2/third-party/mruby'\u001b[0m\n",
      "\u001b[0m\u001b[91mSubmodule 'third-party/neverbleed' (https://github.com/h2o/neverbleed.git) registered for path 'components/nghttp/nghttp2/third-party/neverbleed'\u001b[0m\n",
      "\u001b[0m\u001b[91mCloning into '/opt/esp/idf/components/nghttp/nghttp2/third-party/mruby'...\u001b[0m\n",
      "\u001b[0m\u001b[91mCloning into '/opt/esp/idf/components/nghttp/nghttp2/third-party/neverbleed'...\u001b[0m\n",
      "\u001b[0mSubmodule path 'components/nghttp/nghttp2/third-party/mruby': checked out '22464fe5a0a10f2b077eaba109ce1e912e4a77de'\u001b[0m\n",
      "Submodule path 'components/nghttp/nghttp2/third-party/neverbleed': checked out 'da5c2ab419a3bb8a4cc6c37a6c7f3e4bd4b41134'\u001b[0m\n",
      "Submodule path 'components/protobuf-c/protobuf-c': checked out 'dac1a65feac4ad72f612aab99f487056fbcf5c1a'\u001b[0m\n",
      "Submodule path 'components/spiffs/spiffs': checked out 'f5e26c4e933189593a71c6b82cda381a7b21e41c'\u001b[0m\n",
      "Submodule path 'components/tinyusb/tinyusb': checked out '28f89e13473d40637574bcbfe4142633b39899fd'\u001b[0m\n",
      "Submodule path 'components/unity/unity': checked out '7d2bf62b7e6afaf38153041a9d53c21aeeca9a25'\u001b[0m\n",
      "Submodule path 'examples/build_system/cmake/import_lib/main/lib/tinyxml2': checked out '7e8e249990ec491ec15990cf95b6d871a66cf64a'\u001b[0m\n",
      "Submodule path 'examples/peripherals/secure_element/atecc608_ecdsa/components/esp-cryptoauthlib': checked out 'c3d3a69021cfec3236ca2c0b63be4048ec6643a4'\u001b[0m\n",
      "Removing intermediate container 63a4797292d1\u001b[0m\n",
      " ---> 055b29193444\u001b[0m\n",
      "Step 11/15 : RUN $IDF_PATH/tools/idf_tools.py --non-interactive install required   && $IDF_PATH/tools/idf_tools.py --non-interactive install cmake   && $IDF_PATH/tools/idf_tools.py --non-interactive install-python-env   && rm -rf $IDF_TOOLS_PATH/dist\u001b[0m\n",
      " ---> Running in 71cf3684a59e\u001b[0m\n",
      "Installing tools: xtensa-esp32-elf, xtensa-esp32s2-elf, esp32ulp-elf, esp32s2ulp-elf, openocd-esp32\u001b[0m\n",
      "Installing xtensa-esp32-elf@esp-2020r3-8.4.0\u001b[0m\n",
      "Downloading xtensa-esp32-elf-gcc8_4_0-esp-2020r3-linux-armel.tar.gz to /opt/esp/dist/xtensa-esp32-elf-gcc8_4_0-esp-2020r3-linux-armel.tar.gz.tmp\u001b[0m\n",
      "Done\u001b[0m\n",
      "Extracting /opt/esp/dist/xtensa-esp32-elf-gcc8_4_0-esp-2020r3-linux-armel.tar.gz to /opt/esp/tools/xtensa-esp32-elf/esp-2020r3-8.4.0\u001b[0m\n",
      "Installing xtensa-esp32s2-elf@esp-2020r3-8.4.0\u001b[0m\n",
      "Downloading xtensa-esp32s2-elf-gcc8_4_0-esp-2020r3-linux-armel.tar.gz to /opt/esp/dist/xtensa-esp32s2-elf-gcc8_4_0-esp-2020r3-linux-armel.tar.gz.tmp\u001b[0m\n",
      "Done\u001b[0m\n",
      "Extracting /opt/esp/dist/xtensa-esp32s2-elf-gcc8_4_0-esp-2020r3-linux-armel.tar.gz to /opt/esp/tools/xtensa-esp32s2-elf/esp-2020r3-8.4.0\u001b[0m\n",
      "Installing esp32ulp-elf@2.28.51-esp-20191205\u001b[0m\n",
      "Downloading binutils-esp32ulp-linux-armel-2.28.51-esp-20191205.tar.gz to /opt/esp/dist/binutils-esp32ulp-linux-armel-2.28.51-esp-20191205.tar.gz.tmp\u001b[0m\n",
      "Done\u001b[0m\n",
      "Extracting /opt/esp/dist/binutils-esp32ulp-linux-armel-2.28.51-esp-20191205.tar.gz to /opt/esp/tools/esp32ulp-elf/2.28.51-esp-20191205\u001b[0m\n",
      "Installing esp32s2ulp-elf@2.28.51-esp-20191205\u001b[0m\n",
      "Downloading binutils-esp32s2ulp-linux-armel-2.28.51-esp-20191205.tar.gz to /opt/esp/dist/binutils-esp32s2ulp-linux-armel-2.28.51-esp-20191205.tar.gz.tmp\u001b[0m\n",
      "Done\u001b[0m\n",
      "Extracting /opt/esp/dist/binutils-esp32s2ulp-linux-armel-2.28.51-esp-20191205.tar.gz to /opt/esp/tools/esp32s2ulp-elf/2.28.51-esp-20191205\u001b[0m\n",
      "Installing openocd-esp32@v0.10.0-esp32-20200709\u001b[0m\n",
      "Downloading openocd-esp32-armel-0.10.0-esp32-20200709.tar.gz to /opt/esp/dist/openocd-esp32-armel-0.10.0-esp32-20200709.tar.gz.tmp\u001b[0m\n",
      "Done\u001b[0m\n",
      "Extracting /opt/esp/dist/openocd-esp32-armel-0.10.0-esp32-20200709.tar.gz to /opt/esp/tools/openocd-esp32/v0.10.0-esp32-20200709\u001b[0m\n",
      "\u001b[91mERROR: tool cmake does not have versions compatible with platform linux-armel\u001b[0m\n",
      "\u001b[0mThe command '/bin/sh -c $IDF_PATH/tools/idf_tools.py --non-interactive install required   && $IDF_PATH/tools/idf_tools.py --non-interactive install cmake   && $IDF_PATH/tools/idf_tools.py --non-interactive install-python-env   && rm -rf $IDF_TOOLS_PATH/dist' returned a non-zero code: 1\u001b[0m\n"
     ]
    }
   ],
   "source": [
    "%%bash\n",
    "\n",
    "cd $IOT49/pi/bin/esp-idf-docker\n",
    "docker build - < Dockerfile -t \"esp-idf:v4.2\" --build-arg IDF_CLONE_BRANCH_OR_TAG=release/v4.2"
   ]
  },
  {
   "cell_type": "code",
   "execution_count": 7,
   "id": "divine-mother",
   "metadata": {},
   "outputs": [
    {
     "name": "stdout",
     "output_type": "stream",
     "text": [
      "REPOSITORY    TAG       IMAGE ID       CREATED          SIZE\n",
      "esp-idf       v4.2      1aaa9b775b90   12 minutes ago   416MB\n",
      "ubuntu        18.04     88909edb977f   12 days ago      45.8MB\n",
      "hello-world   latest    851163c78e4a   14 months ago    4.85kB\n"
     ]
    }
   ],
   "source": [
    "!docker images"
   ]
  },
  {
   "cell_type": "markdown",
   "id": "ordinary-panel",
   "metadata": {},
   "source": [
    "# Download MicroPython Source & Compile esp32 firmware"
   ]
  },
  {
   "cell_type": "code",
   "execution_count": 2,
   "id": "august-underwear",
   "metadata": {},
   "outputs": [
    {
     "name": "stdout",
     "output_type": "stream",
     "text": [
      "Cloning into 'micropython'...\u001b[0m\n",
      "Checking out files: 100% (3873/3873), done.\u001b[0m\n"
     ]
    }
   ],
   "source": [
    "%%bash\n",
    "\n",
    "cd\n",
    "git clone https://github.com/iot49/micropython.git"
   ]
  },
  {
   "cell_type": "code",
   "execution_count": 1,
   "id": "thrown-director",
   "metadata": {},
   "outputs": [
    {
     "name": "stdout",
     "output_type": "stream",
     "text": [
      "idf.py -D MICROPY_BOARD=GENERIC_OTA -B build-GENERIC_OTA build\u001b[0m\n",
      "docker: Error response from daemon: OCI runtime create failed: container_linux.go:367: starting container process caused: exec: \"idf.py\": executable file not found in $PATH: unknown.\u001b[0m\n",
      "make: *** [Makefile:24: all] Error 127\u001b[0m\n"
     ]
    }
   ],
   "source": [
    "%%bash\n",
    "\n",
    "export PATH=\"$PATH:$IOT49/bin\"\n",
    "cd ~/micropython/ports/esp32\n",
    "make BOARD=GENERIC_OTA"
   ]
  },
  {
   "cell_type": "code",
   "execution_count": 2,
   "id": "medical-cookie",
   "metadata": {},
   "outputs": [
    {
     "name": "stdout",
     "output_type": "stream",
     "text": [
      "idf.py -D MICROPY_BOARD=GENERIC_OTA -B build-GENERIC_OTA fullclean\u001b[0m\n",
      "docker run --rm -v /home/pi/micropython:/mp -w /mp/ports/esp32 esp-idf:v4.2 idf.py -D MICROPY_BOARD=GENERIC_OTA -B build-GENERIC_OTA fullclean\u001b[0m\n",
      "docker: Error response from daemon: OCI runtime create failed: container_linux.go:367: starting container process caused: exec: \"idf.py\": executable file not found in $PATH: unknown.\u001b[0m\n",
      "make: *** [Makefile:34: clean] Error 127\u001b[0m\n"
     ]
    }
   ],
   "source": [
    "%%bash\n",
    "\n",
    "export PATH=\"$IOT49/bin:$PATH\"\n",
    "\n",
    "cd ~/micropython/ports/esp32\n",
    "make BOARD=GENERIC_OTA clean"
   ]
  },
  {
   "cell_type": "code",
   "execution_count": 2,
   "id": "dramatic-calcium",
   "metadata": {},
   "outputs": [
    {
     "name": "stdout",
     "output_type": "stream",
     "text": [
      "/home/pi/iot49/bin:/home/pi/.venv/jns/bin:/usr/local/sbin:/usr/local/bin:/usr/sbin:/usr/bin:/sbin:/bin\u001b[0m\n",
      "/bin/bash\u001b[0m\n",
      "/home/pi/iot49/bin/idf.py\u001b[0m\n"
     ]
    }
   ],
   "source": [
    "%%bash\n",
    "\n",
    "sh ~/.bashrc\n",
    "export PATH=\"$IOT49/bin:$PATH\"\n",
    "echo $PATH\n",
    "echo $SHELL\n",
    "which idf.py"
   ]
  },
  {
   "cell_type": "code",
   "execution_count": 4,
   "id": "oriented-singles",
   "metadata": {},
   "outputs": [
    {
     "data": {
      "text/plain": [
       "'Linux-armv7l'"
      ]
     },
     "execution_count": 3,
     "metadata": {},
     "output_type": "execute_result"
    }
   ],
   "source": [
    "%%host\n",
    "\n",
    "import platform\n",
    "platform.system() + '-' + platform.machine()"
   ]
  },
  {
   "cell_type": "markdown",
   "id": "individual-holly",
   "metadata": {},
   "source": [
    "# "
   ]
  }
 ],
 "metadata": {
  "kernelspec": {
   "display_name": "IoT",
   "language": "python",
   "name": "iot_kernel"
  },
  "language_info": {
   "codemirror_mode": {
    "name": "python",
    "version": 3
   },
   "file_extension": ".py",
   "mimetype": "text/x-python",
   "name": "python",
   "pygments_lexer": "python3",
   "version": "3"
  }
 },
 "nbformat": 4,
 "nbformat_minor": 5
}
