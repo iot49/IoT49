{
 "cells": [
  {
   "cell_type": "markdown",
   "metadata": {},
   "source": [
    "# Dupterm"
   ]
  },
  {
   "cell_type": "code",
   "execution_count": 1,
   "metadata": {},
   "outputs": [
    {
     "name": "stdout",
     "output_type": "stream",
     "text": [
      "\u001b[0mtest-argon                     serial:///dev/cu.usbmodem1413101        \n",
      "\u001b[0mtest-esp32                     serial:///dev/cu.usbserial-0160B5B8     \n",
      "\u001b[0mtest-stm32-cop                 serial:///dev/cu.usbserial-0143520E     \n",
      "\u001b[0mtest-samd                      serial:///dev/cu.usbmodem1413201        \n",
      "\u001b[0mtest-stm32                     serial:///dev/cu.usbmodem208E307542521  \n",
      "\u001b[0m"
     ]
    }
   ],
   "source": [
    "%discover"
   ]
  },
  {
   "cell_type": "code",
   "execution_count": 1,
   "metadata": {},
   "outputs": [
    {
     "name": "stdout",
     "output_type": "stream",
     "text": [
      "\u001b[0mConnected to test-stm32 @ serial:///dev/cu.usbmodem208E307542521\n",
      "\u001b[0m"
     ]
    }
   ],
   "source": [
    "%connect test-stm32"
   ]
  },
  {
   "cell_type": "code",
   "execution_count": 1,
   "metadata": {},
   "outputs": [
    {
     "name": "stdout",
     "output_type": "stream",
     "text": [
      "\u001b[0mConnected to test-stm32 @ serial:///dev/cu.usbmodem208E307542521\n",
      "\u001b[0m0\u001b[0m\n",
      "\u001b[0m1\u001b[0m\n",
      "\u001b[0m1\u001b[0m6\u001b[0m\n",
      "\u001b[0m8\u001b[0m1\u001b[0m\n",
      "\u001b[0m2\u001b[0m5\u001b[0m6\u001b[0m\n",
      "\u001b[0m6\u001b[0m2\u001b[0m5\u001b[0m\n",
      "\u001b[0m1\u001b[0m2\u001b[0m9\u001b[0m6\u001b[0m\n",
      "\u001b[0m"
     ]
    }
   ],
   "source": [
    "%connect test-stm32\n",
    "\n",
    "try:\n",
    "    from iot import dupterm\n",
    "except ImportError:\n",
    "    from uos import dupterm\n",
    "    import uos\n",
    "    \n",
    "import io\n",
    "dupterm(None)\n",
    "\n",
    "import uio\n",
    "import uos\n",
    "\n",
    "class Screen(uio.IOBase):\n",
    "    def __init__(self, code):\n",
    "        super().__init__()\n",
    "        self.reader = uio.BytesIO(code)\n",
    "        self.writer = uio.BytesIO()\n",
    "        self.msg = uio.StringIO()\n",
    "\n",
    "    def readinto(self, buf):\n",
    "        sz = len(buf)\n",
    "        x = self.reader.read(sz)\n",
    "        self.msg.write(\"readinto {} {}\\n\".format(sz, x))\n",
    "        if x == b'':\n",
    "            return 0\n",
    "        buf[0:sz] = x\n",
    "        return sz\n",
    "\n",
    "    def write(self, buf):\n",
    "        self.msg.write(\"write {}\\n\".format(buf))\n",
    "        self.writer.write(buf)\n",
    "\n",
    "screen = Screen(\"\\x02\\rprint(5-9)\\r\")\n",
    "uos.dupterm(screen)\n",
    "\n",
    "for i in range(7):\n",
    "    print(i**4)"
   ]
  },
  {
   "cell_type": "code",
   "execution_count": 1,
   "metadata": {},
   "outputs": [
    {
     "name": "stdout",
     "output_type": "stream",
     "text": [
      "0\u001b[0m\n",
      "\u001b[0m1\u001b[0m\n",
      "\u001b[0m1\u001b[0m6\u001b[0m\n",
      "\u001b[0m8\u001b[0m1\u001b[0m\n",
      "\u001b[0m2\u001b[0m5\u001b[0m6\u001b[0m\n",
      "\u001b[0m6\u001b[0m2\u001b[0m5\u001b[0m\n",
      "\u001b[0m1\u001b[0m2\u001b[0m9\u001b[0m6\u001b[0m\n",
      "\u001b[0m>\u001b[0m\n",
      "\u001b[0mM\u001b[0mi\u001b[0mc\u001b[0mr\u001b[0mo\u001b[0mP\u001b[0my\u001b[0mt\u001b[0mh\u001b[0mo\u001b[0mn\u001b[0m \u001b[0mv\u001b[0m1\u001b[0m.\u001b[0m1\u001b[0m3\u001b[0m-\u001b[0m2\u001b[0m9\u001b[0m4\u001b[0m-\u001b[0mg\u001b[0m2\u001b[0me\u001b[0m2\u001b[0m5\u001b[0m8\u001b[0mb\u001b[0m8\u001b[0md\u001b[0md\u001b[0mc\u001b[0m-\u001b[0md\u001b[0mi\u001b[0mr\u001b[0mt\u001b[0my\u001b[0m \u001b[0mo\u001b[0mn\u001b[0m \u001b[0m2\u001b[0m0\u001b[0m2\u001b[0m1\u001b[0m-\u001b[0m0\u001b[0m1\u001b[0m-\u001b[0m3\u001b[0m1\u001b[0m;\u001b[0m \u001b[0mA\u001b[0md\u001b[0ma\u001b[0mf\u001b[0mr\u001b[0mu\u001b[0mi\u001b[0mt\u001b[0m \u001b[0mF\u001b[0me\u001b[0ma\u001b[0mt\u001b[0mh\u001b[0me\u001b[0mr\u001b[0m \u001b[0mS\u001b[0mT\u001b[0mM\u001b[0m3\u001b[0m2\u001b[0mF\u001b[0m4\u001b[0m0\u001b[0m5\u001b[0m \u001b[0mw\u001b[0mi\u001b[0mt\u001b[0mh\u001b[0m \u001b[0mS\u001b[0mT\u001b[0mM\u001b[0m3\u001b[0m2\u001b[0mF\u001b[0m4\u001b[0m0\u001b[0m5\u001b[0mR\u001b[0mG\u001b[0m\n",
      "\u001b[0mT\u001b[0my\u001b[0mp\u001b[0me\u001b[0m \u001b[0m\"\u001b[0mh\u001b[0me\u001b[0ml\u001b[0mp\u001b[0m(\u001b[0m)\u001b[0m\"\u001b[0m \u001b[0mf\u001b[0mo\u001b[0mr\u001b[0m \u001b[0mm\u001b[0mo\u001b[0mr\u001b[0me\u001b[0m \u001b[0mi\u001b[0mn\u001b[0mf\u001b[0mo\u001b[0mr\u001b[0mm\u001b[0ma\u001b[0mt\u001b[0mi\u001b[0mo\u001b[0mn\u001b[0m.\u001b[0m\n",
      "\u001b[0m>\u001b[0m>\u001b[0m>\u001b[0m \u001b[0m\n",
      "\u001b[0m>\u001b[0m>\u001b[0m>\u001b[0m \u001b[0mp\u001b[0mr\u001b[0mi\u001b[0mn\u001b[0mt\u001b[0m(\u001b[0m5\u001b[0m-\u001b[0m9\u001b[0m)\u001b[0m\n",
      "\u001b[0m-\u001b[0m4\u001b[0m\n",
      "\u001b[0m>\u001b[0m>\u001b[0m>\u001b[0m \u001b[0m\n",
      "\u001b[0m"
     ]
    }
   ],
   "source": [
    "uos.dupterm(None)\n",
    "\n",
    "# print(screen.msg.getvalue())\n",
    "out = screen.writer.getvalue()\n",
    "out = out.replace(b'\\x04', b'')\n",
    "print(out.decode())"
   ]
  },
  {
   "cell_type": "code",
   "execution_count": null,
   "metadata": {},
   "outputs": [],
   "source": []
  }
 ],
 "metadata": {
  "kernelspec": {
   "display_name": "IoT",
   "language": "python",
   "name": "iot_kernel"
  },
  "language_info": {
   "codemirror_mode": {
    "name": "python",
    "version": 3
   },
   "file_extension": ".py",
   "mimetype": "text/x-python",
   "name": "python",
   "pygments_lexer": "python3",
   "version": "3"
  }
 },
 "nbformat": 4,
 "nbformat_minor": 4
}
