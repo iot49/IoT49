{
 "cells": [
  {
   "cell_type": "markdown",
   "id": "dying-alexandria",
   "metadata": {},
   "source": [
    "# Electronics for IoT\n",
    "\n",
    "This project consists of tools and examples for programming IoT applications on microcontrollers.\n",
    "\n",
    "Programming is done in Python, specifically [MicroPython](https://micropython.org/) and [CircuitPython](https://circuitpython.org/)."
   ]
  },
  {
   "cell_type": "markdown",
   "id": "established-niagara",
   "metadata": {},
   "source": [
    "1. [Jupyter Kernel for programming microcontrollers.](jupyter/index.ipynb)\n",
    "    * [Jupyter bash scripting](jupyter/scripting.ipynb)\n",
    "2. [Airlift library: ESP32 as a \"WiFi Coprocessor\".](../airlift/doc/index.ipynb)\n",
    "3. [uasyncio on CircuitPython.](../uasyncio/doc/index.ipynb)\n",
    "4. [mp: wireless \"repl\"](../mp/doc/async-mp.ipynb)"
   ]
  },
  {
   "cell_type": "code",
   "execution_count": null,
   "id": "dangerous-monster",
   "metadata": {},
   "outputs": [],
   "source": []
  }
 ],
 "metadata": {
  "kernelspec": {
   "display_name": "Python 3",
   "language": "python",
   "name": "python3"
  },
  "language_info": {
   "codemirror_mode": {
    "name": "ipython",
    "version": 3
   },
   "file_extension": ".py",
   "mimetype": "text/x-python",
   "name": "python",
   "nbconvert_exporter": "python",
   "pygments_lexer": "ipython3",
   "version": "3.8.2"
  }
 },
 "nbformat": 4,
 "nbformat_minor": 5
}
