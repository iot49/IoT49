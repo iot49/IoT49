{
 "cells": [
  {
   "cell_type": "markdown",
   "id": "signal-sustainability",
   "metadata": {},
   "source": [
    "# Wireless \"mp-REPL\"\n",
    "\n",
    "`mp` implements a server that executes code via `exec` (not the repl). `softreset` and `abort` are not available."
   ]
  },
  {
   "cell_type": "markdown",
   "id": "adjacent-kenya",
   "metadata": {},
   "source": [
    "## startup\n",
    "\n",
    "Execute or add to `main.py`:"
   ]
  },
  {
   "cell_type": "code",
   "execution_count": 1,
   "id": "collected-wrapping",
   "metadata": {},
   "outputs": [
    {
     "name": "stdout",
     "output_type": "stream",
     "text": [
      "\u001b[0mConnected to test-stm32 @ serial:///dev/cu.usbmodem208E307542521\n",
      "\u001b[0m"
     ]
    },
    {
     "name": "stderr",
     "output_type": "stream",
     "text": [
      "Traceback (most recent call last):\n",
      "  File \"<stdin>\", line 2, in <module>\n",
      "AttributeError: 'module' object has no attribute 'start_server'\n",
      "\u001b[0m"
     ]
    }
   ],
   "source": [
    "%connect test-argon\n",
    "\n",
    "import mp\n",
    "mp.start_server()   # won't return, but prints diagnostic information"
   ]
  },
  {
   "cell_type": "markdown",
   "id": "international-advertising",
   "metadata": {},
   "source": [
    "Now processor is available as `mp://...`.\n",
    "\n",
    "*Attention*: Connecting to serial port aborts main (and hence mp server)."
   ]
  },
  {
   "cell_type": "markdown",
   "id": "temporal-extraction",
   "metadata": {},
   "source": [
    "## use ...\n",
    "\n",
    "Press reset button to run `main.py` ..."
   ]
  },
  {
   "cell_type": "code",
   "execution_count": 1,
   "id": "touched-simon",
   "metadata": {},
   "outputs": [
    {
     "name": "stdout",
     "output_type": "stream",
     "text": [
      "\u001b[0mtest-argon                     serial:///dev/cu.usbmodem1414301        \n",
      "\u001b[0mtest-argon                     mp://10.39.40.140:54321                 \n",
      "\u001b[0m"
     ]
    }
   ],
   "source": [
    "%discover"
   ]
  },
  {
   "cell_type": "code",
   "execution_count": 1,
   "id": "outside-prediction",
   "metadata": {},
   "outputs": [
    {
     "name": "stdout",
     "output_type": "stream",
     "text": [
      "\u001b[0mConnected to test-argon @ mp://10.39.40.140:54321\n",
      "\u001b[0m"
     ]
    }
   ],
   "source": [
    "%connect test-argon mp"
   ]
  },
  {
   "cell_type": "code",
   "execution_count": 1,
   "id": "romantic-learning",
   "metadata": {},
   "outputs": [
    {
     "name": "stdout",
     "output_type": "stream",
     "text": [
      "p\u001b[0ml\u001b[0ma\u001b[0mt\u001b[0mf\u001b[0mo\u001b[0mr\u001b[0mm\u001b[0m \u001b[0mn\u001b[0mR\u001b[0mF\u001b[0m5\u001b[0m2\u001b[0m8\u001b[0m4\u001b[0m0\u001b[0m\n",
      "\u001b[0m0\u001b[0m \u001b[0m0\u001b[0m \u001b[0m0\u001b[0m \u001b[0m0\u001b[0m\n",
      "\u001b[0m1\u001b[0m \u001b[0m1\u001b[0m \u001b[0m1\u001b[0m \u001b[0m1\u001b[0m\n",
      "\u001b[0m2\u001b[0m \u001b[0m4\u001b[0m \u001b[0m8\u001b[0m \u001b[0m1\u001b[0m6\u001b[0m\n",
      "\u001b[0m3\u001b[0m \u001b[0m9\u001b[0m \u001b[0m2\u001b[0m7\u001b[0m \u001b[0m8\u001b[0m1\u001b[0m\n",
      "\u001b[0m4\u001b[0m \u001b[0m1\u001b[0m6\u001b[0m \u001b[0m6\u001b[0m4\u001b[0m \u001b[0m2\u001b[0m5\u001b[0m6\u001b[0m\n",
      "\u001b[0m5\u001b[0m \u001b[0m2\u001b[0m5\u001b[0m \u001b[0m1\u001b[0m2\u001b[0m5\u001b[0m \u001b[0m6\u001b[0m2\u001b[0m5\u001b[0m\n",
      "\u001b[0m6\u001b[0m \u001b[0m3\u001b[0m6\u001b[0m \u001b[0m2\u001b[0m1\u001b[0m6\u001b[0m \u001b[0m1\u001b[0m2\u001b[0m9\u001b[0m6\u001b[0m\n",
      "\u001b[0m7\u001b[0m \u001b[0m4\u001b[0m9\u001b[0m \u001b[0m3\u001b[0m4\u001b[0m3\u001b[0m \u001b[0m2\u001b[0m4\u001b[0m0\u001b[0m1\u001b[0m\n",
      "\u001b[0m8\u001b[0m \u001b[0m6\u001b[0m4\u001b[0m \u001b[0m5\u001b[0m1\u001b[0m2\u001b[0m \u001b[0m4\u001b[0m0\u001b[0m9\u001b[0m6\u001b[0m\n",
      "\u001b[0m9\u001b[0m \u001b[0m8\u001b[0m1\u001b[0m \u001b[0m7\u001b[0m2\u001b[0m9\u001b[0m \u001b[0m6\u001b[0m5\u001b[0m6\u001b[0m1\u001b[0m\n",
      "\u001b[0m"
     ]
    }
   ],
   "source": [
    "import sys\n",
    "\n",
    "print(\"platform\", sys.platform)\n",
    "\n",
    "for i in range(10):\n",
    "    print(i, i**2, i**3, i**4)"
   ]
  },
  {
   "cell_type": "code",
   "execution_count": 1,
   "id": "noticed-pakistan",
   "metadata": {},
   "outputs": [
    {
     "name": "stdout",
     "output_type": "stream",
     "text": [
      "\u001b[0m     70  Feb 06 18:44 2021  \u001b[34mboot.py\u001b[0m\n",
      "\u001b[0m     99  Feb 15 11:58 2021  \u001b[34mboot_out.txt\u001b[0m\n",
      "\u001b[0m                            \u001b[32mesp32/\u001b[0m\n",
      "\u001b[0m    846  Feb 09 18:40 2021      \u001b[34mairlift_main.py\u001b[0m\n",
      "\u001b[0m   1528  Feb 09 17:39 2021      \u001b[34mboot.py\u001b[0m\n",
      "\u001b[0m                                \u001b[32mlib/\u001b[0m\n",
      "\u001b[0m                                    \u001b[32mota32/\u001b[0m\n",
      "\u001b[0m     51  Feb 09 18:20 2021              \u001b[34m__init__.py\u001b[0m\n",
      "\u001b[0m   2048  Feb 09 18:20 2021              \u001b[34mopen_url.py\u001b[0m\n",
      "\u001b[0m   3489  Feb 09 18:20 2021              \u001b[34mota.py\u001b[0m\n",
      "\u001b[0m                                    \u001b[32murpc_server/\u001b[0m\n",
      "\u001b[0m     38  Feb 12 18:00 2021              \u001b[34m__init__.py\u001b[0m\n",
      "\u001b[0m   3207  Feb 15 10:11 2021              \u001b[34masync_server.py\u001b[0m\n",
      "\u001b[0m     20  Feb 09 17:39 2021      \u001b[34mmain.py\u001b[0m\n",
      "\u001b[0m     52  Feb 09 17:39 2021      \u001b[34mwebrepl_cfg.py\u001b[0m\n",
      "\u001b[0m    330  Feb 12 11:51 2021  \u001b[34minit_urpc_client.py\u001b[0m\n",
      "\u001b[0m                            \u001b[32mlib/\u001b[0m\n",
      "\u001b[0m                                \u001b[32mmp/\u001b[0m\n",
      "\u001b[0m     50  Feb 09 17:07 2021          \u001b[34m__init__.py\u001b[0m\n",
      "\u001b[0m   6000  Feb 15 11:29 2021          \u001b[34mserver.py\u001b[0m\n",
      "\u001b[0m    757  Feb 09 16:51 2021      \u001b[34mnetwork.py\u001b[0m\n",
      "\u001b[0m                                \u001b[32mrepl32/\u001b[0m\n",
      "\u001b[0m     47  Feb 09 16:51 2021          \u001b[34m__init__.py\u001b[0m\n",
      "\u001b[0m  19223  Feb 09 16:51 2021          \u001b[34madafruit_miniesptool.py\u001b[0m\n",
      "\u001b[0m   1686  Feb 09 16:51 2021          \u001b[34mflasher.py\u001b[0m\n",
      "\u001b[0m   8394  Feb 09 16:51 2021          \u001b[34mrepl_client.py\u001b[0m\n",
      "\u001b[0m    260  Feb 09 16:51 2021      \u001b[34mrequests.py\u001b[0m\n",
      "\u001b[0m    163  Feb 09 17:07 2021      \u001b[34mselect.py\u001b[0m\n",
      "\u001b[0m    405  Feb 09 16:51 2021      \u001b[34msocket.py\u001b[0m\n",
      "\u001b[0m     83  Feb 09 16:51 2021      \u001b[34mssl.py\u001b[0m\n",
      "\u001b[0m                                \u001b[32muasyncio/\u001b[0m\n",
      "\u001b[0m    678  Feb 09 15:53 2021          \u001b[34m__init__.py\u001b[0m\n",
      "\u001b[0m   8764  Feb 10 10:17 2021          \u001b[34mcore.py\u001b[0m\n",
      "\u001b[0m   1027  Feb 09 15:53 2021          \u001b[34mevent.py\u001b[0m\n",
      "\u001b[0m   2184  Feb 09 15:53 2021          \u001b[34mfuncs.py\u001b[0m\n",
      "\u001b[0m   1782  Feb 09 15:53 2021          \u001b[34mlock.py\u001b[0m\n",
      "\u001b[0m    313  Feb 09 15:53 2021          \u001b[34mmanifest.py\u001b[0m\n",
      "\u001b[0m   4222  Feb 09 15:53 2021          \u001b[34mstream.py\u001b[0m\n",
      "\u001b[0m   5857  Feb 09 15:53 2021          \u001b[34mtask.py\u001b[0m\n",
      "\u001b[0m                                \u001b[32murpc/\u001b[0m\n",
      "\u001b[0m     56  Feb 12 18:30 2021          \u001b[34m__init__.py\u001b[0m\n",
      "\u001b[0m   5052  Feb 12 18:41 2021          \u001b[34mclient.py\u001b[0m\n",
      "\u001b[0m     28  Feb 15 11:50 2021  \u001b[34mmain.py\u001b[0m\n",
      "\u001b[0m    245  Feb 01 11:34 2021  \u001b[34msecrets.py\u001b[0m\n",
      "\u001b[0m"
     ]
    }
   ],
   "source": [
    "%rlist"
   ]
  },
  {
   "cell_type": "code",
   "execution_count": null,
   "id": "modified-hartford",
   "metadata": {},
   "outputs": [],
   "source": []
  }
 ],
 "metadata": {
  "kernelspec": {
   "display_name": "IoT",
   "language": "python",
   "name": "iot_kernel"
  },
  "language_info": {
   "codemirror_mode": {
    "name": "python",
    "version": 3
   },
   "file_extension": ".py",
   "mimetype": "text/x-python",
   "name": "python",
   "pygments_lexer": "python3",
   "version": "3"
  }
 },
 "nbformat": 4,
 "nbformat_minor": 5
}
