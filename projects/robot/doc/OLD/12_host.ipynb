{
 "cells": [
  {
   "cell_type": "markdown",
   "id": "handled-favorite",
   "metadata": {},
   "source": [
    "# Host Interface\n"
   ]
  },
  {
   "cell_type": "code",
   "execution_count": 11,
   "id": "ultimate-escape",
   "metadata": {},
   "outputs": [],
   "source": [
    "def reset_mcu():\n",
    "    # no generic PIN in gpizero?\n",
    "    from gpiozero import LED\n",
    "    from time import sleep\n",
    "    with LED(21) as nrst:\n",
    "        nrst.off()\n",
    "        sleep(0.1)\n",
    "        nrst.on()\n",
    "        sleep(0.5)\n",
    "        \n",
    "def rsync_mcu():\n",
    "    from iot_device import DeviceRegistry\n",
    "    dev = 'serial:///dev/serial0'\n",
    "    registry = DeviceRegistry()\n",
    "    registry.register(dev)\n",
    "    with registry.get_device(dev) as repl:\n",
    "        repl.rsync(lambda x: print(x), dry_run=False)\n",
    "\n",
    "def exec_mcu(cmd):\n",
    "    from iot_device import DeviceRegistry\n",
    "    dev = 'serial:///dev/serial0'\n",
    "    registry = DeviceRegistry()\n",
    "    registry.register(dev)\n",
    "    with registry.get_device(dev) as repl:\n",
    "        res = repl.exec(cmd)\n",
    "        try:\n",
    "            res = res.decode()\n",
    "        except:\n",
    "            pass\n",
    "        return res"
   ]
  },
  {
   "cell_type": "code",
   "execution_count": 12,
   "id": "seeing-campus",
   "metadata": {},
   "outputs": [
    {
     "name": "stdout",
     "output_type": "stream",
     "text": [
      "path: ['', '/flash', '/flash/lib', '/spi', '/spi/lib']\n",
      "platform: pyboard\n",
      "\n"
     ]
    }
   ],
   "source": [
    "print(exec_mcu(\"\"\"\n",
    "import sys\n",
    "print('path:', sys.path)\n",
    "print('platform:', sys.platform)\n",
    "\"\"\"))"
   ]
  },
  {
   "cell_type": "code",
   "execution_count": 18,
   "id": "dynamic-mercury",
   "metadata": {},
   "outputs": [
    {
     "name": "stdout",
     "output_type": "stream",
     "text": [
      "a = 5\n",
      "\n",
      "After reset, MCU throws error:\n",
      "\n",
      "Traceback (most recent call last):\n",
      "  File \"<stdin>\", line 1, in <module>\n",
      "NameError: name 'a' isn't defined\n",
      "\n"
     ]
    }
   ],
   "source": [
    "from iot_device import RemoteError\n",
    "\n",
    "reset_mcu()\n",
    "exec_mcu(\"a = 5\")\n",
    "print(exec_mcu(\"print('a =', a)\"))\n",
    "\n",
    "reset_mcu()\n",
    "\n",
    "try:\n",
    "    print(exec_mcu(\"print('a =', a)\"))\n",
    "except RemoteError as e:\n",
    "    print(\"After reset, MCU throws error:\\n\")\n",
    "    print(e)"
   ]
  },
  {
   "cell_type": "code",
   "execution_count": null,
   "id": "reliable-grain",
   "metadata": {},
   "outputs": [],
   "source": []
  }
 ],
 "metadata": {
  "kernelspec": {
   "display_name": "Python 3",
   "language": "python",
   "name": "python3"
  },
  "language_info": {
   "codemirror_mode": {
    "name": "ipython",
    "version": 3
   },
   "file_extension": ".py",
   "mimetype": "text/x-python",
   "name": "python",
   "nbconvert_exporter": "python",
   "pygments_lexer": "ipython3",
   "version": "3.7.3"
  }
 },
 "nbformat": 4,
 "nbformat_minor": 5
}
