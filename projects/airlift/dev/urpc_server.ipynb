{
 "cells": [
  {
   "cell_type": "markdown",
   "metadata": {},
   "source": [
    "# dev: URPC client (esp32 stacked on top of nrf52)"
   ]
  },
  {
   "cell_type": "code",
   "execution_count": 2,
   "metadata": {},
   "outputs": [
    {
     "name": "stdout",
     "output_type": "stream",
     "text": [
      "\u001b[0mtest-argon                     serial:///dev/cu.usbmodem1413101        \n",
      "\u001b[0mtest-esp32                     serial:///dev/cu.usbserial-0160B5B8     \n",
      "\u001b[0mtest-samd                      serial:///dev/cu.usbmodem1413201        \n",
      "\u001b[0mtest-stm32                     serial:///dev/cu.usbmodem208E307542522  \n",
      "\u001b[0mtest-stm32-cop                 serial:///dev/cu.usbserial-0143520E     \n",
      "\u001b[0m\u001b[0mConnected to test-stm32-cop @ serial:///dev/cu.usbserial-0143520E\n",
      "\u001b[0m\n",
      "\u001b[0mesp32\n",
      "\u001b[0m"
     ]
    }
   ],
   "source": [
    "%discover\n",
    "%connect test-stm32-cop serial\n",
    "!echo\n",
    "%platform"
   ]
  },
  {
   "cell_type": "code",
   "execution_count": 2,
   "metadata": {},
   "outputs": [
    {
     "name": "stdout",
     "output_type": "stream",
     "text": [
      "\u001b[0m"
     ]
    },
    {
     "name": "stderr",
     "output_type": "stream",
     "text": [
      "OSError: -2\u001b[0m"
     ]
    }
   ],
   "source": [
    "%rsync\n",
    "%softreset"
   ]
  },
  {
   "cell_type": "code",
   "execution_count": 2,
   "metadata": {},
   "outputs": [
    {
     "name": "stdout",
     "output_type": "stream",
     "text": [
      "serve ...\n",
      "\u001b[0mException 'Demo' object has no attribute 'foo'\n",
      "\u001b[0m\n",
      "Brownout detector was triggered\n",
      "\n",
      "\u001b[0m"
     ]
    },
    {
     "name": "stderr",
     "output_type": "stream",
     "text": [
      "Device disconnected\u001b[0m"
     ]
    }
   ],
   "source": [
    "from urpc import *\n",
    "start_server(huzzah_config)"
   ]
  },
  {
   "cell_type": "code",
   "execution_count": 2,
   "metadata": {},
   "outputs": [
    {
     "name": "stdout",
     "output_type": "stream",
     "text": [
      "5\n",
      "\u001b[0m"
     ]
    }
   ],
   "source": [
    "print(5)"
   ]
  },
  {
   "cell_type": "code",
   "execution_count": 2,
   "metadata": {},
   "outputs": [
    {
     "name": "stdout",
     "output_type": "stream",
     "text": [
      "['c']\n",
      "\u001b[0m"
     ]
    }
   ],
   "source": [
    "import os\n",
    "print(os.listdir('a/b'))"
   ]
  },
  {
   "cell_type": "code",
   "execution_count": 2,
   "metadata": {},
   "outputs": [
    {
     "name": "stdout",
     "output_type": "stream",
     "text": [
      "\u001b[0m"
     ]
    }
   ],
   "source": [
    "%mkdirs a/b/c"
   ]
  },
  {
   "cell_type": "code",
   "execution_count": null,
   "metadata": {},
   "outputs": [],
   "source": []
  }
 ],
 "metadata": {
  "kernelspec": {
   "display_name": "IoT",
   "language": "python",
   "name": "iot_kernel"
  },
  "language_info": {
   "codemirror_mode": {
    "name": "python",
    "version": 3
   },
   "file_extension": ".py",
   "mimetype": "text/x-python",
   "name": "python",
   "pygments_lexer": "python3",
   "version": "3"
  }
 },
 "nbformat": 4,
 "nbformat_minor": 4
}
