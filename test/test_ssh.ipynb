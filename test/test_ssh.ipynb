{
 "cells": [
  {
   "cell_type": "markdown",
   "id": "presidential-convention",
   "metadata": {},
   "source": [
    "# `%%ssh` and `%%balena`"
   ]
  },
  {
   "cell_type": "code",
   "execution_count": 1,
   "id": "nearby-netherlands",
   "metadata": {},
   "outputs": [
    {
     "name": "stdout",
     "output_type": "stream",
     "text": [
      "\u001b[0m\u001b[0mhello more\u001b[0m\n"
     ]
    }
   ],
   "source": [
    "%%bash\n",
    "\n",
    "bash -c \"echo \\\n",
    "hello \\\n",
    "more\""
   ]
  },
  {
   "cell_type": "code",
   "execution_count": 1,
   "id": "fuzzy-formation",
   "metadata": {},
   "outputs": [
    {
     "name": "stdout",
     "output_type": "stream",
     "text": [
      "\u001b[0m\u001b[0m/bin/cat\u001b[0m\n",
      "/usr/bin/which\u001b[0m\n",
      "/bin/ls\u001b[0m\n",
      "/usr/bin/which\u001b[0m\n",
      "/bin/echo\u001b[0m\n"
     ]
    }
   ],
   "source": [
    "%%bash\n",
    "\n",
    "bash -c \"which cat \\\n",
    "which ls \\\n",
    "which echo \\\n",
    "\""
   ]
  },
  {
   "cell_type": "code",
   "execution_count": 1,
   "id": "owned-train",
   "metadata": {},
   "outputs": [
    {
     "name": "stdout",
     "output_type": "stream",
     "text": [
      "\u001b[0m\u001b[0m200a469\n",
      "\u001b[0m"
     ]
    }
   ],
   "source": [
    "%%balena iot49\n",
    "\n",
    "hostname"
   ]
  },
  {
   "cell_type": "code",
   "execution_count": 1,
   "id": "current-shaft",
   "metadata": {},
   "outputs": [
    {
     "name": "stdout",
     "output_type": "stream",
     "text": [
      "\u001b[0m\u001b[0m0b0afb821f13\n",
      "\u001b[0m"
     ]
    }
   ],
   "source": [
    "%%balena gcc\n",
    "\n",
    "hostname"
   ]
  },
  {
   "cell_type": "code",
   "execution_count": 1,
   "id": "formal-factor",
   "metadata": {},
   "outputs": [
    {
     "name": "stdout",
     "output_type": "stream",
     "text": [
      "\u001b[0m\u001b[0m537c2625a360\n",
      "\u001b[0m"
     ]
    }
   ],
   "source": [
    "%%balena code-server\n",
    "\n",
    "hostname"
   ]
  },
  {
   "cell_type": "code",
   "execution_count": 1,
   "id": "decent-modem",
   "metadata": {},
   "outputs": [
    {
     "name": "stdout",
     "output_type": "stream",
     "text": [
      "\u001b[0m\u001b[0mCONTAINER ID        IMAGE                                                                   COMMAND                  CREATED             STATUS                 PORTS                    NAMES\n",
      "\u001b[0ma104e7cb39fa        be83be433985                                                            \"/usr/bin/entry.sh /…\"   36 minutes ago      Up 36 minutes                                   iot49_3576538_1786783\n",
      "\u001b[0m0b0afb821f13        2eaa9749e028                                                            \"/usr/bin/entry.sh /…\"   36 minutes ago      Up 36 minutes                                   gcc_3576539_1786783\n",
      "\u001b[0m537c2625a360        af8b6fa948cd                                                            \"/init\"                  About an hour ago   Up About an hour       0.0.0.0:8443->8443/tcp   code-server_3576540_1786783\n",
      "\u001b[0m991e903844e2        registry2.balena-cloud.com/v2/ee8a630b4962f1e2b4ad682dd9468f7a:latest   \"/usr/src/app/entry.…\"   2 hours ago         Up 2 hours (healthy)                            resin_supervisor\n",
      "\u001b[0m"
     ]
    }
   ],
   "source": [
    "%%ssh -p 22222 localhost\n",
    "\n",
    "balena-engine ps"
   ]
  },
  {
   "cell_type": "code",
   "execution_count": 1,
   "id": "subsequent-perfume",
   "metadata": {},
   "outputs": [
    {
     "name": "stdout",
     "output_type": "stream",
     "text": [
      "\u001b[0m\u001b[0m"
     ]
    },
    {
     "name": "stderr",
     "output_type": "stream",
     "text": [
      "No container with name 'x'\u001b[0m\n",
      "Available containers: gcc, iot49, code-server, resin_supervisor\u001b[0m\n"
     ]
    }
   ],
   "source": [
    "%%balena x"
   ]
  },
  {
   "cell_type": "code",
   "execution_count": 1,
   "id": "compatible-salvation",
   "metadata": {},
   "outputs": [
    {
     "name": "stdout",
     "output_type": "stream",
     "text": [
      "\u001b[0m\u001b[0m200a469\n",
      "\u001b[0m"
     ]
    }
   ],
   "source": [
    "%%balena resin_supervisor\n",
    "\n",
    "hostname"
   ]
  },
  {
   "cell_type": "code",
   "execution_count": 1,
   "id": "superb-mexican",
   "metadata": {},
   "outputs": [
    {
     "name": "stdout",
     "output_type": "stream",
     "text": [
      "\u001b[0m\u001b[0mbalenaos.fingerprint\n",
      "\u001b[0mbin\n",
      "\u001b[0mboot\n",
      "\u001b[0mdev\n",
      "\u001b[0metc\n",
      "\u001b[0mhome\n",
      "\u001b[0mlib\n",
      "\u001b[0mlinuxrc\n",
      "\u001b[0mmedia\n",
      "\u001b[0mmnt\n",
      "\u001b[0mproc\n",
      "\u001b[0mquirks\n",
      "\u001b[0mresin-boot\n",
      "\u001b[0mresin-data\n",
      "\u001b[0mrun\n",
      "\u001b[0msbin\n",
      "\u001b[0msrv\n",
      "\u001b[0msys\n",
      "\u001b[0mtmp\n",
      "\u001b[0musr\n",
      "\u001b[0mvar\n",
      "\u001b[0m200a469\n",
      "\u001b[0m200a469\n",
      "\u001b[0m-----------------\n",
      "\u001b[0mbalenaos.fingerprint\n",
      "\u001b[0mbin\n",
      "\u001b[0mboot\n",
      "\u001b[0mdev\n",
      "\u001b[0metc\n",
      "\u001b[0mhome\n",
      "\u001b[0mlib\n",
      "\u001b[0mlinuxrc\n",
      "\u001b[0mmedia\n",
      "\u001b[0mmnt\n",
      "\u001b[0mproc\n",
      "\u001b[0mquirks\n",
      "\u001b[0mresin-boot\n",
      "\u001b[0mresin-data\n",
      "\u001b[0mrun\n",
      "\u001b[0msbin\n",
      "\u001b[0msrv\n",
      "\u001b[0msys\n",
      "\u001b[0mtmp\n",
      "\u001b[0musr\n",
      "\u001b[0mvar\n",
      "\u001b[0m"
     ]
    }
   ],
   "source": [
    "%%ssh -p 22222 localhost\n",
    "\n",
    "ls /\n",
    "hostname\n",
    "hostname\n",
    "echo \"-----------------\"\n",
    "ls /"
   ]
  },
  {
   "cell_type": "code",
   "execution_count": 1,
   "id": "following-sense",
   "metadata": {},
   "outputs": [
    {
     "name": "stdout",
     "output_type": "stream",
     "text": [
      "\u001b[0m\u001b[0md7ef5ac50469\n",
      "\u001b[0md7ef5ac50469\n",
      "\u001b[0mabc xyz\n",
      "\u001b[0m2\n",
      "\u001b[0m"
     ]
    },
    {
     "name": "stderr",
     "output_type": "stream",
     "text": [
      "sh: -c: line 4: unexpected EOF while looking for matching `\"'\n",
      "\u001b[0msh: -c: line 7: syntax error: unexpected end of file\n",
      "\u001b[0m"
     ]
    }
   ],
   "source": [
    "%%balena gcc\n",
    "\n",
    "bash -c \"hostname\n",
    "hostname\n",
    "echo \"abc\" 'xyz' \n",
    "echo 2\n",
    "hostname\"\n",
    "\n",
    "hostname"
   ]
  },
  {
   "cell_type": "code",
   "execution_count": 1,
   "id": "designing-subsection",
   "metadata": {},
   "outputs": [
    {
     "name": "stdout",
     "output_type": "stream",
     "text": [
      "\u001b[0m\u001b[0mcc -Wall -g   -c -o dev_table.o dev_table.c\n",
      "\u001b[0mcc -Wall -g   -c -o i2c.o i2c.c\n",
      "\u001b[0mcc -Wall -g   -c -o init.o init.c\n",
      "\u001b[0mcc -Wall -g   -c -o main.o main.c\n",
      "\u001b[0mcc -Wall -g   -c -o port.o port.c\n",
      "\u001b[0mcc -Wall -g   -c -o serial_common.o serial_common.c\n",
      "\u001b[0mcc -Wall -g   -c -o serial_platform.o serial_platform.c\n",
      "\u001b[0mcc -Wall -g   -c -o stm32.o stm32.c\n",
      "\u001b[0mcc -Wall -g   -c -o utils.o utils.c\n",
      "\u001b[0mcd parsers && make parsers.a\n",
      "\u001b[0mmake[1]: Entering directory '/tmp/stm32flash-code/parsers'\n",
      "\u001b[0mcc -Wall -g   -c -o binary.o binary.c\n",
      "\u001b[0mcc -Wall -g   -c -o hex.o hex.c\n",
      "\u001b[0mar rc parsers.a binary.o hex.o\n",
      "\u001b[0mmake[1]: Leaving directory '/tmp/stm32flash-code/parsers'\n",
      "\u001b[0mcc  -o stm32flash dev_table.o i2c.o init.o main.o port.o serial_common.o serial_platform.o stm32.o utils.o parsers/parsers.a\n",
      "\u001b[0minstall -d /usr/local/bin\n",
      "\u001b[0minstall -m 755 stm32flash /usr/local/bin\n",
      "\u001b[0minstall -d /usr/local/share/man/man1\n",
      "\u001b[0minstall -m 644 stm32flash.1 /usr/local/share/man/man1\n",
      "\u001b[0m"
     ]
    },
    {
     "name": "stderr",
     "output_type": "stream",
     "text": [
      "Cloning into 'stm32flash-code'...\n",
      "\u001b[0m"
     ]
    }
   ],
   "source": [
    "%%balena gcc\n",
    "cd /tmp\n",
    "git clone https://git.code.sf.net/p/stm32flash/code stm32flash-code\n",
    "cd stm32flash-code\n",
    "make install\n",
    "cd ..\n",
    "rm -rf stm32flash-code\n"
   ]
  },
  {
   "cell_type": "code",
   "execution_count": 1,
   "id": "vital-phoenix",
   "metadata": {},
   "outputs": [
    {
     "name": "stdout",
     "output_type": "stream",
     "text": [
      "\u001b[0m\u001b[0m"
     ]
    },
    {
     "name": "stderr",
     "output_type": "stream",
     "text": [
      "bash: reboot: command not found\n",
      "\u001b[0m"
     ]
    }
   ],
   "source": [
    "%%balena gcc\n",
    "reboot"
   ]
  },
  {
   "cell_type": "code",
   "execution_count": null,
   "id": "orange-nomination",
   "metadata": {},
   "outputs": [],
   "source": []
  }
 ],
 "metadata": {
  "kernelspec": {
   "display_name": "IoT",
   "language": "python",
   "name": "iot_kernel"
  },
  "language_info": {
   "codemirror_mode": {
    "name": "python",
    "version": 3
   },
   "file_extension": ".py",
   "mimetype": "text/x-python",
   "name": "python",
   "pygments_lexer": "python3",
   "version": "3"
  }
 },
 "nbformat": 4,
 "nbformat_minor": 5
}
