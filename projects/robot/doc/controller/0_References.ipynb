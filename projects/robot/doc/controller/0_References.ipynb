{
 "cells": [
  {
   "cell_type": "markdown",
   "metadata": {},
   "source": [
    "# Control\n",
    "\n",
    "* Arduino PID\n",
    "  * [PID Controller Code - Explained](http://brettbeauregard.com/blog/2011/04/improving-the-beginners-pid-introduction/)\n",
    "  * [Autotune](http://brettbeauregard.com/blog/tag/pid/)\n",
    "  * [Arduino PID Library](https://playground.arduino.cc/Code/PIDLibrary/)\n",
    "* [Practical Control](https://controlguru.com/table-of-contents/)"
   ]
  },
  {
   "cell_type": "markdown",
   "metadata": {},
   "source": [
    "# Balancing Robots\n",
    "\n",
    "* [Arduino Self-Balancing Robot](https://www.instructables.com/Arduino-Self-Balancing-Robot-1/)\n",
    "* [Detailed Instructions](https://www.instructables.com/A-Simple-and-Very-Easy-Inverted-Pendulum-Balancing/)\n",
    "* [With cheap motors](https://maker.pro/arduino/projects/build-arduino-self-balancing-robot)\n",
    "* [Rpi](https://www.instructables.com/Building-a-segway-in-Raspberry-Pi/)\n"
   ]
  },
  {
   "cell_type": "code",
   "execution_count": null,
   "metadata": {},
   "outputs": [],
   "source": []
  }
 ],
 "metadata": {
  "kernelspec": {
   "display_name": "IoT",
   "language": "python",
   "name": "iot_kernel"
  },
  "language_info": {
   "codemirror_mode": {
    "name": "python",
    "version": 3
   },
   "file_extension": ".py",
   "mimetype": "text/x-python",
   "name": "python",
   "pygments_lexer": "python3",
   "version": "3"
  }
 },
 "nbformat": 4,
 "nbformat_minor": 4
}
