{
 "cells": [
  {
   "cell_type": "markdown",
   "id": "established-harbor",
   "metadata": {},
   "source": [
    "# Add custom C module"
   ]
  },
  {
   "cell_type": "markdown",
   "id": "suburban-football",
   "metadata": {},
   "source": [
    "* /extmod/modumsgpack.c\n",
    "\n",
    "* /py/builtin.h:\n",
    "\n",
    "    ```c\n",
    "    extern const mp_obj_module_t mp_module_umsgpack;\n",
    "    ```\n",
    "    \n",
    "* /py/py.mk:\n",
    "\n",
    "    ```c\n",
    "    extmod/modumsgpack.o \\\n",
    "    ```\n",
    "    \n",
    "* /py/objmodule.c:\n",
    "\n",
    "    ```c\n",
    "    #if MICROPY_PY_UMSGPACK\n",
    "    { MP_ROM_QSTR(MP_QSTR_umsgpack), MP_ROM_PTR(&mp_module_umsgpack) },\n",
    "    #endif\n",
    "    ```\n",
    "    \n",
    "* /py/mpconfig.h:\n",
    "\n",
    "    ```c\n",
    "    #ifndef MICROPY_PY_UMSGPACK\n",
    "    #define MICROPY_PY_UMSGPACK (0)\n",
    "    #endif\n",
    "    ```\n",
    "    \n",
    "* /ports/.../mpconfigport.h:\n",
    "\n",
    "    ```c\n",
    "    #define MICROPY_PY_UMSGPACK     (1)\n",
    "    ```"
   ]
  },
  {
   "cell_type": "code",
   "execution_count": null,
   "id": "cleared-swimming",
   "metadata": {},
   "outputs": [],
   "source": []
  }
 ],
 "metadata": {
  "kernelspec": {
   "display_name": "IoT",
   "language": "python",
   "name": "iot_kernel"
  },
  "language_info": {
   "codemirror_mode": {
    "name": "python",
    "version": 3
   },
   "file_extension": ".py",
   "mimetype": "text/x-python",
   "name": "python",
   "pygments_lexer": "python3",
   "version": "3"
  }
 },
 "nbformat": 4,
 "nbformat_minor": 5
}
