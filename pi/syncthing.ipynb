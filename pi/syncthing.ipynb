{
 "cells": [
  {
   "cell_type": "markdown",
   "id": "0aa80aaf",
   "metadata": {},
   "source": [
    "# Install Syncthing\n",
    "\n",
    "* Purpose: synchronize directories between computers on local network\n",
    "    * I use this to synchronize folders between my Mac and the Pi\n",
    "* [Official Site](https://syncthing.net/)\n",
    "* [Install Guide](https://pimylifeup.com/raspberry-pi-syncthing/)"
   ]
  },
  {
   "cell_type": "markdown",
   "id": "132f926b",
   "metadata": {},
   "source": [
    "## Install Software"
   ]
  },
  {
   "cell_type": "code",
   "execution_count": null,
   "id": "538087dd",
   "metadata": {},
   "outputs": [],
   "source": [
    "%%bash\n",
    "\n",
    "sudo apt update\n",
    "sudo apt-get -y full-upgrade\n",
    "sudo apt-get -y install apt-transport-https\n",
    "curl -s https://syncthing.net/release-key.txt | sudo apt-key add -\n",
    "echo \"deb https://apt.syncthing.net/ syncthing stable\" | sudo tee /etc/apt/sources.list.d/syncthing.list\n",
    "sudo apt update\n",
    "sudo apt install syncthing "
   ]
  },
  {
   "cell_type": "markdown",
   "id": "76ff8448",
   "metadata": {},
   "source": [
    "## Ignore Files\n",
    "\n",
    "1. Discussion: https://forum.syncthing.net/t/useful-stignore-patterns/1175\n",
    "2. Gobal ignore file: https://gist.github.com/marksharrison"
   ]
  },
  {
   "cell_type": "markdown",
   "id": "7c529044",
   "metadata": {},
   "source": [
    "#### `.stglobalignore`"
   ]
  },
  {
   "cell_type": "code",
   "execution_count": null,
   "id": "0bec30b8",
   "metadata": {},
   "outputs": [],
   "source": [
    "%%bash\n",
    "\n",
    "# list of filed/dirs that never sync (https://docs.syncthing.net/users/ignoring.html)\n",
    "cat << 'EOF' > $IOT49/.stglobalignore\n",
    "// .stglobalignore\n",
    "// Syncthing Ignore Patterns - https://docs.syncthing.net/users/ignoring.html\n",
    "// #patterns:\n",
    "// Useful .stignore Patterns - https://goo.gl/DVHI1h\n",
    "\n",
    "// Usage: Add the line below to all .stignore files for each Syncthing node\n",
    "// #include .stglobalignore\n",
    "\n",
    "// Incomplete Downloads\n",
    "// Firefox downloads\n",
    "*.part\n",
    "// Chrom(ium|e) downloads\n",
    "*.crdownload\n",
    "// Transmission downloads\n",
    "*.part\n",
    "\n",
    "// Temporary/Backup Files\n",
    "*~\n",
    ".*.swp\n",
    "\n",
    "// OS-generated files (linux)\n",
    ".directory\n",
    ".Trash-*\n",
    "\n",
    "// OS-generated files (macOS)\n",
    "ehthumbs.db\n",
    "Thumbs.db.DS_Store\n",
    ".AppleDouble\n",
    ".LSOverride\n",
    "// Icon must end with two \\r\n",
    "Icon\n",
    "Icon?\n",
    "// Thumbnails (metadata)\n",
    "._*\n",
    "// Files that might appear in the root of a volume\n",
    ".DocumentRevisions-V100\n",
    ".fseventsd\n",
    ".Spotlight-V100\n",
    ".TemporaryItems\n",
    ".Trashes\n",
    ".VolumeIcon.icns\n",
    ".com.apple.timemachine.donotpresent\n",
    ".localized\n",
    "// Directories potentially created on remote AFP share\n",
    ".AppleDB\n",
    ".AppleDesktop\n",
    "Network Trash Folder\n",
    "Temporary Items\n",
    ".apdisk\n",
    "// iCloud temp files\n",
    ".iCloud*\n",
    "\n",
    "// OS-generated files (Windows)\n",
    "// Windows thumbnail cache files\n",
    "Thumbs.db\n",
    "Thumbs.db:encryptable\n",
    "ehthumbs.db\n",
    "ehthumbs_vista.db\n",
    "// Dump file\n",
    "*.stackdump\n",
    "// Folder config file\n",
    "[Dd]esktop.ini\n",
    "// Recycle Bin used on file shares\n",
    "$RECYCLE.BIN/\n",
    "// Windows Installer files\n",
    "*.cab\n",
    "*.msi\n",
    "*.msix\n",
    "*.msm\n",
    "*.msp\n",
    "// Windows shortcuts\n",
    "*.ln\n",
    "// Microsoft Office temp files\n",
    "(?d)~*\n",
    "\n",
    "// BTSync files\n",
    ".sync\n",
    "*.bts\n",
    "*.!Sync\n",
    ".SyncID\n",
    ".SyncIgnore\n",
    ".SyncArchive\n",
    "*.SyncPart\n",
    "*.SyncTemp\n",
    "*.SyncOld\n",
    "\n",
    "// Synology files\n",
    "@eaDir\n",
    "\n",
    "// Syncthing files\n",
    ".stignore\n",
    ".stfolder\n",
    "\n",
    "// vim swap files\n",
    "(?d)*.*.sw[a-p]\n",
    "\n",
    "// Jupyter\n",
    ".ipynb_checkpoints/\n",
    ".ipynb_checkpoints*\n",
    "\n",
    "// Virtual Env\n",
    ".envrc\n",
    ".direnv\n",
    ".git\n",
    "\n",
    "// Misc\n",
    "*tmp\n",
    "__pycache__\n",
    "*.py[cod]\n",
    "*$py.class\n",
    "*bak\n",
    "\n",
    "EOF"
   ]
  },
  {
   "cell_type": "markdown",
   "id": "6a39995c",
   "metadata": {},
   "source": [
    "#### `.stignore`"
   ]
  },
  {
   "cell_type": "code",
   "execution_count": null,
   "id": "d09ba875",
   "metadata": {},
   "outputs": [],
   "source": [
    "%%bash \n",
    "\n",
    "# list of filed/dirs that never sync (https://docs.syncthing.net/users/ignoring.html)\n",
    "cat << 'EOF' > $IOT49/.stignore\n",
    "#include .stglobalignore\n",
    "\n",
    "EOF"
   ]
  },
  {
   "cell_type": "markdown",
   "id": "c76024b2",
   "metadata": {},
   "source": [
    "## Configure software"
   ]
  },
  {
   "cell_type": "code",
   "execution_count": null,
   "id": "3f8a9d20",
   "metadata": {},
   "outputs": [],
   "source": [
    "%%bash\n",
    "\n",
    "# start then kill to create default configuration\n",
    "syncthing &\n",
    "last_pid=$!\n",
    "echo $last_pid\n",
    "sleep 5\n",
    "kill -KILL $last_pid\n",
    "\n",
    "# web access from any authorized device\n",
    "cd ~/.config/syncthing\n",
    "cp config.xml config.xml.bak\n",
    "sed -i 's/127\\.0\\.0\\.1:8384/0\\.0\\.0\\.0:8384/g' config.xml\n",
    "\n",
    "# install service\n",
    "sudo tee /lib/systemd/system/syncthing.service << EOF\n",
    "[Unit]\n",
    "Description=Syncthing - Open Source Continuous File Synchronization\n",
    "Documentation=man:syncthing(1)\n",
    "After=network.target\n",
    "\n",
    "[Service]\n",
    "User=pi\n",
    "ExecStart=/usr/bin/syncthing -no-browser -no-restart -logflags=0\n",
    "Restart=on-failure\n",
    "RestartSec=5\n",
    "SuccessExitStatus=3 4\n",
    "RestartForceExitStatus=3 4\n",
    "\n",
    "# Hardening\n",
    "ProtectSystem=full\n",
    "PrivateTmp=true\n",
    "SystemCallArchitectures=native\n",
    "MemoryDenyWriteExecute=true\n",
    "NoNewPrivileges=true\n",
    "\n",
    "[Install]\n",
    "WantedBy=multi-user.target\n",
    "EOF"
   ]
  },
  {
   "cell_type": "code",
   "execution_count": null,
   "id": "8a848b53",
   "metadata": {},
   "outputs": [],
   "source": [
    "# start service\n",
    "sudo systemctl enable syncthing\n",
    "sudo systemctl start syncthing"
   ]
  },
  {
   "cell_type": "markdown",
   "id": "034c77bf",
   "metadata": {},
   "source": [
    "## Verify Syncthing is running"
   ]
  },
  {
   "cell_type": "code",
   "execution_count": null,
   "id": "1085d631",
   "metadata": {},
   "outputs": [],
   "source": [
    "!sudo systemctl --no-pager status syncthing"
   ]
  },
  {
   "cell_type": "markdown",
   "id": "e86df914",
   "metadata": {},
   "source": [
    "## Configure from Web Interface\n",
    "\n",
    "Consult the [Syncthing documentation](https://syncthing.net/) or the [Install Guide](https://pimylifeup.com/raspberry-pi-syncthing/) for details.\n",
    "\n",
    "Summary of procedure: \n",
    "\n",
    "* go to http://yourpi.local:8384\n",
    "* Click `Danger/Settings`\n",
    "   * Select `GUI` tab\n",
    "   * Enter GUI Authentication user and password\n",
    "      * e.g. your name and something that's hard to guess\n",
    "   * click Save\n",
    "* Click `Actions/Show ID`\n",
    "   * Copy ID to Syncthing on remote (e.g. Mac) you want to share files with\n",
    "      * Note: Syncthing must be running on remote!\n",
    "      * on your remote, go to http://localhost:8384\n",
    "      * `Add Remote Device`\n",
    "      * On Pi, accept remote request\n",
    "      * On remote (Mac), the new Pi will show up\n",
    "      * Click on it and press `Edit`\n",
    "      * Add the folders you want to share"
   ]
  },
  {
   "cell_type": "code",
   "execution_count": null,
   "id": "7f62d468",
   "metadata": {},
   "outputs": [],
   "source": []
  }
 ],
 "metadata": {
  "kernelspec": {
   "display_name": "Python 3",
   "language": "python",
   "name": "python3"
  },
  "language_info": {
   "codemirror_mode": {
    "name": "ipython",
    "version": 3
   },
   "file_extension": ".py",
   "mimetype": "text/x-python",
   "name": "python",
   "nbconvert_exporter": "python",
   "pygments_lexer": "ipython3",
   "version": "3.7.3"
  }
 },
 "nbformat": 4,
 "nbformat_minor": 5
}
