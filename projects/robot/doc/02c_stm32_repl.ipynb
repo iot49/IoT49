{
 "cells": [
  {
   "cell_type": "markdown",
   "id": "homeless-spice",
   "metadata": {},
   "source": [
    "# STM32 Pi Interface: REPL & GPIO\n",
    "\n",
    "`/boot/config.txt`: add\n",
    "\n",
    "```\n",
    "[pi4]\n",
    "dtoverlay=uart3\n",
    "dtoverlay=uart4\n",
    "enable_uart=0\n",
    "```\n",
    "\n",
    "Overlay `enable_uart=0` disables the console UART on pins 8, 10. No need to disable if pins are not connected (but then there is no way this can work with a Pi 3, probably ok).\n",
    "\n",
    "UART Assignments (Pi 4):\n",
    "\n",
    "```\n",
    "Pi 4                            STM32\n",
    "/dev/ttyAMA1   uart3            uart6 (REPL)\n",
    "/dev/ttyAMA2   uart4            uart3 (dfu, robot comm)\n",
    "```\n",
    "\n",
    "GPIO Pins:\n",
    "\n",
    "```\n",
    "BOOT0   = 13 (GPIO27)\n",
    "SHUT_DN = 33 (GPIO13)     shutdown button input (active low)\n",
    "nRST    = 40 (GPIO21)\n",
    "AUX     = 36 (GPIO16)     stm32: AUX\n",
    "                          stm32: PWR_EN: pull low to cut main (5V) power supply\n",
    "                          stm32: V12_DIV: 12V input / 7.8 \n",
    "```"
   ]
  },
  {
   "cell_type": "markdown",
   "id": "developed-increase",
   "metadata": {},
   "source": [
    "## IoT Kernel"
   ]
  },
  {
   "cell_type": "code",
   "execution_count": 1,
   "id": "every-floor",
   "metadata": {},
   "outputs": [
    {
     "name": "stdout",
     "output_type": "stream",
     "text": [
      "\u001b[0m\u001b[46m\u001b[30mConnected to stm32 @ serial:///dev/ttyAMA1\u001b[0m\n"
     ]
    }
   ],
   "source": [
    "%connect 'serial:///dev/ttyAMA1'"
   ]
  },
  {
   "cell_type": "code",
   "execution_count": 1,
   "id": "reasonable-pledge",
   "metadata": {},
   "outputs": [
    {
     "name": "stdout",
     "output_type": "stream",
     "text": [
      "0\n",
      "1\n",
      "128\n",
      "2187\n",
      "16384\n",
      "\u001b[0m"
     ]
    }
   ],
   "source": [
    "for i in range(5):\n",
    "    print(i**7)"
   ]
  },
  {
   "cell_type": "markdown",
   "id": "funny-hampton",
   "metadata": {},
   "source": [
    "## Reset, Exec"
   ]
  },
  {
   "cell_type": "code",
   "execution_count": 2,
   "id": "bizarre-stand",
   "metadata": {},
   "outputs": [
    {
     "name": "stdout",
     "output_type": "stream",
     "text": [
      ">>> reset example:\n",
      "before reset: a = 256\n",
      "\n",
      "after reset:\n",
      "Traceback (most recent call last):\n",
      "  File \"<stdin>\", line 1, in <module>\n",
      "NameError: name 'a' isn't defined\n",
      "\n",
      "\n",
      "\n",
      ">>> data_consumer example:\n",
      "0\n",
      "1\n",
      "16\n",
      "81\n",
      "256\n",
      "625\n",
      "1296\n",
      "2401\n",
      "4096\n",
      "\u0004\n",
      "\n",
      ">>> exec_no_follow example:\n",
      "*** MCU: going for a nap\n",
      "\n",
      "control returns immediately to pi\n"
     ]
    }
   ],
   "source": [
    "%%host\n",
    "\n",
    "import asyncio, sys, os\n",
    "sys.path.append(os.path.join(os.getenv('IOT49'), 'projects/robot/code-pi'))\n",
    "\n",
    "import stm32\n",
    "\n",
    "print(\">>> reset example:\")\n",
    "\n",
    "stm32.exec(\"a = 2**8\")\n",
    "print(stm32.exec(\"print('before reset: a =', a)\"))\n",
    "stm32.hard_reset()\n",
    "try:\n",
    "    print(stm32.exec(\"print('after  reset:', a)\"))\n",
    "except stm32.RemoteError as e:\n",
    "    print(\"after reset:\")\n",
    "    print(e)\n",
    "    \n",
    "print(\"\\n\\n>>> data_consumer example:\")\n",
    "    \n",
    "code = \"\"\"\n",
    "import time\n",
    "\n",
    "for i in range(9):\n",
    "    print(i**4)\n",
    "    time.sleep(0.2)\n",
    "\"\"\"\n",
    "stm32.exec(code, data_consumer=lambda x: print(x.decode(), end=\"\"))\n",
    "\n",
    "print(\"\\n\\n>>> exec_no_follow example:\")\n",
    "    \n",
    "stm32.exec_no_follow(\"print('going for a nap'); import time; time.sleep(3600)\")\n",
    "print(\"control returns immediately to pi\")"
   ]
  },
  {
   "cell_type": "code",
   "execution_count": 2,
   "id": "mediterranean-today",
   "metadata": {},
   "outputs": [
    {
     "name": "stdout",
     "output_type": "stream",
     "text": [
      "*** MCU: going for a nap\n",
      "\n",
      "control returns immediately to pi\n"
     ]
    }
   ],
   "source": [
    "%%host\n",
    "\n",
    "import asyncio, sys, os\n",
    "sys.path.append(os.path.join(os.getenv('IOT49'), 'projects/robot/code-pi'))\n",
    "\n",
    "import stm32\n",
    "\n",
    "stm32.exec_no_follow(\"print('going for a nap'); import time; time.sleep(3600)\")\n",
    "print(\"control returns immediately to pi\")"
   ]
  },
  {
   "cell_type": "markdown",
   "id": "finished-theater",
   "metadata": {},
   "source": [
    "## Rsync"
   ]
  },
  {
   "cell_type": "code",
   "execution_count": 5,
   "id": "contrary-upgrade",
   "metadata": {},
   "outputs": [
    {
     "name": "stdout",
     "output_type": "stream",
     "text": [
      "\u001b[0m                            \u001b[32mflash/\u001b[0m\n",
      "\u001b[0m    372  Apr 28 01:04 2021      \u001b[34mboot.py\u001b[0m\n",
      "\u001b[0m                                \u001b[32mlib/\u001b[0m\n",
      "\u001b[0m   6644  Apr 23 09:18 2021          \u001b[34mbdevice.py\u001b[0m\n",
      "\u001b[0m   6731  Apr 23 09:18 2021          \u001b[34mflash_spi.py\u001b[0m\n",
      "\u001b[0m                            \u001b[32mspi/\u001b[0m\n",
      "\u001b[0m                                \u001b[32mlib/\u001b[0m\n",
      "\u001b[0m   6491  Apr 01 12:55 2021          \u001b[34mbno055.py\u001b[0m\n",
      "\u001b[0m   5598  Apr 23 17:58 2021          \u001b[34mbno055_base.py\u001b[0m\n",
      "\u001b[0m   1078  Apr 01 12:55 2021          \u001b[34mbno055_test.py\u001b[0m\n",
      "\u001b[0m   4537  Apr 23 16:55 2021          \u001b[34mcomm.py\u001b[0m\n",
      "\u001b[0m   4742  Apr 23 18:06 2021          \u001b[34mcontroller.py\u001b[0m\n",
      "\u001b[0m   2073  Apr 01 12:55 2021          \u001b[34mencoder.py\u001b[0m\n",
      "\u001b[0m    244  Apr 01 12:55 2021          \u001b[34minit_urpc_client.py\u001b[0m\n",
      "\u001b[0m   2094  Apr 01 12:55 2021          \u001b[34mlogging.py\u001b[0m\n",
      "\u001b[0m   1174  Apr 01 12:55 2021          \u001b[34mneopixel.py\u001b[0m\n",
      "\u001b[0m   2599  Apr 23 09:42 2021          \u001b[34mpid.py\u001b[0m\n",
      "\u001b[0m   7813  Apr 01 12:55 2021          \u001b[34mpystone.py\u001b[0m\n",
      "\u001b[0m    317  Apr 01 12:55 2021          \u001b[34msecrets.py\u001b[0m\n",
      "\u001b[0m    978  Apr 01 12:55 2021          \u001b[34mtb6612.py\u001b[0m\n",
      "\u001b[0m  22299  Apr 01 12:55 2021          \u001b[34mvl53l0x.py\u001b[0m\n",
      "\u001b[0m   7376  Apr 01 12:55 2021          \u001b[34mvl53l1x.py\u001b[0m\n",
      "\u001b[0m\u001b[34mUPDATE  /flash/lib/bdevice.py\n",
      "\u001b[0m\u001b[34mUPDATE  /flash/lib/flash_spi.py\n",
      "\u001b[0m\u001b[34mUPDATE  /spi/lib/bno055.py\n",
      "\u001b[0m\u001b[34mUPDATE  /spi/lib/bno055_base.py\n",
      "\u001b[0m\u001b[34mUPDATE  /spi/lib/bno055_test.py\n",
      "\u001b[0m\u001b[34mUPDATE  /spi/lib/comm.py\n",
      "\u001b[0m\u001b[34mUPDATE  /spi/lib/controller.py\n",
      "\u001b[0m\u001b[34mUPDATE  /spi/lib/encoder.py\n",
      "\u001b[0m\u001b[34mUPDATE  /spi/lib/init_urpc_client.py\n",
      "\u001b[0m\u001b[34mUPDATE  /spi/lib/logging.py\n",
      "\u001b[0m\u001b[34mUPDATE  /spi/lib/neopixel.py\n",
      "\u001b[0m\u001b[34mUPDATE  /spi/lib/pid.py\n",
      "\u001b[0m\u001b[34mUPDATE  /spi/lib/pystone.py\n",
      "\u001b[0m\u001b[34mUPDATE  /spi/lib/secrets.py\n",
      "\u001b[0m\u001b[34mUPDATE  /spi/lib/tb6612.py\n",
      "\u001b[0m\u001b[34mUPDATE  /spi/lib/vl53l0x.py\n",
      "\u001b[0m\u001b[34mUPDATE  /spi/lib/vl53l1x.py\n",
      "\u001b[0m"
     ]
    }
   ],
   "source": [
    "%rlist\n",
    "\n",
    "%%host\n",
    "\n",
    "import asyncio, sys, os\n",
    "sys.path.append(os.path.join(os.getenv('IOT49'), 'projects/robot/code-pi'))\n",
    "\n",
    "import stm32\n",
    "\n",
    "stm32.rsync(dry_run=True)"
   ]
  },
  {
   "cell_type": "markdown",
   "id": "oriented-adoption",
   "metadata": {},
   "source": [
    "## Supply Voltage"
   ]
  },
  {
   "cell_type": "code",
   "execution_count": 4,
   "id": "protecting-board",
   "metadata": {},
   "outputs": [
    {
     "data": {
      "text/plain": [
       "12.0497"
      ]
     },
     "execution_count": 3,
     "metadata": {},
     "output_type": "execute_result"
    }
   ],
   "source": [
    "%%host\n",
    "\n",
    "import asyncio, sys, os\n",
    "sys.path.append(os.path.join(os.getenv('IOT49'), 'projects/robot/code-pi'))\n",
    "\n",
    "import stm32\n",
    "\n",
    "stm32.supply_voltage()"
   ]
  },
  {
   "cell_type": "markdown",
   "id": "helpful-diesel",
   "metadata": {},
   "source": [
    "## Power-off"
   ]
  },
  {
   "cell_type": "code",
   "execution_count": null,
   "id": "expressed-giving",
   "metadata": {},
   "outputs": [],
   "source": [
    "%%host\n",
    "\n",
    "############\n",
    "# MUST BE RUN FROM Python3 kernel!\n",
    "\n",
    "import asyncio, sys, os\n",
    "sys.path.append(os.path.join(os.getenv('IOT49'), 'projects/robot/code-pi'))\n",
    "\n",
    "import stm32\n",
    "\n",
    "stm32.power_off()"
   ]
  },
  {
   "cell_type": "markdown",
   "id": "limited-virginia",
   "metadata": {},
   "source": [
    "## SHUT_DN Button"
   ]
  },
  {
   "cell_type": "code",
   "execution_count": 3,
   "id": "robust-breakfast",
   "metadata": {},
   "outputs": [
    {
     "name": "stdout",
     "output_type": "stream",
     "text": [
      "pressed\n",
      "released\n",
      "pressed\n",
      "released\n",
      "pressed\n",
      "released\n",
      "pressed\n",
      "released\n",
      "pressed\n",
      "released\n"
     ]
    }
   ],
   "source": [
    "%%host\n",
    "\n",
    "from gpiozero import Button\n",
    "\n",
    "def shut_down_pi():\n",
    "    # shut down and power off pi\n",
    "    pass\n",
    "\n",
    "with Button(13, pull_up=True, bounce_time=0.1) as shut_dn:\n",
    "\n",
    "    def say_pressed():\n",
    "        print(\"pressed\")\n",
    "        \n",
    "    shut_dn.when_pressed = say_pressed \n",
    "\n",
    "    import time\n",
    "    time.sleep(120)"
   ]
  },
  {
   "cell_type": "code",
   "execution_count": null,
   "id": "scheduled-korean",
   "metadata": {},
   "outputs": [],
   "source": [
    "%%bash\n",
    "\n",
    "cd ~/iot49\n",
    "\n",
    "# activate virtual environment from script\n",
    "eval \"$(direnv export bash)\"\n",
    "\n",
    "python ~/iot49/projects/robot/code-pi/shutdown_monitor.py"
   ]
  },
  {
   "cell_type": "markdown",
   "id": "neither-ordinance",
   "metadata": {},
   "source": [
    "## Flash MicroPython"
   ]
  },
  {
   "cell_type": "code",
   "execution_count": 7,
   "id": "constant-prayer",
   "metadata": {},
   "outputs": [
    {
     "name": "stdout",
     "output_type": "stream",
     "text": [
      "stm32flash 0.6\n",
      "\n",
      "http://stm32flash.sourceforge.net/\n",
      "\n",
      "Interface serial_posix: 57600 8E1\n",
      "Version      : 0x31\n",
      "Option 1     : 0x00\n",
      "Option 2     : 0x00\n",
      "Device ID    : 0x0413 (STM32F40xxx/41xxx)\n",
      "- RAM        : Up to 128KiB  (12288b reserved by bootloader)\n",
      "- Flash      : Up to 1024KiB (size first sector: 1x16384)\n",
      "- Option RAM : 16b\n",
      "- System RAM : 30KiB\n",
      "\n",
      "\n"
     ]
    }
   ],
   "source": [
    "%%host\n",
    "\n",
    "import asyncio, sys, os\n",
    "sys.path.append(os.path.join(os.getenv('IOT49'), 'projects/robot/code-pi'))\n",
    "\n",
    "import stm32\n",
    "\n",
    "stm32.flash_bin(info_only=True)\n",
    "# stm32.flash()"
   ]
  },
  {
   "cell_type": "code",
   "execution_count": null,
   "id": "young-insulin",
   "metadata": {},
   "outputs": [],
   "source": []
  }
 ],
 "metadata": {
  "kernelspec": {
   "display_name": "IoT",
   "language": "python",
   "name": "iot_kernel"
  },
  "language_info": {
   "codemirror_mode": {
    "name": "python",
    "version": 3
   },
   "file_extension": ".py",
   "mimetype": "text/x-python",
   "name": "python",
   "pygments_lexer": "python3",
   "version": "3"
  }
 },
 "nbformat": 4,
 "nbformat_minor": 5
}
