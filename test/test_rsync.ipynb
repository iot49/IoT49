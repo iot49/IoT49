{
 "cells": [
  {
   "cell_type": "markdown",
   "metadata": {},
   "source": [
    "# Test Rsync"
   ]
  },
  {
   "cell_type": "code",
   "execution_count": 1,
   "metadata": {},
   "outputs": [
    {
     "name": "stdout",
     "output_type": "stream",
     "text": [
      "Found existing installation: iot-device 0.4.9\u001b[0m\n",
      "Uninstalling iot-device-0.4.9:\u001b[0m\n",
      "  Successfully uninstalled iot-device-0.4.9\u001b[0m\n",
      "rm -rf dist\u001b[0m\n",
      "rm -rf *egg-info\u001b[0m\n",
      "rm -rf iot_device/__pycache__\u001b[0m\n",
      "warning: no files found matching '.github/README.md'\u001b[0m\n",
      "warning: no previously-included files matching '__pycache__' found anywhere in distribution\u001b[0m\n",
      "warning: no previously-included files matching '*.py[co]' found anywhere in distribution\u001b[0m\n",
      "Found existing installation: iot-kernel 0.4.9\u001b[0m\n",
      "Uninstalling iot-kernel-0.4.9:\u001b[0m\n",
      "  Successfully uninstalled iot-kernel-0.4.9\u001b[0m\n",
      "rm -rf dist\u001b[0m\n",
      "rm -rf iot_kernel.egg-info\u001b[0m\n",
      "rm -rf iot_kernel/__pycache__\u001b[0m\n"
     ]
    }
   ],
   "source": [
    "%%bash\n",
    "\n",
    "cd $IOT/iot-device\n",
    "pip uninstall -y iot-device\n",
    "cd $IOT/iot-device\n",
    "make clean\n",
    "python3 setup.py install >/dev/null\n",
    "\n",
    "cd $IOT/iot-kernel\n",
    "pip uninstall -y iot-kernel\n",
    "cd $IOT/iot-kernel\n",
    "make clean\n",
    "python3 setup.py install >/dev/null"
   ]
  },
  {
   "cell_type": "code",
   "execution_count": 1,
   "metadata": {},
   "outputs": [
    {
     "name": "stdout",
     "output_type": "stream",
     "text": [
      "\u001b[0mstm32  serial:///dev/cu.usbmodem2062307A42521  \u001b[0m\n"
     ]
    }
   ],
   "source": [
    "%discover"
   ]
  },
  {
   "cell_type": "code",
   "execution_count": 2,
   "metadata": {},
   "outputs": [
    {
     "name": "stdout",
     "output_type": "stream",
     "text": [
      "MCU: stm32\n",
      "  /                              (946710000, -1)\n",
      "  /flash                         (946710000, -1)\n",
      "  /flash/boot.py                 (1617306916, 372)\n",
      "  /flash/lib                     (946710000, -1)\n",
      "  /flash/lib/bdevice.py          (1617306937, 6644)\n",
      "  /flash/lib/flash_spi.py        (1614298624, 6731)\n",
      "  /spi                           (946710000, -1)\n",
      "  /spi/lib                       (946710000, -1)\n",
      "  /spi/lib/bno055.py             (1617306907, 6491)\n",
      "  /spi/lib/bno055_base.py        (1617306908, 5598)\n",
      "  /spi/lib/bno055_test.py        (1617306908, 1078)\n",
      "  /spi/lib/comm.py               (1617306909, 4512)\n",
      "  /spi/lib/controller.py         (1617306909, 4233)\n",
      "  /spi/lib/encoder.py            (1617306910, 2073)\n",
      "  /spi/lib/init_urpc_client.py   (1617306910, 244)\n",
      "  /spi/lib/logging.py            (1617306911, 2094)\n",
      "  /spi/lib/neopixel.py           (1617306911, 1174)\n",
      "  /spi/lib/pid.py                (1617306911, 2531)\n",
      "  /spi/lib/pystone.py            (1617306912, 7813)\n",
      "  /spi/lib/secrets.py            (1617306912, 317)\n",
      "  /spi/lib/tb6612.py             (1617306913, 978)\n",
      "  /spi/lib/vl53l0x.py            (1617306915, 22299)\n",
      "  /spi/lib/vl53l1x.py            (1617306915, 7376)\n",
      "\n"
     ]
    }
   ],
   "source": [
    "%%host\n",
    "\n",
    "# mcu_files\n",
    "\n",
    "from iot_device import DeviceRegistry, RemoteError\n",
    "import tempfile, os, io\n",
    "\n",
    "registry = DeviceRegistry()\n",
    "\n",
    "for dev in registry.devices:\n",
    "    print(\"MCU:\", dev.name)\n",
    "    with dev as repl:\n",
    "        for k,v in repl.rlist().items():\n",
    "            print(f\"  {k:30} {v}\")\n",
    "    print()"
   ]
  },
  {
   "cell_type": "code",
   "execution_count": 3,
   "metadata": {},
   "outputs": [
    {
     "name": "stdout",
     "output_type": "stream",
     "text": [
      "MCU: stm32\n",
      "  /flash                         (0, -1, '.')\n",
      "  /                              (0, -1, '.')\n",
      "  /flash/                        (0, -1, '.')\n",
      "  /flash/boot.py                 (1616274176, 372, 'boards/stm32/code/boot/boot.py')\n",
      "  /flash/lib/flash_spi.py        (1616274176, 6731, 'boards/stm32/code/boot/lib/flash_spi.py')\n",
      "  /flash/lib/bdevice.py          (1616274176, 6644, 'boards/stm32/code/boot/lib/bdevice.py')\n",
      "  /spi                           (0, -1, '.')\n",
      "  /spi/lib                       (0, -1, '.')\n",
      "  /flash/lib                     (1614299576, -1, 'boards/stm32/code/boot/lib')\n",
      "  /spi/lib/secrets.py            (1614186548, 317, 'config/secrets.py')\n",
      "  /spi/lib/init_urpc_client.py   (1616274176, 244, 'boards/stm32/code/base/init_urpc_client.py')\n",
      "  /spi/lib/neopixel.py           (1616274176, 1174, 'boards/stm32/code/base/neopixel.py')\n",
      "  /spi/lib/logging.py            (1615575052, 2094, 'projects/robot/code-stm32/logging.py')\n",
      "  /spi/lib/controller.py         (1617123746, 4233, 'projects/robot/code-stm32/controller.py')\n",
      "  /spi/lib/comm.py               (1617073255, 4512, 'projects/robot/code-stm32/comm.py')\n",
      "  /spi/lib/pid.py                (1617075786, 2531, 'projects/robot/code-stm32/pid.py')\n",
      "  /spi/lib/encoder.py            (1615575052, 2073, 'projects/robot/code-stm32/encoder.py')\n",
      "  /spi/lib/tb6612.py             (1616987122, 978, 'projects/robot/code-stm32/tb6612.py')\n",
      "  /spi/lib/bno055.py             (1615575052, 6491, 'boards/libs/bno055/bno055.py')\n",
      "  /spi/lib/bno055_test.py        (1615575052, 1078, 'boards/libs/bno055/bno055_test.py')\n",
      "  /spi/lib/bno055_base.py        (1615575052, 5598, 'boards/libs/bno055/bno055_base.py')\n",
      "  /spi/lib/vl53l0x.py            (1616198093, 22299, 'boards/libs/vl53l0x/vl53l0x.py')\n",
      "  /spi/lib/vl53l1x.py            (1616200511, 7376, 'boards/libs/vl53l1x/vl53l1x.py')\n",
      "  /spi/lib/pystone.py            (1616008273, 7813, 'boards/libs/pystone/pystone.py')\n",
      "\n"
     ]
    }
   ],
   "source": [
    "%%host\n",
    "\n",
    "# _host_files\n",
    "\n",
    "from iot_device import DeviceRegistry, RemoteError\n",
    "import tempfile, os, io\n",
    "\n",
    "registry = DeviceRegistry()\n",
    "\n",
    "for dev in registry.devices:\n",
    "    print(\"MCU:\", dev.name)\n",
    "    with dev as repl:\n",
    "        for k,v in repl._host_files().items():\n",
    "            print(f\"  {k:30} {v}\")\n",
    "    print()"
   ]
  },
  {
   "cell_type": "code",
   "execution_count": 4,
   "metadata": {
    "tags": []
   },
   "outputs": [
    {
     "name": "stdout",
     "output_type": "stream",
     "text": [
      "boot.py                        /flash/         boards/stm32/code/boot\n",
      "lib/flash_spi.py               /flash/         boards/stm32/code/boot\n",
      "lib/bdevice.py                 /flash/         boards/stm32/code/boot\n",
      ".                              /spi/lib        boards/libs/pystone/\n",
      "lib                            /flash/         boards/stm32/code/boot\n",
      "secrets.py                     /spi/lib        config\n",
      "init_urpc_client.py            /spi/lib        boards/stm32/code/base\n",
      "neopixel.py                    /spi/lib        boards/stm32/code/base\n",
      "logging.py                     /spi/lib        projects/robot/code-stm32\n",
      "controller.py                  /spi/lib        projects/robot/code-stm32\n",
      "comm.py                        /spi/lib        projects/robot/code-stm32\n",
      "pid.py                         /spi/lib        projects/robot/code-stm32\n",
      "encoder.py                     /spi/lib        projects/robot/code-stm32\n",
      "tb6612.py                      /spi/lib        projects/robot/code-stm32\n",
      "bno055.py                      /spi/lib        boards/libs/bno055\n",
      "bno055_test.py                 /spi/lib        boards/libs/bno055\n",
      "bno055_base.py                 /spi/lib        boards/libs/bno055\n",
      "vl53l0x.py                     /spi/lib        boards/libs/vl53l0x\n",
      "vl53l1x.py                     /spi/lib        boards/libs/vl53l1x\n",
      "pystone.py                     /spi/lib        boards/libs/pystone/\n"
     ]
    }
   ],
   "source": [
    "%%host\n",
    "\n",
    "# DeviceConfig.files()\n",
    "\n",
    "from iot_device import DeviceRegistry, Config\n",
    "\n",
    "registry = DeviceRegistry()\n",
    "\n",
    "for dev in registry.devices:\n",
    "    for file_path,v in dev.files.items():\n",
    "        mcu_path, host_path = v       \n",
    "        print(f\"{file_path:30} {mcu_path:15} {host_path}\")\n"
   ]
  },
  {
   "cell_type": "code",
   "execution_count": 5,
   "metadata": {
    "tags": []
   },
   "outputs": [
    {
     "name": "stdout",
     "output_type": "stream",
     "text": [
      "MCU: stm32\n",
      "  Package stm32-boot\n",
      "    mcu_dest file path                      folder\n",
      "             boot.py                        boards/stm32/code/boot\n",
      "             lib/flash_spi.py               boards/stm32/code/boot\n",
      "             lib/bdevice.py                 boards/stm32/code/boot\n",
      "             .                              boards/stm32/code/boot\n",
      "             lib                            boards/stm32/code/boot\n",
      "  Package stm32\n",
      "    mcu_dest file path                      folder\n",
      "    lib      secrets.py                     config\n",
      "    lib      init_urpc_client.py            boards/stm32/code/base\n",
      "    lib      neopixel.py                    boards/stm32/code/base\n",
      "    lib      .                              projects/robot/code-stm32\n",
      "    lib      logging.py                     projects/robot/code-stm32\n",
      "    lib      controller.py                  projects/robot/code-stm32\n",
      "    lib      comm.py                        projects/robot/code-stm32\n",
      "    lib      pid.py                         projects/robot/code-stm32\n",
      "    lib      encoder.py                     projects/robot/code-stm32\n",
      "    lib      tb6612.py                      projects/robot/code-stm32\n",
      "  Package bno055\n",
      "    mcu_dest file path                      folder\n",
      "    lib      bno055.py                      boards/libs/bno055\n",
      "    lib      bno055_test.py                 boards/libs/bno055\n",
      "    lib      bno055_base.py                 boards/libs/bno055\n",
      "    lib      .                              boards/libs/bno055\n",
      "  Package vl53l0x\n",
      "    mcu_dest file path                      folder\n",
      "    lib      vl53l0x.py                     boards/libs/vl53l0x\n",
      "    lib      .                              boards/libs/vl53l0x\n",
      "  Package vl53l1x\n",
      "    mcu_dest file path                      folder\n",
      "    lib      vl53l1x.py                     boards/libs/vl53l1x\n",
      "    lib      .                              boards/libs/vl53l1x\n",
      "  Package pystone\n",
      "    mcu_dest file path                      folder\n",
      "    lib      pystone.py                     boards/libs/pystone/\n",
      "    lib      .                              boards/libs/pystone/\n",
      "\n"
     ]
    }
   ],
   "source": [
    "%%host\n",
    "\n",
    "# Package.files()\n",
    "\n",
    "from iot_device import DeviceRegistry\n",
    "\n",
    "registry = DeviceRegistry()\n",
    "\n",
    "for dev in registry.devices:    \n",
    "    print(\"MCU:\", dev.name)\n",
    "    pkgs = dev.packages\n",
    "    for package in pkgs:\n",
    "        print(f\"  Package {package.name}\")\n",
    "        print(f\"    mcu_dest file path                      folder\")\n",
    "        for k,v in package.files().items():\n",
    "            print(f\"    {package.mcu_dest:8} {k:30} {v}\")\n",
    "    print()"
   ]
  },
  {
   "cell_type": "code",
   "execution_count": null,
   "metadata": {},
   "outputs": [],
   "source": []
  }
 ],
 "metadata": {
  "kernelspec": {
   "display_name": "Python 3",
   "language": "python",
   "name": "python3"
  },
  "language_info": {
   "codemirror_mode": {
    "name": "ipython",
    "version": 3
   },
   "file_extension": ".py",
   "mimetype": "text/x-python",
   "name": "python",
   "nbconvert_exporter": "python",
   "pygments_lexer": "ipython3",
   "version": "3.8.2"
  }
 },
 "nbformat": 4,
 "nbformat_minor": 4
}
