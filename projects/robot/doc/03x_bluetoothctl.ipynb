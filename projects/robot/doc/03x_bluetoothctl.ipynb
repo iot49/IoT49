{
 "cells": [
  {
   "cell_type": "markdown",
   "id": "4ed90eaa",
   "metadata": {},
   "source": [
    "# Install BlueZ 5.51\n",
    "\n"
   ]
  },
  {
   "cell_type": "markdown",
   "id": "e1718fc8",
   "metadata": {},
   "source": [
    "## Install from scratch\n",
    "\n",
    "* https://www.linuxfromscratch.org/blfs/view/svn/general/bluez.html"
   ]
  },
  {
   "cell_type": "code",
   "execution_count": null,
   "id": "25b6eddf",
   "metadata": {},
   "outputs": [],
   "source": [
    "%%bash\n",
    "\n",
    "cd ~\n",
    "wget http://www.kernel.org/pub/linux/bluetooth/bluez-5.51.tar.xz\n",
    "tar -xvf bluez-5.51.tar.xz\n",
    "cd ~bluez-5.51/\n",
    "\n",
    "./configure \\\n",
    "    --prefix=/usr \\\n",
    "    --mandir=/usr/share/man \\\n",
    "    --sysconfdir=/etc \\\n",
    "    --localstatedir=/var \\\n",
    "    --enable-experimental \\\n",
    "    --enable-library\n",
    "\n",
    "./configure \\\n",
    "    --enable-testing \\\n",
    "    --enable-tools \\\n",
    "    --prefix=/usr \\\n",
    "    --mandir=/usr/share/man \\\n",
    "    --sysconfdir=/etc \\\n",
    "    --localstatedir=/var\n",
    "\n",
    "sudo make\n",
    "sudo make check\n",
    "sudo make install"
   ]
  },
  {
   "cell_type": "code",
   "execution_count": 1,
   "id": "f78beb96",
   "metadata": {},
   "outputs": [
    {
     "name": "stdout",
     "output_type": "stream",
     "text": [
      "5.51\u001b[0m\n"
     ]
    }
   ],
   "source": [
    "%%bash\n",
    "\n",
    "sudo cp /usr/lib/bluetooth/bluetoothd /usr/lib/bluetooth/bluetoothd-550.orig\n",
    "sudo ln -sf /usr/libexec/bluetooth/bluetoothd /usr/lib/bluetooth/bluetoothd \n",
    "\n",
    "# Verify we have V 5.51\n",
    "bluetoothd -v"
   ]
  },
  {
   "cell_type": "code",
   "execution_count": null,
   "id": "edb9df6a",
   "metadata": {},
   "outputs": [],
   "source": [
    "sudo apt-get install -y bluetooth\n",
    "sudo apt-get install -y bluez-tools \n",
    "sudo apt-get install -y rfkill \n",
    "sudo apt-get install -y rfcomm"
   ]
  },
  {
   "cell_type": "markdown",
   "id": "9545234b",
   "metadata": {},
   "source": [
    "# \"Simple\" install? (doesn't work)\n",
    "\n",
    "Similar to complicated (below), but skips a few steps, especially editing configuration files. Worth a try!\n",
    "\n",
    "https://github.com/VernierST/godirect-py/issues/19"
   ]
  },
  {
   "cell_type": "code",
   "execution_count": null,
   "id": "15774e3d",
   "metadata": {},
   "outputs": [],
   "source": [
    "%%bash\n",
    "\n",
    "sudo apt-get install libdbus-1-dev libglib2.0-dev libudev-dev libical-dev libreadline-dev\n",
    "wget www.kernel.org/pub/linux/bluetooth/bluez-5.51.tar.xz\n",
    "tar xvf bluez-5.51.tar.xz \n",
    "cd bluez-5.51\n",
    "./configure --prefix=/usr --mandir=/usr/share/man --sysconfdir=/etc --localstatedir=/var --enable-experimental \n",
    "make -j4\n",
    "sudo make install"
   ]
  },
  {
   "cell_type": "markdown",
   "id": "a09441c6",
   "metadata": {},
   "source": [
    "# Complicated Install\n",
    "\n",
    "https://www.bluetooth.com/wp-content/uploads/2020/04/Developer-Study-Guide-How-to-Deploy-BlueZ-on-a-Raspberry-Pi-Board-as-a-Bluetooth-Mesh-Provisioner.pdf"
   ]
  },
  {
   "cell_type": "markdown",
   "id": "2e6df67a",
   "metadata": {},
   "source": [
    "## json-c installation - SKIP?"
   ]
  },
  {
   "cell_type": "code",
   "execution_count": null,
   "id": "82d20728",
   "metadata": {},
   "outputs": [],
   "source": [
    "%%bash\n",
    "\n",
    "sudo apt-get update\n",
    "sudo apt-get install -y autoconf\n",
    "\n",
    "cd ~\n",
    "wget https://s3.amazonaws.com/json-c_releases/releases/json-c-0.13.tar.gz\n",
    "tar -xvf json-c-0.13.tar.gz\n",
    "cd json-c-0.13/\n",
    "./configure --prefix=/usr --disable-static && make\n",
    "sudo make install"
   ]
  },
  {
   "cell_type": "markdown",
   "id": "f8e8629b",
   "metadata": {},
   "source": [
    "## Get Bluez Source Code & Compile"
   ]
  },
  {
   "cell_type": "code",
   "execution_count": null,
   "id": "ae6ba50f",
   "metadata": {},
   "outputs": [],
   "source": [
    "%%bash\n",
    "\n",
    "sudo apt-get install libdbus-1-dev libudev-dev libical-dev libreadline-dev"
   ]
  },
  {
   "cell_type": "code",
   "execution_count": null,
   "id": "051fbcc5",
   "metadata": {},
   "outputs": [],
   "source": [
    "%%bash\n",
    "\n",
    "cd ~\n",
    "wget http://www.kernel.org/pub/linux/bluetooth/bluez-5.51.tar.xz\n",
    "tar -xvf bluez-5.51.tar.xz\n",
    "cd bluez-5.51/"
   ]
  },
  {
   "cell_type": "code",
   "execution_count": null,
   "id": "89482e30",
   "metadata": {},
   "outputs": [],
   "source": [
    "%%bash\n",
    "\n",
    "./configure --enable-mesh --enable-testing --enable-tools --prefix=/usr --mandir=/usr/share/man --\n",
    "sysconfdir=/etc --localstatedir=/var\n",
    "sudo make\n",
    "sudo make install"
   ]
  },
  {
   "cell_type": "markdown",
   "id": "e9f5ae4f",
   "metadata": {},
   "source": [
    "**Not needed** Already points to this file. \n",
    "\n",
    "Edit `/lib/systemd/system/bluetooth.service` and have **ExecStart** point to `/usr/libexec/bluetooth/bluetoothd`."
   ]
  },
  {
   "cell_type": "markdown",
   "id": "3bbe13ca",
   "metadata": {},
   "source": [
    "It’s still not enough. You still need to create a symlink from the old bluetoothd to the new one. First, rename the old file for backup. Type below command."
   ]
  },
  {
   "cell_type": "code",
   "execution_count": 1,
   "id": "28bedf4f",
   "metadata": {},
   "outputs": [
    {
     "name": "stdout",
     "output_type": "stream",
     "text": [
      "cp: cannot stat '/home/pi/bluez-5.51/tools/mesh-gatt/local_node.json': No such file or directory\u001b[0m\n",
      "cp: cannot stat '/home/pi/bluez-5.51/tools/mesh-gatt/prov_db.json': No such file or directory\u001b[0m\n",
      "5.51\u001b[0m\n",
      "/bin/sh: 9: meshctl: not found\u001b[0m\n",
      "/bin/sh: 12: mesh-cfgclient: not found\u001b[0m\n"
     ]
    }
   ],
   "source": [
    "%%bash\n",
    "\n",
    "sudo cp /usr/lib/bluetooth/bluetoothd /usr/lib/bluetooth/bluetoothd-550.orig\n",
    "sudo ln -sf /usr/libexec/bluetooth/bluetoothd /usr/lib/bluetooth/bluetoothd\n",
    "sudo systemctl daemon-reload\n",
    "# cd ~/.config/\n",
    "# mkdir meshctl\n",
    "# cp ~/bluez-5.51/tools/mesh-gatt/local_node.json ~/.config/meshctl/\n",
    "# cp ~/bluez-5.51/tools/mesh-gatt/prov_db.json ~/.config/meshctl/\n",
    "bluetoothd -v\n",
    "# meshctl -v\n",
    "\n",
    "# not found\n",
    "# mesh-cfgclient -v"
   ]
  },
  {
   "cell_type": "code",
   "execution_count": null,
   "id": "7bb2fb52",
   "metadata": {},
   "outputs": [],
   "source": []
  }
 ],
 "metadata": {
  "kernelspec": {
   "display_name": "IoT",
   "language": "python",
   "name": "iot_kernel"
  },
  "language_info": {
   "codemirror_mode": {
    "name": "python",
    "version": 3
   },
   "file_extension": ".py",
   "mimetype": "text/x-python",
   "name": "python",
   "pygments_lexer": "python3",
   "version": "3"
  }
 },
 "nbformat": 4,
 "nbformat_minor": 5
}
