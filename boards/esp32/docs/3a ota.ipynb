{
 "cells": [
  {
   "cell_type": "markdown",
   "metadata": {},
   "source": [
    "# ESP32 OTA"
   ]
  },
  {
   "cell_type": "code",
   "execution_count": null,
   "metadata": {},
   "outputs": [],
   "source": [
    "%discover\n",
    "!echo\n",
    "%connect cop32-esp"
   ]
  },
  {
   "cell_type": "code",
   "execution_count": 10,
   "metadata": {},
   "outputs": [
    {
     "name": "stdout",
     "output_type": "stream",
     "text": [
      "\u001b[0m\u001b[34mUPDATE  lib/ota.py\n",
      "\u001b[0m\u001b[0m\u001b[0m\n",
      "\u001b[0m\u001b[46m\u001b[31m!!!!!!!!!!!!!!!!!!!!!!!!!!!!!!!\n",
      "\u001b[0m\u001b[46m\u001b[31m!!!!!      softreset      !!!!!\n",
      "\u001b[0m\u001b[46m\u001b[31m!!!!!!!!!!!!!!!!!!!!!!!!!!!!!!!\n",
      "\u001b[0m\n",
      "\u001b[0m"
     ]
    }
   ],
   "source": [
    "%rsync\n",
    "%softreset"
   ]
  },
  {
   "cell_type": "code",
   "execution_count": null,
   "metadata": {},
   "outputs": [],
   "source": [
    "import network\n",
    "\n",
    "wlan = network.WLAN(network.STA_IF)\n",
    "\n",
    "print(wlan.isconnected())\n",
    "print(wlan.ifconfig())"
   ]
  },
  {
   "cell_type": "code",
   "execution_count": null,
   "metadata": {},
   "outputs": [],
   "source": [
    "%%bash\n",
    "\n",
    "cd $IOT49/iotpython\n",
    "git checkout mp-msgpack\n",
    "cd ports/esp32/build-GENERIC_OTA\n",
    "echo\n",
    "\n",
    "sha256sum application.bin"
   ]
  },
  {
   "cell_type": "code",
   "execution_count": null,
   "metadata": {},
   "outputs": [],
   "source": [
    "%softreset\n",
    "%rsync\n",
    "\n",
    "from ota import OTA\n",
    "\n",
    "sha = \"85742c73f9478c49b105d33c72c222dc92bfca8318f251bca2be7160e92b8e10\"\n",
    "url = 'http://10.39.40.114:8000/application.bin'\n",
    "\n",
    "ota = OTA()\n",
    "ota.ota(url, sha)"
   ]
  },
  {
   "cell_type": "markdown",
   "metadata": {},
   "source": [
    "## Partitions"
   ]
  },
  {
   "cell_type": "code",
   "execution_count": null,
   "metadata": {},
   "outputs": [],
   "source": [
    "from esp32 import Partition"
   ]
  },
  {
   "cell_type": "code",
   "execution_count": null,
   "metadata": {},
   "outputs": [],
   "source": [
    "for p in Partition.find(Partition.TYPE_APP):\n",
    "    print(p)"
   ]
  },
  {
   "cell_type": "code",
   "execution_count": null,
   "metadata": {},
   "outputs": [],
   "source": [
    "for p in Partition.find(Partition.TYPE_DATA):\n",
    "    print(p)"
   ]
  },
  {
   "cell_type": "code",
   "execution_count": null,
   "metadata": {},
   "outputs": [],
   "source": [
    "print(Partition(Partition.RUNNING).get_next_update())"
   ]
  },
  {
   "cell_type": "code",
   "execution_count": null,
   "metadata": {},
   "outputs": [],
   "source": [
    "print(Partition(Partition.RUNNING))"
   ]
  }
 ],
 "metadata": {
  "kernelspec": {
   "display_name": "IoT",
   "language": "python",
   "name": "iot_kernel"
  },
  "language_info": {
   "codemirror_mode": {
    "name": "python",
    "version": 3
   },
   "file_extension": ".py",
   "mimetype": "text/x-python",
   "name": "python",
   "pygments_lexer": "python3",
   "version": "3"
  }
 },
 "nbformat": 4,
 "nbformat_minor": 4
}
