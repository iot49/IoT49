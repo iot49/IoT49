{
 "cells": [
  {
   "cell_type": "markdown",
   "id": "fb64d459",
   "metadata": {},
   "source": [
    "# `iot49` on Raspberry Pi\n",
    "\n",
    "1. Install\n",
    "    * [iot49 - SD Card with Pi OS, Jupyter & libs](install.ipynb)\n",
    "    * Optional:\n",
    "       * [Samba](samba.ipynb)\n",
    "       * [Syncthing](syncthing.ipynb)\n",
    "       * [Dropbox](dropbox.ipynb)\n",
    "       * [Backup](backup.ipynb)\n",
    "2. System\n",
    "    * [Pi Device Info & Maintenance](device_info.ipynb)\n",
    "    * [GPIO](https://pinout.xyz/)\n",
    "    * [Camera](camera.ipynb)\n",
    "3. Jupyter Lab\n",
    "    * [Jupyter Service](jupyter_service.ipynb)\n",
    "    * [Matplotlib](matplotlib.ipynb)\n",
    "4. MicroPython on Pi\n",
    "    * [Configure Pi UART](pi_uart.ipynb)\n",
    "    * [REPL on Pi UART](mp_uart_repl.ipynb)\n",
    "    * [stm32flasher](stm32flasher.ipynb)\n",
    "5. Upgrade\n",
    "    * [Upgrade](upgrade.ipynb)\n"
   ]
  },
  {
   "cell_type": "code",
   "execution_count": null,
   "id": "62155f22",
   "metadata": {},
   "outputs": [],
   "source": []
  }
 ],
 "metadata": {
  "kernelspec": {
   "display_name": "Python 3",
   "language": "python",
   "name": "python3"
  },
  "language_info": {
   "codemirror_mode": {
    "name": "ipython",
    "version": 3
   },
   "file_extension": ".py",
   "mimetype": "text/x-python",
   "name": "python",
   "nbconvert_exporter": "python",
   "pygments_lexer": "ipython3",
   "version": "3.8.2"
  },
  "toc-autonumbering": false
 },
 "nbformat": 4,
 "nbformat_minor": 5
}
