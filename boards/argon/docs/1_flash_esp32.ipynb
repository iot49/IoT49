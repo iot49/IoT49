{
 "cells": [
  {
   "cell_type": "markdown",
   "metadata": {},
   "source": [
    "# Flash CircuitPython to Particle Mesh\n",
    "\n",
    "## Install Adafruit Bootloader (only once)\n",
    "\n",
    "* Instructions:\n",
    "  * [Particle specific](https://learn.adafruit.com/circuitpython-on-the-nrf52/build-flash-particle)\n",
    "  * [General](https://learn.adafruit.com/circuitpython-on-the-nrf52/overview)\n",
    "  \n",
    "* [Download Bootloader](https://github.com/adafruit/Adafruit_nRF52_Bootloader/releases)\n",
    " \n",
    "* Flash: Connect Particle via JLink and power the Particle device, then:\n",
    "   * `nrfjprog --program particle_argon*.hex --chiperase -f nrf52 --reset`"
   ]
  },
  {
   "cell_type": "markdown",
   "metadata": {},
   "source": [
    "## Install CircuitPython\n",
    "\n",
    "* [Download CircuitPython Binary](https://github.com/adafruit/circuitpython/releases)\n",
    "* Connect board, copy to `ARGONBOOT` folder\n",
    "  * It will disappear, replaced by `CIRCUITPY`\n"
   ]
  },
  {
   "cell_type": "markdown",
   "metadata": {},
   "source": [
    "## Install MicroPython on ESP32\n",
    "\n",
    "* [Instructions (look for Argon)](https://learn.adafruit.com/adding-a-wifi-co-processor-to-circuitpython-esp8266-esp32/firmware-upload)\n",
    "* Download ESP32 firmware for particle_argon (search above page)\n",
    "* Copy [miniesptool.py](https://github.com/adafruit/Adafruit_CircuitPython_miniesptool) to board\n",
    "* Copy firmware to ~/mcu/esp32: \n",
    "  * `github/espconnect/copy_firmware_to_mcu_esp32.sh`"
   ]
  },
  {
   "cell_type": "code",
   "execution_count": 1,
   "metadata": {},
   "outputs": [
    {
     "name": "stdout",
     "output_type": "stream",
     "text": [
      "copy   'esp32_firmware/firmware.bin'\n",
      "['__class__', '__init__', '__module__', '__name__', '__qualname__', 'baudrate', 'reset', 'sync', 'FLASH_WRITE_SIZE', 'FLASH_SECTOR_SIZE', 'ESP_ROM_BAUD', 'debug', 'md5', 'mac_addr', 'chip_type', 'chip_name', '_read_efuses', 'get_erase_size', 'flash_begin', 'check_command', 'send_command', 'get_response', 'read_r_r', EPL; CTRL-B to exit\n",
      "nRF52840\n",
      ">>> \n",
      "1a4769-dirty on 2019-0gister', 'flash_block', 'flash_file', '_sync', 'checksum', 'slip_encode']\n"
     ]
    }
   ],
   "source": [
    "%rsync\n",
    "from adafruit_miniesptool import miniesptool\n",
    "print(dir(miniesptool))"
   ]
  },
  {
   "cell_type": "markdown",
   "metadata": {},
   "source": [
    "### Copy firmware to ESP32 with `miniesptool_esp32argon.py`:\n",
    "* __Note:__ this is VERY slow (~ 6 minutes)\n",
    "  * Use OTA for future uploads!\n",
    "* __TODO__: check `md5` signature"
   ]
  },
  {
   "cell_type": "code",
   "execution_count": 1,
   "metadata": {},
   "outputs": [
    {
     "name": "stdout",
     "output_type": "stream",
     "text": [
      "\n"
     ]
    },
    {
     "name": "stderr",
     "output_type": "stream",
     "text": [
      "!!!!!!!!!!!!!!!!!!!!!!!!!!!!!!!\n",
      "!!!!!      softreset      !!!!!\n",
      "!!!!!!!!!!!!!!!!!!!!!!!!!!!!!!!\n"
     ]
    },
    {
     "name": "stdout",
     "output_type": "stream",
     "text": [
      "\n",
      "Directories match\n",
      "Flash ESP32 on Particle Argon\n",
      "Resetting\n",
      "Synced\n",
      "Found: ESP32\n",
      "MAC ADDR:  ['0x30', '0xae', '0xa4', '0xd1', '0x73', '0x98']\n",
      "\n",
      "Writing /esp32_firmware/bootloader_dio_40m.bin w/filesize: 16176\n",
      "Erase size 16176, num_blocks 16, size 1024, offset 0x1000\n",
      "Took 0.10s to erase 16 flash blocks\n",
      "Writing at 0x00001000... (6 %)Writing at 0x00001400... (12 %)Writing at 0x00001800... (18 %)Writing at 0x00001c00... (25 %)Writing at 0x00002000... (31 %)Writing at 0x00002400... (37 %)Writing at 0x00002800... (43 %)Writing at 0x00002c00... (50 %)Writing at 0x00003000... (56 %)Writing at 0x00003400... (62 %)Writing at 0x00003800... (68 %)Writing at 0x00003c00... (75 %)Writing at 0x00004000... (81 %)Writing at 0x00004400... (87 %)Writing at 0x00004800... (93 %)Writing at 0x00004c00... (100 %)Took 2.69s to write 16176 bytes\n",
      "\n",
      "Writing /esp32_firmware/partitions.bin w/filesize: 3072\n",
      "Erase size 3072, num_blocks 3, size 1024, offset 0x8000\n",
      "Took 0.04s to erase 3 flash blocks\n",
      "Writing at 0x00008000... (33 %)Writing at 0x00008400... (66 %)Writing at 0x00008800... (100 %)Took 0.48s to write 3072 bytes\n",
      "\n",
      "Writing /esp32_firmware/boot_app0.bin w/filesize: 8192\n",
      "Erase size 8192, num_blocks 8, size 1024, offset 0xe000\n",
      "Took 0.06s to erase 8 flash blocks\n",
      "Writing at 0x0000e000... (12 %)Writing at 0x0000e400... (25 %)Writing at 0x0000e800... (37 %)Writing at 0x0000ec00... (50 %)Writing at 0x0000f000... (62 %)Writing at 0x0000f400... (75 %)Writing at 0x0000f800... (87 %)Writing at 0x0000fc00... (100 %)Took 1.31s to write 8192 bytes\n",
      "\n",
      "Writing /esp32_firmware/firmware.bin w/filesize: 833424\n",
      "Erase size 833424, num_blocks 814, size 1024, offset 0x10000\n",
      "Took 3.41s to erase 814 flash blocks\n",
      "Writing at 0x00010000... (0 %)Writing at 0x00010400... (0 %)Writing at 0x00010800... (0 %)Writing at 0x00010c00... (0 %)Writing at 0x00011000... (0 %)Writing at 0x00011400... (0 %)Writing at 0x00011800... (0 %)Writing at 0x00011c00... (0 %)Writing at 0x00012000... (1 %)Writing at 0x00012400... (1 %)Writing at 0x00012800... (1 %)Writing at 0x00012c00... (1 %)Writing at 0x00013000... (1 %)Writing at 0x00013400... (1 %)Writing at 0x00013800... (1 %)Writing at 0x00013c00... (1 %)Writing at 0x00014000... (2 %)Writing at 0x00014400... (2 %)Writing at 0x00014800... (2 %)Writing at 0x00014c00... (2 %)Writing at 0x00015000... (2 %)Writing at 0x00015400... (2 %)Writing at 0x00015800... (2 %)Writing at 0x00015c00... (2 %)Writing at 0x00016000... (3 %)Writing at 0x00016400... (3 %)Writing at 0x00016800... (3 %)Writing at 0x00016c00... (3 %)Writing at 0x00017000... (3 %)Writing at 0x00017400... (3 %)Writing at 0x00017800... (3 %)Writing at 0x00017c00... (3 %)Writing at 0x00018000... (4 %)Writing at 0x00018400... (4 %)Writing at 0x00018800... (4 %)Writing at 0x00018c00... (4 %)Writing at 0x00019000... (4 %)Writing at 0x00019400... (4 %)Writing at 0x00019800... (4 %)Writing at 0x00019c00... (4 %)Writing at 0x0001a000... (5 %)Writing at 0x0001a400... (5 %)Writing at 0x0001a800... (5 %)Writing at 0x0001ac00... (5 %)Writing at 0x0001b000... (5 %)Writing at 0x0001b400... (5 %)Writing at 0x0001b800... (5 %)Writing at 0x0001bc00... (5 %)Writing at 0x0001c000... (6 %)Writing at 0x0001c400... (6 %)Writing at 0x0001c800... (6 %)Writing at 0x0001cc00... (6 %)Writing at 0x0001d000... (6 %)Writing at 0x0001d400... (6 %)Writing at 0x0001d800... (6 %)Writing at 0x0001dc00... (6 %)Writing at 0x0001e000... (7 %)Writing at 0x0001e400... (7 %)Writing at 0x0001e800... (7 %)Writing at 0x0001ec00... (7 %)Writing at 0x0001f000... (7 %)Writing at 0x0001f400... (7 %)Writing at 0x0001f800... (7 %)Writing at 0x0001fc00... (7 %)Writing at 0x00020000... (7 %)Writing at 0x00020400... (8 %)Writing at 0x00020800... (8 %)Writing at 0x00020c00... (8 %)Writing at 0x00021000... (8 %)Writing at 0x00021400... (8 %)Writing at 0x00021800... (8 %)Writing at 0x00021c00... (8 %)Writing at 0x00022000... (8 %)Writing at 0x00022400... (9 %)Writing at 0x00022800... (9 %)Writing at 0x00022c00... (9 %)Writing at 0x00023000... (9 %)Writing at 0x00023400... (9 %)Writing at 0x00023800... (9 %)Writing at 0x00023c00... (9 %)Writing at 0x00024000... (9 %)Writing at 0x00024400... (10 %)Writing at 0x00024800... (10 %)Writing at 0x00024c00... (10 %)Writing at 0x00025000... (10 %)Writing at 0x00025400... (10 %)Writing at 0x00025800... (10 %)Writing at 0x00025c00... (10 %)Writing at 0x00026000... (10 %)Writing at 0x00026400... (11 %)Writing at 0x00026800... (11 %)Writing at 0x00026c00... (11 %)Writing at 0x00027000... (11 %)Writing at 0x00027400... (11 %)Writing at 0x00027800... (11 %)Writing at 0x00027c00... (11 %)Writing at 0x00028000... (11 %)Writing at 0x00028400... (12 %)Writing at 0x00028800... (12 %)Writing at 0x00028c00... (12 %)Writing at 0x00029000... (12 %)Writing at 0x00029400... (12 %)Writing at 0x00029800... (12 %)Writing at 0x00029c00... (12 %)Writing at 0x0002a000... (12 %)Writing at 0x0002a400... (13 %)Writing at 0x0002a800... (13 %)Writing at 0x0002ac00... (13 %)Writing at 0x0002b000... (13 %)Writing at 0x0002b400... (13 %)Writing at 0x0002b800... (13 %)Writing at 0x0002bc00... (13 %)Writing at 0x0002c000... (13 %)Writing at 0x0002c400... (14 %)Writing at 0x0002c800... (14 %)Writing at 0x0002cc00... (14 %)Writing at 0x0002d000... (14 %)Writing at 0x0002d400... (14 %)Writing at 0x0002d800... (14 %)Writing at 0x0002dc00... (14 %)Writing at 0x0002e000... (14 %)Writing at 0x0002e400... (14 %)Writing at 0x0002e800... (15 %)Writing at 0x0002ec00... (15 %)Writing at 0x0002f000... (15 %)Writing at 0x0002f400... (15 %)Writing at 0x0002f800... (15 %)Writing at 0x0002fc00... (15 %)Writing at 0x00030000... (15 %)Writing at 0x00030400... (15 %)Writing at 0x00030800... (16 %)Writing at 0x00030c00... (16 %)Writing at 0x00031000... (16 %)Writing at 0x00031400... (16 %)Writing at 0x00031800... (16 %)Writing at 0x00031c00... (16 %)Writing at 0x00032000... (16 %)Writing at 0x00032400... (16 %)Writing at 0x00032800... (17 %)Writing at 0x00032c00... (17 %)Writing at 0x00033000... (17 %)Writing at 0x00033400... (17 %)Writing at 0x00033800... (17 %)Writing at 0x00033c00... (17 %)Writing at 0x00034000... (17 %)Writing at 0x00034400... (17 %)Writing at 0x00034800... (18 %)Writing at 0x00034c00... (18 %)Writing at 0x00035000... (18 %)Writing at 0x00035400... (18 %)Writing at 0x00035800... (18 %)Writing at 0x00035c00... (18 %)Writing at 0x00036000... (18 %)Writing at 0x00036400... (18 %)Writing at 0x00036800... (19 %)Writing at 0x00036c00... (19 %)Writing at 0x00037000... (19 %)Writing at 0x00037400... (19 %)Writing at 0x00037800... (19 %)Writing at 0x00037c00... (19 %)Writing at 0x00038000... (19 %)Writing at 0x00038400... (19 %)Writing at 0x00038800... (20 %)Writing at 0x00038c00... (20 %)Writing at 0x00039000... (20 %)Writing at 0x00039400... (20 %)Writing at 0x00039800... (20 %)Writing at 0x00039c00... (20 %)Writing at 0x0003a000... (20 %)Writing at 0x0003a400... (20 %)Writing at 0x0003a800... (21 %)Writing at 0x0003ac00... (21 %)Writing at 0x0003b000... (21 %)Writing at 0x0003b400... (21 %)Writing at 0x0003b800... (21 %)Writing at 0x0003bc00... (21 %)Writing at 0x0003c000... (21 %)Writing at 0x0003c400... (21 %)Writing at 0x0003c800... (21 %)Writing at 0x0003cc00... (22 %)Writing at 0x0003d000... (22 %)Writing at 0x0003d400... (22 %)Writing at 0x0003d800... (22 %)Writing at 0x0003dc00... (22 %)Writing at 0x0003e000... (22 %)Writing at 0x0003e400... (22 %)Writing at 0x0003e800... (22 %)Writing at 0x0003ec00... (23 %)Writing at 0x0003f000... (23 %)Writing at 0x0003f400... (23 %)Writing at 0x0003f800... (23 %)Writing at 0x0003fc00... (23 %)Writing at 0x00040000... (23 %)Writing at 0x00040400... (23 %)Writing at 0x00040800... (23 %)Writing at 0x00040c00... (24 %)Writing at 0x00041000... (24 %)Writing at 0x00041400... (24 %)Writing at 0x00041800... (24 %)Writing at 0x00041c00... (24 %)Writing at 0x00042000... (24 %)Writing at 0x00042400... (24 %)Writing at 0x00042800... (24 %)Writing at 0x00042c00... (25 %)Writing at 0x00043000... (25 %)Writing at 0x00043400... (25 %)Writing at 0x00043800... (25 %)Writing at 0x00043c00... (25 %)Writing at 0x00044000... (25 %)Writing at 0x00044400... (25 %)Writing at 0x00044800... (25 %)Writing at 0x00044c00... (26 %)Writing at 0x00045000... (26 %)Writing at 0x00045400... (26 %)Writing at 0x00045800... (26 %)Writing at 0x00045c00... (26 %)Writing at 0x00046000... (26 %)Writing at 0x00046400... (26 %)Writing at 0x00046800... (26 %)Writing at 0x00046c00... (27 %)Writing at 0x00047000... (27 %)Writing at 0x00047400... (27 %)Writing at 0x00047800... (27 %)Writing at 0x00047c00... (27 %)Writing at 0x00048000... (27 %)Writing at 0x00048400... (27 %)Writing at 0x00048800... (27 %)Writing at 0x00048c00... (28 %)Writing at 0x00049000... (28 %)Writing at 0x00049400... (28 %)Writing at 0x00049800... (28 %)Writing at 0x00049c00... (28 %)Writing at 0x0004a000... (28 %)Writing at 0x0004a400... (28 %)Writing at 0x0004a800... (28 %)Writing at 0x0004ac00... (28 %)Writing at 0x0004b000... (29 %)Writing at 0x0004b400... (29 %)Writing at 0x0004b800... (29 %)Writing at 0x0004bc00... (29 %)Writing at 0x0004c000... (29 %)Writing at 0x0004c400... (29 %)Writing at 0x0004c800... (29 %)Writing at 0x0004cc00... (29 %)Writing at 0x0004d000... (30 %)Writing at 0x0004d400... (30 %)Writing at 0x0004d800... (30 %)Writing at 0x0004dc00... (30 %)Writing at 0x0004e000... (30 %)Writing at 0x0004e400... (30 %)Writing at 0x0004e800... (30 %)Writing at 0x0004ec00... (30 %)Writing at 0x0004f000... (31 %)Writing at 0x0004f400... (31 %)Writing at 0x0004f800... (31 %)Writing at 0x0004fc00... (31 %)Writing at 0x00050000... (31 %)Writing at 0x00050400... (31 %)Writing at 0x00050800... (31 %)Writing at 0x00050c00... (31 %)Writing at 0x00051000... (32 %)Writing at 0x00051400... (32 %)Writing at 0x00051800... (32 %)Writing at 0x00051c00... (32 %)Writing at 0x00052000... (32 %)Writing at 0x00052400... (32 %)Writing at 0x00052800... (32 %)Writing at 0x00052c00... (32 %)Writing at 0x00053000... (33 %)Writing at 0x00053400... (33 %)Writing at 0x00053800... (33 %)Writing at 0x00053c00... (33 %)Writing at 0x00054000... (33 %)Writing at 0x00054400... (33 %)Writing at 0x00054800... (33 %)Writing at 0x00054c00... (33 %)Writing at 0x00055000... (34 %)Writing at 0x00055400... (34 %)Writing at 0x00055800... (34 %)Writing at 0x00055c00... (34 %)Writing at 0x00056000... (34 %)Writing at 0x00056400... (34 %)Writing at 0x00056800... (34 %)Writing at 0x00056c00... (34 %)Writing at 0x00057000... (35 %)Writing at 0x00057400... (35 %)Writing at 0x00057800... (35 %)Writing at 0x00057c00... (35 %)Writing at 0x00058000... (35 %)Writing at 0x00058400... (35 %)Writing at 0x00058800... (35 %)Writing at 0x00058c00... (35 %)Writing at 0x00059000... (35 %)Writing at 0x00059400... (36 %)Writing at 0x00059800... (36 %)Writing at 0x00059c00... (36 %)Writing at 0x0005a000... (36 %)Writing at 0x0005a400... (36 %)Writing at 0x0005a800... (36 %)Writing at 0x0005ac00... (36 %)Writing at 0x0005b000... (36 %)Writing at 0x0005b400... (37 %)Writing at 0x0005b800... (37 %)Writing at 0x0005bc00... (37 %)Writing at 0x0005c000... (37 %)Writing at 0x0005c400... (37 %)Writing at 0x0005c800... (37 %)Writing at 0x0005cc00... (37 %)Writing at 0x0005d000... (37 %)Writing at 0x0005d400... (38 %)Writing at 0x0005d800... (38 %)Writing at 0x0005dc00... (38 %)Writing at 0x0005e000... (38 %)Writing at 0x0005e400... (38 %)Writing at 0x0005e800... (38 %)Writing at 0x0005ec00... (38 %)Writing at 0x0005f000... (38 %)Writing at 0x0005f400... (39 %)Writing at 0x0005f800... (39 %)Writing at 0x0005fc00... (39 %)Writing at 0x00060000... (39 %)Writing at 0x00060400... (39 %)Writing at 0x00060800... (39 %)Writing at 0x00060c00... (39 %)Writing at 0x00061000... (39 %)Writing at 0x00061400... (40 %)Writing at 0x00061800... (40 %)Writing at 0x00061c00... (40 %)Writing at 0x00062000... (40 %)Writing at 0x00062400... (40 %)Writing at 0x00062800... (40 %)Writing at 0x00062c00... (40 %)Writing at 0x00063000... (40 %)Writing at 0x00063400... (41 %)Writing at 0x00063800... (41 %)Writing at 0x00063c00... (41 %)Writing at 0x00064000... (41 %)Writing at 0x00064400... (41 %)Writing at 0x00064800... (41 %)Writing at 0x00064c00... (41 %)Writing at 0x00065000... (41 %)Writing at 0x00065400... (42 %)Writing at 0x00065800... (42 %)Writing at 0x00065c00... (42 %)Writing at 0x00066000... (42 %)Writing at 0x00066400... (42 %)Writing at 0x00066800... (42 %)Writing at 0x00066c00... (42 %)Writing at 0x00067000... (42 %)Writing at 0x00067400... (42 %)Writing at 0x00067800... (43 %)Writing at 0x00067c00... (43 %)Writing at 0x00068000... (43 %)Writing at 0x00068400... (43 %)Writing at 0x00068800... (43 %)Writing at 0x00068c00... (43 %)Writing at 0x00069000... (43 %)Writing at 0x00069400... (43 %)Writing at 0x00069800... (44 %)Writing at 0x00069c00... (44 %)Writing at 0x0006a000... (44 %)Writing at 0x0006a400... (44 %)Writing at 0x0006a800... (44 %)Writing at 0x0006ac00... (44 %)Writing at 0x0006b000... (44 %)Writing at 0x0006b400... (44 %)Writing at 0x0006b800... (45 %)Writing at 0x0006bc00... (45 %)Writing at 0x0006c000... (45 %)Writing at 0x0006c400... (45 %)Writing at 0x0006c800... (45 %)Writing at 0x0006cc00... (45 %)Writing at 0x0006d000... (45 %)Writing at 0x0006d400... (45 %)Writing at 0x0006d800... (46 %)Writing at 0x0006dc00... (46 %)Writing at 0x0006e000... (46 %)Writing at 0x0006e400... (46 %)Writing at 0x0006e800... (46 %)Writing at 0x0006ec00... (46 %)Writing at 0x0006f000... (46 %)Writing at 0x0006f400... (46 %)Writing at 0x0006f800... (47 %)Writing at 0x0006fc00... (47 %)Writing at 0x00070000... (47 %)Writing at 0x00070400... (47 %)Writing at 0x00070800... (47 %)Writing at 0x00070c00... (47 %)Writing at 0x00071000... (47 %)Writing at 0x00071400... (47 %)Writing at 0x00071800... (48 %)Writing at 0x00071c00... (48 %)Writing at 0x00072000... (48 %)Writing at 0x00072400... (48 %)Writing at 0x00072800... (48 %)Writing at 0x00072c00... (48 %)Writing at 0x00073000... (48 %)Writing at 0x00073400... (48 %)Writing at 0x00073800... (49 %)Writing at 0x00073c00... (49 %)Writing at 0x00074000... (49 %)Writing at 0x00074400... (49 %)Writing at 0x00074800... (49 %)Writing at 0x00074c00... (49 %)Writing at 0x00075000... (49 %)Writing at 0x00075400... (49 %)Writing at 0x00075800... (50 %)Writing at 0x00075c00... (50 %)Writing at 0x00076000... (50 %)Writing at 0x00076400... (50 %)Writing at 0x00076800... (50 %)Writing at 0x00076c00... (50 %)Writing at 0x00077000... (50 %)Writing at 0x00077400... (50 %)Writing at 0x00077800... (50 %)Writing at 0x00077c00... (51 %)Writing at 0x00078000... (51 %)Writing at 0x00078400... (51 %)Writing at 0x00078800... (51 %)Writing at 0x00078c00... (51 %)Writing at 0x00079000... (51 %)Writing at 0x00079400... (51 %)Writing at 0x00079800... (51 %)Writing at 0x00079c00... (52 %)Writing at 0x0007a000... (52 %)Writing at 0x0007a400... (52 %)Writing at 0x0007a800... (52 %)Writing at 0x0007ac00... (52 %)Writing at 0x0007b000... (52 %)Writing at 0x0007b400... (52 %)Writing at 0x0007b800... (52 %)Writing at 0x0007bc00... (53 %)Writing at 0x0007c000... (53 %)Writing at 0x0007c400... (53 %)Writing at 0x0007c800... (53 %)Writing at 0x0007cc00... (53 %)Writing at 0x0007d000... (53 %)Writing at 0x0007d400... (53 %)Writing at 0x0007d800... (53 %)Writing at 0x0007dc00... (54 %)Writing at 0x0007e000... (54 %)Writing at 0x0007e400... (54 %)Writing at 0x0007e800... (54 %)Writing at 0x0007ec00... (54 %)Writing at 0x0007f000... (54 %)Writing at 0x0007f400... (54 %)Writing at 0x0007f800... (54 %)Writing at 0x0007fc00... (55 %)Writing at 0x00080000... (55 %)Writing at 0x00080400... (55 %)Writing at 0x00080800... (55 %)Writing at 0x00080c00... (55 %)Writing at 0x00081000... (55 %)Writing at 0x00081400... (55 %)Writing at 0x00081800... (55 %)Writing at 0x00081c00... (56 %)Writing at 0x00082000... (56 %)Writing at 0x00082400... (56 %)Writing at 0x00082800... (56 %)Writing at 0x00082c00... (56 %)Writing at 0x00083000... (56 %)Writing at 0x00083400... (56 %)Writing at 0x00083800... (56 %)Writing at 0x00083c00... (57 %)Writing at 0x00084000... (57 %)Writing at 0x00084400... (57 %)Writing at 0x00084800... (57 %)Writing at 0x00084c00... (57 %)Writing at 0x00085000... (57 %)Writing at 0x00085400... (57 %)Writing at 0x00085800... (57 %)Writing at 0x00085c00... (57 %)Writing at 0x00086000... (58 %)Writing at 0x00086400... (58 %)Writing at 0x00086800... (58 %)Writing at 0x00086c00... (58 %)Writing at 0x00087000... (58 %)Writing at 0x00087400... (58 %)Writing at 0x00087800... (58 %)Writing at 0x00087c00... (58 %)Writing at 0x00088000... (59 %)Writing at 0x00088400... (59 %)Writing at 0x00088800... (59 %)Writing at 0x00088c00... (59 %)Writing at 0x00089000... (59 %)Writing at 0x00089400... (59 %)Writing at 0x00089800... (59 %)Writing at 0x00089c00... (59 %)Writing at 0x0008a000... (60 %)Writing at 0x0008a400... (60 %)Writing at 0x0008a800... (60 %)Writing at 0x0008ac00... (60 %)Writing at 0x0008b000... (60 %)Writing at 0x0008b400... (60 %)Writing at 0x0008b800... (60 %)Writing at 0x0008bc00... (60 %)Writing at 0x0008c000... (61 %)Writing at 0x0008c400... (61 %)Writing at 0x0008c800... (61 %)Writing at 0x0008cc00... (61 %)Writing at 0x0008d000... (61 %)Writing at 0x0008d400... (61 %)Writing at 0x0008d800... (61 %)Writing at 0x0008dc00... (61 %)Writing at 0x0008e000... (62 %)Writing at 0x0008e400... (62 %)Writing at 0x0008e800... (62 %)Writing at 0x0008ec00... (62 %)Writing at 0x0008f000... (62 %)Writing at 0x0008f400... (62 %)Writing at 0x0008f800... (62 %)Writing at 0x0008fc00... (62 %)Writing at 0x00090000... (63 %)Writing at 0x00090400... (63 %)Writing at 0x00090800... (63 %)Writing at 0x00090c00... (63 %)Writing at 0x00091000... (63 %)Writing at 0x00091400... (63 %)Writing at 0x00091800... (63 %)Writing at 0x00091c00... (63 %)Writing at 0x00092000... (64 %)Writing at 0x00092400... (64 %)Writing at 0x00092800... (64 %)Writing at 0x00092c00... (64 %)Writing at 0x00093000... (64 %)Writing at 0x00093400... (64 %)Writing at 0x00093800... (64 %)Writing at 0x00093c00... (64 %)Writing at 0x00094000... (64 %)Writing at 0x00094400... (65 %)Writing at 0x00094800... (65 %)Writing at 0x00094c00... (65 %)Writing at 0x00095000... (65 %)Writing at 0x00095400... (65 %)Writing at 0x00095800... (65 %)Writing at 0x00095c00... (65 %)Writing at 0x00096000... (65 %)Writing at 0x00096400... (66 %)Writing at 0x00096800... (66 %)Writing at 0x00096c00... (66 %)Writing at 0x00097000... (66 %)Writing at 0x00097400... (66 %)Writing at 0x00097800... (66 %)Writing at 0x00097c00... (66 %)Writing at 0x00098000... (66 %)Writing at 0x00098400... (67 %)Writing at 0x00098800... (67 %)Writing at 0x00098c00... (67 %)Writing at 0x00099000... (67 %)Writing at 0x00099400... (67 %)Writing at 0x00099800... (67 %)Writing at 0x00099c00... (67 %)Writing at 0x0009a000... (67 %)Writing at 0x0009a400... (68 %)Writing at 0x0009a800... (68 %)Writing at 0x0009ac00... (68 %)Writing at 0x0009b000... (68 %)Writing at 0x0009b400... (68 %)Writing at 0x0009b800... (68 %)Writing at 0x0009bc00... (68 %)Writing at 0x0009c000... (68 %)Writing at 0x0009c400... (69 %)Writing at 0x0009c800... (69 %)Writing at 0x0009cc00... (69 %)Writing at 0x0009d000... (69 %)Writing at 0x0009d400... (69 %)Writing at 0x0009d800... (69 %)Writing at 0x0009dc00... (69 %)Writing at 0x0009e000... (69 %)Writing at 0x0009e400... (70 %)Writing at 0x0009e800... (70 %)Writing at 0x0009ec00... (70 %)Writing at 0x0009f000... (70 %)Writing at 0x0009f400... (70 %)Writing at 0x0009f800... (70 %)Writing at 0x0009fc00... (70 %)Writing at 0x000a0000... (70 %)Writing at 0x000a0400... (71 %)Writing at 0x000a0800... (71 %)Writing at 0x000a0c00... (71 %)Writing at 0x000a1000... (71 %)Writing at 0x000a1400... (71 %)Writing at 0x000a1800... (71 %)Writing at 0x000a1c00... (71 %)Writing at 0x000a2000... (71 %)Writing at 0x000a2400... (71 %)Writing at 0x000a2800... (72 %)Writing at 0x000a2c00... (72 %)Writing at 0x000a3000... (72 %)Writing at 0x000a3400... (72 %)Writing at 0x000a3800... (72 %)Writing at 0x000a3c00... (72 %)Writing at 0x000a4000... (72 %)Writing at 0x000a4400... (72 %)Writing at 0x000a4800... (73 %)Writing at 0x000a4c00... (73 %)Writing at 0x000a5000... (73 %)Writing at 0x000a5400... (73 %)Writing at 0x000a5800... (73 %)Writing at 0x000a5c00... (73 %)Writing at 0x000a6000... (73 %)Writing at 0x000a6400... (73 %)Writing at 0x000a6800... (74 %)Writing at 0x000a6c00... (74 %)Writing at 0x000a7000... (74 %)Writing at 0x000a7400... (74 %)Writing at 0x000a7800... (74 %)Writing at 0x000a7c00... (74 %)Writing at 0x000a8000... (74 %)Writing at 0x000a8400... (74 %)Writing at 0x000a8800... (75 %)Writing at 0x000a8c00... (75 %)Writing at 0x000a9000... (75 %)Writing at 0x000a9400... (75 %)Writing at 0x000a9800... (75 %)Writing at 0x000a9c00... (75 %)Writing at 0x000aa000... (75 %)Writing at 0x000aa400... (75 %)Writing at 0x000aa800... (76 %)Writing at 0x000aac00... (76 %)Writing at 0x000ab000... (76 %)Writing at 0x000ab400... (76 %)Writing at 0x000ab800... (76 %)Writing at 0x000abc00... (76 %)Writing at 0x000ac000... (76 %)Writing at 0x000ac400... (76 %)Writing at 0x000ac800... (77 %)Writing at 0x000acc00... (77 %)Writing at 0x000ad000... (77 %)Writing at 0x000ad400... (77 %)Writing at 0x000ad800... (77 %)Writing at 0x000adc00... (77 %)Writing at 0x000ae000... (77 %)Writing at 0x000ae400... (77 %)Writing at 0x000ae800... (78 %)Writing at 0x000aec00... (78 %)Writing at 0x000af000... (78 %)Writing at 0x000af400... (78 %)Writing at 0x000af800... (78 %)Writing at 0x000afc00... (78 %)Writing at 0x000b0000... (78 %)Writing at 0x000b0400... (78 %)Writing at 0x000b0800... (78 %)Writing at 0x000b0c00... (79 %)Writing at 0x000b1000... (79 %)Writing at 0x000b1400... (79 %)Writing at 0x000b1800... (79 %)Writing at 0x000b1c00... (79 %)Writing at 0x000b2000... (79 %)Writing at 0x000b2400... (79 %)Writing at 0x000b2800... (79 %)Writing at 0x000b2c00... (80 %)Writing at 0x000b3000... (80 %)Writing at 0x000b3400... (80 %)Writing at 0x000b3800... (80 %)Writing at 0x000b3c00... (80 %)Writing at 0x000b4000... (80 %)Writing at 0x000b4400... (80 %)Writing at 0x000b4800... (80 %)Writing at 0x000b4c00... (81 %)Writing at 0x000b5000... (81 %)Writing at 0x000b5400... (81 %)Writing at 0x000b5800... (81 %)Writing at 0x000b5c00... (81 %)Writing at 0x000b6000... (81 %)Writing at 0x000b6400... (81 %)Writing at 0x000b6800... (81 %)Writing at 0x000b6c00... (82 %)Writing at 0x000b7000... (82 %)Writing at 0x000b7400... (82 %)Writing at 0x000b7800... (82 %)Writing at 0x000b7c00... (82 %)Writing at 0x000b8000... (82 %)Writing at 0x000b8400... (82 %)Writing at 0x000b8800... (82 %)Writing at 0x000b8c00... (83 %)Writing at 0x000b9000... (83 %)Writing at 0x000b9400... (83 %)Writing at 0x000b9800... (83 %)Writing at 0x000b9c00... (83 %)Writing at 0x000ba000... (83 %)Writing at 0x000ba400... (83 %)Writing at 0x000ba800... (83 %)Writing at 0x000bac00... (84 %)Writing at 0x000bb000... (84 %)Writing at 0x000bb400... (84 %)Writing at 0x000bb800... (84 %)Writing at 0x000bbc00... (84 %)Writing at 0x000bc000... (84 %)Writing at 0x000bc400... (84 %)Writing at 0x000bc800... (84 %)Writing at 0x000bcc00... (85 %)Writing at 0x000bd000... (85 %)Writing at 0x000bd400... (85 %)Writing at 0x000bd800... (85 %)Writing at 0x000bdc00... (85 %)Writing at 0x000be000... (85 %)Writing at 0x000be400... (85 %)Writing at 0x000be800... (85 %)Writing at 0x000bec00... (85 %)Writing at 0x000bf000... (86 %)Writing at 0x000bf400... (86 %)Writing at 0x000bf800... (86 %)Writing at 0x000bfc00... (86 %)Writing at 0x000c0000... (86 %)Writing at 0x000c0400... (86 %)Writing at 0x000c0800... (86 %)Writing at 0x000c0c00... (86 %)Writing at 0x000c1000... (87 %)Writing at 0x000c1400... (87 %)Writing at 0x000c1800... (87 %)Writing at 0x000c1c00... (87 %)Writing at 0x000c2000... (87 %)Writing at 0x000c2400... (87 %)Writing at 0x000c2800... (87 %)Writing at 0x000c2c00... (87 %)Writing at 0x000c3000... (88 %)Writing at 0x000c3400... (88 %)Writing at 0x000c3800... (88 %)Writing at 0x000c3c00... (88 %)Writing at 0x000c4000... (88 %)Writing at 0x000c4400... (88 %)Writing at 0x000c4800... (88 %)Writing at 0x000c4c00... (88 %)Writing at 0x000c5000... (89 %)Writing at 0x000c5400... (89 %)Writing at 0x000c5800... (89 %)Writing at 0x000c5c00... (89 %)Writing at 0x000c6000... (89 %)Writing at 0x000c6400... (89 %)Writing at 0x000c6800... (89 %)Writing at 0x000c6c00... (89 %)Writing at 0x000c7000... (90 %)Writing at 0x000c7400... (90 %)Writing at 0x000c7800... (90 %)Writing at 0x000c7c00... (90 %)Writing at 0x000c8000... (90 %)Writing at 0x000c8400... (90 %)Writing at 0x000c8800... (90 %)Writing at 0x000c8c00... (90 %)Writing at 0x000c9000... (91 %)Writing at 0x000c9400... (91 %)Writing at 0x000c9800... (91 %)Writing at 0x000c9c00... (91 %)Writing at 0x000ca000... (91 %)Writing at 0x000ca400... (91 %)Writing at 0x000ca800... (91 %)Writing at 0x000cac00... (91 %)Writing at 0x000cb000... (92 %)Writing at 0x000cb400... (92 %)Writing at 0x000cb800... (92 %)Writing at 0x000cbc00... (92 %)Writing at 0x000cc000... (92 %)Writing at 0x000cc400... (92 %)Writing at 0x000cc800... (92 %)Writing at 0x000ccc00... (92 %)Writing at 0x000cd000... (92 %)Writing at 0x000cd400... (93 %)Writing at 0x000cd800... (93 %)Writing at 0x000cdc00... (93 %)Writing at 0x000ce000... (93 %)Writing at 0x000ce400... (93 %)Writing at 0x000ce800... (93 %)Writing at 0x000cec00... (93 %)Writing at 0x000cf000... (93 %)Writing at 0x000cf400... (94 %)Writing at 0x000cf800... (94 %)Writing at 0x000cfc00... (94 %)Writing at 0x000d0000... (94 %)Writing at 0x000d0400... (94 %)Writing at 0x000d0800... (94 %)Writing at 0x000d0c00... (94 %)Writing at 0x000d1000... (94 %)Writing at 0x000d1400... (95 %)Writing at 0x000d1800... (95 %)Writing at 0x000d1c00... (95 %)Writing at 0x000d2000... (95 %)Writing at 0x000d2400... (95 %)Writing at 0x000d2800... (95 %)Writing at 0x000d2c00... (95 %)Writing at 0x000d3000... (95 %)Writing at 0x000d3400... (96 %)Writing at 0x000d3800... (96 %)Writing at 0x000d3c00... (96 %)Writing at 0x000d4000... (96 %)Writing at 0x000d4400... (96 %)Writing at 0x000d4800... (96 %)Writing at 0x000d4c00... (96 %)Writing at 0x000d5000... (96 %)Writing at 0x000d5400... (97 %)Writing at 0x000d5800... (97 %)Writing at 0x000d5c00... (97 %)Writing at 0x000d6000... (97 %)Writing at 0x000d6400... (97 %)Writing at 0x000d6800... (97 %)Writing at 0x000d6c00... (97 %)Writing at 0x000d7000... (97 %)Writing at 0x000d7400... (98 %)Writing at 0x000d7800... (98 %)Writing at 0x000d7c00... (98 %)Writing at 0x000d8000... (98 %)Writing at 0x000d8400... (98 %)Writing at 0x000d8800... (98 %)Writing at 0x000d8c00... (98 %)Writing at 0x000d9000... (98 %)Writing at 0x000d9400... (99 %)Writing at 0x000d9800... (99 %)Writing at 0x000d9c00... (99 %)Writing at 0x000da000... (99 %)Writing at 0x000da400... (99 %)Writing at 0x000da800... (99 %)Writing at 0x000dac00... (99 %)Writing at 0x000db000... (99 %)Writing at 0x000db400... (100 %)Took 135.93s to write 833424 bytes\n",
      "Resetting\n",
      "DONE\n"
     ]
    }
   ],
   "source": [
    "%softreset\n",
    "%rsync\n",
    "\n",
    "# miniesptool_esp32argon.py\n",
    "\n",
    "import time\n",
    "import board\n",
    "import busio\n",
    "\n",
    "from digitalio import DigitalInOut, Direction\n",
    "from adafruit_miniesptool import miniesptool\n",
    "\n",
    "baudrate = 115200\n",
    "baudrate = 921600\n",
    "\n",
    "print(\"Flash ESP32 on Particle Argon\")\n",
    "\n",
    "uart = busio.UART(board.ESP_RX, board.ESP_TX, baudrate=baudrate, timeout=1)\n",
    "\n",
    "resetpin = DigitalInOut(board.ESP_WIFI_EN)\n",
    "gpio0pin = DigitalInOut(board.ESP_BOOT_MODE)\n",
    "esp_cts = DigitalInOut(board.ESP_CTS)\n",
    "esp_cts.direction = Direction.OUTPUT\n",
    "esp_cts.value = False\n",
    "\n",
    "esptool = miniesptool(uart, gpio0pin, resetpin, flashsize=4*1024*1024)\n",
    "esptool.debug = False\n",
    "\n",
    "esptool.sync()\n",
    "print(\"Synced\")\n",
    "print(\"Found:\", esptool.chip_name)\n",
    "if esptool.chip_name != \"ESP32\":\n",
    "    raise RuntimeError(\"This example is for ESP32 only\")\n",
    "esptool.baudrate = baudrate\n",
    "print(\"MAC ADDR: \", [hex(i) for i in esptool.mac_addr])\n",
    "\n",
    "# 0x1000  ~/.platformio/packages/framework-arduinoespressif32@2.10001.190111/tools/sdk/bin/bootloader_dio_40m.bin \n",
    "# 0x8000  ~/Dropbox/Server/shared/projects/github/espconnect/espconnect/.pioenvs/espconnect/partitions.bin \n",
    "# 0xe000  ~/.platformio/packages/framework-arduinoespressif32@2.10001.190111/tools/partitions/boot_app0.bin \n",
    "# 0x10000 ~/Dropbox/Server/shared/projects/github/espconnect/espconnect/.pioenvs/espconnect/firmware.bin\n",
    "\n",
    "esptool.flash_file(\"/esp32_firmware/bootloader_dio_40m.bin\", 0x1000)\n",
    "esptool.flash_file(\"/esp32_firmware/partitions.bin\",         0x8000)\n",
    "esptool.flash_file(\"/esp32_firmware/boot_app0.bin\",          0xe000)\n",
    "esptool.flash_file(\"/esp32_firmware/firmware.bin\",          0x10000)\n",
    "\n",
    "esptool.reset()\n",
    "time.sleep(0.5)\n",
    "\n",
    "print(\"DONE\")"
   ]
  },
  {
   "cell_type": "markdown",
   "metadata": {},
   "source": [
    "# TODO\n",
    "\n",
    "check MD5 signature, e.g.\n",
    "\n",
    "```python\n",
    ">>> import hashlib\n",
    ">>> hashlib.md5(open('filename.exe','rb').read()).hexdigest()\n",
    "'d41d8cd98f00b204e9800998ecf8427e'\n",
    "```"
   ]
  },
  {
   "cell_type": "code",
   "execution_count": null,
   "metadata": {},
   "outputs": [],
   "source": []
  }
 ],
 "metadata": {
  "kernelspec": {
   "display_name": "IoT",
   "language": "python",
   "name": "iot_kernel"
  },
  "language_info": {
   "codemirror_mode": {
    "name": "python",
    "version": 3
   },
   "file_extension": ".py",
   "mimetype": "text/x-python",
   "name": "python",
   "pygments_lexer": "python3",
   "version": "3"
  }
 },
 "nbformat": 4,
 "nbformat_minor": 4
}
