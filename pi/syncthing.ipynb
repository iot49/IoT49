{
 "cells": [
  {
   "cell_type": "markdown",
   "id": "worst-mathematics",
   "metadata": {},
   "source": [
    "# Install Syncthing\n",
    "\n",
    "* Purpose: synchronize directories between computers on local network\n",
    "    * I use this to synchronize folders between my Mac and the Pi\n",
    "* [Official Site](https://syncthing.net/)\n",
    "* [Install Guide](https://pimylifeup.com/raspberry-pi-syncthing/)"
   ]
  },
  {
   "cell_type": "markdown",
   "id": "incorporated-oliver",
   "metadata": {},
   "source": [
    "## Install Software"
   ]
  },
  {
   "cell_type": "code",
   "execution_count": null,
   "id": "christian-frank",
   "metadata": {},
   "outputs": [],
   "source": [
    "%%bash\n",
    "\n",
    "sudo apt update\n",
    "sudo apt -y full-upgrade\n",
    "sudo apt -y install apt-transport-https\n",
    "curl -s https://syncthing.net/release-key.txt | sudo apt-key add -\n",
    "echo \"deb https://apt.syncthing.net/ syncthing stable\" | sudo tee /etc/apt/sources.list.d/syncthing.list\n",
    "sudo apt update\n",
    "sudo apt install syncthing"
   ]
  },
  {
   "cell_type": "markdown",
   "id": "preliminary-incident",
   "metadata": {},
   "source": [
    "## Configure software"
   ]
  },
  {
   "cell_type": "code",
   "execution_count": null,
   "id": "civic-exploration",
   "metadata": {},
   "outputs": [],
   "source": [
    "%%bash\n",
    "\n",
    "# list of filed/dirs that never sync (https://docs.syncthing.net/users/ignoring.html)\n",
    "cat << 'EOF' > ~/.stignore\n",
    "(?d).DS_Store\n",
    ".envrc\n",
    ".direnv\n",
    ".git\n",
    ".ipynb_checkpoints*\n",
    "__pycache__\n",
    "ehthumbs.db\n",
    "Icon?\n",
    "Thumbs.db\n",
    "\n",
    "EOF\n",
    "\n",
    "# start then kill to create default configuration\n",
    "syncthing &\n",
    "last_pid=$!\n",
    "echo $last_pid\n",
    "sleep 5\n",
    "kill -KILL $last_pid\n",
    "\n",
    "# web access from any authorized device\n",
    "cd ~/.config/syncthing\n",
    "cp config.xml config.xml.bak\n",
    "sed -i 's/127\\.0\\.0\\.1:8384/0\\.0\\.0\\.0:8384/g' config.xml\n",
    "\n",
    "# install service\n",
    "sudo tee /lib/systemd/system/syncthing.service << EOF\n",
    "[Unit]\n",
    "Description=Syncthing - Open Source Continuous File Synchronization\n",
    "Documentation=man:syncthing(1)\n",
    "After=network.target\n",
    "\n",
    "[Service]\n",
    "User=pi\n",
    "ExecStart=/usr/bin/syncthing -no-browser -no-restart -logflags=0\n",
    "Restart=on-failure\n",
    "RestartSec=5\n",
    "SuccessExitStatus=3 4\n",
    "RestartForceExitStatus=3 4\n",
    "\n",
    "# Hardening\n",
    "ProtectSystem=full\n",
    "PrivateTmp=true\n",
    "SystemCallArchitectures=native\n",
    "MemoryDenyWriteExecute=true\n",
    "NoNewPrivileges=true\n",
    "\n",
    "[Install]\n",
    "WantedBy=multi-user.target\n",
    "EOF\n",
    "\n",
    "# start service\n",
    "sudo systemctl enable syncthing\n",
    "sudo systemctl start syncthing"
   ]
  },
  {
   "cell_type": "markdown",
   "id": "deluxe-diabetes",
   "metadata": {},
   "source": [
    "## Verify Syncthing is running"
   ]
  },
  {
   "cell_type": "code",
   "execution_count": 1,
   "id": "infrared-lemon",
   "metadata": {},
   "outputs": [
    {
     "name": "stdout",
     "output_type": "stream",
     "text": [
      "Password:\n"
     ]
    }
   ],
   "source": [
    "!sudo systemctl --no-pager status syncthing"
   ]
  },
  {
   "cell_type": "markdown",
   "id": "clinical-secretariat",
   "metadata": {},
   "source": [
    "## Configure from Web Interface\n",
    "\n",
    "Consult the [Syncthing documentation](https://syncthing.net/) or the [Install Guide](https://pimylifeup.com/raspberry-pi-syncthing/) for details.\n",
    "\n",
    "Summary of procedure:\n",
    "\n",
    "* go to http://yourpi.local:8384\n",
    "* Click `Danger/Settings`\n",
    "   * Select `GUI` tab\n",
    "   * Enter GUI Authentication user and password\n",
    "      * e.g. your name and something that's hard to guess\n",
    "   * click Save\n",
    "* Click `Actions/Show ID`\n",
    "   * Copy ID to Syncthing on remote (e.g. Mac) you want to share files with\n",
    "      * Note: Syncthing must be running on remote!\n",
    "      * on your remote, go to http://localhost:8384\n",
    "      * `Add Remote Device`\n",
    "      * On Pi, accept remote request\n",
    "      * On remote (Mac), the new Pi will show up\n",
    "      * Click on it and press `Edit`\n",
    "      * Add the folders you want to share"
   ]
  },
  {
   "cell_type": "code",
   "execution_count": null,
   "id": "systematic-adelaide",
   "metadata": {},
   "outputs": [],
   "source": []
  }
 ],
 "metadata": {
  "kernelspec": {
   "display_name": "Python 3",
   "language": "python",
   "name": "python3"
  },
  "language_info": {
   "codemirror_mode": {
    "name": "ipython",
    "version": 3
   },
   "file_extension": ".py",
   "mimetype": "text/x-python",
   "name": "python",
   "nbconvert_exporter": "python",
   "pygments_lexer": "ipython3",
   "version": "3.8.2"
  }
 },
 "nbformat": 4,
 "nbformat_minor": 5
}
