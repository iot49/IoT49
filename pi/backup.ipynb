{
 "cells": [
  {
   "cell_type": "markdown",
   "id": "satisfactory-genre",
   "metadata": {},
   "source": [
    "## Backup\n",
    "\n",
    "* Syncthing\n",
    "\n",
    "* Good collection of options: https://raspberrytips.com/backup-raspberry-pi/\n",
    "\n",
    "* ApplePiBaker - Mac tool, apparently support compression, looks like good option: https://www.tweaking4all.com/software/macosx-software/applepi-baker-v2/\n",
    "\n",
    "* Mac command line: https://computers.tutsplus.com/articles/how-to-clone-raspberry-pi-sd-cards-using-the-command-line-in-os-x--mac-59911\n",
    "\n",
    "* Backup life SD card? https://github.com/raspberrypi-ui/piclone"
   ]
  }
 ],
 "metadata": {
  "kernelspec": {
   "display_name": "Python 3",
   "language": "python",
   "name": "python3"
  },
  "language_info": {
   "codemirror_mode": {
    "name": "ipython",
    "version": 3
   },
   "file_extension": ".py",
   "mimetype": "text/x-python",
   "name": "python",
   "nbconvert_exporter": "python",
   "pygments_lexer": "ipython3",
   "version": "3.7.3"
  }
 },
 "nbformat": 4,
 "nbformat_minor": 5
}
