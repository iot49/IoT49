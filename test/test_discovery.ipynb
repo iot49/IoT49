{
 "cells": [
  {
   "cell_type": "markdown",
   "metadata": {},
   "source": [
    "# discovery"
   ]
  },
  {
   "cell_type": "code",
   "execution_count": 2,
   "metadata": {},
   "outputs": [
    {
     "name": "stdout",
     "output_type": "stream",
     "text": [
      "\u001b[0mLogger device_registry level set to DEBUG\u001b[0m\n",
      "\u001b[0mLogger mp_device level set to DEBUG\u001b[0m\n",
      "\n",
      "\u001b[0mtest-esp32      serial:///dev/cu.usbserial-0160B5B8     \u001b[0m\n",
      "test-esp32      ws://10.39.40.135:8266                  \u001b[0m\n",
      "test-stm32      serial:///dev/cu.usbmodem208E307542522  \u001b[0m\n",
      "test-stm32-cop  serial:///dev/cu.usbserial-0143520E     \u001b[0m\n",
      "test-argon      mp://10.39.40.140:54321                 \u001b[0m\n",
      "test-samd       serial:///dev/cu.usbmodem1413201        \u001b[0m\n"
     ]
    }
   ],
   "source": [
    "%loglevel device_registry DEBUG\n",
    "%loglevel mp_device DEBUG\n",
    "!echo\n",
    "%discover"
   ]
  },
  {
   "cell_type": "code",
   "execution_count": 2,
   "metadata": {},
   "outputs": [
    {
     "name": "stdout",
     "output_type": "stream",
     "text": [
      "\u001b[0mConnected to test-argon @ mp://10.39.40.140:54321\u001b[0m\n",
      "\u001b[0mmp://10.39.40.140:54321\u001b[0m\n",
      "t\u001b[0me\u001b[0ms\u001b[0mt\u001b[0m-\u001b[0ma\u001b[0mr\u001b[0mg\u001b[0mo\u001b[0mn\u001b[0m \u001b[0mm\u001b[0mp\u001b[0m\n",
      "\u001b[0m\u001b[0m\u001b[32mDirectories match\n",
      "\u001b[0m\u001b[0m\n",
      "\u001b[0m\u001b[0mConnected to test-esp32 @ serial:///dev/cu.usbserial-0160B5B8\u001b[0m\n",
      "\u001b[0mserial:///dev/cu.usbserial-0160B5B8\u001b[0m\n",
      "t\u001b[0me\u001b[0ms\u001b[0mt\u001b[0m-\u001b[0me\u001b[0ms\u001b[0mp\u001b[0m3\u001b[0m2\u001b[0m \u001b[0ms\u001b[0me\u001b[0mr\u001b[0mi\u001b[0ma\u001b[0ml\u001b[0m\n",
      "\u001b[0m\u001b[0m\u001b[32mDirectories match\n",
      "\u001b[0m\u001b[0m\n",
      "\u001b[0m\u001b[0mConnected to test-esp32 @ ws://10.39.40.135:8266\u001b[0m\n",
      "\u001b[0mws://10.39.40.135:8266\u001b[0m\n",
      "test-esp32 ws\u001b[0m\n",
      "\u001b[0m\u001b[0m\u001b[32mDirectories match\n",
      "\u001b[0m\u001b[0m\n",
      "\u001b[0m\u001b[0mConnected to test-samd @ serial:///dev/cu.usbmodem1413201\u001b[0m\n",
      "\u001b[0mserial:///dev/cu.usbmodem1413201\u001b[0m\n",
      "t\u001b[0me\u001b[0ms\u001b[0mt\u001b[0m-\u001b[0ms\u001b[0ma\u001b[0mm\u001b[0md\u001b[0m \u001b[0ms\u001b[0me\u001b[0mr\u001b[0mi\u001b[0ma\u001b[0ml\u001b[0m\n",
      "\u001b[0m\u001b[0m\u001b[32mDirectories match\n",
      "\u001b[0m\u001b[0m\n",
      "\u001b[0m\u001b[0mConnected to test-stm32 @ serial:///dev/cu.usbmodem208E307542522\u001b[0m\n",
      "\u001b[0mserial:///dev/cu.usbmodem208E307542522\u001b[0m\n",
      "t\u001b[0me\u001b[0ms\u001b[0mt\u001b[0m-\u001b[0ms\u001b[0mt\u001b[0mm\u001b[0m3\u001b[0m2\u001b[0m \u001b[0ms\u001b[0me\u001b[0mr\u001b[0mi\u001b[0ma\u001b[0ml\u001b[0m\n",
      "\u001b[0m\u001b[0m\u001b[32mDirectories match\n",
      "\u001b[0m\u001b[0m\n",
      "\u001b[0m\u001b[0mConnected to test-stm32-cop @ serial:///dev/cu.usbserial-0143520E\u001b[0m\n",
      "\u001b[0mserial:///dev/cu.usbserial-0143520E\u001b[0m\n",
      "t\u001b[0me\u001b[0ms\u001b[0mt\u001b[0m-\u001b[0ms\u001b[0mt\u001b[0mm\u001b[0m3\u001b[0m2\u001b[0m \u001b[0ms\u001b[0me\u001b[0mr\u001b[0mi\u001b[0ma\u001b[0ml\u001b[0m\n",
      "\u001b[0m\u001b[0m\u001b[32mDirectories match\n",
      "\u001b[0m\u001b[0m\n",
      "\u001b[0m"
     ]
    }
   ],
   "source": [
    "%connect test-argon mp\n",
    "%url\n",
    "print('test-argon mp')\n",
    "%rsync\n",
    "print()\n",
    "\n",
    "%connect test-esp32 serial\n",
    "%url\n",
    "print('test-esp32 serial')\n",
    "%rsync\n",
    "print()\n",
    "\n",
    "%connect test-esp32 ws\n",
    "%url\n",
    "print('test-esp32 ws')\n",
    "%rsync\n",
    "print()\n",
    "\n",
    "%connect test-samd serial\n",
    "%url\n",
    "print('test-samd serial')\n",
    "%rsync\n",
    "print()\n",
    "\n",
    "%connect test-stm32 serial\n",
    "%url\n",
    "print('test-stm32 serial')\n",
    "%rsync\n",
    "print()\n",
    "\n",
    "%connect test-stm32-cop serial\n",
    "%url\n",
    "print('test-stm32 serial')\n",
    "%rsync\n",
    "print()\n",
    "\n"
   ]
  },
  {
   "cell_type": "code",
   "execution_count": null,
   "metadata": {},
   "outputs": [],
   "source": []
  }
 ],
 "metadata": {
  "kernelspec": {
   "display_name": "IoT",
   "language": "python",
   "name": "iot_kernel"
  },
  "language_info": {
   "codemirror_mode": {
    "name": "python",
    "version": 3
   },
   "file_extension": ".py",
   "mimetype": "text/x-python",
   "name": "python",
   "pygments_lexer": "python3",
   "version": "3"
  }
 },
 "nbformat": 4,
 "nbformat_minor": 4
}
