{
 "cells": [
  {
   "cell_type": "markdown",
   "metadata": {},
   "source": [
    "# Flash"
   ]
  },
  {
   "cell_type": "code",
   "execution_count": 2,
   "metadata": {},
   "outputs": [
    {
     "name": "stdout",
     "output_type": "stream",
     "text": [
      "\u001b[34m\u001b[43m/dev/cu.usbserial-015589DF\u001b[m\u001b[m     \u001b[34m\u001b[43m/dev/cu.usbserial-210321A96897\u001b[m\u001b[m\n"
     ]
    }
   ],
   "source": [
    "!ls /dev/cu.usb*"
   ]
  },
  {
   "cell_type": "markdown",
   "metadata": {},
   "source": [
    "## Erase flash"
   ]
  },
  {
   "cell_type": "code",
   "execution_count": 2,
   "metadata": {},
   "outputs": [
    {
     "name": "stdout",
     "output_type": "stream",
     "text": [
      "esptool.py v3.0\u001b[0m\n",
      "Serial port /dev/cu.usbserial-015589DF\u001b[0m\n",
      "Connecting....\u001b[0m\n",
      "Detecting chip type... ESP32\u001b[0m\n",
      "Chip is ESP32-D0WDQ6 (revision 1)\u001b[0m\n",
      "Features: WiFi, BT, Dual Core, Coding Scheme None\u001b[0m\n",
      "Crystal is 40MHz\u001b[0m\n",
      "MAC: 24:0a:c4:12:87:7c\u001b[0m\n",
      "Uploading stub...\u001b[0m\n",
      "Running stub...\u001b[0m\n",
      "Stub running...\u001b[0m\n",
      "Erasing flash (this may take a while)...\u001b[0m\n",
      "Chip erase completed successfully in 6.5s\u001b[0m\n",
      "Hard resetting via RTS pin...\u001b[0m\n"
     ]
    }
   ],
   "source": [
    "%%bash\n",
    "\n",
    "port=/dev/cu.usbserial-015589DF \n",
    "\n",
    "esptool.py -p $port erase_flash"
   ]
  },
  {
   "cell_type": "markdown",
   "metadata": {},
   "source": [
    "## Program"
   ]
  },
  {
   "cell_type": "markdown",
   "metadata": {},
   "source": [
    "### Custom MicroPython"
   ]
  },
  {
   "cell_type": "code",
   "execution_count": 1,
   "metadata": {},
   "outputs": [
    {
     "name": "stdout",
     "output_type": "stream",
     "text": [
      "/bin/sh: line 0: cd: /Users/boser/Dropbox/Documents/Projects/IoT/iot-bin/micropython: No such file or directory\u001b[0m\n",
      "esp32-GENERIC_OTA\u001b[0m\n",
      "esp32-GENERIC_OTA-firmware.bin\u001b[0m\n",
      "esp32-idf4-20210202-v1.14.bin\u001b[0m\n",
      "stm32-MOTOR_HAT\u001b[0m\n",
      "esptool.py v3.0\u001b[0m\n",
      "Serial port /dev/cu.usbserial-015589DF\u001b[0m\n",
      "Connecting....\u001b[0m\n",
      "Detecting chip type... ESP32\u001b[0m\n",
      "Chip is ESP32-D0WDQ6 (revision 1)\u001b[0m\n",
      "Features: WiFi, BT, Dual Core, Coding Scheme None\u001b[0m\n",
      "Crystal is 40MHz\u001b[0m\n",
      "MAC: 24:0a:c4:12:87:7c\u001b[0m\n",
      "Uploading stub...\u001b[0m\n",
      "Running stub...\u001b[0m\n",
      "Stub running...\u001b[0m\n",
      "Changing baud rate to 460800\u001b[0m\n",
      "Changed.\u001b[0m\n",
      "Configuring flash size...\u001b[0m\n",
      "Compressed 1484624 bytes to 951640...\u001b[0m\n",
      "Writing at 0x00001000... (1 %)\u001b[0m\n",
      "Writing at 0x00005000... (3 %)\u001b[0m\n",
      "Writing at 0x00009000... (5 %)\u001b[0m\n",
      "Writing at 0x0000d000... (6 %)\u001b[0m\n",
      "Writing at 0x00011000... (8 %)\u001b[0m\n",
      "Writing at 0x00015000... (10 %)\u001b[0m\n",
      "Writing at 0x00019000... (11 %)\u001b[0m\n",
      "Writing at 0x0001d000... (13 %)\u001b[0m\n",
      "Writing at 0x00021000... (15 %)\u001b[0m\n",
      "Writing at 0x00025000... (16 %)\u001b[0m\n",
      "Writing at 0x00029000... (18 %)\u001b[0m\n",
      "Writing at 0x0002d000... (20 %)\u001b[0m\n",
      "Writing at 0x00031000... (22 %)\u001b[0m\n",
      "Writing at 0x00035000... (23 %)\u001b[0m\n",
      "Writing at 0x00039000... (25 %)\u001b[0m\n",
      "Writing at 0x0003d000... (27 %)\u001b[0m\n",
      "Writing at 0x00041000... (28 %)\u001b[0m\n",
      "Writing at 0x00045000... (30 %)\u001b[0m\n",
      "Writing at 0x00049000... (32 %)\u001b[0m\n",
      "Writing at 0x0004d000... (33 %)\u001b[0m\n",
      "Writing at 0x00051000... (35 %)\u001b[0m\n",
      "Writing at 0x00055000... (37 %)\u001b[0m\n",
      "Writing at 0x00059000... (38 %)\u001b[0m\n",
      "Writing at 0x0005d000... (40 %)\u001b[0m\n",
      "Writing at 0x00061000... (42 %)\u001b[0m\n",
      "Writing at 0x00065000... (44 %)\u001b[0m\n",
      "Writing at 0x00069000... (45 %)\u001b[0m\n",
      "Writing at 0x0006d000... (47 %)\u001b[0m\n",
      "Writing at 0x00071000... (49 %)\u001b[0m\n",
      "Writing at 0x00075000... (50 %)\u001b[0m\n",
      "Writing at 0x00079000... (52 %)\u001b[0m\n",
      "Writing at 0x0007d000... (54 %)\u001b[0m\n",
      "Writing at 0x00081000... (55 %)\u001b[0m\n",
      "Writing at 0x00085000... (57 %)\u001b[0m\n",
      "Writing at 0x00089000... (59 %)\u001b[0m\n",
      "Writing at 0x0008d000... (61 %)\u001b[0m\n",
      "Writing at 0x00091000... (62 %)\u001b[0m\n",
      "Writing at 0x00095000... (64 %)\u001b[0m\n",
      "Writing at 0x00099000... (66 %)\u001b[0m\n",
      "Writing at 0x0009d000... (67 %)\u001b[0m\n",
      "Writing at 0x000a1000... (69 %)\u001b[0m\n",
      "Writing at 0x000a5000... (71 %)\u001b[0m\n",
      "Writing at 0x000a9000... (72 %)\u001b[0m\n",
      "Writing at 0x000ad000... (74 %)\u001b[0m\n",
      "Writing at 0x000b1000... (76 %)\u001b[0m\n",
      "Writing at 0x000b5000... (77 %)\u001b[0m\n",
      "Writing at 0x000b9000... (79 %)\u001b[0m\n",
      "Writing at 0x000bd000... (81 %)\u001b[0m\n",
      "Writing at 0x000c1000... (83 %)\u001b[0m\n",
      "Writing at 0x000c5000... (84 %)\u001b[0m\n",
      "Writing at 0x000c9000... (86 %)\u001b[0m\n",
      "Writing at 0x000cd000... (88 %)\u001b[0m\n",
      "Writing at 0x000d1000... (89 %)\u001b[0m\n",
      "Writing at 0x000d5000... (91 %)\u001b[0m\n",
      "Writing at 0x000d9000... (93 %)\u001b[0m\n",
      "Writing at 0x000dd000... (94 %)\u001b[0m\n",
      "Writing at 0x000e1000... (96 %)\u001b[0m\n",
      "Writing at 0x000e5000... (98 %)\u001b[0m\n",
      "Writing at 0x000e9000... (100 %)\u001b[0m\n",
      "Wrote 1484624 bytes (951640 compressed) at 0x00001000 in 23.2 seconds (effective 512.0 kbit/s)...\u001b[0m\n",
      "Hash of data verified.\u001b[0m\n",
      "\u001b[0m\n",
      "Leaving...\u001b[0m\n",
      "Hard resetting via RTS pin...\u001b[0m\n"
     ]
    }
   ],
   "source": [
    "%%bash\n",
    "\n",
    "cd $IOT/iot-bin/micropython\n",
    "\n",
    "port=/dev/cu.usbserial-015589DF \n",
    "\n",
    "firmware=esp32-GENERIC_OTA-firmware.bin\n",
    "\n",
    "# cd $IOT/micropython/ports/esp32/build-GENERIC\n",
    "cd $IOT/iot-bin/mp\n",
    "ls\n",
    "firmware=firmware.bin\n",
    "firmware=esp32-idf4-20210202-v1.14.bin\n",
    "\n",
    "esptool.py -p $port -b 460800 write_flash -z 0x1000 $firmware"
   ]
  },
  {
   "cell_type": "markdown",
   "metadata": {},
   "source": [
    "### Official MicroPython"
   ]
  },
  {
   "cell_type": "code",
   "execution_count": 2,
   "metadata": {},
   "outputs": [
    {
     "name": "stdout",
     "output_type": "stream",
     "text": [
      "esptool.py v3.0\u001b[0m\n",
      "Serial port /dev/cu.usbserial-015589DF\u001b[0m\n",
      "Connecting....\u001b[0m\n",
      "Detecting chip type... ESP32\u001b[0m\n",
      "Chip is ESP32-D0WDQ6 (revision 1)\u001b[0m\n",
      "Features: WiFi, BT, Dual Core, Coding Scheme None\u001b[0m\n",
      "Crystal is 40MHz\u001b[0m\n",
      "MAC: 24:0a:c4:12:87:7c\u001b[0m\n",
      "Uploading stub...\u001b[0m\n",
      "Running stub...\u001b[0m\n",
      "Stub running...\u001b[0m\n",
      "Changing baud rate to 460800\u001b[0m\n",
      "Changed.\u001b[0m\n",
      "Configuring flash size...\u001b[0m\n",
      "Compressed 1448768 bytes to 926007...\u001b[0m\n",
      "Writing at 0x00001000... (1 %)\u001b[0m\n",
      "Writing at 0x00005000... (3 %)\u001b[0m\n",
      "Writing at 0x00009000... (5 %)\u001b[0m\n",
      "Writing at 0x0000d000... (7 %)\u001b[0m\n",
      "Writing at 0x00011000... (8 %)\u001b[0m\n",
      "Writing at 0x00015000... (10 %)\u001b[0m\n",
      "Writing at 0x00019000... (12 %)\u001b[0m\n",
      "Writing at 0x0001d000... (14 %)\u001b[0m\n",
      "Writing at 0x00021000... (15 %)\u001b[0m\n",
      "Writing at 0x00025000... (17 %)\u001b[0m\n",
      "Writing at 0x00029000... (19 %)\u001b[0m\n",
      "Writing at 0x0002d000... (21 %)\u001b[0m\n",
      "Writing at 0x00031000... (22 %)\u001b[0m\n",
      "Writing at 0x00035000... (24 %)\u001b[0m\n",
      "Writing at 0x00039000... (26 %)\u001b[0m\n",
      "Writing at 0x0003d000... (28 %)\u001b[0m\n",
      "Writing at 0x00041000... (29 %)\u001b[0m\n",
      "Writing at 0x00045000... (31 %)\u001b[0m\n",
      "Writing at 0x00049000... (33 %)\u001b[0m\n",
      "Writing at 0x0004d000... (35 %)\u001b[0m\n",
      "Writing at 0x00051000... (36 %)\u001b[0m\n",
      "Writing at 0x00055000... (38 %)\u001b[0m\n",
      "Writing at 0x00059000... (40 %)\u001b[0m\n",
      "Writing at 0x0005d000... (42 %)\u001b[0m\n",
      "Writing at 0x00061000... (43 %)\u001b[0m\n",
      "Writing at 0x00065000... (45 %)\u001b[0m\n",
      "Writing at 0x00069000... (47 %)\u001b[0m\n",
      "Writing at 0x0006d000... (49 %)\u001b[0m\n",
      "Writing at 0x00071000... (50 %)\u001b[0m\n",
      "Writing at 0x00075000... (52 %)\u001b[0m\n",
      "Writing at 0x00079000... (54 %)\u001b[0m\n",
      "Writing at 0x0007d000... (56 %)\u001b[0m\n",
      "Writing at 0x00081000... (57 %)\u001b[0m\n",
      "Writing at 0x00085000... (59 %)\u001b[0m\n",
      "Writing at 0x00089000... (61 %)\u001b[0m\n",
      "Writing at 0x0008d000... (63 %)\u001b[0m\n",
      "Writing at 0x00091000... (64 %)\u001b[0m\n",
      "Writing at 0x00095000... (66 %)\u001b[0m\n",
      "Writing at 0x00099000... (68 %)\u001b[0m\n",
      "Writing at 0x0009d000... (70 %)\u001b[0m\n",
      "Writing at 0x000a1000... (71 %)\u001b[0m\n",
      "Writing at 0x000a5000... (73 %)\u001b[0m\n",
      "Writing at 0x000a9000... (75 %)\u001b[0m\n",
      "Writing at 0x000ad000... (77 %)\u001b[0m\n",
      "Writing at 0x000b1000... (78 %)\u001b[0m\n",
      "Writing at 0x000b5000... (80 %)\u001b[0m\n",
      "Writing at 0x000b9000... (82 %)\u001b[0m\n",
      "Writing at 0x000bd000... (84 %)\u001b[0m\n",
      "Writing at 0x000c1000... (85 %)\u001b[0m\n",
      "Writing at 0x000c5000... (87 %)\u001b[0m\n",
      "Writing at 0x000c9000... (89 %)\u001b[0m\n",
      "Writing at 0x000cd000... (91 %)\u001b[0m\n",
      "Writing at 0x000d1000... (92 %)\u001b[0m\n",
      "Writing at 0x000d5000... (94 %)\u001b[0m\n",
      "Writing at 0x000d9000... (96 %)\u001b[0m\n",
      "Writing at 0x000dd000... (98 %)\u001b[0m\n",
      "Writing at 0x000e1000... (100 %)\u001b[0m\n",
      "Wrote 1448768 bytes (926007 compressed) at 0x00001000 in 22.8 seconds (effective 507.2 kbit/s)...\u001b[0m\n",
      "Hash of data verified.\u001b[0m\n",
      "\u001b[0m\n",
      "Leaving...\u001b[0m\n",
      "Hard resetting via RTS pin...\u001b[0m\n"
     ]
    }
   ],
   "source": [
    "%%bash\n",
    "\n",
    "cd $IOT/iot-bin/mp\n",
    "\n",
    "port=/dev/cu.usbserial-015589DF \n",
    "firmware=esp32-idf3-20200902-v1.13.bin\n",
    "\n",
    "esptool.py -p $port -b 460800 write_flash -z 0x1000 $firmware"
   ]
  },
  {
   "cell_type": "code",
   "execution_count": 1,
   "metadata": {},
   "outputs": [
    {
     "name": "stdout",
     "output_type": "stream",
     "text": [
      "\u001b[0m24:0a:c4:12:87:7c  serial:///dev/cu.usbserial-015589DF  \u001b[0m\n"
     ]
    }
   ],
   "source": [
    "%discover"
   ]
  },
  {
   "cell_type": "code",
   "execution_count": 1,
   "metadata": {},
   "outputs": [
    {
     "name": "stdout",
     "output_type": "stream",
     "text": [
      "\u001b[0m24:0a:c4:12:87:7c  serial:///dev/cu.usbserial-015589DF  \u001b[0m\n"
     ]
    }
   ],
   "source": [
    "%discover"
   ]
  },
  {
   "cell_type": "code",
   "execution_count": null,
   "metadata": {},
   "outputs": [],
   "source": []
  }
 ],
 "metadata": {
  "kernelspec": {
   "display_name": "IoT",
   "language": "python",
   "name": "iot_kernel"
  },
  "language_info": {
   "codemirror_mode": {
    "name": "python",
    "version": 3
   },
   "file_extension": ".py",
   "mimetype": "text/x-python",
   "name": "python",
   "pygments_lexer": "python3",
   "version": "3"
  }
 },
 "nbformat": 4,
 "nbformat_minor": 4
}
