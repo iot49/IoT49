{
 "cells": [
  {
   "cell_type": "markdown",
   "metadata": {},
   "source": [
    "# Feather STM32F405 \"Pyboard\"\n",
    "\n",
    "![Pinout](figures/stm32f405-pinout.png \"Pinout\")\n",
    "\n",
    "![Block Diagram](figures/stm32f40x-block.png \"Block Diagram\")\n",
    "\n",
    "![LQFP64](figures/stm32f40x-LQFP64.png \"LQFP64\")\n",
    "\n",
    "[Datasheet](figures/figures/stm32f40x-datasheet.pdf \"Datasheet\")\n",
    "\n",
    "[Adafruit Feather Schematic](figures/adafruit-stm32-schematic.pdf \"Schematic\")\n",
    "\n"
   ]
  },
  {
   "cell_type": "markdown",
   "metadata": {},
   "source": [
    "| Pin  | Functions | Additional Functions |\n",
    "|------|-----------|----------------------|\n",
    "| PA4  | SPI1_NSS / SPI3_NSS / USART2_CK / DCMI_HSYNC / OTG_HS_SOF/ I2S3_WS/ EVENTOUT | ADC12_IN4 / DAC_OUT1 |\n",
    "| PA5  | SPI1_SCK/ OTG_HS_ULPI_CK / TIM2_CH1_ETR/ TIM8_CH1N/ EVENTOUT | ADC12_IN5 / DAC_ OUT2 |\n",
    "| PA6  | SPI1_MISO / TIM8_BKIN/TIM13_CH1 / DCMI_PIXCLK / TIM3_CH1 / TIM1_BKIN/ EVENTOUT | ADC12_IN6 |\n",
    "| PA7  | SPI1_MOSI/ TIM8_CH1N / TIM14_CH1 / TIM3_CH2 / ETH_MII_RX_DV / TIM1_CH1N / ETH_RMII_CRS_DV / EVENTOUT | ADC12_IN7 |\n",
    "| PB6  | I2C1_SCL/ TIM4_CH1 / CAN2_TX / DCMI_D5/USART1_TX/ EVENTOUT |\n",
    "| PB7  | I2C1_SDA / FSMC_NL / DCMI_VSYNC / USART1_RX/ TIM4_CH2/ EVENTOUT |\n",
    "| PB8  | TIM4_CH3/SDIO_D4/ TIM10_CH1 / DCMI_D6 / ETH_MII_TXD3 / I2C1_SCL/ CAN1_RX/ EVENTOUT |\n",
    "| PB9  | SPI2_NSS/ I2S2_WS / TIM4_CH4/ TIM11_CH1/ SDIO_D5 / DCMI_D7 / I2C1_SDA / CAN1_TX/ EVENTOUT |\n",
    "| PB10 | SPI2_SCK / I2S2_CK / I2C2_SCL/ USART3_TX / OTG_HS_ULPI_D3 / ETH_MII_RX_ER / TIM2_CH3/ EVENTOUT |\n",
    "| PB11 | I2C2_SDA/USART3_RX/ OTG_HS_ULPI_D4 / ETH_RMII_TX_EN/ ETH_MII_TX_EN / TIM2_CH4/ EVENTOUT |\n",
    "| PB13 | SPI2_SCK / I2S2_CK / USART3_CTS/ TIM1_CH1N /CAN2_TX / OTG_HS_ULPI_D6 / ETH_RMII_TXD1 / ETH_MII_TXD1/ EVENTOUT |\n",
    "| PB14 | SPI2_MISO/ TIM1_CH2N / TIM12_CH1 / OTG_HS_DM/ USART3_RTS / TIM8_CH2N/I2S2ext_SD/ EVENTOUT |\n",
    "| PB15 | SPI2_MOSI / I2S2_SD/ TIM1_CH3N / TIM8_CH3N / TIM12_CH2 / OTG_HS_DP/ EVENTOUT | RTC_REFIN\n",
    "| PC1  | ETH_MDC/ EVENTOUT | ADC123_IN11 |\n",
    "| PC2  | SPI2_MISO / OTG_HS_ULPI_DIR / ETH_MII_TXD2 /I2S2ext_SD/ EVENTOUT | ADC123_IN12 |\n",
    "| PC3  | SPI2_MOSI / I2S2_SD / OTG_HS_ULPI_NXT / ETH_MII_TX_CLK/ EVENTOUT | ADC123_IN13 |\n",
    "| PC4  | ETH_RMII_RX_D0 / ETH_MII_RX_D0/ EVENTOUT | ADC12_IN14 |\n",
    "| PC5  | ETH_RMII_RX_D1 / ETH_MII_RX_D1/ EVENTOUT | ADC12_IN15 |\n",
    "| PC6  | I2S2_MCK / TIM8_CH1/SDIO_D6 / USART6_TX / DCMI_D0/TIM3_CH1/ EVENTOUT |\n",
    "| PC7  | I2S3_MCK / TIM8_CH2/SDIO_D7 / USART6_RX / DCMI_D1/TIM3_CH2/ EVENTOUT |\n"
   ]
  },
  {
   "cell_type": "code",
   "execution_count": 1,
   "metadata": {},
   "outputs": [
    {
     "name": "stdout",
     "output_type": "stream",
     "text": [
      "\u001b[0mHostname             URL                                      UID\n",
      "\u001b[0mstm32                serial:///dev/cu.usbmodem208E307542522   27:00:55:00:09:50:52:42:4e:30:39:20\n",
      "\u001b[0mesp32                serial:///dev/cu.usbserial-0143520E      30:ae:a4:1a:2c:3c\n",
      "\u001b[0mesp32_cop            serial:///dev/cu.usbserial-014352DD      30:ae:a4:1a:27:28\n",
      "\u001b[0margon_rpc            serial:///dev/cu.usbmodem1413401         65:45:95:1c:95:25:2a:25\n",
      "\u001b[0m\u001b[0mConnected to stm32 @ serial:///dev/cu.usbmodem208E307542522\n",
      "\u001b[0mwith projects [secrets, airlift]\n",
      "\u001b[0m"
     ]
    }
   ],
   "source": [
    "%discover\n",
    "%connect stm32"
   ]
  },
  {
   "cell_type": "code",
   "execution_count": 1,
   "metadata": {},
   "outputs": [
    {
     "name": "stderr",
     "output_type": "stream",
     "text": [
      "Interrupted\u001b[0m"
     ]
    }
   ],
   "source": [
    "from machine import Pin\n",
    "import time\n",
    "\n",
    "a0 = Pin('A0', Pin.OUT)\n",
    "while True:\n",
    "    a0.high()\n",
    "    time.sleep(1)\n",
    "    a0.low()\n",
    "    time.sleep(1)"
   ]
  },
  {
   "cell_type": "markdown",
   "metadata": {},
   "source": []
  }
 ],
 "metadata": {
  "kernelspec": {
   "display_name": "IoT",
   "language": "python",
   "name": "iot_kernel"
  },
  "language_info": {
   "codemirror_mode": {
    "name": "python",
    "version": 3
   },
   "file_extension": ".py",
   "mimetype": "text/x-python",
   "name": "python",
   "pygments_lexer": "python3",
   "version": "3"
  }
 },
 "nbformat": 4,
 "nbformat_minor": 4
}
