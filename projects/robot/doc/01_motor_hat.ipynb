{
 "cells": [
  {
   "cell_type": "markdown",
   "id": "controlled-serve",
   "metadata": {},
   "source": [
    "# Motor Hat\n",
    "\n",
    "Raspberry Pi Hat with\n",
    "\n",
    "* STM32F405\n",
    "   * [Pinout](figures/feather-pinout.pdf)\n",
    "   * [Datasheet](datasheets/stm32f405.pdf)\n",
    "* [TB6612 dual H-bridge](datasheets/TB6612FNG.pdf)\n",
    "* Dual 16-bit quadrature encoders\n",
    "* Sensors\n",
    "   * [BNO055 - datasheet](datasheets/bno055-datasheet.pdf)\n",
    "   * BME680\n",
    "   * VL53L\n",
    "* KiCad \n",
    "   * From breakout boards @ `../kicad/motor_hat_breakout`\n",
    "   * SMD components (incomplete) @ `../kicad/motor_hat_breakout` \n",
    "      - main benefit is 32-bit encoders"
   ]
  },
  {
   "cell_type": "code",
   "execution_count": null,
   "id": "bright-color",
   "metadata": {},
   "outputs": [],
   "source": []
  }
 ],
 "metadata": {
  "kernelspec": {
   "display_name": "IoT",
   "language": "python",
   "name": "iot_kernel"
  },
  "language_info": {
   "codemirror_mode": {
    "name": "python",
    "version": 3
   },
   "file_extension": ".py",
   "mimetype": "text/x-python",
   "name": "python",
   "pygments_lexer": "python3",
   "version": "3"
  }
 },
 "nbformat": 4,
 "nbformat_minor": 5
}
