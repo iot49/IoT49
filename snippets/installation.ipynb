{
 "cells": [
  {
   "cell_type": "markdown",
   "id": "rapid-arrangement",
   "metadata": {},
   "source": [
    "# Installation"
   ]
  },
  {
   "cell_type": "code",
   "execution_count": 2,
   "id": "engaging-county",
   "metadata": {},
   "outputs": [
    {
     "name": "stdout",
     "output_type": "stream",
     "text": [
      "PRETTY_NAME=\"Debian GNU/Linux 10 (buster)\"\n",
      "NAME=\"Debian GNU/Linux\"\n",
      "VERSION_ID=\"10\"\n",
      "VERSION=\"10 (buster)\"\n",
      "VERSION_CODENAME=buster\n",
      "ID=debian\n",
      "HOME_URL=\"https://www.debian.org/\"\n",
      "SUPPORT_URL=\"https://www.debian.org/support\"\n",
      "BUG_REPORT_URL=\"https://bugs.debian.org/\"\n"
     ]
    }
   ],
   "source": [
    "!cat /etc/os-release"
   ]
  },
  {
   "cell_type": "code",
   "execution_count": 3,
   "id": "tender-schedule",
   "metadata": {},
   "outputs": [
    {
     "name": "stdout",
     "output_type": "stream",
     "text": [
      "Balena:\u001b[0m\n",
      "BALENA_DEVICE_TYPE=raspberrypi4-64\u001b[0m\n",
      "BALENA_APP_ID=1821890\u001b[0m\n",
      "BALENA_DEVICE_ARCH=aarch64\u001b[0m\n",
      "BALENA_APP_LOCK_PATH=/tmp/balena/updates.lock\u001b[0m\n",
      "BALENA_SUPERVISOR_API_KEY=6cee45e3e77ba9e11d10661ae7570416\u001b[0m\n",
      "BALENA_SUPERVISOR_HOST=127.0.0.1\u001b[0m\n",
      "BALENA_SUPERVISOR_ADDRESS=http://127.0.0.1:48484\u001b[0m\n",
      "BALENA_HOST_OS_VERSION=balenaOS 2.73.1+rev1\u001b[0m\n",
      "BALENA_SUPERVISOR_PORT=48484\u001b[0m\n",
      "BALENA_SERVICE_HANDOVER_COMPLETE_PATH=/tmp/balena/handover-complete\u001b[0m\n",
      "BALENA_SERVICE_NAME=iot49\u001b[0m\n",
      "BALENA_DEVICE_UUID=200a469c672d5168ac53111da59b1d36\u001b[0m\n",
      "BALENA_DEVICE_NAME_AT_INIT=pi4server\u001b[0m\n",
      "BALENA=1\u001b[0m\n",
      "BALENA_APP_NAME=IoT-dev\u001b[0m\n",
      "Jupyter:\u001b[0m\n",
      "JUPYTER_PORT=8888\u001b[0m\n"
     ]
    }
   ],
   "source": [
    "%%bash\n",
    "\n",
    "echo \"Balena:\"\n",
    "printenv | grep BALENA\n",
    "\n",
    "echo \"Jupyter:\"\n",
    "printenv | grep JUPYTER"
   ]
  },
  {
   "cell_type": "code",
   "execution_count": 4,
   "id": "cordless-friend",
   "metadata": {},
   "outputs": [
    {
     "name": "stdout",
     "output_type": "stream",
     "text": [
      "SHELL=/bin/bash\n",
      "RESIN_APP_ID=1821890\n",
      "BALENA_APP_ID=1821890\n",
      "BALENA_DEVICE_ARCH=aarch64\n",
      "RESIN_SUPERVISOR_ADDRESS=http://127.0.0.1:48484\n",
      "HOSTNAME=200a469\n",
      "BALENA=1\n",
      "IOT=/home\n",
      "RESIN_SUPERVISOR_HOST=127.0.0.1\n",
      "RESIN_APP_LOCK_PATH=/tmp/balena/updates.lock\n",
      "BALENA_APP_LOCK_PATH=/tmp/balena/updates.lock\n",
      "RESIN_SUPERVISOR_PORT=48484\n",
      "PWD=/home/iot49\n",
      "UDEV=on\n",
      "BALENA_SUPERVISOR_API_KEY=6cee45e3e77ba9e11d10661ae7570416\n",
      "BALENA_SERVICE_NAME=iot49\n",
      "_=/usr/bin/printenv\n",
      "BALENA_APP_NAME=IoT-dev\n",
      "HOME=/home\n",
      "RESIN_SERVICE_NAME=iot49\n",
      "CLICOLOR=1\n",
      "RESIN_SUPERVISOR_API_KEY=6cee45e3e77ba9e11d10661ae7570416\n",
      "RESIN_DEVICE_UUID=200a469c672d5168ac53111da59b1d36\n",
      "JPY_PARENT_PID=79\n",
      "IOT49=/home/iot49\n",
      "BALENA_SUPERVISOR_PORT=48484\n",
      "TERM=xterm-color\n",
      "RESIN_APP_NAME=IoT-dev\n",
      "USER=root\n",
      "GIT_PAGER=cat\n",
      "BALENA_DEVICE_NAME_AT_INIT=pi4server\n",
      "RESIN=1\n",
      "BALENA_SUPERVISOR_HOST=127.0.0.1\n",
      "BALENA_DEVICE_UUID=200a469c672d5168ac53111da59b1d36\n",
      "SHLVL=2\n",
      "PAGER=cat\n",
      "MPLBACKEND=module://ipykernel.pylab.backend_inline\n",
      "JUPYTER_PORT=8888\n",
      "RESIN_DEVICE_ARCH=aarch64\n",
      "DBUS_SYSTEM_BUS_ADDRESS=unix:path=/host/run/dbus/system_bus_socket\n",
      "LC_ALL=C.UTF-8\n",
      "PATH=/root/miniforge3/bin:/usr/local/sbin:/usr/local/bin:/usr/sbin:/usr/bin:/sbin:/bin\n",
      "BALENA_DEVICE_TYPE=raspberrypi4-64\n",
      "RESIN_SERVICE_KILL_ME_PATH=/tmp/balena/handover-complete\n",
      "RESIN_HOST_OS_VERSION=balenaOS 2.73.1+rev1\n",
      "RESIN_DEVICE_NAME_AT_INIT=pi4server\n",
      "RESIN_DEVICE_TYPE=raspberrypi4-64\n",
      "BALENA_SUPERVISOR_ADDRESS=http://127.0.0.1:48484\n",
      "DEBIAN_FRONTEND=noninteractive\n",
      "BALENA_HOST_OS_VERSION=balenaOS 2.73.1+rev1\n",
      "BALENA_SERVICE_HANDOVER_COMPLETE_PATH=/tmp/balena/handover-complete\n"
     ]
    }
   ],
   "source": [
    "!printenv"
   ]
  },
  {
   "cell_type": "code",
   "execution_count": null,
   "id": "understanding-diagram",
   "metadata": {},
   "outputs": [],
   "source": []
  }
 ],
 "metadata": {
  "kernelspec": {
   "display_name": "IoT",
   "language": "python",
   "name": "iot_kernel"
  },
  "language_info": {
   "codemirror_mode": {
    "name": "python",
    "version": 3
   },
   "file_extension": ".py",
   "mimetype": "text/x-python",
   "name": "python",
   "pygments_lexer": "python3",
   "version": "3"
  }
 },
 "nbformat": 4,
 "nbformat_minor": 5
}
