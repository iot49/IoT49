{
 "cells": [
  {
   "cell_type": "markdown",
   "metadata": {},
   "source": [
    "# ESP32 RTS/CTS"
   ]
  },
  {
   "cell_type": "code",
   "execution_count": 1,
   "metadata": {},
   "outputs": [
    {
     "name": "stdout",
     "output_type": "stream",
     "text": [
      "\u001b[0mHostname             URL                                      UID\n",
      "\u001b[0mnrf52                serial:///dev/cu.usbmodem1413401         c7:9d:75:c8:7a:14:1d:b6\n",
      "\u001b[0mesp32_cop            serial:///dev/cu.usbserial-014352DD      30:ae:a4:1a:27:28\n",
      "\u001b[0m\u001b[0mConnected to esp32_cop @ serial:///dev/cu.usbserial-014352DD\n",
      "\u001b[0mwith projects [secrets, airlift/libs/server]\n",
      "\u001b[0m\u001b[0m\u001b[34mUPDATE  lib/urpc/server.py\n",
      "\u001b[0m\u001b[0m\u001b[0m\n",
      "\u001b[0m\u001b[46m\u001b[31m!!!!!!!!!!!!!!!!!!!!!!!!!!!!!!!\n",
      "\u001b[0m\u001b[46m\u001b[31m!!!!!   softreset ...     !!!!!\n",
      "\u001b[0m\u001b[46m\u001b[31m!!!!!!!!!!!!!!!!!!!!!!!!!!!!!!!\u001b[0m\n",
      "\n",
      "\u001b[0m"
     ]
    }
   ],
   "source": [
    "%discover\n",
    "%connect esp32_cop\n",
    "%rsync\n",
    "%softreset"
   ]
  },
  {
   "cell_type": "markdown",
   "metadata": {},
   "source": [
    "## Open"
   ]
  },
  {
   "cell_type": "code",
   "execution_count": 1,
   "metadata": {},
   "outputs": [
    {
     "name": "stdout",
     "output_type": "stream",
     "text": [
      "\u001b[0mConnected to esp32_cop @ serial:///dev/cu.usbserial-014352DD\n",
      "\u001b[0mwith projects [boards/esp32/mcu, secrets, airlift]\n",
      "\u001b[0m"
     ]
    }
   ],
   "source": [
    "%connect esp32_cop\n",
    "\n",
    "import machine, time, os\n",
    "\n",
    "config = { 'rx': 16, 'tx': 17, 'rts': 18, 'cts': 19, 'baudrate': 1000000 }\n",
    "uart = machine.UART(2, **config)\n",
    "uart.init(bits=8, stop=1, txbuf=256, rxbuf=256, timeout=500)\n"
   ]
  },
  {
   "cell_type": "markdown",
   "metadata": {},
   "source": [
    "* After reset: all pins \"low\" (really \"open\")\n",
    "* Init uart: all pins high, except RTS\n",
    "* CTS is in, RTS is out\n",
    "* --> unexpected RX, CTS high???"
   ]
  },
  {
   "cell_type": "markdown",
   "metadata": {},
   "source": [
    "## Loopback"
   ]
  },
  {
   "cell_type": "code",
   "execution_count": 1,
   "metadata": {},
   "outputs": [
    {
     "name": "stdout",
     "output_type": "stream",
     "text": [
      "\u001b[0mConnected to esp32_cop @ serial:///dev/cu.usbserial-014352DD\n",
      "\u001b[0mwith projects [boards/esp32/mcu, secrets, airlift]\n",
      "\u001b[0mwrote\n",
      "\u001b[0m[ 16] b'abcdefghijklmnop'\n",
      "\u001b[0m[  0] b''\n",
      "\u001b[0m[  0] b''\n",
      "\u001b[0m[  0] b''\n",
      "\u001b[0m[  0] b''\n",
      "\u001b[0m"
     ]
    }
   ],
   "source": [
    "%connect esp32_cop\n",
    "\n",
    "import machine, time, os\n",
    "\n",
    "config = { 'rx': 16, 'tx': 17, 'baudrate': 1000000, 'rts': 18, 'cts': 19 }\n",
    "uart = machine.UART(2, **config)\n",
    "uart.init(bits=8, stop=1, txbuf=256, rxbuf=256, timeout=500)\n",
    "\n",
    "uart.write(b'abcdefghijklmnop')\n",
    "print(\"wrote\")\n",
    "for i in range(5):\n",
    "    iw = uart.any()\n",
    "    res = uart.read(iw)\n",
    "    print(\"[{:3}] {}\".format(iw, res))\n",
    "    time.sleep(0.1)"
   ]
  },
  {
   "cell_type": "code",
   "execution_count": 1,
   "metadata": {},
   "outputs": [
    {
     "name": "stderr",
     "output_type": "stream",
     "text": [
      "Interrupted\u001b[0m"
     ]
    }
   ],
   "source": [
    "for i in range(20):\n",
    "    x = uart.write(b'abcdefghijklmnop')"
   ]
  },
  {
   "cell_type": "code",
   "execution_count": 1,
   "metadata": {},
   "outputs": [
    {
     "name": "stderr",
     "output_type": "stream",
     "text": [
      "Timeout reading from MCU, got bytearray(b''), expect b'raw REPL; CTRL-B to exit\\r\\n>'\u001b[0m"
     ]
    }
   ],
   "source": [
    "for i in range(5):\n",
    "    iw = uart.any()\n",
    "    res = uart.read(iw)\n",
    "    print(\"[{:3}] {}\".format(iw, res))\n",
    "    time.sleep(0.1)"
   ]
  },
  {
   "cell_type": "markdown",
   "metadata": {},
   "source": [
    "* pull CTS input low to receive data\n",
    "* RTS output is low"
   ]
  },
  {
   "cell_type": "markdown",
   "metadata": {},
   "source": [
    "# with NRF"
   ]
  },
  {
   "cell_type": "code",
   "execution_count": 1,
   "metadata": {},
   "outputs": [
    {
     "name": "stdout",
     "output_type": "stream",
     "text": [
      "\u001b[0mConnected to esp32_cop @ serial:///dev/cu.usbserial-014352DD\n",
      "\u001b[0mwith projects [secrets, airlift/libs/server]\n",
      "\u001b[0mempty buffer ... 0\n",
      "\u001b[0mwriter data\n",
      "\u001b[0mgot [256]  b'0123456789:;<=>?@ABCDEFGHIJKLMNOPQRSTUVWXYZ[\\\\]^_`a\u001b[0mbcdefghijklmnopqrstuvwx0123456789:;<=>?@ABCDEFGHIJKLMNOPQRSTUVWX\u001b[0mYZ[\\\\]^_`abcdefghijklmnopqrstuvwx0123456789:;<=>?@ABCDEFGHIJKLMN\u001b[0mOPQRSTUVWXYZ[\\\\]^_`abcdefghijklmnopqrstuvwx0123456789:;<=>?@ABCD\u001b[0mEFGHIJKLMNOPQRST'\n",
      "got [256]  b'UVWXYZ[\\\\]^_`abcdefghijklmnopqrs\u001b[0mtuvwx0123456789:;<=>?@ABCDEFGHIJKLMNOPQRSTUVWXYZ[\\\\]^_`abcdefghi\u001b[0mjklmnopqrstuvwx0123456789:;<=>?@ABCDEFGHIJKLMNOPQRSTUVWXYZ[\\\\]^_\u001b[0m`abcdefghijklmnopqrstuvwx0123456789:;<=>?@ABCDEFGHIJKLMNOPQRSTUV\u001b[0mWXYZ[\\\\]^_`abcdefghijklmnopqrstuvwx0'\n",
      "got [188]  b'123456789:;<\u001b[0m=>?@ABCDEFGHIJKLMNOPQRSTUVWXYZ[\\\\]^_`abcdefghijklmnopqrstuvwx012\u001b[0m3456789:;<=>?@ABCDEFGHIJKLMNOPQRSTUVWXYZ[\\\\]^_`abcdefghijklmnopq\u001b[0mrstuvwx0123456789:;<=>?@ABCDEFGHIJKLMNOPQRSTUVWXYZ'\n",
      "Match!\n",
      "\u001b[0m"
     ]
    }
   ],
   "source": [
    "%connect esp32_cop\n",
    "\n",
    "import machine, time, os, io\n",
    "\n",
    "config = { 'rx': 16, 'tx': 17, 'baudrate': 1000000, 'rts': 18, 'cts': 19 }\n",
    "uart = machine.UART(2, **config)\n",
    "uart.init(bits=8, stop=1, txbuf=256, rxbuf=256, timeout=500)\n",
    "\n",
    "print(\"empty buffer ...\", uart.any())\n",
    "while uart.any():\n",
    "    uart.read(uart.any())\n",
    "    time.sleep(0.1)\n",
    "\n",
    "N=700\n",
    "data = bytearray(N)\n",
    "b = io.BytesIO()\n",
    "\n",
    "c = 200\n",
    "for i in range(N):\n",
    "    if c > 120:\n",
    "        c = ord('0')\n",
    "    data[i] = c\n",
    "    c += 1\n",
    "\n",
    "print(\"writer data\")\n",
    "uart.write(data)\n",
    "\n",
    "while len(b.getvalue()) < N:\n",
    "    iw = uart.any()\n",
    "    if iw:\n",
    "        res = uart.read(iw)\n",
    "        b.write(res)\n",
    "        print(\"got [{:3}]  {}\".format(iw, res))\n",
    "    else:\n",
    "        time.sleep(0.1)\n",
    "        \n",
    "if data != b.getvalue():\n",
    "    print(\"Mismatch!\")\n",
    "else:\n",
    "    print(\"Match!\")"
   ]
  },
  {
   "cell_type": "markdown",
   "metadata": {},
   "source": [
    "## urpc server"
   ]
  },
  {
   "cell_type": "code",
   "execution_count": 1,
   "metadata": {},
   "outputs": [
    {
     "name": "stdout",
     "output_type": "stream",
     "text": [
      "\u001b[0mConnected to esp32_cop @ serial:///dev/cu.usbserial-014352DD\n",
      "\u001b[0mwith projects [secrets, airlift/libs/server]\n",
      "\u001b[0m\u001b[0m\u001b[32mDirectories match\n",
      "\u001b[0m\u001b[0m"
     ]
    }
   ],
   "source": [
    "%connect esp32_cop\n",
    "%rsync"
   ]
  },
  {
   "cell_type": "code",
   "execution_count": 1,
   "metadata": {},
   "outputs": [
    {
     "name": "stdout",
     "output_type": "stream",
     "text": [
      "\u001b[0mConnected to esp32_cop @ serial:///dev/cu.usbserial-014352DD\n",
      "\u001b[0mwith projects [secrets, airlift/libs/server]\n",
      "\u001b[0mstarting urpc server\n",
      "\u001b[0mets Jun  8 2016 00:22:57\n",
      "\n",
      "rst:0x1 (POWERON_RESET),boot:0x13 (S\u001b[0mPI_FAST_FLASH_BOOT)\n",
      "configsip: 0, SPIWP:0xee\n",
      "clk_drv:0x00,q_dr\u001b[0mv:0x00,d_drv:0x00,cs0_drv:0x00,hd_drv:0x00,wp_drv:0x00\n",
      "mode:DIO\u001b[0m, clock div:2\n",
      "load:0x3fff0018,len:4\n",
      "load:0x3fff001c,len:5120\n",
      "\u001b[0mho 0 tail 12 room 4\n",
      "load:0x40078000,len:10680\n",
      "ho 0 tail 12 roo\u001b[0mm 4\n",
      "load:0x40080400,len:5684\n",
      "entry 0x400806bc\n",
      "\u001b[0mMicroPython v1.13-274-ga1853285f-dirty on 2021-01-03; 4MB/OTA mo\u001b[0mdule with ESP32\n",
      "Type \"help()\" for more information.\n",
      ">>> \u001b[0m"
     ]
    },
    {
     "name": "stderr",
     "output_type": "stream",
     "text": [
      "Interrupted\u001b[0m"
     ]
    }
   ],
   "source": [
    "%connect esp32_cop\n",
    "\n",
    "import uasyncio as asyncio\n",
    "import msgpack, io, os\n",
    "\n",
    "# object registry\n",
    "# concrete objects on server are represented by _Proxy on client\n",
    "# format: id(object) --> object\n",
    "_registry = {}\n",
    "\n",
    "\n",
    "def im(module):\n",
    "    \"\"\"Import module\"\"\"\n",
    "    exec(\"import {}\".format(module))\n",
    "    return locals()[module]\n",
    "\n",
    "def cm(obj, name, args, kwargs):\n",
    "    \"\"\"Call instance method\"\"\"\n",
    "    return getattr(obj, name)(*args, **kwargs)\n",
    "    \n",
    "def gp(obj, name):\n",
    "    \"\"\"Get property\"\"\"\n",
    "    return getattr(obj, name)\n",
    "    \n",
    "def sp(obj, name, value):\n",
    "    \"\"\"Set property\"\"\"\n",
    "    return setattr(obj, name, value)\n",
    "\n",
    "def _d(obj):\n",
    "    \"\"\"Remove object from registry, __del__\"\"\"\n",
    "    try:\n",
    "        del _registry[id(obj)]\n",
    "    except KeyError:\n",
    "        pass\n",
    "    \n",
    "def _s(obj):\n",
    "    \"\"\"__str__\"\"\"\n",
    "    return str(obj)\n",
    "\n",
    "def _r():\n",
    "    \"\"\"Registry (backdoor)\"\"\"\n",
    "    return _registry\n",
    "    \n",
    "\n",
    "def _ext_handler(code, data):\n",
    "    # convert ExtType to object\n",
    "    if code != 1:\n",
    "        print(\"_ext_handler({} ?, {})\".format(code, data))\n",
    "    return _registry.get(int.from_bytes(data, 'big'))\n",
    "\n",
    "\n",
    "def _obj_handler(obj):\n",
    "    # convert object to ExtType\n",
    "    x = id(obj)\n",
    "    if not _registry.get(x):\n",
    "        _registry[x] = obj\n",
    "    return msgpack.ExtType(1, x.to_bytes(4, 'big'))\n",
    "    \n",
    "\n",
    "class Server(io.IOBase):\n",
    "    \n",
    "    def __init__(self, uart):\n",
    "        self.uart = uart\n",
    "        \n",
    "    # for dupterm\n",
    "    def write(self, data):\n",
    "        if not self.print:\n",
    "            self.print = io.StringIO()\n",
    "        self.print.write(data)\n",
    "\n",
    "    # for dupterm\n",
    "    def readinto(self, *args):\n",
    "        return None\n",
    "\n",
    "    def serve(self):\n",
    "        # Serve one request. Blocking.\n",
    "        call = msgpack.unpack(self.uart, ext_hook=_ext_handler, use_list=False)\n",
    "        self.print = None\n",
    "        os.dupterm(self)\n",
    "        try:\n",
    "            # blocks however long the user's code takes (e.g. socket.recv)\n",
    "            result = globals().get(call[0])(*call[1:])\n",
    "        except Exception as e:\n",
    "            s = io.StringIO()\n",
    "            sys.print_exception(e, s)\n",
    "            result = msgpack.ExtType(2, s.getvalue().encode())\n",
    "        finally:\n",
    "            os.dupterm(None)\n",
    "        if self.print:\n",
    "            # output from print statements\n",
    "            msgpack.pack(msgpack.ExtType(3, self.print.getvalue()), self.uart)\n",
    "        msgpack.pack(result, self.uart, default=_obj_handler)\n",
    "\n",
    "    \n",
    "async def async_serve(uart):\n",
    "    # serve requests indefinitely\n",
    "    # we use a Stream object to await read(0)\n",
    "    # but do the actual reading (with msgpack) from the uart itself\n",
    "    server = Server(uart)\n",
    "    stream = asyncio.StreamReader(uart)\n",
    "    n = 0\n",
    "    while True:\n",
    "        try:\n",
    "            # wait for request \n",
    "            # (we assume stream.read isn't clever optimizes away the read(0) ...)\n",
    "            n += 1\n",
    "            await stream.read(0)\n",
    "            server.serve()\n",
    "        except Exception as e:\n",
    "            # Internal server error. Should never happen.\n",
    "            try:\n",
    "                error = msgpack.ExtType(2, repr(\"PRC Server Internal Error: {}\".format(e)).encode())\n",
    "                msgpack.pack(error, uart)\n",
    "            except:\n",
    "                pass\n",
    "\n",
    "            \n",
    "configuration = {\n",
    "    # particle-argon with on-board esp32\n",
    "    'argon':      { 'rx': 19, 'tx': 22, 'baudrate': 1000000 },\n",
    "    'argon_flow': { 'rx': 19, 'tx': 22, 'rts': 0, 'cts': 26, 'baudrate': 1_000_000 },\n",
    "\n",
    "    # huzzah32 as esp32 co-processor. tried on feather stm32f405.\n",
    "    'huzzah32':   { 'rx': 16, 'tx': 17, 'baudrate': 1000000, 'rts': 18, 'cts': 19 },\n",
    "}\n",
    "\n",
    "\n",
    "def start_server(config, enable_net_server=False):\n",
    "\n",
    "    uart = machine.UART(2, **config)\n",
    "    uart.init(bits=8, stop=1, txbuf=1024, rxbuf=1024, timeout=20000)\n",
    "\n",
    "    async def main(uart):\n",
    "        print(\"starting urpc server\")\n",
    "        asyncio.create_task(async_serve(uart))\n",
    "        \n",
    "        if enable_net_server:\n",
    "            import net_repl\n",
    "            import secrets\n",
    "            asyncio.create_task(net_repl.async_serve(\n",
    "                port=54321, \n",
    "                password=getattr(secrets, 'net_pwd', None)))\n",
    "            \n",
    "        asyncio.get_event_loop().run_forever()\n",
    "\n",
    "    asyncio.run(main(uart))\n",
    "\n",
    "    \n",
    "config = configuration['huzzah32']\n",
    "start_server(config, enable_net_server=False)"
   ]
  },
  {
   "cell_type": "markdown",
   "metadata": {},
   "source": [
    "# URPC Server - Start from library"
   ]
  },
  {
   "cell_type": "code",
   "execution_count": 1,
   "metadata": {},
   "outputs": [
    {
     "name": "stdout",
     "output_type": "stream",
     "text": [
      "\u001b[0mConnected to esp32_cop @ serial:///dev/cu.usbserial-014352DD\n",
      "\u001b[0mwith projects [secrets, airlift/libs/server]\n",
      "\u001b[0mstarting urpc server ...\n",
      "\u001b[0m"
     ]
    },
    {
     "name": "stderr",
     "output_type": "stream",
     "text": [
      "Interrupted\u001b[0m"
     ]
    }
   ],
   "source": [
    "%connect esp32_cop\n",
    "\n",
    "from urpc import async_serve\n",
    "import uasyncio as asyncio\n",
    "\n",
    "configuration = {\n",
    "    # particle-argon with on-board esp32\n",
    "    'argon':      { 'rx': 19, 'tx': 22, 'baudrate': 1000000 },\n",
    "    'argon_flow': { 'rx': 19, 'tx': 22, 'rts': 0, 'cts': 26, 'baudrate': 1_000_000 },\n",
    "\n",
    "    # huzzah32 as esp32 co-processor. tried on feather stm32f405.\n",
    "    'huzzah32':   { 'rx': 16, 'tx': 17, 'baudrate': 1000000, 'rts': 18, 'cts': 19 },\n",
    "}\n",
    "\n",
    "\n",
    "def start_server(config, enable_net_server=False):\n",
    "\n",
    "    uart = machine.UART(2, **config)\n",
    "    uart.init(bits=8, stop=1, txbuf=1024, rxbuf=1024, timeout=20000)\n",
    "\n",
    "    async def main(uart):\n",
    "        print(\"starting urpc server ...\")\n",
    "        asyncio.create_task(async_serve(uart))\n",
    "        \n",
    "        if enable_net_server:\n",
    "            import net_repl\n",
    "            import secrets\n",
    "            asyncio.create_task(net_repl.async_serve(\n",
    "                port=54321, \n",
    "                password=getattr(secrets, 'net_pwd', None)))\n",
    "            \n",
    "        asyncio.get_event_loop().run_forever()\n",
    "\n",
    "    asyncio.run(main(uart))\n",
    "\n",
    "    \n",
    "config = configuration['huzzah32']\n",
    "start_server(config, enable_net_server=False)"
   ]
  },
  {
   "cell_type": "code",
   "execution_count": 1,
   "metadata": {},
   "outputs": [
    {
     "name": "stdout",
     "output_type": "stream",
     "text": [
      "\u001b[0mConnected to esp32_cop @ serial:///dev/cu.usbserial-014352DD\n",
      "\u001b[0mwith projects [secrets, airlift/libs/server]\n",
      "\u001b[0m99360\n",
      "\u001b[0m"
     ]
    }
   ],
   "source": [
    "import gc\n",
    "print(gc.mem_free())"
   ]
  }
 ],
 "metadata": {
  "kernelspec": {
   "display_name": "IoT",
   "language": "python",
   "name": "iot_kernel"
  },
  "language_info": {
   "codemirror_mode": {
    "name": "python",
    "version": 3
   },
   "file_extension": ".py",
   "mimetype": "text/x-python",
   "name": "python",
   "pygments_lexer": "python3",
   "version": "3"
  }
 },
 "nbformat": 4,
 "nbformat_minor": 4
}
