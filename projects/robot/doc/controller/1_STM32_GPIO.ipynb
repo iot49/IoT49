{
 "cells": [
  {
   "cell_type": "markdown",
   "id": "marine-reception",
   "metadata": {},
   "source": [
    "# Motor Hat STM32 & Peripherals\n",
    "\n",
    "[STM32F405 Pinout](../figures/feather-pinout.pdf \"Pinout\")\n",
    "\n",
    "* Adafruit \"Recommended\" pin functions don't match needs, use different assignments\n",
    "* Consult Table 9 in STM32F405 manual for pin \"alternate functions\""
   ]
  },
  {
   "cell_type": "code",
   "execution_count": 1,
   "id": "printable-signature",
   "metadata": {},
   "outputs": [
    {
     "name": "stdout",
     "output_type": "stream",
     "text": [
      "\u001b[0m\u001b[0mConnected to robot-stm @ serial:///dev/serial0\u001b[0m\n"
     ]
    }
   ],
   "source": [
    "%register 'serial:///dev/serial0'\n",
    "%connect robot-stm"
   ]
  },
  {
   "cell_type": "markdown",
   "id": "working-penalty",
   "metadata": {},
   "source": [
    "## Pin Functions"
   ]
  },
  {
   "cell_type": "code",
   "execution_count": 1,
   "id": "handy-delivery",
   "metadata": {},
   "outputs": [
    {
     "name": "stdout",
     "output_type": "stream",
     "text": [
      "board name      name alternate functions\n",
      "\u001b[0mAIN1            C5   []\n",
      "AIN2            C3   [Pin.AF5_SPI2]\n",
      "AUX             C4   []\n",
      "\u001b[0mBATTERY_MONITOR A3   [Pin.AF1_TIM2, Pin.AF2_TIM5, Pin.AF3_TIM9, Pin.AF7_USART2]\n",
      "BIN1            C2   [Pin.AF5_SPI2]\n",
      "\u001b[0mBIN2            A4   [Pin.AF5_SPI1, Pin.AF7_USART2]\n",
      "BOOT1           B2   []\n",
      "CTS             B13  [Pin.AF1_TIM1, Pin.AF5_SPI2, Pin.AF7_USART3]\n",
      "D8              C0   []\n",
      "\u001b[0mENC_A1          A6   [Pin.AF1_TIM1, Pin.AF2_TIM3, Pin.AF3_TIM8, Pin.AF5_SPI1, Pin.AF9_TIM13]\n",
      "\u001b[0mENC_A2          A7   [Pin.AF1_TIM1, Pin.AF2_TIM3, Pin.AF3_TIM8, Pin.AF5_SPI1, Pin.AF9_TIM14]\n",
      "ENC_B1          B6   [Pin.AF2_TIM4, Pin.AF4_I2C1]\n",
      "\u001b[0mENC_B2          B7   [Pin.AF2_TIM4, Pin.AF4_I2C1]\n",
      "FLASH_CS        A15  [Pin.AF1_TIM2, Pin.AF1_TIM2, Pin.AF5_SPI1]\n",
      "FLASH_MISO      B4   [Pin.AF2_TIM3, Pin.AF5_SPI1]\n",
      "\u001b[0mFLASH_MOSI      B5   [Pin.AF2_TIM3, Pin.AF5_SPI1]\n",
      "FLASH_SCK       B3   [Pin.AF1_TIM2, Pin.AF5_SPI1]\n",
      "\u001b[0mNC_A0           A0   [Pin.AF1_TIM2, Pin.AF1_TIM2, Pin.AF2_TIM5, Pin.AF3_TIM8, Pin.AF7_USART2]\n",
      "NC_A1           A1   [Pin.AF1_TIM2, Pin.AF2_TIM5, Pin.AF7_USART2]\n",
      "\u001b[0mNC_A2           A2   [Pin.AF1_TIM2, Pin.AF2_TIM5, Pin.AF3_TIM9, Pin.AF7_USART2]\n",
      "D8              C0   []\n",
      "NSTBY           C1   []\n",
      "PWM_A           B15  [Pin.AF1_TIM1, Pin.AF3_TIM8, Pin.AF5_SPI2, Pin.AF9_TIM12]\n",
      "\u001b[0mPWM_B           A5   [Pin.AF1_TIM2, Pin.AF1_TIM2, Pin.AF3_TIM8, Pin.AF5_SPI1]\n",
      "\u001b[0mRTS             B14  [Pin.AF1_TIM1, Pin.AF3_TIM8, Pin.AF5_SPI2, Pin.AF7_USART3, Pin.AF9_TIM12]\n",
      "RX              B11  [Pin.AF1_TIM2, Pin.AF4_I2C2, Pin.AF7_USART3]\n",
      "\u001b[0mRX_AUX          C7   [Pin.AF2_TIM3, Pin.AF3_TIM8, Pin.AF8_USART6]\n",
      "SCL             B8   [Pin.AF2_TIM4, Pin.AF3_TIM10, Pin.AF4_I2C1, Pin.AF9_CAN1]\n",
      "\u001b[0mSDA             B9   [Pin.AF2_TIM4, Pin.AF3_TIM11, Pin.AF4_I2C1, Pin.AF5_SPI2, Pin.AF9_CAN1]\n",
      "SD_CK           C12  [Pin.AF7_USART3]\n",
      "\u001b[0mSD_CMD          D2   [Pin.AF2_TIM3]\n",
      "SD_D0           C8   [Pin.AF2_TIM3, Pin.AF3_TIM8, Pin.AF8_USART6]\n",
      "\u001b[0mSD_D1           C9   [Pin.AF2_TIM3, Pin.AF3_TIM8]\n",
      "SD_D2           C10  [Pin.AF7_USART3]\n",
      "SD_D3           C11  [Pin.AF7_USART3]\n",
      "\u001b[0mSD_DETECT       B12  [Pin.AF1_TIM1, Pin.AF5_SPI2, Pin.AF7_USART3]\n",
      "SWCLK           A14  []\n",
      "SWDIO           A13  []\n",
      "\u001b[0mTX              B10  [Pin.AF1_TIM2, Pin.AF4_I2C2, Pin.AF5_SPI2, Pin.AF7_USART3]\n",
      "TX_AUX          C6   [Pin.AF2_TIM3, Pin.AF3_TIM8, Pin.AF8_USART6]\n",
      "USB_DM          A11  [Pin.AF1_TIM1, Pin.AF9_CAN1]\n",
      "\u001b[0mUSB_DP          A12  [Pin.AF1_TIM1, Pin.AF9_CAN1]\n",
      "USB_ID          A10  [Pin.AF1_TIM1]\n",
      "USB_VBUS        A9   [Pin.AF1_TIM1]\n",
      "\u001b[0m"
     ]
    }
   ],
   "source": [
    "# pin alternate functions\n",
    "\n",
    "from pyb import Pin\n",
    "\n",
    "print(\"{:15} {:4} {}\".format('board name', 'name', 'alternate functions'))\n",
    "for p in sorted(dir(Pin.board)):\n",
    "    if '__' in p: continue\n",
    "    pin = Pin(p)\n",
    "    names = pin.names()\n",
    "    print(\"{:15} {:4} {}\".format(names[1], names[0], pin.af_list()))"
   ]
  },
  {
   "cell_type": "markdown",
   "id": "latter-input",
   "metadata": {},
   "source": [
    "## PWM Motor Control\n",
    "\n",
    "![TB6612 breakout](../figures/TB6612-breakout.jpg \"breakout\")\n",
    "\n",
    "* Channel A control: PWMA, AIN1, AIN2\n",
    "* Channel B control: PWMB, BIN1, BIN2\n",
    "\n",
    "| Function | IN1 | IN2 | Notes |\n",
    "|----------|-----|-----|-------|\n",
    "| Forward  |  L  |  H  |  \n",
    "| Reverse  |  H  |  L  |\n",
    "| Brake    |  H  |  H  | speed=0 has same effect\n",
    "| Coast (Z)|  L  |  L  |\n"
   ]
  },
  {
   "cell_type": "code",
   "execution_count": 1,
   "id": "activated-height",
   "metadata": {},
   "outputs": [
    {
     "name": "stdout",
     "output_type": "stream",
     "text": [
      "P\u001b[0mW\u001b[0mM\u001b[0m \u001b[0ms\u001b[0mt\u001b[0ma\u001b[0mr\u001b[0mt\u001b[0me\u001b[0md\u001b[0m\n",
      "\u001b[0m"
     ]
    }
   ],
   "source": [
    "from tb6612 import TB6612\n",
    "from pyb import Pin, Timer\n",
    "\n",
    "freq = 10_0000\n",
    "tim = Timer(8, freq=freq)\n",
    "\n",
    "motor = TB6612(\n",
    "    [ tim.channel(3, Timer.PWM_INVERTED, pin=Pin(Pin.cpu.B15)),\n",
    "      Pin(Pin.cpu.C4,  mode=Pin.OUT_PP),\n",
    "      Pin(Pin.cpu.A5,  mode=Pin.OUT_PP) ],\n",
    "    [ tim.channel(2, Timer.PWM_INVERTED, pin=Pin(Pin.cpu.B14)),\n",
    "      Pin(Pin.cpu.C5,  mode=Pin.OUT_PP),\n",
    "      Pin(Pin.cpu.B13, mode=Pin.OUT_PP) ]\n",
    ")"
   ]
  },
  {
   "cell_type": "code",
   "execution_count": 1,
   "id": "median-japanese",
   "metadata": {},
   "outputs": [],
   "source": [
    "motor.speed_a(0)\n",
    "motor.speed_b(90)"
   ]
  },
  {
   "cell_type": "markdown",
   "id": "earlier-superintendent",
   "metadata": {},
   "source": [
    "## Encoder\n",
    "\n",
    "* Timers 2-5 can handle quadrature inputs\n",
    "* Tim2 and Tim5 are 32-bit: Preferable! (but not available on Adafruit Feather 405)\n",
    "* Use Tim3 & Tim4 (16-bit)\n",
    "\n",
    "![Encoders](../figures/encoder.jpg \"encoder\")"
   ]
  },
  {
   "cell_type": "code",
   "execution_count": 1,
   "id": "smart-harris",
   "metadata": {},
   "outputs": [],
   "source": [
    "import time\n",
    "from encoder import init_encoder, c2\n",
    "\n",
    "enc1 = init_encoder(3, Pin.cpu.A6, Pin.cpu.A7, Pin.AF2_TIM3)\n",
    "enc2 = init_encoder(4, Pin.cpu.B6, Pin.cpu.B7, Pin.AF2_TIM4)"
   ]
  },
  {
   "cell_type": "code",
   "execution_count": null,
   "id": "outside-theme",
   "metadata": {},
   "outputs": [],
   "source": [
    "for i in range(50):\n",
    "    print(\"1\", c2(enc1.counter()))\n",
    "    enc1.counter(0)\n",
    "    time.sleep(1)"
   ]
  },
  {
   "cell_type": "markdown",
   "id": "knowing-upper",
   "metadata": {},
   "source": [
    "## IMU"
   ]
  },
  {
   "cell_type": "code",
   "execution_count": 1,
   "id": "biological-burden",
   "metadata": {},
   "outputs": [
    {
     "name": "stdout",
     "output_type": "stream",
     "text": [
      "\u001b[0mConnected to robot-stm @ serial:///dev/serial0\u001b[0m\n"
     ]
    }
   ],
   "source": [
    "%connect robot-stm\n",
    "\n",
    "from machine import I2C as I2C\n",
    "from pyb import Pin\n",
    "from bno055 import BNO055\n"
   ]
  },
  {
   "cell_type": "code",
   "execution_count": null,
   "id": "brazilian-server",
   "metadata": {},
   "outputs": [],
   "source": []
  }
 ],
 "metadata": {
  "kernelspec": {
   "display_name": "IoT",
   "language": "python",
   "name": "iot_kernel"
  },
  "language_info": {
   "codemirror_mode": {
    "name": "python",
    "version": 3
   },
   "file_extension": ".py",
   "mimetype": "text/x-python",
   "name": "python",
   "pygments_lexer": "python3",
   "version": "3"
  }
 },
 "nbformat": 4,
 "nbformat_minor": 5
}
