{
 "cells": [
  {
   "cell_type": "markdown",
   "metadata": {},
   "source": [
    "# Dev mp-server (esp32, server)"
   ]
  },
  {
   "cell_type": "markdown",
   "metadata": {},
   "source": [
    "## Micropython server"
   ]
  },
  {
   "cell_type": "code",
   "execution_count": 1,
   "metadata": {},
   "outputs": [
    {
     "name": "stdout",
     "output_type": "stream",
     "text": [
      "\u001b[0mtest-stm32                     serial:///dev/cu.usbmodem208E307542521  \n",
      "\u001b[0mtest-esp32                     serial:///dev/cu.usbserial-0160B5B8     \n",
      "\u001b[0mtest-stm32-cop                 serial:///dev/cu.usbserial-0143520E     \n",
      "\u001b[0mtest-argon                     serial:///dev/cu.usbmodem1413101        \n",
      "\u001b[0mtest-samd                      serial:///dev/cu.usbmodem1413201        \n",
      "\u001b[0m\u001b[0mConnected to test-stm32 @ serial:///dev/cu.usbmodem208E307542521\n",
      "\u001b[0m\u001b[0m\n",
      "\u001b[0m\u001b[46m\u001b[31m!!!!!!!!!!!!!!!!!!!!!!!!!!!!!!!\n",
      "\u001b[0m\u001b[46m\u001b[31m!!!!!   softreset ...     !!!!!\n",
      "\u001b[0m\u001b[46m\u001b[31m!!!!!!!!!!!!!!!!!!!!!!!!!!!!!!!\u001b[0m\n",
      "\n",
      "\u001b[0mu\u001b[0mr\u001b[0mp\u001b[0mc\u001b[0m \u001b[0mv\u001b[0me\u001b[0mr\u001b[0ms\u001b[0mi\u001b[0mo\u001b[0mn\u001b[0m \u001b[0mV\u001b[0m1\u001b[0m\n",
      "\u001b[0mP\u001b[0ml\u001b[0ma\u001b[0mt\u001b[0mf\u001b[0mo\u001b[0mr\u001b[0mm\u001b[0ms\u001b[0m:\u001b[0m\n",
      "\u001b[0m \u001b[0m \u001b[0m \u001b[0mh\u001b[0mo\u001b[0ms\u001b[0mt\u001b[0m:\u001b[0m \u001b[0m \u001b[0m \u001b[0m \u001b[0mp\u001b[0my\u001b[0mb\u001b[0mo\u001b[0ma\u001b[0mr\u001b[0md\u001b[0m\n",
      "\u001b[0m \u001b[0m \u001b[0m \u001b[0ms\u001b[0me\u001b[0mr\u001b[0mv\u001b[0me\u001b[0mr\u001b[0m:\u001b[0m \u001b[0m \u001b[0me\u001b[0ms\u001b[0mp\u001b[0m3\u001b[0m2\u001b[0m\n",
      "\u001b[0m1\u001b[0m0\u001b[0m.\u001b[0m3\u001b[0m9\u001b[0m.\u001b[0m4\u001b[0m0\u001b[0m.\u001b[0m1\u001b[0m2\u001b[0m9\u001b[0m\n",
      "\u001b[0m"
     ]
    }
   ],
   "source": [
    "%discover\n",
    "%connect test-stm32\n",
    "%softreset\n",
    "\n",
    "import start_urpc\n",
    "from urpc import *\n",
    "\n",
    "import sys\n",
    "sys_ = import_('sys')\n",
    "\n",
    "print(\"urpc version\", version_())\n",
    "\n",
    "print(\"Platforms:\")\n",
    "print(\"   host:    {}\".format(sys.platform))\n",
    "print(\"   server:  {}\".format(sys_.get_('platform')))\n",
    "\n",
    "import network\n",
    "\n",
    "wlan = network.WLAN(network.STA_IF)\n",
    "print(wlan.ifconfig()[0])"
   ]
  },
  {
   "cell_type": "code",
   "execution_count": 1,
   "metadata": {},
   "outputs": [
    {
     "name": "stdout",
     "output_type": "stream",
     "text": [
      "m\u001b[0mp\u001b[0m:\u001b[0m/\u001b[0m/\u001b[0m1\u001b[0m0\u001b[0m.\u001b[0m3\u001b[0m9\u001b[0m.\u001b[0m4\u001b[0m0\u001b[0m.\u001b[0m1\u001b[0m2\u001b[0m9\u001b[0m:\u001b[0m5\u001b[0m4\u001b[0m3\u001b[0m2\u001b[0m1\u001b[0m\n",
      "\u001b[0mw\u001b[0ma\u001b[0mi\u001b[0mt\u001b[0mi\u001b[0mn\u001b[0mg\u001b[0m \u001b[0mf\u001b[0mo\u001b[0mr\u001b[0m \u001b[0mc\u001b[0mo\u001b[0mn\u001b[0mn\u001b[0me\u001b[0mc\u001b[0mt\u001b[0mi\u001b[0mo\u001b[0mn\u001b[0m \u001b[0m.\u001b[0m.\u001b[0m.\u001b[0m\n",
      "\u001b[0m"
     ]
    }
   ],
   "source": [
    "import os, io, sys, socket, struct, msgpack, secrets\n",
    "\n",
    "try:\n",
    "    from iot import dupterm\n",
    "except ImportError:\n",
    "    from uos import dupterm\n",
    "\n",
    "class Server(io.IOBase):\n",
    "    \n",
    "    def __init__(self, ss):\n",
    "        self.ss = ss\n",
    "        self.cs = None\n",
    "            \n",
    "    def write(self, data):\n",
    "        if self.cs:\n",
    "            try:\n",
    "                self.print(\"write\", data)\n",
    "                self.cs.write(data)\n",
    "            except Exception as e:\n",
    "                self.print(\"*** write\", e)\n",
    "        else:\n",
    "            self.print(\"write\", data)\n",
    "        return len(data)\n",
    "\n",
    "    def readinto(self, b):\n",
    "        dupterm(None)\n",
    "        print(\"????\", b)\n",
    "        if not self.cs:\n",
    "            print(\"accept ...\")\n",
    "            try:\n",
    "                self.cs, addr = self.ss.accept()\n",
    "            except Exception as e:\n",
    "                self.print(\"*** accept\", e)\n",
    "            self.print(\"connected from\", addr)\n",
    "        try:\n",
    "            x = self.cs.read(1)\n",
    "        except Exception as e:\n",
    "            self.print(\"*** read\", e)\n",
    "        if x == b'':\n",
    "            return 0\n",
    "        b[0:1] = x\n",
    "        return 1\n",
    "    \n",
    "    def print(self, *args):\n",
    "        return\n",
    "        d = dupterm(None)\n",
    "        print(\"D\", d)\n",
    "        print(*args)\n",
    "        dupterm(d)\n",
    "        \n",
    "        \n",
    "def serve(port=1234):\n",
    "    global ss, server\n",
    "    ss = socket.socket(socket.AF_INET, socket.SOCK_STREAM)\n",
    "    ss.setsockopt(socket.SOL_SOCKET, socket.SO_REUSEADDR, 1)\n",
    "    ss.setblocking(True)\n",
    "\n",
    "    ai = socket.getaddrinfo('', port)\n",
    "    addr = ai[0][4]\n",
    "    ss.bind(addr)\n",
    "    ss.listen(1)\n",
    "\n",
    "    print(\"waiting for connection ...\")\n",
    "    server = Server(ss)\n",
    "    server.print(\"dupterm ...\")\n",
    "    dterm = dupterm(server)\n",
    "\n",
    "\n",
    "\n",
    "def start_server(port=54321):\n",
    "\n",
    "    # advertise\n",
    "    import network, time\n",
    "    # network.WLAN(network.STA_IF).mdns_add_service('_mp', '_tcp', port)\n",
    "\n",
    "    ip = network.WLAN(network.STA_IF).ifconfig()[0]\n",
    "    print(\"mp://{}:{}\".format(ip, port))\n",
    "\n",
    "    serve(port)\n",
    "\n",
    "start_server()\n",
    "\n",
    "server.print(\"DONE\")"
   ]
  },
  {
   "cell_type": "code",
   "execution_count": 1,
   "metadata": {},
   "outputs": [
    {
     "name": "stdout",
     "output_type": "stream",
     "text": [
      "X\u001b[0m\n",
      "\u001b[0ms\u001b[0ms\u001b[0m \u001b[0m<\u001b[0ms\u001b[0mo\u001b[0mc\u001b[0mk\u001b[0me\u001b[0mt\u001b[0m>\u001b[0m\n",
      "\u001b[0m"
     ]
    }
   ],
   "source": [
    "print(\"X\")\n",
    "dupterm(None)\n",
    "print(\"ss\", ss)\n",
    "ss.close()"
   ]
  },
  {
   "cell_type": "code",
   "execution_count": null,
   "metadata": {},
   "outputs": [],
   "source": []
  }
 ],
 "metadata": {
  "kernelspec": {
   "display_name": "IoT",
   "language": "python",
   "name": "iot_kernel"
  },
  "language_info": {
   "codemirror_mode": {
    "name": "python",
    "version": 3
   },
   "file_extension": ".py",
   "mimetype": "text/x-python",
   "name": "python",
   "pygments_lexer": "python3",
   "version": "3"
  }
 },
 "nbformat": 4,
 "nbformat_minor": 4
}
