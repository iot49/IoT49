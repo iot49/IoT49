{
 "cells": [
  {
   "cell_type": "markdown",
   "id": "recognized-freeze",
   "metadata": {},
   "source": [
    "# Robot Main"
   ]
  },
  {
   "cell_type": "code",
   "execution_count": 1,
   "id": "polar-secretary",
   "metadata": {},
   "outputs": [
    {
     "name": "stdout",
     "output_type": "stream",
     "text": [
      "\u001b[0m\u001b[0mConnected to robot-stm @ serial:///dev/serial0\u001b[0m\n"
     ]
    }
   ],
   "source": [
    "%register 'serial:///dev/serial0'\n",
    "%connect robot-stm"
   ]
  },
  {
   "cell_type": "code",
   "execution_count": 18,
   "id": "collectible-elephant",
   "metadata": {},
   "outputs": [
    {
     "name": "stdout",
     "output_type": "stream",
     "text": [
      "\u001b[0m\u001b[0mConnected to robot-stm @ serial:///dev/serial0\u001b[0m\n",
      "\u001b[0m\u001b[32mDirectories match\n",
      "\u001b[0m\u001b[0m\u001b[0m\u001b[0m\n",
      "\u001b[46m\u001b[31m!!!!!!!!!!!!!!!!!!!!!!!!!!!!!!!\u001b[0m\n",
      "\u001b[46m\u001b[31m!!!!!   softreset ...     !!!!!\u001b[0m\n",
      "\u001b[46m\u001b[31m!!!!!!!!!!!!!!!!!!!!!!!!!!!!!!!\u001b[0m\n",
      "\u001b[0m\n",
      "enable motors\n",
      "wait_for_msg\n",
      "disable motors\n",
      "main exits\n",
      "enter returns\n",
      "robot <__main__.Robot object at 0x71ecab70>\n",
      "RESET_MCU\n",
      "DONE\n"
     ]
    }
   ],
   "source": [
    "%register 'serial:///dev/serial0'\n",
    "%connect robot-stm\n",
    "%rsync\n",
    "%softreset\n",
    "\n",
    "%%host\n",
    "\n",
    "import nest_asyncio\n",
    "nest_asyncio.apply()\n",
    "\n",
    "from iot_device.pydevice import Pydevice\n",
    "from serial import Serial\n",
    "from array import array\n",
    "from struct import unpack\n",
    "import asyncio, time\n",
    "\n",
    "def repl_no_follow(cmd):\n",
    "    with Serial('/dev/serial0', 115200, timeout=0.5, write_timeout=2, exclusive= True) as serial:\n",
    "        pyb = Pydevice(serial)\n",
    "        pyb.enter_raw_repl()\n",
    "        pyb.exec_raw_no_follow(cmd)\n",
    "        \n",
    "\n",
    "        \n",
    "class Robot:\n",
    "    \n",
    "    def __init__(self):\n",
    "        self.baudrate = 1000000\n",
    "        \n",
    "    async def wait_for_msg(self):\n",
    "        print(\"wait_for_msg\")\n",
    "        serial = self.serial\n",
    "        while True:\n",
    "            if serial.in_waiting:\n",
    "                t = serial.read(1)\n",
    "                # print(\"type\", t)\n",
    "                if t == b's':\n",
    "                    print(\"state\", array('i', serial.read(8*4)))\n",
    "                elif t == b'm':\n",
    "                    size = unpack('H', serial.read(2))[0]\n",
    "                    print(f\"> {serial.read(size).decode()}\")\n",
    "                else:\n",
    "                    print(\"*** unkown type\", t)\n",
    "            else:\n",
    "                await asyncio.sleep(0.1)\n",
    "                \n",
    "    async def main(self):\n",
    "        serial = self.serial\n",
    "        msg_task = asyncio.create_task(self.wait_for_msg())\n",
    "        serial.write(b'v')\n",
    "        serial.write(array('b', [100, 0]))\n",
    "        print(\"enable motors\")\n",
    "        serial.write(b'e')\n",
    "        await asyncio.sleep(10)\n",
    "        serial.write(b'v')\n",
    "        serial.write(array('b', [30, 0]))\n",
    "        await asyncio.sleep(3)\n",
    "        print(\"disable motors\")\n",
    "        serial.write(b'd')\n",
    "        await asyncio.sleep(1)\n",
    "        msg_task.cancel()\n",
    "        print(\"main exits\")\n",
    "    \n",
    "    def __enter__(self):\n",
    "        # start program on MCU\n",
    "        with Serial('/dev/serial0', 115200, timeout=0.5, write_timeout=2, exclusive= True) as serial:\n",
    "            pyb = Pydevice(serial)\n",
    "            pyb.enter_raw_repl()\n",
    "            pyb.exec_raw_no_follow(\n",
    "                f\"import main_\\n\"\n",
    "                f\"main_.start({self.baudrate})\\n\"\n",
    "            )\n",
    "        time.sleep(1)\n",
    "        self.serial = Serial('/dev/serial0', self.baudrate, timeout=0.5, write_timeout=2, exclusive= True)\n",
    "        # start tasks\n",
    "        asyncio.run(self.main())\n",
    "        print(\"enter returns\")\n",
    "        return self\n",
    "    \n",
    "    def __exit__(self, *args):\n",
    "        self.serial.close()\n",
    "        self.reset_mcu()\n",
    "        \n",
    "    def reset_mcu(self):\n",
    "        print(\"RESET_MCU\")\n",
    "        from gpiozero import LED\n",
    "        from time import sleep\n",
    "        with LED(21) as nrst:\n",
    "            nrst.off()\n",
    "            sleep(0.1)\n",
    "            nrst.on()\n",
    "            sleep(0.1)\n",
    "\n",
    "with Robot() as robot:\n",
    "    print(\"robot\", robot)\n",
    "    \n",
    "print(\"DONE\")"
   ]
  },
  {
   "cell_type": "code",
   "execution_count": 17,
   "id": "commercial-husband",
   "metadata": {},
   "outputs": [
    {
     "name": "stdout",
     "output_type": "stream",
     "text": [
      "A\n",
      "reset 5\n",
      "\u001b[0m"
     ]
    }
   ],
   "source": [
    "import pyb\n",
    "\n",
    "print(\"A\")\n",
    "uart = pyb.UART(3, 1000000, timeout=500)\n",
    "a = 5\n",
    "uart.init(115200)\n",
    "# pyb.repl_uart(uart)\n",
    "\n",
    "print(\"reset\", a)"
   ]
  },
  {
   "cell_type": "code",
   "execution_count": 17,
   "id": "overall-roulette",
   "metadata": {},
   "outputs": [
    {
     "name": "stdout",
     "output_type": "stream",
     "text": [
      "f\n",
      "A\n",
      "f\n",
      "t 0\n",
      "\u001b[0mf\n",
      "f\n",
      "\u001b[0mt 1\n",
      "\u001b[0mf\n",
      "f\n",
      "\u001b[0mt 2\n",
      "\u001b[0mf\n",
      "f\n",
      "\u001b[0mf\n",
      "f\n",
      "B\n",
      "DONE\n",
      "\u001b[0m"
     ]
    }
   ],
   "source": [
    "import uasyncio as asyncio\n",
    "import pyb\n",
    "\n",
    "async def blink():\n",
    "    led = pyb.LED(1)\n",
    "    for i in range(3):\n",
    "        print(\"t\", i)\n",
    "        led.toggle()\n",
    "        await asyncio.sleep(0.2)\n",
    "\n",
    "async def forever():\n",
    "    while True:\n",
    "        print(\"f\", )\n",
    "        await asyncio.sleep(0.15)\n",
    "\n",
    "async def main():\n",
    "    print(\"A\")\n",
    "    f = asyncio.create_task(forever()) \n",
    "    await asyncio.gather(blink())\n",
    "    print(\"B\")\n",
    "\n",
    "asyncio.run(main())\n",
    "\n",
    "print(\"DONE\")"
   ]
  },
  {
   "cell_type": "code",
   "execution_count": 17,
   "id": "appointed-communication",
   "metadata": {},
   "outputs": [
    {
     "name": "stdout",
     "output_type": "stream",
     "text": [
      "5\n",
      "\u001b[0m"
     ]
    }
   ],
   "source": [
    "print(5)"
   ]
  },
  {
   "cell_type": "code",
   "execution_count": null,
   "id": "casual-public",
   "metadata": {},
   "outputs": [],
   "source": []
  }
 ],
 "metadata": {
  "kernelspec": {
   "display_name": "IoT",
   "language": "python",
   "name": "iot_kernel"
  },
  "language_info": {
   "codemirror_mode": {
    "name": "python",
    "version": 3
   },
   "file_extension": ".py",
   "mimetype": "text/x-python",
   "name": "python",
   "pygments_lexer": "python3",
   "version": "3"
  }
 },
 "nbformat": 4,
 "nbformat_minor": 5
}
