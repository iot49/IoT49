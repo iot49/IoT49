{
 "cells": [
  {
   "cell_type": "markdown",
   "metadata": {},
   "source": [
    "# Flash"
   ]
  },
  {
   "cell_type": "code",
   "execution_count": 3,
   "metadata": {},
   "outputs": [
    {
     "name": "stdout",
     "output_type": "stream",
     "text": [
      "\u001b[34m\u001b[43m/dev/cu.usbserial-01435205\u001b[m\u001b[m     \u001b[34m\u001b[43m/dev/cu.usbserial-210321A96897\u001b[m\u001b[m\n"
     ]
    }
   ],
   "source": [
    "!ls /dev/cu.usb*"
   ]
  },
  {
   "cell_type": "markdown",
   "metadata": {},
   "source": [
    "## Erase flash"
   ]
  },
  {
   "cell_type": "code",
   "execution_count": 7,
   "metadata": {},
   "outputs": [
    {
     "name": "stdout",
     "output_type": "stream",
     "text": [
      "esptool.py v3.0\n",
      "Serial port //dev/cu.usbserial-01435205\n",
      "Connecting....\n",
      "Detecting chip type... ESP32\n",
      "Chip is ESP32-D0WDQ6 (revision 1)\n",
      "Features: WiFi, BT, Dual Core, Coding Scheme None\n",
      "Crystal is 40MHz\n",
      "MAC: 30:ae:a4:1a:2a:10\n",
      "Uploading stub...\n",
      "Running stub...\n",
      "Stub running...\n",
      "Erasing flash (this may take a while)...\n",
      "Chip erase completed successfully in 4.7s\n",
      "Hard resetting via RTS pin...\n"
     ]
    }
   ],
   "source": [
    "%%bash\n",
    "\n",
    "port=//dev/cu.usbserial-01435205 \n",
    "\n",
    "esptool.py -p $port erase_flash"
   ]
  },
  {
   "cell_type": "markdown",
   "metadata": {},
   "source": [
    "## Program: *No output until done!*"
   ]
  },
  {
   "cell_type": "markdown",
   "metadata": {},
   "source": [
    "### Custom MicroPython"
   ]
  },
  {
   "cell_type": "code",
   "execution_count": 5,
   "metadata": {},
   "outputs": [
    {
     "name": "stdout",
     "output_type": "stream",
     "text": [
      "esptool.py v3.0\n",
      "Serial port /dev/cu.usbserial-01435205\n",
      "Connecting.....\n",
      "Detecting chip type... ESP32\n",
      "Chip is ESP32-D0WDQ6 (revision 1)\n",
      "Features: WiFi, BT, Dual Core, Coding Scheme None\n",
      "Crystal is 40MHz\n",
      "MAC: 30:ae:a4:1a:2a:10\n",
      "Uploading stub...\n",
      "Running stub...\n",
      "Stub running...\n",
      "Changing baud rate to 460800\n",
      "Changed.\n",
      "Configuring flash size...\n",
      "Compressed 1452976 bytes to 928420...\n",
      "Writing at 0x00001000... (1 %)\n",
      "Writing at 0x00005000... (3 %)\n",
      "Writing at 0x00009000... (5 %)\n",
      "Writing at 0x0000d000... (7 %)\n",
      "Writing at 0x00011000... (8 %)\n",
      "Writing at 0x00015000... (10 %)\n",
      "Writing at 0x00019000... (12 %)\n",
      "Writing at 0x0001d000... (14 %)\n",
      "Writing at 0x00021000... (15 %)\n",
      "Writing at 0x00025000... (17 %)\n",
      "Writing at 0x00029000... (19 %)\n",
      "Writing at 0x0002d000... (21 %)\n",
      "Writing at 0x00031000... (22 %)\n",
      "Writing at 0x00035000... (24 %)\n",
      "Writing at 0x00039000... (26 %)\n",
      "Writing at 0x0003d000... (28 %)\n",
      "Writing at 0x00041000... (29 %)\n",
      "Writing at 0x00045000... (31 %)\n",
      "Writing at 0x00049000... (33 %)\n",
      "Writing at 0x0004d000... (35 %)\n",
      "Writing at 0x00051000... (36 %)\n",
      "Writing at 0x00055000... (38 %)\n",
      "Writing at 0x00059000... (40 %)\n",
      "Writing at 0x0005d000... (42 %)\n",
      "Writing at 0x00061000... (43 %)\n",
      "Writing at 0x00065000... (45 %)\n",
      "Writing at 0x00069000... (47 %)\n",
      "Writing at 0x0006d000... (49 %)\n",
      "Writing at 0x00071000... (50 %)\n",
      "Writing at 0x00075000... (52 %)\n",
      "Writing at 0x00079000... (54 %)\n",
      "Writing at 0x0007d000... (56 %)\n",
      "Writing at 0x00081000... (57 %)\n",
      "Writing at 0x00085000... (59 %)\n",
      "Writing at 0x00089000... (61 %)\n",
      "Writing at 0x0008d000... (63 %)\n",
      "Writing at 0x00091000... (64 %)\n",
      "Writing at 0x00095000... (66 %)\n",
      "Writing at 0x00099000... (68 %)\n",
      "Writing at 0x0009d000... (70 %)\n",
      "Writing at 0x000a1000... (71 %)\n",
      "Writing at 0x000a5000... (73 %)\n",
      "Writing at 0x000a9000... (75 %)\n",
      "Writing at 0x000ad000... (77 %)\n",
      "Writing at 0x000b1000... (78 %)\n",
      "Writing at 0x000b5000... (80 %)\n",
      "Writing at 0x000b9000... (82 %)\n",
      "Writing at 0x000bd000... (84 %)\n",
      "Writing at 0x000c1000... (85 %)\n",
      "Writing at 0x000c5000... (87 %)\n",
      "Writing at 0x000c9000... (89 %)\n",
      "Writing at 0x000cd000... (91 %)\n",
      "Writing at 0x000d1000... (92 %)\n",
      "Writing at 0x000d5000... (94 %)\n",
      "Writing at 0x000d9000... (96 %)\n",
      "Writing at 0x000dd000... (98 %)\n",
      "Writing at 0x000e1000... (100 %)\n",
      "Wrote 1452976 bytes (928420 compressed) at 0x00001000 in 22.1 seconds (effective 525.7 kbit/s)...\n",
      "Hash of data verified.\n",
      "\n",
      "Leaving...\n",
      "Hard resetting via RTS pin...\n"
     ]
    }
   ],
   "source": [
    "%%bash\n",
    "\n",
    "cd $IOT/iot-bin/micropython\n",
    "\n",
    "port=/dev/cu.usbserial-01435205 \n",
    "firmware=esp32-GENERIC_OTA-firmware.bin\n",
    "\n",
    "esptool.py -p $port -b 460800 write_flash -z 0x1000 $firmware"
   ]
  },
  {
   "cell_type": "markdown",
   "metadata": {},
   "source": [
    "### Official MicroPython"
   ]
  },
  {
   "cell_type": "code",
   "execution_count": 8,
   "metadata": {},
   "outputs": [
    {
     "name": "stdout",
     "output_type": "stream",
     "text": [
      "esptool.py v3.0\n",
      "Serial port /dev/cu.usbserial-01435205\n",
      "Connecting....\n",
      "Detecting chip type... ESP32\n",
      "Chip is ESP32-D0WDQ6 (revision 1)\n",
      "Features: WiFi, BT, Dual Core, Coding Scheme None\n",
      "Crystal is 40MHz\n",
      "MAC: 30:ae:a4:1a:2a:10\n",
      "Uploading stub...\n",
      "Running stub...\n",
      "Stub running...\n",
      "Changing baud rate to 460800\n",
      "Changed.\n",
      "Configuring flash size...\n",
      "Compressed 1484624 bytes to 951640...\n",
      "Writing at 0x00001000... (1 %)\n",
      "Writing at 0x00005000... (3 %)\n",
      "Writing at 0x00009000... (5 %)\n",
      "Writing at 0x0000d000... (6 %)\n",
      "Writing at 0x00011000... (8 %)\n",
      "Writing at 0x00015000... (10 %)\n",
      "Writing at 0x00019000... (11 %)\n",
      "Writing at 0x0001d000... (13 %)\n",
      "Writing at 0x00021000... (15 %)\n",
      "Writing at 0x00025000... (16 %)\n",
      "Writing at 0x00029000... (18 %)\n",
      "Writing at 0x0002d000... (20 %)\n",
      "Writing at 0x00031000... (22 %)\n",
      "Writing at 0x00035000... (23 %)\n",
      "Writing at 0x00039000... (25 %)\n",
      "Writing at 0x0003d000... (27 %)\n",
      "Writing at 0x00041000... (28 %)\n",
      "Writing at 0x00045000... (30 %)\n",
      "Writing at 0x00049000... (32 %)\n",
      "Writing at 0x0004d000... (33 %)\n",
      "Writing at 0x00051000... (35 %)\n",
      "Writing at 0x00055000... (37 %)\n",
      "Writing at 0x00059000... (38 %)\n",
      "Writing at 0x0005d000... (40 %)\n",
      "Writing at 0x00061000... (42 %)\n",
      "Writing at 0x00065000... (44 %)\n",
      "Writing at 0x00069000... (45 %)\n",
      "Writing at 0x0006d000... (47 %)\n",
      "Writing at 0x00071000... (49 %)\n",
      "Writing at 0x00075000... (50 %)\n",
      "Writing at 0x00079000... (52 %)\n",
      "Writing at 0x0007d000... (54 %)\n",
      "Writing at 0x00081000... (55 %)\n",
      "Writing at 0x00085000... (57 %)\n",
      "Writing at 0x00089000... (59 %)\n",
      "Writing at 0x0008d000... (61 %)\n",
      "Writing at 0x00091000... (62 %)\n",
      "Writing at 0x00095000... (64 %)\n",
      "Writing at 0x00099000... (66 %)\n",
      "Writing at 0x0009d000... (67 %)\n",
      "Writing at 0x000a1000... (69 %)\n",
      "Writing at 0x000a5000... (71 %)\n",
      "Writing at 0x000a9000... (72 %)\n",
      "Writing at 0x000ad000... (74 %)\n",
      "Writing at 0x000b1000... (76 %)\n",
      "Writing at 0x000b5000... (77 %)\n",
      "Writing at 0x000b9000... (79 %)\n",
      "Writing at 0x000bd000... (81 %)\n",
      "Writing at 0x000c1000... (83 %)\n",
      "Writing at 0x000c5000... (84 %)\n",
      "Writing at 0x000c9000... (86 %)\n",
      "Writing at 0x000cd000... (88 %)\n",
      "Writing at 0x000d1000... (89 %)\n",
      "Writing at 0x000d5000... (91 %)\n",
      "Writing at 0x000d9000... (93 %)\n",
      "Writing at 0x000dd000... (94 %)\n",
      "Writing at 0x000e1000... (96 %)\n",
      "Writing at 0x000e5000... (98 %)\n",
      "Writing at 0x000e9000... (100 %)\n",
      "Wrote 1484624 bytes (951640 compressed) at 0x00001000 in 22.8 seconds (effective 520.0 kbit/s)...\n",
      "Hash of data verified.\n",
      "\n",
      "Leaving...\n",
      "Hard resetting via RTS pin...\n"
     ]
    }
   ],
   "source": [
    "%%bash\n",
    "\n",
    "cd $IOT/iot-bin/official_mp\n",
    "\n",
    "port=/dev/cu.usbserial-01435205 \n",
    "firmware=esp32-idf4-20210202-v1.14.bin\n",
    "\n",
    "esptool.py -p $port -b 460800 write_flash -z 0x1000 $firmware"
   ]
  },
  {
   "cell_type": "code",
   "execution_count": null,
   "metadata": {},
   "outputs": [],
   "source": []
  }
 ],
 "metadata": {
  "kernelspec": {
   "display_name": "Python 3",
   "language": "python",
   "name": "python3"
  },
  "language_info": {
   "codemirror_mode": {
    "name": "ipython",
    "version": 3
   },
   "file_extension": ".py",
   "mimetype": "text/x-python",
   "name": "python",
   "nbconvert_exporter": "python",
   "pygments_lexer": "ipython3",
   "version": "3.8.2"
  }
 },
 "nbformat": 4,
 "nbformat_minor": 4
}
