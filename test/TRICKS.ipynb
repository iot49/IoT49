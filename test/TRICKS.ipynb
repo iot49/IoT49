{
 "cells": [
  {
   "cell_type": "markdown",
   "id": "written-preserve",
   "metadata": {},
   "source": [
    "# \"Tricks\""
   ]
  },
  {
   "cell_type": "markdown",
   "id": "acute-empire",
   "metadata": {},
   "source": [
    "## Forget `git` Commit History\n",
    "\n",
    "https://gist.github.com/marksharrison\n",
    "\n",
    "```bash\n",
    "rm -rf .git\n",
    "git init\n",
    "git add .\n",
    "git commit -m \"Initial commit\"\n",
    "git remote add origin <github-uri>\n",
    "git push -u --force origin master\n",
    "```"
   ]
  },
  {
   "cell_type": "markdown",
   "id": "headed-algebra",
   "metadata": {},
   "source": [
    "## SyncThing Ignore\n",
    "\n",
    "1. Discussion: https://forum.syncthing.net/t/useful-stignore-patterns/1175\n",
    "2. Gobal ignore file: https://gist.github.com/marksharrison"
   ]
  }
 ],
 "metadata": {
  "kernelspec": {
   "display_name": "IoT",
   "language": "python",
   "name": "iot_kernel"
  },
  "language_info": {
   "codemirror_mode": {
    "name": "python",
    "version": 3
   },
   "file_extension": ".py",
   "mimetype": "text/x-python",
   "name": "python",
   "pygments_lexer": "python3",
   "version": "3"
  }
 },
 "nbformat": 4,
 "nbformat_minor": 5
}
