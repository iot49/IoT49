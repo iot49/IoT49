{
 "cells": [
  {
   "cell_type": "markdown",
   "id": "otherwise-pasta",
   "metadata": {},
   "source": [
    "# Python / Bash scripting"
   ]
  },
  {
   "cell_type": "code",
   "execution_count": 3,
   "id": "addressed-eagle",
   "metadata": {},
   "outputs": [
    {
     "name": "stdout",
     "output_type": "stream",
     "text": [
      "['Applications', 'Library', 'System', 'Users', 'Volumes', 'bin', 'cores', 'dev', 'etc', 'home', 'opt', 'private', 'sbin', 'tmp', 'usr', 'var']\n"
     ]
    }
   ],
   "source": [
    "a = !ls /\n",
    "print(a)"
   ]
  },
  {
   "cell_type": "code",
   "execution_count": 4,
   "id": "billion-influence",
   "metadata": {},
   "outputs": [
    {
     "name": "stdout",
     "output_type": "stream",
     "text": [
      "['LICENSE', 'README.md', 'TODO.ipynb', 'Untitled.ipynb', 'bin', 'boards', 'config', 'doc', 'projects', 'scratch_mp.ipynb', 'scratch_p3.ipynb', 'test']\n"
     ]
    }
   ],
   "source": [
    "a = !ls $IOT49\n",
    "print(a)"
   ]
  },
  {
   "cell_type": "code",
   "execution_count": 6,
   "id": "behind-processing",
   "metadata": {},
   "outputs": [
    {
     "name": "stdout",
     "output_type": "stream",
     "text": [
      "['X11', 'X11R6', 'bin', 'lib', 'libexec', 'local', 'sbin', 'share', 'standalone']\n"
     ]
    }
   ],
   "source": [
    "dir = \"/usr\"\n",
    "a = !ls {dir}\n",
    "print(a)"
   ]
  },
  {
   "cell_type": "code",
   "execution_count": 12,
   "id": "severe-boost",
   "metadata": {},
   "outputs": [],
   "source": [
    "msg = \"abc\""
   ]
  },
  {
   "cell_type": "code",
   "execution_count": 15,
   "id": "exact-header",
   "metadata": {},
   "outputs": [
    {
     "name": "stdout",
     "output_type": "stream",
     "text": [
      "abc\n"
     ]
    }
   ],
   "source": [
    "%%bash -s {msg}\n",
    "\n",
    "echo $1"
   ]
  },
  {
   "cell_type": "code",
   "execution_count": 21,
   "id": "existing-delta",
   "metadata": {},
   "outputs": [
    {
     "name": "stdout",
     "output_type": "stream",
     "text": [
      "line 1 abc 5\n",
      "line 2 5 abc\n",
      "line 3 bash\n"
     ]
    }
   ],
   "source": [
    "%%bash -s $msg 5\n",
    "\n",
    "echo line 1 $@\n",
    "echo line 2 $2 $1 \n",
    "echo line 3 $0"
   ]
  },
  {
   "cell_type": "code",
   "execution_count": null,
   "id": "timely-worse",
   "metadata": {},
   "outputs": [],
   "source": []
  }
 ],
 "metadata": {
  "kernelspec": {
   "display_name": "Python 3",
   "language": "python",
   "name": "python3"
  },
  "language_info": {
   "codemirror_mode": {
    "name": "ipython",
    "version": 3
   },
   "file_extension": ".py",
   "mimetype": "text/x-python",
   "name": "python",
   "nbconvert_exporter": "python",
   "pygments_lexer": "ipython3",
   "version": "3.8.2"
  }
 },
 "nbformat": 4,
 "nbformat_minor": 5
}
