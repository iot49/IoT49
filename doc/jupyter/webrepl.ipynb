{
 "cells": [
  {
   "cell_type": "markdown",
   "id": "supreme-oliver",
   "metadata": {},
   "source": [
    "# Webrepl\n",
    "\n",
    "If the [webrepl](http://docs.micropython.org/en/latest/esp8266/tutorial/repl.html?highlight=webrepl) is enabled for your board, you can access it wirelessly from the IoT Kernel.\n",
    "\n",
    "Discovery works with mdns: configure the board to announce service `_ws` over `_tcp`, e.g. on the ESP32:\n",
    "\n",
    "```python\n",
    "network.WLAN(network.STA_IF).mdns_add_service('_ws', '_tcp', 8266)\n",
    "```\n",
    "\n",
    "Alternatively, manually add the device with the `%register` magic:\n",
    "\n",
    "```python\n",
    "%register \"ws://10.39.40.146:8266\"\n",
    "```\n",
    "\n",
    "Discovery now shows two URLs for the same device:"
   ]
  },
  {
   "cell_type": "code",
   "execution_count": 1,
   "id": "present-amount",
   "metadata": {},
   "outputs": [
    {
     "name": "stdout",
     "output_type": "stream",
     "text": [
      "\u001b[0mmy_esp                         serial:///dev/cu.usbserial-0163A3DA     \n",
      "\u001b[0mmy_esp                         ws://10.39.40.146:8266                  \n",
      "\u001b[0m"
     ]
    }
   ],
   "source": [
    "%discover"
   ]
  },
  {
   "cell_type": "markdown",
   "id": "superior-yahoo",
   "metadata": {},
   "source": [
    "Add the URL scheme (`ws` or `serial`) to the `%connect` magic to select connecting wirelessly or over the serial (USB) port."
   ]
  },
  {
   "cell_type": "code",
   "execution_count": 1,
   "id": "instrumental-remove",
   "metadata": {},
   "outputs": [
    {
     "name": "stdout",
     "output_type": "stream",
     "text": [
      "\u001b[0mConnected to my_esp @ ws://10.39.40.146:8266\n",
      "\u001b[0m"
     ]
    }
   ],
   "source": [
    "%connect my_esp ws"
   ]
  },
  {
   "cell_type": "code",
   "execution_count": 1,
   "id": "accurate-parallel",
   "metadata": {},
   "outputs": [
    {
     "name": "stdout",
     "output_type": "stream",
     "text": [
      "-4\u001b[0m\n",
      "\u001b[0m"
     ]
    }
   ],
   "source": [
    "print(5-9)"
   ]
  },
  {
   "cell_type": "code",
   "execution_count": 1,
   "id": "mysterious-square",
   "metadata": {},
   "outputs": [
    {
     "name": "stdout",
     "output_type": "stream",
     "text": [
      "\u001b[0m   1824  Feb 11 17:31 2021  \u001b[34mboot.py\u001b[0m\n",
      "\u001b[0m                            \u001b[32mlib/\u001b[0m\n",
      "\u001b[0m                                \u001b[32mmp/\u001b[0m\n",
      "\u001b[0m     50  Feb 11 17:31 2021          \u001b[34m__init__.py\u001b[0m\n",
      "\u001b[0m   5227  Feb 11 17:31 2021          \u001b[34mserver.py\u001b[0m\n",
      "\u001b[0m                                \u001b[32mota32/\u001b[0m\n",
      "\u001b[0m     51  Feb 11 17:31 2021          \u001b[34m__init__.py\u001b[0m\n",
      "\u001b[0m   2048  Feb 11 17:31 2021          \u001b[34mopen_url.py\u001b[0m\n",
      "\u001b[0m   3489  Feb 11 17:31 2021          \u001b[34mota.py\u001b[0m\n",
      "\u001b[0m   3884  Feb 11 17:31 2021      \u001b[34mutelnetserver.py\u001b[0m\n",
      "\u001b[0m    245  Feb 11 17:34 2021  \u001b[34msecrets.py\u001b[0m\n",
      "\u001b[0m     52  Feb 11 17:31 2021  \u001b[34mwebrepl_cfg.py\u001b[0m\n",
      "\u001b[0m"
     ]
    }
   ],
   "source": [
    "%rlist"
   ]
  },
  {
   "cell_type": "markdown",
   "id": "hourly-statistics",
   "metadata": {},
   "source": [
    "## Slow ...\n",
    "\n",
    "The webrepl is slower than a serial connection, so code development is better done using the latter (or just use the html client).\n",
    "\n",
    "There are two reasons for this:\n",
    "\n",
    "1. The IoT kernel establishes a new connection to the webrepl each time a cell is executed, and closes the connection after execution is complete. The advantage is that it's easy to switch between notebooks that connect to the same microcontroller. With serial ports (and other online connections), the delay is unnoticable. Not so with `webrepl`.\n",
    "\n",
    "2. Uploads > ~250 bytes must be \"chunked\" with long delays between chunks. I'm not sure why such excessive delays (presently 64 byte chunk size and 0.5s delay between, see `webrepl_device.py`), let me know if you have a solution. Incidentally, try paste mode with the webrepl client - it breaks for code longer than ~250 bytes."
   ]
  },
  {
   "cell_type": "code",
   "execution_count": null,
   "id": "under-radical",
   "metadata": {},
   "outputs": [],
   "source": []
  }
 ],
 "metadata": {
  "kernelspec": {
   "display_name": "IoT",
   "language": "python",
   "name": "iot_kernel"
  },
  "language_info": {
   "codemirror_mode": {
    "name": "python",
    "version": 3
   },
   "file_extension": ".py",
   "mimetype": "text/x-python",
   "name": "python",
   "pygments_lexer": "python3",
   "version": "3"
  }
 },
 "nbformat": 4,
 "nbformat_minor": 5
}
