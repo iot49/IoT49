{
 "cells": [
  {
   "cell_type": "markdown",
   "id": "floral-current",
   "metadata": {},
   "source": [
    "# IoT Kernel"
   ]
  },
  {
   "cell_type": "markdown",
   "id": "accomplished-upper",
   "metadata": {},
   "source": [
    "## connect"
   ]
  },
  {
   "cell_type": "code",
   "execution_count": 1,
   "id": "daily-period",
   "metadata": {},
   "outputs": [
    {
     "name": "stdout",
     "output_type": "stream",
     "text": [
      "\u001b[0mtest-esp32  ws://10.39.40.135:8266               \u001b[0m\n",
      "test-esp32  serial:///dev/cu.usbserial-0160B5B8  \u001b[0m\n"
     ]
    }
   ],
   "source": [
    "%discover"
   ]
  },
  {
   "cell_type": "code",
   "execution_count": 1,
   "id": "medieval-practice",
   "metadata": {},
   "outputs": [
    {
     "name": "stdout",
     "output_type": "stream",
     "text": [
      "\u001b[0mConnected to test-esp32 @ serial:///dev/cu.usbserial-0160B5B8\u001b[0m\n",
      "\u001b[0m\u001b[34mUPDATE  mp_main.py\n",
      "\u001b[0m\u001b[0m\u001b[34mUPDATE  lib/mp/async_server.py\n",
      "\u001b[0m\u001b[0m\u001b[0m\u001b[0m\n",
      "\u001b[46m\u001b[31m!!!!!!!!!!!!!!!!!!!!!!!!!!!!!!!\u001b[0m\n",
      "\u001b[46m\u001b[31m!!!!!   softreset ...     !!!!!\u001b[0m\n",
      "\u001b[46m\u001b[31m!!!!!!!!!!!!!!!!!!!!!!!!!!!!!!!\u001b[0m\n",
      "\u001b[0m\n"
     ]
    }
   ],
   "source": [
    "%connect test-esp32 serial\n",
    "%rsync\n",
    "%softreset"
   ]
  },
  {
   "cell_type": "code",
   "execution_count": 1,
   "id": "transsexual-wayne",
   "metadata": {},
   "outputs": [
    {
     "name": "stdout",
     "output_type": "stream",
     "text": [
      "m\u001b[0mp\u001b[0m:\u001b[0m/\u001b[0m/\u001b[0m1\u001b[0m0\u001b[0m.\u001b[0m3\u001b[0m9\u001b[0m.\u001b[0m4\u001b[0m0\u001b[0m.\u001b[0m1\u001b[0m3\u001b[0m5\u001b[0m:\u001b[0m5\u001b[0m4\u001b[0m3\u001b[0m2\u001b[0m1\u001b[0m\n",
      "\u001b[0ms\u001b[0me\u001b[0mr\u001b[0mv\u001b[0me\u001b[0m \u001b[0m(\u001b[0m'\u001b[0m1\u001b[0m0\u001b[0m.\u001b[0m3\u001b[0m9\u001b[0m.\u001b[0m4\u001b[0m0\u001b[0m.\u001b[0m1\u001b[0m1\u001b[0m4\u001b[0m'\u001b[0m,\u001b[0m \u001b[0m6\u001b[0m2\u001b[0m3\u001b[0m1\u001b[0m5\u001b[0m)\u001b[0m\n",
      "\u001b[0m-\u001b[0m9\u001b[0m4\u001b[0m\n",
      "\u001b[0ms\u001b[0me\u001b[0mr\u001b[0mv\u001b[0me\u001b[0m \u001b[0m(\u001b[0m'\u001b[0m1\u001b[0m0\u001b[0m.\u001b[0m3\u001b[0m9\u001b[0m.\u001b[0m4\u001b[0m0\u001b[0m.\u001b[0m1\u001b[0m1\u001b[0m4\u001b[0m'\u001b[0m,\u001b[0m \u001b[0m6\u001b[0m2\u001b[0m4\u001b[0m1\u001b[0m3\u001b[0m)\u001b[0m\n",
      "\u001b[0mm\u001b[0mi\u001b[0mc\u001b[0mr\u001b[0mo\u001b[0mp\u001b[0my\u001b[0mt\u001b[0mh\u001b[0mo\u001b[0mn\u001b[0mT\u001b[0mr\u001b[0ma\u001b[0mc\u001b[0me\u001b[0mb\u001b[0ma\u001b[0mc\u001b[0mk\u001b[0m \u001b[0m(\u001b[0mm\u001b[0mo\u001b[0ms\u001b[0mt\u001b[0m \u001b[0mr\u001b[0me\u001b[0mc\u001b[0me\u001b[0mn\u001b[0mt\u001b[0m \u001b[0mc\u001b[0ma\u001b[0ml\u001b[0ml\u001b[0m \u001b[0ml\u001b[0ma\u001b[0ms\u001b[0mt\u001b[0m)\u001b[0m:\u001b[0m\n",
      "\u001b[0m \u001b[0m \u001b[0mF\u001b[0mi\u001b[0ml\u001b[0me\u001b[0m \u001b[0m\"\u001b[0m/\u001b[0ml\u001b[0mi\u001b[0mb\u001b[0m/\u001b[0mm\u001b[0mp\u001b[0m/\u001b[0ma\u001b[0ms\u001b[0my\u001b[0mn\u001b[0mc\u001b[0m_\u001b[0ms\u001b[0me\u001b[0mr\u001b[0mv\u001b[0me\u001b[0mr\u001b[0m.\u001b[0mp\u001b[0my\u001b[0m\"\u001b[0m,\u001b[0m \u001b[0ml\u001b[0mi\u001b[0mn\u001b[0me\u001b[0m \u001b[0m8\u001b[0m2\u001b[0m,\u001b[0m \u001b[0mi\u001b[0mn\u001b[0m \u001b[0md\u001b[0mo\u001b[0m_\u001b[0me\u001b[0mv\u001b[0me\u001b[0mx\u001b[0m\n",
      "\u001b[0m \u001b[0m \u001b[0mF\u001b[0mi\u001b[0ml\u001b[0me\u001b[0m \u001b[0m\"\u001b[0m<\u001b[0ms\u001b[0mt\u001b[0mr\u001b[0mi\u001b[0mn\u001b[0mg\u001b[0m>\u001b[0m\"\u001b[0m,\u001b[0m \u001b[0ml\u001b[0mi\u001b[0mn\u001b[0me\u001b[0m \u001b[0m1\u001b[0m,\u001b[0m \u001b[0mi\u001b[0mn\u001b[0m \u001b[0m<\u001b[0mm\u001b[0mo\u001b[0md\u001b[0mu\u001b[0ml\u001b[0me\u001b[0m>\u001b[0m\n",
      "\u001b[0mN\u001b[0ma\u001b[0mm\u001b[0me\u001b[0mE\u001b[0mr\u001b[0mr\u001b[0mo\u001b[0mr\u001b[0m:\u001b[0m \u001b[0mn\u001b[0ma\u001b[0mm\u001b[0me\u001b[0m \u001b[0m'\u001b[0m_\u001b[0m_\u001b[0mi\u001b[0mo\u001b[0mt\u001b[0m4\u001b[0m9\u001b[0m_\u001b[0m_\u001b[0m'\u001b[0m \u001b[0mi\u001b[0ms\u001b[0mn\u001b[0m'\u001b[0mt\u001b[0m \u001b[0md\u001b[0me\u001b[0mf\u001b[0mi\u001b[0mn\u001b[0me\u001b[0md\u001b[0m\n",
      "\u001b[0m/\u001b[0mD\u001b[0m,\u001b[0m0\u001b[0m,\u001b[0m'\u001b[0m'\u001b[0m,\u001b[0m9\u001b[0m4\u001b[0m6\u001b[0m6\u001b[0m8\u001b[0m4\u001b[0m8\u001b[0m0\u001b[0m0\u001b[0m,\u001b[0m5\u001b[0m\n",
      "\u001b[0mF\u001b[0m,\u001b[0m1\u001b[0m,\u001b[0m'\u001b[0mb\u001b[0mo\u001b[0mo\u001b[0mt\u001b[0m.\u001b[0mp\u001b[0my\u001b[0m'\u001b[0m,\u001b[0m1\u001b[0m6\u001b[0m1\u001b[0m3\u001b[0m4\u001b[0m9\u001b[0m7\u001b[0m0\u001b[0m2\u001b[0m6\u001b[0m,\u001b[0m1\u001b[0m6\u001b[0m6\u001b[0m8\u001b[0m\n",
      "\u001b[0mD\u001b[0m,\u001b[0m1\u001b[0m,\u001b[0m'\u001b[0ml\u001b[0mi\u001b[0mb\u001b[0m'\u001b[0m,\u001b[0m9\u001b[0m4\u001b[0m6\u001b[0m6\u001b[0m8\u001b[0m4\u001b[0m8\u001b[0m0\u001b[0m0\u001b[0m,\u001b[0m2\u001b[0m\n",
      "\u001b[0mD\u001b[0m,\u001b[0m2\u001b[0m,\u001b[0m'\u001b[0mm\u001b[0mp\u001b[0m'\u001b[0m,\u001b[0m9\u001b[0m4\u001b[0m6\u001b[0m6\u001b[0m8\u001b[0m4\u001b[0m8\u001b[0m0\u001b[0m0\u001b[0m,\u001b[0m3\u001b[0m\n",
      "\u001b[0mF\u001b[0m,\u001b[0m3\u001b[0m,\u001b[0m'\u001b[0m_\u001b[0m_\u001b[0mi\u001b[0mn\u001b[0mi\u001b[0mt\u001b[0m_\u001b[0m_\u001b[0m.\u001b[0mp\u001b[0my\u001b[0m'\u001b[0m,\u001b[0m1\u001b[0m6\u001b[0m1\u001b[0m3\u001b[0m4\u001b[0m1\u001b[0m1\u001b[0m6\u001b[0m2\u001b[0m9\u001b[0m,\u001b[0m1\u001b[0m0\u001b[0m0\u001b[0m\n",
      "\u001b[0mF\u001b[0m,\u001b[0m3\u001b[0m,\u001b[0m'\u001b[0ma\u001b[0ms\u001b[0my\u001b[0mn\u001b[0mc\u001b[0m_\u001b[0ms\u001b[0me\u001b[0mr\u001b[0mv\u001b[0me\u001b[0mr\u001b[0m.\u001b[0mp\u001b[0my\u001b[0m'\u001b[0m,\u001b[0m1\u001b[0m6\u001b[0m1\u001b[0m3\u001b[0m4\u001b[0m9\u001b[0m8\u001b[0m8\u001b[0m2\u001b[0m5\u001b[0m,\u001b[0m5\u001b[0m3\u001b[0m9\u001b[0m8\u001b[0m\n",
      "\u001b[0mF\u001b[0m,\u001b[0m3\u001b[0m,\u001b[0m'\u001b[0ms\u001b[0me\u001b[0mr\u001b[0mv\u001b[0me\u001b[0mr\u001b[0m.\u001b[0mp\u001b[0my\u001b[0m'\u001b[0m,\u001b[0m1\u001b[0m6\u001b[0m1\u001b[0m3\u001b[0m4\u001b[0m1\u001b[0m1\u001b[0m2\u001b[0m5\u001b[0m0\u001b[0m,\u001b[0m6\u001b[0m0\u001b[0m0\u001b[0m0\u001b[0m\n",
      "\u001b[0mD\u001b[0m,\u001b[0m2\u001b[0m,\u001b[0m'\u001b[0mo\u001b[0mt\u001b[0ma\u001b[0m3\u001b[0m2\u001b[0m'\u001b[0m,\u001b[0m9\u001b[0m4\u001b[0m6\u001b[0m6\u001b[0m8\u001b[0m4\u001b[0m8\u001b[0m0\u001b[0m0\u001b[0m,\u001b[0m3\u001b[0m\n",
      "\u001b[0mF\u001b[0m,\u001b[0m3\u001b[0m,\u001b[0m'\u001b[0m_\u001b[0m_\u001b[0mi\u001b[0mn\u001b[0mi\u001b[0mt\u001b[0m_\u001b[0m_\u001b[0m.\u001b[0mp\u001b[0my\u001b[0m'\u001b[0m,\u001b[0m1\u001b[0m6\u001b[0m1\u001b[0m3\u001b[0m3\u001b[0m9\u001b[0m8\u001b[0m9\u001b[0m6\u001b[0m8\u001b[0m,\u001b[0m5\u001b[0m1\u001b[0m\n",
      "\u001b[0mF\u001b[0m,\u001b[0m3\u001b[0m,\u001b[0m'\u001b[0mo\u001b[0mp\u001b[0me\u001b[0mn\u001b[0m_\u001b[0mu\u001b[0mr\u001b[0ml\u001b[0m.\u001b[0mp\u001b[0my\u001b[0m'\u001b[0m,\u001b[0m1\u001b[0m6\u001b[0m1\u001b[0m3\u001b[0m3\u001b[0m9\u001b[0m8\u001b[0m9\u001b[0m7\u001b[0m0\u001b[0m,\u001b[0m2\u001b[0m0\u001b[0m4\u001b[0m8\u001b[0m\n",
      "\u001b[0mF\u001b[0m,\u001b[0m3\u001b[0m,\u001b[0m'\u001b[0mo\u001b[0mt\u001b[0ma\u001b[0m.\u001b[0mp\u001b[0my\u001b[0m'\u001b[0m,\u001b[0m1\u001b[0m6\u001b[0m1\u001b[0m3\u001b[0m3\u001b[0m9\u001b[0m8\u001b[0m9\u001b[0m6\u001b[0m8\u001b[0m,\u001b[0m3\u001b[0m4\u001b[0m8\u001b[0m9\u001b[0m\n",
      "\u001b[0mF\u001b[0m,\u001b[0m1\u001b[0m,\u001b[0m'\u001b[0mm\u001b[0mp\u001b[0m_\u001b[0mm\u001b[0ma\u001b[0mi\u001b[0mn\u001b[0m.\u001b[0mp\u001b[0my\u001b[0m'\u001b[0m,\u001b[0m1\u001b[0m6\u001b[0m1\u001b[0m3\u001b[0m4\u001b[0m9\u001b[0m8\u001b[0m8\u001b[0m2\u001b[0m4\u001b[0m,\u001b[0m4\u001b[0m1\u001b[0m8\u001b[0m\n",
      "\u001b[0mF\u001b[0m,\u001b[0m1\u001b[0m,\u001b[0m'\u001b[0ms\u001b[0me\u001b[0mc\u001b[0mr\u001b[0me\u001b[0mt\u001b[0ms\u001b[0m.\u001b[0mp\u001b[0my\u001b[0m'\u001b[0m,\u001b[0m1\u001b[0m6\u001b[0m1\u001b[0m2\u001b[0m1\u001b[0m7\u001b[0m9\u001b[0m0\u001b[0m9\u001b[0m1\u001b[0m,\u001b[0m2\u001b[0m4\u001b[0m5\u001b[0m\n",
      "\u001b[0mF\u001b[0m,\u001b[0m1\u001b[0m,\u001b[0m'\u001b[0mw\u001b[0me\u001b[0mb\u001b[0mr\u001b[0me\u001b[0mp\u001b[0ml\u001b[0m_\u001b[0mc\u001b[0mf\u001b[0mg\u001b[0m.\u001b[0mp\u001b[0my\u001b[0m'\u001b[0m,\u001b[0m1\u001b[0m6\u001b[0m1\u001b[0m3\u001b[0m3\u001b[0m9\u001b[0m8\u001b[0m9\u001b[0m6\u001b[0m8\u001b[0m,\u001b[0m5\u001b[0m2\u001b[0m\n",
      "\u001b[0ms\u001b[0me\u001b[0mr\u001b[0mv\u001b[0me\u001b[0m \u001b[0m(\u001b[0m'\u001b[0m1\u001b[0m0\u001b[0m.\u001b[0m3\u001b[0m9\u001b[0m.\u001b[0m4\u001b[0m0\u001b[0m.\u001b[0m1\u001b[0m1\u001b[0m4\u001b[0m'\u001b[0m,\u001b[0m \u001b[0m5\u001b[0m2\u001b[0m0\u001b[0m6\u001b[0m7\u001b[0m)\u001b[0m\n",
      "\u001b[0mT\u001b[0ma\u001b[0ms\u001b[0mk\u001b[0m \u001b[0me\u001b[0mx\u001b[0mc\u001b[0me\u001b[0mp\u001b[0mt\u001b[0mi\u001b[0mo\u001b[0mn\u001b[0m \u001b[0mw\u001b[0ma\u001b[0ms\u001b[0mn\u001b[0m'\u001b[0mt\u001b[0m \u001b[0mr\u001b[0me\u001b[0mt\u001b[0mr\u001b[0mi\u001b[0me\u001b[0mv\u001b[0me\u001b[0md\u001b[0m\n",
      "\u001b[0mf\u001b[0mu\u001b[0mt\u001b[0mu\u001b[0mr\u001b[0me\u001b[0m:\u001b[0m \u001b[0m<\u001b[0mT\u001b[0ma\u001b[0ms\u001b[0mk\u001b[0m>\u001b[0m \u001b[0mc\u001b[0mo\u001b[0mr\u001b[0mo\u001b[0m=\u001b[0m \u001b[0m<\u001b[0mT\u001b[0ma\u001b[0ms\u001b[0mk\u001b[0m>\u001b[0m\n",
      "\u001b[0mT\u001b[0mr\u001b[0ma\u001b[0mc\u001b[0me\u001b[0mb\u001b[0ma\u001b[0mc\u001b[0mk\u001b[0m \u001b[0m(\u001b[0mm\u001b[0mo\u001b[0ms\u001b[0mt\u001b[0m \u001b[0mr\u001b[0me\u001b[0mc\u001b[0me\u001b[0mn\u001b[0mt\u001b[0m \u001b[0mc\u001b[0ma\u001b[0ml\u001b[0ml\u001b[0m \u001b[0ml\u001b[0ma\u001b[0ms\u001b[0mt\u001b[0m)\u001b[0m:\u001b[0m\n",
      "\u001b[0m \u001b[0m \u001b[0mF\u001b[0mi\u001b[0ml\u001b[0me\u001b[0m \u001b[0m\"\u001b[0mu\u001b[0ma\u001b[0ms\u001b[0my\u001b[0mn\u001b[0mc\u001b[0mi\u001b[0mo\u001b[0m/\u001b[0mc\u001b[0mo\u001b[0mr\u001b[0me\u001b[0m.\u001b[0mp\u001b[0my\u001b[0m\"\u001b[0m,\u001b[0m \u001b[0ml\u001b[0mi\u001b[0mn\u001b[0me\u001b[0m \u001b[0m1\u001b[0m,\u001b[0m \u001b[0mi\u001b[0mn\u001b[0m \u001b[0mr\u001b[0mu\u001b[0mn\u001b[0m_\u001b[0mu\u001b[0mn\u001b[0mt\u001b[0mi\u001b[0ml\u001b[0m_\u001b[0mc\u001b[0mo\u001b[0mm\u001b[0mp\u001b[0ml\u001b[0me\u001b[0mt\u001b[0me\u001b[0m\n",
      "\u001b[0m \u001b[0m \u001b[0mF\u001b[0mi\u001b[0ml\u001b[0me\u001b[0m \u001b[0m\"\u001b[0m/\u001b[0ml\u001b[0mi\u001b[0mb\u001b[0m/\u001b[0mm\u001b[0mp\u001b[0m/\u001b[0ma\u001b[0ms\u001b[0my\u001b[0mn\u001b[0mc\u001b[0m_\u001b[0ms\u001b[0me\u001b[0mr\u001b[0mv\u001b[0me\u001b[0mr\u001b[0m.\u001b[0mp\u001b[0my\u001b[0m\"\u001b[0m,\u001b[0m \u001b[0ml\u001b[0mi\u001b[0mn\u001b[0me\u001b[0m \u001b[0m2\u001b[0m9\u001b[0m,\u001b[0m \u001b[0mi\u001b[0mn\u001b[0m \u001b[0ms\u001b[0me\u001b[0mr\u001b[0mv\u001b[0me\u001b[0m\n",
      "\u001b[0m \u001b[0m \u001b[0mF\u001b[0mi\u001b[0ml\u001b[0me\u001b[0m \u001b[0m\"\u001b[0m/\u001b[0ml\u001b[0mi\u001b[0mb\u001b[0m/\u001b[0mm\u001b[0mp\u001b[0m/\u001b[0ma\u001b[0ms\u001b[0my\u001b[0mn\u001b[0mc\u001b[0m_\u001b[0ms\u001b[0me\u001b[0mr\u001b[0mv\u001b[0me\u001b[0mr\u001b[0m.\u001b[0mp\u001b[0my\u001b[0m\"\u001b[0m,\u001b[0m \u001b[0ml\u001b[0mi\u001b[0mn\u001b[0me\u001b[0m \u001b[0m1\u001b[0m6\u001b[0m1\u001b[0m,\u001b[0m \u001b[0mi\u001b[0mn\u001b[0m \u001b[0mr\u001b[0me\u001b[0ma\u001b[0md\u001b[0ml\u001b[0mi\u001b[0mn\u001b[0me\u001b[0m\n",
      "\u001b[0m \u001b[0m \u001b[0mF\u001b[0mi\u001b[0ml\u001b[0me\u001b[0m \u001b[0m\"\u001b[0mu\u001b[0ma\u001b[0ms\u001b[0my\u001b[0mn\u001b[0mc\u001b[0mi\u001b[0mo\u001b[0m/\u001b[0ms\u001b[0mt\u001b[0mr\u001b[0me\u001b[0ma\u001b[0mm\u001b[0m.\u001b[0mp\u001b[0my\u001b[0m\"\u001b[0m,\u001b[0m \u001b[0ml\u001b[0mi\u001b[0mn\u001b[0me\u001b[0m \u001b[0m1\u001b[0m,\u001b[0m \u001b[0mi\u001b[0mn\u001b[0m \u001b[0mr\u001b[0me\u001b[0ma\u001b[0md\u001b[0ml\u001b[0mi\u001b[0mn\u001b[0me\u001b[0m\n",
      "\u001b[0mO\u001b[0mS\u001b[0mE\u001b[0mr\u001b[0mr\u001b[0mo\u001b[0mr\u001b[0m:\u001b[0m \u001b[0m[\u001b[0mE\u001b[0mr\u001b[0mr\u001b[0mn\u001b[0mo\u001b[0m \u001b[0m1\u001b[0m0\u001b[0m4\u001b[0m]\u001b[0m \u001b[0mE\u001b[0mC\u001b[0mO\u001b[0mN\u001b[0mN\u001b[0mR\u001b[0mE\u001b[0mS\u001b[0mE\u001b[0mT\u001b[0m\n",
      "\u001b[0m\n",
      "\u001b[0mW\u001b[0me\u001b[0mb\u001b[0mR\u001b[0mE\u001b[0mP\u001b[0mL\u001b[0m \u001b[0mc\u001b[0mo\u001b[0mn\u001b[0mn\u001b[0me\u001b[0mc\u001b[0mt\u001b[0mi\u001b[0mo\u001b[0mn\u001b[0m \u001b[0mf\u001b[0mr\u001b[0mo\u001b[0mm\u001b[0m:\u001b[0m \u001b[0m(\u001b[0m'\u001b[0m1\u001b[0m0\u001b[0m.\u001b[0m3\u001b[0m9\u001b[0m.\u001b[0m4\u001b[0m0\u001b[0m.\u001b[0m1\u001b[0m1\u001b[0m4\u001b[0m'\u001b[0m,\u001b[0m \u001b[0m5\u001b[0m2\u001b[0m2\u001b[0m4\u001b[0m6\u001b[0m)\u001b[0m\n",
      "\u001b[0m"
     ]
    },
    {
     "name": "stderr",
     "output_type": "stream",
     "text": [
      "Traceback (most recent call last):\n",
      "  File \"<stdin>\", line 1, in <module>\n",
      "  File \"mp_main.py\", line 18, in <module>\n",
      "  File \"uasyncio/core.py\", line 1, in run\n",
      "  File \"uasyncio/core.py\", line 1, in run_until_complete\n",
      "  File \"mp_main.py\", line 16, in main\n",
      "  File \"uasyncio/core.py\", line 1, in run_forever\n",
      "  File \"uasyncio/core.py\", line 1, in run_until_complete\n",
      "  File \"uasyncio/core.py\", line 1, in wait_io_event\n",
      "KeyboardInterrupt: \n",
      "\u001b[0m\n"
     ]
    }
   ],
   "source": [
    "import mp_main"
   ]
  },
  {
   "cell_type": "code",
   "execution_count": 1,
   "id": "substantial-mountain",
   "metadata": {},
   "outputs": [
    {
     "name": "stdout",
     "output_type": "stream",
     "text": [
      "\u001b[0mserial:///dev/cu.usbserial-0160B5B8\u001b[0m\n",
      "e\u001b[0ms\u001b[0mp\u001b[0m3\u001b[0m2\u001b[0m \u001b[0m\n",
      "\u001b[0m\n",
      "\u001b[0m\u001b[0mws://10.39.40.135:8266\u001b[0m\n",
      "Registration failed for mp://10.39.40.135:54321: [Errno 61] Connection refused\n",
      "esp32\u001b[0m \u001b[0m\n",
      "\u001b[0m\n",
      "\u001b[0m"
     ]
    }
   ],
   "source": [
    "%%connect --all\n",
    "\n",
    "%url\n",
    "import sys\n",
    "print(sys.platform, '\\n')"
   ]
  },
  {
   "cell_type": "code",
   "execution_count": 1,
   "id": "amber-bryan",
   "metadata": {},
   "outputs": [
    {
     "name": "stdout",
     "output_type": "stream",
     "text": [
      "\u001b[0m"
     ]
    },
    {
     "name": "stderr",
     "output_type": "stream",
     "text": [
      "invalid url\u001b[0m\n"
     ]
    }
   ],
   "source": [
    "%register blah"
   ]
  },
  {
   "cell_type": "code",
   "execution_count": 1,
   "id": "under-evaluation",
   "metadata": {},
   "outputs": [
    {
     "name": "stdout",
     "output_type": "stream",
     "text": [
      "\u001b[0mRegistration failed for mp://10.39.40.140:80: [Errno 61] Connection refused\n"
     ]
    }
   ],
   "source": [
    "%register 'mp://10.39.40.140:80'"
   ]
  },
  {
   "cell_type": "code",
   "execution_count": 1,
   "id": "corresponding-seafood",
   "metadata": {},
   "outputs": [
    {
     "name": "stdout",
     "output_type": "stream",
     "text": [
      "\u001b[0m"
     ]
    },
    {
     "name": "stderr",
     "output_type": "stream",
     "text": [
      "Device 'foo' not in registry\u001b[0m\n"
     ]
    }
   ],
   "source": [
    "%unregister foo"
   ]
  },
  {
   "cell_type": "code",
   "execution_count": 1,
   "id": "median-warning",
   "metadata": {},
   "outputs": [
    {
     "name": "stdout",
     "output_type": "stream",
     "text": [
      "\n",
      "\u001b[0m-\u001b[0m-\u001b[0m-\u001b[0m \u001b[0me\u001b[0ms\u001b[0mp\u001b[0m3\u001b[0m2\u001b[0m\n",
      "\u001b[0m\u001b[0mname       test-stm32-cop\u001b[0m\n",
      "platform   esp32\u001b[0m\n",
      "uid        30:ae:a4:1a:2c:3c\u001b[0m\n",
      "url        serial:///dev/cu.usbserial-0143520E\u001b[0m\n",
      "projects   secrets\u001b[0m\n",
      "           airlift/mcu/esp32\u001b[0m\n",
      "           mp/mcu\u001b[0m\n",
      "           boards/stm32/esp32\u001b[0m\n",
      "\u001b[0m2021-Feb-16 15:28:59\u001b[0m\n",
      "\u001b[0m2021-Feb-16 15:28:59\u001b[0m\n",
      "\n",
      "\u001b[0m-\u001b[0m-\u001b[0m-\u001b[0m \u001b[0mp\u001b[0my\u001b[0mb\u001b[0mo\u001b[0ma\u001b[0mr\u001b[0md\u001b[0m\n",
      "\u001b[0m\u001b[0mname       test-stm32\u001b[0m\n",
      "platform   pyboard\u001b[0m\n",
      "uid        27:00:55:00:09:50:52:42:4e:30:39:20\u001b[0m\n",
      "url        serial:///dev/cu.usbmodem208E307542522\u001b[0m\n",
      "projects   secrets\u001b[0m\n",
      "           airlift/mcu/\u001b[0m\n",
      "           mp/mcu\u001b[0m\n",
      "           boards/stm32/mcu\u001b[0m\n",
      "\u001b[0m2021-Feb-16 15:29:01\u001b[0m\n",
      "\u001b[0m2021-Feb-16 15:29:01\u001b[0m\n",
      "\n",
      "\u001b[0m-\u001b[0m-\u001b[0m-\u001b[0m \u001b[0mn\u001b[0mR\u001b[0mF\u001b[0m5\u001b[0m2\u001b[0m8\u001b[0m4\u001b[0m0\u001b[0m\n",
      "\u001b[0m\u001b[0mname       test-argon\u001b[0m\n",
      "platform   nRF52840\u001b[0m\n",
      "uid        65:45:95:1c:95:25:2a:25\u001b[0m\n",
      "url        mp://10.39.40.140:54321\u001b[0m\n",
      "projects   secrets\u001b[0m\n",
      "           uasyncio/mcu\u001b[0m\n",
      "           airlift/mcu\u001b[0m\n",
      "           mp/mcu\u001b[0m\n",
      "           boards/argon/mcu\u001b[0m\n",
      "\u001b[0m2021-Feb-16 15:29:02\u001b[0m\n",
      "\u001b[0m2021-Feb-16 15:29:03\u001b[0m\n",
      "\n",
      "\u001b[0m-\u001b[0m-\u001b[0m-\u001b[0m \u001b[0me\u001b[0ms\u001b[0mp\u001b[0m3\u001b[0m2\u001b[0m\n",
      "\u001b[0m\u001b[0mname       test-esp32\u001b[0m\n",
      "platform   esp32\u001b[0m\n",
      "uid        30:ae:a4:30:84:34\u001b[0m\n",
      "url        serial:///dev/cu.usbserial-0160B5B8\u001b[0m\n",
      "projects   secrets\u001b[0m\n",
      "           mp/mcu\u001b[0m\n",
      "           boards/esp32/mcu\u001b[0m\n",
      "\u001b[0m2021-Feb-16 15:29:03\u001b[0m\n",
      "\u001b[0m2021-Feb-16 15:29:04\u001b[0m\n",
      "\n",
      "\u001b[0m-\u001b[0m-\u001b[0m-\u001b[0m \u001b[0mM\u001b[0mi\u001b[0mc\u001b[0mr\u001b[0mo\u001b[0mC\u001b[0mh\u001b[0mi\u001b[0mp\u001b[0m \u001b[0mS\u001b[0mA\u001b[0mM\u001b[0mD\u001b[0m5\u001b[0m1\u001b[0m\n",
      "\u001b[0m\u001b[0mname       test-samd\u001b[0m\n",
      "platform   MicroChip SAMD51\u001b[0m\n",
      "uid        28:eb:07:5a:32:43:37:53:20:20:20:31:05:20:0f:ff\u001b[0m\n",
      "url        serial:///dev/cu.usbmodem1413201\u001b[0m\n",
      "projects   secrets\u001b[0m\n",
      "           airlift/mcu\u001b[0m\n",
      "           boards/samd51/mcu\u001b[0m\n",
      "\u001b[0m2021-Feb-16 15:29:03\u001b[0m\n",
      "\u001b[0m2021-Feb-16 15:29:03\u001b[0m\n"
     ]
    }
   ],
   "source": [
    "%%connect --all\n",
    "\n",
    "import sys\n",
    "print(\"\\n---\", sys.platform)\n",
    "%info\n",
    "%gettime\n",
    "%synctime"
   ]
  },
  {
   "cell_type": "markdown",
   "id": "superior-emperor",
   "metadata": {},
   "source": [
    "## utilities"
   ]
  },
  {
   "cell_type": "code",
   "execution_count": 1,
   "id": "extraordinary-cabin",
   "metadata": {},
   "outputs": [
    {
     "name": "stdout",
     "output_type": "stream",
     "text": [
      "\u001b[0m/Users/boser/Dropbox/Documents/Projects/IoT/iot49\u001b[0m\n"
     ]
    }
   ],
   "source": [
    "%cd"
   ]
  },
  {
   "cell_type": "code",
   "execution_count": 1,
   "id": "alternate-fireplace",
   "metadata": {},
   "outputs": [
    {
     "name": "stdout",
     "output_type": "stream",
     "text": [
      "\u001b[0mLine Magic:    -h shows help (e.g. %discover -h)\u001b[0m\n",
      "  %cat         Print contents of named file on microcontroller\u001b[0m\n",
      "  %cd          Change the working directory.\u001b[0m\n",
      "  %connect     Connect to device\u001b[0m\n",
      "  %cp          Copy files between host and microcontroller.\u001b[0m\n",
      "  %discover    Discover available devices\u001b[0m\n",
      "  %gettime     Query microcontroller time\u001b[0m\n",
      "  %loglevel    Set logging level.\u001b[0m\n",
      "  %lsmagic     List all magic functions.\u001b[0m\n",
      "  %mkdirs      Create all directories specified by the path, as needed.\u001b[0m\n",
      "  %mpycross    Compile .py files in projects folders.\u001b[0m\n",
      "  %name        Name of currently connected microcontroller.\u001b[0m\n",
      "  %pip         Install packages from PyPi\u001b[0m\n",
      "  %platform    sys.platform of currently connected device.\u001b[0m\n",
      "  %projects    Projects of currently connected device.\u001b[0m\n",
      "  %rdiff       Show differences between microcontroller and host directories\u001b[0m\n",
      "  %register    Register device\u001b[0m\n",
      "  %rlist       List files on microcontroller\u001b[0m\n",
      "  %rm          Delete files relative to path.\u001b[0m\n",
      "  %rsync       Synchronize microcontroller to host directories\u001b[0m\n",
      "  %softreset   Reset microcontroller. Similar to pressing the reset button.\u001b[0m\n",
      "  %store       Copy variables between microcontroller and storage.\u001b[0m\n",
      "  %synctime    Synchronize microcontroller time to host\u001b[0m\n",
      "  %uid         UID of currently connected microcontroller.\u001b[0m\n",
      "  %unregister  Unregister device\u001b[0m\n",
      "  %upip        Install MicroPython packages.\u001b[0m\n",
      "  %url         URL of currently connected microcontroller.\u001b[0m\n",
      "  !            Pass line to bash shell for evaluation.\u001b[0m\n",
      "\n",
      "Cell Magic:\u001b[0m\n",
      "  %%host       Pass cell to host (cPython) for evaluation.\u001b[0m\n",
      "  %%bash       Pass cell to the bash shell for evaluation.\u001b[0m\n",
      "  %%connect    Evaluate code sequentially on named devices.\u001b[0m\n",
      "               --host executes on host (cPython).\u001b[0m\n",
      "               --all executes on all connected devices.\u001b[0m\n"
     ]
    }
   ],
   "source": [
    "%lsmagic"
   ]
  },
  {
   "cell_type": "code",
   "execution_count": 1,
   "id": "abandoned-cleveland",
   "metadata": {},
   "outputs": [
    {
     "name": "stdout",
     "output_type": "stream",
     "text": [
      "usage: %loglevel [-h] [logger] [{DEBUG,INFO,WARNING,ERROR,CRITICAL}]\n",
      "\n",
      "Set logging level.\n",
      "\n",
      "positional arguments:\n",
      "  logger                name of logger to apply level to\n",
      "  {DEBUG,INFO,WARNING,ERROR,CRITICAL}\n",
      "                        logging levels\n",
      "\n",
      "optional arguments:\n",
      "  -h, --help            show this help message and exit\n",
      "\n",
      "Without arguments lists name and level of all available loggers.\n",
      "\n",
      "Example:\n",
      "    %loglevel device_registry INFO\n",
      "    \n",
      "\u001b[0m"
     ]
    }
   ],
   "source": [
    "%loglevel -h"
   ]
  },
  {
   "cell_type": "code",
   "execution_count": 1,
   "id": "minus-cardiff",
   "metadata": {},
   "outputs": [
    {
     "name": "stdout",
     "output_type": "stream",
     "text": [
      "\u001b[0mLogger device_registry level set to DEBUG\u001b[0m\n",
      "h [<StreamHandler <stderr> (NOTSET)>]\n",
      "<Logger device_registry (DEBUG)> <StreamHandler <stderr> (NOTSET)>\n"
     ]
    }
   ],
   "source": [
    "%loglevel device_registry DEBUG"
   ]
  },
  {
   "cell_type": "code",
   "execution_count": 1,
   "id": "accurate-participation",
   "metadata": {},
   "outputs": [
    {
     "name": "stdout",
     "output_type": "stream",
     "text": [
      "\u001b[0mLogger                          Level\u001b[0m\n",
      "\u001b[0m\n",
      "concurrent.futures              ERROR\u001b[0m\n",
      "asyncio                         ERROR\u001b[0m\n",
      "prompt_toolkit.buffer           ERROR\u001b[0m\n",
      "parso.python.diff               ERROR\u001b[0m\n",
      "parso.cache                     ERROR\u001b[0m\n",
      "tornado.access                  ERROR\u001b[0m\n",
      "tornado                         ERROR\u001b[0m\n",
      "tornado.application             ERROR\u001b[0m\n",
      "tornado.general                 ERROR\u001b[0m\n",
      "eval                            ERROR\u001b[0m\n",
      "config_store                    ERROR\u001b[0m\n",
      "device                          ERROR\u001b[0m\n",
      "discover_serial                 ERROR\u001b[0m\n",
      "zeroconf                        WARNING\u001b[0m\n",
      "discover_mdns                   ERROR\u001b[0m\n",
      "device_registry                 DEBUG\u001b[0m\n",
      "iot-kernel                      ERROR\u001b[0m\n",
      "websocket                       ERROR\u001b[0m\n",
      "IPKernelApp                     WARNING\u001b[0m\n",
      "eval_defaults                   ERROR\u001b[0m\n",
      "eval_file_ops                   ERROR\u001b[0m\n",
      "eval_rlist                      ERROR\u001b[0m\n",
      "eval_rsync                      ERROR\u001b[0m\n",
      "pydevice                        ERROR\u001b[0m\n",
      "repl_protocol                   ERROR\u001b[0m\n",
      "serial_device                   ERROR\u001b[0m\n",
      "mp_device                       ERROR\u001b[0m\n",
      "telnet_device                   ERROR\u001b[0m\n",
      "webrepl_device                  ERROR\u001b[0m\n"
     ]
    }
   ],
   "source": [
    "%loglevel"
   ]
  },
  {
   "cell_type": "code",
   "execution_count": 1,
   "id": "desperate-mixer",
   "metadata": {},
   "outputs": [
    {
     "name": "stdout",
     "output_type": "stream",
     "text": [
      "\u001b[0mtest-samd   serial:///dev/cu.usbmodem1413201     \u001b[0m\n",
      "test-esp32  serial:///dev/cu.usbserial-0160B5B8  \u001b[0m\n"
     ]
    }
   ],
   "source": [
    "%discover"
   ]
  },
  {
   "cell_type": "markdown",
   "id": "fifty-colors",
   "metadata": {},
   "source": [
    "## storage"
   ]
  },
  {
   "cell_type": "code",
   "execution_count": 5,
   "id": "worth-secretariat",
   "metadata": {},
   "outputs": [
    {
     "name": "stdout",
     "output_type": "stream",
     "text": [
      "\u001b[0m\u001b[0mplatform -> 'pyboard'\n",
      "\u001b[0m\n",
      "Stored variables and their in-db values:\n",
      "platform             -> 'pyboard'\n",
      "pyboard darwin\n"
     ]
    }
   ],
   "source": [
    "import sys\n",
    "platform = sys.platform\n",
    "%store platform\n",
    "%store\n",
    "\n",
    "%%host\n",
    "\n",
    "%store\n",
    "%store -r platform\n",
    "import sys\n",
    "print(platform, sys.platform)"
   ]
  },
  {
   "cell_type": "code",
   "execution_count": null,
   "id": "prepared-reservoir",
   "metadata": {},
   "outputs": [],
   "source": [
    "%%connect --all\n",
    "print('-'*50)\n",
    "%name\n",
    "%rsync\n",
    "%cat boot.py"
   ]
  },
  {
   "cell_type": "code",
   "execution_count": 4,
   "id": "vocal-linux",
   "metadata": {},
   "outputs": [
    {
     "name": "stdout",
     "output_type": "stream",
     "text": [
      "\u001b[0mConnected to test-stm32 @ serial:///dev/cu.usbmodem208E307542522\u001b[0m\n",
      "\u001b[0mCannot register mp://10.39.40.135:54321: Version mismatch: client='ns-V1', server=''\n"
     ]
    }
   ],
   "source": [
    "%connect test-stm32\n",
    "%rm -rf"
   ]
  },
  {
   "cell_type": "code",
   "execution_count": null,
   "id": "attached-fitness",
   "metadata": {},
   "outputs": [],
   "source": []
  }
 ],
 "metadata": {
  "kernelspec": {
   "display_name": "IoT",
   "language": "python",
   "name": "iot_kernel"
  },
  "language_info": {
   "codemirror_mode": {
    "name": "python",
    "version": 3
   },
   "file_extension": ".py",
   "mimetype": "text/x-python",
   "name": "python",
   "pygments_lexer": "python3",
   "version": "3"
  }
 },
 "nbformat": 4,
 "nbformat_minor": 5
}
