{
 "cells": [
  {
   "cell_type": "markdown",
   "id": "dimensional-spare",
   "metadata": {},
   "source": [
    "# Markdown"
   ]
  },
  {
   "cell_type": "markdown",
   "id": "responsible-seeker",
   "metadata": {},
   "source": [
    "## Notes:\n",
    "\n",
    "```\n",
    "A note:\n",
    "\n",
    "---\n",
    "**HISORICAL MARK**\n",
    "\n",
    "It works with almost all markdown flavours (the below blank line matters).\n",
    "\n",
    "---\n",
    "\n",
    "After this aside, we resume our discussion.\n",
    "```"
   ]
  },
  {
   "cell_type": "markdown",
   "id": "sharp-genome",
   "metadata": {},
   "source": [
    "A note:\n",
    "\n",
    "---\n",
    "**HISORICAL MARK**\n",
    "\n",
    "It works with almost all markdown flavours (the below blank line matters).\n",
    "\n",
    "---\n",
    "\n",
    "After this aside, we resume our discussion."
   ]
  },
  {
   "cell_type": "markdown",
   "id": "wrong-petersburg",
   "metadata": {},
   "source": [
    "## Backquotes:\n",
    "\n",
    "```\n",
    "And now we make a backquote comment. See below.\n",
    "\n",
    "> **_NOTE:_**  The note content.\n",
    "\n",
    "Text after the comment.\n",
    "```"
   ]
  },
  {
   "cell_type": "markdown",
   "id": "athletic-surgeon",
   "metadata": {},
   "source": [
    "And now we make a backquote comment. See below.\n",
    "\n",
    "> **_NOTE:_**  The note content.\n",
    "\n",
    "Text after the comment."
   ]
  },
  {
   "cell_type": "markdown",
   "id": "national-criminal",
   "metadata": {},
   "source": [
    "## Multiline Backquotes\n",
    "\n",
    "End line wiht `<br>` (or two to get a blank line):\n",
    "\n",
    "```\n",
    "> Lorem<br>\n",
    "ipsum<br><br>\n",
    "dolor sit amet\n",
    "```"
   ]
  },
  {
   "cell_type": "markdown",
   "id": "proved-bahrain",
   "metadata": {},
   "source": [
    "> Lorem<br>\n",
    "ipsum<br><br>\n",
    "dolor sit amet"
   ]
  },
  {
   "cell_type": "markdown",
   "id": "changed-waterproof",
   "metadata": {},
   "source": [
    "And now we make a backquote comment. See below.\n",
    "\n",
    "> **_NOTE:_**  A really long backquote. Apparently all one paragraph. Programmers use the grave accent symbol as a separate character (i.e., not combined with any letter) for a number of tasks. In this role, it is known as a backquote, or backtick.<br>\n",
    "To start a new paragraph, end the previous one with `<br>`:<br>\n",
    "Or two, to get a blank line.<br><br>\n",
    "Many of the Unix shells and the programming languages Perl, PHP, and Ruby use pairs of this character to indicate command substitution, that is, substitution of the standard output from one command into a line of text defining another command. For example, using $ as the symbol representing a terminal prompt, the code line.\n",
    "\n",
    "Text after the comment."
   ]
  },
  {
   "cell_type": "markdown",
   "id": "representative-validity",
   "metadata": {},
   "source": []
  },
  {
   "cell_type": "code",
   "execution_count": null,
   "id": "centered-insider",
   "metadata": {},
   "outputs": [],
   "source": []
  }
 ],
 "metadata": {
  "kernelspec": {
   "display_name": "IoT",
   "language": "python",
   "name": "iot_kernel"
  },
  "language_info": {
   "codemirror_mode": {
    "name": "python",
    "version": 3
   },
   "file_extension": ".py",
   "mimetype": "text/x-python",
   "name": "python",
   "pygments_lexer": "python3",
   "version": "3"
  }
 },
 "nbformat": 4,
 "nbformat_minor": 5
}
