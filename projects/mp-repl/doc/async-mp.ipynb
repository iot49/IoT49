{
 "cells": [
  {
   "cell_type": "markdown",
   "id": "sensitive-correspondence",
   "metadata": {},
   "source": [
    "# Wireless \"mp-REPL\"\n",
    "\n",
    "`mp` implements a server that executes code via `exec` (not the repl). `softreset` and `abort` are not available.\n",
    "\n",
    "**Note:** Connecting to the serial REPL aborts the running program and hence the mp server. This is particularly problematic with the Jupyter IoT kernel. The `%discover` and `%connect` magics scan and access serial ports to read the UID as part of automatic discovery. \n",
    "\n",
    "*Workaround:* no physical connection to the data part (power with a data-only cable, batter, ...).\n",
    "\n",
    "[Example: particle argon](../../boards/argon/docs/3_mp.ipynb)"
   ]
  },
  {
   "cell_type": "markdown",
   "id": "therapeutic-genetics",
   "metadata": {},
   "source": [
    "## startup\n",
    "\n",
    "Execute or add to `main.py`:"
   ]
  },
  {
   "cell_type": "code",
   "execution_count": null,
   "id": "selective-receiver",
   "metadata": {},
   "outputs": [],
   "source": [
    "%connect test-stm32\n",
    "%rsync\n",
    "%softreset\n",
    "\n",
    "import uasyncio as asyncio\n",
    "from mp import async_server\n",
    "\n",
    "async def blink():\n",
    "    import machine\n",
    "    led = machine.Pin(13, mode=machine.Pin.OUT)\n",
    "    while True:\n",
    "        led.on()\n",
    "        await asyncio.sleep(0.1)\n",
    "        led.off()\n",
    "        await asyncio.sleep(1.0)\n",
    "\n",
    "async def main():\n",
    "    # asyncio.create_task(blink())\n",
    "    print(\"start_async_server ...\")\n",
    "    await async_server.start_async_server()\n",
    "    print(\"forever ...\")\n",
    "    asyncio.get_event_loop().run_forever()\n",
    "\n",
    "asyncio.run(main())"
   ]
  },
  {
   "cell_type": "code",
   "execution_count": null,
   "id": "monthly-serbia",
   "metadata": {},
   "outputs": [],
   "source": [
    "%discover"
   ]
  },
  {
   "cell_type": "markdown",
   "id": "inner-surge",
   "metadata": {},
   "source": [
    "Now processor is available as `mp://...`.\n",
    "\n",
    "*Attention*: Connecting to serial port aborts main (and hence mp server)."
   ]
  },
  {
   "cell_type": "markdown",
   "id": "flexible-spare",
   "metadata": {},
   "source": [
    "## use ...\n",
    "\n",
    "Press reset button to run `main.py` ..."
   ]
  },
  {
   "cell_type": "code",
   "execution_count": null,
   "id": "expired-pencil",
   "metadata": {},
   "outputs": [],
   "source": [
    "%discover"
   ]
  },
  {
   "cell_type": "code",
   "execution_count": null,
   "id": "useful-stylus",
   "metadata": {},
   "outputs": [],
   "source": [
    "%connect test-argon mp"
   ]
  },
  {
   "cell_type": "code",
   "execution_count": null,
   "id": "institutional-scoop",
   "metadata": {},
   "outputs": [],
   "source": [
    "import sys\n",
    "\n",
    "print(\"platform\", sys.platform)\n",
    "\n",
    "for i in range(10):\n",
    "    print(i, i**2, i**3, i**4)"
   ]
  },
  {
   "cell_type": "code",
   "execution_count": null,
   "id": "funded-butterfly",
   "metadata": {},
   "outputs": [],
   "source": [
    "%rlist"
   ]
  },
  {
   "cell_type": "code",
   "execution_count": null,
   "id": "southern-original",
   "metadata": {},
   "outputs": [],
   "source": []
  }
 ],
 "metadata": {
  "kernelspec": {
   "display_name": "IoT",
   "language": "python",
   "name": "iot_kernel"
  },
  "language_info": {
   "codemirror_mode": {
    "name": "python",
    "version": 3
   },
   "file_extension": ".py",
   "mimetype": "text/x-python",
   "name": "python",
   "pygments_lexer": "python3",
   "version": "3"
  }
 },
 "nbformat": 4,
 "nbformat_minor": 5
}
