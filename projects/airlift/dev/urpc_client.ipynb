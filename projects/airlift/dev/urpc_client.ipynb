{
 "cells": [
  {
   "cell_type": "markdown",
   "metadata": {},
   "source": [
    "# URPC development"
   ]
  },
  {
   "cell_type": "code",
   "execution_count": 1,
   "metadata": {},
   "outputs": [
    {
     "name": "stdout",
     "output_type": "stream",
     "text": [
      "\u001b[0mtest-argon                     serial:///dev/cu.usbmodem1413101        \n",
      "\u001b[0mtest-esp32                     serial:///dev/cu.usbserial-0160B5B8     \n",
      "\u001b[0mtest-samd                      serial:///dev/cu.usbmodem1413201        \n",
      "\u001b[0mtest-stm32                     serial:///dev/cu.usbmodem208E307542522  \n",
      "\u001b[0mtest-stm32-cop                 serial:///dev/cu.usbserial-0143520E     \n",
      "\u001b[0m"
     ]
    }
   ],
   "source": [
    "%discover"
   ]
  },
  {
   "cell_type": "code",
   "execution_count": 1,
   "metadata": {},
   "outputs": [
    {
     "name": "stdout",
     "output_type": "stream",
     "text": [
      "\u001b[0mConnected to test-stm32 @ serial:///dev/cu.usbmodem208E307542522\n",
      "\u001b[0m\u001b[0m\u001b[32mDirectories match\n",
      "\u001b[0m\u001b[0m\u001b[0m\n",
      "\u001b[0m\u001b[46m\u001b[31m!!!!!!!!!!!!!!!!!!!!!!!!!!!!!!!\n",
      "\u001b[0m\u001b[46m\u001b[31m!!!!!   softreset ...     !!!!!\n",
      "\u001b[0m\u001b[46m\u001b[31m!!!!!!!!!!!!!!!!!!!!!!!!!!!!!!!\u001b[0m\n",
      "\n",
      "\u001b[0m"
     ]
    }
   ],
   "source": [
    "%connect test-stm32\n",
    "%rsync\n",
    "%softreset"
   ]
  },
  {
   "cell_type": "code",
   "execution_count": 1,
   "metadata": {},
   "outputs": [
    {
     "name": "stderr",
     "output_type": "stream",
     "text": [
      "dev-nrf: [Errno 2] could not open port /dev/cu.usbmodem1414201: [Errno 2] No such file or directory: '/dev/cu.usbmodem1414201'\u001b[0m"
     ]
    }
   ],
   "source": [
    "from urpc import *\n",
    "start_client(huzzah_uart()) "
   ]
  },
  {
   "cell_type": "code",
   "execution_count": 1,
   "metadata": {},
   "outputs": [
    {
     "name": "stdout",
     "output_type": "stream",
     "text": [
      "urpc version V1\n",
      "platforms: host=nRF52840  server=esp32\n",
      "\u001b[0m"
     ]
    }
   ],
   "source": [
    "import sys\n",
    "sys_ = import_('sys')\n",
    "\n",
    "print(\"urpc version\", version_())\n",
    "print(\"platforms: host={}  server={}\".format(sys.platform, sys_.get('platform')))"
   ]
  },
  {
   "cell_type": "code",
   "execution_count": 1,
   "metadata": {},
   "outputs": [
    {
     "name": "stdout",
     "output_type": "stream",
     "text": [
      "before collect:\n",
      "\u001b[0m   6        <module 'sys'>\n",
      "   1        <module 'sys'>\n",
      "   2        <module 'sys'>\n",
      "   3        <module 'sys'>\n",
      "   4        <module 'sys'>\n",
      "   5        <module 'sys'>\n",
      "after collect:\n",
      "   6        <module 'sys'>\n",
      "sys_ <module 'sys'>\n",
      "\u001b[0m"
     ]
    }
   ],
   "source": [
    "for i in range(5):\n",
    "    sys_ = import_('sys')\n",
    "\n",
    "print(\"before collect:\")\n",
    "for k,v in registry_().items():\n",
    "    print(\"   {:8} {}\".format(repr(k),v))\n",
    "    \n",
    "import gc\n",
    "gc.collect()\n",
    "\n",
    "print(\"after collect:\")\n",
    "for k,v in registry_().items():\n",
    "    print(\"   {:8} {}\".format(repr(k),v))\n",
    "    \n",
    "print(\"sys_\", sys_)"
   ]
  },
  {
   "cell_type": "code",
   "execution_count": 1,
   "metadata": {},
   "outputs": [
    {
     "name": "stdout",
     "output_type": "stream",
     "text": [
      "demo.a 5\n",
      "demo.upper THIS IS UPPER CASE!\n",
      "obj = <Demo id=1073651056 desc='my demo object'>\n",
      "\u001b[0mobj.add: 3 + 9 = 12\n",
      "obj.arg_demo: arg1=this is arg1, arg2=3.1415, kw1=kw1 default, kw2=custom kw2\n",
      "obj.desc: my demo object\n",
      "obj.desc: new value\n",
      "obj.new_attr: new value\n",
      "obj.new_attr: newly created attribute\n",
      "obj.dir: ('__class__', '__init__', '__module__', '__qualname__', '__str__', '__dict__', 'add', 'description', '_x', 'desc', 'arg_demo', 'dir_demo', 'echo', 'new_attr')\n",
      "obj.echo 12345\n",
      "obj.echo {'xyz': 'value of xyz', 'abc': 3.1415}\n",
      "\u001b[0m\n",
      "RPCError should be caught and reported:\n",
      "Traceback (most recent call last):\n",
      "  File \"/lib/urpc/async_server.py\", line 89, in async_serve\n",
      "  File \"/lib/urpc/async_server.py\", line 27, in cm\n",
      "AttributeError: 'Demo' object has no attribute 'foo'\n",
      "\n",
      "Registry:\n",
      "  6 <module 'sys'>\n",
      "  7 <module 'urpc_demo' from '/lib/urpc_demo.py'>\n",
      "  8 <Demo object at 3ffe9d70>\n",
      "\u001b[0m"
     ]
    }
   ],
   "source": [
    "# feature \"test\"\n",
    "\n",
    "demo = import_('urpc_demo')\n",
    "print(\"demo.a\", demo.get('a'))\n",
    "print(\"demo.upper\", demo.upper(\"this is upper case!\"))\n",
    "obj = demo.Demo(\"my demo object\")\n",
    "print(\"obj =\", obj)\n",
    "print(\"obj.add:\", obj.add(3,9))\n",
    "print(\"obj.arg_demo:\", obj.arg_demo('this is arg1', 3.1415, kw2='custom kw2'))\n",
    "print(\"obj.desc:\", obj.get('desc'))\n",
    "obj.set('desc', 'new value')\n",
    "print(\"obj.desc:\", obj.get('desc'))\n",
    "print(\"obj.new_attr:\", obj.get('desc'))\n",
    "obj.set('new_attr', 'newly created attribute')\n",
    "print(\"obj.new_attr:\", obj.get('new_attr'))\n",
    "print(\"obj.dir:\", obj.dir_demo())\n",
    "print(\"obj.echo\", obj.echo(12345))\n",
    "print(\"obj.echo\", obj.echo({'abc': 3.1415, 'xyz': 'value of xyz'}))\n",
    "\n",
    "try:\n",
    "    obj.foo(7)\n",
    "except RPCError as e:\n",
    "    print(\"\\nRPCError should be caught and reported:\\n{}\".format(e))\n",
    "    \n",
    "print(\"Registry:\")\n",
    "for k,v in registry_().items():\n",
    "    print(\"  {} {}\".format(k, v))"
   ]
  },
  {
   "cell_type": "code",
   "execution_count": 1,
   "metadata": {},
   "outputs": [
    {
     "name": "stdout",
     "output_type": "stream",
     "text": [
      "  [  0] registry size =   6, mem_free: host = 132928  server =  95040\n",
      "\u001b[0m  [  1] registry size =   8, mem_free: host = 123728  server =  90352\n",
      "\u001b[0m  [  2] registry size =  10, mem_free: host = 114464  server =  85536\n",
      "\u001b[0m  [  3] registry size =  12, mem_free: host = 105248  server =  80640\n",
      "\u001b[0m  [  4] registry size =  14, mem_free: host =  95728  server =  75440\n",
      "\u001b[0m  [  5] registry size =  16, mem_free: host =  86192  server =  70192\n",
      "\u001b[0m  [  6] registry size =  18, mem_free: host =  76272  server =  64576\n",
      "\u001b[0m  [  7] registry size =  20, mem_free: host =  66352  server =  58928\n",
      "host collect\n",
      "\u001b[0m  [  8] registry size =   5, mem_free: host = 132000  server =  50960\n",
      "server collect\n",
      "\u001b[0m  [  9] registry size =   7, mem_free: host = 122816  server =  91904\n",
      "\u001b[0m  [ 10] registry size =   9, mem_free: host = 113696  server =  87216\n",
      "\u001b[0m  [ 11] registry size =  11, mem_free: host = 104416  server =  82352\n",
      "\u001b[0m"
     ]
    }
   ],
   "source": [
    "# object lifetime\n",
    "\n",
    "import gc, os\n",
    "gc_ = import_('gc')\n",
    "\n",
    "gc.collect()\n",
    "gc_.collect()\n",
    "\n",
    "for i in range(12):\n",
    "    if i == 8: \n",
    "        print(\"host collect\")\n",
    "        gc.collect()\n",
    "    if i == 9:\n",
    "        print(\"server collect\")\n",
    "        gc_.collect()\n",
    "    demo = import_('urpc_demo')\n",
    "    data = bytes(os.urandom(1000))\n",
    "    obj = demo.Demo(\"obj # {:3}\".format(repr(data)))\n",
    "    print(\"  [{:3}] registry size = {:3d}, mem_free: host = {:6d}  server = {:6d}\".format(i, len(registry_()), gc.mem_free(), gc_.mem_free()))\n",
    "    del obj\n",
    "    try:\n",
    "        print(\"    obj =\", obj)\n",
    "    except NameError:\n",
    "        pass"
   ]
  },
  {
   "cell_type": "code",
   "execution_count": 1,
   "metadata": {},
   "outputs": [
    {
     "name": "stdout",
     "output_type": "stream",
     "text": [
      "[   0]         0.0 kB/s       306.8 requests/s\n",
      "[   1]         0.6 kB/s       306.0 requests/s\n",
      "\u001b[0m[   2]         0.9 kB/s       216.9 requests/s\n",
      "[   4]         2.4 kB/s       300.1 requests/s\n",
      "\u001b[0m[   8]         4.8 kB/s       302.8 requests/s\n",
      "[  16]         9.5 kB/s       296.3 requests/s\n",
      "\u001b[0m[  32]        17.3 kB/s       269.9 requests/s\n",
      "[  64]        29.2 kB/s       227.9 requests/s\n",
      "\u001b[0m[ 128]        40.9 kB/s       159.6 requests/s\n",
      "\u001b[0m[ 256]        70.9 kB/s       138.6 requests/s\n",
      "\u001b[0m[ 512]        83.1 kB/s        81.1 requests/s\n",
      "\u001b[0m[1024]        88.9 kB/s        43.4 requests/s\n",
      "\u001b[0m[2048]        91.8 kB/s        22.4 requests/s\n",
      "\u001b[0m"
     ]
    }
   ],
   "source": [
    "# speed test\n",
    "\n",
    "import os, gc, iot\n",
    "\n",
    "N    = 10     # number of tests\n",
    "LEN  = [ 0, 1, 2, 4, 8, 16, 32, 64, 128, 256, 512, 1024, 2048 ]\n",
    "\n",
    "gc_  = import_('gc')\n",
    "demo = import_('urpc_demo')\n",
    "obj  = demo.Demo('speed test')\n",
    "\n",
    "for l in LEN:\n",
    "    data = bytes(os.urandom(l))\n",
    "    gc.collect()\n",
    "    gc_.collect()\n",
    "    with iot.Chronometer() as c:\n",
    "        for n in range(N):\n",
    "            assert data == obj.echo(data)\n",
    "    dt = c.elapsed_time\n",
    "    print(\"[{:4}]  {:10.1f} kB/s  {:10.1f} requests/s\".format(l, 2*l*N/dt/1000, N/dt))"
   ]
  },
  {
   "cell_type": "code",
   "execution_count": 1,
   "metadata": {},
   "outputs": [
    {
     "name": "stdout",
     "output_type": "stream",
     "text": [
      "     404.4 requests/s\n",
      "\u001b[0m"
     ]
    }
   ],
   "source": [
    "N = 100\n",
    "with iot.Chronometer() as c:\n",
    "    for n in range(N):\n",
    "        version_()\n",
    "dt = c.elapsed_time\n",
    "print(\"{:10.1f} requests/s\".format(N/dt))"
   ]
  },
  {
   "cell_type": "code",
   "execution_count": 1,
   "metadata": {},
   "outputs": [
    {
     "name": "stdout",
     "output_type": "stream",
     "text": [
      "   28743.9 requests/s\n",
      "\u001b[0m"
     ]
    }
   ],
   "source": [
    "import socket\n",
    "\n",
    "N = 100\n",
    "with iot.Chronometer() as c:\n",
    "    for n in range(N):\n",
    "        socket.AF_INET\n",
    "dt = c.elapsed_time\n",
    "print(\"{:10.1f} requests/s\".format(N/dt))"
   ]
  },
  {
   "cell_type": "code",
   "execution_count": 1,
   "metadata": {},
   "outputs": [
    {
     "name": "stdout",
     "output_type": "stream",
     "text": [
      "     226.7 requests/s\n",
      "\u001b[0m"
     ]
    }
   ],
   "source": [
    "socket_ = import_('socket')\n",
    "\n",
    "N = 100\n",
    "with iot.Chronometer() as c:\n",
    "    for n in range(N):\n",
    "        socket_.get(\"AF_INET\")\n",
    "dt = c.elapsed_time\n",
    "print(\"{:10.1f} requests/s\".format(N/dt))"
   ]
  },
  {
   "cell_type": "code",
   "execution_count": 1,
   "metadata": {},
   "outputs": [
    {
     "name": "stdout",
     "output_type": "stream",
     "text": [
      "     325.9 requests/s\n",
      "\u001b[0m"
     ]
    }
   ],
   "source": [
    "demo_ = import_('urpc_demo')\n",
    "obj = demo_.Demo(\"speedy\")\n",
    "\n",
    "N = 100\n",
    "with iot.Chronometer() as c:\n",
    "    for n in range(N):\n",
    "        obj.echo(None)\n",
    "dt = c.elapsed_time\n",
    "print(\"{:10.1f} requests/s\".format(N/dt))"
   ]
  },
  {
   "cell_type": "code",
   "execution_count": null,
   "metadata": {},
   "outputs": [],
   "source": []
  }
 ],
 "metadata": {
  "kernelspec": {
   "display_name": "IoT",
   "language": "python",
   "name": "iot_kernel"
  },
  "language_info": {
   "codemirror_mode": {
    "name": "python",
    "version": 3
   },
   "file_extension": ".py",
   "mimetype": "text/x-python",
   "name": "python",
   "pygments_lexer": "python3",
   "version": "3"
  }
 },
 "nbformat": 4,
 "nbformat_minor": 4
}
