{
 "cells": [
  {
   "cell_type": "markdown",
   "metadata": {},
   "source": [
    "# Test urpc socket"
   ]
  },
  {
   "cell_type": "code",
   "execution_count": 1,
   "metadata": {},
   "outputs": [
    {
     "name": "stdout",
     "output_type": "stream",
     "text": [
      "\u001b[0mtest-esp32                     serial:///dev/cu.usbserial-0160B5B8     \n",
      "\u001b[0mdev-nrf-cop                    serial:///dev/cu.usbserial-014352DD     \n",
      "\u001b[0mdev-nrf                        serial:///dev/cu.usbmodem1414201        \n",
      "\u001b[0m\u001b[0mConnected to dev-nrf @ serial:///dev/cu.usbmodem1414201\n",
      "\u001b[0m\u001b[0m\u001b[34mUPDATE  lib/urpc/client.py\n",
      "\u001b[0m\u001b[0m\u001b[0m\n",
      "\u001b[0m\u001b[46m\u001b[31m!!!!!!!!!!!!!!!!!!!!!!!!!!!!!!!\n",
      "\u001b[0m\u001b[46m\u001b[31m!!!!!   softreset ...     !!!!!\n",
      "\u001b[0m\u001b[46m\u001b[31m!!!!!!!!!!!!!!!!!!!!!!!!!!!!!!!\u001b[0m\n",
      "\n",
      "\u001b[0m"
     ]
    }
   ],
   "source": [
    "%discover\n",
    "%connect dev-nrf\n",
    "%rsync\n",
    "%softreset\n",
    "\n",
    "from urpc import *\n",
    "start_client(huzzah_uart()) "
   ]
  },
  {
   "cell_type": "code",
   "execution_count": 1,
   "metadata": {},
   "outputs": [
    {
     "name": "stdout",
     "output_type": "stream",
     "text": [
      "urpc version V1\n",
      "platforms: host=nRF52840  server=esp32\n",
      "\u001b[0m"
     ]
    }
   ],
   "source": [
    "import sys\n",
    "sys_ = import_('sys')\n",
    "\n",
    "print(\"urpc version\", version_())\n",
    "print(\"platforms: host={}  server={}\".format(sys.platform, sys_.get('platform')))"
   ]
  },
  {
   "cell_type": "code",
   "execution_count": 1,
   "metadata": {},
   "outputs": [
    {
     "name": "stdout",
     "output_type": "stream",
     "text": [
      "connect ...\n",
      "\u001b[0msendall ...\n",
      "recv ...\n",
      "urpc.client.readinto 256\n",
      "readinto 256\n",
      "\u001b[0m"
     ]
    }
   ],
   "source": [
    "import socket, time, os\n",
    "\n",
    "host = '10.39.40.114'\n",
    "port = 5678\n",
    "\n",
    "data = bytes(os.urandom(256))\n",
    "buffer = bytearray(len(data))\n",
    "\n",
    "s = socket.socket(socket.AF_INET, socket.SOCK_STREAM)\n",
    "s.settimeout(1)\n",
    "try:\n",
    "    print(\"connect ...\")\n",
    "    s.connect((host, port))\n",
    "    print(\"sendall ...\")\n",
    "    s.sendall(data)\n",
    "    print(\"recv ...\")\n",
    "    #print(\"received:\", s.recv(1024))\n",
    "    print(\"readinto\", s.readinto(buffer))\n",
    "    assert buffer == data\n",
    "finally:\n",
    "    s.close()"
   ]
  },
  {
   "cell_type": "code",
   "execution_count": 1,
   "metadata": {},
   "outputs": [
    {
     "name": "stdout",
     "output_type": "stream",
     "text": [
      "abcdefg\n",
      "\u001b[0m"
     ]
    }
   ],
   "source": [
    "import io\n",
    "\n",
    "data = b'abcdefg'\n",
    "\n",
    "b = io.StringIO()\n",
    "b.write(memoryview(data))\n",
    "print(b.getvalue())"
   ]
  },
  {
   "cell_type": "code",
   "execution_count": 1,
   "metadata": {},
   "outputs": [],
   "source": [
    "from array import array\n",
    "a = array('f', [1.4, 5.9, 3.1, -2.3])"
   ]
  },
  {
   "cell_type": "code",
   "execution_count": 1,
   "metadata": {},
   "outputs": [
    {
     "name": "stdout",
     "output_type": "stream",
     "text": [
      "array('f', [1.4, 5.9, 3.1, -2.3])\n",
      "\u001b[0m"
     ]
    }
   ],
   "source": [
    "print(a)"
   ]
  },
  {
   "cell_type": "code",
   "execution_count": 1,
   "metadata": {},
   "outputs": [
    {
     "name": "stdout",
     "output_type": "stream",
     "text": [
      "[3.1, -2.3]\u001b[0m\n",
      "\u001b[0m"
     ]
    }
   ],
   "source": [
    "print(list(memoryview(a)[2:]))"
   ]
  },
  {
   "cell_type": "code",
   "execution_count": null,
   "metadata": {},
   "outputs": [],
   "source": []
  }
 ],
 "metadata": {
  "kernelspec": {
   "display_name": "IoT",
   "language": "python",
   "name": "iot_kernel"
  },
  "language_info": {
   "codemirror_mode": {
    "name": "python",
    "version": 3
   },
   "file_extension": ".py",
   "mimetype": "text/x-python",
   "name": "python",
   "pygments_lexer": "python3",
   "version": "3"
  }
 },
 "nbformat": 4,
 "nbformat_minor": 4
}
