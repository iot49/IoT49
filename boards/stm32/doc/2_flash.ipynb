{
 "cells": [
  {
   "cell_type": "markdown",
   "metadata": {},
   "source": [
    "# Flash STM32 Firmware\n",
    "\n",
    "Short B0 to 3.3V & **press RESET**\n",
    "\n",
    "![Pinout](figures/stm32f405-flash.png \"Pinout\")\n"
   ]
  },
  {
   "cell_type": "markdown",
   "metadata": {},
   "source": [
    "## Micropython"
   ]
  },
  {
   "cell_type": "code",
   "execution_count": 2,
   "metadata": {},
   "outputs": [
    {
     "name": "stdout",
     "output_type": "stream",
     "text": [
      "dfu-util 0.10\n",
      "\n",
      "Copyright 2005-2009 Weston Schmidt, Harald Welte and OpenMoko Inc.\n",
      "Copyright 2010-2020 Tormod Volden and Stefan Schmidt\n",
      "This program is Free Software and has ABSOLUTELY NO WARRANTY\n",
      "Please report bugs to http://sourceforge.net/p/dfu-util/tickets/\n",
      "\n",
      "Match vendor ID from file: 0483\n",
      "Match product ID from file: df11\n",
      "Opening DFU capable USB device...\n",
      "ID 0483:df11\n",
      "Run-time device DFU version 011a\n",
      "Claiming USB DFU Interface...\n",
      "Setting Alternate Setting #0 ...\n",
      "Determining device status: state = dfuERROR, status = 10\n",
      "dfuERROR, clearing status\n",
      "Determining device status: state = dfuIDLE, status = 0\n",
      "dfuIDLE, continuing\n",
      "DFU mode device DFU version 011a\n",
      "Device returned transfer size 2048\n",
      "DfuSe interface name: \"Internal Flash  \"\n",
      "file contains 1 DFU images\n",
      "Please note that the next version of dfu-util will automatically\n",
      "set alternate interfaces based on the DfuSe file images!\n",
      "parsing DFU image 1\n",
      "Target name: ST...\n",
      "image for alternate setting 0, (2 elements, total size = 339272)\n",
      "parsing element 1, address = 0x08000000, size = 14792\n",
      "Erase   \t[=========================] 100%        14792 bytes\n",
      "Erase    done.\n",
      "Download\t[=========================] 100%        14792 bytes\n",
      "Download done.\n",
      "parsing element 2, address = 0x08020000, size = 324464\n",
      "Erase   \t[=========================] 100%       324464 bytes\n",
      "Erase    done.\n",
      "Download\t[=========================] 100%       324464 bytes\n",
      "Download done.\n",
      "Done parsing DfuSe file\n"
     ]
    }
   ],
   "source": [
    "%%bash\n",
    "\n",
    "cd $IOT/iot-bin/micropython\n",
    "\n",
    "# be patient! takes about a minute\n",
    "# no output before operation is complete\n",
    "\n",
    "dfu-util -a 0 -D stm32-ADAFRUIT_F405_EXPRESS-firmware.dfu"
   ]
  },
  {
   "cell_type": "code",
   "execution_count": null,
   "metadata": {},
   "outputs": [],
   "source": []
  }
 ],
 "metadata": {
  "kernelspec": {
   "display_name": "Python 3",
   "language": "python",
   "name": "python3"
  },
  "language_info": {
   "codemirror_mode": {
    "name": "ipython",
    "version": 3
   },
   "file_extension": ".py",
   "mimetype": "text/x-python",
   "name": "python",
   "nbconvert_exporter": "python",
   "pygments_lexer": "ipython3",
   "version": "3.8.2"
  }
 },
 "nbformat": 4,
 "nbformat_minor": 4
}
