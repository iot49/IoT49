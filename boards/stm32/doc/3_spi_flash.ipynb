{
 "cells": [
  {
   "cell_type": "markdown",
   "id": "bibliographic-reward",
   "metadata": {},
   "source": [
    "# SPI Flash\n",
    "\n",
    "* https://forum.micropython.org/viewtopic.php?f=12&t=9772&hilit=Ttmetro\n",
    "* https://github.com/peterhinch/micropython_eeprom/tree/master/flash\n",
    "\n",
    "| Function  | Pin  |\n",
    "| --------- |------|\n",
    "| SCK       | PB3  | \n",
    "| MOSI      | PB5  | \n",
    "| MISO      | PB4  | \n",
    "| CS        | PA15 | "
   ]
  },
  {
   "cell_type": "code",
   "execution_count": 1,
   "id": "square-robertson",
   "metadata": {},
   "outputs": [
    {
     "name": "stdout",
     "output_type": "stream",
     "text": [
      "\u001b[0mstm32  serial:///dev/cu.usbmodem2062307A42521  \u001b[0m\n",
      "\u001b[0mConnected to stm32 @ serial:///dev/cu.usbmodem2062307A42521\u001b[0m\n",
      "\u001b[0m                            \u001b[32mflash/\u001b[0m\n",
      "\u001b[0m"
     ]
    }
   ],
   "source": [
    "%discover\n",
    "%connect stm32  \n",
    "%rlist"
   ]
  },
  {
   "cell_type": "markdown",
   "id": "material-pulse",
   "metadata": {},
   "source": [
    "## Optional: convert `/flash` to `little_fs`\n",
    "\n",
    "**ATTENTION:** Erases '/flash'"
   ]
  },
  {
   "cell_type": "code",
   "execution_count": 1,
   "id": "waiting-dover",
   "metadata": {},
   "outputs": [
    {
     "name": "stdout",
     "output_type": "stream",
     "text": [
      "(\u001b[0m5\u001b[0m1\u001b[0m2\u001b[0m,\u001b[0m \u001b[0m5\u001b[0m1\u001b[0m2\u001b[0m,\u001b[0m \u001b[0m2\u001b[0m2\u001b[0m4\u001b[0m,\u001b[0m \u001b[0m2\u001b[0m2\u001b[0m2\u001b[0m,\u001b[0m \u001b[0m2\u001b[0m2\u001b[0m2\u001b[0m,\u001b[0m \u001b[0m0\u001b[0m,\u001b[0m \u001b[0m0\u001b[0m,\u001b[0m \u001b[0m0\u001b[0m,\u001b[0m \u001b[0m0\u001b[0m,\u001b[0m \u001b[0m2\u001b[0m5\u001b[0m5\u001b[0m)\u001b[0m\n",
      "\u001b[0m"
     ]
    }
   ],
   "source": [
    "import os\n",
    "\n",
    "os.umount('/flash')\n",
    "os.VfsLfs2.mkfs(pyb.Flash(start=0))\n",
    "os.mount(pyb.Flash(start=0), '/flash')\n",
    "os.chdir('/flash')\n",
    "print(os.statvfs('/flash'))"
   ]
  },
  {
   "cell_type": "markdown",
   "id": "extra-zoning",
   "metadata": {},
   "source": [
    "## First time only: create `/spi` filesystem\n",
    "\n",
    "**ATTENTION:** Erases '/spi'"
   ]
  },
  {
   "cell_type": "code",
   "execution_count": 1,
   "id": "lined-missile",
   "metadata": {},
   "outputs": [
    {
     "name": "stdout",
     "output_type": "stream",
     "text": [
      "\u001b[0m"
     ]
    },
    {
     "name": "stderr",
     "output_type": "stream",
     "text": [
      "Traceback (most recent call last):\n",
      "  File \"<stdin>\", line 1, in <module>\n",
      "  File \"<string>\", line 1, in <module>\n",
      "  File \"<string>\", line 5, in makedirs\n",
      "OSError: [Errno 19] ENODEV\n",
      "\u001b[0m\n"
     ]
    }
   ],
   "source": [
    "# load software\n",
    "\n",
    "%rsync"
   ]
  },
  {
   "cell_type": "code",
   "execution_count": 1,
   "id": "julian-camera",
   "metadata": {},
   "outputs": [
    {
     "name": "stdout",
     "output_type": "stream",
     "text": [
      "\u001b[0m\u001b[0m\n",
      "\u001b[46m\u001b[31m!!!!!!!!!!!!!!!!!!!!!!!!!!!!!!!\u001b[0m\n",
      "\u001b[46m\u001b[31m!!!!!   softreset ...     !!!!!\u001b[0m\n",
      "\u001b[46m\u001b[31m!!!!!!!!!!!!!!!!!!!!!!!!!!!!!!!\u001b[0m\n",
      "\u001b[0m\n"
     ]
    }
   ],
   "source": [
    "%softreset"
   ]
  },
  {
   "cell_type": "code",
   "execution_count": 1,
   "id": "collected-example",
   "metadata": {},
   "outputs": [
    {
     "name": "stdout",
     "output_type": "stream",
     "text": [
      "1\u001b[0m \u001b[0mc\u001b[0mh\u001b[0mi\u001b[0mp\u001b[0ms\u001b[0m \u001b[0md\u001b[0me\u001b[0mt\u001b[0me\u001b[0mc\u001b[0mt\u001b[0me\u001b[0md\u001b[0m.\u001b[0m \u001b[0mT\u001b[0mo\u001b[0mt\u001b[0ma\u001b[0ml\u001b[0m \u001b[0mf\u001b[0ml\u001b[0ma\u001b[0ms\u001b[0mh\u001b[0m \u001b[0ms\u001b[0mi\u001b[0mz\u001b[0me\u001b[0m \u001b[0m2\u001b[0mM\u001b[0mi\u001b[0mB\u001b[0m.\u001b[0m\n",
      "\u001b[0m"
     ]
    }
   ],
   "source": [
    "# access flash chip\n",
    "\n",
    "from machine import SPI, Pin\n",
    "from flash_spi import FLASH\n",
    "import os\n",
    "\n",
    "spi = SPI(1, baudrate=10_000_000, polarity=1, phase=1)\n",
    "cspins = (Pin('FLASH_CS', Pin.OUT, value=1),)\n",
    "flash = FLASH(spi, cspins)\n",
    "\n",
    "# create filesystem\n",
    "\n",
    "os.VfsLfs2.mkfs(flash)\n",
    "\n",
    "# mount /spi\n",
    "\n",
    "os.mount(flash, \"/spi\")"
   ]
  },
  {
   "cell_type": "code",
   "execution_count": 1,
   "id": "dressed-entrepreneur",
   "metadata": {},
   "outputs": [
    {
     "name": "stdout",
     "output_type": "stream",
     "text": [
      " \u001b[0m \u001b[0m \u001b[0m \u001b[0m9\u001b[0m4\u001b[0m \u001b[0mk\u001b[0mB\u001b[0m \u001b[0m \u001b[0m \u001b[0m \u001b[0m \u001b[0m \u001b[0m(\u001b[0m5\u001b[0m1\u001b[0m2\u001b[0m,\u001b[0m \u001b[0m5\u001b[0m1\u001b[0m2\u001b[0m,\u001b[0m \u001b[0m2\u001b[0m2\u001b[0m4\u001b[0m,\u001b[0m \u001b[0m1\u001b[0m8\u001b[0m9\u001b[0m,\u001b[0m \u001b[0m1\u001b[0m8\u001b[0m9\u001b[0m,\u001b[0m \u001b[0m0\u001b[0m,\u001b[0m \u001b[0m0\u001b[0m,\u001b[0m \u001b[0m0\u001b[0m,\u001b[0m \u001b[0m0\u001b[0m,\u001b[0m \u001b[0m2\u001b[0m5\u001b[0m5\u001b[0m)\u001b[0m\n",
      "\u001b[0m \u001b[0m \u001b[0m2\u001b[0m0\u001b[0m4\u001b[0m7\u001b[0m \u001b[0mk\u001b[0mB\u001b[0m \u001b[0m \u001b[0m \u001b[0m \u001b[0m \u001b[0m \u001b[0m(\u001b[0m5\u001b[0m1\u001b[0m2\u001b[0m,\u001b[0m \u001b[0m5\u001b[0m1\u001b[0m2\u001b[0m,\u001b[0m \u001b[0m4\u001b[0m0\u001b[0m9\u001b[0m6\u001b[0m,\u001b[0m \u001b[0m4\u001b[0m0\u001b[0m9\u001b[0m4\u001b[0m,\u001b[0m \u001b[0m4\u001b[0m0\u001b[0m9\u001b[0m4\u001b[0m,\u001b[0m \u001b[0m0\u001b[0m,\u001b[0m \u001b[0m0\u001b[0m,\u001b[0m \u001b[0m0\u001b[0m,\u001b[0m \u001b[0m0\u001b[0m,\u001b[0m \u001b[0m2\u001b[0m5\u001b[0m5\u001b[0m)\u001b[0m\n",
      "\u001b[0m"
     ]
    }
   ],
   "source": [
    "import os\n",
    "for r in ['/flash', '/spi']:\n",
    "    s = os.statvfs(r)\n",
    "    print(\"{:6} kB     \".format(int(s[1]*s[3]/1024)), s)"
   ]
  },
  {
   "cell_type": "code",
   "execution_count": 1,
   "id": "julian-runner",
   "metadata": {},
   "outputs": [
    {
     "name": "stdout",
     "output_type": "stream",
     "text": [
      "\u001b[0m                            \u001b[32mflash/\u001b[0m\n",
      "\u001b[0m    372  Feb 25 17:17 2021      \u001b[34mboot.py\u001b[0m\n",
      "\u001b[0m                                \u001b[32mlib/\u001b[0m\n",
      "\u001b[0m   6644  Feb 25 17:17 2021          \u001b[34mbdevice.py\u001b[0m\n",
      "\u001b[0m   6731  Feb 25 17:17 2021          \u001b[34mflash_spi.py\u001b[0m\n",
      "\u001b[0m                            \u001b[32mspi/\u001b[0m\n",
      "\u001b[0m                                \u001b[32mlib/\u001b[0m\n",
      "\u001b[0m   6491  Feb 25 17:18 2021          \u001b[34mbno055.py\u001b[0m\n",
      "\u001b[0m   5598  Feb 25 17:18 2021          \u001b[34mbno055_base.py\u001b[0m\n",
      "\u001b[0m   1078  Feb 25 17:18 2021          \u001b[34mbno055_test.py\u001b[0m\n",
      "\u001b[0m    244  Feb 25 17:18 2021          \u001b[34minit_urpc_client.py\u001b[0m\n",
      "\u001b[0m   2094  Feb 25 17:18 2021          \u001b[34mlogging.py\u001b[0m\n",
      "\u001b[0m   1174  Feb 25 17:18 2021          \u001b[34mneopixel.py\u001b[0m\n",
      "\u001b[0m    317  Feb 25 17:18 2021      \u001b[34msecrets.py\u001b[0m\n",
      "\u001b[0m"
     ]
    }
   ],
   "source": [
    "%rlist"
   ]
  },
  {
   "cell_type": "code",
   "execution_count": 1,
   "id": "cutting-jersey",
   "metadata": {},
   "outputs": [
    {
     "name": "stdout",
     "output_type": "stream",
     "text": [
      "\u001b[0m\u001b[32mDirectories match\n",
      "\u001b[0m\u001b[0m"
     ]
    }
   ],
   "source": [
    "%rdiff"
   ]
  },
  {
   "cell_type": "code",
   "execution_count": 1,
   "id": "billion-blogger",
   "metadata": {},
   "outputs": [
    {
     "name": "stdout",
     "output_type": "stream",
     "text": [
      "\u001b[0m\u001b[32mDirectories match\n",
      "\u001b[0m\u001b[0m"
     ]
    }
   ],
   "source": [
    "%rsync"
   ]
  },
  {
   "cell_type": "code",
   "execution_count": null,
   "id": "retired-operations",
   "metadata": {},
   "outputs": [],
   "source": []
  }
 ],
 "metadata": {
  "kernelspec": {
   "display_name": "IoT",
   "language": "python",
   "name": "iot_kernel"
  },
  "language_info": {
   "codemirror_mode": {
    "name": "python",
    "version": 3
   },
   "file_extension": ".py",
   "mimetype": "text/x-python",
   "name": "python",
   "pygments_lexer": "python3",
   "version": "3"
  }
 },
 "nbformat": 4,
 "nbformat_minor": 5
}
