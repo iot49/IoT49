{
 "cells": [
  {
   "cell_type": "markdown",
   "id": "romantic-coffee",
   "metadata": {},
   "source": [
    "# Setup Samba (File Server)\n",
    "\n",
    "```bash\n",
    "sudo apt-get install -y samba samba-common-bin\n",
    "sudo tee -a /etc/samba/smb.conf << EOF\n",
    "[iot49]\n",
    "path = /home/pi\n",
    "writeable=Yes\n",
    "create mask=0777\n",
    "directory mask=0777\n",
    "public=no\n",
    "EOF\n",
    "```\n",
    "\n",
    "Set samba password:\n",
    "\n",
    "```bash\n",
    "sudo smbpasswd -a pi\n",
    "```\n",
    "\n",
    "Restart samba service:\n",
    "\n",
    "```bash\n",
    "sudo systemctl restart smbd\n",
    "```\n",
    "\n",
    "Connect from another computer. E.g. for Mac:\n",
    "\n",
    "* Finder->Go->Connect To Server ...\n",
    "* smb://pidev.local\n",
    "* User: pi\n",
    "* Enter password\n",
    "* Select `iot49`"
   ]
  },
  {
   "cell_type": "markdown",
   "id": "funded-mounting",
   "metadata": {},
   "source": [
    "## Updating\n",
    "\n",
    "```bash\n",
    "sudo apt update\n",
    "sudo apt -y full-upgrade\n",
    "source /home/pi/.venv/jns/bin/activate\n",
    "# pip3 list --outdated\n",
    "cd ~/iot49\n",
    "git pull\n",
    "```"
   ]
  },
  {
   "cell_type": "markdown",
   "id": "equal-caution",
   "metadata": {},
   "source": [
    "## Backup\n",
    "\n",
    "* Syncthing\n",
    "\n",
    "* Good collection of options: https://raspberrytips.com/backup-raspberry-pi/\n",
    "\n",
    "* ApplePiBaker - Mac tool, apparently support compression, looks like good option: https://www.tweaking4all.com/software/macosx-software/applepi-baker-v2/\n",
    "\n",
    "* Mac command line: https://computers.tutsplus.com/articles/how-to-clone-raspberry-pi-sd-cards-using-the-command-line-in-os-x--mac-59911\n",
    "\n",
    "* Backup life SD card? https://github.com/raspberrypi-ui/piclone"
   ]
  },
  {
   "cell_type": "markdown",
   "id": "economic-reducing",
   "metadata": {},
   "source": [
    "## Troubleshooting\n",
    "\n",
    "### Startup\n",
    "\n",
    "The jupyter server takes a few minutes to start on the Raspberry Pi.\n",
    "\n",
    "### Chrome\n",
    "\n",
    "Allow insecure http (instead of https):\n",
    "\n",
    "1. Go to chrome://net-internals/#hsts. Enter `pidev.local` under Delete domain security policies and press the Delete button.\n",
    "\n",
    "2. Now go to chrome://settings/clearBrowserData, tick the box Cached images and files and press click the button Clear data.\n",
    "\n",
    "### Service\n",
    "\n",
    "Note: the jupyter service takes long to start up. Check status:\n",
    "\n",
    "```bash\n",
    "sudo systemctl status jupyter\n",
    "```\n",
    "\n",
    "```bash\n",
    "cat /etc/systemd/system/jupyter.service\n",
    "sudo systemctl enable jupyter\n",
    "sudo systemctl start jupyter\n",
    "sudo systemctl restart jupyter\n",
    "sudo systemctl stop jupyter\n",
    "sudo systemctl status jupyter\n",
    "```"
   ]
  },
  {
   "cell_type": "code",
   "execution_count": null,
   "id": "meaningful-trainer",
   "metadata": {},
   "outputs": [],
   "source": []
  }
 ],
 "metadata": {
  "kernelspec": {
   "display_name": "Python 3",
   "language": "python",
   "name": "python3"
  },
  "language_info": {
   "codemirror_mode": {
    "name": "ipython",
    "version": 3
   },
   "file_extension": ".py",
   "mimetype": "text/x-python",
   "name": "python",
   "nbconvert_exporter": "python",
   "pygments_lexer": "ipython3",
   "version": "3.7.3"
  }
 },
 "nbformat": 4,
 "nbformat_minor": 5
}
