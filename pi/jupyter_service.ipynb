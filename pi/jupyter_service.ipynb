{
 "cells": [
  {
   "cell_type": "markdown",
   "id": "seasonal-gentleman",
   "metadata": {},
   "source": [
    "# Jupyter Service\n",
    "\n",
    "Note: the jupyter service takes long to start up. Check status:\n",
    "\n",
    "```bash\n",
    "sudo systemctl status jupyter\n",
    "```\n",
    "\n",
    "```bash\n",
    "cat /etc/systemd/system/jupyter.service\n",
    "sudo systemctl enable jupyter\n",
    "sudo systemctl start jupyter\n",
    "sudo systemctl restart jupyter\n",
    "sudo systemctl stop jupyter\n",
    "sudo systemctl status jupyter\n",
    "```"
   ]
  },
  {
   "cell_type": "code",
   "execution_count": null,
   "id": "bibliographic-strategy",
   "metadata": {},
   "outputs": [],
   "source": []
  }
 ],
 "metadata": {
  "kernelspec": {
   "display_name": "Python 3",
   "language": "python",
   "name": "python3"
  },
  "language_info": {
   "codemirror_mode": {
    "name": "ipython",
    "version": 3
   },
   "file_extension": ".py",
   "mimetype": "text/x-python",
   "name": "python",
   "nbconvert_exporter": "python",
   "pygments_lexer": "ipython3",
   "version": "3.7.3"
  }
 },
 "nbformat": 4,
 "nbformat_minor": 5
}
